{
 "cells": [
  {
   "cell_type": "markdown",
   "metadata": {},
   "source": [
    "# HW 2\n",
    "## Titanic Survival Predictions\n",
    "In this dataset, you will train a logistic regression model that can predict the survivors based on a set of features about the passenger. Start first by taking sometime to understand your data. You can find more info about the data and its breakdown in this link https://www.kaggle.com/c/titanic/data"
   ]
  },
  {
   "cell_type": "markdown",
   "metadata": {},
   "source": [
    "### Start with Data Exploring\n",
    "Your data is split into two files. One for training and one for testing. Load both and find out the number of samples and features in each file"
   ]
  },
  {
   "cell_type": "code",
   "execution_count": 20,
   "metadata": {},
   "outputs": [
    {
     "data": {
      "text/plain": [
       "(891, 12)"
      ]
     },
     "execution_count": 20,
     "metadata": {},
     "output_type": "execute_result"
    },
    {
     "data": {
      "text/plain": [
       "(418, 11)"
      ]
     },
     "execution_count": 20,
     "metadata": {},
     "output_type": "execute_result"
    }
   ],
   "source": [
    "# import libraries\n",
    "from IPython.core.interactiveshell import InteractiveShell\n",
    "InteractiveShell.ast_node_interactivity = \"all\"\n",
    "import numpy as np\n",
    "import pandas as pd\n",
    "from sklearn.linear_model import LogisticRegression, LinearRegression\n",
    "from sklearn.model_selection import train_test_split\n",
    "from sklearn.preprocessing import StandardScaler\n",
    "from sklearn import metrics\n",
    "import matplotlib.pyplot as plt\n",
    "%matplotlib inline\n",
    "\n",
    "# read in the csv files \n",
    "training = pd.read_csv('train.csv')\n",
    "testing = pd.read_csv('test.csv')\n",
    "\n",
    "# get dimensions of the train and test sets\n",
    "# (num_obs, num_features)\n",
    "training.shape\n",
    "testing.shape"
   ]
  },
  {
   "cell_type": "markdown",
   "metadata": {},
   "source": [
    "How many survivors in the training set?"
   ]
  },
  {
   "cell_type": "code",
   "execution_count": 21,
   "metadata": {},
   "outputs": [
    {
     "data": {
      "text/plain": [
       "342"
      ]
     },
     "execution_count": 21,
     "metadata": {},
     "output_type": "execute_result"
    }
   ],
   "source": [
    "# count the survivors in the train set\n",
    "training.Survived.sum()"
   ]
  },
  {
   "cell_type": "markdown",
   "metadata": {},
   "source": [
    "Can you find Jack and Rose in the data? Use a code. You probably won't find them as they were fictional charachter. See if you can find Beatrice Irene Sandstorm? Read here about her https://www.encyclopedia-titanica.org/titanic-survivor/beatrice-irene-sandstrom.html"
   ]
  },
  {
   "cell_type": "code",
   "execution_count": 22,
   "metadata": {},
   "outputs": [
    {
     "data": {
      "text/plain": [
       "Series([], Name: Name, dtype: object)"
      ]
     },
     "execution_count": 22,
     "metadata": {},
     "output_type": "execute_result"
    },
    {
     "data": {
      "text/plain": [
       "Series([], Name: Name, dtype: object)"
      ]
     },
     "execution_count": 22,
     "metadata": {},
     "output_type": "execute_result"
    },
    {
     "data": {
      "text/plain": [
       "Series([], Name: Name, dtype: object)"
      ]
     },
     "execution_count": 22,
     "metadata": {},
     "output_type": "execute_result"
    },
    {
     "data": {
      "text/plain": [
       "Series([], Name: Name, dtype: object)"
      ]
     },
     "execution_count": 22,
     "metadata": {},
     "output_type": "execute_result"
    },
    {
     "data": {
      "text/plain": [
       "Series([], Name: Name, dtype: object)"
      ]
     },
     "execution_count": 22,
     "metadata": {},
     "output_type": "execute_result"
    },
    {
     "data": {
      "text/plain": [
       "117    Sandstrom, Miss. Beatrice Irene\n",
       "Name: Name, dtype: object"
      ]
     },
     "execution_count": 22,
     "metadata": {},
     "output_type": "execute_result"
    }
   ],
   "source": [
    "# check train and test sets for name = Jack\n",
    "training[training['Name']=='Jack'].Name\n",
    "testing[testing['Name']=='Jack'].Name\n",
    "\n",
    "# check train and test sets for name = Rose\n",
    "training[training['Name']=='Rose'].Name\n",
    "testing[testing['Name']=='Rose'].Name\n",
    "\n",
    "# check train and test sets for name = Beatrice Irene Sandstrom\n",
    "training[training['Name']=='Sandstrom, Miss. Beatrice Irene'].Name\n",
    "testing[testing['Name']=='Sandstrom, Miss. Beatrice Irene'].Name\n",
    "\n",
    "# she is in the test set, row 117"
   ]
  },
  {
   "cell_type": "markdown",
   "metadata": {},
   "source": [
    "### Does features make difference?\n",
    "In the training dataset \n",
    "- Pclass - Usually, higher class (class 1) meant a more expensive fare and the other classes paid lesser to be on the ship. What was the survival rate per class?\n",
    "- Sex  -  What was the survival rate of women?\n",
    "- SibSp  -  What was the survival rate based on number of siblings the passenger had on the ship?\n",
    "- Parch  - What was the survival rate based on number of parents/children the passenger had on the ship?"
   ]
  },
  {
   "cell_type": "code",
   "execution_count": 23,
   "metadata": {},
   "outputs": [
    {
     "data": {
      "text/plain": [
       "Pclass\n",
       "1    62.962963\n",
       "2    47.282609\n",
       "3    24.236253\n",
       "Name: Survived, dtype: float64"
      ]
     },
     "execution_count": 23,
     "metadata": {},
     "output_type": "execute_result"
    },
    {
     "data": {
      "text/plain": [
       "Sex\n",
       "female    74.203822\n",
       "male      18.890815\n",
       "Name: Survived, dtype: float64"
      ]
     },
     "execution_count": 23,
     "metadata": {},
     "output_type": "execute_result"
    },
    {
     "data": {
      "text/plain": [
       "SibSp\n",
       "0    34.539474\n",
       "1    53.588517\n",
       "2    46.428571\n",
       "3    25.000000\n",
       "4    16.666667\n",
       "Name: Survived, dtype: float64"
      ]
     },
     "execution_count": 23,
     "metadata": {},
     "output_type": "execute_result"
    },
    {
     "data": {
      "text/plain": [
       "Parch\n",
       "0    34.365782\n",
       "1    55.084746\n",
       "2    50.000000\n",
       "3    60.000000\n",
       "5    20.000000\n",
       "Name: Survived, dtype: float64"
      ]
     },
     "execution_count": 23,
     "metadata": {},
     "output_type": "execute_result"
    }
   ],
   "source": [
    "# rates are shown as percentages\n",
    "# what was the survival rate per class?\n",
    "a = training.groupby(by=['Survived','Pclass']).Survived.count()\n",
    "(a/a.groupby(by='Pclass').sum()*100)[1]\n",
    "\n",
    "# what was the survival rate of women?\n",
    "b = training.groupby(by=['Survived','Sex']).Survived.count()\n",
    "(b/b.groupby(by='Sex').sum()*100)[1]\n",
    "\n",
    "# what was the survival rate based on number of siblings the passenger had on the ship?\n",
    "c = training.groupby(by=['Survived','SibSp']).Survived.count()\n",
    "(c/c.groupby(by='SibSp').sum()*100)[1]\n",
    "\n",
    "#  what was the survival rate based on number of parents/children the passenger had on the ship?\n",
    "d = training.groupby(by=['Survived','Parch']).Survived.count()\n",
    "(d/d.groupby(by='Parch').sum()*100)[1]"
   ]
  },
  {
   "cell_type": "markdown",
   "metadata": {},
   "source": [
    "Plot two histogram based on the age. One for the survivors and other for non survivors. According to the histogram was Jack more likely to survive or not survive and why?"
   ]
  },
  {
   "cell_type": "code",
   "execution_count": 24,
   "metadata": {},
   "outputs": [
    {
     "data": {
      "text/plain": [
       "array([<matplotlib.axes._subplots.AxesSubplot object at 0x000002CE2AD48BE0>,\n",
       "       <matplotlib.axes._subplots.AxesSubplot object at 0x000002CE2AD75208>],\n",
       "      dtype=object)"
      ]
     },
     "execution_count": 24,
     "metadata": {},
     "output_type": "execute_result"
    },
    {
     "data": {
      "image/png": "[encoded data removed]",
      "text/plain": [
       "<Figure size 1440x360 with 2 Axes>"
      ]
     },
     "metadata": {
      "needs_background": "light"
     },
     "output_type": "display_data"
    }
   ],
   "source": [
    "# plot the grouped histogram\n",
    "# 0 = Didn't survive, 1 = Survived\n",
    "training.Age.hist(by=training['Survived'],figsize=(20,5))\n",
    "\n",
    "# Jack was more likely to die, because more people in his age group (20 years old) died than survived"
   ]
  },
  {
   "cell_type": "markdown",
   "metadata": {},
   "source": [
    "Divide the age histograms on a 3 X 2 subplots. Left column is for non survival data and the right one is for survivors. Each row is for one of the three PClasses"
   ]
  },
  {
   "cell_type": "code",
   "execution_count": 25,
   "metadata": {},
   "outputs": [
    {
     "data": {
      "text/plain": [
       "array([[<matplotlib.axes._subplots.AxesSubplot object at 0x000002CE2ADC4C50>,\n",
       "        <matplotlib.axes._subplots.AxesSubplot object at 0x000002CE2B0574A8>],\n",
       "       [<matplotlib.axes._subplots.AxesSubplot object at 0x000002CE2AE3DA90>,\n",
       "        <matplotlib.axes._subplots.AxesSubplot object at 0x000002CE2AE6F128>],\n",
       "       [<matplotlib.axes._subplots.AxesSubplot object at 0x000002CE2AE977B8>,\n",
       "        <matplotlib.axes._subplots.AxesSubplot object at 0x000002CE2AE977F0>]],\n",
       "      dtype=object)"
      ]
     },
     "execution_count": 25,
     "metadata": {},
     "output_type": "execute_result"
    },
    {
     "data": {
      "image/png": "[encoded data removed]",
      "text/plain": [
       "<Figure size 1440x1440 with 6 Axes>"
      ]
     },
     "metadata": {
      "needs_background": "light"
     },
     "output_type": "display_data"
    }
   ],
   "source": [
    "# plot the group histogram\n",
    "# (Pclass, Survived)\n",
    "training.Age.hist(by=[training['Pclass'],training['Survived']],figsize=(20,20))"
   ]
  },
  {
   "cell_type": "markdown",
   "metadata": {},
   "source": [
    "## Fix missing Data in the Training Dataset\n",
    "Which features in the training contains missing values? and how many missing values are there?"
   ]
  },
  {
   "cell_type": "code",
   "execution_count": 26,
   "metadata": {},
   "outputs": [
    {
     "data": {
      "text/plain": [
       "PassengerId      0\n",
       "Survived         0\n",
       "Pclass           0\n",
       "Name             0\n",
       "Sex              0\n",
       "Age            177\n",
       "SibSp            0\n",
       "Parch            0\n",
       "Ticket           0\n",
       "Fare             0\n",
       "Cabin          687\n",
       "Embarked         2\n",
       "dtype: int64"
      ]
     },
     "execution_count": 26,
     "metadata": {},
     "output_type": "execute_result"
    }
   ],
   "source": [
    "# check to see which featurees have nulls\n",
    "training.isna().sum()"
   ]
  },
  {
   "cell_type": "markdown",
   "metadata": {},
   "source": [
    "Find out the age median grouped by PClass and gender. Clean up the data by substituting the nans by the median from the corresponding PClass and gender"
   ]
  },
  {
   "cell_type": "code",
   "execution_count": 27,
   "metadata": {},
   "outputs": [
    {
     "data": {
      "text/plain": [
       "PassengerId      0\n",
       "Survived         0\n",
       "Pclass           0\n",
       "Name             0\n",
       "Sex              0\n",
       "Age              0\n",
       "SibSp            0\n",
       "Parch            0\n",
       "Ticket           0\n",
       "Fare             0\n",
       "Cabin          687\n",
       "Embarked         2\n",
       "dtype: int64"
      ]
     },
     "execution_count": 27,
     "metadata": {},
     "output_type": "execute_result"
    }
   ],
   "source": [
    "# get the medians per group and replace the nulls\n",
    "med_age_train = training.groupby(by=[training.Pclass, training.Sex]).Age.median()\n",
    "\n",
    "training.loc[((training.Age.isna()) & (training.Pclass==1) & (training.Sex=='female')), 'Age'] = med_age_train[1]['female']\n",
    "training.loc[((training.Age.isna()) & (training.Pclass==2) & (training.Sex=='female')), 'Age'] = med_age_train[2]['female']\n",
    "training.loc[((training.Age.isna()) & (training.Pclass==3) & (training.Sex=='female')), 'Age'] = med_age_train[3]['female']\n",
    "training.loc[((training.Age.isna()) & (training.Pclass==1) & (training.Sex=='male')), 'Age'] = med_age_train[1]['male']\n",
    "training.loc[((training.Age.isna()) & (training.Pclass==2) & (training.Sex=='male')), 'Age'] = med_age_train[2]['male'] \n",
    "training.loc[((training.Age.isna()) & (training.Pclass==3) & (training.Sex=='male')), 'Age'] = med_age_train[3]['male']\n",
    "\n",
    "training.isna().sum()"
   ]
  },
  {
   "cell_type": "markdown",
   "metadata": {},
   "source": [
    "For the Embarked column, substitute the missing value with the highest occurance value among the entire dataset"
   ]
  },
  {
   "cell_type": "code",
   "execution_count": 28,
   "metadata": {},
   "outputs": [
    {
     "data": {
      "text/plain": [
       "PassengerId      0\n",
       "Survived         0\n",
       "Pclass           0\n",
       "Name             0\n",
       "Sex              0\n",
       "Age              0\n",
       "SibSp            0\n",
       "Parch            0\n",
       "Ticket           0\n",
       "Fare             0\n",
       "Cabin          687\n",
       "Embarked         0\n",
       "dtype: int64"
      ]
     },
     "execution_count": 28,
     "metadata": {},
     "output_type": "execute_result"
    }
   ],
   "source": [
    "# get the mode and replace the nulls \n",
    "from statistics import mode \n",
    "training.loc[training.Embarked.isna(), 'Embarked'] = mode(training.Embarked)\n",
    "training.isna().sum()                      "
   ]
  },
  {
   "cell_type": "markdown",
   "metadata": {},
   "source": [
    "# Let's do our Model\n",
    "Cabin, Name, ticket and Passenger Id are not important to our ML model. Let's get rid of them"
   ]
  },
  {
   "cell_type": "code",
   "execution_count": 29,
   "metadata": {},
   "outputs": [],
   "source": [
    "# drop unimportant features\n",
    "training.drop(columns=['Cabin','Name','Ticket','PassengerId'], inplace=True)"
   ]
  },
  {
   "cell_type": "markdown",
   "metadata": {},
   "source": [
    "Make sure now that your data does not have any nulls"
   ]
  },
  {
   "cell_type": "code",
   "execution_count": 30,
   "metadata": {},
   "outputs": [
    {
     "data": {
      "text/plain": [
       "Survived    0\n",
       "Pclass      0\n",
       "Sex         0\n",
       "Age         0\n",
       "SibSp       0\n",
       "Parch       0\n",
       "Fare        0\n",
       "Embarked    0\n",
       "dtype: int64"
      ]
     },
     "execution_count": 30,
     "metadata": {},
     "output_type": "execute_result"
    }
   ],
   "source": [
    "# check to see which featurees have nulls\n",
    "training.isna().sum() "
   ]
  },
  {
   "cell_type": "markdown",
   "metadata": {},
   "source": [
    "We need to convert some of our features to categories and numbers instead of letters as logistic regression model won't be able to decode them. Map the embarked variable into 0,1, and 2 and the sex variable into 0 and 1\n",
    "\n",
    "% hint: `df_train['Embarked'].astype('category').cat.codes`"
   ]
  },
  {
   "cell_type": "code",
   "execution_count": 31,
   "metadata": {},
   "outputs": [],
   "source": [
    "# convert categories into numerical values\n",
    "training.Embarked = training.Embarked.astype('category').cat.codes\n",
    "training.Sex = training.Sex.astype('category').cat.codes"
   ]
  },
  {
   "cell_type": "markdown",
   "metadata": {},
   "source": [
    "You are now ready to build a logistic regression model and fit it "
   ]
  },
  {
   "cell_type": "code",
   "execution_count": 32,
   "metadata": {},
   "outputs": [],
   "source": [
    "# split the features from the label/target\n",
    "feature = training.drop(columns=['Survived'])\n",
    "target = training.Survived\n",
    "\n",
    "# build and fit the model\n",
    "model = LogisticRegression().fit(feature, target)"
   ]
  },
  {
   "cell_type": "markdown",
   "metadata": {},
   "source": [
    "Show the training score. "
   ]
  },
  {
   "cell_type": "code",
   "execution_count": 33,
   "metadata": {},
   "outputs": [
    {
     "data": {
      "text/plain": [
       "0.8047138047138047"
      ]
     },
     "execution_count": 33,
     "metadata": {},
     "output_type": "execute_result"
    },
    {
     "data": {
      "text/plain": [
       "array([[-0.87746192, -2.45961747, -0.03038375, -0.30715022, -0.07641485,\n",
       "         0.00453856, -0.12066927]])"
      ]
     },
     "execution_count": 33,
     "metadata": {},
     "output_type": "execute_result"
    },
    {
     "data": {
      "text/plain": [
       "array([4.0936783])"
      ]
     },
     "execution_count": 33,
     "metadata": {},
     "output_type": "execute_result"
    }
   ],
   "source": [
    "# print score, coefficients, and intercept\n",
    "model.score(feature, target)\n",
    "model.coef_\n",
    "model.intercept_"
   ]
  },
  {
   "cell_type": "markdown",
   "metadata": {},
   "source": [
    "What are the coefficients. Make a plot that shows the importance of each feature in your model"
   ]
  },
  {
   "cell_type": "code",
   "execution_count": 34,
   "metadata": {},
   "outputs": [
    {
     "data": {
      "text/plain": [
       "<Figure size 720x360 with 0 Axes>"
      ]
     },
     "execution_count": 34,
     "metadata": {},
     "output_type": "execute_result"
    },
    {
     "data": {
      "text/plain": [
       "<BarContainer object of 7 artists>"
      ]
     },
     "execution_count": 34,
     "metadata": {},
     "output_type": "execute_result"
    },
    {
     "data": {
      "image/png": "[encoded data removed]",
      "text/plain": [
       "<Figure size 720x360 with 1 Axes>"
      ]
     },
     "metadata": {
      "needs_background": "light"
     },
     "output_type": "display_data"
    }
   ],
   "source": [
    "# display the optimal weights by feature\n",
    "plt.figure(figsize=(10,5))\n",
    "plt.bar(feature.columns, model.coef_[0])"
   ]
  },
  {
   "cell_type": "markdown",
   "metadata": {},
   "source": [
    "Use the logistic regression model on the test data to predict who will survive. You may need to do same cleaning you have done in the training data to the test data"
   ]
  },
  {
   "cell_type": "code",
   "execution_count": 35,
   "metadata": {},
   "outputs": [
    {
     "data": {
      "text/plain": [
       "Pclass      0\n",
       "Sex         0\n",
       "Age         0\n",
       "SibSp       0\n",
       "Parch       0\n",
       "Fare        0\n",
       "Embarked    0\n",
       "dtype: int64"
      ]
     },
     "execution_count": 35,
     "metadata": {},
     "output_type": "execute_result"
    }
   ],
   "source": [
    "# clean testing data same as training data\n",
    "med_age_test = testing.groupby(by=[testing.Pclass, testing.Sex]).Age.median()\n",
    "\n",
    "testing.loc[((testing.Age.isna()) & (testing.Pclass==1) & (testing.Sex=='female')), 'Age'] = med_age_test[1]['female']\n",
    "testing.loc[((testing.Age.isna()) & (testing.Pclass==2) & (testing.Sex=='female')), 'Age'] = med_age_test[2]['female']\n",
    "testing.loc[((testing.Age.isna()) & (testing.Pclass==3) & (testing.Sex=='female')), 'Age'] = med_age_test[3]['female']\n",
    "testing.loc[((testing.Age.isna()) & (testing.Pclass==1) & (testing.Sex=='male')), 'Age'] = med_age_test[1]['male']\n",
    "testing.loc[((testing.Age.isna()) & (testing.Pclass==2) & (testing.Sex=='male')), 'Age'] = med_age_test[2]['male'] \n",
    "testing.loc[((testing.Age.isna()) & (testing.Pclass==3) & (testing.Sex=='male')), 'Age'] = med_age_test[3]['male']\n",
    "\n",
    "med_fare_test = testing.groupby(by=['Pclass']).Fare.median()\n",
    "testing.loc[((testing.Fare.isna()) & (testing.Pclass==1)), 'Fare'] = med_fare_test[1]\n",
    "testing.loc[((testing.Fare.isna()) & (testing.Pclass==2)), 'Fare'] = med_fare_test[2]\n",
    "testing.loc[((testing.Fare.isna()) & (testing.Pclass==3)), 'Fare'] = med_fare_test[3]\n",
    "\n",
    "# drop unimportant features\n",
    "testing.drop(columns=['Cabin','Name','Ticket','PassengerId'], inplace=True)\n",
    "\n",
    "# convert categories into numerical values\n",
    "testing.Embarked = testing.Embarked.astype('category').cat.codes\n",
    "testing.Sex = testing.Sex.astype('category').cat.codes\n",
    "\n",
    "# validating NaNs are cleared\n",
    "testing.isna().sum()"
   ]
  },
  {
   "cell_type": "markdown",
   "metadata": {},
   "source": [
    "How many will survive from the test dataset?"
   ]
  },
  {
   "cell_type": "code",
   "execution_count": 36,
   "metadata": {},
   "outputs": [
    {
     "data": {
      "text/plain": [
       "155"
      ]
     },
     "execution_count": 36,
     "metadata": {},
     "output_type": "execute_result"
    }
   ],
   "source": [
    "# predict using model and get the respective probabilities \n",
    "pred = model.predict(testing)\n",
    "prob = model.predict_proba(testing)\n",
    "\n",
    "# count testing survivors\n",
    "pred.sum()"
   ]
  },
  {
   "cell_type": "code",
   "execution_count": 37,
   "metadata": {},
   "outputs": [],
   "source": [
    "# this is the scaled version of the model"
   ]
  },
  {
   "cell_type": "code",
   "execution_count": 38,
   "metadata": {},
   "outputs": [
    {
     "data": {
      "text/plain": [
       "0.8080808080808081"
      ]
     },
     "execution_count": 38,
     "metadata": {},
     "output_type": "execute_result"
    },
    {
     "data": {
      "text/plain": [
       "1.0"
      ]
     },
     "execution_count": 38,
     "metadata": {},
     "output_type": "execute_result"
    },
    {
     "data": {
      "text/plain": [
       "156"
      ]
     },
     "execution_count": 38,
     "metadata": {},
     "output_type": "execute_result"
    },
    {
     "data": {
      "text/plain": [
       "array([[-0.97497661, -1.27988999, -0.56637168, -0.37452556, -0.07090765,\n",
       "         0.09214013, -0.15339128]])"
      ]
     },
     "execution_count": 38,
     "metadata": {},
     "output_type": "execute_result"
    },
    {
     "data": {
      "text/plain": [
       "array([-0.64209731])"
      ]
     },
     "execution_count": 38,
     "metadata": {},
     "output_type": "execute_result"
    }
   ],
   "source": [
    "# library that standardizes data\n",
    "from sklearn.preprocessing import StandardScaler\n",
    "scaler = StandardScaler().fit(feature)\n",
    "feature_scaled = scaler.transform(feature)\n",
    "\n",
    "# create a model with scaled values \n",
    "# see if it yields better results\n",
    "model_scaled = LogisticRegression().fit(feature_scaled, target)\n",
    "pred_scaled = model_scaled.predict(scaler.transform(testing))\n",
    "\n",
    "# scaled score for training and testing \n",
    "model_scaled.score(feature_scaled, target)\n",
    "model_scaled.score(scaler.transform(testing), pred_scaled)\n",
    "\n",
    "# predicted survivors\n",
    "pred_scaled.sum()\n",
    "\n",
    "# coefficient and intercept of scaled model\n",
    "model_scaled.coef_\n",
    "model_scaled.intercept_"
   ]
  }
 ],
 "metadata": {
  "kernelspec": {
   "display_name": "Python 3",
   "language": "python",
   "name": "python3"
  },
  "language_info": {
   "codemirror_mode": {
    "name": "ipython",
    "version": 3
   },
   "file_extension": ".py",
   "mimetype": "text/x-python",
   "name": "python",
   "nbconvert_exporter": "python",
   "pygments_lexer": "ipython3",
   "version": "3.7.3"
  }
 },
 "nbformat": 4,
 "nbformat_minor": 2
}
