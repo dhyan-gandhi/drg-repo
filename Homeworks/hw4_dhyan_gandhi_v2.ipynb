{
 "cells": [
  {
   "cell_type": "markdown",
   "metadata": {},
   "source": [
    "# HW4\n",
    "We will be working on a very cool problem which is classifying hand signs. In each image the hand is holding certain number of fingers up. The number of fingers held by the hand is the class number. The original dataset is in a format call h5 format. It is an efficient format to store and organize large amounts of data. [Click here to read more about it](https://en.wikipedia.org/wiki/Hierarchical_Data_Format). The following function `load_dataset()` is ready for you to use. It will return four variables in the following order: X_train, Y_train, X_test, Y_test. Hence, your data is already splitted and there is no need for you to split it.\n",
    "\n",
    "You can download the training datafile here https://drive.google.com/open?id=1vcbjJMj4RuuuqayUu40ScHJdSY4DZOrj\n",
    "\n",
    "You can download the test datafile here https://drive.google.com/open?id=1rQ1RCIBzw7ho_n6x0vbMzdZ8fAzi1hIQ\n",
    "\n",
    "Make sure you have both on the same directory as your notebook"
   ]
  },
  {
   "cell_type": "code",
   "execution_count": 1,
   "metadata": {},
   "outputs": [
    {
     "name": "stderr",
     "output_type": "stream",
     "text": [
      "Using TensorFlow backend.\n"
     ]
    }
   ],
   "source": [
    "# import libraries\n",
    "from IPython.core.interactiveshell import InteractiveShell\n",
    "InteractiveShell.ast_node_interactivity = \"all\"\n",
    "import numpy as np\n",
    "import pandas as pd\n",
    "from sklearn.linear_model import LogisticRegression, LinearRegression\n",
    "from sklearn.model_selection import train_test_split\n",
    "from sklearn.preprocessing import StandardScaler\n",
    "from sklearn import metrics\n",
    "import keras\n",
    "import matplotlib.pyplot as plt\n",
    "%matplotlib inline\n",
    "import h5py\n",
    "\n",
    "def load_dataset():\n",
    "    train_dataset = h5py.File('train_signs.h5', \"r\")\n",
    "    train_set_x_orig = np.array(train_dataset[\"train_set_x\"][:]) # your train set features\n",
    "    train_set_y_orig = np.array(train_dataset[\"train_set_y\"][:]) # your train set labels\n",
    "\n",
    "    test_dataset = h5py.File('test_signs.h5', \"r\")\n",
    "    test_set_x_orig = np.array(test_dataset[\"test_set_x\"][:]) # your test set features\n",
    "    test_set_y_orig = np.array(test_dataset[\"test_set_y\"][:]) # your test set labels\n",
    "\n",
    "    classes = np.array(test_dataset[\"list_classes\"][:]) # the list of classes\n",
    "    \n",
    "    train_set_y_orig = train_set_y_orig.reshape((train_set_y_orig.shape[0]),1)\n",
    "    test_set_y_orig = test_set_y_orig.reshape((test_set_y_orig.shape[0],1))\n",
    "    \n",
    "    return train_set_x_orig, train_set_y_orig, test_set_x_orig, test_set_y_orig"
   ]
  },
  {
   "cell_type": "markdown",
   "metadata": {},
   "source": [
    "load the dataset "
   ]
  },
  {
   "cell_type": "code",
   "execution_count": 2,
   "metadata": {},
   "outputs": [],
   "source": [
    "#load your dataset here\n",
    "\n",
    "# initialize train and test data with given function\n",
    "x_train, y_train, x_test, y_test = load_dataset()"
   ]
  },
  {
   "cell_type": "markdown",
   "metadata": {},
   "source": [
    "Generate 20 random numbers between 0 and the length of the training dataset. Plot 20 images from the dataset using these 20 random numbers as indicies to the training dataset. You will need to plot them on 5 rows and 4 columns. In addition, each image will have a title that says `this image belons to class number X`, replace X by the correct class number from the training labels."
   ]
  },
  {
   "cell_type": "code",
   "execution_count": 3,
   "metadata": {
    "scrolled": false
   },
   "outputs": [
    {
     "data": {
      "text/plain": [
       "<Figure size 3600x2880 with 0 Axes>"
      ]
     },
     "execution_count": 3,
     "metadata": {},
     "output_type": "execute_result"
    },
    {
     "data": {
      "text/plain": [
       "<matplotlib.axes._subplots.AxesSubplot at 0x1b0fb36a4e0>"
      ]
     },
     "execution_count": 3,
     "metadata": {},
     "output_type": "execute_result"
    },
    {
     "data": {
      "text/plain": [
       "<matplotlib.image.AxesImage at 0x1b084ad7b38>"
      ]
     },
     "execution_count": 3,
     "metadata": {},
     "output_type": "execute_result"
    },
    {
     "data": {
      "text/plain": [
       "Text(0.5, 1.0, 'This image belongs to class number [3]')"
      ]
     },
     "execution_count": 3,
     "metadata": {},
     "output_type": "execute_result"
    },
    {
     "data": {
      "text/plain": [
       "<matplotlib.axes._subplots.AxesSubplot at 0x1b084ac34a8>"
      ]
     },
     "execution_count": 3,
     "metadata": {},
     "output_type": "execute_result"
    },
    {
     "data": {
      "text/plain": [
       "<matplotlib.image.AxesImage at 0x1b084b14320>"
      ]
     },
     "execution_count": 3,
     "metadata": {},
     "output_type": "execute_result"
    },
    {
     "data": {
      "text/plain": [
       "Text(0.5, 1.0, 'This image belongs to class number [5]')"
      ]
     },
     "execution_count": 3,
     "metadata": {},
     "output_type": "execute_result"
    },
    {
     "data": {
      "text/plain": [
       "<matplotlib.axes._subplots.AxesSubplot at 0x1b084afac88>"
      ]
     },
     "execution_count": 3,
     "metadata": {},
     "output_type": "execute_result"
    },
    {
     "data": {
      "text/plain": [
       "<matplotlib.image.AxesImage at 0x1b084b3ab70>"
      ]
     },
     "execution_count": 3,
     "metadata": {},
     "output_type": "execute_result"
    },
    {
     "data": {
      "text/plain": [
       "Text(0.5, 1.0, 'This image belongs to class number [5]')"
      ]
     },
     "execution_count": 3,
     "metadata": {},
     "output_type": "execute_result"
    },
    {
     "data": {
      "text/plain": [
       "<matplotlib.axes._subplots.AxesSubplot at 0x1b084b3afd0>"
      ]
     },
     "execution_count": 3,
     "metadata": {},
     "output_type": "execute_result"
    },
    {
     "data": {
      "text/plain": [
       "<matplotlib.image.AxesImage at 0x1b084b6b400>"
      ]
     },
     "execution_count": 3,
     "metadata": {},
     "output_type": "execute_result"
    },
    {
     "data": {
      "text/plain": [
       "Text(0.5, 1.0, 'This image belongs to class number [0]')"
      ]
     },
     "execution_count": 3,
     "metadata": {},
     "output_type": "execute_result"
    },
    {
     "data": {
      "text/plain": [
       "<matplotlib.axes._subplots.AxesSubplot at 0x1b084b53d68>"
      ]
     },
     "execution_count": 3,
     "metadata": {},
     "output_type": "execute_result"
    },
    {
     "data": {
      "text/plain": [
       "<matplotlib.image.AxesImage at 0x1b084b91c50>"
      ]
     },
     "execution_count": 3,
     "metadata": {},
     "output_type": "execute_result"
    },
    {
     "data": {
      "text/plain": [
       "Text(0.5, 1.0, 'This image belongs to class number [5]')"
      ]
     },
     "execution_count": 3,
     "metadata": {},
     "output_type": "execute_result"
    },
    {
     "data": {
      "text/plain": [
       "<matplotlib.axes._subplots.AxesSubplot at 0x1b084b91e80>"
      ]
     },
     "execution_count": 3,
     "metadata": {},
     "output_type": "execute_result"
    },
    {
     "data": {
      "text/plain": [
       "<matplotlib.image.AxesImage at 0x1b084d744e0>"
      ]
     },
     "execution_count": 3,
     "metadata": {},
     "output_type": "execute_result"
    },
    {
     "data": {
      "text/plain": [
       "Text(0.5, 1.0, 'This image belongs to class number [3]')"
      ]
     },
     "execution_count": 3,
     "metadata": {},
     "output_type": "execute_result"
    },
    {
     "data": {
      "text/plain": [
       "<matplotlib.axes._subplots.AxesSubplot at 0x1b084bacd68>"
      ]
     },
     "execution_count": 3,
     "metadata": {},
     "output_type": "execute_result"
    },
    {
     "data": {
      "text/plain": [
       "<matplotlib.image.AxesImage at 0x1b084d98d68>"
      ]
     },
     "execution_count": 3,
     "metadata": {},
     "output_type": "execute_result"
    },
    {
     "data": {
      "text/plain": [
       "Text(0.5, 1.0, 'This image belongs to class number [4]')"
      ]
     },
     "execution_count": 3,
     "metadata": {},
     "output_type": "execute_result"
    },
    {
     "data": {
      "text/plain": [
       "<matplotlib.axes._subplots.AxesSubplot at 0x1b084d74748>"
      ]
     },
     "execution_count": 3,
     "metadata": {},
     "output_type": "execute_result"
    },
    {
     "data": {
      "text/plain": [
       "<matplotlib.image.AxesImage at 0x1b084dca5c0>"
      ]
     },
     "execution_count": 3,
     "metadata": {},
     "output_type": "execute_result"
    },
    {
     "data": {
      "text/plain": [
       "Text(0.5, 1.0, 'This image belongs to class number [1]')"
      ]
     },
     "execution_count": 3,
     "metadata": {},
     "output_type": "execute_result"
    },
    {
     "data": {
      "text/plain": [
       "<matplotlib.axes._subplots.AxesSubplot at 0x1b084da5f60>"
      ]
     },
     "execution_count": 3,
     "metadata": {},
     "output_type": "execute_result"
    },
    {
     "data": {
      "text/plain": [
       "<matplotlib.image.AxesImage at 0x1b084df0d30>"
      ]
     },
     "execution_count": 3,
     "metadata": {},
     "output_type": "execute_result"
    },
    {
     "data": {
      "text/plain": [
       "Text(0.5, 1.0, 'This image belongs to class number [5]')"
      ]
     },
     "execution_count": 3,
     "metadata": {},
     "output_type": "execute_result"
    },
    {
     "data": {
      "text/plain": [
       "<matplotlib.axes._subplots.AxesSubplot at 0x1b084dca828>"
      ]
     },
     "execution_count": 3,
     "metadata": {},
     "output_type": "execute_result"
    },
    {
     "data": {
      "text/plain": [
       "<matplotlib.image.AxesImage at 0x1b084e236a0>"
      ]
     },
     "execution_count": 3,
     "metadata": {},
     "output_type": "execute_result"
    },
    {
     "data": {
      "text/plain": [
       "Text(0.5, 1.0, 'This image belongs to class number [5]')"
      ]
     },
     "execution_count": 3,
     "metadata": {},
     "output_type": "execute_result"
    },
    {
     "data": {
      "text/plain": [
       "<matplotlib.axes._subplots.AxesSubplot at 0x1b084e13048>"
      ]
     },
     "execution_count": 3,
     "metadata": {},
     "output_type": "execute_result"
    },
    {
     "data": {
      "text/plain": [
       "<matplotlib.image.AxesImage at 0x1b084e4eef0>"
      ]
     },
     "execution_count": 3,
     "metadata": {},
     "output_type": "execute_result"
    },
    {
     "data": {
      "text/plain": [
       "Text(0.5, 1.0, 'This image belongs to class number [2]')"
      ]
     },
     "execution_count": 3,
     "metadata": {},
     "output_type": "execute_result"
    },
    {
     "data": {
      "text/plain": [
       "<matplotlib.axes._subplots.AxesSubplot at 0x1b084e23908>"
      ]
     },
     "execution_count": 3,
     "metadata": {},
     "output_type": "execute_result"
    },
    {
     "data": {
      "text/plain": [
       "<matplotlib.image.AxesImage at 0x1b084e7c780>"
      ]
     },
     "execution_count": 3,
     "metadata": {},
     "output_type": "execute_result"
    },
    {
     "data": {
      "text/plain": [
       "Text(0.5, 1.0, 'This image belongs to class number [4]')"
      ]
     },
     "execution_count": 3,
     "metadata": {},
     "output_type": "execute_result"
    },
    {
     "data": {
      "text/plain": [
       "<matplotlib.axes._subplots.AxesSubplot at 0x1b084e6a198>"
      ]
     },
     "execution_count": 3,
     "metadata": {},
     "output_type": "execute_result"
    },
    {
     "data": {
      "text/plain": [
       "<matplotlib.image.AxesImage at 0x1b084ea4fd0>"
      ]
     },
     "execution_count": 3,
     "metadata": {},
     "output_type": "execute_result"
    },
    {
     "data": {
      "text/plain": [
       "Text(0.5, 1.0, 'This image belongs to class number [4]')"
      ]
     },
     "execution_count": 3,
     "metadata": {},
     "output_type": "execute_result"
    },
    {
     "data": {
      "text/plain": [
       "<matplotlib.axes._subplots.AxesSubplot at 0x1b084e93898>"
      ]
     },
     "execution_count": 3,
     "metadata": {},
     "output_type": "execute_result"
    },
    {
     "data": {
      "text/plain": [
       "<matplotlib.image.AxesImage at 0x1b084ed5860>"
      ]
     },
     "execution_count": 3,
     "metadata": {},
     "output_type": "execute_result"
    },
    {
     "data": {
      "text/plain": [
       "Text(0.5, 1.0, 'This image belongs to class number [2]')"
      ]
     },
     "execution_count": 3,
     "metadata": {},
     "output_type": "execute_result"
    },
    {
     "data": {
      "text/plain": [
       "<matplotlib.axes._subplots.AxesSubplot at 0x1b084ec5208>"
      ]
     },
     "execution_count": 3,
     "metadata": {},
     "output_type": "execute_result"
    },
    {
     "data": {
      "text/plain": [
       "<matplotlib.image.AxesImage at 0x1b084f060f0>"
      ]
     },
     "execution_count": 3,
     "metadata": {},
     "output_type": "execute_result"
    },
    {
     "data": {
      "text/plain": [
       "Text(0.5, 1.0, 'This image belongs to class number [3]')"
      ]
     },
     "execution_count": 3,
     "metadata": {},
     "output_type": "execute_result"
    },
    {
     "data": {
      "text/plain": [
       "<matplotlib.axes._subplots.AxesSubplot at 0x1b084ed5ac8>"
      ]
     },
     "execution_count": 3,
     "metadata": {},
     "output_type": "execute_result"
    },
    {
     "data": {
      "text/plain": [
       "<matplotlib.image.AxesImage at 0x1b084f2b940>"
      ]
     },
     "execution_count": 3,
     "metadata": {},
     "output_type": "execute_result"
    },
    {
     "data": {
      "text/plain": [
       "Text(0.5, 1.0, 'This image belongs to class number [1]')"
      ]
     },
     "execution_count": 3,
     "metadata": {},
     "output_type": "execute_result"
    },
    {
     "data": {
      "text/plain": [
       "<matplotlib.axes._subplots.AxesSubplot at 0x1b084f1c2e8>"
      ]
     },
     "execution_count": 3,
     "metadata": {},
     "output_type": "execute_result"
    },
    {
     "data": {
      "text/plain": [
       "<matplotlib.image.AxesImage at 0x1b084f631d0>"
      ]
     },
     "execution_count": 3,
     "metadata": {},
     "output_type": "execute_result"
    },
    {
     "data": {
      "text/plain": [
       "Text(0.5, 1.0, 'This image belongs to class number [4]')"
      ]
     },
     "execution_count": 3,
     "metadata": {},
     "output_type": "execute_result"
    },
    {
     "data": {
      "text/plain": [
       "<matplotlib.axes._subplots.AxesSubplot at 0x1b084f45a58>"
      ]
     },
     "execution_count": 3,
     "metadata": {},
     "output_type": "execute_result"
    },
    {
     "data": {
      "text/plain": [
       "<matplotlib.image.AxesImage at 0x1b084f86940>"
      ]
     },
     "execution_count": 3,
     "metadata": {},
     "output_type": "execute_result"
    },
    {
     "data": {
      "text/plain": [
       "Text(0.5, 1.0, 'This image belongs to class number [3]')"
      ]
     },
     "execution_count": 3,
     "metadata": {},
     "output_type": "execute_result"
    },
    {
     "data": {
      "text/plain": [
       "<matplotlib.axes._subplots.AxesSubplot at 0x1b084f723c8>"
      ]
     },
     "execution_count": 3,
     "metadata": {},
     "output_type": "execute_result"
    },
    {
     "data": {
      "text/plain": [
       "<matplotlib.image.AxesImage at 0x1b084fb71d0>"
      ]
     },
     "execution_count": 3,
     "metadata": {},
     "output_type": "execute_result"
    },
    {
     "data": {
      "text/plain": [
       "Text(0.5, 1.0, 'This image belongs to class number [2]')"
      ]
     },
     "execution_count": 3,
     "metadata": {},
     "output_type": "execute_result"
    },
    {
     "data": {
      "text/plain": [
       "<matplotlib.axes._subplots.AxesSubplot at 0x1b084fa0c18>"
      ]
     },
     "execution_count": 3,
     "metadata": {},
     "output_type": "execute_result"
    },
    {
     "data": {
      "text/plain": [
       "<matplotlib.image.AxesImage at 0x1b084fdeb00>"
      ]
     },
     "execution_count": 3,
     "metadata": {},
     "output_type": "execute_result"
    },
    {
     "data": {
      "text/plain": [
       "Text(0.5, 1.0, 'This image belongs to class number [3]')"
      ]
     },
     "execution_count": 3,
     "metadata": {},
     "output_type": "execute_result"
    },
    {
     "data": {
      "image/png": "[encoded data removed]",
      "text/plain": [
       "<Figure size 3600x2880 with 20 Axes>"
      ]
     },
     "metadata": {
      "needs_background": "light"
     },
     "output_type": "display_data"
    }
   ],
   "source": [
    "# Plot here\n",
    "\n",
    "# generate 20 random integers for the plots\n",
    "rand = np.random.randint(low=0, high=len(x_train)-1, size=20).tolist()\n",
    "plt.figure(figsize=(50,40))\n",
    "\n",
    "# loop to iterate through the list and plot images\n",
    "for i in rand:\n",
    "    plt.subplot(5,4, rand.index(i)+1)\n",
    "    plt.imshow(x_train[i])\n",
    "    plt.title('This image belongs to class number {}'.format(y_train[i]))\n",
    "    \n",
    "# double click image plots to enlarge"
   ]
  },
  {
   "cell_type": "markdown",
   "metadata": {},
   "source": [
    "How many classes does the training and test dataset have?"
   ]
  },
  {
   "cell_type": "code",
   "execution_count": 4,
   "metadata": {},
   "outputs": [
    {
     "data": {
      "text/plain": [
       "array([0, 1, 2, 3, 4, 5], dtype=int64)"
      ]
     },
     "execution_count": 4,
     "metadata": {},
     "output_type": "execute_result"
    },
    {
     "data": {
      "text/plain": [
       "6"
      ]
     },
     "execution_count": 4,
     "metadata": {},
     "output_type": "execute_result"
    },
    {
     "data": {
      "text/plain": [
       "array([0, 1, 2, 3, 4, 5], dtype=int64)"
      ]
     },
     "execution_count": 4,
     "metadata": {},
     "output_type": "execute_result"
    },
    {
     "data": {
      "text/plain": [
       "6"
      ]
     },
     "execution_count": 4,
     "metadata": {},
     "output_type": "execute_result"
    }
   ],
   "source": [
    "# solve here\n",
    "\n",
    "# unique class values and count for training labels\n",
    "np.unique(y_train)\n",
    "len(np.unique(y_train))\n",
    "\n",
    "# unique class values and count for testing labels\n",
    "np.unique(y_test)\n",
    "len(np.unique(y_test))"
   ]
  },
  {
   "cell_type": "markdown",
   "metadata": {},
   "source": [
    "What is the dimension of the training dataset and test dataset?"
   ]
  },
  {
   "cell_type": "code",
   "execution_count": 5,
   "metadata": {},
   "outputs": [
    {
     "data": {
      "text/plain": [
       "(1080, 64, 64, 3)"
      ]
     },
     "execution_count": 5,
     "metadata": {},
     "output_type": "execute_result"
    },
    {
     "data": {
      "text/plain": [
       "(120, 64, 64, 3)"
      ]
     },
     "execution_count": 5,
     "metadata": {},
     "output_type": "execute_result"
    },
    {
     "data": {
      "text/plain": [
       "(1080, 1)"
      ]
     },
     "execution_count": 5,
     "metadata": {},
     "output_type": "execute_result"
    },
    {
     "data": {
      "text/plain": [
       "(120, 1)"
      ]
     },
     "execution_count": 5,
     "metadata": {},
     "output_type": "execute_result"
    }
   ],
   "source": [
    "# solve here\n",
    "\n",
    "# check the dimensions or the train and test set\n",
    "x_train_dim = x_train.shape\n",
    "x_test_dim = x_test.shape\n",
    "x_train_dim\n",
    "x_test_dim\n",
    "y_train.shape\n",
    "y_test.shape"
   ]
  },
  {
   "cell_type": "markdown",
   "metadata": {},
   "source": [
    "As you can see in the dimension (number_images X length X width X RGB), each image has 3 dimensions .. number of pixels in length and width as well as RGB contrast. We needed to flatten both the training and the test dataset so that we can feed to our ML models. To flatten an image, check the following link. https://stackoverflow.com/questions/36967920/numpy-flatten-rgb-image-array"
   ]
  },
  {
   "cell_type": "code",
   "execution_count": 6,
   "metadata": {},
   "outputs": [
    {
     "data": {
      "text/plain": [
       "(1080, 12288)"
      ]
     },
     "execution_count": 6,
     "metadata": {},
     "output_type": "execute_result"
    },
    {
     "data": {
      "text/plain": [
       "(120, 12288)"
      ]
     },
     "execution_count": 6,
     "metadata": {},
     "output_type": "execute_result"
    }
   ],
   "source": [
    "# solve here\n",
    "\n",
    "# caluclate the new width for train and test data\n",
    "x_train_dim_wid = x_train_dim[1]*x_train_dim[2]*x_train_dim[3]\n",
    "x_test_dim_wid = x_test_dim[1]*x_test_dim[2]*x_test_dim[3]\n",
    "\n",
    "# flatten and reshape train and test data\n",
    "x_train_pix = x_train.flatten().reshape(x_train_dim[0], x_train_dim_wid)\n",
    "x_test_pix = x_test.flatten().reshape(x_test_dim[0], x_test_dim_wid)\n",
    "\n",
    "# verify the reshaped dimensions\n",
    "x_train_pix.shape\n",
    "x_test_pix.shape"
   ]
  },
  {
   "cell_type": "markdown",
   "metadata": {},
   "source": [
    "Now we need to normalize the training and test dataset. The pixels are integers. We need them to be float between 0 and 1. You need to divide each of the two matrices by its max. That will produce a normalized image datasets"
   ]
  },
  {
   "cell_type": "code",
   "execution_count": 7,
   "metadata": {},
   "outputs": [
    {
     "data": {
      "text/plain": [
       "(1080, 12288)"
      ]
     },
     "execution_count": 7,
     "metadata": {},
     "output_type": "execute_result"
    },
    {
     "data": {
      "text/plain": [
       "(120, 12288)"
      ]
     },
     "execution_count": 7,
     "metadata": {},
     "output_type": "execute_result"
    },
    {
     "data": {
      "text/plain": [
       "(1080, 1)"
      ]
     },
     "execution_count": 7,
     "metadata": {},
     "output_type": "execute_result"
    },
    {
     "data": {
      "text/plain": [
       "(120, 1)"
      ]
     },
     "execution_count": 7,
     "metadata": {},
     "output_type": "execute_result"
    }
   ],
   "source": [
    "# Solve Here\n",
    "\n",
    "# divide matrices by respective max\n",
    "x_train_pix = x_train_pix/x_train_pix.max()\n",
    "x_test_pix = x_test_pix/x_test_pix.max()\n",
    "\n",
    "# verify the change to floats between 0 and 1\n",
    "x_train_pix.shape\n",
    "x_test_pix.shape\n",
    "y_train.shape\n",
    "y_test.shape"
   ]
  },
  {
   "cell_type": "markdown",
   "metadata": {},
   "source": [
    "Now you can apply ML. Start with a baseline model such as logistic regression. Fit the model, then evaluate the model by calculating the accuracy and the confusion matrix for the training data and test data. Note, fitting the model may take longer than a minute"
   ]
  },
  {
   "cell_type": "code",
   "execution_count": 8,
   "metadata": {},
   "outputs": [
    {
     "name": "stderr",
     "output_type": "stream",
     "text": [
      "E:\\Users\\Dhyan Gandhi\\Anaconda3\\lib\\site-packages\\sklearn\\linear_model\\logistic.py:433: FutureWarning: Default solver will be changed to 'lbfgs' in 0.22. Specify a solver to silence this warning.\n",
      "  FutureWarning)\n",
      "E:\\Users\\Dhyan Gandhi\\Anaconda3\\lib\\site-packages\\sklearn\\utils\\validation.py:761: DataConversionWarning: A column-vector y was passed when a 1d array was expected. Please change the shape of y to (n_samples, ), for example using ravel().\n",
      "  y = column_or_1d(y, warn=True)\n",
      "E:\\Users\\Dhyan Gandhi\\Anaconda3\\lib\\site-packages\\sklearn\\linear_model\\logistic.py:460: FutureWarning: Default multi_class will be changed to 'auto' in 0.22. Specify the multi_class option to silence this warning.\n",
      "  \"this warning.\", FutureWarning)\n"
     ]
    },
    {
     "data": {
      "text/plain": [
       "1.0"
      ]
     },
     "execution_count": 8,
     "metadata": {},
     "output_type": "execute_result"
    },
    {
     "data": {
      "text/plain": [
       "0.8916666666666667"
      ]
     },
     "execution_count": 8,
     "metadata": {},
     "output_type": "execute_result"
    },
    {
     "data": {
      "text/plain": [
       "array([[180,   0,   0,   0,   0,   0],\n",
       "       [  0, 180,   0,   0,   0,   0],\n",
       "       [  0,   0, 180,   0,   0,   0],\n",
       "       [  0,   0,   0, 180,   0,   0],\n",
       "       [  0,   0,   0,   0, 180,   0],\n",
       "       [  0,   0,   0,   0,   0, 180]], dtype=int64)"
      ]
     },
     "execution_count": 8,
     "metadata": {},
     "output_type": "execute_result"
    },
    {
     "data": {
      "text/plain": [
       "array([[20,  0,  0,  0,  0,  0],\n",
       "       [ 0, 20,  0,  0,  0,  0],\n",
       "       [ 0,  1, 18,  1,  0,  0],\n",
       "       [ 1,  0,  0, 18,  0,  1],\n",
       "       [ 0,  0,  2,  1, 14,  3],\n",
       "       [ 0,  0,  1,  1,  1, 17]], dtype=int64)"
      ]
     },
     "execution_count": 8,
     "metadata": {},
     "output_type": "execute_result"
    }
   ],
   "source": [
    "# Solve here\n",
    "logreg = LogisticRegression().fit(x_train_pix, y_train)\n",
    "\n",
    "# predict values, calculate accuracy, and create confusion matrix for train and test\n",
    "train_pred = logreg.predict(x_train_pix)\n",
    "test_pred = logreg.predict(x_test_pix)\n",
    "\n",
    "metrics.accuracy_score(y_train, train_pred)\n",
    "metrics.accuracy_score(y_test, test_pred)\n",
    "\n",
    "metrics.confusion_matrix(y_train, train_pred)\n",
    "metrics.confusion_matrix(y_test, test_pred)"
   ]
  },
  {
   "cell_type": "markdown",
   "metadata": {},
   "source": [
    "Use Keras to build a small neural network. Number of hidden layers is less than 5 and each layer should have between 5 and 10 neurons. The loss for a multiclass keras problem is called `categorical_crossentropy`\n",
    "\n",
    "**Note**: You will need to convert the labels using the one hot class encoder as we did in the lecture"
   ]
  },
  {
   "cell_type": "code",
   "execution_count": 9,
   "metadata": {},
   "outputs": [
    {
     "name": "stderr",
     "output_type": "stream",
     "text": [
      "E:\\Users\\Dhyan Gandhi\\Anaconda3\\lib\\site-packages\\sklearn\\preprocessing\\_encoders.py:371: FutureWarning: The handling of integer data will change in version 0.22. Currently, the categories are determined based on the range [0, max(values)], while in the future they will be determined based on the unique values.\n",
      "If you want the future behaviour and silence this warning, you can specify \"categories='auto'\".\n",
      "In case you used a LabelEncoder before this OneHotEncoder to convert the categories to integers, then you can now use the OneHotEncoder directly.\n",
      "  warnings.warn(msg, FutureWarning)\n"
     ]
    },
    {
     "data": {
      "text/plain": [
       "OneHotEncoder(categorical_features=None, categories=None,\n",
       "       dtype=<class 'numpy.float64'>, handle_unknown='error',\n",
       "       n_values=None, sparse=True)"
      ]
     },
     "execution_count": 9,
     "metadata": {},
     "output_type": "execute_result"
    },
    {
     "name": "stdout",
     "output_type": "stream",
     "text": [
      "WARNING:tensorflow:From E:\\Users\\Dhyan Gandhi\\Anaconda3\\lib\\site-packages\\tensorflow\\python\\framework\\op_def_library.py:263: colocate_with (from tensorflow.python.framework.ops) is deprecated and will be removed in a future version.\n",
      "Instructions for updating:\n",
      "Colocations handled automatically by placer.\n",
      "WARNING:tensorflow:From E:\\Users\\Dhyan Gandhi\\Anaconda3\\lib\\site-packages\\tensorflow\\python\\ops\\math_ops.py:3066: to_int32 (from tensorflow.python.ops.math_ops) is deprecated and will be removed in a future version.\n",
      "Instructions for updating:\n",
      "Use tf.cast instead.\n",
      "Train on 1080 samples, validate on 120 samples\n",
      "Epoch 1/100\n",
      "1080/1080 [==============================] - 1s 932us/step - loss: 1.8040 - acc: 0.1519 - val_loss: 1.7918 - val_acc: 0.1667\n",
      "Epoch 2/100\n",
      "1080/1080 [==============================] - 0s 280us/step - loss: 1.7921 - acc: 0.1426 - val_loss: 1.7918 - val_acc: 0.1667\n",
      "Epoch 3/100\n",
      "1080/1080 [==============================] - 0s 282us/step - loss: 1.7920 - acc: 0.1417 - val_loss: 1.7918 - val_acc: 0.1667\n",
      "Epoch 4/100\n",
      "1080/1080 [==============================] - 0s 278us/step - loss: 1.7920 - acc: 0.1500 - val_loss: 1.7918 - val_acc: 0.1667\n",
      "Epoch 5/100\n",
      "1080/1080 [==============================] - 0s 280us/step - loss: 1.7921 - acc: 0.1407 - val_loss: 1.7918 - val_acc: 0.1667\n",
      "Epoch 6/100\n",
      "1080/1080 [==============================] - 0s 281us/step - loss: 1.7921 - acc: 0.1583 - val_loss: 1.7918 - val_acc: 0.1667\n",
      "Epoch 7/100\n",
      "1080/1080 [==============================] - 0s 283us/step - loss: 1.7921 - acc: 0.1528 - val_loss: 1.7918 - val_acc: 0.1667\n",
      "Epoch 8/100\n",
      "1080/1080 [==============================] - 0s 289us/step - loss: 1.7921 - acc: 0.1528 - val_loss: 1.7918 - val_acc: 0.1667\n",
      "Epoch 9/100\n",
      "1080/1080 [==============================] - 0s 287us/step - loss: 1.7921 - acc: 0.1426 - val_loss: 1.7918 - val_acc: 0.1667\n",
      "Epoch 10/100\n",
      "1080/1080 [==============================] - 0s 281us/step - loss: 1.7920 - acc: 0.1500 - val_loss: 1.7918 - val_acc: 0.1667\n",
      "Epoch 11/100\n",
      "1080/1080 [==============================] - 0s 278us/step - loss: 1.7920 - acc: 0.1500 - val_loss: 1.7918 - val_acc: 0.1667\n",
      "Epoch 12/100\n",
      "1080/1080 [==============================] - 0s 277us/step - loss: 1.7920 - acc: 0.1306 - val_loss: 1.7918 - val_acc: 0.1667\n",
      "Epoch 13/100\n",
      "1080/1080 [==============================] - 0s 282us/step - loss: 1.7920 - acc: 0.1454 - val_loss: 1.7918 - val_acc: 0.1667\n",
      "Epoch 14/100\n",
      "1080/1080 [==============================] - 0s 278us/step - loss: 1.7920 - acc: 0.1333 - val_loss: 1.7918 - val_acc: 0.1667\n",
      "Epoch 15/100\n",
      "1080/1080 [==============================] - 0s 282us/step - loss: 1.7920 - acc: 0.1333 - val_loss: 1.7918 - val_acc: 0.1667\n",
      "Epoch 16/100\n",
      "1080/1080 [==============================] - 0s 278us/step - loss: 1.7921 - acc: 0.1500 - val_loss: 1.7918 - val_acc: 0.1667\n",
      "Epoch 17/100\n",
      "1080/1080 [==============================] - 0s 282us/step - loss: 1.7920 - acc: 0.1528 - val_loss: 1.7918 - val_acc: 0.1667\n",
      "Epoch 18/100\n",
      "1080/1080 [==============================] - 0s 282us/step - loss: 1.7921 - acc: 0.1500 - val_loss: 1.7918 - val_acc: 0.1667\n",
      "Epoch 19/100\n",
      "1080/1080 [==============================] - 0s 281us/step - loss: 1.7920 - acc: 0.1602 - val_loss: 1.7918 - val_acc: 0.1667\n",
      "Epoch 20/100\n",
      "1080/1080 [==============================] - 0s 277us/step - loss: 1.7921 - acc: 0.1519 - val_loss: 1.7918 - val_acc: 0.1667\n",
      "Epoch 21/100\n",
      "1080/1080 [==============================] - 0s 279us/step - loss: 1.7921 - acc: 0.1454 - val_loss: 1.7918 - val_acc: 0.1667\n",
      "Epoch 22/100\n",
      "1080/1080 [==============================] - 0s 282us/step - loss: 1.7921 - acc: 0.1611 - val_loss: 1.7918 - val_acc: 0.1667\n",
      "Epoch 23/100\n",
      "1080/1080 [==============================] - 0s 276us/step - loss: 1.7921 - acc: 0.1565 - val_loss: 1.7918 - val_acc: 0.1667\n",
      "Epoch 24/100\n",
      "1080/1080 [==============================] - 0s 282us/step - loss: 1.7920 - acc: 0.1593 - val_loss: 1.7918 - val_acc: 0.1667\n",
      "Epoch 25/100\n",
      "1080/1080 [==============================] - 0s 277us/step - loss: 1.7921 - acc: 0.1463 - val_loss: 1.7918 - val_acc: 0.1667\n",
      "Epoch 26/100\n",
      "1080/1080 [==============================] - 0s 278us/step - loss: 1.7921 - acc: 0.1537 - val_loss: 1.7918 - val_acc: 0.1667\n",
      "Epoch 27/100\n",
      "1080/1080 [==============================] - 0s 278us/step - loss: 1.7921 - acc: 0.1537 - val_loss: 1.7918 - val_acc: 0.1667\n",
      "Epoch 28/100\n",
      "1080/1080 [==============================] - 0s 279us/step - loss: 1.7920 - acc: 0.1500 - val_loss: 1.7918 - val_acc: 0.1667\n",
      "Epoch 29/100\n",
      "1080/1080 [==============================] - 0s 282us/step - loss: 1.7921 - acc: 0.1472 - val_loss: 1.7918 - val_acc: 0.1667\n",
      "Epoch 30/100\n",
      "1080/1080 [==============================] - 0s 278us/step - loss: 1.7920 - acc: 0.1389 - val_loss: 1.7918 - val_acc: 0.1667\n",
      "Epoch 31/100\n",
      "1080/1080 [==============================] - 0s 280us/step - loss: 1.7921 - acc: 0.1574 - val_loss: 1.7918 - val_acc: 0.1667\n",
      "Epoch 32/100\n",
      "1080/1080 [==============================] - 0s 286us/step - loss: 1.7920 - acc: 0.1389 - val_loss: 1.7918 - val_acc: 0.1667\n",
      "Epoch 33/100\n",
      "1080/1080 [==============================] - 0s 281us/step - loss: 1.7920 - acc: 0.1583 - val_loss: 1.7918 - val_acc: 0.1667\n",
      "Epoch 34/100\n",
      "1080/1080 [==============================] - 0s 280us/step - loss: 1.7921 - acc: 0.1528 - val_loss: 1.7918 - val_acc: 0.1667\n",
      "Epoch 35/100\n",
      "1080/1080 [==============================] - 0s 279us/step - loss: 1.7920 - acc: 0.1639 - val_loss: 1.7918 - val_acc: 0.1667\n",
      "Epoch 36/100\n",
      "1080/1080 [==============================] - 0s 281us/step - loss: 1.7921 - acc: 0.1583 - val_loss: 1.7918 - val_acc: 0.1667\n",
      "Epoch 37/100\n",
      "1080/1080 [==============================] - 0s 280us/step - loss: 1.7920 - acc: 0.1380 - val_loss: 1.7918 - val_acc: 0.1667\n",
      "Epoch 38/100\n",
      "1080/1080 [==============================] - 0s 290us/step - loss: 1.7921 - acc: 0.1380 - val_loss: 1.7918 - val_acc: 0.1667\n",
      "Epoch 39/100\n",
      "1080/1080 [==============================] - 0s 282us/step - loss: 1.7920 - acc: 0.1667 - val_loss: 1.7918 - val_acc: 0.1667\n",
      "Epoch 40/100\n",
      "1080/1080 [==============================] - 0s 285us/step - loss: 1.7921 - acc: 0.1407 - val_loss: 1.7918 - val_acc: 0.1667\n",
      "Epoch 41/100\n",
      "1080/1080 [==============================] - 0s 284us/step - loss: 1.7921 - acc: 0.1574 - val_loss: 1.7918 - val_acc: 0.1667\n",
      "Epoch 42/100\n",
      "1080/1080 [==============================] - 0s 280us/step - loss: 1.7920 - acc: 0.1463 - val_loss: 1.7918 - val_acc: 0.1667\n",
      "Epoch 43/100\n",
      "1080/1080 [==============================] - 0s 284us/step - loss: 1.7921 - acc: 0.1546 - val_loss: 1.7918 - val_acc: 0.1667\n",
      "Epoch 44/100\n",
      "1080/1080 [==============================] - 0s 282us/step - loss: 1.7920 - acc: 0.1509 - val_loss: 1.7918 - val_acc: 0.1667\n",
      "Epoch 45/100\n",
      "1080/1080 [==============================] - 0s 279us/step - loss: 1.7921 - acc: 0.1491 - val_loss: 1.7918 - val_acc: 0.1667\n",
      "Epoch 46/100\n",
      "1080/1080 [==============================] - 0s 278us/step - loss: 1.7921 - acc: 0.1287 - val_loss: 1.7918 - val_acc: 0.1667\n",
      "Epoch 47/100\n",
      "1080/1080 [==============================] - 0s 282us/step - loss: 1.7922 - acc: 0.1509 - val_loss: 1.7918 - val_acc: 0.1667\n",
      "Epoch 48/100\n",
      "1080/1080 [==============================] - 0s 285us/step - loss: 1.7920 - acc: 0.1509 - val_loss: 1.7918 - val_acc: 0.1667\n",
      "Epoch 49/100\n",
      "1080/1080 [==============================] - 0s 284us/step - loss: 1.7921 - acc: 0.1602 - val_loss: 1.7918 - val_acc: 0.1667\n",
      "Epoch 50/100\n",
      "1080/1080 [==============================] - 0s 281us/step - loss: 1.7920 - acc: 0.1648 - val_loss: 1.7918 - val_acc: 0.1667\n",
      "Epoch 51/100\n",
      "1080/1080 [==============================] - 0s 282us/step - loss: 1.7921 - acc: 0.1509 - val_loss: 1.7918 - val_acc: 0.1667\n",
      "Epoch 52/100\n",
      "1080/1080 [==============================] - 0s 282us/step - loss: 1.7920 - acc: 0.1593 - val_loss: 1.7918 - val_acc: 0.1667\n",
      "Epoch 53/100\n",
      "1080/1080 [==============================] - 0s 290us/step - loss: 1.7920 - acc: 0.1500 - val_loss: 1.7918 - val_acc: 0.1667\n",
      "Epoch 54/100\n",
      "1080/1080 [==============================] - 0s 283us/step - loss: 1.7920 - acc: 0.1435 - val_loss: 1.7918 - val_acc: 0.1667\n",
      "Epoch 55/100\n",
      "1080/1080 [==============================] - 0s 287us/step - loss: 1.7920 - acc: 0.1593 - val_loss: 1.7918 - val_acc: 0.1667\n"
     ]
    },
    {
     "name": "stdout",
     "output_type": "stream",
     "text": [
      "Epoch 56/100\n",
      "1080/1080 [==============================] - 0s 281us/step - loss: 1.7920 - acc: 0.1472 - val_loss: 1.7918 - val_acc: 0.1667\n",
      "Epoch 57/100\n",
      "1080/1080 [==============================] - 0s 279us/step - loss: 1.7921 - acc: 0.1593 - val_loss: 1.7918 - val_acc: 0.1667\n",
      "Epoch 58/100\n",
      "1080/1080 [==============================] - 0s 280us/step - loss: 1.7920 - acc: 0.1611 - val_loss: 1.7918 - val_acc: 0.1667\n",
      "Epoch 59/100\n",
      "1080/1080 [==============================] - 0s 280us/step - loss: 1.7921 - acc: 0.1565 - val_loss: 1.7918 - val_acc: 0.1667\n",
      "Epoch 60/100\n",
      "1080/1080 [==============================] - 0s 287us/step - loss: 1.7920 - acc: 0.1481 - val_loss: 1.7918 - val_acc: 0.1667\n",
      "Epoch 61/100\n",
      "1080/1080 [==============================] - 0s 304us/step - loss: 1.7920 - acc: 0.1407 - val_loss: 1.7918 - val_acc: 0.1667\n",
      "Epoch 62/100\n",
      "1080/1080 [==============================] - 0s 279us/step - loss: 1.7920 - acc: 0.1546 - val_loss: 1.7918 - val_acc: 0.1667\n",
      "Epoch 63/100\n",
      "1080/1080 [==============================] - 0s 280us/step - loss: 1.7921 - acc: 0.1426 - val_loss: 1.7918 - val_acc: 0.1667\n",
      "Epoch 64/100\n",
      "1080/1080 [==============================] - 0s 295us/step - loss: 1.7921 - acc: 0.1343 - val_loss: 1.7918 - val_acc: 0.1667\n",
      "Epoch 65/100\n",
      "1080/1080 [==============================] - 0s 278us/step - loss: 1.7920 - acc: 0.1426 - val_loss: 1.7918 - val_acc: 0.1667\n",
      "Epoch 66/100\n",
      "1080/1080 [==============================] - 0s 273us/step - loss: 1.7922 - acc: 0.1472 - val_loss: 1.7918 - val_acc: 0.1667\n",
      "Epoch 67/100\n",
      "1080/1080 [==============================] - 0s 275us/step - loss: 1.7921 - acc: 0.1519 - val_loss: 1.7918 - val_acc: 0.1667\n",
      "Epoch 68/100\n",
      "1080/1080 [==============================] - 0s 273us/step - loss: 1.7920 - acc: 0.1361 - val_loss: 1.7918 - val_acc: 0.1667\n",
      "Epoch 69/100\n",
      "1080/1080 [==============================] - 0s 275us/step - loss: 1.7920 - acc: 0.1537 - val_loss: 1.7918 - val_acc: 0.1667\n",
      "Epoch 70/100\n",
      "1080/1080 [==============================] - 0s 275us/step - loss: 1.7921 - acc: 0.1389 - val_loss: 1.7918 - val_acc: 0.1667\n",
      "Epoch 71/100\n",
      "1080/1080 [==============================] - 0s 274us/step - loss: 1.7920 - acc: 0.1481 - val_loss: 1.7918 - val_acc: 0.1667\n",
      "Epoch 72/100\n",
      "1080/1080 [==============================] - 0s 281us/step - loss: 1.7920 - acc: 0.1546 - val_loss: 1.7918 - val_acc: 0.1667\n",
      "Epoch 73/100\n",
      "1080/1080 [==============================] - 0s 278us/step - loss: 1.7920 - acc: 0.1565 - val_loss: 1.7918 - val_acc: 0.1667\n",
      "Epoch 74/100\n",
      "1080/1080 [==============================] - 0s 274us/step - loss: 1.7920 - acc: 0.1491 - val_loss: 1.7918 - val_acc: 0.1667\n",
      "Epoch 75/100\n",
      "1080/1080 [==============================] - 0s 276us/step - loss: 1.7921 - acc: 0.1611 - val_loss: 1.7918 - val_acc: 0.1667\n",
      "Epoch 76/100\n",
      "1080/1080 [==============================] - 0s 275us/step - loss: 1.7920 - acc: 0.1417 - val_loss: 1.7918 - val_acc: 0.1667\n",
      "Epoch 77/100\n",
      "1080/1080 [==============================] - 0s 273us/step - loss: 1.7920 - acc: 0.1574 - val_loss: 1.7918 - val_acc: 0.1667\n",
      "Epoch 78/100\n",
      "1080/1080 [==============================] - 0s 275us/step - loss: 1.7921 - acc: 0.1565 - val_loss: 1.7918 - val_acc: 0.1667\n",
      "Epoch 79/100\n",
      "1080/1080 [==============================] - 0s 277us/step - loss: 1.7920 - acc: 0.1537 - val_loss: 1.7918 - val_acc: 0.1667\n",
      "Epoch 80/100\n",
      "1080/1080 [==============================] - 0s 274us/step - loss: 1.7920 - acc: 0.1407 - val_loss: 1.7918 - val_acc: 0.1667\n",
      "Epoch 81/100\n",
      "1080/1080 [==============================] - 0s 274us/step - loss: 1.7921 - acc: 0.1407 - val_loss: 1.7918 - val_acc: 0.1667\n",
      "Epoch 82/100\n",
      "1080/1080 [==============================] - 0s 276us/step - loss: 1.7920 - acc: 0.1556 - val_loss: 1.7918 - val_acc: 0.1667\n",
      "Epoch 83/100\n",
      "1080/1080 [==============================] - 0s 277us/step - loss: 1.7921 - acc: 0.1435 - val_loss: 1.7918 - val_acc: 0.1667\n",
      "Epoch 84/100\n",
      "1080/1080 [==============================] - 0s 276us/step - loss: 1.7920 - acc: 0.1435 - val_loss: 1.7918 - val_acc: 0.1667\n",
      "Epoch 85/100\n",
      "1080/1080 [==============================] - 0s 278us/step - loss: 1.7921 - acc: 0.1500 - val_loss: 1.7918 - val_acc: 0.1667\n",
      "Epoch 86/100\n",
      "1080/1080 [==============================] - 0s 276us/step - loss: 1.7921 - acc: 0.1528 - val_loss: 1.7918 - val_acc: 0.1667\n",
      "Epoch 87/100\n",
      "1080/1080 [==============================] - 0s 276us/step - loss: 1.7921 - acc: 0.1407 - val_loss: 1.7918 - val_acc: 0.1667\n",
      "Epoch 88/100\n",
      "1080/1080 [==============================] - 0s 277us/step - loss: 1.7920 - acc: 0.1389 - val_loss: 1.7918 - val_acc: 0.1667\n",
      "Epoch 89/100\n",
      "1080/1080 [==============================] - 0s 287us/step - loss: 1.7921 - acc: 0.1435 - val_loss: 1.7918 - val_acc: 0.1667\n",
      "Epoch 90/100\n",
      "1080/1080 [==============================] - 0s 279us/step - loss: 1.7920 - acc: 0.1528 - val_loss: 1.7918 - val_acc: 0.1667\n",
      "Epoch 91/100\n",
      "1080/1080 [==============================] - 0s 276us/step - loss: 1.7920 - acc: 0.1546 - val_loss: 1.7918 - val_acc: 0.1667\n",
      "Epoch 92/100\n",
      "1080/1080 [==============================] - 0s 279us/step - loss: 1.7920 - acc: 0.1454 - val_loss: 1.7918 - val_acc: 0.1667\n",
      "Epoch 93/100\n",
      "1080/1080 [==============================] - 0s 275us/step - loss: 1.7920 - acc: 0.1528 - val_loss: 1.7918 - val_acc: 0.1667\n",
      "Epoch 94/100\n",
      "1080/1080 [==============================] - 0s 276us/step - loss: 1.7922 - acc: 0.1519 - val_loss: 1.7918 - val_acc: 0.1667\n",
      "Epoch 95/100\n",
      "1080/1080 [==============================] - 0s 276us/step - loss: 1.7921 - acc: 0.1546 - val_loss: 1.7918 - val_acc: 0.1667\n",
      "Epoch 96/100\n",
      "1080/1080 [==============================] - 0s 273us/step - loss: 1.7920 - acc: 0.1556 - val_loss: 1.7918 - val_acc: 0.1667\n",
      "Epoch 97/100\n",
      "1080/1080 [==============================] - 0s 273us/step - loss: 1.7920 - acc: 0.1481 - val_loss: 1.7918 - val_acc: 0.1667\n",
      "Epoch 98/100\n",
      "1080/1080 [==============================] - 0s 280us/step - loss: 1.7920 - acc: 0.1602 - val_loss: 1.7918 - val_acc: 0.1667\n",
      "Epoch 99/100\n",
      "1080/1080 [==============================] - 0s 294us/step - loss: 1.7921 - acc: 0.1315 - val_loss: 1.7918 - val_acc: 0.1667\n",
      "Epoch 100/100\n",
      "1080/1080 [==============================] - 0s 278us/step - loss: 1.7920 - acc: 0.1444 - val_loss: 1.7918 - val_acc: 0.1667\n",
      "1080/1080 [==============================] - 0s 132us/step\n"
     ]
    },
    {
     "data": {
      "text/plain": [
       "[1.7917611713762636, 0.16666666672185615]"
      ]
     },
     "execution_count": 9,
     "metadata": {},
     "output_type": "execute_result"
    },
    {
     "name": "stdout",
     "output_type": "stream",
     "text": [
      "120/120 [==============================] - 0s 150us/step\n"
     ]
    },
    {
     "data": {
      "text/plain": [
       "[1.7917611678441365, 0.16666666716337203]"
      ]
     },
     "execution_count": 9,
     "metadata": {},
     "output_type": "execute_result"
    },
    {
     "data": {
      "text/plain": [
       "array([[180,   0,   0,   0,   0,   0],\n",
       "       [180,   0,   0,   0,   0,   0],\n",
       "       [180,   0,   0,   0,   0,   0],\n",
       "       [180,   0,   0,   0,   0,   0],\n",
       "       [180,   0,   0,   0,   0,   0],\n",
       "       [180,   0,   0,   0,   0,   0]], dtype=int64)"
      ]
     },
     "execution_count": 9,
     "metadata": {},
     "output_type": "execute_result"
    },
    {
     "data": {
      "text/plain": [
       "array([[20,  0,  0,  0,  0,  0],\n",
       "       [20,  0,  0,  0,  0,  0],\n",
       "       [20,  0,  0,  0,  0,  0],\n",
       "       [20,  0,  0,  0,  0,  0],\n",
       "       [20,  0,  0,  0,  0,  0],\n",
       "       [20,  0,  0,  0,  0,  0]], dtype=int64)"
      ]
     },
     "execution_count": 9,
     "metadata": {},
     "output_type": "execute_result"
    }
   ],
   "source": [
    "# Solve Here\n",
    "# prepare data for tensorflow multi labels\n",
    "from sklearn import preprocessing\n",
    "enc = preprocessing.OneHotEncoder()\n",
    "\n",
    "# 2. FIT\n",
    "enc.fit(y_train)\n",
    "\n",
    "# 3. Transform\n",
    "onehotlabels_train = enc.transform(y_train).toarray()\n",
    "onehotlabels_test = enc.transform(y_test).toarray()\n",
    "\n",
    "from keras.models import Sequential\n",
    "from keras.layers import Dense\n",
    "# create model\n",
    "model = Sequential()\n",
    "model.add(Dense(6, input_shape = (x_train_pix.shape[1],), activation='relu'))\n",
    "model.add(Dense(9, activation='relu'))\n",
    "model.add(Dense(10, activation='relu'))\n",
    "model.add(Dense(10, activation='relu'))\n",
    "model.add(Dense(9, activation='relu'))\n",
    "model.add(Dense(6, activation='softmax'))\n",
    "\n",
    "# Compile model\n",
    "model.compile(loss='categorical_crossentropy', optimizer='adam', metrics=['accuracy'])\n",
    "history = model.fit(x_train_pix, onehotlabels_train, epochs=100, batch_size=10, \\\n",
    "          validation_data=(x_test_pix, onehotlabels_test))\n",
    "\n",
    "# predict values, calculate accuracy, and create confusion matrix for train and test\n",
    "train_pred = model.predict_classes(x_train_pix)\n",
    "test_pred = model.predict_classes(x_test_pix)\n",
    "\n",
    "model.evaluate(x_train_pix, onehotlabels_train)\n",
    "model.evaluate(x_test_pix, onehotlabels_test)\n",
    "\n",
    "metrics.confusion_matrix(y_train,train_pred)\n",
    "metrics.confusion_matrix(y_test,test_pred)"
   ]
  },
  {
   "cell_type": "markdown",
   "metadata": {},
   "source": [
    "Did you notice that the learning is slow? As if it is not moving? That is because of the learning rate. Change the compiling line for the model to `model.compile(loss='categorical_crossentropy', optimizer = keras.optimizers.Adam(lr=0.0001), metrics=['accuracy'])` so that you can decrease the learning rate. Moreover, this is a good chance to read about the different optimizers type. Check this link.\n",
    "https://medium.com/datadriveninvestor/overview-of-different-optimizers-for-neural-networks-e0ed119440c3\n",
    "\n",
    "Run your network for at least 300 epochs and use batch_size=100\n",
    "\n",
    "What is the training and validation accuracy and confusion matrix for both?\n",
    "\n",
    "**Note this will take few minutes to finish**"
   ]
  },
  {
   "cell_type": "code",
   "execution_count": 10,
   "metadata": {
    "scrolled": true
   },
   "outputs": [
    {
     "name": "stdout",
     "output_type": "stream",
     "text": [
      "Train on 1080 samples, validate on 120 samples\n",
      "Epoch 1/300\n",
      "1080/1080 [==============================] - 1s 842us/step - loss: 1.7921 - acc: 0.1620 - val_loss: 1.7935 - val_acc: 0.1667\n",
      "Epoch 2/300\n",
      "1080/1080 [==============================] - 0s 163us/step - loss: 1.7915 - acc: 0.1657 - val_loss: 1.7924 - val_acc: 0.1750\n",
      "Epoch 3/300\n",
      "1080/1080 [==============================] - 0s 163us/step - loss: 1.7920 - acc: 0.1676 - val_loss: 1.7927 - val_acc: 0.1833\n",
      "Epoch 4/300\n",
      "1080/1080 [==============================] - 0s 164us/step - loss: 1.7912 - acc: 0.1676 - val_loss: 1.7926 - val_acc: 0.1417\n",
      "Epoch 5/300\n",
      "1080/1080 [==============================] - 0s 162us/step - loss: 1.7907 - acc: 0.1639 - val_loss: 1.7923 - val_acc: 0.1583\n",
      "Epoch 6/300\n",
      "1080/1080 [==============================] - 0s 161us/step - loss: 1.7905 - acc: 0.1685 - val_loss: 1.7920 - val_acc: 0.1500\n",
      "Epoch 7/300\n",
      "1080/1080 [==============================] - 0s 162us/step - loss: 1.7904 - acc: 0.1648 - val_loss: 1.7921 - val_acc: 0.1667\n",
      "Epoch 8/300\n",
      "1080/1080 [==============================] - 0s 162us/step - loss: 1.7902 - acc: 0.1648 - val_loss: 1.7917 - val_acc: 0.1583\n",
      "Epoch 9/300\n",
      "1080/1080 [==============================] - 0s 161us/step - loss: 1.7900 - acc: 0.1796 - val_loss: 1.7917 - val_acc: 0.1667\n",
      "Epoch 10/300\n",
      "1080/1080 [==============================] - 0s 160us/step - loss: 1.7901 - acc: 0.1694 - val_loss: 1.7919 - val_acc: 0.1750\n",
      "Epoch 11/300\n",
      "1080/1080 [==============================] - 0s 163us/step - loss: 1.7898 - acc: 0.1750 - val_loss: 1.7914 - val_acc: 0.1583\n",
      "Epoch 12/300\n",
      "1080/1080 [==============================] - 0s 168us/step - loss: 1.7897 - acc: 0.1722 - val_loss: 1.7913 - val_acc: 0.1667\n",
      "Epoch 13/300\n",
      "1080/1080 [==============================] - 0s 165us/step - loss: 1.7891 - acc: 0.1704 - val_loss: 1.7913 - val_acc: 0.1583\n",
      "Epoch 14/300\n",
      "1080/1080 [==============================] - 0s 167us/step - loss: 1.7892 - acc: 0.1787 - val_loss: 1.7913 - val_acc: 0.1833\n",
      "Epoch 15/300\n",
      "1080/1080 [==============================] - 0s 162us/step - loss: 1.7887 - acc: 0.1750 - val_loss: 1.7912 - val_acc: 0.1833\n",
      "Epoch 16/300\n",
      "1080/1080 [==============================] - 0s 166us/step - loss: 1.7886 - acc: 0.1889 - val_loss: 1.7900 - val_acc: 0.1750\n",
      "Epoch 17/300\n",
      "1080/1080 [==============================] - 0s 162us/step - loss: 1.7889 - acc: 0.1694 - val_loss: 1.7908 - val_acc: 0.1833\n",
      "Epoch 18/300\n",
      "1080/1080 [==============================] - 0s 161us/step - loss: 1.7879 - acc: 0.1833 - val_loss: 1.7905 - val_acc: 0.1833\n",
      "Epoch 19/300\n",
      "1080/1080 [==============================] - 0s 160us/step - loss: 1.7876 - acc: 0.1907 - val_loss: 1.7905 - val_acc: 0.1833\n",
      "Epoch 20/300\n",
      "1080/1080 [==============================] - 0s 167us/step - loss: 1.7873 - acc: 0.1880 - val_loss: 1.7901 - val_acc: 0.1917\n",
      "Epoch 21/300\n",
      "1080/1080 [==============================] - 0s 172us/step - loss: 1.7872 - acc: 0.1824 - val_loss: 1.7902 - val_acc: 0.2000\n",
      "Epoch 22/300\n",
      "1080/1080 [==============================] - 0s 178us/step - loss: 1.7872 - acc: 0.1806 - val_loss: 1.7897 - val_acc: 0.1833\n",
      "Epoch 23/300\n",
      "1080/1080 [==============================] - 0s 179us/step - loss: 1.7867 - acc: 0.1870 - val_loss: 1.7898 - val_acc: 0.2083\n",
      "Epoch 24/300\n",
      "1080/1080 [==============================] - 0s 177us/step - loss: 1.7865 - acc: 0.1870 - val_loss: 1.7890 - val_acc: 0.1833\n",
      "Epoch 25/300\n",
      "1080/1080 [==============================] - 0s 175us/step - loss: 1.7864 - acc: 0.1926 - val_loss: 1.7872 - val_acc: 0.1750\n",
      "Epoch 26/300\n",
      "1080/1080 [==============================] - 0s 176us/step - loss: 1.7864 - acc: 0.1815 - val_loss: 1.7892 - val_acc: 0.2000\n",
      "Epoch 27/300\n",
      "1080/1080 [==============================] - 0s 174us/step - loss: 1.7860 - acc: 0.1861 - val_loss: 1.7887 - val_acc: 0.1917\n",
      "Epoch 28/300\n",
      "1080/1080 [==============================] - 0s 174us/step - loss: 1.7855 - acc: 0.1880 - val_loss: 1.7884 - val_acc: 0.1833\n",
      "Epoch 29/300\n",
      "1080/1080 [==============================] - 0s 177us/step - loss: 1.7853 - acc: 0.1861 - val_loss: 1.7884 - val_acc: 0.1917\n",
      "Epoch 30/300\n",
      "1080/1080 [==============================] - 0s 177us/step - loss: 1.7853 - acc: 0.1824 - val_loss: 1.7883 - val_acc: 0.2000\n",
      "Epoch 31/300\n",
      "1080/1080 [==============================] - 0s 175us/step - loss: 1.7852 - acc: 0.1889 - val_loss: 1.7864 - val_acc: 0.1667\n",
      "Epoch 32/300\n",
      "1080/1080 [==============================] - 0s 179us/step - loss: 1.7847 - acc: 0.1787 - val_loss: 1.7876 - val_acc: 0.1833\n",
      "Epoch 33/300\n",
      "1080/1080 [==============================] - 0s 174us/step - loss: 1.7845 - acc: 0.1898 - val_loss: 1.7876 - val_acc: 0.1833\n",
      "Epoch 34/300\n",
      "1080/1080 [==============================] - 0s 175us/step - loss: 1.7849 - acc: 0.1935 - val_loss: 1.7860 - val_acc: 0.1667\n",
      "Epoch 35/300\n",
      "1080/1080 [==============================] - 0s 174us/step - loss: 1.7837 - acc: 0.1824 - val_loss: 1.7872 - val_acc: 0.1917\n",
      "Epoch 36/300\n",
      "1080/1080 [==============================] - 0s 175us/step - loss: 1.7839 - acc: 0.1889 - val_loss: 1.7860 - val_acc: 0.1833\n",
      "Epoch 37/300\n",
      "1080/1080 [==============================] - 0s 176us/step - loss: 1.7834 - acc: 0.1935 - val_loss: 1.7851 - val_acc: 0.1667\n",
      "Epoch 38/300\n",
      "1080/1080 [==============================] - 0s 174us/step - loss: 1.7839 - acc: 0.1843 - val_loss: 1.7874 - val_acc: 0.2167\n",
      "Epoch 39/300\n",
      "1080/1080 [==============================] - 0s 175us/step - loss: 1.7838 - acc: 0.1898 - val_loss: 1.7857 - val_acc: 0.1750\n",
      "Epoch 40/300\n",
      "1080/1080 [==============================] - 0s 174us/step - loss: 1.7828 - acc: 0.1852 - val_loss: 1.7857 - val_acc: 0.1750\n",
      "Epoch 41/300\n",
      "1080/1080 [==============================] - 0s 172us/step - loss: 1.7824 - acc: 0.1935 - val_loss: 1.7851 - val_acc: 0.1833\n",
      "Epoch 42/300\n",
      "1080/1080 [==============================] - 0s 175us/step - loss: 1.7822 - acc: 0.1935 - val_loss: 1.7846 - val_acc: 0.1750\n",
      "Epoch 43/300\n",
      "1080/1080 [==============================] - 0s 173us/step - loss: 1.7818 - acc: 0.1926 - val_loss: 1.7846 - val_acc: 0.1750\n",
      "Epoch 44/300\n",
      "1080/1080 [==============================] - 0s 175us/step - loss: 1.7818 - acc: 0.1935 - val_loss: 1.7836 - val_acc: 0.1750\n",
      "Epoch 45/300\n",
      "1080/1080 [==============================] - 0s 175us/step - loss: 1.7815 - acc: 0.1898 - val_loss: 1.7839 - val_acc: 0.1750\n",
      "Epoch 46/300\n",
      "1080/1080 [==============================] - 0s 173us/step - loss: 1.7813 - acc: 0.1898 - val_loss: 1.7835 - val_acc: 0.1750\n",
      "Epoch 47/300\n",
      "1080/1080 [==============================] - 0s 177us/step - loss: 1.7810 - acc: 0.1815 - val_loss: 1.7855 - val_acc: 0.1917\n",
      "Epoch 48/300\n",
      "1080/1080 [==============================] - 0s 175us/step - loss: 1.7819 - acc: 0.1954 - val_loss: 1.7821 - val_acc: 0.1667\n",
      "Epoch 49/300\n",
      "1080/1080 [==============================] - 0s 174us/step - loss: 1.7806 - acc: 0.1963 - val_loss: 1.7829 - val_acc: 0.1750\n",
      "Epoch 50/300\n",
      "1080/1080 [==============================] - 0s 174us/step - loss: 1.7804 - acc: 0.1954 - val_loss: 1.7837 - val_acc: 0.1833\n",
      "Epoch 51/300\n",
      "1080/1080 [==============================] - 0s 174us/step - loss: 1.7802 - acc: 0.1889 - val_loss: 1.7835 - val_acc: 0.1833\n",
      "Epoch 52/300\n",
      "1080/1080 [==============================] - 0s 175us/step - loss: 1.7799 - acc: 0.1991 - val_loss: 1.7828 - val_acc: 0.1750\n",
      "Epoch 53/300\n",
      "1080/1080 [==============================] - 0s 176us/step - loss: 1.7798 - acc: 0.1963 - val_loss: 1.7806 - val_acc: 0.1667\n",
      "Epoch 54/300\n",
      "1080/1080 [==============================] - 0s 175us/step - loss: 1.7796 - acc: 0.1944 - val_loss: 1.7843 - val_acc: 0.2250\n",
      "Epoch 55/300\n",
      "1080/1080 [==============================] - 0s 175us/step - loss: 1.7798 - acc: 0.1981 - val_loss: 1.7813 - val_acc: 0.1667\n",
      "Epoch 56/300\n",
      "1080/1080 [==============================] - 0s 173us/step - loss: 1.7786 - acc: 0.1917 - val_loss: 1.7805 - val_acc: 0.1750\n",
      "Epoch 57/300\n",
      "1080/1080 [==============================] - 0s 174us/step - loss: 1.7784 - acc: 0.1880 - val_loss: 1.7825 - val_acc: 0.2000\n",
      "Epoch 58/300\n",
      "1080/1080 [==============================] - 0s 173us/step - loss: 1.7785 - acc: 0.1917 - val_loss: 1.7807 - val_acc: 0.1750\n",
      "Epoch 59/300\n",
      "1080/1080 [==============================] - 0s 176us/step - loss: 1.7782 - acc: 0.1926 - val_loss: 1.7803 - val_acc: 0.1750\n",
      "Epoch 60/300\n"
     ]
    },
    {
     "name": "stdout",
     "output_type": "stream",
     "text": [
      "1080/1080 [==============================] - 0s 175us/step - loss: 1.7776 - acc: 0.1907 - val_loss: 1.7808 - val_acc: 0.1750\n",
      "Epoch 61/300\n",
      "1080/1080 [==============================] - 0s 174us/step - loss: 1.7776 - acc: 0.1954 - val_loss: 1.7809 - val_acc: 0.1750\n",
      "Epoch 62/300\n",
      "1080/1080 [==============================] - 0s 176us/step - loss: 1.7774 - acc: 0.1991 - val_loss: 1.7787 - val_acc: 0.1667\n",
      "Epoch 63/300\n",
      "1080/1080 [==============================] - 0s 173us/step - loss: 1.7772 - acc: 0.1917 - val_loss: 1.7797 - val_acc: 0.1750\n",
      "Epoch 64/300\n",
      "1080/1080 [==============================] - 0s 173us/step - loss: 1.7769 - acc: 0.1944 - val_loss: 1.7798 - val_acc: 0.1833\n",
      "Epoch 65/300\n",
      "1080/1080 [==============================] - 0s 174us/step - loss: 1.7764 - acc: 0.1926 - val_loss: 1.7797 - val_acc: 0.1750\n",
      "Epoch 66/300\n",
      "1080/1080 [==============================] - 0s 173us/step - loss: 1.7766 - acc: 0.1935 - val_loss: 1.7786 - val_acc: 0.1750\n",
      "Epoch 67/300\n",
      "1080/1080 [==============================] - 0s 176us/step - loss: 1.7761 - acc: 0.1963 - val_loss: 1.7783 - val_acc: 0.1750\n",
      "Epoch 68/300\n",
      "1080/1080 [==============================] - 0s 174us/step - loss: 1.7759 - acc: 0.1981 - val_loss: 1.7808 - val_acc: 0.2083\n",
      "Epoch 69/300\n",
      "1080/1080 [==============================] - 0s 175us/step - loss: 1.7755 - acc: 0.2009 - val_loss: 1.7779 - val_acc: 0.1750\n",
      "Epoch 70/300\n",
      "1080/1080 [==============================] - 0s 173us/step - loss: 1.7753 - acc: 0.1935 - val_loss: 1.7773 - val_acc: 0.1750\n",
      "Epoch 71/300\n",
      "1080/1080 [==============================] - 0s 173us/step - loss: 1.7749 - acc: 0.1926 - val_loss: 1.7776 - val_acc: 0.1750\n",
      "Epoch 72/300\n",
      "1080/1080 [==============================] - 0s 174us/step - loss: 1.7747 - acc: 0.1898 - val_loss: 1.7778 - val_acc: 0.1750\n",
      "Epoch 73/300\n",
      "1080/1080 [==============================] - 0s 172us/step - loss: 1.7748 - acc: 0.1991 - val_loss: 1.7771 - val_acc: 0.1750\n",
      "Epoch 74/300\n",
      "1080/1080 [==============================] - 0s 175us/step - loss: 1.7741 - acc: 0.1944 - val_loss: 1.7777 - val_acc: 0.1833\n",
      "Epoch 75/300\n",
      "1080/1080 [==============================] - 0s 174us/step - loss: 1.7742 - acc: 0.1926 - val_loss: 1.7757 - val_acc: 0.1750\n",
      "Epoch 76/300\n",
      "1080/1080 [==============================] - 0s 172us/step - loss: 1.7738 - acc: 0.1954 - val_loss: 1.7780 - val_acc: 0.2000\n",
      "Epoch 77/300\n",
      "1080/1080 [==============================] - 0s 174us/step - loss: 1.7736 - acc: 0.1981 - val_loss: 1.7760 - val_acc: 0.1750\n",
      "Epoch 78/300\n",
      "1080/1080 [==============================] - 0s 176us/step - loss: 1.7734 - acc: 0.2028 - val_loss: 1.7771 - val_acc: 0.1750\n",
      "Epoch 79/300\n",
      "1080/1080 [==============================] - 0s 176us/step - loss: 1.7733 - acc: 0.1963 - val_loss: 1.7763 - val_acc: 0.2000\n",
      "Epoch 80/300\n",
      "1080/1080 [==============================] - 0s 175us/step - loss: 1.7729 - acc: 0.1972 - val_loss: 1.7752 - val_acc: 0.1750\n",
      "Epoch 81/300\n",
      "1080/1080 [==============================] - 0s 173us/step - loss: 1.7727 - acc: 0.1926 - val_loss: 1.7767 - val_acc: 0.1750\n",
      "Epoch 82/300\n",
      "1080/1080 [==============================] - 0s 174us/step - loss: 1.7724 - acc: 0.1954 - val_loss: 1.7754 - val_acc: 0.1833\n",
      "Epoch 83/300\n",
      "1080/1080 [==============================] - 0s 179us/step - loss: 1.7720 - acc: 0.1935 - val_loss: 1.7755 - val_acc: 0.1833\n",
      "Epoch 84/300\n",
      "1080/1080 [==============================] - 0s 175us/step - loss: 1.7716 - acc: 0.1944 - val_loss: 1.7751 - val_acc: 0.1917\n",
      "Epoch 85/300\n",
      "1080/1080 [==============================] - 0s 174us/step - loss: 1.7716 - acc: 0.1944 - val_loss: 1.7748 - val_acc: 0.1917\n",
      "Epoch 86/300\n",
      "1080/1080 [==============================] - 0s 175us/step - loss: 1.7718 - acc: 0.2139 - val_loss: 1.7735 - val_acc: 0.1750\n",
      "Epoch 87/300\n",
      "1080/1080 [==============================] - 0s 175us/step - loss: 1.7717 - acc: 0.2000 - val_loss: 1.7753 - val_acc: 0.2000\n",
      "Epoch 88/300\n",
      "1080/1080 [==============================] - 0s 173us/step - loss: 1.7715 - acc: 0.1926 - val_loss: 1.7758 - val_acc: 0.2000\n",
      "Epoch 89/300\n",
      "1080/1080 [==============================] - 0s 174us/step - loss: 1.7710 - acc: 0.1963 - val_loss: 1.7727 - val_acc: 0.1750\n",
      "Epoch 90/300\n",
      "1080/1080 [==============================] - 0s 175us/step - loss: 1.7704 - acc: 0.2037 - val_loss: 1.7740 - val_acc: 0.1917\n",
      "Epoch 91/300\n",
      "1080/1080 [==============================] - 0s 174us/step - loss: 1.7700 - acc: 0.1954 - val_loss: 1.7728 - val_acc: 0.1833\n",
      "Epoch 92/300\n",
      "1080/1080 [==============================] - 0s 174us/step - loss: 1.7697 - acc: 0.2009 - val_loss: 1.7737 - val_acc: 0.1917\n",
      "Epoch 93/300\n",
      "1080/1080 [==============================] - 0s 175us/step - loss: 1.7695 - acc: 0.2009 - val_loss: 1.7729 - val_acc: 0.1917\n",
      "Epoch 94/300\n",
      "1080/1080 [==============================] - 0s 174us/step - loss: 1.7693 - acc: 0.1944 - val_loss: 1.7724 - val_acc: 0.1833\n",
      "Epoch 95/300\n",
      "1080/1080 [==============================] - 0s 176us/step - loss: 1.7691 - acc: 0.1981 - val_loss: 1.7719 - val_acc: 0.1750\n",
      "Epoch 96/300\n",
      "1080/1080 [==============================] - 0s 178us/step - loss: 1.7688 - acc: 0.1963 - val_loss: 1.7732 - val_acc: 0.1917\n",
      "Epoch 97/300\n",
      "1080/1080 [==============================] - 0s 180us/step - loss: 1.7685 - acc: 0.1944 - val_loss: 1.7713 - val_acc: 0.1917\n",
      "Epoch 98/300\n",
      "1080/1080 [==============================] - 0s 182us/step - loss: 1.7683 - acc: 0.2046 - val_loss: 1.7720 - val_acc: 0.1833\n",
      "Epoch 99/300\n",
      "1080/1080 [==============================] - 0s 173us/step - loss: 1.7683 - acc: 0.1917 - val_loss: 1.7728 - val_acc: 0.2000\n",
      "Epoch 100/300\n",
      "1080/1080 [==============================] - 0s 175us/step - loss: 1.7678 - acc: 0.1963 - val_loss: 1.7713 - val_acc: 0.1917\n",
      "Epoch 101/300\n",
      "1080/1080 [==============================] - 0s 173us/step - loss: 1.7677 - acc: 0.1963 - val_loss: 1.7716 - val_acc: 0.1917\n",
      "Epoch 102/300\n",
      "1080/1080 [==============================] - 0s 174us/step - loss: 1.7673 - acc: 0.1981 - val_loss: 1.7704 - val_acc: 0.1917\n",
      "Epoch 103/300\n",
      "1080/1080 [==============================] - 0s 177us/step - loss: 1.7669 - acc: 0.2019 - val_loss: 1.7703 - val_acc: 0.1917\n",
      "Epoch 104/300\n",
      "1080/1080 [==============================] - 0s 174us/step - loss: 1.7667 - acc: 0.1981 - val_loss: 1.7709 - val_acc: 0.1917\n",
      "Epoch 105/300\n",
      "1080/1080 [==============================] - 0s 180us/step - loss: 1.7664 - acc: 0.1954 - val_loss: 1.7717 - val_acc: 0.2000\n",
      "Epoch 106/300\n",
      "1080/1080 [==============================] - 0s 173us/step - loss: 1.7671 - acc: 0.1972 - val_loss: 1.7703 - val_acc: 0.1917\n",
      "Epoch 107/300\n",
      "1080/1080 [==============================] - 0s 174us/step - loss: 1.7664 - acc: 0.2074 - val_loss: 1.7687 - val_acc: 0.1917\n",
      "Epoch 108/300\n",
      "1080/1080 [==============================] - 0s 177us/step - loss: 1.7658 - acc: 0.2046 - val_loss: 1.7703 - val_acc: 0.1917\n",
      "Epoch 109/300\n",
      "1080/1080 [==============================] - 0s 178us/step - loss: 1.7654 - acc: 0.2000 - val_loss: 1.7695 - val_acc: 0.2000\n",
      "Epoch 110/300\n",
      "1080/1080 [==============================] - 0s 176us/step - loss: 1.7652 - acc: 0.2093 - val_loss: 1.7701 - val_acc: 0.1917\n",
      "Epoch 111/300\n",
      "1080/1080 [==============================] - 0s 174us/step - loss: 1.7649 - acc: 0.1981 - val_loss: 1.7690 - val_acc: 0.1917\n",
      "Epoch 112/300\n",
      "1080/1080 [==============================] - 0s 175us/step - loss: 1.7649 - acc: 0.1954 - val_loss: 1.7682 - val_acc: 0.1917\n",
      "Epoch 113/300\n",
      "1080/1080 [==============================] - 0s 173us/step - loss: 1.7644 - acc: 0.2009 - val_loss: 1.7686 - val_acc: 0.1917\n",
      "Epoch 114/300\n",
      "1080/1080 [==============================] - 0s 174us/step - loss: 1.7640 - acc: 0.2019 - val_loss: 1.7684 - val_acc: 0.1917\n",
      "Epoch 115/300\n",
      "1080/1080 [==============================] - 0s 176us/step - loss: 1.7640 - acc: 0.2083 - val_loss: 1.7684 - val_acc: 0.1917\n",
      "Epoch 116/300\n",
      "1080/1080 [==============================] - 0s 174us/step - loss: 1.7638 - acc: 0.2093 - val_loss: 1.7675 - val_acc: 0.1917\n",
      "Epoch 117/300\n",
      "1080/1080 [==============================] - 0s 174us/step - loss: 1.7634 - acc: 0.1972 - val_loss: 1.7688 - val_acc: 0.1917\n",
      "Epoch 118/300\n",
      "1080/1080 [==============================] - 0s 174us/step - loss: 1.7632 - acc: 0.2019 - val_loss: 1.7672 - val_acc: 0.1917\n",
      "Epoch 119/300\n"
     ]
    },
    {
     "name": "stdout",
     "output_type": "stream",
     "text": [
      "1080/1080 [==============================] - 0s 174us/step - loss: 1.7627 - acc: 0.2046 - val_loss: 1.7667 - val_acc: 0.1917\n",
      "Epoch 120/300\n",
      "1080/1080 [==============================] - 0s 174us/step - loss: 1.7631 - acc: 0.1954 - val_loss: 1.7687 - val_acc: 0.2250\n",
      "Epoch 121/300\n",
      "1080/1080 [==============================] - 0s 184us/step - loss: 1.7624 - acc: 0.2046 - val_loss: 1.7665 - val_acc: 0.1917\n",
      "Epoch 122/300\n",
      "1080/1080 [==============================] - 0s 175us/step - loss: 1.7618 - acc: 0.2037 - val_loss: 1.7660 - val_acc: 0.1917\n",
      "Epoch 123/300\n",
      "1080/1080 [==============================] - 0s 174us/step - loss: 1.7617 - acc: 0.2037 - val_loss: 1.7660 - val_acc: 0.1917\n",
      "Epoch 124/300\n",
      "1080/1080 [==============================] - 0s 176us/step - loss: 1.7619 - acc: 0.2065 - val_loss: 1.7654 - val_acc: 0.1917\n",
      "Epoch 125/300\n",
      "1080/1080 [==============================] - 0s 174us/step - loss: 1.7615 - acc: 0.1991 - val_loss: 1.7661 - val_acc: 0.1917\n",
      "Epoch 126/300\n",
      "1080/1080 [==============================] - 0s 174us/step - loss: 1.7606 - acc: 0.2130 - val_loss: 1.7643 - val_acc: 0.1917\n",
      "Epoch 127/300\n",
      "1080/1080 [==============================] - 0s 174us/step - loss: 1.7608 - acc: 0.1963 - val_loss: 1.7657 - val_acc: 0.1917\n",
      "Epoch 128/300\n",
      "1080/1080 [==============================] - 0s 173us/step - loss: 1.7604 - acc: 0.2028 - val_loss: 1.7655 - val_acc: 0.1917\n",
      "Epoch 129/300\n",
      "1080/1080 [==============================] - 0s 175us/step - loss: 1.7601 - acc: 0.2009 - val_loss: 1.7641 - val_acc: 0.1917\n",
      "Epoch 130/300\n",
      "1080/1080 [==============================] - 0s 175us/step - loss: 1.7599 - acc: 0.2074 - val_loss: 1.7639 - val_acc: 0.1917\n",
      "Epoch 131/300\n",
      "1080/1080 [==============================] - 0s 177us/step - loss: 1.7594 - acc: 0.2037 - val_loss: 1.7640 - val_acc: 0.1917\n",
      "Epoch 132/300\n",
      "1080/1080 [==============================] - 0s 179us/step - loss: 1.7591 - acc: 0.2056 - val_loss: 1.7639 - val_acc: 0.1917\n",
      "Epoch 133/300\n",
      "1080/1080 [==============================] - 0s 175us/step - loss: 1.7598 - acc: 0.1954 - val_loss: 1.7662 - val_acc: 0.2250\n",
      "Epoch 134/300\n",
      "1080/1080 [==============================] - 0s 174us/step - loss: 1.7594 - acc: 0.2111 - val_loss: 1.7623 - val_acc: 0.1917\n",
      "Epoch 135/300\n",
      "1080/1080 [==============================] - 0s 175us/step - loss: 1.7588 - acc: 0.2185 - val_loss: 1.7631 - val_acc: 0.1917\n",
      "Epoch 136/300\n",
      "1080/1080 [==============================] - 0s 173us/step - loss: 1.7582 - acc: 0.2046 - val_loss: 1.7632 - val_acc: 0.1917\n",
      "Epoch 137/300\n",
      "1080/1080 [==============================] - 0s 174us/step - loss: 1.7581 - acc: 0.2065 - val_loss: 1.7635 - val_acc: 0.2083\n",
      "Epoch 138/300\n",
      "1080/1080 [==============================] - 0s 179us/step - loss: 1.7578 - acc: 0.2056 - val_loss: 1.7628 - val_acc: 0.1917\n",
      "Epoch 139/300\n",
      "1080/1080 [==============================] - 0s 178us/step - loss: 1.7571 - acc: 0.2083 - val_loss: 1.7611 - val_acc: 0.1917\n",
      "Epoch 140/300\n",
      "1080/1080 [==============================] - 0s 180us/step - loss: 1.7568 - acc: 0.1981 - val_loss: 1.7626 - val_acc: 0.2000\n",
      "Epoch 141/300\n",
      "1080/1080 [==============================] - 0s 174us/step - loss: 1.7568 - acc: 0.2093 - val_loss: 1.7609 - val_acc: 0.1917\n",
      "Epoch 142/300\n",
      "1080/1080 [==============================] - 0s 179us/step - loss: 1.7563 - acc: 0.2083 - val_loss: 1.7618 - val_acc: 0.2000\n",
      "Epoch 143/300\n",
      "1080/1080 [==============================] - 0s 175us/step - loss: 1.7562 - acc: 0.2056 - val_loss: 1.7607 - val_acc: 0.1917\n",
      "Epoch 144/300\n",
      "1080/1080 [==============================] - 0s 176us/step - loss: 1.7564 - acc: 0.2074 - val_loss: 1.7615 - val_acc: 0.1917\n",
      "Epoch 145/300\n",
      "1080/1080 [==============================] - 0s 171us/step - loss: 1.7560 - acc: 0.2009 - val_loss: 1.7607 - val_acc: 0.1917\n",
      "Epoch 146/300\n",
      "1080/1080 [==============================] - 0s 177us/step - loss: 1.7553 - acc: 0.2074 - val_loss: 1.7598 - val_acc: 0.1917\n",
      "Epoch 147/300\n",
      "1080/1080 [==============================] - 0s 174us/step - loss: 1.7551 - acc: 0.2037 - val_loss: 1.7597 - val_acc: 0.1917\n",
      "Epoch 148/300\n",
      "1080/1080 [==============================] - 0s 176us/step - loss: 1.7546 - acc: 0.2046 - val_loss: 1.7597 - val_acc: 0.1917\n",
      "Epoch 149/300\n",
      "1080/1080 [==============================] - 0s 182us/step - loss: 1.7547 - acc: 0.2074 - val_loss: 1.7604 - val_acc: 0.2000\n",
      "Epoch 150/300\n",
      "1080/1080 [==============================] - 0s 175us/step - loss: 1.7546 - acc: 0.2065 - val_loss: 1.7589 - val_acc: 0.1917\n",
      "Epoch 151/300\n",
      "1080/1080 [==============================] - 0s 173us/step - loss: 1.7546 - acc: 0.2157 - val_loss: 1.7581 - val_acc: 0.1917\n",
      "Epoch 152/300\n",
      "1080/1080 [==============================] - 0s 174us/step - loss: 1.7540 - acc: 0.2009 - val_loss: 1.7583 - val_acc: 0.1917\n",
      "Epoch 153/300\n",
      "1080/1080 [==============================] - 0s 173us/step - loss: 1.7532 - acc: 0.2083 - val_loss: 1.7581 - val_acc: 0.1917\n",
      "Epoch 154/300\n",
      "1080/1080 [==============================] - 0s 174us/step - loss: 1.7530 - acc: 0.2065 - val_loss: 1.7579 - val_acc: 0.1917\n",
      "Epoch 155/300\n",
      "1080/1080 [==============================] - 0s 175us/step - loss: 1.7526 - acc: 0.2065 - val_loss: 1.7574 - val_acc: 0.1917\n",
      "Epoch 156/300\n",
      "1080/1080 [==============================] - 0s 175us/step - loss: 1.7522 - acc: 0.2046 - val_loss: 1.7579 - val_acc: 0.2000\n",
      "Epoch 157/300\n",
      "1080/1080 [==============================] - 0s 174us/step - loss: 1.7520 - acc: 0.2074 - val_loss: 1.7568 - val_acc: 0.1917\n",
      "Epoch 158/300\n",
      "1080/1080 [==============================] - 0s 174us/step - loss: 1.7517 - acc: 0.2046 - val_loss: 1.7574 - val_acc: 0.2083\n",
      "Epoch 159/300\n",
      "1080/1080 [==============================] - 0s 175us/step - loss: 1.7519 - acc: 0.2130 - val_loss: 1.7564 - val_acc: 0.1917\n",
      "Epoch 160/300\n",
      "1080/1080 [==============================] - 0s 175us/step - loss: 1.7515 - acc: 0.2046 - val_loss: 1.7571 - val_acc: 0.2083\n",
      "Epoch 161/300\n",
      "1080/1080 [==============================] - 0s 175us/step - loss: 1.7510 - acc: 0.2065 - val_loss: 1.7558 - val_acc: 0.1917\n",
      "Epoch 162/300\n",
      "1080/1080 [==============================] - 0s 172us/step - loss: 1.7510 - acc: 0.2130 - val_loss: 1.7552 - val_acc: 0.1917\n",
      "Epoch 163/300\n",
      "1080/1080 [==============================] - 0s 174us/step - loss: 1.7507 - acc: 0.2000 - val_loss: 1.7567 - val_acc: 0.2000\n",
      "Epoch 164/300\n",
      "1080/1080 [==============================] - 0s 175us/step - loss: 1.7503 - acc: 0.2111 - val_loss: 1.7552 - val_acc: 0.1917\n",
      "Epoch 165/300\n",
      "1080/1080 [==============================] - 0s 173us/step - loss: 1.7499 - acc: 0.2056 - val_loss: 1.7551 - val_acc: 0.1917\n",
      "Epoch 166/300\n",
      "1080/1080 [==============================] - 0s 175us/step - loss: 1.7497 - acc: 0.2083 - val_loss: 1.7551 - val_acc: 0.2000\n",
      "Epoch 167/300\n",
      "1080/1080 [==============================] - 0s 177us/step - loss: 1.7493 - acc: 0.2065 - val_loss: 1.7546 - val_acc: 0.1917\n",
      "Epoch 168/300\n",
      "1080/1080 [==============================] - 0s 174us/step - loss: 1.7489 - acc: 0.2167 - val_loss: 1.7538 - val_acc: 0.1917\n",
      "Epoch 169/300\n",
      "1080/1080 [==============================] - 0s 175us/step - loss: 1.7493 - acc: 0.2065 - val_loss: 1.7567 - val_acc: 0.2500\n",
      "Epoch 170/300\n",
      "1080/1080 [==============================] - 0s 177us/step - loss: 1.7488 - acc: 0.2139 - val_loss: 1.7531 - val_acc: 0.1917\n",
      "Epoch 171/300\n",
      "1080/1080 [==============================] - 0s 175us/step - loss: 1.7478 - acc: 0.2083 - val_loss: 1.7533 - val_acc: 0.1917\n",
      "Epoch 172/300\n",
      "1080/1080 [==============================] - 0s 174us/step - loss: 1.7478 - acc: 0.2102 - val_loss: 1.7536 - val_acc: 0.2083\n",
      "Epoch 173/300\n",
      "1080/1080 [==============================] - 0s 174us/step - loss: 1.7473 - acc: 0.2093 - val_loss: 1.7530 - val_acc: 0.1917\n",
      "Epoch 174/300\n",
      "1080/1080 [==============================] - 0s 178us/step - loss: 1.7469 - acc: 0.2111 - val_loss: 1.7525 - val_acc: 0.1917\n",
      "Epoch 175/300\n",
      "1080/1080 [==============================] - 0s 174us/step - loss: 1.7469 - acc: 0.2046 - val_loss: 1.7536 - val_acc: 0.2250\n",
      "Epoch 176/300\n",
      "1080/1080 [==============================] - 0s 174us/step - loss: 1.7466 - acc: 0.2120 - val_loss: 1.7516 - val_acc: 0.1917\n",
      "Epoch 177/300\n",
      "1080/1080 [==============================] - 0s 173us/step - loss: 1.7459 - acc: 0.2111 - val_loss: 1.7527 - val_acc: 0.2167\n",
      "Epoch 178/300\n"
     ]
    },
    {
     "name": "stdout",
     "output_type": "stream",
     "text": [
      "1080/1080 [==============================] - 0s 174us/step - loss: 1.7461 - acc: 0.2167 - val_loss: 1.7509 - val_acc: 0.1917\n",
      "Epoch 179/300\n",
      "1080/1080 [==============================] - 0s 177us/step - loss: 1.7460 - acc: 0.2102 - val_loss: 1.7526 - val_acc: 0.2250\n",
      "Epoch 180/300\n",
      "1080/1080 [==============================] - 0s 178us/step - loss: 1.7451 - acc: 0.2185 - val_loss: 1.7506 - val_acc: 0.1917\n",
      "Epoch 181/300\n",
      "1080/1080 [==============================] - 0s 180us/step - loss: 1.7449 - acc: 0.2056 - val_loss: 1.7516 - val_acc: 0.2083\n",
      "Epoch 182/300\n",
      "1080/1080 [==============================] - 0s 182us/step - loss: 1.7447 - acc: 0.2148 - val_loss: 1.7509 - val_acc: 0.2083\n",
      "Epoch 183/300\n",
      "1080/1080 [==============================] - 0s 175us/step - loss: 1.7444 - acc: 0.2139 - val_loss: 1.7507 - val_acc: 0.2083\n",
      "Epoch 184/300\n",
      "1080/1080 [==============================] - 0s 174us/step - loss: 1.7437 - acc: 0.2093 - val_loss: 1.7494 - val_acc: 0.1917\n",
      "Epoch 185/300\n",
      "1080/1080 [==============================] - 0s 182us/step - loss: 1.7434 - acc: 0.2093 - val_loss: 1.7504 - val_acc: 0.2250\n",
      "Epoch 186/300\n",
      "1080/1080 [==============================] - 0s 175us/step - loss: 1.7434 - acc: 0.2102 - val_loss: 1.7499 - val_acc: 0.2083\n",
      "Epoch 187/300\n",
      "1080/1080 [==============================] - 0s 176us/step - loss: 1.7437 - acc: 0.2259 - val_loss: 1.7488 - val_acc: 0.1917\n",
      "Epoch 188/300\n",
      "1080/1080 [==============================] - 0s 175us/step - loss: 1.7428 - acc: 0.2074 - val_loss: 1.7497 - val_acc: 0.2250\n",
      "Epoch 189/300\n",
      "1080/1080 [==============================] - 0s 175us/step - loss: 1.7430 - acc: 0.2176 - val_loss: 1.7480 - val_acc: 0.1917\n",
      "Epoch 190/300\n",
      "1080/1080 [==============================] - 0s 174us/step - loss: 1.7425 - acc: 0.2250 - val_loss: 1.7478 - val_acc: 0.2000\n",
      "Epoch 191/300\n",
      "1080/1080 [==============================] - 0s 174us/step - loss: 1.7418 - acc: 0.2065 - val_loss: 1.7482 - val_acc: 0.2083\n",
      "Epoch 192/300\n",
      "1080/1080 [==============================] - 0s 179us/step - loss: 1.7415 - acc: 0.2222 - val_loss: 1.7478 - val_acc: 0.2000\n",
      "Epoch 193/300\n",
      "1080/1080 [==============================] - 0s 173us/step - loss: 1.7413 - acc: 0.2074 - val_loss: 1.7480 - val_acc: 0.2250\n",
      "Epoch 194/300\n",
      "1080/1080 [==============================] - 0s 174us/step - loss: 1.7416 - acc: 0.2074 - val_loss: 1.7470 - val_acc: 0.1917\n",
      "Epoch 195/300\n",
      "1080/1080 [==============================] - 0s 177us/step - loss: 1.7413 - acc: 0.2361 - val_loss: 1.7465 - val_acc: 0.1917\n",
      "Epoch 196/300\n",
      "1080/1080 [==============================] - 0s 175us/step - loss: 1.7413 - acc: 0.2009 - val_loss: 1.7476 - val_acc: 0.2333\n",
      "Epoch 197/300\n",
      "1080/1080 [==============================] - 0s 173us/step - loss: 1.7404 - acc: 0.2306 - val_loss: 1.7455 - val_acc: 0.1917\n",
      "Epoch 198/300\n",
      "1080/1080 [==============================] - 0s 173us/step - loss: 1.7397 - acc: 0.2102 - val_loss: 1.7463 - val_acc: 0.2333\n",
      "Epoch 199/300\n",
      "1080/1080 [==============================] - 0s 174us/step - loss: 1.7396 - acc: 0.2083 - val_loss: 1.7470 - val_acc: 0.2333\n",
      "Epoch 200/300\n",
      "1080/1080 [==============================] - 0s 177us/step - loss: 1.7396 - acc: 0.2241 - val_loss: 1.7450 - val_acc: 0.1917\n",
      "Epoch 201/300\n",
      "1080/1080 [==============================] - 0s 173us/step - loss: 1.7385 - acc: 0.2157 - val_loss: 1.7453 - val_acc: 0.2250\n",
      "Epoch 202/300\n",
      "1080/1080 [==============================] - 0s 176us/step - loss: 1.7383 - acc: 0.2102 - val_loss: 1.7453 - val_acc: 0.2417\n",
      "Epoch 203/300\n",
      "1080/1080 [==============================] - 0s 175us/step - loss: 1.7382 - acc: 0.2185 - val_loss: 1.7439 - val_acc: 0.1917\n",
      "Epoch 204/300\n",
      "1080/1080 [==============================] - 0s 175us/step - loss: 1.7374 - acc: 0.2213 - val_loss: 1.7444 - val_acc: 0.2250\n",
      "Epoch 205/300\n",
      "1080/1080 [==============================] - 0s 177us/step - loss: 1.7372 - acc: 0.2120 - val_loss: 1.7442 - val_acc: 0.2250\n",
      "Epoch 206/300\n",
      "1080/1080 [==============================] - 0s 174us/step - loss: 1.7368 - acc: 0.2167 - val_loss: 1.7431 - val_acc: 0.1917\n",
      "Epoch 207/300\n",
      "1080/1080 [==============================] - 0s 176us/step - loss: 1.7372 - acc: 0.2120 - val_loss: 1.7436 - val_acc: 0.2333\n",
      "Epoch 208/300\n",
      "1080/1080 [==============================] - 0s 174us/step - loss: 1.7359 - acc: 0.2194 - val_loss: 1.7429 - val_acc: 0.2167\n",
      "Epoch 209/300\n",
      "1080/1080 [==============================] - 0s 173us/step - loss: 1.7359 - acc: 0.2093 - val_loss: 1.7441 - val_acc: 0.2500\n",
      "Epoch 210/300\n",
      "1080/1080 [==============================] - 0s 175us/step - loss: 1.7358 - acc: 0.2278 - val_loss: 1.7423 - val_acc: 0.2000\n",
      "Epoch 211/300\n",
      "1080/1080 [==============================] - 0s 173us/step - loss: 1.7353 - acc: 0.2093 - val_loss: 1.7434 - val_acc: 0.2500\n",
      "Epoch 212/300\n",
      "1080/1080 [==============================] - 0s 175us/step - loss: 1.7351 - acc: 0.2278 - val_loss: 1.7412 - val_acc: 0.1917\n",
      "Epoch 213/300\n",
      "1080/1080 [==============================] - 0s 173us/step - loss: 1.7353 - acc: 0.2130 - val_loss: 1.7431 - val_acc: 0.2500\n",
      "Epoch 214/300\n",
      "1080/1080 [==============================] - 0s 176us/step - loss: 1.7345 - acc: 0.2306 - val_loss: 1.7411 - val_acc: 0.2000\n",
      "Epoch 215/300\n",
      "1080/1080 [==============================] - 0s 175us/step - loss: 1.7345 - acc: 0.2176 - val_loss: 1.7415 - val_acc: 0.2417\n",
      "Epoch 216/300\n",
      "1080/1080 [==============================] - 0s 174us/step - loss: 1.7337 - acc: 0.2130 - val_loss: 1.7416 - val_acc: 0.2500\n",
      "Epoch 217/300\n",
      "1080/1080 [==============================] - 0s 175us/step - loss: 1.7335 - acc: 0.2250 - val_loss: 1.7405 - val_acc: 0.2250\n",
      "Epoch 218/300\n",
      "1080/1080 [==============================] - 0s 173us/step - loss: 1.7327 - acc: 0.2176 - val_loss: 1.7406 - val_acc: 0.2500\n",
      "Epoch 219/300\n",
      "1080/1080 [==============================] - 0s 185us/step - loss: 1.7326 - acc: 0.2176 - val_loss: 1.7402 - val_acc: 0.2250\n",
      "Epoch 220/300\n",
      "1080/1080 [==============================] - 0s 174us/step - loss: 1.7329 - acc: 0.2296 - val_loss: 1.7397 - val_acc: 0.2417\n",
      "Epoch 221/300\n",
      "1080/1080 [==============================] - 0s 178us/step - loss: 1.7334 - acc: 0.2056 - val_loss: 1.7398 - val_acc: 0.2417\n",
      "Epoch 222/300\n",
      "1080/1080 [==============================] - 0s 174us/step - loss: 1.7327 - acc: 0.2361 - val_loss: 1.7386 - val_acc: 0.2250\n",
      "Epoch 223/300\n",
      "1080/1080 [==============================] - 0s 176us/step - loss: 1.7316 - acc: 0.2213 - val_loss: 1.7393 - val_acc: 0.2417\n",
      "Epoch 224/300\n",
      "1080/1080 [==============================] - 0s 175us/step - loss: 1.7311 - acc: 0.2157 - val_loss: 1.7388 - val_acc: 0.2500\n",
      "Epoch 225/300\n",
      "1080/1080 [==============================] - 0s 179us/step - loss: 1.7305 - acc: 0.2250 - val_loss: 1.7388 - val_acc: 0.2417\n",
      "Epoch 226/300\n",
      "1080/1080 [==============================] - 0s 176us/step - loss: 1.7303 - acc: 0.2213 - val_loss: 1.7388 - val_acc: 0.2500\n",
      "Epoch 227/300\n",
      "1080/1080 [==============================] - 0s 178us/step - loss: 1.7303 - acc: 0.2296 - val_loss: 1.7382 - val_acc: 0.2417\n",
      "Epoch 228/300\n",
      "1080/1080 [==============================] - 0s 174us/step - loss: 1.7296 - acc: 0.2213 - val_loss: 1.7378 - val_acc: 0.2500\n",
      "Epoch 229/300\n",
      "1080/1080 [==============================] - 0s 175us/step - loss: 1.7295 - acc: 0.2185 - val_loss: 1.7375 - val_acc: 0.2500\n",
      "Epoch 230/300\n",
      "1080/1080 [==============================] - 0s 174us/step - loss: 1.7300 - acc: 0.2361 - val_loss: 1.7363 - val_acc: 0.2250\n",
      "Epoch 231/300\n",
      "1080/1080 [==============================] - 0s 184us/step - loss: 1.7287 - acc: 0.2157 - val_loss: 1.7367 - val_acc: 0.2333\n",
      "Epoch 232/300\n",
      "1080/1080 [==============================] - 0s 174us/step - loss: 1.7283 - acc: 0.2315 - val_loss: 1.7356 - val_acc: 0.2333\n",
      "Epoch 233/300\n",
      "1080/1080 [==============================] - 0s 176us/step - loss: 1.7278 - acc: 0.2204 - val_loss: 1.7365 - val_acc: 0.2500\n",
      "Epoch 234/300\n",
      "1080/1080 [==============================] - 0s 174us/step - loss: 1.7279 - acc: 0.2241 - val_loss: 1.7353 - val_acc: 0.2333\n",
      "Epoch 235/300\n",
      "1080/1080 [==============================] - 0s 173us/step - loss: 1.7272 - acc: 0.2213 - val_loss: 1.7357 - val_acc: 0.2500\n",
      "Epoch 236/300\n",
      "1080/1080 [==============================] - 0s 175us/step - loss: 1.7269 - acc: 0.2259 - val_loss: 1.7351 - val_acc: 0.2500\n",
      "Epoch 237/300\n"
     ]
    },
    {
     "name": "stdout",
     "output_type": "stream",
     "text": [
      "1080/1080 [==============================] - 0s 173us/step - loss: 1.7266 - acc: 0.2241 - val_loss: 1.7341 - val_acc: 0.2333\n",
      "Epoch 238/300\n",
      "1080/1080 [==============================] - 0s 175us/step - loss: 1.7267 - acc: 0.2269 - val_loss: 1.7345 - val_acc: 0.2500\n",
      "Epoch 239/300\n",
      "1080/1080 [==============================] - 0s 174us/step - loss: 1.7261 - acc: 0.2278 - val_loss: 1.7345 - val_acc: 0.2500\n",
      "Epoch 240/300\n",
      "1080/1080 [==============================] - 0s 173us/step - loss: 1.7256 - acc: 0.2213 - val_loss: 1.7340 - val_acc: 0.2500\n",
      "Epoch 241/300\n",
      "1080/1080 [==============================] - 0s 177us/step - loss: 1.7266 - acc: 0.2435 - val_loss: 1.7334 - val_acc: 0.2500\n",
      "Epoch 242/300\n",
      "1080/1080 [==============================] - 0s 179us/step - loss: 1.7260 - acc: 0.2093 - val_loss: 1.7341 - val_acc: 0.2417\n",
      "Epoch 243/300\n",
      "1080/1080 [==============================] - 0s 176us/step - loss: 1.7251 - acc: 0.2306 - val_loss: 1.7329 - val_acc: 0.2500\n",
      "Epoch 244/300\n",
      "1080/1080 [==============================] - 0s 177us/step - loss: 1.7241 - acc: 0.2315 - val_loss: 1.7328 - val_acc: 0.2417\n",
      "Epoch 245/300\n",
      "1080/1080 [==============================] - 0s 179us/step - loss: 1.7240 - acc: 0.2343 - val_loss: 1.7318 - val_acc: 0.2417\n",
      "Epoch 246/300\n",
      "1080/1080 [==============================] - 0s 175us/step - loss: 1.7236 - acc: 0.2278 - val_loss: 1.7323 - val_acc: 0.2417\n",
      "Epoch 247/300\n",
      "1080/1080 [==============================] - 0s 176us/step - loss: 1.7230 - acc: 0.2287 - val_loss: 1.7321 - val_acc: 0.2417\n",
      "Epoch 248/300\n",
      "1080/1080 [==============================] - 0s 174us/step - loss: 1.7228 - acc: 0.2370 - val_loss: 1.7315 - val_acc: 0.2417\n",
      "Epoch 249/300\n",
      "1080/1080 [==============================] - 0s 175us/step - loss: 1.7224 - acc: 0.2306 - val_loss: 1.7310 - val_acc: 0.2500\n",
      "Epoch 250/300\n",
      "1080/1080 [==============================] - 0s 174us/step - loss: 1.7222 - acc: 0.2278 - val_loss: 1.7311 - val_acc: 0.2417\n",
      "Epoch 251/300\n",
      "1080/1080 [==============================] - 0s 175us/step - loss: 1.7218 - acc: 0.2315 - val_loss: 1.7307 - val_acc: 0.2500\n",
      "Epoch 252/300\n",
      "1080/1080 [==============================] - 0s 182us/step - loss: 1.7213 - acc: 0.2259 - val_loss: 1.7317 - val_acc: 0.2333\n",
      "Epoch 253/300\n",
      "1080/1080 [==============================] - 0s 178us/step - loss: 1.7214 - acc: 0.2398 - val_loss: 1.7288 - val_acc: 0.2417\n",
      "Epoch 254/300\n",
      "1080/1080 [==============================] - 0s 175us/step - loss: 1.7210 - acc: 0.2306 - val_loss: 1.7303 - val_acc: 0.2333\n",
      "Epoch 255/300\n",
      "1080/1080 [==============================] - 0s 174us/step - loss: 1.7208 - acc: 0.2250 - val_loss: 1.7297 - val_acc: 0.2333\n",
      "Epoch 256/300\n",
      "1080/1080 [==============================] - 0s 173us/step - loss: 1.7206 - acc: 0.2352 - val_loss: 1.7290 - val_acc: 0.2417\n",
      "Epoch 257/300\n",
      "1080/1080 [==============================] - 0s 178us/step - loss: 1.7196 - acc: 0.2296 - val_loss: 1.7298 - val_acc: 0.2333\n",
      "Epoch 258/300\n",
      "1080/1080 [==============================] - 0s 175us/step - loss: 1.7197 - acc: 0.2380 - val_loss: 1.7282 - val_acc: 0.2333\n",
      "Epoch 259/300\n",
      "1080/1080 [==============================] - 0s 172us/step - loss: 1.7191 - acc: 0.2333 - val_loss: 1.7281 - val_acc: 0.2417\n",
      "Epoch 260/300\n",
      "1080/1080 [==============================] - 0s 174us/step - loss: 1.7188 - acc: 0.2333 - val_loss: 1.7276 - val_acc: 0.2333\n",
      "Epoch 261/300\n",
      "1080/1080 [==============================] - 0s 175us/step - loss: 1.7184 - acc: 0.2407 - val_loss: 1.7270 - val_acc: 0.2417\n",
      "Epoch 262/300\n",
      "1080/1080 [==============================] - 0s 173us/step - loss: 1.7183 - acc: 0.2324 - val_loss: 1.7283 - val_acc: 0.2333\n",
      "Epoch 263/300\n",
      "1080/1080 [==============================] - 0s 176us/step - loss: 1.7180 - acc: 0.2407 - val_loss: 1.7275 - val_acc: 0.2333\n",
      "Epoch 264/300\n",
      "1080/1080 [==============================] - 0s 177us/step - loss: 1.7179 - acc: 0.2306 - val_loss: 1.7260 - val_acc: 0.2500\n",
      "Epoch 265/300\n",
      "1080/1080 [==============================] - 0s 179us/step - loss: 1.7179 - acc: 0.2352 - val_loss: 1.7285 - val_acc: 0.2333\n",
      "Epoch 266/300\n",
      "1080/1080 [==============================] - 0s 184us/step - loss: 1.7176 - acc: 0.2444 - val_loss: 1.7256 - val_acc: 0.2500\n",
      "Epoch 267/300\n",
      "1080/1080 [==============================] - 0s 175us/step - loss: 1.7175 - acc: 0.2315 - val_loss: 1.7282 - val_acc: 0.2333\n",
      "Epoch 268/300\n",
      "1080/1080 [==============================] - 0s 174us/step - loss: 1.7174 - acc: 0.2324 - val_loss: 1.7252 - val_acc: 0.2500\n",
      "Epoch 269/300\n",
      "1080/1080 [==============================] - 0s 173us/step - loss: 1.7163 - acc: 0.2426 - val_loss: 1.7262 - val_acc: 0.2333\n",
      "Epoch 270/300\n",
      "1080/1080 [==============================] - 0s 176us/step - loss: 1.7154 - acc: 0.2398 - val_loss: 1.7250 - val_acc: 0.2333\n",
      "Epoch 271/300\n",
      "1080/1080 [==============================] - 0s 190us/step - loss: 1.7148 - acc: 0.2426 - val_loss: 1.7244 - val_acc: 0.2333\n",
      "Epoch 272/300\n",
      "1080/1080 [==============================] - 0s 174us/step - loss: 1.7144 - acc: 0.2398 - val_loss: 1.7248 - val_acc: 0.2333\n",
      "Epoch 273/300\n",
      "1080/1080 [==============================] - 0s 175us/step - loss: 1.7141 - acc: 0.2407 - val_loss: 1.7236 - val_acc: 0.2333\n",
      "Epoch 274/300\n",
      "1080/1080 [==============================] - 0s 179us/step - loss: 1.7140 - acc: 0.2444 - val_loss: 1.7235 - val_acc: 0.2333\n",
      "Epoch 275/300\n",
      "1080/1080 [==============================] - 0s 176us/step - loss: 1.7137 - acc: 0.2370 - val_loss: 1.7237 - val_acc: 0.2333\n",
      "Epoch 276/300\n",
      "1080/1080 [==============================] - 0s 179us/step - loss: 1.7130 - acc: 0.2454 - val_loss: 1.7226 - val_acc: 0.2333\n",
      "Epoch 277/300\n",
      "1080/1080 [==============================] - 0s 178us/step - loss: 1.7128 - acc: 0.2407 - val_loss: 1.7224 - val_acc: 0.2333\n",
      "Epoch 278/300\n",
      "1080/1080 [==============================] - 0s 176us/step - loss: 1.7124 - acc: 0.2370 - val_loss: 1.7235 - val_acc: 0.2417\n",
      "Epoch 279/300\n",
      "1080/1080 [==============================] - 0s 175us/step - loss: 1.7126 - acc: 0.2463 - val_loss: 1.7222 - val_acc: 0.2333\n",
      "Epoch 280/300\n",
      "1080/1080 [==============================] - 0s 173us/step - loss: 1.7118 - acc: 0.2454 - val_loss: 1.7221 - val_acc: 0.2333\n",
      "Epoch 281/300\n",
      "1080/1080 [==============================] - 0s 178us/step - loss: 1.7121 - acc: 0.2380 - val_loss: 1.7225 - val_acc: 0.2333\n",
      "Epoch 282/300\n",
      "1080/1080 [==============================] - 0s 173us/step - loss: 1.7114 - acc: 0.2574 - val_loss: 1.7207 - val_acc: 0.2333\n",
      "Epoch 283/300\n",
      "1080/1080 [==============================] - 0s 176us/step - loss: 1.7109 - acc: 0.2370 - val_loss: 1.7222 - val_acc: 0.2417\n",
      "Epoch 284/300\n",
      "1080/1080 [==============================] - 0s 181us/step - loss: 1.7107 - acc: 0.2583 - val_loss: 1.7194 - val_acc: 0.2333\n",
      "Epoch 285/300\n",
      "1080/1080 [==============================] - 0s 178us/step - loss: 1.7109 - acc: 0.2315 - val_loss: 1.7214 - val_acc: 0.2417\n",
      "Epoch 286/300\n",
      "1080/1080 [==============================] - 0s 181us/step - loss: 1.7097 - acc: 0.2481 - val_loss: 1.7199 - val_acc: 0.2333\n",
      "Epoch 287/300\n",
      "1080/1080 [==============================] - 0s 180us/step - loss: 1.7094 - acc: 0.2500 - val_loss: 1.7200 - val_acc: 0.2333\n",
      "Epoch 288/300\n",
      "1080/1080 [==============================] - 0s 175us/step - loss: 1.7102 - acc: 0.2352 - val_loss: 1.7198 - val_acc: 0.2333\n",
      "Epoch 289/300\n",
      "1080/1080 [==============================] - 0s 177us/step - loss: 1.7087 - acc: 0.2481 - val_loss: 1.7183 - val_acc: 0.2333\n",
      "Epoch 290/300\n",
      "1080/1080 [==============================] - 0s 175us/step - loss: 1.7084 - acc: 0.2509 - val_loss: 1.7184 - val_acc: 0.2333\n",
      "Epoch 291/300\n",
      "1080/1080 [==============================] - 0s 175us/step - loss: 1.7080 - acc: 0.2454 - val_loss: 1.7181 - val_acc: 0.2333\n",
      "Epoch 292/300\n",
      "1080/1080 [==============================] - 0s 184us/step - loss: 1.7076 - acc: 0.2509 - val_loss: 1.7181 - val_acc: 0.2333\n",
      "Epoch 293/300\n",
      "1080/1080 [==============================] - 0s 176us/step - loss: 1.7074 - acc: 0.2343 - val_loss: 1.7179 - val_acc: 0.2333\n",
      "Epoch 294/300\n",
      "1080/1080 [==============================] - 0s 174us/step - loss: 1.7078 - acc: 0.2565 - val_loss: 1.7161 - val_acc: 0.2333\n",
      "Epoch 295/300\n",
      "1080/1080 [==============================] - 0s 175us/step - loss: 1.7066 - acc: 0.2343 - val_loss: 1.7186 - val_acc: 0.2417\n",
      "Epoch 296/300\n"
     ]
    },
    {
     "name": "stdout",
     "output_type": "stream",
     "text": [
      "1080/1080 [==============================] - 0s 190us/step - loss: 1.7064 - acc: 0.2556 - val_loss: 1.7162 - val_acc: 0.2333\n",
      "Epoch 297/300\n",
      "1080/1080 [==============================] - 0s 175us/step - loss: 1.7055 - acc: 0.2491 - val_loss: 1.7160 - val_acc: 0.2333\n",
      "Epoch 298/300\n",
      "1080/1080 [==============================] - 0s 177us/step - loss: 1.7056 - acc: 0.2481 - val_loss: 1.7149 - val_acc: 0.2333\n",
      "Epoch 299/300\n",
      "1080/1080 [==============================] - 0s 173us/step - loss: 1.7052 - acc: 0.2407 - val_loss: 1.7160 - val_acc: 0.2417\n",
      "Epoch 300/300\n",
      "1080/1080 [==============================] - 0s 177us/step - loss: 1.7051 - acc: 0.2481 - val_loss: 1.7168 - val_acc: 0.2417\n",
      "1080/1080 [==============================] - 0s 150us/step\n"
     ]
    },
    {
     "data": {
      "text/plain": [
       "[1.7044393398143627, 0.2537037039244616]"
      ]
     },
     "execution_count": 10,
     "metadata": {},
     "output_type": "execute_result"
    },
    {
     "name": "stdout",
     "output_type": "stream",
     "text": [
      "120/120 [==============================] - 0s 150us/step\n"
     ]
    },
    {
     "data": {
      "text/plain": [
       "[1.716764267285665, 0.24166666467984518]"
      ]
     },
     "execution_count": 10,
     "metadata": {},
     "output_type": "execute_result"
    },
    {
     "data": {
      "text/plain": [
       "array([[ 14,   0,  55, 111,   0,   0],\n",
       "       [ 43,   0,  32, 105,   0,   0],\n",
       "       [ 13,   0,  81,  86,   0,   0],\n",
       "       [  0,   0,   1, 179,   0,   0],\n",
       "       [  5,   0,  50, 125,   0,   0],\n",
       "       [  9,   0,  23, 148,   0,   0]], dtype=int64)"
      ]
     },
     "execution_count": 10,
     "metadata": {},
     "output_type": "execute_result"
    },
    {
     "data": {
      "text/plain": [
       "array([[ 0,  0,  4, 16,  0,  0],\n",
       "       [ 3,  0,  3, 14,  0,  0],\n",
       "       [ 2,  0,  9,  9,  0,  0],\n",
       "       [ 0,  0,  0, 20,  0,  0],\n",
       "       [ 0,  0,  5, 15,  0,  0],\n",
       "       [ 0,  0,  6, 14,  0,  0]], dtype=int64)"
      ]
     },
     "execution_count": 10,
     "metadata": {},
     "output_type": "execute_result"
    }
   ],
   "source": [
    "# Solve Here\n",
    "model = Sequential()\n",
    "model.add(Dense(6, input_shape = (x_train_pix.shape[1],), activation='relu'))\n",
    "model.add(Dense(9, activation='relu'))\n",
    "model.add(Dense(10, activation='relu'))\n",
    "model.add(Dense(10, activation='relu'))\n",
    "model.add(Dense(9, activation='relu'))\n",
    "model.add(Dense(6, activation='softmax'))\n",
    "\n",
    "model.compile(loss='categorical_crossentropy', optimizer = keras.optimizers.Adam(lr=0.00001), metrics=['accuracy'])\n",
    "history = model.fit(x_train_pix, onehotlabels_train, epochs=300, batch_size=100, \\\n",
    "          validation_data=(x_test_pix, onehotlabels_test))\n",
    "\n",
    "# predict values, calculate accuracy, and create confusion matrix for train and test\n",
    "train_pred = model.predict_classes(x_train_pix)\n",
    "test_pred = model.predict_classes(x_test_pix)\n",
    "\n",
    "model.evaluate(x_train_pix, onehotlabels_train)\n",
    "model.evaluate(x_test_pix, onehotlabels_test)\n",
    "\n",
    "metrics.confusion_matrix(y_train,train_pred)\n",
    "metrics.confusion_matrix(y_test,test_pred)"
   ]
  },
  {
   "cell_type": "markdown",
   "metadata": {},
   "source": [
    "Build a new model and increase the number of layers and neurons .. maybe 7 or 8 layers with number of neurons between 200 and 1000. Do you see a difference in the accuracy?\n",
    "\n",
    "\n",
    "What is the training and validation accuracy and confusion matrix for both?"
   ]
  },
  {
   "cell_type": "code",
   "execution_count": 11,
   "metadata": {
    "scrolled": true
   },
   "outputs": [
    {
     "name": "stdout",
     "output_type": "stream",
     "text": [
      "Train on 1080 samples, validate on 120 samples\n",
      "Epoch 1/300\n",
      "1080/1080 [==============================] - 2s 2ms/step - loss: 1.7872 - acc: 0.1852 - val_loss: 1.7795 - val_acc: 0.2417\n",
      "Epoch 2/300\n",
      "1080/1080 [==============================] - 1s 761us/step - loss: 1.7731 - acc: 0.2657 - val_loss: 1.7660 - val_acc: 0.3000\n",
      "Epoch 3/300\n",
      "1080/1080 [==============================] - 1s 754us/step - loss: 1.7606 - acc: 0.3583 - val_loss: 1.7540 - val_acc: 0.3417\n",
      "Epoch 4/300\n",
      "1080/1080 [==============================] - 1s 759us/step - loss: 1.7476 - acc: 0.4167 - val_loss: 1.7405 - val_acc: 0.4167\n",
      "Epoch 5/300\n",
      "1080/1080 [==============================] - 1s 750us/step - loss: 1.7329 - acc: 0.4528 - val_loss: 1.7234 - val_acc: 0.4667\n",
      "Epoch 6/300\n",
      "1080/1080 [==============================] - 1s 752us/step - loss: 1.7156 - acc: 0.4546 - val_loss: 1.7040 - val_acc: 0.4000\n",
      "Epoch 7/300\n",
      "1080/1080 [==============================] - 1s 749us/step - loss: 1.6942 - acc: 0.4657 - val_loss: 1.6827 - val_acc: 0.4583\n",
      "Epoch 8/300\n",
      "1080/1080 [==============================] - 1s 765us/step - loss: 1.6727 - acc: 0.4611 - val_loss: 1.6584 - val_acc: 0.4917\n",
      "Epoch 9/300\n",
      "1080/1080 [==============================] - 1s 771us/step - loss: 1.6435 - acc: 0.4861 - val_loss: 1.6263 - val_acc: 0.4500\n",
      "Epoch 10/300\n",
      "1080/1080 [==============================] - 1s 750us/step - loss: 1.6175 - acc: 0.4509 - val_loss: 1.5933 - val_acc: 0.4250\n",
      "Epoch 11/300\n",
      "1080/1080 [==============================] - 1s 746us/step - loss: 1.5882 - acc: 0.4519 - val_loss: 1.5612 - val_acc: 0.5000\n",
      "Epoch 12/300\n",
      "1080/1080 [==============================] - 1s 759us/step - loss: 1.5446 - acc: 0.5028 - val_loss: 1.5355 - val_acc: 0.5250\n",
      "Epoch 13/300\n",
      "1080/1080 [==============================] - 1s 744us/step - loss: 1.5168 - acc: 0.4796 - val_loss: 1.5020 - val_acc: 0.4000\n",
      "Epoch 14/300\n",
      "1080/1080 [==============================] - 1s 753us/step - loss: 1.4805 - acc: 0.4685 - val_loss: 1.4640 - val_acc: 0.4750\n",
      "Epoch 15/300\n",
      "1080/1080 [==============================] - 1s 759us/step - loss: 1.4483 - acc: 0.5056 - val_loss: 1.4118 - val_acc: 0.5083\n",
      "Epoch 16/300\n",
      "1080/1080 [==============================] - 1s 753us/step - loss: 1.4043 - acc: 0.5111 - val_loss: 1.3957 - val_acc: 0.5250\n",
      "Epoch 17/300\n",
      "1080/1080 [==============================] - 1s 760us/step - loss: 1.3715 - acc: 0.5250 - val_loss: 1.3452 - val_acc: 0.5083\n",
      "Epoch 18/300\n",
      "1080/1080 [==============================] - 1s 748us/step - loss: 1.3376 - acc: 0.5676 - val_loss: 1.3374 - val_acc: 0.5250\n",
      "Epoch 19/300\n",
      "1080/1080 [==============================] - 1s 768us/step - loss: 1.3150 - acc: 0.5352 - val_loss: 1.2879 - val_acc: 0.5583\n",
      "Epoch 20/300\n",
      "1080/1080 [==============================] - 1s 760us/step - loss: 1.2859 - acc: 0.5380 - val_loss: 1.2590 - val_acc: 0.5500\n",
      "Epoch 21/300\n",
      "1080/1080 [==============================] - 1s 765us/step - loss: 1.2492 - acc: 0.5861 - val_loss: 1.2381 - val_acc: 0.5917\n",
      "Epoch 22/300\n",
      "1080/1080 [==============================] - 1s 767us/step - loss: 1.2315 - acc: 0.5481 - val_loss: 1.2410 - val_acc: 0.5000\n",
      "Epoch 23/300\n",
      "1080/1080 [==============================] - 1s 774us/step - loss: 1.2109 - acc: 0.5861 - val_loss: 1.1902 - val_acc: 0.5333\n",
      "Epoch 24/300\n",
      "1080/1080 [==============================] - 1s 763us/step - loss: 1.1686 - acc: 0.6120 - val_loss: 1.1702 - val_acc: 0.5667\n",
      "Epoch 25/300\n",
      "1080/1080 [==============================] - 1s 771us/step - loss: 1.1477 - acc: 0.6083 - val_loss: 1.1457 - val_acc: 0.6000\n",
      "Epoch 26/300\n",
      "1080/1080 [==============================] - 1s 771us/step - loss: 1.1265 - acc: 0.6361 - val_loss: 1.1696 - val_acc: 0.5500\n",
      "Epoch 27/300\n",
      "1080/1080 [==============================] - 1s 769us/step - loss: 1.1188 - acc: 0.6194 - val_loss: 1.1048 - val_acc: 0.6000\n",
      "Epoch 28/300\n",
      "1080/1080 [==============================] - 1s 786us/step - loss: 1.0933 - acc: 0.6250 - val_loss: 1.0959 - val_acc: 0.5833\n",
      "Epoch 29/300\n",
      "1080/1080 [==============================] - 1s 773us/step - loss: 1.0689 - acc: 0.6583 - val_loss: 1.0625 - val_acc: 0.6417\n",
      "Epoch 30/300\n",
      "1080/1080 [==============================] - 1s 796us/step - loss: 1.0459 - acc: 0.6537 - val_loss: 1.0446 - val_acc: 0.6000\n",
      "Epoch 31/300\n",
      "1080/1080 [==============================] - 1s 759us/step - loss: 1.0198 - acc: 0.6731 - val_loss: 1.0229 - val_acc: 0.6333\n",
      "Epoch 32/300\n",
      "1080/1080 [==============================] - 1s 754us/step - loss: 1.0049 - acc: 0.6657 - val_loss: 1.0234 - val_acc: 0.5917\n",
      "Epoch 33/300\n",
      "1080/1080 [==============================] - 1s 754us/step - loss: 0.9932 - acc: 0.6852 - val_loss: 1.0396 - val_acc: 0.5750\n",
      "Epoch 34/300\n",
      "1080/1080 [==============================] - 1s 756us/step - loss: 1.0047 - acc: 0.6454 - val_loss: 1.0147 - val_acc: 0.5833\n",
      "Epoch 35/300\n",
      "1080/1080 [==============================] - 1s 746us/step - loss: 0.9610 - acc: 0.6824 - val_loss: 0.9757 - val_acc: 0.6333\n",
      "Epoch 36/300\n",
      "1080/1080 [==============================] - 1s 749us/step - loss: 0.9508 - acc: 0.6880 - val_loss: 0.9567 - val_acc: 0.6583\n",
      "Epoch 37/300\n",
      "1080/1080 [==============================] - 1s 768us/step - loss: 0.9313 - acc: 0.6833 - val_loss: 0.9697 - val_acc: 0.6417\n",
      "Epoch 38/300\n",
      "1080/1080 [==============================] - 1s 753us/step - loss: 0.9161 - acc: 0.7083 - val_loss: 0.9393 - val_acc: 0.6333\n",
      "Epoch 39/300\n",
      "1080/1080 [==============================] - 1s 754us/step - loss: 0.9082 - acc: 0.6889 - val_loss: 0.9358 - val_acc: 0.6583\n",
      "Epoch 40/300\n",
      "1080/1080 [==============================] - 1s 754us/step - loss: 0.8885 - acc: 0.7111 - val_loss: 0.9367 - val_acc: 0.6500\n",
      "Epoch 41/300\n",
      "1080/1080 [==============================] - 1s 749us/step - loss: 0.8863 - acc: 0.7037 - val_loss: 0.9135 - val_acc: 0.6417\n",
      "Epoch 42/300\n",
      "1080/1080 [==============================] - 1s 757us/step - loss: 0.8803 - acc: 0.7083 - val_loss: 0.9237 - val_acc: 0.6750\n",
      "Epoch 43/300\n",
      "1080/1080 [==============================] - 1s 756us/step - loss: 0.8643 - acc: 0.7102 - val_loss: 0.9308 - val_acc: 0.6500\n",
      "Epoch 44/300\n",
      "1080/1080 [==============================] - 1s 763us/step - loss: 0.8498 - acc: 0.7130 - val_loss: 0.8970 - val_acc: 0.6417\n",
      "Epoch 45/300\n",
      "1080/1080 [==============================] - 1s 771us/step - loss: 0.8466 - acc: 0.7083 - val_loss: 0.8732 - val_acc: 0.6500\n",
      "Epoch 46/300\n",
      "1080/1080 [==============================] - 1s 753us/step - loss: 0.8403 - acc: 0.7148 - val_loss: 0.9937 - val_acc: 0.6000\n",
      "Epoch 47/300\n",
      "1080/1080 [==============================] - 1s 770us/step - loss: 0.8421 - acc: 0.7130 - val_loss: 0.8827 - val_acc: 0.6500\n",
      "Epoch 48/300\n",
      "1080/1080 [==============================] - 1s 773us/step - loss: 0.8098 - acc: 0.7241 - val_loss: 0.8477 - val_acc: 0.6500\n",
      "Epoch 49/300\n",
      "1080/1080 [==============================] - 1s 759us/step - loss: 0.8020 - acc: 0.7250 - val_loss: 0.8401 - val_acc: 0.6833\n",
      "Epoch 50/300\n",
      "1080/1080 [==============================] - 1s 767us/step - loss: 0.7852 - acc: 0.7398 - val_loss: 0.8374 - val_acc: 0.6417\n",
      "Epoch 51/300\n",
      "1080/1080 [==============================] - 1s 754us/step - loss: 0.7748 - acc: 0.7333 - val_loss: 0.8578 - val_acc: 0.7000\n",
      "Epoch 52/300\n",
      "1080/1080 [==============================] - 1s 753us/step - loss: 0.7820 - acc: 0.7370 - val_loss: 0.8945 - val_acc: 0.6500\n",
      "Epoch 53/300\n",
      "1080/1080 [==============================] - 1s 751us/step - loss: 0.7688 - acc: 0.7417 - val_loss: 0.8075 - val_acc: 0.6667\n",
      "Epoch 54/300\n",
      "1080/1080 [==============================] - 1s 754us/step - loss: 0.7478 - acc: 0.7537 - val_loss: 0.8008 - val_acc: 0.7167\n",
      "Epoch 55/300\n",
      "1080/1080 [==============================] - 1s 753us/step - loss: 0.7472 - acc: 0.7343 - val_loss: 0.8219 - val_acc: 0.6417\n",
      "Epoch 56/300\n",
      "1080/1080 [==============================] - 1s 759us/step - loss: 0.7330 - acc: 0.7648 - val_loss: 0.8336 - val_acc: 0.6250\n",
      "Epoch 57/300\n",
      "1080/1080 [==============================] - 1s 751us/step - loss: 0.7273 - acc: 0.7537 - val_loss: 0.8052 - val_acc: 0.6500\n",
      "Epoch 58/300\n",
      "1080/1080 [==============================] - 1s 759us/step - loss: 0.7035 - acc: 0.7694 - val_loss: 0.7712 - val_acc: 0.7167\n",
      "Epoch 59/300\n",
      "1080/1080 [==============================] - 1s 752us/step - loss: 0.7069 - acc: 0.7667 - val_loss: 0.7821 - val_acc: 0.6833\n",
      "Epoch 60/300\n"
     ]
    },
    {
     "name": "stdout",
     "output_type": "stream",
     "text": [
      "1080/1080 [==============================] - 1s 748us/step - loss: 0.6954 - acc: 0.7722 - val_loss: 0.7622 - val_acc: 0.7083\n",
      "Epoch 61/300\n",
      "1080/1080 [==============================] - 1s 761us/step - loss: 0.6853 - acc: 0.7824 - val_loss: 0.7715 - val_acc: 0.7083\n",
      "Epoch 62/300\n",
      "1080/1080 [==============================] - 1s 759us/step - loss: 0.7019 - acc: 0.7537 - val_loss: 0.8134 - val_acc: 0.6667\n",
      "Epoch 63/300\n",
      "1080/1080 [==============================] - 1s 757us/step - loss: 0.6818 - acc: 0.7676 - val_loss: 0.7407 - val_acc: 0.6917\n",
      "Epoch 64/300\n",
      "1080/1080 [==============================] - 1s 760us/step - loss: 0.6639 - acc: 0.7907 - val_loss: 0.7491 - val_acc: 0.7417\n",
      "Epoch 65/300\n",
      "1080/1080 [==============================] - 1s 750us/step - loss: 0.6671 - acc: 0.7824 - val_loss: 0.7522 - val_acc: 0.7250\n",
      "Epoch 66/300\n",
      "1080/1080 [==============================] - 1s 751us/step - loss: 0.6550 - acc: 0.7880 - val_loss: 0.7297 - val_acc: 0.7167\n",
      "Epoch 67/300\n",
      "1080/1080 [==============================] - 1s 770us/step - loss: 0.6447 - acc: 0.7917 - val_loss: 0.7177 - val_acc: 0.7167\n",
      "Epoch 68/300\n",
      "1080/1080 [==============================] - 1s 763us/step - loss: 0.6344 - acc: 0.8037 - val_loss: 0.7312 - val_acc: 0.7167\n",
      "Epoch 69/300\n",
      "1080/1080 [==============================] - 1s 756us/step - loss: 0.6421 - acc: 0.7907 - val_loss: 0.7049 - val_acc: 0.7417\n",
      "Epoch 70/300\n",
      "1080/1080 [==============================] - 1s 754us/step - loss: 0.6287 - acc: 0.7907 - val_loss: 0.7145 - val_acc: 0.6917\n",
      "Epoch 71/300\n",
      "1080/1080 [==============================] - 1s 770us/step - loss: 0.6103 - acc: 0.8139 - val_loss: 0.6994 - val_acc: 0.7333\n",
      "Epoch 72/300\n",
      "1080/1080 [==============================] - 1s 771us/step - loss: 0.6078 - acc: 0.8000 - val_loss: 0.6906 - val_acc: 0.7333\n",
      "Epoch 73/300\n",
      "1080/1080 [==============================] - 1s 749us/step - loss: 0.6125 - acc: 0.8065 - val_loss: 0.6997 - val_acc: 0.7250\n",
      "Epoch 74/300\n",
      "1080/1080 [==============================] - 1s 748us/step - loss: 0.6084 - acc: 0.8074 - val_loss: 0.6863 - val_acc: 0.7583\n",
      "Epoch 75/300\n",
      "1080/1080 [==============================] - 1s 761us/step - loss: 0.6162 - acc: 0.7880 - val_loss: 0.7004 - val_acc: 0.7500\n",
      "Epoch 76/300\n",
      "1080/1080 [==============================] - ETA: 0s - loss: 0.5974 - acc: 0.809 - 1s 755us/step - loss: 0.5950 - acc: 0.8093 - val_loss: 0.6780 - val_acc: 0.7333\n",
      "Epoch 77/300\n",
      "1080/1080 [==============================] - 1s 764us/step - loss: 0.5833 - acc: 0.8213 - val_loss: 0.6778 - val_acc: 0.7167\n",
      "Epoch 78/300\n",
      "1080/1080 [==============================] - 1s 748us/step - loss: 0.5677 - acc: 0.8250 - val_loss: 0.6592 - val_acc: 0.7417\n",
      "Epoch 79/300\n",
      "1080/1080 [==============================] - 1s 750us/step - loss: 0.5628 - acc: 0.8287 - val_loss: 0.6795 - val_acc: 0.7417\n",
      "Epoch 80/300\n",
      "1080/1080 [==============================] - 1s 757us/step - loss: 0.5542 - acc: 0.8259 - val_loss: 0.7055 - val_acc: 0.7667\n",
      "Epoch 81/300\n",
      "1080/1080 [==============================] - 1s 768us/step - loss: 0.5447 - acc: 0.8454 - val_loss: 0.6540 - val_acc: 0.7500\n",
      "Epoch 82/300\n",
      "1080/1080 [==============================] - 1s 747us/step - loss: 0.5355 - acc: 0.8398 - val_loss: 0.6658 - val_acc: 0.7500\n",
      "Epoch 83/300\n",
      "1080/1080 [==============================] - 1s 751us/step - loss: 0.5411 - acc: 0.8389 - val_loss: 0.6991 - val_acc: 0.7333\n",
      "Epoch 84/300\n",
      "1080/1080 [==============================] - 1s 760us/step - loss: 0.5374 - acc: 0.8426 - val_loss: 0.6536 - val_acc: 0.7417\n",
      "Epoch 85/300\n",
      "1080/1080 [==============================] - 1s 750us/step - loss: 0.5332 - acc: 0.8370 - val_loss: 0.6454 - val_acc: 0.7333\n",
      "Epoch 86/300\n",
      "1080/1080 [==============================] - 1s 759us/step - loss: 0.5266 - acc: 0.8398 - val_loss: 0.6314 - val_acc: 0.7917\n",
      "Epoch 87/300\n",
      "1080/1080 [==============================] - 1s 779us/step - loss: 0.5159 - acc: 0.8389 - val_loss: 0.6436 - val_acc: 0.7750\n",
      "Epoch 88/300\n",
      "1080/1080 [==============================] - 1s 756us/step - loss: 0.5028 - acc: 0.8398 - val_loss: 0.6290 - val_acc: 0.7583\n",
      "Epoch 89/300\n",
      "1080/1080 [==============================] - 1s 756us/step - loss: 0.4990 - acc: 0.8509 - val_loss: 0.6360 - val_acc: 0.7583\n",
      "Epoch 90/300\n",
      "1080/1080 [==============================] - 1s 758us/step - loss: 0.4905 - acc: 0.8565 - val_loss: 0.6409 - val_acc: 0.7167\n",
      "Epoch 91/300\n",
      "1080/1080 [==============================] - 1s 757us/step - loss: 0.5017 - acc: 0.8389 - val_loss: 0.6395 - val_acc: 0.7417\n",
      "Epoch 92/300\n",
      "1080/1080 [==============================] - 1s 760us/step - loss: 0.4896 - acc: 0.8472 - val_loss: 0.6007 - val_acc: 0.7750\n",
      "Epoch 93/300\n",
      "1080/1080 [==============================] - 1s 763us/step - loss: 0.4795 - acc: 0.8741 - val_loss: 0.6151 - val_acc: 0.8000\n",
      "Epoch 94/300\n",
      "1080/1080 [==============================] - 1s 759us/step - loss: 0.4867 - acc: 0.8556 - val_loss: 0.6343 - val_acc: 0.8167\n",
      "Epoch 95/300\n",
      "1080/1080 [==============================] - 1s 749us/step - loss: 0.4934 - acc: 0.8491 - val_loss: 0.6313 - val_acc: 0.7083\n",
      "Epoch 96/300\n",
      "1080/1080 [==============================] - 1s 760us/step - loss: 0.4914 - acc: 0.8389 - val_loss: 0.6552 - val_acc: 0.6917\n",
      "Epoch 97/300\n",
      "1080/1080 [==============================] - 1s 755us/step - loss: 0.4808 - acc: 0.8444 - val_loss: 0.6026 - val_acc: 0.7417\n",
      "Epoch 98/300\n",
      "1080/1080 [==============================] - 1s 754us/step - loss: 0.4517 - acc: 0.8731 - val_loss: 0.5790 - val_acc: 0.7917\n",
      "Epoch 99/300\n",
      "1080/1080 [==============================] - 1s 749us/step - loss: 0.4537 - acc: 0.8639 - val_loss: 0.6316 - val_acc: 0.8083\n",
      "Epoch 100/300\n",
      "1080/1080 [==============================] - 1s 758us/step - loss: 0.4601 - acc: 0.8630 - val_loss: 0.5955 - val_acc: 0.7750\n",
      "Epoch 101/300\n",
      "1080/1080 [==============================] - 1s 759us/step - loss: 0.4578 - acc: 0.8704 - val_loss: 0.6403 - val_acc: 0.7833\n",
      "Epoch 102/300\n",
      "1080/1080 [==============================] - 1s 758us/step - loss: 0.4447 - acc: 0.8787 - val_loss: 0.5833 - val_acc: 0.8083\n",
      "Epoch 103/300\n",
      "1080/1080 [==============================] - 1s 756us/step - loss: 0.4505 - acc: 0.8602 - val_loss: 0.5711 - val_acc: 0.7833\n",
      "Epoch 104/300\n",
      "1080/1080 [==============================] - 1s 768us/step - loss: 0.4172 - acc: 0.8861 - val_loss: 0.5619 - val_acc: 0.8083\n",
      "Epoch 105/300\n",
      "1080/1080 [==============================] - 1s 751us/step - loss: 0.4122 - acc: 0.8806 - val_loss: 0.5742 - val_acc: 0.7750\n",
      "Epoch 106/300\n",
      "1080/1080 [==============================] - 1s 781us/step - loss: 0.4243 - acc: 0.8731 - val_loss: 0.5737 - val_acc: 0.7583\n",
      "Epoch 107/300\n",
      "1080/1080 [==============================] - 1s 761us/step - loss: 0.3975 - acc: 0.8926 - val_loss: 0.5648 - val_acc: 0.8250\n",
      "Epoch 108/300\n",
      "1080/1080 [==============================] - 1s 779us/step - loss: 0.4033 - acc: 0.8824 - val_loss: 0.5460 - val_acc: 0.8250\n",
      "Epoch 109/300\n",
      "1080/1080 [==============================] - 1s 769us/step - loss: 0.3995 - acc: 0.8796 - val_loss: 0.5713 - val_acc: 0.7583\n",
      "Epoch 110/300\n",
      "1080/1080 [==============================] - 1s 760us/step - loss: 0.4011 - acc: 0.8898 - val_loss: 0.5649 - val_acc: 0.7917\n",
      "Epoch 111/300\n",
      "1080/1080 [==============================] - 1s 758us/step - loss: 0.4013 - acc: 0.8889 - val_loss: 0.5759 - val_acc: 0.7750\n",
      "Epoch 112/300\n",
      "1080/1080 [==============================] - 1s 752us/step - loss: 0.3881 - acc: 0.8907 - val_loss: 0.5437 - val_acc: 0.7917\n",
      "Epoch 113/300\n",
      "1080/1080 [==============================] - 1s 756us/step - loss: 0.3876 - acc: 0.8880 - val_loss: 0.5435 - val_acc: 0.8000\n",
      "Epoch 114/300\n",
      "1080/1080 [==============================] - 1s 754us/step - loss: 0.3995 - acc: 0.8769 - val_loss: 0.5478 - val_acc: 0.8083\n",
      "Epoch 115/300\n",
      "1080/1080 [==============================] - 1s 763us/step - loss: 0.3797 - acc: 0.8889 - val_loss: 0.5262 - val_acc: 0.8250\n",
      "Epoch 116/300\n",
      "1080/1080 [==============================] - 1s 787us/step - loss: 0.3597 - acc: 0.8954 - val_loss: 0.5344 - val_acc: 0.7833\n",
      "Epoch 117/300\n",
      "1080/1080 [==============================] - 1s 764us/step - loss: 0.3641 - acc: 0.9028 - val_loss: 0.5288 - val_acc: 0.8083\n",
      "Epoch 118/300\n",
      "1080/1080 [==============================] - 1s 755us/step - loss: 0.3717 - acc: 0.8898 - val_loss: 0.5201 - val_acc: 0.8083\n",
      "Epoch 119/300\n"
     ]
    },
    {
     "name": "stdout",
     "output_type": "stream",
     "text": [
      "1080/1080 [==============================] - 1s 761us/step - loss: 0.3664 - acc: 0.9019 - val_loss: 0.5580 - val_acc: 0.7667\n",
      "Epoch 120/300\n",
      "1080/1080 [==============================] - 1s 755us/step - loss: 0.3637 - acc: 0.9046 - val_loss: 0.5265 - val_acc: 0.7917\n",
      "Epoch 121/300\n",
      "1080/1080 [==============================] - 1s 750us/step - loss: 0.3534 - acc: 0.9028 - val_loss: 0.5086 - val_acc: 0.8083\n",
      "Epoch 122/300\n",
      "1080/1080 [==============================] - 1s 757us/step - loss: 0.3403 - acc: 0.9065 - val_loss: 0.5068 - val_acc: 0.8250\n",
      "Epoch 123/300\n",
      "1080/1080 [==============================] - 1s 758us/step - loss: 0.3469 - acc: 0.9000 - val_loss: 0.5115 - val_acc: 0.8333\n",
      "Epoch 124/300\n",
      "1080/1080 [==============================] - 1s 753us/step - loss: 0.3426 - acc: 0.9074 - val_loss: 0.5267 - val_acc: 0.8000\n",
      "Epoch 125/300\n",
      "1080/1080 [==============================] - 1s 773us/step - loss: 0.3244 - acc: 0.9148 - val_loss: 0.5307 - val_acc: 0.7917\n",
      "Epoch 126/300\n",
      "1080/1080 [==============================] - 1s 780us/step - loss: 0.3267 - acc: 0.9093 - val_loss: 0.5253 - val_acc: 0.8083\n",
      "Epoch 127/300\n",
      "1080/1080 [==============================] - 1s 752us/step - loss: 0.3242 - acc: 0.9194 - val_loss: 0.5080 - val_acc: 0.8250\n",
      "Epoch 128/300\n",
      "1080/1080 [==============================] - 1s 766us/step - loss: 0.3197 - acc: 0.9167 - val_loss: 0.5241 - val_acc: 0.8083\n",
      "Epoch 129/300\n",
      "1080/1080 [==============================] - 1s 761us/step - loss: 0.3212 - acc: 0.9102 - val_loss: 0.5065 - val_acc: 0.8500\n",
      "Epoch 130/300\n",
      "1080/1080 [==============================] - 1s 754us/step - loss: 0.3241 - acc: 0.9157 - val_loss: 0.5056 - val_acc: 0.8417\n",
      "Epoch 131/300\n",
      "1080/1080 [==============================] - 1s 749us/step - loss: 0.3164 - acc: 0.9157 - val_loss: 0.5003 - val_acc: 0.8083\n",
      "Epoch 132/300\n",
      "1080/1080 [==============================] - 1s 759us/step - loss: 0.2998 - acc: 0.9157 - val_loss: 0.4936 - val_acc: 0.8250\n",
      "Epoch 133/300\n",
      "1080/1080 [==============================] - 1s 754us/step - loss: 0.3034 - acc: 0.9194 - val_loss: 0.5486 - val_acc: 0.8333\n",
      "Epoch 134/300\n",
      "1080/1080 [==============================] - 1s 752us/step - loss: 0.3004 - acc: 0.9167 - val_loss: 0.4998 - val_acc: 0.8000\n",
      "Epoch 135/300\n",
      "1080/1080 [==============================] - 1s 752us/step - loss: 0.3139 - acc: 0.9148 - val_loss: 0.5135 - val_acc: 0.8167\n",
      "Epoch 136/300\n",
      "1080/1080 [==============================] - 1s 753us/step - loss: 0.2966 - acc: 0.9250 - val_loss: 0.5406 - val_acc: 0.8000\n",
      "Epoch 137/300\n",
      "1080/1080 [==============================] - 1s 759us/step - loss: 0.3129 - acc: 0.9120 - val_loss: 0.5025 - val_acc: 0.8583\n",
      "Epoch 138/300\n",
      "1080/1080 [==============================] - 1s 758us/step - loss: 0.2992 - acc: 0.9056 - val_loss: 0.4960 - val_acc: 0.8083\n",
      "Epoch 139/300\n",
      "1080/1080 [==============================] - 1s 744us/step - loss: 0.2916 - acc: 0.9213 - val_loss: 0.5197 - val_acc: 0.8417\n",
      "Epoch 140/300\n",
      "1080/1080 [==============================] - 1s 772us/step - loss: 0.3036 - acc: 0.9130 - val_loss: 0.4965 - val_acc: 0.8333\n",
      "Epoch 141/300\n",
      "1080/1080 [==============================] - 1s 754us/step - loss: 0.2810 - acc: 0.9259 - val_loss: 0.5110 - val_acc: 0.8167\n",
      "Epoch 142/300\n",
      "1080/1080 [==============================] - 1s 755us/step - loss: 0.2819 - acc: 0.9231 - val_loss: 0.4734 - val_acc: 0.8333\n",
      "Epoch 143/300\n",
      "1080/1080 [==============================] - 1s 751us/step - loss: 0.2751 - acc: 0.9278 - val_loss: 0.4659 - val_acc: 0.8250\n",
      "Epoch 144/300\n",
      "1080/1080 [==============================] - 1s 752us/step - loss: 0.2672 - acc: 0.9315 - val_loss: 0.4997 - val_acc: 0.8417\n",
      "Epoch 145/300\n",
      "1080/1080 [==============================] - 1s 785us/step - loss: 0.2751 - acc: 0.9213 - val_loss: 0.4808 - val_acc: 0.8167\n",
      "Epoch 146/300\n",
      "1080/1080 [==============================] - 1s 761us/step - loss: 0.2594 - acc: 0.9287 - val_loss: 0.4897 - val_acc: 0.8250\n",
      "Epoch 147/300\n",
      "1080/1080 [==============================] - 1s 754us/step - loss: 0.2592 - acc: 0.9370 - val_loss: 0.4594 - val_acc: 0.8333\n",
      "Epoch 148/300\n",
      "1080/1080 [==============================] - 1s 748us/step - loss: 0.2499 - acc: 0.9333 - val_loss: 0.4715 - val_acc: 0.8167\n",
      "Epoch 149/300\n",
      "1080/1080 [==============================] - 1s 759us/step - loss: 0.2454 - acc: 0.9343 - val_loss: 0.4529 - val_acc: 0.8417\n",
      "Epoch 150/300\n",
      "1080/1080 [==============================] - 1s 751us/step - loss: 0.2496 - acc: 0.9370 - val_loss: 0.4614 - val_acc: 0.8500\n",
      "Epoch 151/300\n",
      "1080/1080 [==============================] - 1s 784us/step - loss: 0.2481 - acc: 0.9315 - val_loss: 0.4570 - val_acc: 0.8333\n",
      "Epoch 152/300\n",
      "1080/1080 [==============================] - 1s 754us/step - loss: 0.2619 - acc: 0.9241 - val_loss: 0.5459 - val_acc: 0.8167\n",
      "Epoch 153/300\n",
      "1080/1080 [==============================] - 1s 760us/step - loss: 0.2489 - acc: 0.9278 - val_loss: 0.4646 - val_acc: 0.8417\n",
      "Epoch 154/300\n",
      "1080/1080 [==============================] - 1s 752us/step - loss: 0.2443 - acc: 0.9259 - val_loss: 0.4659 - val_acc: 0.8250\n",
      "Epoch 155/300\n",
      "1080/1080 [==============================] - 1s 753us/step - loss: 0.2314 - acc: 0.9333 - val_loss: 0.4612 - val_acc: 0.8333\n",
      "Epoch 156/300\n",
      "1080/1080 [==============================] - 1s 787us/step - loss: 0.2337 - acc: 0.9417 - val_loss: 0.4662 - val_acc: 0.8333\n",
      "Epoch 157/300\n",
      "1080/1080 [==============================] - 1s 762us/step - loss: 0.2223 - acc: 0.9417 - val_loss: 0.4697 - val_acc: 0.8167\n",
      "Epoch 158/300\n",
      "1080/1080 [==============================] - 1s 760us/step - loss: 0.2387 - acc: 0.9417 - val_loss: 0.5294 - val_acc: 0.7667\n",
      "Epoch 159/300\n",
      "1080/1080 [==============================] - 1s 758us/step - loss: 0.2463 - acc: 0.9324 - val_loss: 0.4719 - val_acc: 0.8167\n",
      "Epoch 160/300\n",
      "1080/1080 [==============================] - 1s 750us/step - loss: 0.2297 - acc: 0.9380 - val_loss: 0.4416 - val_acc: 0.8500\n",
      "Epoch 161/300\n",
      "1080/1080 [==============================] - 1s 754us/step - loss: 0.2173 - acc: 0.9463 - val_loss: 0.4595 - val_acc: 0.8333\n",
      "Epoch 162/300\n",
      "1080/1080 [==============================] - 1s 774us/step - loss: 0.2092 - acc: 0.9509 - val_loss: 0.4698 - val_acc: 0.8083\n",
      "Epoch 163/300\n",
      "1080/1080 [==============================] - 1s 759us/step - loss: 0.2104 - acc: 0.9463 - val_loss: 0.4765 - val_acc: 0.8333\n",
      "Epoch 164/300\n",
      "1080/1080 [==============================] - 1s 762us/step - loss: 0.2496 - acc: 0.9269 - val_loss: 0.6264 - val_acc: 0.7750\n",
      "Epoch 165/300\n",
      "1080/1080 [==============================] - 1s 772us/step - loss: 0.2538 - acc: 0.9185 - val_loss: 0.4808 - val_acc: 0.8000\n",
      "Epoch 166/300\n",
      "1080/1080 [==============================] - 1s 759us/step - loss: 0.2252 - acc: 0.9380 - val_loss: 0.4484 - val_acc: 0.8583\n",
      "Epoch 167/300\n",
      "1080/1080 [==============================] - 1s 756us/step - loss: 0.2261 - acc: 0.9389 - val_loss: 0.4654 - val_acc: 0.8083\n",
      "Epoch 168/300\n",
      "1080/1080 [==============================] - 1s 759us/step - loss: 0.2042 - acc: 0.9519 - val_loss: 0.4775 - val_acc: 0.8417\n",
      "Epoch 169/300\n",
      "1080/1080 [==============================] - 1s 752us/step - loss: 0.2007 - acc: 0.9435 - val_loss: 0.4453 - val_acc: 0.8583\n",
      "Epoch 170/300\n",
      "1080/1080 [==============================] - 1s 764us/step - loss: 0.2005 - acc: 0.9500 - val_loss: 0.4661 - val_acc: 0.8583\n",
      "Epoch 171/300\n",
      "1080/1080 [==============================] - 1s 772us/step - loss: 0.2061 - acc: 0.9472 - val_loss: 0.4262 - val_acc: 0.8333\n",
      "Epoch 172/300\n",
      "1080/1080 [==============================] - 1s 768us/step - loss: 0.2013 - acc: 0.9472 - val_loss: 0.4629 - val_acc: 0.8417\n",
      "Epoch 173/300\n",
      "1080/1080 [==============================] - 1s 774us/step - loss: 0.2041 - acc: 0.9407 - val_loss: 0.4223 - val_acc: 0.8417\n",
      "Epoch 174/300\n",
      "1080/1080 [==============================] - 1s 784us/step - loss: 0.2071 - acc: 0.9454 - val_loss: 0.4990 - val_acc: 0.8083\n",
      "Epoch 175/300\n",
      "1080/1080 [==============================] - 1s 774us/step - loss: 0.2044 - acc: 0.9417 - val_loss: 0.4257 - val_acc: 0.8583\n",
      "Epoch 176/300\n",
      "1080/1080 [==============================] - 1s 766us/step - loss: 0.1792 - acc: 0.9583 - val_loss: 0.4436 - val_acc: 0.8333\n",
      "Epoch 177/300\n",
      "1080/1080 [==============================] - 1s 769us/step - loss: 0.2112 - acc: 0.9463 - val_loss: 0.4305 - val_acc: 0.8667\n",
      "Epoch 178/300\n"
     ]
    },
    {
     "name": "stdout",
     "output_type": "stream",
     "text": [
      "1080/1080 [==============================] - 1s 760us/step - loss: 0.2011 - acc: 0.9398 - val_loss: 0.4428 - val_acc: 0.8167\n",
      "Epoch 179/300\n",
      "1080/1080 [==============================] - 1s 766us/step - loss: 0.1817 - acc: 0.9509 - val_loss: 0.4237 - val_acc: 0.8417\n",
      "Epoch 180/300\n",
      "1080/1080 [==============================] - 1s 769us/step - loss: 0.1731 - acc: 0.9602 - val_loss: 0.4198 - val_acc: 0.8583\n",
      "Epoch 181/300\n",
      "1080/1080 [==============================] - 1s 771us/step - loss: 0.1840 - acc: 0.9537 - val_loss: 0.4434 - val_acc: 0.8333\n",
      "Epoch 182/300\n",
      "1080/1080 [==============================] - 1s 755us/step - loss: 0.1762 - acc: 0.9574 - val_loss: 0.4477 - val_acc: 0.8583\n",
      "Epoch 183/300\n",
      "1080/1080 [==============================] - 1s 759us/step - loss: 0.1676 - acc: 0.9546 - val_loss: 0.4438 - val_acc: 0.8250\n",
      "Epoch 184/300\n",
      "1080/1080 [==============================] - 1s 763us/step - loss: 0.1792 - acc: 0.9583 - val_loss: 0.4168 - val_acc: 0.8500\n",
      "Epoch 185/300\n",
      "1080/1080 [==============================] - 1s 748us/step - loss: 0.1763 - acc: 0.9546 - val_loss: 0.4527 - val_acc: 0.8250\n",
      "Epoch 186/300\n",
      "1080/1080 [==============================] - 1s 750us/step - loss: 0.1669 - acc: 0.9611 - val_loss: 0.4270 - val_acc: 0.8500\n",
      "Epoch 187/300\n",
      "1080/1080 [==============================] - 1s 750us/step - loss: 0.1666 - acc: 0.9583 - val_loss: 0.4259 - val_acc: 0.8417\n",
      "Epoch 188/300\n",
      "1080/1080 [==============================] - 1s 746us/step - loss: 0.1572 - acc: 0.9602 - val_loss: 0.4134 - val_acc: 0.8583\n",
      "Epoch 189/300\n",
      "1080/1080 [==============================] - 1s 778us/step - loss: 0.1552 - acc: 0.9667 - val_loss: 0.4123 - val_acc: 0.8750\n",
      "Epoch 190/300\n",
      "1080/1080 [==============================] - 1s 752us/step - loss: 0.1540 - acc: 0.9648 - val_loss: 0.4209 - val_acc: 0.8500\n",
      "Epoch 191/300\n",
      "1080/1080 [==============================] - 1s 733us/step - loss: 0.1557 - acc: 0.9593 - val_loss: 0.4105 - val_acc: 0.8750\n",
      "Epoch 192/300\n",
      "1080/1080 [==============================] - 1s 745us/step - loss: 0.1462 - acc: 0.9648 - val_loss: 0.4361 - val_acc: 0.8750\n",
      "Epoch 193/300\n",
      "1080/1080 [==============================] - 1s 735us/step - loss: 0.1566 - acc: 0.9657 - val_loss: 0.4416 - val_acc: 0.8667\n",
      "Epoch 194/300\n",
      "1080/1080 [==============================] - 1s 734us/step - loss: 0.1522 - acc: 0.9583 - val_loss: 0.4268 - val_acc: 0.8667\n",
      "Epoch 195/300\n",
      "1080/1080 [==============================] - 1s 736us/step - loss: 0.1447 - acc: 0.9611 - val_loss: 0.4324 - val_acc: 0.8583\n",
      "Epoch 196/300\n",
      "1080/1080 [==============================] - 1s 756us/step - loss: 0.1519 - acc: 0.9639 - val_loss: 0.4201 - val_acc: 0.8500\n",
      "Epoch 197/300\n",
      "1080/1080 [==============================] - 1s 725us/step - loss: 0.1506 - acc: 0.9648 - val_loss: 0.4015 - val_acc: 0.8500\n",
      "Epoch 198/300\n",
      "1080/1080 [==============================] - 1s 732us/step - loss: 0.1393 - acc: 0.9657 - val_loss: 0.4139 - val_acc: 0.8500\n",
      "Epoch 199/300\n",
      "1080/1080 [==============================] - 1s 730us/step - loss: 0.1342 - acc: 0.9694 - val_loss: 0.3909 - val_acc: 0.8583\n",
      "Epoch 200/300\n",
      "1080/1080 [==============================] - 1s 733us/step - loss: 0.1329 - acc: 0.9722 - val_loss: 0.4036 - val_acc: 0.8667\n",
      "Epoch 201/300\n",
      "1080/1080 [==============================] - 1s 733us/step - loss: 0.1346 - acc: 0.9676 - val_loss: 0.3993 - val_acc: 0.8667\n",
      "Epoch 202/300\n",
      "1080/1080 [==============================] - 1s 734us/step - loss: 0.1517 - acc: 0.9611 - val_loss: 0.4133 - val_acc: 0.8500\n",
      "Epoch 203/300\n",
      "1080/1080 [==============================] - 1s 737us/step - loss: 0.1491 - acc: 0.9574 - val_loss: 0.4011 - val_acc: 0.8750\n",
      "Epoch 204/300\n",
      "1080/1080 [==============================] - 1s 748us/step - loss: 0.1282 - acc: 0.9722 - val_loss: 0.3959 - val_acc: 0.8667\n",
      "Epoch 205/300\n",
      "1080/1080 [==============================] - 1s 728us/step - loss: 0.1273 - acc: 0.9759 - val_loss: 0.3948 - val_acc: 0.8500\n",
      "Epoch 206/300\n",
      "1080/1080 [==============================] - 1s 731us/step - loss: 0.1239 - acc: 0.9750 - val_loss: 0.4219 - val_acc: 0.8333\n",
      "Epoch 207/300\n",
      "1080/1080 [==============================] - 1s 735us/step - loss: 0.1249 - acc: 0.9722 - val_loss: 0.4502 - val_acc: 0.8500\n",
      "Epoch 208/300\n",
      "1080/1080 [==============================] - 1s 733us/step - loss: 0.1336 - acc: 0.9704 - val_loss: 0.3881 - val_acc: 0.8917\n",
      "Epoch 209/300\n",
      "1080/1080 [==============================] - 1s 733us/step - loss: 0.1445 - acc: 0.9676 - val_loss: 0.4324 - val_acc: 0.8417\n",
      "Epoch 210/300\n",
      "1080/1080 [==============================] - 1s 729us/step - loss: 0.1363 - acc: 0.9685 - val_loss: 0.4099 - val_acc: 0.8500\n",
      "Epoch 211/300\n",
      "1080/1080 [==============================] - 1s 737us/step - loss: 0.1162 - acc: 0.9787 - val_loss: 0.3913 - val_acc: 0.8667\n",
      "Epoch 212/300\n",
      "1080/1080 [==============================] - 1s 738us/step - loss: 0.1153 - acc: 0.9759 - val_loss: 0.3989 - val_acc: 0.8583\n",
      "Epoch 213/300\n",
      "1080/1080 [==============================] - 1s 737us/step - loss: 0.1166 - acc: 0.9759 - val_loss: 0.4041 - val_acc: 0.8583\n",
      "Epoch 214/300\n",
      "1080/1080 [==============================] - 1s 736us/step - loss: 0.1111 - acc: 0.9778 - val_loss: 0.3999 - val_acc: 0.8833\n",
      "Epoch 215/300\n",
      "1080/1080 [==============================] - 1s 736us/step - loss: 0.1159 - acc: 0.9787 - val_loss: 0.3855 - val_acc: 0.8583\n",
      "Epoch 216/300\n",
      "1080/1080 [==============================] - 1s 728us/step - loss: 0.1115 - acc: 0.9722 - val_loss: 0.3859 - val_acc: 0.8667\n",
      "Epoch 217/300\n",
      "1080/1080 [==============================] - 1s 733us/step - loss: 0.1064 - acc: 0.9824 - val_loss: 0.4167 - val_acc: 0.8333\n",
      "Epoch 218/300\n",
      "1080/1080 [==============================] - 1s 737us/step - loss: 0.1086 - acc: 0.9759 - val_loss: 0.3983 - val_acc: 0.8583\n",
      "Epoch 219/300\n",
      "1080/1080 [==============================] - 1s 747us/step - loss: 0.1108 - acc: 0.9778 - val_loss: 0.4259 - val_acc: 0.8667\n",
      "Epoch 220/300\n",
      "1080/1080 [==============================] - 1s 735us/step - loss: 0.1028 - acc: 0.9787 - val_loss: 0.3875 - val_acc: 0.8417\n",
      "Epoch 221/300\n",
      "1080/1080 [==============================] - 1s 736us/step - loss: 0.1078 - acc: 0.9796 - val_loss: 0.4949 - val_acc: 0.8333\n",
      "Epoch 222/300\n",
      "1080/1080 [==============================] - 1s 735us/step - loss: 0.1148 - acc: 0.9750 - val_loss: 0.3928 - val_acc: 0.8750\n",
      "Epoch 223/300\n",
      "1080/1080 [==============================] - 1s 734us/step - loss: 0.1089 - acc: 0.9778 - val_loss: 0.4407 - val_acc: 0.8500\n",
      "Epoch 224/300\n",
      "1080/1080 [==============================] - 1s 747us/step - loss: 0.1160 - acc: 0.9741 - val_loss: 0.3967 - val_acc: 0.8667\n",
      "Epoch 225/300\n",
      "1080/1080 [==============================] - 1s 731us/step - loss: 0.1031 - acc: 0.9815 - val_loss: 0.4115 - val_acc: 0.8667\n",
      "Epoch 226/300\n",
      "1080/1080 [==============================] - 1s 740us/step - loss: 0.1026 - acc: 0.9815 - val_loss: 0.3894 - val_acc: 0.8500\n",
      "Epoch 227/300\n",
      "1080/1080 [==============================] - 1s 733us/step - loss: 0.1049 - acc: 0.9852 - val_loss: 0.3764 - val_acc: 0.8667\n",
      "Epoch 228/300\n",
      "1080/1080 [==============================] - 1s 737us/step - loss: 0.0963 - acc: 0.9824 - val_loss: 0.3953 - val_acc: 0.8583\n",
      "Epoch 229/300\n",
      "1080/1080 [==============================] - 1s 732us/step - loss: 0.0918 - acc: 0.9796 - val_loss: 0.3830 - val_acc: 0.8833\n",
      "Epoch 230/300\n",
      "1080/1080 [==============================] - 1s 729us/step - loss: 0.0899 - acc: 0.9880 - val_loss: 0.3923 - val_acc: 0.8583\n",
      "Epoch 231/300\n",
      "1080/1080 [==============================] - 1s 728us/step - loss: 0.0955 - acc: 0.9852 - val_loss: 0.4367 - val_acc: 0.8250\n",
      "Epoch 232/300\n",
      "1080/1080 [==============================] - 1s 768us/step - loss: 0.0941 - acc: 0.9778 - val_loss: 0.3745 - val_acc: 0.8667\n",
      "Epoch 233/300\n",
      "1080/1080 [==============================] - 1s 742us/step - loss: 0.0902 - acc: 0.9852 - val_loss: 0.3800 - val_acc: 0.8583\n",
      "Epoch 234/300\n",
      "1080/1080 [==============================] - 1s 731us/step - loss: 0.0941 - acc: 0.9769 - val_loss: 0.3930 - val_acc: 0.8417\n",
      "Epoch 235/300\n",
      "1080/1080 [==============================] - 1s 734us/step - loss: 0.0870 - acc: 0.9870 - val_loss: 0.4043 - val_acc: 0.8500\n",
      "Epoch 236/300\n",
      "1080/1080 [==============================] - 1s 729us/step - loss: 0.0872 - acc: 0.9815 - val_loss: 0.4092 - val_acc: 0.8583\n",
      "Epoch 237/300\n"
     ]
    },
    {
     "name": "stdout",
     "output_type": "stream",
     "text": [
      "1080/1080 [==============================] - 1s 736us/step - loss: 0.0898 - acc: 0.9870 - val_loss: 0.4074 - val_acc: 0.8500\n",
      "Epoch 238/300\n",
      "1080/1080 [==============================] - 1s 736us/step - loss: 0.0825 - acc: 0.9917 - val_loss: 0.3771 - val_acc: 0.8500\n",
      "Epoch 239/300\n",
      "1080/1080 [==============================] - 1s 725us/step - loss: 0.0824 - acc: 0.9861 - val_loss: 0.3799 - val_acc: 0.8667\n",
      "Epoch 240/300\n",
      "1080/1080 [==============================] - 1s 723us/step - loss: 0.0878 - acc: 0.9861 - val_loss: 0.3970 - val_acc: 0.8583\n",
      "Epoch 241/300\n",
      "1080/1080 [==============================] - 1s 734us/step - loss: 0.0941 - acc: 0.9824 - val_loss: 0.3890 - val_acc: 0.8583\n",
      "Epoch 242/300\n",
      "1080/1080 [==============================] - 1s 732us/step - loss: 0.0887 - acc: 0.9833 - val_loss: 0.3991 - val_acc: 0.8500\n",
      "Epoch 243/300\n",
      "1080/1080 [==============================] - 1s 727us/step - loss: 0.0905 - acc: 0.9843 - val_loss: 0.3724 - val_acc: 0.8667\n",
      "Epoch 244/300\n",
      "1080/1080 [==============================] - 1s 753us/step - loss: 0.0946 - acc: 0.9741 - val_loss: 0.4284 - val_acc: 0.8583\n",
      "Epoch 245/300\n",
      "1080/1080 [==============================] - 1s 738us/step - loss: 0.0857 - acc: 0.9833 - val_loss: 0.3813 - val_acc: 0.8500\n",
      "Epoch 246/300\n",
      "1080/1080 [==============================] - 1s 733us/step - loss: 0.0789 - acc: 0.9898 - val_loss: 0.3842 - val_acc: 0.8667\n",
      "Epoch 247/300\n",
      "1080/1080 [==============================] - 1s 733us/step - loss: 0.0738 - acc: 0.9898 - val_loss: 0.3662 - val_acc: 0.8583\n",
      "Epoch 248/300\n",
      "1080/1080 [==============================] - 1s 722us/step - loss: 0.0752 - acc: 0.9880 - val_loss: 0.4040 - val_acc: 0.8667\n",
      "Epoch 249/300\n",
      "1080/1080 [==============================] - 1s 729us/step - loss: 0.0779 - acc: 0.9870 - val_loss: 0.3876 - val_acc: 0.8500\n",
      "Epoch 250/300\n",
      "1080/1080 [==============================] - 1s 728us/step - loss: 0.0719 - acc: 0.9898 - val_loss: 0.3693 - val_acc: 0.8667\n",
      "Epoch 251/300\n",
      "1080/1080 [==============================] - 1s 729us/step - loss: 0.0764 - acc: 0.9870 - val_loss: 0.4478 - val_acc: 0.8500\n",
      "Epoch 252/300\n",
      "1080/1080 [==============================] - 1s 729us/step - loss: 0.0716 - acc: 0.9898 - val_loss: 0.3675 - val_acc: 0.8583\n",
      "Epoch 253/300\n",
      "1080/1080 [==============================] - 1s 734us/step - loss: 0.0773 - acc: 0.9861 - val_loss: 0.4173 - val_acc: 0.8667\n",
      "Epoch 254/300\n",
      "1080/1080 [==============================] - 1s 734us/step - loss: 0.0867 - acc: 0.9815 - val_loss: 0.3798 - val_acc: 0.8583\n",
      "Epoch 255/300\n",
      "1080/1080 [==============================] - 1s 730us/step - loss: 0.0707 - acc: 0.9880 - val_loss: 0.3978 - val_acc: 0.8667\n",
      "Epoch 256/300\n",
      "1080/1080 [==============================] - 1s 730us/step - loss: 0.0646 - acc: 0.9926 - val_loss: 0.3688 - val_acc: 0.8833\n",
      "Epoch 257/300\n",
      "1080/1080 [==============================] - 1s 734us/step - loss: 0.0657 - acc: 0.9926 - val_loss: 0.3826 - val_acc: 0.8583\n",
      "Epoch 258/300\n",
      "1080/1080 [==============================] - 1s 728us/step - loss: 0.0608 - acc: 0.9926 - val_loss: 0.4524 - val_acc: 0.8417\n",
      "Epoch 259/300\n",
      "1080/1080 [==============================] - 1s 731us/step - loss: 0.0762 - acc: 0.9843 - val_loss: 0.4466 - val_acc: 0.8583\n",
      "Epoch 260/300\n",
      "1080/1080 [==============================] - 1s 730us/step - loss: 0.0683 - acc: 0.9889 - val_loss: 0.3663 - val_acc: 0.8500\n",
      "Epoch 261/300\n",
      "1080/1080 [==============================] - 1s 733us/step - loss: 0.0625 - acc: 0.9963 - val_loss: 0.3913 - val_acc: 0.8500\n",
      "Epoch 262/300\n",
      "1080/1080 [==============================] - 1s 729us/step - loss: 0.0611 - acc: 0.9935 - val_loss: 0.3896 - val_acc: 0.8667\n",
      "Epoch 263/300\n",
      "1080/1080 [==============================] - 1s 730us/step - loss: 0.0586 - acc: 0.9935 - val_loss: 0.4047 - val_acc: 0.8583\n",
      "Epoch 264/300\n",
      "1080/1080 [==============================] - 1s 746us/step - loss: 0.0731 - acc: 0.9861 - val_loss: 0.3672 - val_acc: 0.8583\n",
      "Epoch 265/300\n",
      "1080/1080 [==============================] - 1s 746us/step - loss: 0.0695 - acc: 0.9889 - val_loss: 0.3942 - val_acc: 0.8500\n",
      "Epoch 266/300\n",
      "1080/1080 [==============================] - 1s 736us/step - loss: 0.0630 - acc: 0.9907 - val_loss: 0.3804 - val_acc: 0.8667\n",
      "Epoch 267/300\n",
      "1080/1080 [==============================] - 1s 734us/step - loss: 0.0746 - acc: 0.9870 - val_loss: 0.4008 - val_acc: 0.8750\n",
      "Epoch 268/300\n",
      "1080/1080 [==============================] - 1s 733us/step - loss: 0.0686 - acc: 0.9880 - val_loss: 0.4157 - val_acc: 0.8500\n",
      "Epoch 269/300\n",
      "1080/1080 [==============================] - 1s 740us/step - loss: 0.0572 - acc: 0.9935 - val_loss: 0.3686 - val_acc: 0.8667\n",
      "Epoch 270/300\n",
      "1080/1080 [==============================] - 1s 734us/step - loss: 0.0610 - acc: 0.9917 - val_loss: 0.4326 - val_acc: 0.8667\n",
      "Epoch 271/300\n",
      "1080/1080 [==============================] - 1s 733us/step - loss: 0.0597 - acc: 0.9907 - val_loss: 0.3521 - val_acc: 0.8667\n",
      "Epoch 272/300\n",
      "1080/1080 [==============================] - 1s 732us/step - loss: 0.0574 - acc: 0.9917 - val_loss: 0.3834 - val_acc: 0.8833\n",
      "Epoch 273/300\n",
      "1080/1080 [==============================] - 1s 731us/step - loss: 0.0630 - acc: 0.9898 - val_loss: 0.3725 - val_acc: 0.8667\n",
      "Epoch 274/300\n",
      "1080/1080 [==============================] - 1s 743us/step - loss: 0.0526 - acc: 0.9944 - val_loss: 0.3639 - val_acc: 0.8583\n",
      "Epoch 275/300\n",
      "1080/1080 [==============================] - 1s 742us/step - loss: 0.0565 - acc: 0.9944 - val_loss: 0.3999 - val_acc: 0.8750\n",
      "Epoch 276/300\n",
      "1080/1080 [==============================] - 1s 730us/step - loss: 0.0518 - acc: 0.9944 - val_loss: 0.3688 - val_acc: 0.8750\n",
      "Epoch 277/300\n",
      "1080/1080 [==============================] - 1s 744us/step - loss: 0.0504 - acc: 0.9935 - val_loss: 0.3607 - val_acc: 0.8833\n",
      "Epoch 278/300\n",
      "1080/1080 [==============================] - 1s 733us/step - loss: 0.0513 - acc: 0.9981 - val_loss: 0.3946 - val_acc: 0.8833\n",
      "Epoch 279/300\n",
      "1080/1080 [==============================] - 1s 734us/step - loss: 0.0474 - acc: 0.9972 - val_loss: 0.3533 - val_acc: 0.8667\n",
      "Epoch 280/300\n",
      "1080/1080 [==============================] - 1s 726us/step - loss: 0.0460 - acc: 0.9991 - val_loss: 0.3909 - val_acc: 0.8750\n",
      "Epoch 281/300\n",
      "1080/1080 [==============================] - 1s 734us/step - loss: 0.0534 - acc: 0.9944 - val_loss: 0.4073 - val_acc: 0.8583\n",
      "Epoch 282/300\n",
      "1080/1080 [==============================] - 1s 735us/step - loss: 0.0525 - acc: 0.9935 - val_loss: 0.4629 - val_acc: 0.8583\n",
      "Epoch 283/300\n",
      "1080/1080 [==============================] - 1s 732us/step - loss: 0.0542 - acc: 0.9917 - val_loss: 0.3696 - val_acc: 0.8583\n",
      "Epoch 284/300\n",
      "1080/1080 [==============================] - 1s 761us/step - loss: 0.0481 - acc: 0.9963 - val_loss: 0.3725 - val_acc: 0.8833\n",
      "Epoch 285/300\n",
      "1080/1080 [==============================] - 1s 748us/step - loss: 0.0413 - acc: 0.9972 - val_loss: 0.3607 - val_acc: 0.8750\n",
      "Epoch 286/300\n",
      "1080/1080 [==============================] - 1s 733us/step - loss: 0.0404 - acc: 0.9991 - val_loss: 0.3764 - val_acc: 0.8667\n",
      "Epoch 287/300\n",
      "1080/1080 [==============================] - 1s 729us/step - loss: 0.0423 - acc: 0.9991 - val_loss: 0.3603 - val_acc: 0.8917\n",
      "Epoch 288/300\n",
      "1080/1080 [==============================] - 1s 733us/step - loss: 0.0401 - acc: 0.9981 - val_loss: 0.3795 - val_acc: 0.8750\n",
      "Epoch 289/300\n",
      "1080/1080 [==============================] - 1s 730us/step - loss: 0.0435 - acc: 0.9972 - val_loss: 0.3712 - val_acc: 0.8667\n",
      "Epoch 290/300\n",
      "1080/1080 [==============================] - 1s 732us/step - loss: 0.0427 - acc: 0.9972 - val_loss: 0.3484 - val_acc: 0.8667\n",
      "Epoch 291/300\n",
      "1080/1080 [==============================] - 1s 726us/step - loss: 0.0422 - acc: 0.9972 - val_loss: 0.3929 - val_acc: 0.8833\n",
      "Epoch 292/300\n",
      "1080/1080 [==============================] - 1s 741us/step - loss: 0.0401 - acc: 0.9981 - val_loss: 0.3692 - val_acc: 0.8750\n",
      "Epoch 293/300\n",
      "1080/1080 [==============================] - 1s 743us/step - loss: 0.0390 - acc: 0.9991 - val_loss: 0.3597 - val_acc: 0.8667\n",
      "Epoch 294/300\n",
      "1080/1080 [==============================] - 1s 752us/step - loss: 0.0396 - acc: 0.9981 - val_loss: 0.3928 - val_acc: 0.8583\n",
      "Epoch 295/300\n",
      "1080/1080 [==============================] - 1s 736us/step - loss: 0.0398 - acc: 0.9981 - val_loss: 0.3528 - val_acc: 0.8833\n",
      "Epoch 296/300\n"
     ]
    },
    {
     "name": "stdout",
     "output_type": "stream",
     "text": [
      "1080/1080 [==============================] - 1s 734us/step - loss: 0.0405 - acc: 0.9972 - val_loss: 0.3650 - val_acc: 0.8833\n",
      "Epoch 297/300\n",
      "1080/1080 [==============================] - 1s 727us/step - loss: 0.0373 - acc: 0.9991 - val_loss: 0.3769 - val_acc: 0.8750\n",
      "Epoch 298/300\n",
      "1080/1080 [==============================] - 1s 728us/step - loss: 0.0351 - acc: 0.9991 - val_loss: 0.3602 - val_acc: 0.8750\n",
      "Epoch 299/300\n",
      "1080/1080 [==============================] - 1s 731us/step - loss: 0.0346 - acc: 0.9991 - val_loss: 0.3925 - val_acc: 0.8750\n",
      "Epoch 300/300\n",
      "1080/1080 [==============================] - 1s 736us/step - loss: 0.0347 - acc: 0.9981 - val_loss: 0.3764 - val_acc: 0.8750\n",
      "1080/1080 [==============================] - 0s 368us/step\n"
     ]
    },
    {
     "data": {
      "text/plain": [
       "[0.0328315912987347, 0.9990740740740741]"
      ]
     },
     "execution_count": 11,
     "metadata": {},
     "output_type": "execute_result"
    },
    {
     "name": "stdout",
     "output_type": "stream",
     "text": [
      "120/120 [==============================] - 0s 375us/step\n"
     ]
    },
    {
     "data": {
      "text/plain": [
       "[0.3763966768980026, 0.874999996026357]"
      ]
     },
     "execution_count": 11,
     "metadata": {},
     "output_type": "execute_result"
    },
    {
     "data": {
      "text/plain": [
       "array([[ 14,   0,  55, 111,   0,   0],\n",
       "       [ 43,   0,  32, 105,   0,   0],\n",
       "       [ 13,   0,  81,  86,   0,   0],\n",
       "       [  0,   0,   1, 179,   0,   0],\n",
       "       [  5,   0,  50, 125,   0,   0],\n",
       "       [  9,   0,  23, 148,   0,   0]], dtype=int64)"
      ]
     },
     "execution_count": 11,
     "metadata": {},
     "output_type": "execute_result"
    },
    {
     "data": {
      "text/plain": [
       "array([[ 0,  0,  4, 16,  0,  0],\n",
       "       [ 3,  0,  3, 14,  0,  0],\n",
       "       [ 2,  0,  9,  9,  0,  0],\n",
       "       [ 0,  0,  0, 20,  0,  0],\n",
       "       [ 0,  0,  5, 15,  0,  0],\n",
       "       [ 0,  0,  6, 14,  0,  0]], dtype=int64)"
      ]
     },
     "execution_count": 11,
     "metadata": {},
     "output_type": "execute_result"
    },
    {
     "data": {
      "text/plain": [
       "[<matplotlib.lines.Line2D at 0x1b09eeaeda0>]"
      ]
     },
     "execution_count": 11,
     "metadata": {},
     "output_type": "execute_result"
    },
    {
     "data": {
      "text/plain": [
       "[<matplotlib.lines.Line2D at 0x1b09edaf588>]"
      ]
     },
     "execution_count": 11,
     "metadata": {},
     "output_type": "execute_result"
    },
    {
     "data": {
      "text/plain": [
       "Text(0.5, 1.0, 'Model accuracy')"
      ]
     },
     "execution_count": 11,
     "metadata": {},
     "output_type": "execute_result"
    },
    {
     "data": {
      "text/plain": [
       "Text(0, 0.5, 'Accuracy')"
      ]
     },
     "execution_count": 11,
     "metadata": {},
     "output_type": "execute_result"
    },
    {
     "data": {
      "text/plain": [
       "Text(0.5, 0, 'Epoch')"
      ]
     },
     "execution_count": 11,
     "metadata": {},
     "output_type": "execute_result"
    },
    {
     "data": {
      "text/plain": [
       "<matplotlib.legend.Legend at 0x1b09eeb7550>"
      ]
     },
     "execution_count": 11,
     "metadata": {},
     "output_type": "execute_result"
    },
    {
     "data": {
      "image/png": "[encoded data removed]",
      "text/plain": [
       "<Figure size 432x288 with 1 Axes>"
      ]
     },
     "metadata": {
      "needs_background": "light"
     },
     "output_type": "display_data"
    },
    {
     "data": {
      "text/plain": [
       "[<matplotlib.lines.Line2D at 0x1b09ef2fbe0>]"
      ]
     },
     "execution_count": 11,
     "metadata": {},
     "output_type": "execute_result"
    },
    {
     "data": {
      "text/plain": [
       "[<matplotlib.lines.Line2D at 0x1b085114a20>]"
      ]
     },
     "execution_count": 11,
     "metadata": {},
     "output_type": "execute_result"
    },
    {
     "data": {
      "text/plain": [
       "Text(0.5, 1.0, 'Model loss')"
      ]
     },
     "execution_count": 11,
     "metadata": {},
     "output_type": "execute_result"
    },
    {
     "data": {
      "text/plain": [
       "Text(0, 0.5, 'Loss')"
      ]
     },
     "execution_count": 11,
     "metadata": {},
     "output_type": "execute_result"
    },
    {
     "data": {
      "text/plain": [
       "Text(0.5, 0, 'Epoch')"
      ]
     },
     "execution_count": 11,
     "metadata": {},
     "output_type": "execute_result"
    },
    {
     "data": {
      "text/plain": [
       "<matplotlib.legend.Legend at 0x1b09ef207b8>"
      ]
     },
     "execution_count": 11,
     "metadata": {},
     "output_type": "execute_result"
    },
    {
     "data": {
      "image/png": "[encoded data removed]",
      "text/plain": [
       "<Figure size 432x288 with 1 Axes>"
      ]
     },
     "metadata": {
      "needs_background": "light"
     },
     "output_type": "display_data"
    }
   ],
   "source": [
    "# Solve Here\n",
    "\n",
    "model2 = Sequential()\n",
    "model2.add(Dense(200, input_shape = (x_train_pix.shape[1],), activation='relu'))\n",
    "model2.add(Dense(400, activation='relu'))\n",
    "model2.add(Dense(600, activation='relu'))\n",
    "model2.add(Dense(800, activation='relu'))\n",
    "model2.add(Dense(800, activation='relu'))\n",
    "model2.add(Dense(600, activation='relu'))\n",
    "model2.add(Dense(400, activation='relu'))\n",
    "model2.add(Dense(6, activation='softmax'))\n",
    "\n",
    "# Compile model\n",
    "model2.compile(loss='categorical_crossentropy', optimizer=keras.optimizers.Adam(lr=0.00001), metrics=['accuracy'])\n",
    "history = model2.fit(x_train_pix, onehotlabels_train, epochs=300, batch_size=100, \\\n",
    "          validation_data=(x_test_pix, onehotlabels_test))\n",
    "\n",
    "# predict values, calculate accuracy, and create confusion matrix for train and test\n",
    "train_pred = model.predict_classes(x_train_pix)\n",
    "test_pred = model.predict_classes(x_test_pix)\n",
    "\n",
    "model2.evaluate(x_train_pix, onehotlabels_train)\n",
    "model2.evaluate(x_test_pix, onehotlabels_test)\n",
    "\n",
    "metrics.confusion_matrix(y_train,train_pred)\n",
    "metrics.confusion_matrix(y_test,test_pred)\n",
    "\n",
    "# Plot training & validation accuracy values\n",
    "plt.plot(history.history['acc'])\n",
    "plt.plot(history.history['val_acc'])\n",
    "plt.title('Model accuracy')\n",
    "plt.ylabel('Accuracy')\n",
    "plt.xlabel('Epoch')\n",
    "plt.legend(['Train', 'Test'], loc='upper left')\n",
    "plt.show()\n",
    "\n",
    "# Plot training & validation loss values\n",
    "plt.plot(history.history['loss'])\n",
    "plt.plot(history.history['val_loss'])\n",
    "plt.title('Model loss')\n",
    "plt.ylabel('Loss')\n",
    "plt.xlabel('Epoch')\n",
    "plt.legend(['Train', 'Test'], loc='upper left')\n",
    "plt.show()"
   ]
  },
  {
   "cell_type": "markdown",
   "metadata": {},
   "source": [
    "**Bonus**\n",
    "\n",
    "See if you can change some of the parameters so that you can reach for a validation accuracy of at least 92%"
   ]
  },
  {
   "cell_type": "code",
   "execution_count": 14,
   "metadata": {
    "scrolled": true
   },
   "outputs": [
    {
     "name": "stdout",
     "output_type": "stream",
     "text": [
      "Train on 1080 samples, validate on 120 samples\n",
      "Epoch 1/300\n",
      "1080/1080 [==============================] - 5s 5ms/step - loss: 7.8944 - acc: 0.1769 - val_loss: 7.8518 - val_acc: 0.2500\n",
      "Epoch 2/300\n",
      "1080/1080 [==============================] - 3s 2ms/step - loss: 7.8465 - acc: 0.1685 - val_loss: 7.8044 - val_acc: 0.3000\n",
      "Epoch 3/300\n",
      "1080/1080 [==============================] - 2s 2ms/step - loss: 7.8009 - acc: 0.1944 - val_loss: 7.7574 - val_acc: 0.1917\n",
      "Epoch 4/300\n",
      "1080/1080 [==============================] - 3s 2ms/step - loss: 7.7502 - acc: 0.1907 - val_loss: 7.7053 - val_acc: 0.3167\n",
      "Epoch 5/300\n",
      "1080/1080 [==============================] - 3s 2ms/step - loss: 7.7047 - acc: 0.2037 - val_loss: 7.6543 - val_acc: 0.3583\n",
      "Epoch 6/300\n",
      "1080/1080 [==============================] - 2s 2ms/step - loss: 7.6567 - acc: 0.2009 - val_loss: 7.5987 - val_acc: 0.3833\n",
      "Epoch 7/300\n",
      "1080/1080 [==============================] - 3s 2ms/step - loss: 7.6112 - acc: 0.2287 - val_loss: 7.5411 - val_acc: 0.3000\n",
      "Epoch 8/300\n",
      "1080/1080 [==============================] - 3s 2ms/step - loss: 7.5564 - acc: 0.2491 - val_loss: 7.4737 - val_acc: 0.3500\n",
      "Epoch 9/300\n",
      "1080/1080 [==============================] - 3s 2ms/step - loss: 7.4855 - acc: 0.2944 - val_loss: 7.3942 - val_acc: 0.3417\n",
      "Epoch 10/300\n",
      "1080/1080 [==============================] - 3s 2ms/step - loss: 7.4381 - acc: 0.2731 - val_loss: 7.3225 - val_acc: 0.3750\n",
      "Epoch 11/300\n",
      "1080/1080 [==============================] - 3s 2ms/step - loss: 7.3695 - acc: 0.2963 - val_loss: 7.3400 - val_acc: 0.2250\n",
      "Epoch 12/300\n",
      "1080/1080 [==============================] - 3s 2ms/step - loss: 7.3275 - acc: 0.2972 - val_loss: 7.1411 - val_acc: 0.3750\n",
      "Epoch 13/300\n",
      "1080/1080 [==============================] - 2s 2ms/step - loss: 7.3026 - acc: 0.2704 - val_loss: 7.1852 - val_acc: 0.2667\n",
      "Epoch 14/300\n",
      "1080/1080 [==============================] - 3s 2ms/step - loss: 7.1827 - acc: 0.3509 - val_loss: 7.1278 - val_acc: 0.4083\n",
      "Epoch 15/300\n",
      "1080/1080 [==============================] - 3s 2ms/step - loss: 7.1153 - acc: 0.3463 - val_loss: 6.9257 - val_acc: 0.4750\n",
      "Epoch 16/300\n",
      "1080/1080 [==============================] - 3s 2ms/step - loss: 7.0520 - acc: 0.3796 - val_loss: 6.8571 - val_acc: 0.4833\n",
      "Epoch 17/300\n",
      "1080/1080 [==============================] - 3s 2ms/step - loss: 7.0246 - acc: 0.3713 - val_loss: 6.8150 - val_acc: 0.4417\n",
      "Epoch 18/300\n",
      "1080/1080 [==============================] - 3s 2ms/step - loss: 6.9214 - acc: 0.4028 - val_loss: 6.7781 - val_acc: 0.4417\n",
      "Epoch 19/300\n",
      "1080/1080 [==============================] - 3s 2ms/step - loss: 6.9258 - acc: 0.3713 - val_loss: 6.6295 - val_acc: 0.4917\n",
      "Epoch 20/300\n",
      "1080/1080 [==============================] - 3s 2ms/step - loss: 6.7551 - acc: 0.4583 - val_loss: 6.5791 - val_acc: 0.4833\n",
      "Epoch 21/300\n",
      "1080/1080 [==============================] - 3s 2ms/step - loss: 6.7958 - acc: 0.4176 - val_loss: 6.5783 - val_acc: 0.5167\n",
      "Epoch 22/300\n",
      "1080/1080 [==============================] - 3s 2ms/step - loss: 6.6524 - acc: 0.4611 - val_loss: 6.7296 - val_acc: 0.4500\n",
      "Epoch 23/300\n",
      "1080/1080 [==============================] - 3s 2ms/step - loss: 6.6338 - acc: 0.4722 - val_loss: 6.7498 - val_acc: 0.3583\n",
      "Epoch 24/300\n",
      "1080/1080 [==============================] - 3s 2ms/step - loss: 6.5361 - acc: 0.4954 - val_loss: 6.7801 - val_acc: 0.3083\n",
      "Epoch 25/300\n",
      "1080/1080 [==============================] - 3s 2ms/step - loss: 6.5800 - acc: 0.4500 - val_loss: 6.3753 - val_acc: 0.5083\n",
      "Epoch 26/300\n",
      "1080/1080 [==============================] - 3s 2ms/step - loss: 6.4677 - acc: 0.5120 - val_loss: 6.3918 - val_acc: 0.5167\n",
      "Epoch 27/300\n",
      "1080/1080 [==============================] - 3s 2ms/step - loss: 6.3824 - acc: 0.5361 - val_loss: 6.6922 - val_acc: 0.4500\n",
      "Epoch 28/300\n",
      "1080/1080 [==============================] - 3s 2ms/step - loss: 6.3540 - acc: 0.5269 - val_loss: 6.2730 - val_acc: 0.5500\n",
      "Epoch 29/300\n",
      "1080/1080 [==============================] - 3s 2ms/step - loss: 6.3386 - acc: 0.5296 - val_loss: 6.2019 - val_acc: 0.5750\n",
      "Epoch 30/300\n",
      "1080/1080 [==============================] - 3s 2ms/step - loss: 6.2582 - acc: 0.5593 - val_loss: 6.1660 - val_acc: 0.5583\n",
      "Epoch 31/300\n",
      "1080/1080 [==============================] - 3s 2ms/step - loss: 6.2508 - acc: 0.5454 - val_loss: 6.1993 - val_acc: 0.5333\n",
      "Epoch 32/300\n",
      "1080/1080 [==============================] - 3s 2ms/step - loss: 6.1967 - acc: 0.5583 - val_loss: 6.0361 - val_acc: 0.6167\n",
      "Epoch 33/300\n",
      "1080/1080 [==============================] - 3s 2ms/step - loss: 6.1563 - acc: 0.5546 - val_loss: 6.2376 - val_acc: 0.4917\n",
      "Epoch 34/300\n",
      "1080/1080 [==============================] - 3s 2ms/step - loss: 6.0461 - acc: 0.6000 - val_loss: 6.0947 - val_acc: 0.5417\n",
      "Epoch 35/300\n",
      "1080/1080 [==============================] - 3s 2ms/step - loss: 6.0248 - acc: 0.5926 - val_loss: 6.4734 - val_acc: 0.4667\n",
      "Epoch 36/300\n",
      "1080/1080 [==============================] - 3s 2ms/step - loss: 5.9978 - acc: 0.5972 - val_loss: 5.9903 - val_acc: 0.5667\n",
      "Epoch 37/300\n",
      "1080/1080 [==============================] - 3s 2ms/step - loss: 6.0432 - acc: 0.5611 - val_loss: 5.7988 - val_acc: 0.6750\n",
      "Epoch 38/300\n",
      "1080/1080 [==============================] - 3s 2ms/step - loss: 5.8690 - acc: 0.6185 - val_loss: 5.9159 - val_acc: 0.6417\n",
      "Epoch 39/300\n",
      "1080/1080 [==============================] - 3s 2ms/step - loss: 5.8770 - acc: 0.5972 - val_loss: 5.8298 - val_acc: 0.5750\n",
      "Epoch 40/300\n",
      "1080/1080 [==============================] - 3s 2ms/step - loss: 5.9073 - acc: 0.5972 - val_loss: 5.8496 - val_acc: 0.5583\n",
      "Epoch 41/300\n",
      "1080/1080 [==============================] - 3s 2ms/step - loss: 5.9134 - acc: 0.6009 - val_loss: 5.7394 - val_acc: 0.6167\n",
      "Epoch 42/300\n",
      "1080/1080 [==============================] - 3s 2ms/step - loss: 5.7385 - acc: 0.6509 - val_loss: 5.7068 - val_acc: 0.5917\n",
      "Epoch 43/300\n",
      "1080/1080 [==============================] - 3s 2ms/step - loss: 5.6637 - acc: 0.6796 - val_loss: 5.7240 - val_acc: 0.6000\n",
      "Epoch 44/300\n",
      "1080/1080 [==============================] - 3s 2ms/step - loss: 5.7339 - acc: 0.6222 - val_loss: 5.7137 - val_acc: 0.6000\n",
      "Epoch 45/300\n",
      "1080/1080 [==============================] - 3s 2ms/step - loss: 5.6751 - acc: 0.6352 - val_loss: 5.5858 - val_acc: 0.6417\n",
      "Epoch 46/300\n",
      "1080/1080 [==============================] - 3s 2ms/step - loss: 5.6143 - acc: 0.6657 - val_loss: 5.7436 - val_acc: 0.6417\n",
      "Epoch 47/300\n",
      "1080/1080 [==============================] - 3s 2ms/step - loss: 5.7220 - acc: 0.6093 - val_loss: 5.4841 - val_acc: 0.6750\n",
      "Epoch 48/300\n",
      "1080/1080 [==============================] - 3s 2ms/step - loss: 5.4925 - acc: 0.7139 - val_loss: 5.6889 - val_acc: 0.6000\n",
      "Epoch 49/300\n",
      "1080/1080 [==============================] - 3s 2ms/step - loss: 5.5975 - acc: 0.6500 - val_loss: 5.7027 - val_acc: 0.6417\n",
      "Epoch 50/300\n",
      "1080/1080 [==============================] - 3s 2ms/step - loss: 5.5762 - acc: 0.6491 - val_loss: 5.4832 - val_acc: 0.6500\n",
      "Epoch 51/300\n",
      "1080/1080 [==============================] - 3s 2ms/step - loss: 5.4578 - acc: 0.6796 - val_loss: 5.4785 - val_acc: 0.6750\n",
      "Epoch 52/300\n",
      "1080/1080 [==============================] - 2s 2ms/step - loss: 5.4145 - acc: 0.7000 - val_loss: 5.5421 - val_acc: 0.6750\n",
      "Epoch 53/300\n",
      "1080/1080 [==============================] - 3s 2ms/step - loss: 5.4352 - acc: 0.6556 - val_loss: 5.3726 - val_acc: 0.7000\n",
      "Epoch 54/300\n",
      "1080/1080 [==============================] - 3s 2ms/step - loss: 5.3576 - acc: 0.7009 - val_loss: 5.4486 - val_acc: 0.6250\n",
      "Epoch 55/300\n",
      "1080/1080 [==============================] - 3s 2ms/step - loss: 5.4185 - acc: 0.6519 - val_loss: 5.2298 - val_acc: 0.7250\n",
      "Epoch 56/300\n",
      "1080/1080 [==============================] - 3s 2ms/step - loss: 5.3202 - acc: 0.7130 - val_loss: 5.2987 - val_acc: 0.7000\n",
      "Epoch 57/300\n",
      "1080/1080 [==============================] - 3s 2ms/step - loss: 5.3191 - acc: 0.6870 - val_loss: 5.2001 - val_acc: 0.7167\n",
      "Epoch 58/300\n",
      "1080/1080 [==============================] - 3s 2ms/step - loss: 5.2485 - acc: 0.7157 - val_loss: 5.3268 - val_acc: 0.6833\n",
      "Epoch 59/300\n",
      "1080/1080 [==============================] - 3s 2ms/step - loss: 5.2362 - acc: 0.7019 - val_loss: 5.1850 - val_acc: 0.7167\n",
      "Epoch 60/300\n",
      "1080/1080 [==============================] - 3s 2ms/step - loss: 5.1861 - acc: 0.7185 - val_loss: 5.1484 - val_acc: 0.7417\n"
     ]
    },
    {
     "name": "stdout",
     "output_type": "stream",
     "text": [
      "Epoch 61/300\n",
      "1080/1080 [==============================] - 2s 2ms/step - loss: 5.1748 - acc: 0.7120 - val_loss: 5.1108 - val_acc: 0.7417\n",
      "Epoch 62/300\n",
      "1080/1080 [==============================] - 3s 2ms/step - loss: 5.1724 - acc: 0.7231 - val_loss: 5.2703 - val_acc: 0.6167\n",
      "Epoch 63/300\n",
      "1080/1080 [==============================] - 3s 2ms/step - loss: 5.0876 - acc: 0.7435 - val_loss: 5.0645 - val_acc: 0.7500\n",
      "Epoch 64/300\n",
      "1080/1080 [==============================] - 3s 2ms/step - loss: 5.0230 - acc: 0.7667 - val_loss: 5.2174 - val_acc: 0.6583\n",
      "Epoch 65/300\n",
      "1080/1080 [==============================] - 3s 2ms/step - loss: 5.1877 - acc: 0.7120 - val_loss: 5.0912 - val_acc: 0.7500\n",
      "Epoch 66/300\n",
      "1080/1080 [==============================] - 3s 2ms/step - loss: 5.0507 - acc: 0.7361 - val_loss: 4.9835 - val_acc: 0.7667\n",
      "Epoch 67/300\n",
      "1080/1080 [==============================] - 3s 2ms/step - loss: 5.0061 - acc: 0.7741 - val_loss: 4.9257 - val_acc: 0.7833\n",
      "Epoch 68/300\n",
      "1080/1080 [==============================] - 3s 2ms/step - loss: 5.0186 - acc: 0.7463 - val_loss: 5.1514 - val_acc: 0.6750\n",
      "Epoch 69/300\n",
      "1080/1080 [==============================] - 3s 2ms/step - loss: 4.9833 - acc: 0.7509 - val_loss: 5.1334 - val_acc: 0.6833\n",
      "Epoch 70/300\n",
      "1080/1080 [==============================] - 3s 2ms/step - loss: 4.9259 - acc: 0.7685 - val_loss: 4.9521 - val_acc: 0.7333\n",
      "Epoch 71/300\n",
      "1080/1080 [==============================] - 3s 2ms/step - loss: 4.9604 - acc: 0.7389 - val_loss: 4.9718 - val_acc: 0.7083\n",
      "Epoch 72/300\n",
      "1080/1080 [==============================] - 3s 2ms/step - loss: 4.8687 - acc: 0.7769 - val_loss: 5.5151 - val_acc: 0.5833\n",
      "Epoch 73/300\n",
      "1080/1080 [==============================] - 3s 2ms/step - loss: 4.8917 - acc: 0.7759 - val_loss: 4.8005 - val_acc: 0.7583\n",
      "Epoch 74/300\n",
      "1080/1080 [==============================] - 3s 2ms/step - loss: 4.8834 - acc: 0.7454 - val_loss: 5.3212 - val_acc: 0.5917\n",
      "Epoch 75/300\n",
      "1080/1080 [==============================] - 3s 2ms/step - loss: 4.8374 - acc: 0.7759 - val_loss: 4.8189 - val_acc: 0.7833\n",
      "Epoch 76/300\n",
      "1080/1080 [==============================] - 3s 2ms/step - loss: 4.8056 - acc: 0.7824 - val_loss: 4.7423 - val_acc: 0.7750\n",
      "Epoch 77/300\n",
      "1080/1080 [==============================] - 2s 2ms/step - loss: 4.7827 - acc: 0.7750 - val_loss: 4.7690 - val_acc: 0.7750\n",
      "Epoch 78/300\n",
      "1080/1080 [==============================] - 3s 2ms/step - loss: 4.7344 - acc: 0.7935 - val_loss: 5.0087 - val_acc: 0.6500\n",
      "Epoch 79/300\n",
      "1080/1080 [==============================] - 2s 2ms/step - loss: 4.8030 - acc: 0.7722 - val_loss: 4.7524 - val_acc: 0.7750\n",
      "Epoch 80/300\n",
      "1080/1080 [==============================] - 2s 2ms/step - loss: 4.6767 - acc: 0.8046 - val_loss: 4.8979 - val_acc: 0.7167\n",
      "Epoch 81/300\n",
      "1080/1080 [==============================] - 2s 2ms/step - loss: 4.7132 - acc: 0.7750 - val_loss: 4.9327 - val_acc: 0.7250\n",
      "Epoch 82/300\n",
      "1080/1080 [==============================] - 2s 2ms/step - loss: 4.7397 - acc: 0.7620 - val_loss: 4.7332 - val_acc: 0.7833\n",
      "Epoch 83/300\n",
      "1080/1080 [==============================] - 2s 2ms/step - loss: 4.6572 - acc: 0.7889 - val_loss: 4.9589 - val_acc: 0.7167\n",
      "Epoch 84/300\n",
      "1080/1080 [==============================] - 2s 2ms/step - loss: 4.7236 - acc: 0.7583 - val_loss: 4.6472 - val_acc: 0.7833\n",
      "Epoch 85/300\n",
      "1080/1080 [==============================] - 2s 2ms/step - loss: 4.6046 - acc: 0.8083 - val_loss: 5.1432 - val_acc: 0.6583\n",
      "Epoch 86/300\n",
      "1080/1080 [==============================] - 2s 2ms/step - loss: 4.5783 - acc: 0.8287 - val_loss: 4.6052 - val_acc: 0.8000\n",
      "Epoch 87/300\n",
      "1080/1080 [==============================] - 2s 2ms/step - loss: 4.6262 - acc: 0.7861 - val_loss: 4.6169 - val_acc: 0.7667\n",
      "Epoch 88/300\n",
      "1080/1080 [==============================] - 2s 2ms/step - loss: 4.5204 - acc: 0.8361 - val_loss: 4.5340 - val_acc: 0.8000\n",
      "Epoch 89/300\n",
      "1080/1080 [==============================] - 2s 2ms/step - loss: 4.5708 - acc: 0.7843 - val_loss: 4.5479 - val_acc: 0.8167\n",
      "Epoch 90/300\n",
      "1080/1080 [==============================] - 2s 2ms/step - loss: 4.5381 - acc: 0.8120 - val_loss: 4.6033 - val_acc: 0.7750\n",
      "Epoch 91/300\n",
      "1080/1080 [==============================] - 2s 2ms/step - loss: 4.5167 - acc: 0.8176 - val_loss: 4.6347 - val_acc: 0.7417\n",
      "Epoch 92/300\n",
      "1080/1080 [==============================] - 2s 2ms/step - loss: 4.5312 - acc: 0.8194 - val_loss: 4.4563 - val_acc: 0.8250\n",
      "Epoch 93/300\n",
      "1080/1080 [==============================] - 2s 2ms/step - loss: 4.5232 - acc: 0.7991 - val_loss: 4.4592 - val_acc: 0.8417\n",
      "Epoch 94/300\n",
      "1080/1080 [==============================] - 2s 2ms/step - loss: 4.4758 - acc: 0.8148 - val_loss: 4.4545 - val_acc: 0.8333\n",
      "Epoch 95/300\n",
      "1080/1080 [==============================] - 2s 2ms/step - loss: 4.4368 - acc: 0.8269 - val_loss: 4.3869 - val_acc: 0.8250\n",
      "Epoch 96/300\n",
      "1080/1080 [==============================] - 2s 2ms/step - loss: 4.3503 - acc: 0.8509 - val_loss: 4.4438 - val_acc: 0.7917\n",
      "Epoch 97/300\n",
      "1080/1080 [==============================] - 2s 2ms/step - loss: 4.3507 - acc: 0.8481 - val_loss: 4.4146 - val_acc: 0.7917\n",
      "Epoch 98/300\n",
      "1080/1080 [==============================] - 2s 2ms/step - loss: 4.4499 - acc: 0.8009 - val_loss: 4.3480 - val_acc: 0.8417\n",
      "Epoch 99/300\n",
      "1080/1080 [==============================] - 2s 2ms/step - loss: 4.4136 - acc: 0.8111 - val_loss: 4.4840 - val_acc: 0.7833\n",
      "Epoch 100/300\n",
      "1080/1080 [==============================] - 2s 2ms/step - loss: 4.2924 - acc: 0.8620 - val_loss: 4.6130 - val_acc: 0.7333\n",
      "Epoch 101/300\n",
      "1080/1080 [==============================] - 2s 2ms/step - loss: 4.3514 - acc: 0.8269 - val_loss: 4.4658 - val_acc: 0.8083\n",
      "Epoch 102/300\n",
      "1080/1080 [==============================] - 2s 2ms/step - loss: 4.2808 - acc: 0.8620 - val_loss: 4.2905 - val_acc: 0.8583\n",
      "Epoch 103/300\n",
      "1080/1080 [==============================] - 2s 2ms/step - loss: 4.2030 - acc: 0.8824 - val_loss: 4.3077 - val_acc: 0.8250\n",
      "Epoch 104/300\n",
      "1080/1080 [==============================] - 2s 2ms/step - loss: 4.3302 - acc: 0.8148 - val_loss: 4.2875 - val_acc: 0.8083\n",
      "Epoch 105/300\n",
      "1080/1080 [==============================] - 2s 2ms/step - loss: 4.1698 - acc: 0.8926 - val_loss: 4.4350 - val_acc: 0.7917\n",
      "Epoch 106/300\n",
      "1080/1080 [==============================] - 2s 2ms/step - loss: 4.3182 - acc: 0.8241 - val_loss: 4.4434 - val_acc: 0.7833\n",
      "Epoch 107/300\n",
      "1080/1080 [==============================] - 2s 2ms/step - loss: 4.1815 - acc: 0.8870 - val_loss: 5.0357 - val_acc: 0.6667\n",
      "Epoch 108/300\n",
      "1080/1080 [==============================] - 2s 2ms/step - loss: 4.2398 - acc: 0.8556 - val_loss: 4.3917 - val_acc: 0.8167\n",
      "Epoch 109/300\n",
      "1080/1080 [==============================] - 2s 2ms/step - loss: 4.2253 - acc: 0.8454 - val_loss: 4.3074 - val_acc: 0.7833\n",
      "Epoch 110/300\n",
      "1080/1080 [==============================] - 2s 2ms/step - loss: 4.1455 - acc: 0.8694 - val_loss: 4.1794 - val_acc: 0.8583\n",
      "Epoch 111/300\n",
      "1080/1080 [==============================] - 2s 2ms/step - loss: 4.1504 - acc: 0.8630 - val_loss: 4.3305 - val_acc: 0.8000\n",
      "Epoch 112/300\n",
      "1080/1080 [==============================] - 2s 2ms/step - loss: 4.1441 - acc: 0.8694 - val_loss: 5.0714 - val_acc: 0.6500\n",
      "Epoch 113/300\n",
      "1080/1080 [==============================] - 2s 2ms/step - loss: 4.1345 - acc: 0.8824 - val_loss: 4.1940 - val_acc: 0.8167\n",
      "Epoch 114/300\n",
      "1080/1080 [==============================] - 2s 2ms/step - loss: 4.2060 - acc: 0.8315 - val_loss: 4.1328 - val_acc: 0.8417\n",
      "Epoch 115/300\n",
      "1080/1080 [==============================] - 2s 2ms/step - loss: 4.0831 - acc: 0.8824 - val_loss: 4.1351 - val_acc: 0.8417\n",
      "Epoch 116/300\n",
      "1080/1080 [==============================] - 2s 2ms/step - loss: 4.0291 - acc: 0.9019 - val_loss: 4.5242 - val_acc: 0.7417\n",
      "Epoch 117/300\n",
      "1080/1080 [==============================] - 2s 2ms/step - loss: 4.1249 - acc: 0.8602 - val_loss: 4.0990 - val_acc: 0.8667\n",
      "Epoch 118/300\n",
      "1080/1080 [==============================] - 2s 2ms/step - loss: 3.9854 - acc: 0.9074 - val_loss: 4.0995 - val_acc: 0.8417\n",
      "Epoch 119/300\n",
      "1080/1080 [==============================] - 2s 2ms/step - loss: 3.9732 - acc: 0.9056 - val_loss: 4.1059 - val_acc: 0.8250\n",
      "Epoch 120/300\n",
      "1080/1080 [==============================] - 2s 2ms/step - loss: 4.0746 - acc: 0.8435 - val_loss: 4.1975 - val_acc: 0.8000\n",
      "Epoch 121/300\n"
     ]
    },
    {
     "name": "stdout",
     "output_type": "stream",
     "text": [
      "1080/1080 [==============================] - 2s 2ms/step - loss: 4.0658 - acc: 0.8657 - val_loss: 4.2999 - val_acc: 0.7833\n",
      "Epoch 122/300\n",
      "1080/1080 [==============================] - 2s 2ms/step - loss: 3.9634 - acc: 0.9037 - val_loss: 4.1801 - val_acc: 0.8333\n",
      "Epoch 123/300\n",
      "1080/1080 [==============================] - 2s 2ms/step - loss: 3.9583 - acc: 0.8926 - val_loss: 4.0294 - val_acc: 0.8833\n",
      "Epoch 124/300\n",
      "1080/1080 [==============================] - 2s 2ms/step - loss: 4.2448 - acc: 0.8148 - val_loss: 4.1505 - val_acc: 0.8000\n",
      "Epoch 125/300\n",
      "1080/1080 [==============================] - 2s 2ms/step - loss: 3.9366 - acc: 0.9056 - val_loss: 4.0180 - val_acc: 0.8667\n",
      "Epoch 126/300\n",
      "1080/1080 [==============================] - 2s 2ms/step - loss: 3.8698 - acc: 0.9250 - val_loss: 4.1393 - val_acc: 0.8250\n",
      "Epoch 127/300\n",
      "1080/1080 [==============================] - 2s 2ms/step - loss: 3.9243 - acc: 0.8926 - val_loss: 4.0565 - val_acc: 0.8333\n",
      "Epoch 128/300\n",
      "1080/1080 [==============================] - 2s 2ms/step - loss: 3.9722 - acc: 0.8685 - val_loss: 3.9888 - val_acc: 0.8833\n",
      "Epoch 129/300\n",
      "1080/1080 [==============================] - 2s 2ms/step - loss: 3.9114 - acc: 0.8954 - val_loss: 4.3314 - val_acc: 0.7500\n",
      "Epoch 130/300\n",
      "1080/1080 [==============================] - 2s 2ms/step - loss: 3.8816 - acc: 0.9037 - val_loss: 3.9661 - val_acc: 0.8667\n",
      "Epoch 131/300\n",
      "1080/1080 [==============================] - 2s 2ms/step - loss: 3.8347 - acc: 0.9139 - val_loss: 4.3858 - val_acc: 0.7750\n",
      "Epoch 132/300\n",
      "1080/1080 [==============================] - 2s 2ms/step - loss: 3.8406 - acc: 0.9093 - val_loss: 4.0953 - val_acc: 0.8167\n",
      "Epoch 133/300\n",
      "1080/1080 [==============================] - 2s 2ms/step - loss: 3.8576 - acc: 0.8991 - val_loss: 4.0300 - val_acc: 0.8417\n",
      "Epoch 134/300\n",
      "1080/1080 [==============================] - 2s 2ms/step - loss: 3.8181 - acc: 0.9139 - val_loss: 3.9179 - val_acc: 0.8750\n",
      "Epoch 135/300\n",
      "1080/1080 [==============================] - 2s 2ms/step - loss: 3.8120 - acc: 0.9120 - val_loss: 3.9016 - val_acc: 0.8417\n",
      "Epoch 136/300\n",
      "1080/1080 [==============================] - 2s 2ms/step - loss: 3.7958 - acc: 0.9111 - val_loss: 4.0386 - val_acc: 0.8333\n",
      "Epoch 137/300\n",
      "1080/1080 [==============================] - 2s 2ms/step - loss: 3.7543 - acc: 0.9398 - val_loss: 3.9487 - val_acc: 0.8750\n",
      "Epoch 138/300\n",
      "1080/1080 [==============================] - 2s 2ms/step - loss: 3.7479 - acc: 0.9269 - val_loss: 4.2661 - val_acc: 0.8083\n",
      "Epoch 139/300\n",
      "1080/1080 [==============================] - 2s 2ms/step - loss: 3.8846 - acc: 0.8704 - val_loss: 3.8487 - val_acc: 0.8750\n",
      "Epoch 140/300\n",
      "1080/1080 [==============================] - 2s 2ms/step - loss: 3.6975 - acc: 0.9426 - val_loss: 3.9110 - val_acc: 0.8500\n",
      "Epoch 141/300\n",
      "1080/1080 [==============================] - 2s 2ms/step - loss: 3.6960 - acc: 0.9380 - val_loss: 3.8255 - val_acc: 0.8917\n",
      "Epoch 142/300\n",
      "1080/1080 [==============================] - 2s 2ms/step - loss: 3.8966 - acc: 0.8676 - val_loss: 4.2627 - val_acc: 0.7250\n",
      "Epoch 143/300\n",
      "1080/1080 [==============================] - 2s 2ms/step - loss: 3.7239 - acc: 0.9259 - val_loss: 3.8540 - val_acc: 0.8917\n",
      "Epoch 144/300\n",
      "1080/1080 [==============================] - 2s 2ms/step - loss: 3.7428 - acc: 0.9139 - val_loss: 3.8857 - val_acc: 0.8583\n",
      "Epoch 145/300\n",
      "1080/1080 [==============================] - 2s 2ms/step - loss: 3.6899 - acc: 0.9287 - val_loss: 3.8186 - val_acc: 0.8500\n",
      "Epoch 146/300\n",
      "1080/1080 [==============================] - 2s 2ms/step - loss: 3.6973 - acc: 0.9176 - val_loss: 3.8581 - val_acc: 0.8500\n",
      "Epoch 147/300\n",
      "1080/1080 [==============================] - 2s 2ms/step - loss: 3.6517 - acc: 0.9398 - val_loss: 3.8539 - val_acc: 0.8583\n",
      "Epoch 148/300\n",
      "1080/1080 [==============================] - 2s 2ms/step - loss: 3.6123 - acc: 0.9509 - val_loss: 3.7998 - val_acc: 0.8833\n",
      "Epoch 149/300\n",
      "1080/1080 [==============================] - 2s 2ms/step - loss: 3.7257 - acc: 0.8963 - val_loss: 3.8540 - val_acc: 0.8583\n",
      "Epoch 150/300\n",
      "1080/1080 [==============================] - 2s 2ms/step - loss: 3.6198 - acc: 0.9426 - val_loss: 3.9529 - val_acc: 0.8500\n",
      "Epoch 151/300\n",
      "1080/1080 [==============================] - 2s 2ms/step - loss: 3.6160 - acc: 0.9444 - val_loss: 4.0513 - val_acc: 0.8250\n",
      "Epoch 152/300\n",
      "1080/1080 [==============================] - 2s 2ms/step - loss: 3.6425 - acc: 0.9269 - val_loss: 3.8068 - val_acc: 0.8667\n",
      "Epoch 153/300\n",
      "1080/1080 [==============================] - 2s 2ms/step - loss: 3.5624 - acc: 0.9611 - val_loss: 3.7886 - val_acc: 0.9000\n",
      "Epoch 154/300\n",
      "1080/1080 [==============================] - 2s 2ms/step - loss: 3.5268 - acc: 0.9713 - val_loss: 3.7680 - val_acc: 0.8750\n",
      "Epoch 155/300\n",
      "1080/1080 [==============================] - 2s 2ms/step - loss: 3.6305 - acc: 0.9204 - val_loss: 3.9083 - val_acc: 0.8417\n",
      "Epoch 156/300\n",
      "1080/1080 [==============================] - 2s 2ms/step - loss: 3.7824 - acc: 0.8824 - val_loss: 3.6980 - val_acc: 0.9250\n",
      "Epoch 157/300\n",
      "1080/1080 [==============================] - 2s 2ms/step - loss: 3.5275 - acc: 0.9676 - val_loss: 3.6729 - val_acc: 0.8833\n",
      "Epoch 158/300\n",
      "1080/1080 [==============================] - 2s 2ms/step - loss: 3.5186 - acc: 0.9556 - val_loss: 3.7441 - val_acc: 0.8833\n",
      "Epoch 159/300\n",
      "1080/1080 [==============================] - 2s 2ms/step - loss: 3.5276 - acc: 0.9500 - val_loss: 3.7073 - val_acc: 0.8917\n",
      "Epoch 160/300\n",
      "1080/1080 [==============================] - 2s 2ms/step - loss: 3.4904 - acc: 0.9602 - val_loss: 4.0017 - val_acc: 0.8333\n",
      "Epoch 161/300\n",
      "1080/1080 [==============================] - 2s 2ms/step - loss: 3.8434 - acc: 0.8472 - val_loss: 3.7434 - val_acc: 0.8667\n",
      "Epoch 162/300\n",
      "1080/1080 [==============================] - 2s 2ms/step - loss: 3.5480 - acc: 0.9407 - val_loss: 3.7291 - val_acc: 0.8917\n",
      "Epoch 163/300\n",
      "1080/1080 [==============================] - 3s 2ms/step - loss: 3.5012 - acc: 0.9593 - val_loss: 3.9489 - val_acc: 0.8500\n",
      "Epoch 164/300\n",
      "1080/1080 [==============================] - 2s 2ms/step - loss: 3.8692 - acc: 0.8361 - val_loss: 3.8157 - val_acc: 0.8333\n",
      "Epoch 165/300\n",
      "1080/1080 [==============================] - 2s 2ms/step - loss: 3.5780 - acc: 0.9176 - val_loss: 3.7142 - val_acc: 0.8833\n",
      "Epoch 166/300\n",
      "1080/1080 [==============================] - 2s 2ms/step - loss: 3.6202 - acc: 0.9065 - val_loss: 3.6721 - val_acc: 0.9000\n",
      "Epoch 167/300\n",
      "1080/1080 [==============================] - 2s 2ms/step - loss: 3.4709 - acc: 0.9657 - val_loss: 3.6959 - val_acc: 0.8667\n",
      "Epoch 168/300\n",
      "1080/1080 [==============================] - 2s 2ms/step - loss: 3.4674 - acc: 0.9417 - val_loss: 3.6038 - val_acc: 0.8917\n",
      "Epoch 169/300\n",
      "1080/1080 [==============================] - 2s 2ms/step - loss: 3.4867 - acc: 0.9444 - val_loss: 4.0003 - val_acc: 0.7833\n",
      "Epoch 170/300\n",
      "1080/1080 [==============================] - 2s 2ms/step - loss: 3.5047 - acc: 0.9389 - val_loss: 3.7142 - val_acc: 0.8583\n",
      "Epoch 171/300\n",
      "1080/1080 [==============================] - 2s 2ms/step - loss: 3.4164 - acc: 0.9731 - val_loss: 3.6682 - val_acc: 0.8833\n",
      "Epoch 172/300\n",
      "1080/1080 [==============================] - 2s 2ms/step - loss: 3.4433 - acc: 0.9565 - val_loss: 4.1383 - val_acc: 0.7667\n",
      "Epoch 173/300\n",
      "1080/1080 [==============================] - 2s 2ms/step - loss: 3.4516 - acc: 0.9509 - val_loss: 3.7094 - val_acc: 0.8833\n",
      "Epoch 174/300\n",
      "1080/1080 [==============================] - 2s 2ms/step - loss: 3.3904 - acc: 0.9694 - val_loss: 3.7241 - val_acc: 0.8750\n",
      "Epoch 175/300\n",
      "1080/1080 [==============================] - 2s 2ms/step - loss: 3.4287 - acc: 0.9435 - val_loss: 3.6057 - val_acc: 0.8833\n",
      "Epoch 176/300\n",
      "1080/1080 [==============================] - 2s 2ms/step - loss: 3.3730 - acc: 0.9667 - val_loss: 3.5383 - val_acc: 0.8833\n",
      "Epoch 177/300\n",
      "1080/1080 [==============================] - 2s 2ms/step - loss: 3.3745 - acc: 0.9667 - val_loss: 3.5695 - val_acc: 0.8917\n",
      "Epoch 178/300\n",
      "1080/1080 [==============================] - 2s 2ms/step - loss: 3.3588 - acc: 0.9676 - val_loss: 3.5856 - val_acc: 0.9000\n",
      "Epoch 179/300\n",
      "1080/1080 [==============================] - 2s 2ms/step - loss: 3.3339 - acc: 0.9824 - val_loss: 3.5564 - val_acc: 0.9083\n",
      "Epoch 180/300\n",
      "1080/1080 [==============================] - 2s 2ms/step - loss: 3.3391 - acc: 0.9741 - val_loss: 3.5716 - val_acc: 0.8667\n"
     ]
    },
    {
     "name": "stdout",
     "output_type": "stream",
     "text": [
      "Epoch 181/300\n",
      "1080/1080 [==============================] - 2s 2ms/step - loss: 3.3597 - acc: 0.9630 - val_loss: 3.5761 - val_acc: 0.9333\n",
      "Epoch 182/300\n",
      "1080/1080 [==============================] - 2s 2ms/step - loss: 3.3178 - acc: 0.9796 - val_loss: 3.5052 - val_acc: 0.8917\n",
      "Epoch 183/300\n",
      "1080/1080 [==============================] - 2s 2ms/step - loss: 3.5029 - acc: 0.9046 - val_loss: 3.5229 - val_acc: 0.8750\n",
      "Epoch 184/300\n",
      "1080/1080 [==============================] - 2s 2ms/step - loss: 3.3161 - acc: 0.9796 - val_loss: 3.5736 - val_acc: 0.8917\n",
      "Epoch 185/300\n",
      "1080/1080 [==============================] - 2s 2ms/step - loss: 3.3089 - acc: 0.9750 - val_loss: 3.5099 - val_acc: 0.9167\n",
      "Epoch 186/300\n",
      "1080/1080 [==============================] - 2s 2ms/step - loss: 3.2826 - acc: 0.9843 - val_loss: 3.5036 - val_acc: 0.9250\n",
      "Epoch 187/300\n",
      "1080/1080 [==============================] - 2s 2ms/step - loss: 3.5672 - acc: 0.8944 - val_loss: 4.0651 - val_acc: 0.7417\n",
      "Epoch 188/300\n",
      "1080/1080 [==============================] - 2s 2ms/step - loss: 3.3867 - acc: 0.9528 - val_loss: 3.5196 - val_acc: 0.9000\n",
      "Epoch 189/300\n",
      "1080/1080 [==============================] - 2s 2ms/step - loss: 3.2958 - acc: 0.9731 - val_loss: 4.0538 - val_acc: 0.7750\n",
      "Epoch 190/300\n",
      "1080/1080 [==============================] - 2s 2ms/step - loss: 3.4311 - acc: 0.9306 - val_loss: 3.4785 - val_acc: 0.9250\n",
      "Epoch 191/300\n",
      "1080/1080 [==============================] - 2s 2ms/step - loss: 3.2765 - acc: 0.9778 - val_loss: 3.4535 - val_acc: 0.9167\n",
      "Epoch 192/300\n",
      "1080/1080 [==============================] - 2s 2ms/step - loss: 3.2703 - acc: 0.9741 - val_loss: 3.4613 - val_acc: 0.9000\n",
      "Epoch 193/300\n",
      "1080/1080 [==============================] - 2s 2ms/step - loss: 3.2526 - acc: 0.9796 - val_loss: 3.6003 - val_acc: 0.8917\n",
      "Epoch 194/300\n",
      "1080/1080 [==============================] - 2s 2ms/step - loss: 3.2362 - acc: 0.9824 - val_loss: 3.4265 - val_acc: 0.9167\n",
      "Epoch 195/300\n",
      "1080/1080 [==============================] - 2s 2ms/step - loss: 3.2334 - acc: 0.9824 - val_loss: 3.4314 - val_acc: 0.9250\n",
      "Epoch 196/300\n",
      "1080/1080 [==============================] - 2s 2ms/step - loss: 3.2162 - acc: 0.9861 - val_loss: 3.4183 - val_acc: 0.9000\n",
      "Epoch 197/300\n",
      "1080/1080 [==============================] - 2s 2ms/step - loss: 3.2560 - acc: 0.9676 - val_loss: 3.5507 - val_acc: 0.8917\n",
      "Epoch 198/300\n",
      "1080/1080 [==============================] - 2s 2ms/step - loss: 3.2736 - acc: 0.9546 - val_loss: 4.7537 - val_acc: 0.6583\n",
      "Epoch 199/300\n",
      "1080/1080 [==============================] - 2s 2ms/step - loss: 4.2760 - acc: 0.7176 - val_loss: 3.5425 - val_acc: 0.8500\n",
      "Epoch 200/300\n",
      "1080/1080 [==============================] - 2s 2ms/step - loss: 3.3984 - acc: 0.9213 - val_loss: 3.6398 - val_acc: 0.8167\n",
      "Epoch 201/300\n",
      "1080/1080 [==============================] - 2s 2ms/step - loss: 3.5898 - acc: 0.8444 - val_loss: 3.5041 - val_acc: 0.8750\n",
      "Epoch 202/300\n",
      "1080/1080 [==============================] - 2s 2ms/step - loss: 3.2859 - acc: 0.9694 - val_loss: 3.3798 - val_acc: 0.9167\n",
      "Epoch 203/300\n",
      "1080/1080 [==============================] - 2s 2ms/step - loss: 3.2645 - acc: 0.9565 - val_loss: 3.4223 - val_acc: 0.9083\n",
      "Epoch 204/300\n",
      "1080/1080 [==============================] - 3s 2ms/step - loss: 3.3190 - acc: 0.9361 - val_loss: 3.3801 - val_acc: 0.9167\n",
      "Epoch 205/300\n",
      "1080/1080 [==============================] - 3s 2ms/step - loss: 3.2284 - acc: 0.9685 - val_loss: 3.3461 - val_acc: 0.9250\n",
      "Epoch 206/300\n",
      "1080/1080 [==============================] - 2s 2ms/step - loss: 3.2304 - acc: 0.9639 - val_loss: 3.5434 - val_acc: 0.8583\n",
      "Epoch 207/300\n",
      "1080/1080 [==============================] - 2s 2ms/step - loss: 3.2193 - acc: 0.9593 - val_loss: 3.4466 - val_acc: 0.9000\n",
      "Epoch 208/300\n",
      "1080/1080 [==============================] - 2s 2ms/step - loss: 3.2614 - acc: 0.9417 - val_loss: 3.3552 - val_acc: 0.9167\n",
      "Epoch 209/300\n",
      "1080/1080 [==============================] - 2s 2ms/step - loss: 3.1817 - acc: 0.9815 - val_loss: 3.4058 - val_acc: 0.9083\n",
      "Epoch 210/300\n",
      "1080/1080 [==============================] - 2s 2ms/step - loss: 3.1795 - acc: 0.9750 - val_loss: 3.3872 - val_acc: 0.8917\n",
      "Epoch 211/300\n",
      "1080/1080 [==============================] - 2s 2ms/step - loss: 3.1597 - acc: 0.9852 - val_loss: 3.3753 - val_acc: 0.9000\n",
      "Epoch 212/300\n",
      "1080/1080 [==============================] - 2s 2ms/step - loss: 3.1656 - acc: 0.9769 - val_loss: 3.4038 - val_acc: 0.8917\n",
      "Epoch 213/300\n",
      "1080/1080 [==============================] - 2s 2ms/step - loss: 3.3239 - acc: 0.9324 - val_loss: 3.3097 - val_acc: 0.9250\n",
      "Epoch 214/300\n",
      "1080/1080 [==============================] - 2s 2ms/step - loss: 3.1719 - acc: 0.9778 - val_loss: 3.3169 - val_acc: 0.9333\n",
      "Epoch 215/300\n",
      "1080/1080 [==============================] - 2s 2ms/step - loss: 3.4142 - acc: 0.9102 - val_loss: 5.5449 - val_acc: 0.5083\n",
      "Epoch 216/300\n",
      "1080/1080 [==============================] - 2s 2ms/step - loss: 4.0691 - acc: 0.6889 - val_loss: 3.3928 - val_acc: 0.8917\n",
      "Epoch 217/300\n",
      "1080/1080 [==============================] - 2s 2ms/step - loss: 3.3196 - acc: 0.9250 - val_loss: 3.4171 - val_acc: 0.8833\n",
      "Epoch 218/300\n",
      "1080/1080 [==============================] - 2s 2ms/step - loss: 3.4834 - acc: 0.8491 - val_loss: 3.4929 - val_acc: 0.8167\n",
      "Epoch 219/300\n",
      "1080/1080 [==============================] - 2s 2ms/step - loss: 3.2008 - acc: 0.9620 - val_loss: 3.3234 - val_acc: 0.9000\n",
      "Epoch 220/300\n",
      "1080/1080 [==============================] - 2s 2ms/step - loss: 3.2130 - acc: 0.9426 - val_loss: 3.6424 - val_acc: 0.8000\n",
      "Epoch 221/300\n",
      "1080/1080 [==============================] - 2s 2ms/step - loss: 3.1842 - acc: 0.9565 - val_loss: 3.2938 - val_acc: 0.9000\n",
      "Epoch 222/300\n",
      "1080/1080 [==============================] - 3s 2ms/step - loss: 3.1378 - acc: 0.9731 - val_loss: 3.3901 - val_acc: 0.8750\n",
      "Epoch 223/300\n",
      "1080/1080 [==============================] - 2s 2ms/step - loss: 3.1227 - acc: 0.9741 - val_loss: 3.3369 - val_acc: 0.8750\n",
      "Epoch 224/300\n",
      "1080/1080 [==============================] - 2s 2ms/step - loss: 3.1299 - acc: 0.9704 - val_loss: 3.4596 - val_acc: 0.8667\n",
      "Epoch 225/300\n",
      "1080/1080 [==============================] - 2s 2ms/step - loss: 3.1313 - acc: 0.9694 - val_loss: 3.2747 - val_acc: 0.9083\n",
      "Epoch 226/300\n",
      "1080/1080 [==============================] - 2s 2ms/step - loss: 3.1307 - acc: 0.9620 - val_loss: 3.3144 - val_acc: 0.9167\n",
      "Epoch 227/300\n",
      "1080/1080 [==============================] - 2s 2ms/step - loss: 3.1021 - acc: 0.9759 - val_loss: 3.3072 - val_acc: 0.8917\n",
      "Epoch 228/300\n",
      "1080/1080 [==============================] - 2s 2ms/step - loss: 3.0918 - acc: 0.9796 - val_loss: 3.3987 - val_acc: 0.8833\n",
      "Epoch 229/300\n",
      "1080/1080 [==============================] - 2s 2ms/step - loss: 3.0744 - acc: 0.9843 - val_loss: 3.3036 - val_acc: 0.9083\n",
      "Epoch 230/300\n",
      "1080/1080 [==============================] - 2s 2ms/step - loss: 3.1099 - acc: 0.9648 - val_loss: 3.2481 - val_acc: 0.9167\n",
      "Epoch 231/300\n",
      "1080/1080 [==============================] - 2s 2ms/step - loss: 3.0709 - acc: 0.9824 - val_loss: 3.2538 - val_acc: 0.9250\n",
      "Epoch 232/300\n",
      "1080/1080 [==============================] - 2s 2ms/step - loss: 3.0579 - acc: 0.9898 - val_loss: 3.2655 - val_acc: 0.9250\n",
      "Epoch 233/300\n",
      "1080/1080 [==============================] - 2s 2ms/step - loss: 3.0557 - acc: 0.9843 - val_loss: 3.2357 - val_acc: 0.9250\n",
      "Epoch 234/300\n",
      "1080/1080 [==============================] - 2s 2ms/step - loss: 3.0768 - acc: 0.9731 - val_loss: 3.2606 - val_acc: 0.9083\n",
      "Epoch 235/300\n",
      "1080/1080 [==============================] - 2s 2ms/step - loss: 4.4759 - acc: 0.6324 - val_loss: 4.2316 - val_acc: 0.4667\n",
      "Epoch 236/300\n",
      "1080/1080 [==============================] - 2s 2ms/step - loss: 3.7097 - acc: 0.7546 - val_loss: 3.6139 - val_acc: 0.7750\n",
      "Epoch 237/300\n",
      "1080/1080 [==============================] - 2s 2ms/step - loss: 3.6071 - acc: 0.7778 - val_loss: 3.7303 - val_acc: 0.7083\n",
      "Epoch 238/300\n",
      "1080/1080 [==============================] - 2s 2ms/step - loss: 3.3670 - acc: 0.8648 - val_loss: 3.3247 - val_acc: 0.8667\n",
      "Epoch 239/300\n",
      "1080/1080 [==============================] - 2s 2ms/step - loss: 3.4586 - acc: 0.8417 - val_loss: 3.3255 - val_acc: 0.8750\n",
      "Epoch 240/300\n",
      "1080/1080 [==============================] - 2s 2ms/step - loss: 3.1682 - acc: 0.9537 - val_loss: 3.4124 - val_acc: 0.8333\n"
     ]
    },
    {
     "name": "stdout",
     "output_type": "stream",
     "text": [
      "Epoch 241/300\n",
      "1080/1080 [==============================] - 2s 2ms/step - loss: 3.1500 - acc: 0.9435 - val_loss: 3.2690 - val_acc: 0.9333\n",
      "Epoch 242/300\n",
      "1080/1080 [==============================] - 2s 2ms/step - loss: 3.1170 - acc: 0.9630 - val_loss: 3.2604 - val_acc: 0.9000\n",
      "Epoch 243/300\n",
      "1080/1080 [==============================] - 2s 2ms/step - loss: 3.2115 - acc: 0.9259 - val_loss: 3.2957 - val_acc: 0.8750\n",
      "Epoch 244/300\n",
      "1080/1080 [==============================] - 2s 2ms/step - loss: 3.0996 - acc: 0.9630 - val_loss: 3.2487 - val_acc: 0.9000\n",
      "Epoch 245/300\n",
      "1080/1080 [==============================] - 2s 2ms/step - loss: 3.1426 - acc: 0.9389 - val_loss: 3.5028 - val_acc: 0.8250\n",
      "Epoch 246/300\n",
      "1080/1080 [==============================] - 2s 2ms/step - loss: 3.1049 - acc: 0.9556 - val_loss: 3.2326 - val_acc: 0.9167\n",
      "Epoch 247/300\n",
      "1080/1080 [==============================] - 2s 2ms/step - loss: 3.0730 - acc: 0.9657 - val_loss: 3.2307 - val_acc: 0.9250\n",
      "Epoch 248/300\n",
      "1080/1080 [==============================] - 2s 2ms/step - loss: 3.0535 - acc: 0.9676 - val_loss: 3.2480 - val_acc: 0.9000\n",
      "Epoch 249/300\n",
      "1080/1080 [==============================] - 2s 2ms/step - loss: 3.0814 - acc: 0.9500 - val_loss: 3.3839 - val_acc: 0.8500\n",
      "Epoch 250/300\n",
      "1080/1080 [==============================] - 2s 2ms/step - loss: 3.0652 - acc: 0.9639 - val_loss: 3.2826 - val_acc: 0.8583\n",
      "Epoch 251/300\n",
      "1080/1080 [==============================] - 2s 2ms/step - loss: 3.0349 - acc: 0.9713 - val_loss: 3.3946 - val_acc: 0.8583\n",
      "Epoch 252/300\n",
      "1080/1080 [==============================] - 2s 2ms/step - loss: 3.2884 - acc: 0.8787 - val_loss: 3.2298 - val_acc: 0.9083\n",
      "Epoch 253/300\n",
      "1080/1080 [==============================] - 2s 2ms/step - loss: 3.0421 - acc: 0.9685 - val_loss: 3.1913 - val_acc: 0.9000\n",
      "Epoch 254/300\n",
      "1080/1080 [==============================] - 2s 2ms/step - loss: 3.0133 - acc: 0.9787 - val_loss: 3.1666 - val_acc: 0.9250\n",
      "Epoch 255/300\n",
      "1080/1080 [==============================] - 2s 2ms/step - loss: 2.9965 - acc: 0.9843 - val_loss: 3.2092 - val_acc: 0.9083\n",
      "Epoch 256/300\n",
      "1080/1080 [==============================] - 2s 2ms/step - loss: 2.9911 - acc: 0.9722 - val_loss: 3.1782 - val_acc: 0.9167\n",
      "Epoch 257/300\n",
      "1080/1080 [==============================] - 2s 2ms/step - loss: 2.9921 - acc: 0.9796 - val_loss: 3.1517 - val_acc: 0.9250\n",
      "Epoch 258/300\n",
      "1080/1080 [==============================] - 2s 2ms/step - loss: 3.3003 - acc: 0.8806 - val_loss: 3.3762 - val_acc: 0.8333\n",
      "Epoch 259/300\n",
      "1080/1080 [==============================] - 2s 2ms/step - loss: 3.0672 - acc: 0.9667 - val_loss: 3.1516 - val_acc: 0.9333\n",
      "Epoch 260/300\n",
      "1080/1080 [==============================] - 2s 2ms/step - loss: 3.0085 - acc: 0.9694 - val_loss: 3.2019 - val_acc: 0.9083\n",
      "Epoch 261/300\n",
      "1080/1080 [==============================] - 2s 2ms/step - loss: 3.0080 - acc: 0.9667 - val_loss: 3.1390 - val_acc: 0.9333\n",
      "Epoch 262/300\n",
      "1080/1080 [==============================] - 2s 2ms/step - loss: 3.0349 - acc: 0.9509 - val_loss: 3.3394 - val_acc: 0.8250\n",
      "Epoch 263/300\n",
      "1080/1080 [==============================] - 2s 2ms/step - loss: 2.9950 - acc: 0.9731 - val_loss: 3.1400 - val_acc: 0.9250\n",
      "Epoch 264/300\n",
      "1080/1080 [==============================] - 2s 2ms/step - loss: 2.9717 - acc: 0.9750 - val_loss: 3.2130 - val_acc: 0.9000\n",
      "Epoch 265/300\n",
      "1080/1080 [==============================] - 2s 2ms/step - loss: 3.0271 - acc: 0.9444 - val_loss: 3.1668 - val_acc: 0.8917\n",
      "Epoch 266/300\n",
      "1080/1080 [==============================] - 2s 2ms/step - loss: 2.9569 - acc: 0.9833 - val_loss: 3.1497 - val_acc: 0.9167\n",
      "Epoch 267/300\n",
      "1080/1080 [==============================] - 3s 2ms/step - loss: 2.9611 - acc: 0.9741 - val_loss: 3.1042 - val_acc: 0.9333\n",
      "Epoch 268/300\n",
      "1080/1080 [==============================] - 2s 2ms/step - loss: 2.9313 - acc: 0.9815 - val_loss: 3.1863 - val_acc: 0.8750\n",
      "Epoch 269/300\n",
      "1080/1080 [==============================] - 2s 2ms/step - loss: 2.9376 - acc: 0.9796 - val_loss: 3.0999 - val_acc: 0.9333\n",
      "Epoch 270/300\n",
      "1080/1080 [==============================] - 2s 2ms/step - loss: 2.9167 - acc: 0.9861 - val_loss: 3.1010 - val_acc: 0.9333\n",
      "Epoch 271/300\n",
      "1080/1080 [==============================] - 2s 2ms/step - loss: 2.9346 - acc: 0.9824 - val_loss: 3.1233 - val_acc: 0.8917\n",
      "Epoch 272/300\n",
      "1080/1080 [==============================] - 2s 2ms/step - loss: 2.9337 - acc: 0.9759 - val_loss: 3.0892 - val_acc: 0.9167\n",
      "Epoch 273/300\n",
      "1080/1080 [==============================] - 2s 2ms/step - loss: 2.8991 - acc: 0.9889 - val_loss: 3.1094 - val_acc: 0.9167\n",
      "Epoch 274/300\n",
      "1080/1080 [==============================] - 2s 2ms/step - loss: 2.9145 - acc: 0.9778 - val_loss: 3.0962 - val_acc: 0.9417\n",
      "Epoch 275/300\n",
      "1080/1080 [==============================] - 2s 2ms/step - loss: 2.8967 - acc: 0.9796 - val_loss: 3.1064 - val_acc: 0.9000\n",
      "Epoch 276/300\n",
      "1080/1080 [==============================] - 2s 2ms/step - loss: 2.9026 - acc: 0.9833 - val_loss: 3.0973 - val_acc: 0.9167\n",
      "Epoch 277/300\n",
      "1080/1080 [==============================] - 2s 2ms/step - loss: 2.8900 - acc: 0.9852 - val_loss: 3.0995 - val_acc: 0.9333\n",
      "Epoch 278/300\n",
      "1080/1080 [==============================] - 2s 2ms/step - loss: 2.9062 - acc: 0.9769 - val_loss: 3.2341 - val_acc: 0.8917\n",
      "Epoch 279/300\n",
      "1080/1080 [==============================] - 2s 2ms/step - loss: 2.9378 - acc: 0.9648 - val_loss: 3.1758 - val_acc: 0.9250\n",
      "Epoch 280/300\n",
      "1080/1080 [==============================] - 2s 2ms/step - loss: 2.8840 - acc: 0.9843 - val_loss: 3.0949 - val_acc: 0.9000\n",
      "Epoch 281/300\n",
      "1080/1080 [==============================] - 2s 2ms/step - loss: 3.0144 - acc: 0.9315 - val_loss: 3.6559 - val_acc: 0.7583\n",
      "Epoch 282/300\n",
      "1080/1080 [==============================] - 2s 2ms/step - loss: 3.0346 - acc: 0.9269 - val_loss: 3.0391 - val_acc: 0.9417\n",
      "Epoch 283/300\n",
      "1080/1080 [==============================] - 2s 2ms/step - loss: 2.8815 - acc: 0.9861 - val_loss: 3.0629 - val_acc: 0.9250\n",
      "Epoch 284/300\n",
      "1080/1080 [==============================] - 2s 2ms/step - loss: 2.8586 - acc: 0.9889 - val_loss: 3.0747 - val_acc: 0.9083\n",
      "Epoch 285/300\n",
      "1080/1080 [==============================] - 2s 2ms/step - loss: 2.8481 - acc: 0.9926 - val_loss: 3.0722 - val_acc: 0.9333\n",
      "Epoch 286/300\n",
      "1080/1080 [==============================] - 2s 2ms/step - loss: 2.8449 - acc: 0.9917 - val_loss: 3.1086 - val_acc: 0.9333\n",
      "Epoch 287/300\n",
      "1080/1080 [==============================] - 2s 2ms/step - loss: 2.8492 - acc: 0.9870 - val_loss: 3.0775 - val_acc: 0.9250\n",
      "Epoch 288/300\n",
      "1080/1080 [==============================] - 2s 2ms/step - loss: 2.8393 - acc: 0.9898 - val_loss: 3.1303 - val_acc: 0.9083\n",
      "Epoch 289/300\n",
      "1080/1080 [==============================] - 2s 2ms/step - loss: 2.8503 - acc: 0.9861 - val_loss: 3.0246 - val_acc: 0.9417\n",
      "Epoch 290/300\n",
      "1080/1080 [==============================] - 2s 2ms/step - loss: 2.8356 - acc: 0.9880 - val_loss: 3.0652 - val_acc: 0.8917\n",
      "Epoch 291/300\n",
      "1080/1080 [==============================] - 2s 2ms/step - loss: 2.8283 - acc: 0.9917 - val_loss: 3.0289 - val_acc: 0.9500\n",
      "Epoch 292/300\n",
      "1080/1080 [==============================] - 2s 2ms/step - loss: 2.8179 - acc: 0.9917 - val_loss: 3.0289 - val_acc: 0.9333\n",
      "Epoch 293/300\n",
      "1080/1080 [==============================] - 2s 2ms/step - loss: 2.8188 - acc: 0.9889 - val_loss: 3.1508 - val_acc: 0.8833\n",
      "Epoch 294/300\n",
      "1080/1080 [==============================] - 2s 2ms/step - loss: 2.8572 - acc: 0.9750 - val_loss: 3.0184 - val_acc: 0.9167\n",
      "Epoch 295/300\n",
      "1080/1080 [==============================] - 2s 2ms/step - loss: 2.8197 - acc: 0.9861 - val_loss: 2.9849 - val_acc: 0.9417\n",
      "Epoch 296/300\n",
      "1080/1080 [==============================] - 2s 2ms/step - loss: 2.8090 - acc: 0.9907 - val_loss: 3.0160 - val_acc: 0.9167\n",
      "Epoch 297/300\n",
      "1080/1080 [==============================] - 2s 2ms/step - loss: 2.8182 - acc: 0.9843 - val_loss: 3.0663 - val_acc: 0.9333\n",
      "Epoch 298/300\n",
      "1080/1080 [==============================] - 2s 2ms/step - loss: 2.7950 - acc: 0.9926 - val_loss: 3.0210 - val_acc: 0.9417\n",
      "Epoch 299/300\n",
      "1080/1080 [==============================] - 2s 2ms/step - loss: 3.8098 - acc: 0.6741 - val_loss: 3.4359 - val_acc: 0.7583\n",
      "Epoch 300/300\n",
      "1080/1080 [==============================] - 2s 2ms/step - loss: 3.1839 - acc: 0.8556 - val_loss: 3.0428 - val_acc: 0.9167\n"
     ]
    },
    {
     "name": "stdout",
     "output_type": "stream",
     "text": [
      "1080/1080 [==============================] - 1s 948us/step\n"
     ]
    },
    {
     "data": {
      "text/plain": [
       "[2.8595238438359014, 0.9833333333333333]"
      ]
     },
     "execution_count": 14,
     "metadata": {},
     "output_type": "execute_result"
    },
    {
     "name": "stdout",
     "output_type": "stream",
     "text": [
      "120/120 [==============================] - 0s 975us/step\n"
     ]
    },
    {
     "data": {
      "text/plain": [
       "[3.042806339263916, 0.9166666706403096]"
      ]
     },
     "execution_count": 14,
     "metadata": {},
     "output_type": "execute_result"
    },
    {
     "data": {
      "text/plain": [
       "array([[ 14,   0,  55, 111,   0,   0],\n",
       "       [ 43,   0,  32, 105,   0,   0],\n",
       "       [ 13,   0,  81,  86,   0,   0],\n",
       "       [  0,   0,   1, 179,   0,   0],\n",
       "       [  5,   0,  50, 125,   0,   0],\n",
       "       [  9,   0,  23, 148,   0,   0]], dtype=int64)"
      ]
     },
     "execution_count": 14,
     "metadata": {},
     "output_type": "execute_result"
    },
    {
     "data": {
      "text/plain": [
       "array([[ 0,  0,  4, 16,  0,  0],\n",
       "       [ 3,  0,  3, 14,  0,  0],\n",
       "       [ 2,  0,  9,  9,  0,  0],\n",
       "       [ 0,  0,  0, 20,  0,  0],\n",
       "       [ 0,  0,  5, 15,  0,  0],\n",
       "       [ 0,  0,  6, 14,  0,  0]], dtype=int64)"
      ]
     },
     "execution_count": 14,
     "metadata": {},
     "output_type": "execute_result"
    },
    {
     "data": {
      "text/plain": [
       "[<matplotlib.lines.Line2D at 0x1b1021b25f8>]"
      ]
     },
     "execution_count": 14,
     "metadata": {},
     "output_type": "execute_result"
    },
    {
     "data": {
      "text/plain": [
       "[<matplotlib.lines.Line2D at 0x1b0f4eae5f8>]"
      ]
     },
     "execution_count": 14,
     "metadata": {},
     "output_type": "execute_result"
    },
    {
     "data": {
      "text/plain": [
       "Text(0.5, 1.0, 'Model accuracy')"
      ]
     },
     "execution_count": 14,
     "metadata": {},
     "output_type": "execute_result"
    },
    {
     "data": {
      "text/plain": [
       "Text(0, 0.5, 'Accuracy')"
      ]
     },
     "execution_count": 14,
     "metadata": {},
     "output_type": "execute_result"
    },
    {
     "data": {
      "text/plain": [
       "Text(0.5, 0, 'Epoch')"
      ]
     },
     "execution_count": 14,
     "metadata": {},
     "output_type": "execute_result"
    },
    {
     "data": {
      "text/plain": [
       "<matplotlib.legend.Legend at 0x1b102b810f0>"
      ]
     },
     "execution_count": 14,
     "metadata": {},
     "output_type": "execute_result"
    },
    {
     "data": {
      "image/png": "[encoded data removed]",
      "text/plain": [
       "<Figure size 432x288 with 1 Axes>"
      ]
     },
     "metadata": {
      "needs_background": "light"
     },
     "output_type": "display_data"
    },
    {
     "data": {
      "text/plain": [
       "[<matplotlib.lines.Line2D at 0x1b102216cc0>]"
      ]
     },
     "execution_count": 14,
     "metadata": {},
     "output_type": "execute_result"
    },
    {
     "data": {
      "text/plain": [
       "[<matplotlib.lines.Line2D at 0x1b1021b2b38>]"
      ]
     },
     "execution_count": 14,
     "metadata": {},
     "output_type": "execute_result"
    },
    {
     "data": {
      "text/plain": [
       "Text(0.5, 1.0, 'Model loss')"
      ]
     },
     "execution_count": 14,
     "metadata": {},
     "output_type": "execute_result"
    },
    {
     "data": {
      "text/plain": [
       "Text(0, 0.5, 'Loss')"
      ]
     },
     "execution_count": 14,
     "metadata": {},
     "output_type": "execute_result"
    },
    {
     "data": {
      "text/plain": [
       "Text(0.5, 0, 'Epoch')"
      ]
     },
     "execution_count": 14,
     "metadata": {},
     "output_type": "execute_result"
    },
    {
     "data": {
      "text/plain": [
       "<matplotlib.legend.Legend at 0x1b102216e10>"
      ]
     },
     "execution_count": 14,
     "metadata": {},
     "output_type": "execute_result"
    },
    {
     "data": {
      "image/png": "[encoded data removed]",
      "text/plain": [
       "<Figure size 432x288 with 1 Axes>"
      ]
     },
     "metadata": {
      "needs_background": "light"
     },
     "output_type": "display_data"
    }
   ],
   "source": [
    "# created 3 additional models\n",
    "# model3 (below) reached 95% validation accuracy on epoch 291/300\n",
    "# however it finished at only 91.67%\n",
    "from keras import regularizers, layers, activations\n",
    "\n",
    "model3 = Sequential()\n",
    "model3.add(Dense(700, kernel_regularizer=regularizers.l2(0.001), input_shape = (x_train_pix.shape[1],), activation='relu'))\n",
    "model3.add(layers.Dropout(0.1))\n",
    "model3.add(Dense(700, kernel_regularizer=regularizers.l2(0.001),activation='relu'))\n",
    "model3.add(layers.Dropout(0.1))\n",
    "model3.add(Dense(900, kernel_regularizer=regularizers.l2(0.001),activation='relu'))\n",
    "model3.add(layers.Dropout(0.1))\n",
    "model3.add(Dense(900, kernel_regularizer=regularizers.l2(0.001),activation='relu'))\n",
    "model3.add(layers.Dropout(0.1))\n",
    "model3.add(Dense(900, kernel_regularizer=regularizers.l2(0.001),activation='relu'))\n",
    "model3.add(layers.Dropout(0.1))\n",
    "model3.add(Dense(700, kernel_regularizer=regularizers.l2(0.001),activation='relu'))\n",
    "model3.add(layers.Dropout(0.1))\n",
    "model3.add(Dense(700, kernel_regularizer=regularizers.l2(0.001),activation='relu'))\n",
    "model3.add(layers.Dropout(0.1))\n",
    "model3.add(Dense(6, kernel_regularizer=regularizers.l2(0.001),activation='softmax'))\n",
    "\n",
    "# Compile model\n",
    "model3.compile(loss='categorical_crossentropy', optimizer=keras.optimizers.Nadam(lr=0.000025), metrics=['accuracy'])\n",
    "history = model3.fit(x_train_pix, onehotlabels_train, epochs=300, batch_size=100, \\\n",
    "          validation_data=(x_test_pix, onehotlabels_test))\n",
    "\n",
    "# predict values, calculate accuracy, and create confusion matrix for train and test\n",
    "train_pred = model.predict_classes(x_train_pix)\n",
    "test_pred = model.predict_classes(x_test_pix)\n",
    "\n",
    "model3.evaluate(x_train_pix, onehotlabels_train)\n",
    "model3.evaluate(x_test_pix, onehotlabels_test)\n",
    "\n",
    "metrics.confusion_matrix(y_train,train_pred)\n",
    "metrics.confusion_matrix(y_test,test_pred)\n",
    "\n",
    "# Plot training & validation accuracy values\n",
    "plt.plot(history.history['acc'])\n",
    "plt.plot(history.history['val_acc'])\n",
    "plt.title('Model accuracy')\n",
    "plt.ylabel('Accuracy')\n",
    "plt.xlabel('Epoch')\n",
    "plt.legend(['Train', 'Test'], loc='upper left')\n",
    "plt.show()\n",
    "\n",
    "# Plot training & validation loss values\n",
    "plt.plot(history.history['loss'])\n",
    "plt.plot(history.history['val_loss'])\n",
    "plt.title('Model loss')\n",
    "plt.ylabel('Loss')\n",
    "plt.xlabel('Epoch')\n",
    "plt.legend(['Train', 'Test'], loc='upper right')\n",
    "plt.show()"
   ]
  },
  {
   "cell_type": "code",
   "execution_count": 17,
   "metadata": {
    "scrolled": true
   },
   "outputs": [
    {
     "name": "stdout",
     "output_type": "stream",
     "text": [
      "Train on 1080 samples, validate on 120 samples\n",
      "Epoch 1/300\n",
      "1080/1080 [==============================] - 6s 5ms/step - loss: 8.1206 - acc: 0.1574 - val_loss: 8.0948 - val_acc: 0.1833\n",
      "Epoch 2/300\n",
      "1080/1080 [==============================] - 3s 2ms/step - loss: 8.0990 - acc: 0.1639 - val_loss: 8.0729 - val_acc: 0.2917\n",
      "Epoch 3/300\n",
      "1080/1080 [==============================] - 3s 2ms/step - loss: 8.0772 - acc: 0.1759 - val_loss: 8.0508 - val_acc: 0.2917\n",
      "Epoch 4/300\n",
      "1080/1080 [==============================] - 3s 2ms/step - loss: 8.0512 - acc: 0.1870 - val_loss: 8.0256 - val_acc: 0.3083\n",
      "Epoch 5/300\n",
      "1080/1080 [==============================] - 3s 2ms/step - loss: 8.0348 - acc: 0.1852 - val_loss: 8.0029 - val_acc: 0.3667\n",
      "Epoch 6/300\n",
      "1080/1080 [==============================] - 3s 2ms/step - loss: 8.0164 - acc: 0.1944 - val_loss: 7.9813 - val_acc: 0.3417\n",
      "Epoch 7/300\n",
      "1080/1080 [==============================] - 3s 2ms/step - loss: 7.9826 - acc: 0.2472 - val_loss: 7.9528 - val_acc: 0.3750\n",
      "Epoch 8/300\n",
      "1080/1080 [==============================] - 3s 2ms/step - loss: 7.9648 - acc: 0.2389 - val_loss: 7.9284 - val_acc: 0.3333\n",
      "Epoch 9/300\n",
      "1080/1080 [==============================] - 3s 2ms/step - loss: 7.9492 - acc: 0.2250 - val_loss: 7.8978 - val_acc: 0.4167\n",
      "Epoch 10/300\n",
      "1080/1080 [==============================] - 3s 2ms/step - loss: 7.9193 - acc: 0.2500 - val_loss: 7.8624 - val_acc: 0.4500\n",
      "Epoch 11/300\n",
      "1080/1080 [==============================] - 3s 2ms/step - loss: 7.8920 - acc: 0.2731 - val_loss: 7.8315 - val_acc: 0.4167\n",
      "Epoch 12/300\n",
      "1080/1080 [==============================] - 3s 2ms/step - loss: 7.8698 - acc: 0.2880 - val_loss: 7.7951 - val_acc: 0.4083\n",
      "Epoch 13/300\n",
      "1080/1080 [==============================] - 3s 2ms/step - loss: 7.8351 - acc: 0.2972 - val_loss: 7.7565 - val_acc: 0.4000\n",
      "Epoch 14/300\n",
      "1080/1080 [==============================] - 3s 2ms/step - loss: 7.7957 - acc: 0.3130 - val_loss: 7.7129 - val_acc: 0.4833\n",
      "Epoch 15/300\n",
      "1080/1080 [==============================] - 3s 2ms/step - loss: 7.7760 - acc: 0.3167 - val_loss: 7.7149 - val_acc: 0.2833\n",
      "Epoch 16/300\n",
      "1080/1080 [==============================] - 3s 2ms/step - loss: 7.7430 - acc: 0.3065 - val_loss: 7.6310 - val_acc: 0.4500\n",
      "Epoch 17/300\n",
      "1080/1080 [==============================] - 3s 2ms/step - loss: 7.6824 - acc: 0.3380 - val_loss: 7.5787 - val_acc: 0.3833\n",
      "Epoch 18/300\n",
      "1080/1080 [==============================] - 3s 2ms/step - loss: 7.6483 - acc: 0.3676 - val_loss: 7.5674 - val_acc: 0.3000\n",
      "Epoch 19/300\n",
      "1080/1080 [==============================] - 3s 2ms/step - loss: 7.6164 - acc: 0.3481 - val_loss: 7.4641 - val_acc: 0.4333\n",
      "Epoch 20/300\n",
      "1080/1080 [==============================] - 3s 2ms/step - loss: 7.5848 - acc: 0.3528 - val_loss: 7.5384 - val_acc: 0.3000\n",
      "Epoch 21/300\n",
      "1080/1080 [==============================] - 3s 2ms/step - loss: 7.5634 - acc: 0.3593 - val_loss: 7.4076 - val_acc: 0.3833\n",
      "Epoch 22/300\n",
      "1080/1080 [==============================] - 3s 2ms/step - loss: 7.5207 - acc: 0.3639 - val_loss: 7.3477 - val_acc: 0.4083\n",
      "Epoch 23/300\n",
      "1080/1080 [==============================] - 3s 2ms/step - loss: 7.4666 - acc: 0.3639 - val_loss: 7.4280 - val_acc: 0.4083\n",
      "Epoch 24/300\n",
      "1080/1080 [==============================] - 3s 2ms/step - loss: 7.4327 - acc: 0.3824 - val_loss: 7.2609 - val_acc: 0.4833\n",
      "Epoch 25/300\n",
      "1080/1080 [==============================] - 3s 2ms/step - loss: 7.4123 - acc: 0.3731 - val_loss: 7.2286 - val_acc: 0.4667\n",
      "Epoch 26/300\n",
      "1080/1080 [==============================] - 3s 2ms/step - loss: 7.3437 - acc: 0.4167 - val_loss: 7.1897 - val_acc: 0.4833\n",
      "Epoch 27/300\n",
      "1080/1080 [==============================] - 3s 2ms/step - loss: 7.3419 - acc: 0.3870 - val_loss: 7.1695 - val_acc: 0.5583\n",
      "Epoch 28/300\n",
      "1080/1080 [==============================] - 3s 2ms/step - loss: 7.2798 - acc: 0.4324 - val_loss: 7.1540 - val_acc: 0.5500\n",
      "Epoch 29/300\n",
      "1080/1080 [==============================] - 3s 2ms/step - loss: 7.3200 - acc: 0.4056 - val_loss: 7.1104 - val_acc: 0.4917\n",
      "Epoch 30/300\n",
      "1080/1080 [==============================] - 3s 2ms/step - loss: 7.2280 - acc: 0.4648 - val_loss: 7.0772 - val_acc: 0.5083\n",
      "Epoch 31/300\n",
      "1080/1080 [==============================] - 3s 2ms/step - loss: 7.2143 - acc: 0.4352 - val_loss: 7.0655 - val_acc: 0.5417\n",
      "Epoch 32/300\n",
      "1080/1080 [==============================] - 3s 2ms/step - loss: 7.1476 - acc: 0.4704 - val_loss: 7.0609 - val_acc: 0.5750\n",
      "Epoch 33/300\n",
      "1080/1080 [==============================] - 3s 2ms/step - loss: 7.1567 - acc: 0.4630 - val_loss: 7.3250 - val_acc: 0.3583\n",
      "Epoch 34/300\n",
      "1080/1080 [==============================] - 3s 2ms/step - loss: 7.1707 - acc: 0.4509 - val_loss: 7.0363 - val_acc: 0.4167\n",
      "Epoch 35/300\n",
      "1080/1080 [==============================] - 3s 2ms/step - loss: 7.1198 - acc: 0.4620 - val_loss: 7.0298 - val_acc: 0.5417\n",
      "Epoch 36/300\n",
      "1080/1080 [==============================] - 3s 2ms/step - loss: 7.0499 - acc: 0.4889 - val_loss: 6.9995 - val_acc: 0.5083\n",
      "Epoch 37/300\n",
      "1080/1080 [==============================] - 3s 2ms/step - loss: 7.0847 - acc: 0.4759 - val_loss: 6.8951 - val_acc: 0.5833\n",
      "Epoch 38/300\n",
      "1080/1080 [==============================] - 3s 2ms/step - loss: 7.0012 - acc: 0.4917 - val_loss: 6.9604 - val_acc: 0.4667\n",
      "Epoch 39/300\n",
      "1080/1080 [==============================] - 3s 2ms/step - loss: 6.9711 - acc: 0.5204 - val_loss: 6.8677 - val_acc: 0.5500\n",
      "Epoch 40/300\n",
      "1080/1080 [==============================] - 3s 2ms/step - loss: 6.9465 - acc: 0.5130 - val_loss: 6.8030 - val_acc: 0.6167\n",
      "Epoch 41/300\n",
      "1080/1080 [==============================] - 3s 2ms/step - loss: 6.9590 - acc: 0.4963 - val_loss: 6.7665 - val_acc: 0.5500\n",
      "Epoch 42/300\n",
      "1080/1080 [==============================] - 3s 2ms/step - loss: 6.8866 - acc: 0.5296 - val_loss: 6.8763 - val_acc: 0.4667\n",
      "Epoch 43/300\n",
      "1080/1080 [==============================] - 3s 2ms/step - loss: 6.8573 - acc: 0.5500 - val_loss: 6.7389 - val_acc: 0.5917\n",
      "Epoch 44/300\n",
      "1080/1080 [==============================] - 3s 2ms/step - loss: 6.8414 - acc: 0.5250 - val_loss: 6.8339 - val_acc: 0.5750\n",
      "Epoch 45/300\n",
      "1080/1080 [==============================] - 3s 2ms/step - loss: 6.7896 - acc: 0.5824 - val_loss: 6.6787 - val_acc: 0.5750\n",
      "Epoch 46/300\n",
      "1080/1080 [==============================] - 3s 2ms/step - loss: 6.7903 - acc: 0.5435 - val_loss: 6.8047 - val_acc: 0.5500\n",
      "Epoch 47/300\n",
      "1080/1080 [==============================] - 3s 2ms/step - loss: 6.7480 - acc: 0.5685 - val_loss: 6.6114 - val_acc: 0.6167\n",
      "Epoch 48/300\n",
      "1080/1080 [==============================] - 3s 2ms/step - loss: 6.7172 - acc: 0.5824 - val_loss: 6.5855 - val_acc: 0.6167\n",
      "Epoch 49/300\n",
      "1080/1080 [==============================] - 3s 2ms/step - loss: 6.6915 - acc: 0.5861 - val_loss: 6.6126 - val_acc: 0.5583\n",
      "Epoch 50/300\n",
      "1080/1080 [==============================] - 3s 2ms/step - loss: 6.7080 - acc: 0.5759 - val_loss: 6.8337 - val_acc: 0.5083\n",
      "Epoch 51/300\n",
      "1080/1080 [==============================] - 3s 2ms/step - loss: 6.7052 - acc: 0.5620 - val_loss: 6.5570 - val_acc: 0.6167\n",
      "Epoch 52/300\n",
      "1080/1080 [==============================] - 3s 2ms/step - loss: 6.6123 - acc: 0.6056 - val_loss: 6.5956 - val_acc: 0.6083\n",
      "Epoch 53/300\n",
      "1080/1080 [==============================] - 3s 2ms/step - loss: 6.6290 - acc: 0.5963 - val_loss: 6.5918 - val_acc: 0.5083\n",
      "Epoch 54/300\n",
      "1080/1080 [==============================] - 3s 2ms/step - loss: 6.5860 - acc: 0.6120 - val_loss: 6.4758 - val_acc: 0.6000\n",
      "Epoch 55/300\n",
      "1080/1080 [==============================] - 3s 2ms/step - loss: 6.5600 - acc: 0.6213 - val_loss: 6.4895 - val_acc: 0.6333\n",
      "Epoch 56/300\n",
      "1080/1080 [==============================] - 3s 2ms/step - loss: 6.5224 - acc: 0.6306 - val_loss: 6.4543 - val_acc: 0.6333\n",
      "Epoch 57/300\n",
      "1080/1080 [==============================] - 3s 2ms/step - loss: 6.5226 - acc: 0.6167 - val_loss: 6.4790 - val_acc: 0.6083\n",
      "Epoch 58/300\n",
      "1080/1080 [==============================] - 3s 2ms/step - loss: 6.5059 - acc: 0.6148 - val_loss: 6.3819 - val_acc: 0.6583\n",
      "Epoch 59/300\n",
      "1080/1080 [==============================] - 3s 2ms/step - loss: 6.4465 - acc: 0.6241 - val_loss: 6.3656 - val_acc: 0.6750\n",
      "Epoch 60/300\n",
      "1080/1080 [==============================] - 3s 2ms/step - loss: 6.4168 - acc: 0.6528 - val_loss: 6.4703 - val_acc: 0.6083\n"
     ]
    },
    {
     "name": "stdout",
     "output_type": "stream",
     "text": [
      "Epoch 61/300\n",
      "1080/1080 [==============================] - 3s 2ms/step - loss: 6.4631 - acc: 0.6167 - val_loss: 6.3454 - val_acc: 0.6667\n",
      "Epoch 62/300\n",
      "1080/1080 [==============================] - 3s 2ms/step - loss: 6.3706 - acc: 0.6676 - val_loss: 6.4252 - val_acc: 0.6500\n",
      "Epoch 63/300\n",
      "1080/1080 [==============================] - 3s 2ms/step - loss: 6.3896 - acc: 0.6685 - val_loss: 6.2723 - val_acc: 0.7083\n",
      "Epoch 64/300\n",
      "1080/1080 [==============================] - 3s 2ms/step - loss: 6.3537 - acc: 0.6657 - val_loss: 6.2715 - val_acc: 0.6667\n",
      "Epoch 65/300\n",
      "1080/1080 [==============================] - 3s 2ms/step - loss: 6.3423 - acc: 0.6593 - val_loss: 6.2838 - val_acc: 0.6750\n",
      "Epoch 66/300\n",
      "1080/1080 [==============================] - 3s 2ms/step - loss: 6.3570 - acc: 0.6491 - val_loss: 6.3230 - val_acc: 0.6750\n",
      "Epoch 67/300\n",
      "1080/1080 [==============================] - 3s 2ms/step - loss: 6.3064 - acc: 0.6620 - val_loss: 6.2202 - val_acc: 0.6917\n",
      "Epoch 68/300\n",
      "1080/1080 [==============================] - 3s 2ms/step - loss: 6.3154 - acc: 0.6602 - val_loss: 6.2643 - val_acc: 0.6667\n",
      "Epoch 69/300\n",
      "1080/1080 [==============================] - 3s 2ms/step - loss: 6.2474 - acc: 0.6880 - val_loss: 6.1764 - val_acc: 0.7250\n",
      "Epoch 70/300\n",
      "1080/1080 [==============================] - 3s 2ms/step - loss: 6.2282 - acc: 0.7056 - val_loss: 6.1432 - val_acc: 0.7417\n",
      "Epoch 71/300\n",
      "1080/1080 [==============================] - 3s 2ms/step - loss: 6.2324 - acc: 0.6935 - val_loss: 6.1544 - val_acc: 0.7000\n",
      "Epoch 72/300\n",
      "1080/1080 [==============================] - 3s 2ms/step - loss: 6.2106 - acc: 0.6889 - val_loss: 6.2043 - val_acc: 0.6750\n",
      "Epoch 73/300\n",
      "1080/1080 [==============================] - 3s 2ms/step - loss: 6.1815 - acc: 0.6944 - val_loss: 6.1598 - val_acc: 0.7083\n",
      "Epoch 74/300\n",
      "1080/1080 [==============================] - 3s 2ms/step - loss: 6.1409 - acc: 0.7185 - val_loss: 6.0792 - val_acc: 0.7250\n",
      "Epoch 75/300\n",
      "1080/1080 [==============================] - 3s 2ms/step - loss: 6.1234 - acc: 0.7130 - val_loss: 6.0980 - val_acc: 0.7083\n",
      "Epoch 76/300\n",
      "1080/1080 [==============================] - 3s 2ms/step - loss: 6.1298 - acc: 0.7065 - val_loss: 6.1641 - val_acc: 0.6667\n",
      "Epoch 77/300\n",
      "1080/1080 [==============================] - 3s 2ms/step - loss: 6.1510 - acc: 0.6944 - val_loss: 6.1103 - val_acc: 0.6583\n",
      "Epoch 78/300\n",
      "1080/1080 [==============================] - 3s 2ms/step - loss: 6.0871 - acc: 0.7259 - val_loss: 6.1029 - val_acc: 0.6917\n",
      "Epoch 79/300\n",
      "1080/1080 [==============================] - 3s 2ms/step - loss: 6.0702 - acc: 0.7213 - val_loss: 6.0348 - val_acc: 0.7000\n",
      "Epoch 80/300\n",
      "1080/1080 [==============================] - 3s 2ms/step - loss: 6.0669 - acc: 0.7111 - val_loss: 6.0261 - val_acc: 0.7250\n",
      "Epoch 81/300\n",
      "1080/1080 [==============================] - 3s 2ms/step - loss: 6.0308 - acc: 0.7093 - val_loss: 6.0894 - val_acc: 0.6583\n",
      "Epoch 82/300\n",
      "1080/1080 [==============================] - 3s 2ms/step - loss: 5.9964 - acc: 0.7491 - val_loss: 6.0044 - val_acc: 0.7250\n",
      "Epoch 83/300\n",
      "1080/1080 [==============================] - 3s 2ms/step - loss: 5.9834 - acc: 0.7407 - val_loss: 5.9450 - val_acc: 0.7500\n",
      "Epoch 84/300\n",
      "1080/1080 [==============================] - 3s 2ms/step - loss: 5.9654 - acc: 0.7519 - val_loss: 5.9196 - val_acc: 0.7500\n",
      "Epoch 85/300\n",
      "1080/1080 [==============================] - 3s 2ms/step - loss: 5.9482 - acc: 0.7546 - val_loss: 5.9555 - val_acc: 0.7500\n",
      "Epoch 86/300\n",
      "1080/1080 [==============================] - 3s 2ms/step - loss: 5.9475 - acc: 0.7491 - val_loss: 5.9194 - val_acc: 0.7500\n",
      "Epoch 87/300\n",
      "1080/1080 [==============================] - 3s 2ms/step - loss: 5.9057 - acc: 0.7593 - val_loss: 6.0554 - val_acc: 0.6500\n",
      "Epoch 88/300\n",
      "1080/1080 [==============================] - 3s 2ms/step - loss: 5.9186 - acc: 0.7481 - val_loss: 5.9388 - val_acc: 0.7083\n",
      "Epoch 89/300\n",
      "1080/1080 [==============================] - 3s 2ms/step - loss: 5.8939 - acc: 0.7472 - val_loss: 5.8800 - val_acc: 0.7500\n",
      "Epoch 90/300\n",
      "1080/1080 [==============================] - 3s 2ms/step - loss: 5.8626 - acc: 0.7750 - val_loss: 5.8515 - val_acc: 0.7667\n",
      "Epoch 91/300\n",
      "1080/1080 [==============================] - 3s 2ms/step - loss: 5.8497 - acc: 0.7685 - val_loss: 5.8253 - val_acc: 0.7667\n",
      "Epoch 92/300\n",
      "1080/1080 [==============================] - 3s 2ms/step - loss: 5.8463 - acc: 0.7657 - val_loss: 5.8334 - val_acc: 0.7667\n",
      "Epoch 93/300\n",
      "1080/1080 [==============================] - 3s 2ms/step - loss: 5.8128 - acc: 0.7750 - val_loss: 5.8152 - val_acc: 0.7667\n",
      "Epoch 94/300\n",
      "1080/1080 [==============================] - 3s 2ms/step - loss: 5.7903 - acc: 0.7898 - val_loss: 5.8618 - val_acc: 0.7500\n",
      "Epoch 95/300\n",
      "1080/1080 [==============================] - 3s 2ms/step - loss: 5.8773 - acc: 0.7231 - val_loss: 5.8721 - val_acc: 0.7167\n",
      "Epoch 96/300\n",
      "1080/1080 [==============================] - 3s 2ms/step - loss: 5.7798 - acc: 0.7833 - val_loss: 5.7705 - val_acc: 0.7583\n",
      "Epoch 97/300\n",
      "1080/1080 [==============================] - 3s 2ms/step - loss: 5.7281 - acc: 0.7991 - val_loss: 5.8271 - val_acc: 0.7500\n",
      "Epoch 98/300\n",
      "1080/1080 [==============================] - 3s 2ms/step - loss: 5.7339 - acc: 0.7926 - val_loss: 5.8111 - val_acc: 0.7333\n",
      "Epoch 99/300\n",
      "1080/1080 [==============================] - 3s 2ms/step - loss: 5.7445 - acc: 0.7769 - val_loss: 5.7530 - val_acc: 0.7583\n",
      "Epoch 100/300\n",
      "1080/1080 [==============================] - 3s 2ms/step - loss: 5.6828 - acc: 0.8056 - val_loss: 5.7997 - val_acc: 0.7333\n",
      "Epoch 101/300\n",
      "1080/1080 [==============================] - 3s 2ms/step - loss: 5.7056 - acc: 0.7796 - val_loss: 5.7518 - val_acc: 0.7667\n",
      "Epoch 102/300\n",
      "1080/1080 [==============================] - 3s 2ms/step - loss: 5.7429 - acc: 0.7704 - val_loss: 5.8863 - val_acc: 0.7333\n",
      "Epoch 103/300\n",
      "1080/1080 [==============================] - 3s 2ms/step - loss: 5.6916 - acc: 0.7870 - val_loss: 5.7056 - val_acc: 0.7750\n",
      "Epoch 104/300\n",
      "1080/1080 [==============================] - 3s 2ms/step - loss: 5.6235 - acc: 0.8120 - val_loss: 5.6578 - val_acc: 0.8333\n",
      "Epoch 105/300\n",
      "1080/1080 [==============================] - 3s 2ms/step - loss: 5.6217 - acc: 0.8102 - val_loss: 5.6234 - val_acc: 0.7917\n",
      "Epoch 106/300\n",
      "1080/1080 [==============================] - 3s 2ms/step - loss: 5.5874 - acc: 0.8222 - val_loss: 5.7218 - val_acc: 0.7833\n",
      "Epoch 107/300\n",
      "1080/1080 [==============================] - 3s 2ms/step - loss: 5.6209 - acc: 0.8037 - val_loss: 5.6076 - val_acc: 0.8167\n",
      "Epoch 108/300\n",
      "1080/1080 [==============================] - 3s 2ms/step - loss: 5.5648 - acc: 0.8250 - val_loss: 5.6563 - val_acc: 0.7833\n",
      "Epoch 109/300\n",
      "1080/1080 [==============================] - 3s 2ms/step - loss: 5.5479 - acc: 0.8380 - val_loss: 5.6638 - val_acc: 0.8000\n",
      "Epoch 110/300\n",
      "1080/1080 [==============================] - 3s 2ms/step - loss: 5.5975 - acc: 0.7935 - val_loss: 5.5967 - val_acc: 0.8250\n",
      "Epoch 111/300\n",
      "1080/1080 [==============================] - 3s 2ms/step - loss: 5.5542 - acc: 0.8167 - val_loss: 5.5659 - val_acc: 0.8167\n",
      "Epoch 112/300\n",
      "1080/1080 [==============================] - 3s 2ms/step - loss: 5.5264 - acc: 0.8204 - val_loss: 5.5782 - val_acc: 0.8083\n",
      "Epoch 113/300\n",
      "1080/1080 [==============================] - 3s 2ms/step - loss: 5.5069 - acc: 0.8278 - val_loss: 5.5780 - val_acc: 0.8167\n",
      "Epoch 114/300\n",
      "1080/1080 [==============================] - 3s 2ms/step - loss: 5.5021 - acc: 0.8333 - val_loss: 5.5497 - val_acc: 0.8083\n",
      "Epoch 115/300\n",
      "1080/1080 [==============================] - 3s 2ms/step - loss: 5.4858 - acc: 0.8296 - val_loss: 5.5155 - val_acc: 0.8083\n",
      "Epoch 116/300\n",
      "1080/1080 [==============================] - 3s 2ms/step - loss: 5.4803 - acc: 0.8343 - val_loss: 5.5241 - val_acc: 0.8250\n",
      "Epoch 117/300\n",
      "1080/1080 [==============================] - 3s 2ms/step - loss: 5.4626 - acc: 0.8259 - val_loss: 5.5072 - val_acc: 0.8083\n",
      "Epoch 118/300\n",
      "1080/1080 [==============================] - 3s 2ms/step - loss: 5.4713 - acc: 0.8324 - val_loss: 5.4953 - val_acc: 0.8417\n",
      "Epoch 119/300\n",
      "1080/1080 [==============================] - 3s 2ms/step - loss: 5.4205 - acc: 0.8472 - val_loss: 5.4724 - val_acc: 0.8000\n",
      "Epoch 120/300\n",
      "1080/1080 [==============================] - 3s 2ms/step - loss: 5.4272 - acc: 0.8398 - val_loss: 5.5073 - val_acc: 0.7917\n",
      "Epoch 121/300\n"
     ]
    },
    {
     "name": "stdout",
     "output_type": "stream",
     "text": [
      "1080/1080 [==============================] - 3s 2ms/step - loss: 5.4266 - acc: 0.8500 - val_loss: 5.5651 - val_acc: 0.7833\n",
      "Epoch 122/300\n",
      "1080/1080 [==============================] - 3s 2ms/step - loss: 5.3973 - acc: 0.8528 - val_loss: 5.4154 - val_acc: 0.8167\n",
      "Epoch 123/300\n",
      "1080/1080 [==============================] - 3s 2ms/step - loss: 5.4208 - acc: 0.8278 - val_loss: 5.6529 - val_acc: 0.7917\n",
      "Epoch 124/300\n",
      "1080/1080 [==============================] - 3s 2ms/step - loss: 5.3901 - acc: 0.8426 - val_loss: 5.5293 - val_acc: 0.7833\n",
      "Epoch 125/300\n",
      "1080/1080 [==============================] - 3s 2ms/step - loss: 5.3760 - acc: 0.8491 - val_loss: 5.6974 - val_acc: 0.7083\n",
      "Epoch 126/300\n",
      "1080/1080 [==============================] - 3s 2ms/step - loss: 5.3402 - acc: 0.8583 - val_loss: 5.4568 - val_acc: 0.8083\n",
      "Epoch 127/300\n",
      "1080/1080 [==============================] - 3s 2ms/step - loss: 5.3450 - acc: 0.8500 - val_loss: 5.5032 - val_acc: 0.8000\n",
      "Epoch 128/300\n",
      "1080/1080 [==============================] - 3s 2ms/step - loss: 5.3220 - acc: 0.8676 - val_loss: 5.3859 - val_acc: 0.8583\n",
      "Epoch 129/300\n",
      "1080/1080 [==============================] - 3s 2ms/step - loss: 5.3245 - acc: 0.8546 - val_loss: 5.4087 - val_acc: 0.8167\n",
      "Epoch 130/300\n",
      "1080/1080 [==============================] - 3s 2ms/step - loss: 5.2756 - acc: 0.8611 - val_loss: 5.3590 - val_acc: 0.8500\n",
      "Epoch 131/300\n",
      "1080/1080 [==============================] - 3s 2ms/step - loss: 5.2713 - acc: 0.8759 - val_loss: 5.4029 - val_acc: 0.8250\n",
      "Epoch 132/300\n",
      "1080/1080 [==============================] - 3s 2ms/step - loss: 5.2770 - acc: 0.8657 - val_loss: 5.3252 - val_acc: 0.8250\n",
      "Epoch 133/300\n",
      "1080/1080 [==============================] - 3s 2ms/step - loss: 5.2739 - acc: 0.8565 - val_loss: 5.4430 - val_acc: 0.8083\n",
      "Epoch 134/300\n",
      "1080/1080 [==============================] - 3s 2ms/step - loss: 5.3253 - acc: 0.8389 - val_loss: 5.4599 - val_acc: 0.7667\n",
      "Epoch 135/300\n",
      "1080/1080 [==============================] - 3s 2ms/step - loss: 5.2479 - acc: 0.8741 - val_loss: 5.3058 - val_acc: 0.8667\n",
      "Epoch 136/300\n",
      "1080/1080 [==============================] - 3s 2ms/step - loss: 5.1975 - acc: 0.8870 - val_loss: 5.2885 - val_acc: 0.8333\n",
      "Epoch 137/300\n",
      "1080/1080 [==============================] - 3s 2ms/step - loss: 5.2210 - acc: 0.8648 - val_loss: 5.3841 - val_acc: 0.8333\n",
      "Epoch 138/300\n",
      "1080/1080 [==============================] - 3s 2ms/step - loss: 5.1908 - acc: 0.8852 - val_loss: 5.3320 - val_acc: 0.8167\n",
      "Epoch 139/300\n",
      "1080/1080 [==============================] - 3s 2ms/step - loss: 5.1940 - acc: 0.8750 - val_loss: 5.3101 - val_acc: 0.8083\n",
      "Epoch 140/300\n",
      "1080/1080 [==============================] - 3s 2ms/step - loss: 5.1635 - acc: 0.8843 - val_loss: 5.3187 - val_acc: 0.8250\n",
      "Epoch 141/300\n",
      "1080/1080 [==============================] - 3s 2ms/step - loss: 5.1402 - acc: 0.9028 - val_loss: 5.2957 - val_acc: 0.8250\n",
      "Epoch 142/300\n",
      "1080/1080 [==============================] - 3s 2ms/step - loss: 5.2089 - acc: 0.8509 - val_loss: 5.4440 - val_acc: 0.8000\n",
      "Epoch 143/300\n",
      "1080/1080 [==============================] - 3s 2ms/step - loss: 5.1622 - acc: 0.8870 - val_loss: 5.3134 - val_acc: 0.8083\n",
      "Epoch 144/300\n",
      "1080/1080 [==============================] - 3s 2ms/step - loss: 5.1085 - acc: 0.9065 - val_loss: 5.2229 - val_acc: 0.8417\n",
      "Epoch 145/300\n",
      "1080/1080 [==============================] - 3s 2ms/step - loss: 5.1007 - acc: 0.8926 - val_loss: 5.2756 - val_acc: 0.8333\n",
      "Epoch 146/300\n",
      "1080/1080 [==============================] - 2s 2ms/step - loss: 5.1382 - acc: 0.8741 - val_loss: 5.2385 - val_acc: 0.8417\n",
      "Epoch 147/300\n",
      "1080/1080 [==============================] - 2s 2ms/step - loss: 5.0913 - acc: 0.8907 - val_loss: 5.2372 - val_acc: 0.8417\n",
      "Epoch 148/300\n",
      "1080/1080 [==============================] - 3s 2ms/step - loss: 5.0594 - acc: 0.9037 - val_loss: 5.3855 - val_acc: 0.8083\n",
      "Epoch 149/300\n",
      "1080/1080 [==============================] - 2s 2ms/step - loss: 5.0585 - acc: 0.9056 - val_loss: 5.1995 - val_acc: 0.8417\n",
      "Epoch 150/300\n",
      "1080/1080 [==============================] - 2s 2ms/step - loss: 5.0736 - acc: 0.8991 - val_loss: 5.2309 - val_acc: 0.8333\n",
      "Epoch 151/300\n",
      "1080/1080 [==============================] - 2s 2ms/step - loss: 5.0721 - acc: 0.8972 - val_loss: 5.1944 - val_acc: 0.8583\n",
      "Epoch 152/300\n",
      "1080/1080 [==============================] - 3s 2ms/step - loss: 5.0865 - acc: 0.8750 - val_loss: 5.2028 - val_acc: 0.8250\n",
      "Epoch 153/300\n",
      "1080/1080 [==============================] - 3s 2ms/step - loss: 5.0169 - acc: 0.9120 - val_loss: 5.1474 - val_acc: 0.8667\n",
      "Epoch 154/300\n",
      "1080/1080 [==============================] - 3s 2ms/step - loss: 5.0621 - acc: 0.8843 - val_loss: 5.2708 - val_acc: 0.8250\n",
      "Epoch 155/300\n",
      "1080/1080 [==============================] - 3s 2ms/step - loss: 5.0001 - acc: 0.9120 - val_loss: 5.1511 - val_acc: 0.8667\n",
      "Epoch 156/300\n",
      "1080/1080 [==============================] - 3s 2ms/step - loss: 5.0395 - acc: 0.8907 - val_loss: 5.1303 - val_acc: 0.8667\n",
      "Epoch 157/300\n",
      "1080/1080 [==============================] - 3s 2ms/step - loss: 5.0899 - acc: 0.8778 - val_loss: 5.1287 - val_acc: 0.8583\n",
      "Epoch 158/300\n",
      "1080/1080 [==============================] - 2s 2ms/step - loss: 4.9932 - acc: 0.9093 - val_loss: 5.1317 - val_acc: 0.8583\n",
      "Epoch 159/300\n",
      "1080/1080 [==============================] - 3s 2ms/step - loss: 4.9587 - acc: 0.9167 - val_loss: 5.1212 - val_acc: 0.8583\n",
      "Epoch 160/300\n",
      "1080/1080 [==============================] - 2s 2ms/step - loss: 5.0301 - acc: 0.8824 - val_loss: 5.1817 - val_acc: 0.8333\n",
      "Epoch 161/300\n",
      "1080/1080 [==============================] - 3s 2ms/step - loss: 4.9295 - acc: 0.9315 - val_loss: 5.0864 - val_acc: 0.8583\n",
      "Epoch 162/300\n",
      "1080/1080 [==============================] - 3s 2ms/step - loss: 4.9308 - acc: 0.9259 - val_loss: 5.1343 - val_acc: 0.8667\n",
      "Epoch 163/300\n",
      "1080/1080 [==============================] - 3s 2ms/step - loss: 4.9169 - acc: 0.9241 - val_loss: 5.0576 - val_acc: 0.8833\n",
      "Epoch 164/300\n",
      "1080/1080 [==============================] - 2s 2ms/step - loss: 4.9519 - acc: 0.9056 - val_loss: 5.1371 - val_acc: 0.8333\n",
      "Epoch 165/300\n",
      "1080/1080 [==============================] - 3s 2ms/step - loss: 4.9011 - acc: 0.9324 - val_loss: 5.1129 - val_acc: 0.8333\n",
      "Epoch 166/300\n",
      "1080/1080 [==============================] - 3s 2ms/step - loss: 4.9287 - acc: 0.9046 - val_loss: 5.1316 - val_acc: 0.8250\n",
      "Epoch 167/300\n",
      "1080/1080 [==============================] - 3s 2ms/step - loss: 4.8932 - acc: 0.9222 - val_loss: 5.1129 - val_acc: 0.8417\n",
      "Epoch 168/300\n",
      "1080/1080 [==============================] - 3s 2ms/step - loss: 4.8671 - acc: 0.9426 - val_loss: 5.0304 - val_acc: 0.8833\n",
      "Epoch 169/300\n",
      "1080/1080 [==============================] - 3s 2ms/step - loss: 4.8618 - acc: 0.9287 - val_loss: 5.0616 - val_acc: 0.8667\n",
      "Epoch 170/300\n",
      "1080/1080 [==============================] - 3s 2ms/step - loss: 4.8509 - acc: 0.9324 - val_loss: 5.0623 - val_acc: 0.8500\n",
      "Epoch 171/300\n",
      "1080/1080 [==============================] - 3s 2ms/step - loss: 4.9123 - acc: 0.9056 - val_loss: 5.0367 - val_acc: 0.8833\n",
      "Epoch 172/300\n",
      "1080/1080 [==============================] - 2s 2ms/step - loss: 4.8376 - acc: 0.9380 - val_loss: 5.0022 - val_acc: 0.8917\n",
      "Epoch 173/300\n",
      "1080/1080 [==============================] - 3s 2ms/step - loss: 4.8218 - acc: 0.9407 - val_loss: 4.9854 - val_acc: 0.8917\n",
      "Epoch 174/300\n",
      "1080/1080 [==============================] - 2s 2ms/step - loss: 4.8472 - acc: 0.9361 - val_loss: 5.0621 - val_acc: 0.8417\n",
      "Epoch 175/300\n",
      "1080/1080 [==============================] - 2s 2ms/step - loss: 4.8287 - acc: 0.9287 - val_loss: 5.2288 - val_acc: 0.8000\n",
      "Epoch 176/300\n",
      "1080/1080 [==============================] - 2s 2ms/step - loss: 4.8305 - acc: 0.9231 - val_loss: 4.9571 - val_acc: 0.8917\n",
      "Epoch 177/300\n",
      "1080/1080 [==============================] - 3s 2ms/step - loss: 4.7818 - acc: 0.9472 - val_loss: 4.9758 - val_acc: 0.8833\n",
      "Epoch 178/300\n",
      "1080/1080 [==============================] - 2s 2ms/step - loss: 4.7753 - acc: 0.9417 - val_loss: 5.0112 - val_acc: 0.8500\n",
      "Epoch 179/300\n",
      "1080/1080 [==============================] - 2s 2ms/step - loss: 4.7716 - acc: 0.9454 - val_loss: 5.0014 - val_acc: 0.8667\n",
      "Epoch 180/300\n",
      "1080/1080 [==============================] - 3s 2ms/step - loss: 4.7649 - acc: 0.9426 - val_loss: 5.0537 - val_acc: 0.8417\n"
     ]
    },
    {
     "name": "stdout",
     "output_type": "stream",
     "text": [
      "Epoch 181/300\n",
      "1080/1080 [==============================] - 3s 2ms/step - loss: 4.8018 - acc: 0.9222 - val_loss: 4.9724 - val_acc: 0.8333\n",
      "Epoch 182/300\n",
      "1080/1080 [==============================] - 2s 2ms/step - loss: 4.7691 - acc: 0.9343 - val_loss: 5.1322 - val_acc: 0.8333\n",
      "Epoch 183/300\n",
      "1080/1080 [==============================] - 3s 2ms/step - loss: 4.7559 - acc: 0.9481 - val_loss: 4.9828 - val_acc: 0.8667\n",
      "Epoch 184/300\n",
      "1080/1080 [==============================] - 2s 2ms/step - loss: 4.7345 - acc: 0.9463 - val_loss: 4.9300 - val_acc: 0.8583\n",
      "Epoch 185/300\n",
      "1080/1080 [==============================] - 3s 2ms/step - loss: 4.7247 - acc: 0.9472 - val_loss: 4.9427 - val_acc: 0.9083\n",
      "Epoch 186/300\n",
      "1080/1080 [==============================] - 3s 2ms/step - loss: 4.8549 - acc: 0.8889 - val_loss: 4.9453 - val_acc: 0.8667\n",
      "Epoch 187/300\n",
      "1080/1080 [==============================] - 2s 2ms/step - loss: 4.7158 - acc: 0.9528 - val_loss: 4.9763 - val_acc: 0.8583\n",
      "Epoch 188/300\n",
      "1080/1080 [==============================] - 2s 2ms/step - loss: 4.7706 - acc: 0.9194 - val_loss: 4.9551 - val_acc: 0.8583\n",
      "Epoch 189/300\n",
      "1080/1080 [==============================] - 2s 2ms/step - loss: 4.6965 - acc: 0.9574 - val_loss: 4.8660 - val_acc: 0.9000\n",
      "Epoch 190/300\n",
      "1080/1080 [==============================] - 3s 2ms/step - loss: 4.6936 - acc: 0.9509 - val_loss: 4.8577 - val_acc: 0.8833\n",
      "Epoch 191/300\n",
      "1080/1080 [==============================] - 3s 2ms/step - loss: 4.6676 - acc: 0.9593 - val_loss: 5.1244 - val_acc: 0.8167\n",
      "Epoch 192/300\n",
      "1080/1080 [==============================] - 3s 2ms/step - loss: 4.7120 - acc: 0.9370 - val_loss: 5.0042 - val_acc: 0.8333\n",
      "Epoch 193/300\n",
      "1080/1080 [==============================] - 3s 2ms/step - loss: 4.6952 - acc: 0.9435 - val_loss: 4.8371 - val_acc: 0.9167\n",
      "Epoch 194/300\n",
      "1080/1080 [==============================] - 3s 2ms/step - loss: 4.6983 - acc: 0.9343 - val_loss: 4.8790 - val_acc: 0.8500\n",
      "Epoch 195/300\n",
      "1080/1080 [==============================] - 3s 2ms/step - loss: 4.6578 - acc: 0.9481 - val_loss: 4.8774 - val_acc: 0.8500\n",
      "Epoch 196/300\n",
      "1080/1080 [==============================] - 3s 2ms/step - loss: 4.6588 - acc: 0.9481 - val_loss: 4.9094 - val_acc: 0.8750\n",
      "Epoch 197/300\n",
      "1080/1080 [==============================] - 3s 2ms/step - loss: 4.6310 - acc: 0.9620 - val_loss: 4.8340 - val_acc: 0.8917\n",
      "Epoch 198/300\n",
      "1080/1080 [==============================] - 3s 2ms/step - loss: 4.6212 - acc: 0.9620 - val_loss: 4.8762 - val_acc: 0.8833\n",
      "Epoch 199/300\n",
      "1080/1080 [==============================] - 3s 2ms/step - loss: 4.6447 - acc: 0.9454 - val_loss: 4.8799 - val_acc: 0.8417\n",
      "Epoch 200/300\n",
      "1080/1080 [==============================] - 2s 2ms/step - loss: 4.6508 - acc: 0.9472 - val_loss: 4.8335 - val_acc: 0.8417\n",
      "Epoch 201/300\n",
      "1080/1080 [==============================] - 2s 2ms/step - loss: 4.6089 - acc: 0.9583 - val_loss: 4.8534 - val_acc: 0.8833\n",
      "Epoch 202/300\n",
      "1080/1080 [==============================] - 2s 2ms/step - loss: 4.6020 - acc: 0.9639 - val_loss: 4.8484 - val_acc: 0.8750\n",
      "Epoch 203/300\n",
      "1080/1080 [==============================] - 2s 2ms/step - loss: 4.5820 - acc: 0.9685 - val_loss: 4.8091 - val_acc: 0.8667\n",
      "Epoch 204/300\n",
      "1080/1080 [==============================] - 2s 2ms/step - loss: 4.6017 - acc: 0.9519 - val_loss: 4.7804 - val_acc: 0.8917\n",
      "Epoch 205/300\n",
      "1080/1080 [==============================] - 2s 2ms/step - loss: 4.5819 - acc: 0.9657 - val_loss: 4.7971 - val_acc: 0.8833\n",
      "Epoch 206/300\n",
      "1080/1080 [==============================] - 2s 2ms/step - loss: 4.5889 - acc: 0.9528 - val_loss: 4.8114 - val_acc: 0.8667\n",
      "Epoch 207/300\n",
      "1080/1080 [==============================] - 3s 2ms/step - loss: 4.5426 - acc: 0.9759 - val_loss: 4.7873 - val_acc: 0.8917\n",
      "Epoch 208/300\n",
      "1080/1080 [==============================] - 2s 2ms/step - loss: 4.5694 - acc: 0.9583 - val_loss: 4.7705 - val_acc: 0.8833\n",
      "Epoch 209/300\n",
      "1080/1080 [==============================] - 2s 2ms/step - loss: 4.5602 - acc: 0.9648 - val_loss: 4.8532 - val_acc: 0.8750\n",
      "Epoch 210/300\n",
      "1080/1080 [==============================] - 3s 2ms/step - loss: 4.5411 - acc: 0.9731 - val_loss: 4.8391 - val_acc: 0.8667\n",
      "Epoch 211/300\n",
      "1080/1080 [==============================] - 3s 2ms/step - loss: 4.5441 - acc: 0.9602 - val_loss: 4.7667 - val_acc: 0.9000\n",
      "Epoch 212/300\n",
      "1080/1080 [==============================] - 2s 2ms/step - loss: 4.5245 - acc: 0.9639 - val_loss: 4.7362 - val_acc: 0.9167\n",
      "Epoch 213/300\n",
      "1080/1080 [==============================] - 3s 2ms/step - loss: 4.5279 - acc: 0.9648 - val_loss: 4.7935 - val_acc: 0.8917\n",
      "Epoch 214/300\n",
      "1080/1080 [==============================] - 2s 2ms/step - loss: 4.5366 - acc: 0.9583 - val_loss: 4.7568 - val_acc: 0.8917\n",
      "Epoch 215/300\n",
      "1080/1080 [==============================] - 2s 2ms/step - loss: 4.5173 - acc: 0.9611 - val_loss: 4.8246 - val_acc: 0.9083\n",
      "Epoch 216/300\n",
      "1080/1080 [==============================] - 3s 2ms/step - loss: 4.5077 - acc: 0.9648 - val_loss: 4.6938 - val_acc: 0.9167\n",
      "Epoch 217/300\n",
      "1080/1080 [==============================] - 2s 2ms/step - loss: 4.5340 - acc: 0.9574 - val_loss: 4.7541 - val_acc: 0.9000\n",
      "Epoch 218/300\n",
      "1080/1080 [==============================] - 3s 2ms/step - loss: 4.4827 - acc: 0.9713 - val_loss: 4.6960 - val_acc: 0.9000\n",
      "Epoch 219/300\n",
      "1080/1080 [==============================] - 2s 2ms/step - loss: 4.4843 - acc: 0.9713 - val_loss: 4.8300 - val_acc: 0.8667\n",
      "Epoch 220/300\n",
      "1080/1080 [==============================] - 2s 2ms/step - loss: 4.5052 - acc: 0.9602 - val_loss: 4.7989 - val_acc: 0.8750\n",
      "Epoch 221/300\n",
      "1080/1080 [==============================] - 2s 2ms/step - loss: 4.4911 - acc: 0.9574 - val_loss: 4.6844 - val_acc: 0.9250\n",
      "Epoch 222/300\n",
      "1080/1080 [==============================] - 3s 2ms/step - loss: 4.4537 - acc: 0.9833 - val_loss: 4.7344 - val_acc: 0.8917\n",
      "Epoch 223/300\n",
      "1080/1080 [==============================] - 3s 2ms/step - loss: 4.4572 - acc: 0.9750 - val_loss: 4.7498 - val_acc: 0.8583\n",
      "Epoch 224/300\n",
      "1080/1080 [==============================] - 3s 2ms/step - loss: 4.4380 - acc: 0.9787 - val_loss: 4.6802 - val_acc: 0.8917\n",
      "Epoch 225/300\n",
      "1080/1080 [==============================] - 2s 2ms/step - loss: 4.4507 - acc: 0.9769 - val_loss: 4.7954 - val_acc: 0.8667\n",
      "Epoch 226/300\n",
      "1080/1080 [==============================] - 3s 2ms/step - loss: 4.4662 - acc: 0.9611 - val_loss: 4.9339 - val_acc: 0.8500\n",
      "Epoch 227/300\n",
      "1080/1080 [==============================] - 2s 2ms/step - loss: 4.4383 - acc: 0.9694 - val_loss: 4.6745 - val_acc: 0.9083\n",
      "Epoch 228/300\n",
      "1080/1080 [==============================] - 2s 2ms/step - loss: 4.4536 - acc: 0.9583 - val_loss: 5.6211 - val_acc: 0.6250\n",
      "Epoch 229/300\n",
      "1080/1080 [==============================] - 2s 2ms/step - loss: 4.5892 - acc: 0.9213 - val_loss: 4.6708 - val_acc: 0.8917\n",
      "Epoch 230/300\n",
      "1080/1080 [==============================] - 3s 2ms/step - loss: 4.4313 - acc: 0.9685 - val_loss: 4.6208 - val_acc: 0.9083\n",
      "Epoch 231/300\n",
      "1080/1080 [==============================] - 3s 2ms/step - loss: 4.3966 - acc: 0.9861 - val_loss: 4.6459 - val_acc: 0.9000\n",
      "Epoch 232/300\n",
      "1080/1080 [==============================] - 2s 2ms/step - loss: 4.3929 - acc: 0.9889 - val_loss: 4.6089 - val_acc: 0.9167\n",
      "Epoch 233/300\n",
      "1080/1080 [==============================] - 2s 2ms/step - loss: 4.4007 - acc: 0.9759 - val_loss: 4.6228 - val_acc: 0.9000\n",
      "Epoch 234/300\n",
      "1080/1080 [==============================] - 3s 2ms/step - loss: 4.3825 - acc: 0.9815 - val_loss: 4.5985 - val_acc: 0.9167\n",
      "Epoch 235/300\n",
      "1080/1080 [==============================] - 2s 2ms/step - loss: 4.3751 - acc: 0.9796 - val_loss: 4.5967 - val_acc: 0.9083\n",
      "Epoch 236/300\n",
      "1080/1080 [==============================] - 3s 2ms/step - loss: 4.3915 - acc: 0.9713 - val_loss: 4.6084 - val_acc: 0.9000\n",
      "Epoch 237/300\n",
      "1080/1080 [==============================] - 3s 2ms/step - loss: 4.4260 - acc: 0.9509 - val_loss: 4.6030 - val_acc: 0.9083\n",
      "Epoch 238/300\n",
      "1080/1080 [==============================] - 2s 2ms/step - loss: 4.3873 - acc: 0.9750 - val_loss: 4.5937 - val_acc: 0.9083\n",
      "Epoch 239/300\n",
      "1080/1080 [==============================] - 2s 2ms/step - loss: 4.3644 - acc: 0.9806 - val_loss: 4.5881 - val_acc: 0.8917\n",
      "Epoch 240/300\n",
      "1080/1080 [==============================] - 3s 2ms/step - loss: 4.3742 - acc: 0.9704 - val_loss: 4.7124 - val_acc: 0.8833\n"
     ]
    },
    {
     "name": "stdout",
     "output_type": "stream",
     "text": [
      "Epoch 241/300\n",
      "1080/1080 [==============================] - 2s 2ms/step - loss: 4.3612 - acc: 0.9741 - val_loss: 4.5752 - val_acc: 0.9083\n",
      "Epoch 242/300\n",
      "1080/1080 [==============================] - 3s 2ms/step - loss: 4.3345 - acc: 0.9880 - val_loss: 4.5373 - val_acc: 0.9333\n",
      "Epoch 243/300\n",
      "1080/1080 [==============================] - 2s 2ms/step - loss: 4.3285 - acc: 0.9861 - val_loss: 4.6168 - val_acc: 0.9083\n",
      "Epoch 244/300\n",
      "1080/1080 [==============================] - 2s 2ms/step - loss: 4.3339 - acc: 0.9833 - val_loss: 4.5786 - val_acc: 0.9083\n",
      "Epoch 245/300\n",
      "1080/1080 [==============================] - 2s 2ms/step - loss: 4.3255 - acc: 0.9796 - val_loss: 4.5948 - val_acc: 0.9167\n",
      "Epoch 246/300\n",
      "1080/1080 [==============================] - 2s 2ms/step - loss: 4.3235 - acc: 0.9824 - val_loss: 4.5650 - val_acc: 0.9000\n",
      "Epoch 247/300\n",
      "1080/1080 [==============================] - 2s 2ms/step - loss: 4.3213 - acc: 0.9806 - val_loss: 4.6003 - val_acc: 0.8750\n",
      "Epoch 248/300\n",
      "1080/1080 [==============================] - 3s 2ms/step - loss: 4.3064 - acc: 0.9833 - val_loss: 4.5572 - val_acc: 0.9000\n",
      "Epoch 249/300\n",
      "1080/1080 [==============================] - 3s 2ms/step - loss: 4.3150 - acc: 0.9824 - val_loss: 4.5971 - val_acc: 0.8667\n",
      "Epoch 250/300\n",
      "1080/1080 [==============================] - 3s 2ms/step - loss: 4.3203 - acc: 0.9750 - val_loss: 4.6834 - val_acc: 0.8583\n",
      "Epoch 251/300\n",
      "1080/1080 [==============================] - 3s 2ms/step - loss: 4.3055 - acc: 0.9778 - val_loss: 4.5007 - val_acc: 0.9250\n",
      "Epoch 252/300\n",
      "1080/1080 [==============================] - 2s 2ms/step - loss: 4.2866 - acc: 0.9870 - val_loss: 4.5123 - val_acc: 0.9083\n",
      "Epoch 253/300\n",
      "1080/1080 [==============================] - 2s 2ms/step - loss: 4.2911 - acc: 0.9796 - val_loss: 4.5257 - val_acc: 0.9250\n",
      "Epoch 254/300\n",
      "1080/1080 [==============================] - 2s 2ms/step - loss: 4.2829 - acc: 0.9787 - val_loss: 4.5288 - val_acc: 0.9000\n",
      "Epoch 255/300\n",
      "1080/1080 [==============================] - 3s 2ms/step - loss: 4.2705 - acc: 0.9889 - val_loss: 4.4805 - val_acc: 0.9167\n",
      "Epoch 256/300\n",
      "1080/1080 [==============================] - 2s 2ms/step - loss: 4.2580 - acc: 0.9935 - val_loss: 4.5778 - val_acc: 0.9000\n",
      "Epoch 257/300\n",
      "1080/1080 [==============================] - 3s 2ms/step - loss: 4.2661 - acc: 0.9787 - val_loss: 4.4902 - val_acc: 0.9167\n",
      "Epoch 258/300\n",
      "1080/1080 [==============================] - 3s 2ms/step - loss: 4.2542 - acc: 0.9898 - val_loss: 4.4873 - val_acc: 0.9250\n",
      "Epoch 259/300\n",
      "1080/1080 [==============================] - 3s 2ms/step - loss: 4.2697 - acc: 0.9778 - val_loss: 4.5814 - val_acc: 0.9167\n",
      "Epoch 260/300\n",
      "1080/1080 [==============================] - 3s 2ms/step - loss: 4.2917 - acc: 0.9639 - val_loss: 4.4737 - val_acc: 0.9083\n",
      "Epoch 261/300\n",
      "1080/1080 [==============================] - 3s 2ms/step - loss: 4.2502 - acc: 0.9852 - val_loss: 4.4996 - val_acc: 0.9083\n",
      "Epoch 262/300\n",
      "1080/1080 [==============================] - 2s 2ms/step - loss: 4.2286 - acc: 0.9926 - val_loss: 4.5414 - val_acc: 0.9000\n",
      "Epoch 263/300\n",
      "1080/1080 [==============================] - 3s 2ms/step - loss: 4.2383 - acc: 0.9861 - val_loss: 4.5471 - val_acc: 0.9000\n",
      "Epoch 264/300\n",
      "1080/1080 [==============================] - 2s 2ms/step - loss: 4.2307 - acc: 0.9852 - val_loss: 4.4554 - val_acc: 0.9250\n",
      "Epoch 265/300\n",
      "1080/1080 [==============================] - 2s 2ms/step - loss: 4.2228 - acc: 0.9898 - val_loss: 4.4584 - val_acc: 0.9167\n",
      "Epoch 266/300\n",
      "1080/1080 [==============================] - 3s 2ms/step - loss: 4.2195 - acc: 0.9889 - val_loss: 4.4918 - val_acc: 0.9083\n",
      "Epoch 267/300\n",
      "1080/1080 [==============================] - 3s 2ms/step - loss: 4.2073 - acc: 0.9898 - val_loss: 4.4528 - val_acc: 0.9250\n",
      "Epoch 268/300\n",
      "1080/1080 [==============================] - 2s 2ms/step - loss: 4.2026 - acc: 0.9898 - val_loss: 4.4421 - val_acc: 0.9333\n",
      "Epoch 269/300\n",
      "1080/1080 [==============================] - 3s 2ms/step - loss: 4.2112 - acc: 0.9852 - val_loss: 4.4510 - val_acc: 0.9167\n",
      "Epoch 270/300\n",
      "1080/1080 [==============================] - 2s 2ms/step - loss: 4.1884 - acc: 0.9935 - val_loss: 4.4784 - val_acc: 0.9000\n",
      "Epoch 271/300\n",
      "1080/1080 [==============================] - 3s 2ms/step - loss: 4.1943 - acc: 0.9815 - val_loss: 4.4227 - val_acc: 0.9167\n",
      "Epoch 272/300\n",
      "1080/1080 [==============================] - 2s 2ms/step - loss: 4.1862 - acc: 0.9843 - val_loss: 4.5195 - val_acc: 0.9000\n",
      "Epoch 273/300\n",
      "1080/1080 [==============================] - 2s 2ms/step - loss: 4.1799 - acc: 0.9898 - val_loss: 4.4404 - val_acc: 0.9083\n",
      "Epoch 274/300\n",
      "1080/1080 [==============================] - 2s 2ms/step - loss: 4.1936 - acc: 0.9824 - val_loss: 4.4385 - val_acc: 0.9167\n",
      "Epoch 275/300\n",
      "1080/1080 [==============================] - 3s 2ms/step - loss: 4.1639 - acc: 0.9954 - val_loss: 4.4270 - val_acc: 0.9250\n",
      "Epoch 276/300\n",
      "1080/1080 [==============================] - 2s 2ms/step - loss: 4.1670 - acc: 0.9880 - val_loss: 4.4030 - val_acc: 0.9167\n",
      "Epoch 277/300\n",
      "1080/1080 [==============================] - 2s 2ms/step - loss: 4.1959 - acc: 0.9787 - val_loss: 4.4700 - val_acc: 0.8917\n",
      "Epoch 278/300\n",
      "1080/1080 [==============================] - 2s 2ms/step - loss: 4.1555 - acc: 0.9889 - val_loss: 4.3992 - val_acc: 0.9167\n",
      "Epoch 279/300\n",
      "1080/1080 [==============================] - 2s 2ms/step - loss: 4.1517 - acc: 0.9917 - val_loss: 4.4266 - val_acc: 0.9167\n",
      "Epoch 280/300\n",
      "1080/1080 [==============================] - 2s 2ms/step - loss: 4.1405 - acc: 0.9917 - val_loss: 4.4062 - val_acc: 0.9000\n",
      "Epoch 281/300\n",
      "1080/1080 [==============================] - 2s 2ms/step - loss: 4.1401 - acc: 0.9926 - val_loss: 4.4057 - val_acc: 0.9000\n",
      "Epoch 282/300\n",
      "1080/1080 [==============================] - 3s 2ms/step - loss: 4.1406 - acc: 0.9870 - val_loss: 4.4729 - val_acc: 0.8833\n",
      "Epoch 283/300\n",
      "1080/1080 [==============================] - 2s 2ms/step - loss: 4.1487 - acc: 0.9843 - val_loss: 4.4154 - val_acc: 0.9167\n",
      "Epoch 284/300\n",
      "1080/1080 [==============================] - 3s 2ms/step - loss: 4.2830 - acc: 0.9361 - val_loss: 5.2546 - val_acc: 0.7667\n",
      "Epoch 285/300\n",
      "1080/1080 [==============================] - 2s 2ms/step - loss: 4.2221 - acc: 0.9667 - val_loss: 4.7676 - val_acc: 0.7500\n",
      "Epoch 286/300\n",
      "1080/1080 [==============================] - 2s 2ms/step - loss: 4.5009 - acc: 0.8509 - val_loss: 4.3436 - val_acc: 0.9250\n",
      "Epoch 287/300\n",
      "1080/1080 [==============================] - 3s 2ms/step - loss: 4.1551 - acc: 0.9889 - val_loss: 4.3279 - val_acc: 0.9333\n",
      "Epoch 288/300\n",
      "1080/1080 [==============================] - 3s 2ms/step - loss: 4.1227 - acc: 0.9917 - val_loss: 4.3501 - val_acc: 0.9083\n",
      "Epoch 289/300\n",
      "1080/1080 [==============================] - 2s 2ms/step - loss: 4.1063 - acc: 0.9898 - val_loss: 4.3700 - val_acc: 0.9167\n",
      "Epoch 290/300\n",
      "1080/1080 [==============================] - 3s 2ms/step - loss: 4.1107 - acc: 0.9861 - val_loss: 4.3493 - val_acc: 0.9250\n",
      "Epoch 291/300\n",
      "1080/1080 [==============================] - 3s 2ms/step - loss: 4.0956 - acc: 0.9907 - val_loss: 4.3388 - val_acc: 0.9167\n",
      "Epoch 292/300\n",
      "1080/1080 [==============================] - 3s 2ms/step - loss: 4.0914 - acc: 0.9935 - val_loss: 4.3408 - val_acc: 0.8917\n",
      "Epoch 293/300\n",
      "1080/1080 [==============================] - 2s 2ms/step - loss: 4.0946 - acc: 0.9852 - val_loss: 4.3667 - val_acc: 0.9083\n",
      "Epoch 294/300\n",
      "1080/1080 [==============================] - 2s 2ms/step - loss: 4.0818 - acc: 0.9898 - val_loss: 4.3427 - val_acc: 0.9167\n",
      "Epoch 295/300\n",
      "1080/1080 [==============================] - 2s 2ms/step - loss: 4.0922 - acc: 0.9833 - val_loss: 4.3285 - val_acc: 0.9167\n",
      "Epoch 296/300\n",
      "1080/1080 [==============================] - 3s 2ms/step - loss: 4.0724 - acc: 0.9935 - val_loss: 4.3885 - val_acc: 0.9333\n",
      "Epoch 297/300\n",
      "1080/1080 [==============================] - 2s 2ms/step - loss: 4.0672 - acc: 0.9935 - val_loss: 4.3191 - val_acc: 0.9417\n",
      "Epoch 298/300\n",
      "1080/1080 [==============================] - 3s 2ms/step - loss: 4.0654 - acc: 0.9935 - val_loss: 4.3413 - val_acc: 0.9083\n",
      "Epoch 299/300\n",
      "1080/1080 [==============================] - 2s 2ms/step - loss: 4.0597 - acc: 0.9926 - val_loss: 4.3180 - val_acc: 0.9250\n",
      "Epoch 300/300\n",
      "1080/1080 [==============================] - 2s 2ms/step - loss: 4.0556 - acc: 0.9870 - val_loss: 4.3268 - val_acc: 0.9250\n"
     ]
    },
    {
     "name": "stdout",
     "output_type": "stream",
     "text": [
      "1080/1080 [==============================] - 1s 966us/step\n"
     ]
    },
    {
     "data": {
      "text/plain": [
       "[4.023418666698315, 1.0]"
      ]
     },
     "execution_count": 17,
     "metadata": {},
     "output_type": "execute_result"
    },
    {
     "name": "stdout",
     "output_type": "stream",
     "text": [
      "120/120 [==============================] - 0s 1ms/step\n"
     ]
    },
    {
     "data": {
      "text/plain": [
       "[4.3268119176228845, 0.925000003973643]"
      ]
     },
     "execution_count": 17,
     "metadata": {},
     "output_type": "execute_result"
    },
    {
     "data": {
      "text/plain": [
       "array([[ 14,   0,  55, 111,   0,   0],\n",
       "       [ 43,   0,  32, 105,   0,   0],\n",
       "       [ 13,   0,  81,  86,   0,   0],\n",
       "       [  0,   0,   1, 179,   0,   0],\n",
       "       [  5,   0,  50, 125,   0,   0],\n",
       "       [  9,   0,  23, 148,   0,   0]], dtype=int64)"
      ]
     },
     "execution_count": 17,
     "metadata": {},
     "output_type": "execute_result"
    },
    {
     "data": {
      "text/plain": [
       "array([[ 0,  0,  4, 16,  0,  0],\n",
       "       [ 3,  0,  3, 14,  0,  0],\n",
       "       [ 2,  0,  9,  9,  0,  0],\n",
       "       [ 0,  0,  0, 20,  0,  0],\n",
       "       [ 0,  0,  5, 15,  0,  0],\n",
       "       [ 0,  0,  6, 14,  0,  0]], dtype=int64)"
      ]
     },
     "execution_count": 17,
     "metadata": {},
     "output_type": "execute_result"
    },
    {
     "data": {
      "text/plain": [
       "[<matplotlib.lines.Line2D at 0x1b14e3042e8>]"
      ]
     },
     "execution_count": 17,
     "metadata": {},
     "output_type": "execute_result"
    },
    {
     "data": {
      "text/plain": [
       "[<matplotlib.lines.Line2D at 0x1b14a692860>]"
      ]
     },
     "execution_count": 17,
     "metadata": {},
     "output_type": "execute_result"
    },
    {
     "data": {
      "text/plain": [
       "Text(0.5, 1.0, 'Model accuracy')"
      ]
     },
     "execution_count": 17,
     "metadata": {},
     "output_type": "execute_result"
    },
    {
     "data": {
      "text/plain": [
       "Text(0, 0.5, 'Accuracy')"
      ]
     },
     "execution_count": 17,
     "metadata": {},
     "output_type": "execute_result"
    },
    {
     "data": {
      "text/plain": [
       "Text(0.5, 0, 'Epoch')"
      ]
     },
     "execution_count": 17,
     "metadata": {},
     "output_type": "execute_result"
    },
    {
     "data": {
      "text/plain": [
       "<matplotlib.legend.Legend at 0x1b14ec7e240>"
      ]
     },
     "execution_count": 17,
     "metadata": {},
     "output_type": "execute_result"
    },
    {
     "data": {
      "image/png": "[encoded data removed]",
      "text/plain": [
       "<Figure size 432x288 with 1 Axes>"
      ]
     },
     "metadata": {
      "needs_background": "light"
     },
     "output_type": "display_data"
    },
    {
     "data": {
      "text/plain": [
       "[<matplotlib.lines.Line2D at 0x1b14e364ac8>]"
      ]
     },
     "execution_count": 17,
     "metadata": {},
     "output_type": "execute_result"
    },
    {
     "data": {
      "text/plain": [
       "[<matplotlib.lines.Line2D at 0x1b14ec8fe80>]"
      ]
     },
     "execution_count": 17,
     "metadata": {},
     "output_type": "execute_result"
    },
    {
     "data": {
      "text/plain": [
       "Text(0.5, 1.0, 'Model loss')"
      ]
     },
     "execution_count": 17,
     "metadata": {},
     "output_type": "execute_result"
    },
    {
     "data": {
      "text/plain": [
       "Text(0, 0.5, 'Loss')"
      ]
     },
     "execution_count": 17,
     "metadata": {},
     "output_type": "execute_result"
    },
    {
     "data": {
      "text/plain": [
       "Text(0.5, 0, 'Epoch')"
      ]
     },
     "execution_count": 17,
     "metadata": {},
     "output_type": "execute_result"
    },
    {
     "data": {
      "text/plain": [
       "<matplotlib.legend.Legend at 0x1b14e3576a0>"
      ]
     },
     "execution_count": 17,
     "metadata": {},
     "output_type": "execute_result"
    },
    {
     "data": {
      "image/png": "[encoded data removed]",
      "text/plain": [
       "<Figure size 432x288 with 1 Axes>"
      ]
     },
     "metadata": {
      "needs_background": "light"
     },
     "output_type": "display_data"
    }
   ],
   "source": [
    "# model4 (below) reached 92.5% validation accuracy \n",
    "from keras import regularizers, layers, activations\n",
    "\n",
    "model4 = Sequential()\n",
    "model4.add(Dense(700, kernel_regularizer=regularizers.l2(0.001), input_shape = (x_train_pix.shape[1],), activation='relu'))\n",
    "model4.add(layers.Dropout(0.1))\n",
    "model4.add(Dense(800, kernel_regularizer=regularizers.l2(0.001),activation='relu'))\n",
    "model4.add(layers.Dropout(0.1))\n",
    "model4.add(Dense(900, kernel_regularizer=regularizers.l2(0.001),activation='relu'))\n",
    "model4.add(layers.Dropout(0.1))\n",
    "model4.add(Dense(900, kernel_regularizer=regularizers.l2(0.001),activation='relu'))\n",
    "model4.add(layers.Dropout(0.1))\n",
    "model4.add(Dense(900, kernel_regularizer=regularizers.l2(0.001),activation='relu'))\n",
    "model4.add(layers.Dropout(0.1))\n",
    "model4.add(Dense(800, kernel_regularizer=regularizers.l2(0.001),activation='relu'))\n",
    "model4.add(layers.Dropout(0.1))\n",
    "model4.add(Dense(700, kernel_regularizer=regularizers.l2(0.001),activation='relu'))\n",
    "model4.add(layers.Dropout(0.1))\n",
    "model4.add(Dense(6, kernel_regularizer=regularizers.l2(0.001),activation='softmax'))\n",
    "\n",
    "# Compile model\n",
    "model4.compile(loss='categorical_crossentropy', optimizer=keras.optimizers.Nadam(lr=0.000009), metrics=['accuracy'])\n",
    "history = model4.fit(x_train_pix, onehotlabels_train, epochs=300, batch_size=100, \\\n",
    "          validation_data=(x_test_pix, onehotlabels_test))\n",
    "\n",
    "# predict values, calculate accuracy, and create confusion matrix for train and test\n",
    "train_pred = model.predict_classes(x_train_pix)\n",
    "test_pred = model.predict_classes(x_test_pix)\n",
    "\n",
    "model4.evaluate(x_train_pix, onehotlabels_train)\n",
    "model4.evaluate(x_test_pix, onehotlabels_test)\n",
    "\n",
    "metrics.confusion_matrix(y_train,train_pred)\n",
    "metrics.confusion_matrix(y_test,test_pred)\n",
    "\n",
    "# Plot training & validation accuracy values\n",
    "plt.plot(history.history['acc'])\n",
    "plt.plot(history.history['val_acc'])\n",
    "plt.title('Model accuracy')\n",
    "plt.ylabel('Accuracy')\n",
    "plt.xlabel('Epoch')\n",
    "plt.legend(['Train', 'Test'], loc='upper left')\n",
    "plt.show()\n",
    "\n",
    "# Plot training & validation loss values\n",
    "plt.plot(history.history['loss'])\n",
    "plt.plot(history.history['val_loss'])\n",
    "plt.title('Model loss')\n",
    "plt.ylabel('Loss')\n",
    "plt.xlabel('Epoch')\n",
    "plt.legend(['Train', 'Test'], loc='upper right')\n",
    "plt.show()"
   ]
  },
  {
   "cell_type": "code",
   "execution_count": 19,
   "metadata": {},
   "outputs": [
    {
     "name": "stdout",
     "output_type": "stream",
     "text": [
      "Train on 1080 samples, validate on 120 samples\n",
      "Epoch 1/500\n",
      "1080/1080 [==============================] - 6s 6ms/step - loss: 8.1302 - acc: 0.1796 - val_loss: 8.1091 - val_acc: 0.1833\n",
      "Epoch 2/500\n",
      "1080/1080 [==============================] - 3s 2ms/step - loss: 8.1208 - acc: 0.1667 - val_loss: 8.0937 - val_acc: 0.1583\n",
      "Epoch 3/500\n",
      "1080/1080 [==============================] - 3s 2ms/step - loss: 8.0932 - acc: 0.1852 - val_loss: 8.0788 - val_acc: 0.2000\n",
      "Epoch 4/500\n",
      "1080/1080 [==============================] - 3s 2ms/step - loss: 8.0908 - acc: 0.1657 - val_loss: 8.0675 - val_acc: 0.2000\n",
      "Epoch 5/500\n",
      "1080/1080 [==============================] - 3s 2ms/step - loss: 8.0770 - acc: 0.1759 - val_loss: 8.0545 - val_acc: 0.2000\n",
      "Epoch 6/500\n",
      "1080/1080 [==============================] - 3s 2ms/step - loss: 8.0639 - acc: 0.1519 - val_loss: 8.0413 - val_acc: 0.2250\n",
      "Epoch 7/500\n",
      "1080/1080 [==============================] - 3s 2ms/step - loss: 8.0549 - acc: 0.1824 - val_loss: 8.0276 - val_acc: 0.2750\n",
      "Epoch 8/500\n",
      "1080/1080 [==============================] - 3s 2ms/step - loss: 8.0335 - acc: 0.1935 - val_loss: 8.0170 - val_acc: 0.2083\n",
      "Epoch 9/500\n",
      "1080/1080 [==============================] - 3s 2ms/step - loss: 8.0255 - acc: 0.1824 - val_loss: 8.0056 - val_acc: 0.2750\n",
      "Epoch 10/500\n",
      "1080/1080 [==============================] - 3s 2ms/step - loss: 8.0133 - acc: 0.1694 - val_loss: 7.9923 - val_acc: 0.2833\n",
      "Epoch 11/500\n",
      "1080/1080 [==============================] - 3s 2ms/step - loss: 7.9977 - acc: 0.1843 - val_loss: 7.9792 - val_acc: 0.2500\n",
      "Epoch 12/500\n",
      "1080/1080 [==============================] - 3s 2ms/step - loss: 7.9909 - acc: 0.1435 - val_loss: 7.9690 - val_acc: 0.2417\n",
      "Epoch 13/500\n",
      "1080/1080 [==============================] - 3s 2ms/step - loss: 7.9743 - acc: 0.1741 - val_loss: 7.9552 - val_acc: 0.3250\n",
      "Epoch 14/500\n",
      "1080/1080 [==============================] - 3s 2ms/step - loss: 7.9636 - acc: 0.1676 - val_loss: 7.9436 - val_acc: 0.3250\n",
      "Epoch 15/500\n",
      "1080/1080 [==============================] - 3s 2ms/step - loss: 7.9560 - acc: 0.1704 - val_loss: 7.9312 - val_acc: 0.3500\n",
      "Epoch 16/500\n",
      "1080/1080 [==============================] - 3s 2ms/step - loss: 7.9383 - acc: 0.1944 - val_loss: 7.9193 - val_acc: 0.3667\n",
      "Epoch 17/500\n",
      "1080/1080 [==============================] - 3s 2ms/step - loss: 7.9297 - acc: 0.1722 - val_loss: 7.9082 - val_acc: 0.4083\n",
      "Epoch 18/500\n",
      "1080/1080 [==============================] - 3s 2ms/step - loss: 7.9223 - acc: 0.1685 - val_loss: 7.8948 - val_acc: 0.3083\n",
      "Epoch 19/500\n",
      "1080/1080 [==============================] - 3s 2ms/step - loss: 7.9025 - acc: 0.1889 - val_loss: 7.8838 - val_acc: 0.2333\n",
      "Epoch 20/500\n",
      "1080/1080 [==============================] - 3s 2ms/step - loss: 7.8890 - acc: 0.1963 - val_loss: 7.8743 - val_acc: 0.2500\n",
      "Epoch 21/500\n",
      "1080/1080 [==============================] - 3s 2ms/step - loss: 7.8818 - acc: 0.1750 - val_loss: 7.8633 - val_acc: 0.2667\n",
      "Epoch 22/500\n",
      "1080/1080 [==============================] - 3s 2ms/step - loss: 7.8637 - acc: 0.1926 - val_loss: 7.8530 - val_acc: 0.2917\n",
      "Epoch 23/500\n",
      "1080/1080 [==============================] - 3s 2ms/step - loss: 7.8631 - acc: 0.1833 - val_loss: 7.8373 - val_acc: 0.3250\n",
      "Epoch 24/500\n",
      "1080/1080 [==============================] - 3s 2ms/step - loss: 7.8497 - acc: 0.1843 - val_loss: 7.8244 - val_acc: 0.3333\n",
      "Epoch 25/500\n",
      "1080/1080 [==============================] - 3s 2ms/step - loss: 7.8355 - acc: 0.1917 - val_loss: 7.8136 - val_acc: 0.3417\n",
      "Epoch 26/500\n",
      "1080/1080 [==============================] - 3s 2ms/step - loss: 7.8231 - acc: 0.1833 - val_loss: 7.8003 - val_acc: 0.3667\n",
      "Epoch 27/500\n",
      "1080/1080 [==============================] - 3s 2ms/step - loss: 7.8086 - acc: 0.2056 - val_loss: 7.7881 - val_acc: 0.3750\n",
      "Epoch 28/500\n",
      "1080/1080 [==============================] - 3s 2ms/step - loss: 7.8022 - acc: 0.2056 - val_loss: 7.7721 - val_acc: 0.4083\n",
      "Epoch 29/500\n",
      "1080/1080 [==============================] - 3s 2ms/step - loss: 7.7799 - acc: 0.2315 - val_loss: 7.7606 - val_acc: 0.4167\n",
      "Epoch 30/500\n",
      "1080/1080 [==============================] - 3s 2ms/step - loss: 7.7742 - acc: 0.2139 - val_loss: 7.7480 - val_acc: 0.5083\n",
      "Epoch 31/500\n",
      "1080/1080 [==============================] - 3s 2ms/step - loss: 7.7666 - acc: 0.1972 - val_loss: 7.7365 - val_acc: 0.4583\n",
      "Epoch 32/500\n",
      "1080/1080 [==============================] - 3s 2ms/step - loss: 7.7490 - acc: 0.2139 - val_loss: 7.7237 - val_acc: 0.4333\n",
      "Epoch 33/500\n",
      "1080/1080 [==============================] - 3s 2ms/step - loss: 7.7383 - acc: 0.2130 - val_loss: 7.7114 - val_acc: 0.3667\n",
      "Epoch 34/500\n",
      "1080/1080 [==============================] - 3s 2ms/step - loss: 7.7238 - acc: 0.2417 - val_loss: 7.6949 - val_acc: 0.3750\n",
      "Epoch 35/500\n",
      "1080/1080 [==============================] - 3s 2ms/step - loss: 7.7104 - acc: 0.2491 - val_loss: 7.6839 - val_acc: 0.3750\n",
      "Epoch 36/500\n",
      "1080/1080 [==============================] - 3s 2ms/step - loss: 7.7026 - acc: 0.2352 - val_loss: 7.6688 - val_acc: 0.4000\n",
      "Epoch 37/500\n",
      "1080/1080 [==============================] - 3s 2ms/step - loss: 7.6947 - acc: 0.2269 - val_loss: 7.6538 - val_acc: 0.3917\n",
      "Epoch 38/500\n",
      "1080/1080 [==============================] - 3s 2ms/step - loss: 7.6794 - acc: 0.2250 - val_loss: 7.6382 - val_acc: 0.3250\n",
      "Epoch 39/500\n",
      "1080/1080 [==============================] - 3s 2ms/step - loss: 7.6555 - acc: 0.2787 - val_loss: 7.6179 - val_acc: 0.3750\n",
      "Epoch 40/500\n",
      "1080/1080 [==============================] - 3s 2ms/step - loss: 7.6586 - acc: 0.2352 - val_loss: 7.6029 - val_acc: 0.3750\n",
      "Epoch 41/500\n",
      "1080/1080 [==============================] - 3s 2ms/step - loss: 7.6448 - acc: 0.2083 - val_loss: 7.5822 - val_acc: 0.3833\n",
      "Epoch 42/500\n",
      "1080/1080 [==============================] - 3s 2ms/step - loss: 7.6268 - acc: 0.2315 - val_loss: 7.5686 - val_acc: 0.3833\n",
      "Epoch 43/500\n",
      "1080/1080 [==============================] - 3s 2ms/step - loss: 7.6203 - acc: 0.2315 - val_loss: 7.5618 - val_acc: 0.3417\n",
      "Epoch 44/500\n",
      "1080/1080 [==============================] - 3s 2ms/step - loss: 7.6004 - acc: 0.2657 - val_loss: 7.5406 - val_acc: 0.4167\n",
      "Epoch 45/500\n",
      "1080/1080 [==============================] - 3s 2ms/step - loss: 7.5922 - acc: 0.2500 - val_loss: 7.5225 - val_acc: 0.3750\n",
      "Epoch 46/500\n",
      "1080/1080 [==============================] - 3s 2ms/step - loss: 7.5640 - acc: 0.2880 - val_loss: 7.5002 - val_acc: 0.3833\n",
      "Epoch 47/500\n",
      "1080/1080 [==============================] - 3s 3ms/step - loss: 7.5614 - acc: 0.2528 - val_loss: 7.4808 - val_acc: 0.3917\n",
      "Epoch 48/500\n",
      "1080/1080 [==============================] - 3s 2ms/step - loss: 7.5341 - acc: 0.3056 - val_loss: 7.4584 - val_acc: 0.3583\n",
      "Epoch 49/500\n",
      "1080/1080 [==============================] - 3s 2ms/step - loss: 7.5168 - acc: 0.2898 - val_loss: 7.4399 - val_acc: 0.3833\n",
      "Epoch 50/500\n",
      "1080/1080 [==============================] - 3s 2ms/step - loss: 7.5029 - acc: 0.2926 - val_loss: 7.4151 - val_acc: 0.3750\n",
      "Epoch 51/500\n",
      "1080/1080 [==============================] - 3s 2ms/step - loss: 7.4936 - acc: 0.2787 - val_loss: 7.3977 - val_acc: 0.3500\n",
      "Epoch 52/500\n",
      "1080/1080 [==============================] - 3s 2ms/step - loss: 7.4668 - acc: 0.3213 - val_loss: 7.3623 - val_acc: 0.3583\n",
      "Epoch 53/500\n",
      "1080/1080 [==============================] - 3s 2ms/step - loss: 7.4466 - acc: 0.3194 - val_loss: 7.3364 - val_acc: 0.3667\n",
      "Epoch 54/500\n",
      "1080/1080 [==============================] - 3s 2ms/step - loss: 7.4334 - acc: 0.3083 - val_loss: 7.3250 - val_acc: 0.3917\n",
      "Epoch 55/500\n",
      "1080/1080 [==============================] - 3s 2ms/step - loss: 7.4015 - acc: 0.3472 - val_loss: 7.2743 - val_acc: 0.3583\n",
      "Epoch 56/500\n",
      "1080/1080 [==============================] - 3s 2ms/step - loss: 7.3867 - acc: 0.3407 - val_loss: 7.2442 - val_acc: 0.3583\n",
      "Epoch 57/500\n",
      "1080/1080 [==============================] - 3s 2ms/step - loss: 7.3732 - acc: 0.3343 - val_loss: 7.2245 - val_acc: 0.3583\n",
      "Epoch 58/500\n",
      "1080/1080 [==============================] - 3s 2ms/step - loss: 7.3384 - acc: 0.3426 - val_loss: 7.2133 - val_acc: 0.4000\n",
      "Epoch 59/500\n",
      "1080/1080 [==============================] - 3s 2ms/step - loss: 7.3126 - acc: 0.3546 - val_loss: 7.1752 - val_acc: 0.3750\n",
      "Epoch 60/500\n",
      "1080/1080 [==============================] - 3s 2ms/step - loss: 7.2969 - acc: 0.3583 - val_loss: 7.1319 - val_acc: 0.3917\n"
     ]
    },
    {
     "name": "stdout",
     "output_type": "stream",
     "text": [
      "Epoch 61/500\n",
      "1080/1080 [==============================] - 3s 2ms/step - loss: 7.2639 - acc: 0.3694 - val_loss: 7.1132 - val_acc: 0.3667\n",
      "Epoch 62/500\n",
      "1080/1080 [==============================] - 3s 2ms/step - loss: 7.2418 - acc: 0.3528 - val_loss: 7.0940 - val_acc: 0.3667\n",
      "Epoch 63/500\n",
      "1080/1080 [==============================] - 3s 2ms/step - loss: 7.2242 - acc: 0.3611 - val_loss: 7.0818 - val_acc: 0.4000\n",
      "Epoch 64/500\n",
      "1080/1080 [==============================] - 3s 2ms/step - loss: 7.1845 - acc: 0.3935 - val_loss: 7.0086 - val_acc: 0.4500\n",
      "Epoch 65/500\n",
      "1080/1080 [==============================] - 3s 2ms/step - loss: 7.1582 - acc: 0.3880 - val_loss: 6.9900 - val_acc: 0.4083\n",
      "Epoch 66/500\n",
      "1080/1080 [==============================] - 3s 2ms/step - loss: 7.1409 - acc: 0.3833 - val_loss: 6.9898 - val_acc: 0.4417\n",
      "Epoch 67/500\n",
      "1080/1080 [==============================] - 3s 2ms/step - loss: 7.1385 - acc: 0.3898 - val_loss: 6.9526 - val_acc: 0.4917\n",
      "Epoch 68/500\n",
      "1080/1080 [==============================] - 3s 2ms/step - loss: 7.0874 - acc: 0.4083 - val_loss: 6.9210 - val_acc: 0.4667\n",
      "Epoch 69/500\n",
      "1080/1080 [==============================] - 3s 2ms/step - loss: 7.0924 - acc: 0.3870 - val_loss: 6.8999 - val_acc: 0.4667\n",
      "Epoch 70/500\n",
      "1080/1080 [==============================] - 3s 2ms/step - loss: 7.0376 - acc: 0.4176 - val_loss: 6.8598 - val_acc: 0.4167\n",
      "Epoch 71/500\n",
      "1080/1080 [==============================] - 3s 2ms/step - loss: 7.0114 - acc: 0.4222 - val_loss: 6.8505 - val_acc: 0.4583\n",
      "Epoch 72/500\n",
      "1080/1080 [==============================] - 3s 2ms/step - loss: 7.0164 - acc: 0.4306 - val_loss: 6.8505 - val_acc: 0.4750\n",
      "Epoch 73/500\n",
      "1080/1080 [==============================] - 3s 2ms/step - loss: 6.9737 - acc: 0.4380 - val_loss: 6.8122 - val_acc: 0.4500\n",
      "Epoch 74/500\n",
      "1080/1080 [==============================] - 3s 2ms/step - loss: 6.9495 - acc: 0.4481 - val_loss: 6.8315 - val_acc: 0.5000\n",
      "Epoch 75/500\n",
      "1080/1080 [==============================] - 3s 2ms/step - loss: 6.9476 - acc: 0.4398 - val_loss: 6.7469 - val_acc: 0.4583\n",
      "Epoch 76/500\n",
      "1080/1080 [==============================] - 3s 2ms/step - loss: 6.9045 - acc: 0.4537 - val_loss: 6.7384 - val_acc: 0.5000\n",
      "Epoch 77/500\n",
      "1080/1080 [==============================] - 3s 2ms/step - loss: 6.8976 - acc: 0.4519 - val_loss: 6.7153 - val_acc: 0.4500\n",
      "Epoch 78/500\n",
      "1080/1080 [==============================] - 3s 2ms/step - loss: 6.8815 - acc: 0.4694 - val_loss: 6.8033 - val_acc: 0.5000\n",
      "Epoch 79/500\n",
      "1080/1080 [==============================] - 3s 2ms/step - loss: 6.8560 - acc: 0.4574 - val_loss: 6.6628 - val_acc: 0.5000\n",
      "Epoch 80/500\n",
      "1080/1080 [==============================] - 3s 2ms/step - loss: 6.8160 - acc: 0.5028 - val_loss: 6.6428 - val_acc: 0.5000\n",
      "Epoch 81/500\n",
      "1080/1080 [==============================] - 3s 2ms/step - loss: 6.7965 - acc: 0.4889 - val_loss: 6.8002 - val_acc: 0.4500\n",
      "Epoch 82/500\n",
      "1080/1080 [==============================] - 3s 2ms/step - loss: 6.8142 - acc: 0.4824 - val_loss: 6.6077 - val_acc: 0.5167\n",
      "Epoch 83/500\n",
      "1080/1080 [==============================] - 3s 2ms/step - loss: 6.7574 - acc: 0.5083 - val_loss: 6.6151 - val_acc: 0.5500\n",
      "Epoch 84/500\n",
      "1080/1080 [==============================] - 3s 2ms/step - loss: 6.7468 - acc: 0.5046 - val_loss: 6.5836 - val_acc: 0.5417\n",
      "Epoch 85/500\n",
      "1080/1080 [==============================] - 3s 2ms/step - loss: 6.7269 - acc: 0.5102 - val_loss: 6.5556 - val_acc: 0.5083\n",
      "Epoch 86/500\n",
      "1080/1080 [==============================] - 3s 2ms/step - loss: 6.7067 - acc: 0.5046 - val_loss: 6.5547 - val_acc: 0.5583\n",
      "Epoch 87/500\n",
      "1080/1080 [==============================] - 3s 2ms/step - loss: 6.6916 - acc: 0.5130 - val_loss: 6.5570 - val_acc: 0.5000\n",
      "Epoch 88/500\n",
      "1080/1080 [==============================] - 3s 2ms/step - loss: 6.6844 - acc: 0.5037 - val_loss: 6.7267 - val_acc: 0.4500\n",
      "Epoch 89/500\n",
      "1080/1080 [==============================] - 3s 2ms/step - loss: 6.6734 - acc: 0.5296 - val_loss: 6.4876 - val_acc: 0.5500\n",
      "Epoch 90/500\n",
      "1080/1080 [==============================] - 3s 2ms/step - loss: 6.6148 - acc: 0.5407 - val_loss: 6.4612 - val_acc: 0.5833\n",
      "Epoch 91/500\n",
      "1080/1080 [==============================] - 3s 2ms/step - loss: 6.6212 - acc: 0.5167 - val_loss: 6.5142 - val_acc: 0.5667\n",
      "Epoch 92/500\n",
      "1080/1080 [==============================] - 3s 2ms/step - loss: 6.5841 - acc: 0.5407 - val_loss: 6.5741 - val_acc: 0.4917\n",
      "Epoch 93/500\n",
      "1080/1080 [==============================] - 3s 2ms/step - loss: 6.5484 - acc: 0.5574 - val_loss: 6.4238 - val_acc: 0.6083\n",
      "Epoch 94/500\n",
      "1080/1080 [==============================] - 3s 2ms/step - loss: 6.5408 - acc: 0.5472 - val_loss: 6.3979 - val_acc: 0.6083\n",
      "Epoch 95/500\n",
      "1080/1080 [==============================] - 3s 2ms/step - loss: 6.5822 - acc: 0.5398 - val_loss: 6.3845 - val_acc: 0.6000\n",
      "Epoch 96/500\n",
      "1080/1080 [==============================] - 3s 2ms/step - loss: 6.5003 - acc: 0.5676 - val_loss: 6.3857 - val_acc: 0.5500\n",
      "Epoch 97/500\n",
      "1080/1080 [==============================] - 3s 2ms/step - loss: 6.5045 - acc: 0.5713 - val_loss: 6.4139 - val_acc: 0.5500\n",
      "Epoch 98/500\n",
      "1080/1080 [==============================] - 3s 2ms/step - loss: 6.4579 - acc: 0.5741 - val_loss: 6.3899 - val_acc: 0.5583\n",
      "Epoch 99/500\n",
      "1080/1080 [==============================] - 3s 2ms/step - loss: 6.4405 - acc: 0.5741 - val_loss: 6.3472 - val_acc: 0.5583\n",
      "Epoch 100/500\n",
      "1080/1080 [==============================] - 3s 2ms/step - loss: 6.4299 - acc: 0.5926 - val_loss: 6.2986 - val_acc: 0.6250\n",
      "Epoch 101/500\n",
      "1080/1080 [==============================] - 3s 2ms/step - loss: 6.4171 - acc: 0.5694 - val_loss: 6.2999 - val_acc: 0.6417\n",
      "Epoch 102/500\n",
      "1080/1080 [==============================] - 3s 2ms/step - loss: 6.4021 - acc: 0.5824 - val_loss: 6.2764 - val_acc: 0.6167\n",
      "Epoch 103/500\n",
      "1080/1080 [==============================] - 3s 2ms/step - loss: 6.3955 - acc: 0.5833 - val_loss: 6.2899 - val_acc: 0.6583\n",
      "Epoch 104/500\n",
      "1080/1080 [==============================] - 3s 2ms/step - loss: 6.3657 - acc: 0.5843 - val_loss: 6.2904 - val_acc: 0.6250\n",
      "Epoch 105/500\n",
      "1080/1080 [==============================] - 3s 2ms/step - loss: 6.3267 - acc: 0.6056 - val_loss: 6.2495 - val_acc: 0.6167\n",
      "Epoch 106/500\n",
      "1080/1080 [==============================] - 3s 2ms/step - loss: 6.3383 - acc: 0.5991 - val_loss: 6.2830 - val_acc: 0.6250\n",
      "Epoch 107/500\n",
      "1080/1080 [==============================] - 3s 2ms/step - loss: 6.3180 - acc: 0.6093 - val_loss: 6.2371 - val_acc: 0.6417\n",
      "Epoch 108/500\n",
      "1080/1080 [==============================] - 3s 2ms/step - loss: 6.3205 - acc: 0.6120 - val_loss: 6.3365 - val_acc: 0.6000\n",
      "Epoch 109/500\n",
      "1080/1080 [==============================] - 3s 2ms/step - loss: 6.2909 - acc: 0.6296 - val_loss: 6.1979 - val_acc: 0.6417\n",
      "Epoch 110/500\n",
      "1080/1080 [==============================] - 3s 2ms/step - loss: 6.2942 - acc: 0.6139 - val_loss: 6.1962 - val_acc: 0.6083\n",
      "Epoch 111/500\n",
      "1080/1080 [==============================] - 3s 2ms/step - loss: 6.2585 - acc: 0.6148 - val_loss: 6.1974 - val_acc: 0.6500\n",
      "Epoch 112/500\n",
      "1080/1080 [==============================] - 3s 2ms/step - loss: 6.2552 - acc: 0.6306 - val_loss: 6.1535 - val_acc: 0.6750\n",
      "Epoch 113/500\n",
      "1080/1080 [==============================] - 3s 2ms/step - loss: 6.2350 - acc: 0.6222 - val_loss: 6.1575 - val_acc: 0.6667\n",
      "Epoch 114/500\n",
      "1080/1080 [==============================] - 3s 2ms/step - loss: 6.2054 - acc: 0.6565 - val_loss: 6.3747 - val_acc: 0.6167\n",
      "Epoch 115/500\n",
      "1080/1080 [==============================] - 3s 2ms/step - loss: 6.2439 - acc: 0.6093 - val_loss: 6.1150 - val_acc: 0.6333\n",
      "Epoch 116/500\n",
      "1080/1080 [==============================] - 3s 2ms/step - loss: 6.2208 - acc: 0.6167 - val_loss: 6.1295 - val_acc: 0.6250\n",
      "Epoch 117/500\n",
      "1080/1080 [==============================] - 3s 2ms/step - loss: 6.1546 - acc: 0.6528 - val_loss: 6.1583 - val_acc: 0.6500\n",
      "Epoch 118/500\n",
      "1080/1080 [==============================] - 3s 2ms/step - loss: 6.1516 - acc: 0.6519 - val_loss: 6.1012 - val_acc: 0.7000\n",
      "Epoch 119/500\n",
      "1080/1080 [==============================] - 3s 2ms/step - loss: 6.1737 - acc: 0.6259 - val_loss: 6.1419 - val_acc: 0.6250\n",
      "Epoch 120/500\n",
      "1080/1080 [==============================] - 3s 2ms/step - loss: 6.1275 - acc: 0.6361 - val_loss: 6.0613 - val_acc: 0.6333\n",
      "Epoch 121/500\n"
     ]
    },
    {
     "name": "stdout",
     "output_type": "stream",
     "text": [
      "1080/1080 [==============================] - 3s 2ms/step - loss: 6.1373 - acc: 0.6370 - val_loss: 6.0796 - val_acc: 0.6583\n",
      "Epoch 122/500\n",
      "1080/1080 [==============================] - 3s 2ms/step - loss: 6.1122 - acc: 0.6398 - val_loss: 6.0933 - val_acc: 0.6333\n",
      "Epoch 123/500\n",
      "1080/1080 [==============================] - 3s 2ms/step - loss: 6.1041 - acc: 0.6528 - val_loss: 6.0102 - val_acc: 0.6500\n",
      "Epoch 124/500\n",
      "1080/1080 [==============================] - 3s 2ms/step - loss: 6.1198 - acc: 0.6481 - val_loss: 6.0462 - val_acc: 0.6333\n",
      "Epoch 125/500\n",
      "1080/1080 [==============================] - 3s 2ms/step - loss: 6.0686 - acc: 0.6546 - val_loss: 6.0141 - val_acc: 0.6667\n",
      "Epoch 126/500\n",
      "1080/1080 [==============================] - 3s 2ms/step - loss: 6.0667 - acc: 0.6694 - val_loss: 6.1413 - val_acc: 0.6417\n",
      "Epoch 127/500\n",
      "1080/1080 [==============================] - 3s 2ms/step - loss: 6.0547 - acc: 0.6685 - val_loss: 5.9809 - val_acc: 0.6417\n",
      "Epoch 128/500\n",
      "1080/1080 [==============================] - 3s 2ms/step - loss: 6.0300 - acc: 0.6713 - val_loss: 5.9714 - val_acc: 0.6833\n",
      "Epoch 129/500\n",
      "1080/1080 [==============================] - 3s 2ms/step - loss: 6.0154 - acc: 0.6657 - val_loss: 6.0195 - val_acc: 0.6833\n",
      "Epoch 130/500\n",
      "1080/1080 [==============================] - 3s 2ms/step - loss: 6.0161 - acc: 0.6731 - val_loss: 6.0122 - val_acc: 0.7167\n",
      "Epoch 131/500\n",
      "1080/1080 [==============================] - 3s 2ms/step - loss: 6.0054 - acc: 0.6667 - val_loss: 5.9299 - val_acc: 0.6833\n",
      "Epoch 132/500\n",
      "1080/1080 [==============================] - 3s 2ms/step - loss: 5.9814 - acc: 0.6917 - val_loss: 5.9347 - val_acc: 0.6917\n",
      "Epoch 133/500\n",
      "1080/1080 [==============================] - 3s 2ms/step - loss: 5.9979 - acc: 0.6509 - val_loss: 5.9577 - val_acc: 0.6833\n",
      "Epoch 134/500\n",
      "1080/1080 [==============================] - 3s 2ms/step - loss: 5.9426 - acc: 0.7102 - val_loss: 5.9424 - val_acc: 0.6833\n",
      "Epoch 135/500\n",
      "1080/1080 [==============================] - 3s 2ms/step - loss: 5.9390 - acc: 0.6991 - val_loss: 5.8860 - val_acc: 0.6917\n",
      "Epoch 136/500\n",
      "1080/1080 [==============================] - 3s 2ms/step - loss: 5.9564 - acc: 0.6843 - val_loss: 5.8761 - val_acc: 0.7000\n",
      "Epoch 137/500\n",
      "1080/1080 [==============================] - 3s 2ms/step - loss: 5.9412 - acc: 0.6861 - val_loss: 5.9209 - val_acc: 0.6750\n",
      "Epoch 138/500\n",
      "1080/1080 [==============================] - 3s 2ms/step - loss: 5.9039 - acc: 0.6963 - val_loss: 5.8648 - val_acc: 0.7083\n",
      "Epoch 139/500\n",
      "1080/1080 [==============================] - 3s 3ms/step - loss: 5.9174 - acc: 0.6963 - val_loss: 5.8628 - val_acc: 0.6750\n",
      "Epoch 140/500\n",
      "1080/1080 [==============================] - 3s 2ms/step - loss: 5.8674 - acc: 0.7102 - val_loss: 5.8722 - val_acc: 0.7083\n",
      "Epoch 141/500\n",
      "1080/1080 [==============================] - 3s 2ms/step - loss: 5.8898 - acc: 0.6926 - val_loss: 6.0124 - val_acc: 0.6250\n",
      "Epoch 142/500\n",
      "1080/1080 [==============================] - 3s 2ms/step - loss: 5.9116 - acc: 0.6889 - val_loss: 5.8325 - val_acc: 0.7167\n",
      "Epoch 143/500\n",
      "1080/1080 [==============================] - 3s 2ms/step - loss: 5.8720 - acc: 0.6935 - val_loss: 5.9139 - val_acc: 0.6583\n",
      "Epoch 144/500\n",
      "1080/1080 [==============================] - 3s 2ms/step - loss: 5.8403 - acc: 0.7130 - val_loss: 5.7822 - val_acc: 0.7083\n",
      "Epoch 145/500\n",
      "1080/1080 [==============================] - 3s 3ms/step - loss: 5.8333 - acc: 0.6898 - val_loss: 5.8085 - val_acc: 0.7167\n",
      "Epoch 146/500\n",
      "1080/1080 [==============================] - 3s 2ms/step - loss: 5.8223 - acc: 0.7120 - val_loss: 5.8090 - val_acc: 0.6750\n",
      "Epoch 147/500\n",
      "1080/1080 [==============================] - 3s 2ms/step - loss: 5.8022 - acc: 0.7167 - val_loss: 5.7904 - val_acc: 0.7000\n",
      "Epoch 148/500\n",
      "1080/1080 [==============================] - 3s 2ms/step - loss: 5.7929 - acc: 0.7111 - val_loss: 5.7747 - val_acc: 0.7250\n",
      "Epoch 149/500\n",
      "1080/1080 [==============================] - 3s 2ms/step - loss: 5.7995 - acc: 0.7083 - val_loss: 5.7233 - val_acc: 0.7250\n",
      "Epoch 150/500\n",
      "1080/1080 [==============================] - 3s 2ms/step - loss: 5.7604 - acc: 0.7231 - val_loss: 5.8454 - val_acc: 0.6833\n",
      "Epoch 151/500\n",
      "1080/1080 [==============================] - 3s 2ms/step - loss: 5.7592 - acc: 0.7463 - val_loss: 5.7215 - val_acc: 0.7417\n",
      "Epoch 152/500\n",
      "1080/1080 [==============================] - 3s 2ms/step - loss: 5.7691 - acc: 0.7278 - val_loss: 5.7698 - val_acc: 0.7417\n",
      "Epoch 153/500\n",
      "1080/1080 [==============================] - 3s 2ms/step - loss: 5.7387 - acc: 0.7269 - val_loss: 5.7189 - val_acc: 0.7333\n",
      "Epoch 154/500\n",
      "1080/1080 [==============================] - 3s 2ms/step - loss: 5.7239 - acc: 0.7370 - val_loss: 5.6993 - val_acc: 0.7333\n",
      "Epoch 155/500\n",
      "1080/1080 [==============================] - 3s 2ms/step - loss: 5.7283 - acc: 0.7269 - val_loss: 5.7290 - val_acc: 0.7250\n",
      "Epoch 156/500\n",
      "1080/1080 [==============================] - 3s 2ms/step - loss: 5.7079 - acc: 0.7417 - val_loss: 5.6803 - val_acc: 0.7500\n",
      "Epoch 157/500\n",
      "1080/1080 [==============================] - 3s 3ms/step - loss: 5.6748 - acc: 0.7491 - val_loss: 5.7144 - val_acc: 0.7333\n",
      "Epoch 158/500\n",
      "1080/1080 [==============================] - 3s 2ms/step - loss: 5.6662 - acc: 0.7472 - val_loss: 5.6564 - val_acc: 0.7167\n",
      "Epoch 159/500\n",
      "1080/1080 [==============================] - 3s 2ms/step - loss: 5.6668 - acc: 0.7463 - val_loss: 5.6228 - val_acc: 0.7750\n",
      "Epoch 160/500\n",
      "1080/1080 [==============================] - 3s 2ms/step - loss: 5.6719 - acc: 0.7194 - val_loss: 5.6098 - val_acc: 0.7750\n",
      "Epoch 161/500\n",
      "1080/1080 [==============================] - 3s 2ms/step - loss: 5.6713 - acc: 0.7296 - val_loss: 5.6920 - val_acc: 0.7500\n",
      "Epoch 162/500\n",
      "1080/1080 [==============================] - 3s 2ms/step - loss: 5.6799 - acc: 0.7435 - val_loss: 5.5976 - val_acc: 0.7750\n",
      "Epoch 163/500\n",
      "1080/1080 [==============================] - 3s 2ms/step - loss: 5.6352 - acc: 0.7500 - val_loss: 5.6540 - val_acc: 0.7750\n",
      "Epoch 164/500\n",
      "1080/1080 [==============================] - 3s 2ms/step - loss: 5.6002 - acc: 0.7676 - val_loss: 5.5698 - val_acc: 0.7667\n",
      "Epoch 165/500\n",
      "1080/1080 [==============================] - 3s 2ms/step - loss: 5.6441 - acc: 0.7370 - val_loss: 5.5723 - val_acc: 0.7750\n",
      "Epoch 166/500\n",
      "1080/1080 [==============================] - 3s 2ms/step - loss: 5.5940 - acc: 0.7639 - val_loss: 5.5738 - val_acc: 0.7750\n",
      "Epoch 167/500\n",
      "1080/1080 [==============================] - 3s 2ms/step - loss: 5.5879 - acc: 0.7602 - val_loss: 5.5610 - val_acc: 0.8000\n",
      "Epoch 168/500\n",
      "1080/1080 [==============================] - 3s 2ms/step - loss: 5.5772 - acc: 0.7713 - val_loss: 5.5459 - val_acc: 0.7750\n",
      "Epoch 169/500\n",
      "1080/1080 [==============================] - 3s 2ms/step - loss: 5.5404 - acc: 0.7796 - val_loss: 5.6114 - val_acc: 0.7417\n",
      "Epoch 170/500\n",
      "1080/1080 [==============================] - 3s 2ms/step - loss: 5.5623 - acc: 0.7602 - val_loss: 5.5141 - val_acc: 0.8167\n",
      "Epoch 171/500\n",
      "1080/1080 [==============================] - 3s 2ms/step - loss: 5.5533 - acc: 0.7676 - val_loss: 5.5271 - val_acc: 0.7750\n",
      "Epoch 172/500\n",
      "1080/1080 [==============================] - 3s 2ms/step - loss: 5.5377 - acc: 0.7843 - val_loss: 5.5312 - val_acc: 0.7750\n",
      "Epoch 173/500\n",
      "1080/1080 [==============================] - 3s 2ms/step - loss: 5.5158 - acc: 0.7806 - val_loss: 5.5327 - val_acc: 0.8000\n",
      "Epoch 174/500\n",
      "1080/1080 [==============================] - 3s 2ms/step - loss: 5.4928 - acc: 0.7917 - val_loss: 5.5218 - val_acc: 0.8000\n",
      "Epoch 175/500\n",
      "1080/1080 [==============================] - 3s 2ms/step - loss: 5.4862 - acc: 0.8009 - val_loss: 5.4848 - val_acc: 0.7750\n",
      "Epoch 176/500\n",
      "1080/1080 [==============================] - 3s 2ms/step - loss: 5.4664 - acc: 0.7954 - val_loss: 5.4844 - val_acc: 0.7750\n",
      "Epoch 177/500\n",
      "1080/1080 [==============================] - 3s 2ms/step - loss: 5.4565 - acc: 0.8046 - val_loss: 5.4671 - val_acc: 0.7917\n",
      "Epoch 178/500\n",
      "1080/1080 [==============================] - 3s 2ms/step - loss: 5.4641 - acc: 0.7954 - val_loss: 5.4766 - val_acc: 0.7833\n",
      "Epoch 179/500\n",
      "1080/1080 [==============================] - 3s 2ms/step - loss: 5.4870 - acc: 0.7741 - val_loss: 5.5202 - val_acc: 0.7750\n",
      "Epoch 180/500\n",
      "1080/1080 [==============================] - 3s 2ms/step - loss: 5.4313 - acc: 0.7981 - val_loss: 5.4242 - val_acc: 0.8167\n"
     ]
    },
    {
     "name": "stdout",
     "output_type": "stream",
     "text": [
      "Epoch 181/500\n",
      "1080/1080 [==============================] - 3s 2ms/step - loss: 5.4438 - acc: 0.7935 - val_loss: 5.4221 - val_acc: 0.8083\n",
      "Epoch 182/500\n",
      "1080/1080 [==============================] - 3s 2ms/step - loss: 5.4259 - acc: 0.7917 - val_loss: 5.5007 - val_acc: 0.7583\n",
      "Epoch 183/500\n",
      "1080/1080 [==============================] - 3s 2ms/step - loss: 5.4054 - acc: 0.7954 - val_loss: 5.4130 - val_acc: 0.8167\n",
      "Epoch 184/500\n",
      "1080/1080 [==============================] - 3s 2ms/step - loss: 5.4128 - acc: 0.8019 - val_loss: 5.6201 - val_acc: 0.7667\n",
      "Epoch 185/500\n",
      "1080/1080 [==============================] - 3s 2ms/step - loss: 5.4029 - acc: 0.8102 - val_loss: 5.4158 - val_acc: 0.8000\n",
      "Epoch 186/500\n",
      "1080/1080 [==============================] - 3s 2ms/step - loss: 5.3946 - acc: 0.8019 - val_loss: 5.3840 - val_acc: 0.8167\n",
      "Epoch 187/500\n",
      "1080/1080 [==============================] - 3s 2ms/step - loss: 5.3588 - acc: 0.8093 - val_loss: 5.3937 - val_acc: 0.8083\n",
      "Epoch 188/500\n",
      "1080/1080 [==============================] - 3s 2ms/step - loss: 5.3297 - acc: 0.8324 - val_loss: 5.3794 - val_acc: 0.7917\n",
      "Epoch 189/500\n",
      "1080/1080 [==============================] - 3s 2ms/step - loss: 5.3750 - acc: 0.8056 - val_loss: 5.3550 - val_acc: 0.8250\n",
      "Epoch 190/500\n",
      "1080/1080 [==============================] - 3s 2ms/step - loss: 5.3485 - acc: 0.8139 - val_loss: 5.3455 - val_acc: 0.8250\n",
      "Epoch 191/500\n",
      "1080/1080 [==============================] - 3s 2ms/step - loss: 5.3218 - acc: 0.8148 - val_loss: 5.4213 - val_acc: 0.7833\n",
      "Epoch 192/500\n",
      "1080/1080 [==============================] - 3s 2ms/step - loss: 5.3555 - acc: 0.8259 - val_loss: 5.3407 - val_acc: 0.8167\n",
      "Epoch 193/500\n",
      "1080/1080 [==============================] - 3s 2ms/step - loss: 5.3130 - acc: 0.8185 - val_loss: 5.3504 - val_acc: 0.8083\n",
      "Epoch 194/500\n",
      "1080/1080 [==============================] - 3s 2ms/step - loss: 5.2800 - acc: 0.8352 - val_loss: 5.3089 - val_acc: 0.8250\n",
      "Epoch 195/500\n",
      "1080/1080 [==============================] - 3s 2ms/step - loss: 5.2950 - acc: 0.8306 - val_loss: 5.3314 - val_acc: 0.7833\n",
      "Epoch 196/500\n",
      "1080/1080 [==============================] - 3s 2ms/step - loss: 5.2874 - acc: 0.8315 - val_loss: 5.3075 - val_acc: 0.8000\n",
      "Epoch 197/500\n",
      "1080/1080 [==============================] - 3s 2ms/step - loss: 5.2960 - acc: 0.8083 - val_loss: 5.2815 - val_acc: 0.8500\n",
      "Epoch 198/500\n",
      "1080/1080 [==============================] - 3s 2ms/step - loss: 5.2586 - acc: 0.8370 - val_loss: 5.3505 - val_acc: 0.7667\n",
      "Epoch 199/500\n",
      "1080/1080 [==============================] - 3s 2ms/step - loss: 5.2547 - acc: 0.8278 - val_loss: 5.3023 - val_acc: 0.8083\n",
      "Epoch 200/500\n",
      "1080/1080 [==============================] - 3s 2ms/step - loss: 5.2338 - acc: 0.8481 - val_loss: 5.2963 - val_acc: 0.8167\n",
      "Epoch 201/500\n",
      "1080/1080 [==============================] - 3s 2ms/step - loss: 5.2439 - acc: 0.8306 - val_loss: 5.2576 - val_acc: 0.8500\n",
      "Epoch 202/500\n",
      "1080/1080 [==============================] - 3s 2ms/step - loss: 5.2509 - acc: 0.8370 - val_loss: 5.3496 - val_acc: 0.7583\n",
      "Epoch 203/500\n",
      "1080/1080 [==============================] - 3s 2ms/step - loss: 5.2247 - acc: 0.8380 - val_loss: 5.2359 - val_acc: 0.8250\n",
      "Epoch 204/500\n",
      "1080/1080 [==============================] - 3s 2ms/step - loss: 5.2053 - acc: 0.8380 - val_loss: 5.2743 - val_acc: 0.8083\n",
      "Epoch 205/500\n",
      "1080/1080 [==============================] - 3s 2ms/step - loss: 5.1848 - acc: 0.8398 - val_loss: 5.2505 - val_acc: 0.8417\n",
      "Epoch 206/500\n",
      "1080/1080 [==============================] - 3s 2ms/step - loss: 5.2050 - acc: 0.8333 - val_loss: 5.2360 - val_acc: 0.8417\n",
      "Epoch 207/500\n",
      "1080/1080 [==============================] - 3s 2ms/step - loss: 5.1660 - acc: 0.8630 - val_loss: 5.2416 - val_acc: 0.8083\n",
      "Epoch 208/500\n",
      "1080/1080 [==============================] - 3s 2ms/step - loss: 5.1432 - acc: 0.8667 - val_loss: 5.2046 - val_acc: 0.8250\n",
      "Epoch 209/500\n",
      "1080/1080 [==============================] - 3s 2ms/step - loss: 5.1677 - acc: 0.8519 - val_loss: 5.2266 - val_acc: 0.8333\n",
      "Epoch 210/500\n",
      "1080/1080 [==============================] - 3s 2ms/step - loss: 5.1598 - acc: 0.8537 - val_loss: 5.2120 - val_acc: 0.8250\n",
      "Epoch 211/500\n",
      "1080/1080 [==============================] - 3s 2ms/step - loss: 5.1546 - acc: 0.8444 - val_loss: 5.2646 - val_acc: 0.8250\n",
      "Epoch 212/500\n",
      "1080/1080 [==============================] - 3s 2ms/step - loss: 5.1185 - acc: 0.8583 - val_loss: 5.2501 - val_acc: 0.8167\n",
      "Epoch 213/500\n",
      "1080/1080 [==============================] - 3s 2ms/step - loss: 5.1154 - acc: 0.8731 - val_loss: 5.1925 - val_acc: 0.8333\n",
      "Epoch 214/500\n",
      "1080/1080 [==============================] - 3s 2ms/step - loss: 5.1028 - acc: 0.8704 - val_loss: 5.1500 - val_acc: 0.8417\n",
      "Epoch 215/500\n",
      "1080/1080 [==============================] - 3s 2ms/step - loss: 5.1186 - acc: 0.8602 - val_loss: 5.2038 - val_acc: 0.8333\n",
      "Epoch 216/500\n",
      "1080/1080 [==============================] - 3s 2ms/step - loss: 5.0803 - acc: 0.8639 - val_loss: 5.1493 - val_acc: 0.8333\n",
      "Epoch 217/500\n",
      "1080/1080 [==============================] - 3s 2ms/step - loss: 5.0720 - acc: 0.8685 - val_loss: 5.1480 - val_acc: 0.8667\n",
      "Epoch 218/500\n",
      "1080/1080 [==============================] - 3s 2ms/step - loss: 5.0594 - acc: 0.8787 - val_loss: 5.1191 - val_acc: 0.8667\n",
      "Epoch 219/500\n",
      "1080/1080 [==============================] - 3s 2ms/step - loss: 5.0737 - acc: 0.8667 - val_loss: 5.1291 - val_acc: 0.8417\n",
      "Epoch 220/500\n",
      "1080/1080 [==============================] - 3s 2ms/step - loss: 5.0733 - acc: 0.8602 - val_loss: 5.0977 - val_acc: 0.8500\n",
      "Epoch 221/500\n",
      "1080/1080 [==============================] - 3s 2ms/step - loss: 5.0435 - acc: 0.8870 - val_loss: 5.2451 - val_acc: 0.8250\n",
      "Epoch 222/500\n",
      "1080/1080 [==============================] - 3s 2ms/step - loss: 5.0813 - acc: 0.8546 - val_loss: 5.2000 - val_acc: 0.8250\n",
      "Epoch 223/500\n",
      "1080/1080 [==============================] - 3s 2ms/step - loss: 5.0243 - acc: 0.8852 - val_loss: 5.0871 - val_acc: 0.8583\n",
      "Epoch 224/500\n",
      "1080/1080 [==============================] - 3s 2ms/step - loss: 5.0390 - acc: 0.8750 - val_loss: 5.1203 - val_acc: 0.8333\n",
      "Epoch 225/500\n",
      "1080/1080 [==============================] - 3s 2ms/step - loss: 5.0267 - acc: 0.8778 - val_loss: 5.0927 - val_acc: 0.8667\n",
      "Epoch 226/500\n",
      "1080/1080 [==============================] - 3s 2ms/step - loss: 5.0051 - acc: 0.8806 - val_loss: 5.0717 - val_acc: 0.8583\n",
      "Epoch 227/500\n",
      "1080/1080 [==============================] - 3s 2ms/step - loss: 5.0191 - acc: 0.8815 - val_loss: 5.1523 - val_acc: 0.8000\n",
      "Epoch 228/500\n",
      "1080/1080 [==============================] - 3s 2ms/step - loss: 5.0052 - acc: 0.8750 - val_loss: 5.2027 - val_acc: 0.8167\n",
      "Epoch 229/500\n",
      "1080/1080 [==============================] - 3s 2ms/step - loss: 4.9836 - acc: 0.8833 - val_loss: 5.0740 - val_acc: 0.8667\n",
      "Epoch 230/500\n",
      "1080/1080 [==============================] - 3s 2ms/step - loss: 4.9745 - acc: 0.8889 - val_loss: 5.0897 - val_acc: 0.8250\n",
      "Epoch 231/500\n",
      "1080/1080 [==============================] - 3s 2ms/step - loss: 4.9513 - acc: 0.8935 - val_loss: 5.0441 - val_acc: 0.8583\n",
      "Epoch 232/500\n",
      "1080/1080 [==============================] - 3s 2ms/step - loss: 4.9574 - acc: 0.8935 - val_loss: 5.0678 - val_acc: 0.8500\n",
      "Epoch 233/500\n",
      "1080/1080 [==============================] - 3s 2ms/step - loss: 4.9286 - acc: 0.9083 - val_loss: 5.0444 - val_acc: 0.8500\n",
      "Epoch 234/500\n",
      "1080/1080 [==============================] - 3s 2ms/step - loss: 4.9459 - acc: 0.9037 - val_loss: 5.0384 - val_acc: 0.8833\n",
      "Epoch 235/500\n",
      "1080/1080 [==============================] - 3s 2ms/step - loss: 4.9297 - acc: 0.8991 - val_loss: 5.0305 - val_acc: 0.8833\n",
      "Epoch 236/500\n",
      "1080/1080 [==============================] - 3s 2ms/step - loss: 4.9139 - acc: 0.9046 - val_loss: 5.0574 - val_acc: 0.8417\n",
      "Epoch 237/500\n",
      "1080/1080 [==============================] - 3s 2ms/step - loss: 4.9204 - acc: 0.8944 - val_loss: 5.0224 - val_acc: 0.8583\n",
      "Epoch 238/500\n",
      "1080/1080 [==============================] - 3s 2ms/step - loss: 4.9059 - acc: 0.9009 - val_loss: 4.9784 - val_acc: 0.8917\n",
      "Epoch 239/500\n",
      "1080/1080 [==============================] - 3s 2ms/step - loss: 4.9164 - acc: 0.8963 - val_loss: 5.0171 - val_acc: 0.8417\n",
      "Epoch 240/500\n",
      "1080/1080 [==============================] - 3s 2ms/step - loss: 4.9379 - acc: 0.8889 - val_loss: 5.0350 - val_acc: 0.8250\n"
     ]
    },
    {
     "name": "stdout",
     "output_type": "stream",
     "text": [
      "Epoch 241/500\n",
      "1080/1080 [==============================] - 3s 2ms/step - loss: 4.8586 - acc: 0.9269 - val_loss: 4.9839 - val_acc: 0.8750\n",
      "Epoch 242/500\n",
      "1080/1080 [==============================] - 3s 2ms/step - loss: 4.9199 - acc: 0.8787 - val_loss: 4.9761 - val_acc: 0.8833\n",
      "Epoch 243/500\n",
      "1080/1080 [==============================] - 3s 2ms/step - loss: 4.8749 - acc: 0.9037 - val_loss: 4.9752 - val_acc: 0.8833\n",
      "Epoch 244/500\n",
      "1080/1080 [==============================] - 3s 2ms/step - loss: 4.8719 - acc: 0.9037 - val_loss: 4.9429 - val_acc: 0.8833\n",
      "Epoch 245/500\n",
      "1080/1080 [==============================] - 3s 2ms/step - loss: 4.8470 - acc: 0.9130 - val_loss: 5.1329 - val_acc: 0.8083\n",
      "Epoch 246/500\n",
      "1080/1080 [==============================] - 3s 2ms/step - loss: 4.8639 - acc: 0.9028 - val_loss: 4.9873 - val_acc: 0.8250\n",
      "Epoch 247/500\n",
      "1080/1080 [==============================] - 3s 2ms/step - loss: 4.8325 - acc: 0.9120 - val_loss: 4.9645 - val_acc: 0.8583\n",
      "Epoch 248/500\n",
      "1080/1080 [==============================] - 3s 2ms/step - loss: 4.8163 - acc: 0.9176 - val_loss: 4.9712 - val_acc: 0.8667\n",
      "Epoch 249/500\n",
      "1080/1080 [==============================] - 3s 2ms/step - loss: 4.8291 - acc: 0.9139 - val_loss: 4.9663 - val_acc: 0.8583\n",
      "Epoch 250/500\n",
      "1080/1080 [==============================] - 3s 2ms/step - loss: 4.8480 - acc: 0.8991 - val_loss: 4.9447 - val_acc: 0.8833\n",
      "Epoch 251/500\n",
      "1080/1080 [==============================] - 3s 2ms/step - loss: 4.8156 - acc: 0.9176 - val_loss: 4.9105 - val_acc: 0.8750\n",
      "Epoch 252/500\n",
      "1080/1080 [==============================] - 3s 2ms/step - loss: 4.8156 - acc: 0.9157 - val_loss: 4.9785 - val_acc: 0.8583\n",
      "Epoch 253/500\n",
      "1080/1080 [==============================] - 3s 2ms/step - loss: 4.7810 - acc: 0.9250 - val_loss: 4.9193 - val_acc: 0.8833\n",
      "Epoch 254/500\n",
      "1080/1080 [==============================] - 3s 2ms/step - loss: 4.7748 - acc: 0.9176 - val_loss: 4.9470 - val_acc: 0.8583\n",
      "Epoch 255/500\n",
      "1080/1080 [==============================] - 3s 2ms/step - loss: 4.7945 - acc: 0.9185 - val_loss: 4.8991 - val_acc: 0.8750\n",
      "Epoch 256/500\n",
      "1080/1080 [==============================] - 3s 2ms/step - loss: 4.7777 - acc: 0.9176 - val_loss: 4.8981 - val_acc: 0.8750\n",
      "Epoch 257/500\n",
      "1080/1080 [==============================] - 3s 2ms/step - loss: 4.7476 - acc: 0.9287 - val_loss: 4.8842 - val_acc: 0.8917\n",
      "Epoch 258/500\n",
      "1080/1080 [==============================] - 3s 2ms/step - loss: 4.7738 - acc: 0.9111 - val_loss: 4.9078 - val_acc: 0.8583\n",
      "Epoch 259/500\n",
      "1080/1080 [==============================] - 3s 2ms/step - loss: 4.7444 - acc: 0.9241 - val_loss: 4.9538 - val_acc: 0.8417\n",
      "Epoch 260/500\n",
      "1080/1080 [==============================] - 3s 2ms/step - loss: 4.7437 - acc: 0.9250 - val_loss: 4.8551 - val_acc: 0.8833\n",
      "Epoch 261/500\n",
      "1080/1080 [==============================] - 3s 2ms/step - loss: 4.7458 - acc: 0.9278 - val_loss: 4.8529 - val_acc: 0.9000\n",
      "Epoch 262/500\n",
      "1080/1080 [==============================] - 3s 2ms/step - loss: 4.7162 - acc: 0.9417 - val_loss: 4.8449 - val_acc: 0.8750\n",
      "Epoch 263/500\n",
      "1080/1080 [==============================] - 3s 2ms/step - loss: 4.7167 - acc: 0.9213 - val_loss: 4.8406 - val_acc: 0.8750\n",
      "Epoch 264/500\n",
      "1080/1080 [==============================] - 3s 2ms/step - loss: 4.7123 - acc: 0.9315 - val_loss: 4.8619 - val_acc: 0.9000\n",
      "Epoch 265/500\n",
      "1080/1080 [==============================] - 3s 2ms/step - loss: 4.7123 - acc: 0.9222 - val_loss: 4.8665 - val_acc: 0.8583\n",
      "Epoch 266/500\n",
      "1080/1080 [==============================] - 3s 2ms/step - loss: 4.6874 - acc: 0.9454 - val_loss: 4.8437 - val_acc: 0.8917\n",
      "Epoch 267/500\n",
      "1080/1080 [==============================] - 3s 2ms/step - loss: 4.6936 - acc: 0.9324 - val_loss: 4.8770 - val_acc: 0.8667\n",
      "Epoch 268/500\n",
      "1080/1080 [==============================] - 3s 2ms/step - loss: 4.6966 - acc: 0.9306 - val_loss: 4.8056 - val_acc: 0.9000\n",
      "Epoch 269/500\n",
      "1080/1080 [==============================] - 3s 2ms/step - loss: 4.6736 - acc: 0.9343 - val_loss: 4.7860 - val_acc: 0.9000\n",
      "Epoch 270/500\n",
      "1080/1080 [==============================] - 3s 2ms/step - loss: 4.6816 - acc: 0.9324 - val_loss: 4.7876 - val_acc: 0.8917\n",
      "Epoch 271/500\n",
      "1080/1080 [==============================] - 3s 2ms/step - loss: 4.6616 - acc: 0.9389 - val_loss: 4.8317 - val_acc: 0.8583\n",
      "Epoch 272/500\n",
      "1080/1080 [==============================] - 3s 2ms/step - loss: 4.6556 - acc: 0.9398 - val_loss: 4.7940 - val_acc: 0.8917\n",
      "Epoch 273/500\n",
      "1080/1080 [==============================] - 3s 2ms/step - loss: 4.6718 - acc: 0.9278 - val_loss: 4.7872 - val_acc: 0.9000\n",
      "Epoch 274/500\n",
      "1080/1080 [==============================] - 3s 2ms/step - loss: 4.6658 - acc: 0.9324 - val_loss: 4.7788 - val_acc: 0.8833\n",
      "Epoch 275/500\n",
      "1080/1080 [==============================] - 3s 2ms/step - loss: 4.6567 - acc: 0.9269 - val_loss: 4.8883 - val_acc: 0.8583\n",
      "Epoch 276/500\n",
      "1080/1080 [==============================] - 3s 2ms/step - loss: 4.6498 - acc: 0.9352 - val_loss: 5.0035 - val_acc: 0.8500\n",
      "Epoch 277/500\n",
      "1080/1080 [==============================] - 3s 2ms/step - loss: 4.6630 - acc: 0.9213 - val_loss: 4.7857 - val_acc: 0.8667\n",
      "Epoch 278/500\n",
      "1080/1080 [==============================] - 3s 2ms/step - loss: 4.6241 - acc: 0.9417 - val_loss: 4.9029 - val_acc: 0.8417\n",
      "Epoch 279/500\n",
      "1080/1080 [==============================] - 3s 2ms/step - loss: 4.6218 - acc: 0.9407 - val_loss: 4.7609 - val_acc: 0.8917\n",
      "Epoch 280/500\n",
      "1080/1080 [==============================] - 3s 2ms/step - loss: 4.6122 - acc: 0.9370 - val_loss: 4.7249 - val_acc: 0.9167\n",
      "Epoch 281/500\n",
      "1080/1080 [==============================] - 3s 2ms/step - loss: 4.6127 - acc: 0.9417 - val_loss: 4.7715 - val_acc: 0.9000\n",
      "Epoch 282/500\n",
      "1080/1080 [==============================] - 3s 2ms/step - loss: 4.6050 - acc: 0.9426 - val_loss: 4.7803 - val_acc: 0.8833\n",
      "Epoch 283/500\n",
      "1080/1080 [==============================] - 3s 2ms/step - loss: 4.6029 - acc: 0.9407 - val_loss: 4.8457 - val_acc: 0.8833\n",
      "Epoch 284/500\n",
      "1080/1080 [==============================] - 3s 2ms/step - loss: 4.5859 - acc: 0.9398 - val_loss: 4.7277 - val_acc: 0.8833\n",
      "Epoch 285/500\n",
      "1080/1080 [==============================] - 3s 2ms/step - loss: 4.5770 - acc: 0.9426 - val_loss: 4.8721 - val_acc: 0.8667\n",
      "Epoch 286/500\n",
      "1080/1080 [==============================] - 3s 2ms/step - loss: 4.5858 - acc: 0.9370 - val_loss: 4.7444 - val_acc: 0.8833\n",
      "Epoch 287/500\n",
      "1080/1080 [==============================] - 3s 2ms/step - loss: 4.5664 - acc: 0.9491 - val_loss: 4.7245 - val_acc: 0.9083\n",
      "Epoch 288/500\n",
      "1080/1080 [==============================] - 3s 2ms/step - loss: 4.5824 - acc: 0.9417 - val_loss: 4.7443 - val_acc: 0.9000\n",
      "Epoch 289/500\n",
      "1080/1080 [==============================] - 3s 2ms/step - loss: 4.5659 - acc: 0.9481 - val_loss: 4.6643 - val_acc: 0.9250\n",
      "Epoch 290/500\n",
      "1080/1080 [==============================] - 3s 2ms/step - loss: 4.5631 - acc: 0.9407 - val_loss: 4.7709 - val_acc: 0.8833\n",
      "Epoch 291/500\n",
      "1080/1080 [==============================] - 3s 2ms/step - loss: 4.5329 - acc: 0.9537 - val_loss: 4.7730 - val_acc: 0.8333\n",
      "Epoch 292/500\n",
      "1080/1080 [==============================] - 3s 2ms/step - loss: 4.5461 - acc: 0.9481 - val_loss: 4.7476 - val_acc: 0.8750\n",
      "Epoch 293/500\n",
      "1080/1080 [==============================] - 3s 2ms/step - loss: 4.5304 - acc: 0.9528 - val_loss: 4.7247 - val_acc: 0.9000\n",
      "Epoch 294/500\n",
      "1080/1080 [==============================] - 3s 2ms/step - loss: 4.5424 - acc: 0.9491 - val_loss: 4.7507 - val_acc: 0.8750\n",
      "Epoch 295/500\n",
      "1080/1080 [==============================] - 3s 2ms/step - loss: 4.5584 - acc: 0.9370 - val_loss: 4.7327 - val_acc: 0.8917\n",
      "Epoch 296/500\n",
      "1080/1080 [==============================] - 3s 2ms/step - loss: 4.5278 - acc: 0.9528 - val_loss: 4.6790 - val_acc: 0.9000\n",
      "Epoch 297/500\n",
      "1080/1080 [==============================] - 3s 2ms/step - loss: 4.5085 - acc: 0.9583 - val_loss: 4.6865 - val_acc: 0.9000\n",
      "Epoch 298/500\n",
      "1080/1080 [==============================] - 3s 2ms/step - loss: 4.5048 - acc: 0.9537 - val_loss: 4.6988 - val_acc: 0.9000\n",
      "Epoch 299/500\n",
      "1080/1080 [==============================] - 3s 2ms/step - loss: 4.5099 - acc: 0.9528 - val_loss: 4.6973 - val_acc: 0.8833\n",
      "Epoch 300/500\n",
      "1080/1080 [==============================] - 3s 2ms/step - loss: 4.5148 - acc: 0.9444 - val_loss: 4.6873 - val_acc: 0.8583\n"
     ]
    },
    {
     "name": "stdout",
     "output_type": "stream",
     "text": [
      "Epoch 301/500\n",
      "1080/1080 [==============================] - 3s 2ms/step - loss: 4.4817 - acc: 0.9583 - val_loss: 4.6827 - val_acc: 0.8917\n",
      "Epoch 302/500\n",
      "1080/1080 [==============================] - 3s 2ms/step - loss: 4.4812 - acc: 0.9602 - val_loss: 4.6811 - val_acc: 0.9167\n",
      "Epoch 303/500\n",
      "1080/1080 [==============================] - 3s 2ms/step - loss: 4.4836 - acc: 0.9519 - val_loss: 4.6278 - val_acc: 0.9000\n",
      "Epoch 304/500\n",
      "1080/1080 [==============================] - 3s 2ms/step - loss: 4.4998 - acc: 0.9398 - val_loss: 4.7059 - val_acc: 0.8750\n",
      "Epoch 305/500\n",
      "1080/1080 [==============================] - 3s 2ms/step - loss: 4.4749 - acc: 0.9546 - val_loss: 4.6553 - val_acc: 0.8833\n",
      "Epoch 306/500\n",
      "1080/1080 [==============================] - 3s 2ms/step - loss: 4.4538 - acc: 0.9648 - val_loss: 4.6955 - val_acc: 0.8833\n",
      "Epoch 307/500\n",
      "1080/1080 [==============================] - 3s 2ms/step - loss: 4.4826 - acc: 0.9491 - val_loss: 4.6130 - val_acc: 0.9167\n",
      "Epoch 308/500\n",
      "1080/1080 [==============================] - 3s 2ms/step - loss: 4.4731 - acc: 0.9509 - val_loss: 4.6008 - val_acc: 0.9167\n",
      "Epoch 309/500\n",
      "1080/1080 [==============================] - 3s 2ms/step - loss: 4.4249 - acc: 0.9750 - val_loss: 4.6585 - val_acc: 0.9000\n",
      "Epoch 310/500\n",
      "1080/1080 [==============================] - 3s 2ms/step - loss: 4.4364 - acc: 0.9602 - val_loss: 4.6054 - val_acc: 0.9000\n",
      "Epoch 311/500\n",
      "1080/1080 [==============================] - 3s 2ms/step - loss: 4.4401 - acc: 0.9519 - val_loss: 4.6038 - val_acc: 0.9000\n",
      "Epoch 312/500\n",
      "1080/1080 [==============================] - 3s 2ms/step - loss: 4.4374 - acc: 0.9583 - val_loss: 4.5794 - val_acc: 0.9083\n",
      "Epoch 313/500\n",
      "1080/1080 [==============================] - 3s 2ms/step - loss: 4.4291 - acc: 0.9639 - val_loss: 4.5918 - val_acc: 0.9083\n",
      "Epoch 314/500\n",
      "1080/1080 [==============================] - 3s 2ms/step - loss: 4.4117 - acc: 0.9630 - val_loss: 4.5947 - val_acc: 0.8667\n",
      "Epoch 315/500\n",
      "1080/1080 [==============================] - 3s 2ms/step - loss: 4.4174 - acc: 0.9565 - val_loss: 4.5674 - val_acc: 0.9000\n",
      "Epoch 316/500\n",
      "1080/1080 [==============================] - 3s 2ms/step - loss: 4.3935 - acc: 0.9676 - val_loss: 4.5853 - val_acc: 0.9167\n",
      "Epoch 317/500\n",
      "1080/1080 [==============================] - 3s 2ms/step - loss: 4.4055 - acc: 0.9648 - val_loss: 4.7166 - val_acc: 0.8667\n",
      "Epoch 318/500\n",
      "1080/1080 [==============================] - 3s 2ms/step - loss: 4.4010 - acc: 0.9639 - val_loss: 4.5797 - val_acc: 0.9000\n",
      "Epoch 319/500\n",
      "1080/1080 [==============================] - 3s 2ms/step - loss: 4.3995 - acc: 0.9602 - val_loss: 4.6177 - val_acc: 0.8750\n",
      "Epoch 320/500\n",
      "1080/1080 [==============================] - 3s 2ms/step - loss: 4.4013 - acc: 0.9556 - val_loss: 4.5613 - val_acc: 0.9000\n",
      "Epoch 321/500\n",
      "1080/1080 [==============================] - 3s 2ms/step - loss: 4.3905 - acc: 0.9583 - val_loss: 4.6167 - val_acc: 0.9083\n",
      "Epoch 322/500\n",
      "1080/1080 [==============================] - 3s 2ms/step - loss: 4.3834 - acc: 0.9630 - val_loss: 4.5403 - val_acc: 0.9167\n",
      "Epoch 323/500\n",
      "1080/1080 [==============================] - 3s 2ms/step - loss: 4.3695 - acc: 0.9648 - val_loss: 4.5404 - val_acc: 0.9167\n",
      "Epoch 324/500\n",
      "1080/1080 [==============================] - 3s 2ms/step - loss: 4.3639 - acc: 0.9611 - val_loss: 4.6337 - val_acc: 0.9000\n",
      "Epoch 325/500\n",
      "1080/1080 [==============================] - 3s 2ms/step - loss: 4.3763 - acc: 0.9546 - val_loss: 4.5757 - val_acc: 0.9000\n",
      "Epoch 326/500\n",
      "1080/1080 [==============================] - 3s 2ms/step - loss: 4.3506 - acc: 0.9694 - val_loss: 4.5556 - val_acc: 0.9083\n",
      "Epoch 327/500\n",
      "1080/1080 [==============================] - 3s 2ms/step - loss: 4.3580 - acc: 0.9667 - val_loss: 4.6296 - val_acc: 0.8917\n",
      "Epoch 328/500\n",
      "1080/1080 [==============================] - 3s 2ms/step - loss: 4.3420 - acc: 0.9731 - val_loss: 4.5999 - val_acc: 0.8917\n",
      "Epoch 329/500\n",
      "1080/1080 [==============================] - 3s 2ms/step - loss: 4.3444 - acc: 0.9611 - val_loss: 4.5623 - val_acc: 0.9083\n",
      "Epoch 330/500\n",
      "1080/1080 [==============================] - 3s 2ms/step - loss: 4.3393 - acc: 0.9620 - val_loss: 4.5380 - val_acc: 0.9000\n",
      "Epoch 331/500\n",
      "1080/1080 [==============================] - 3s 2ms/step - loss: 4.3260 - acc: 0.9722 - val_loss: 4.5681 - val_acc: 0.8917\n",
      "Epoch 332/500\n",
      "1080/1080 [==============================] - 3s 2ms/step - loss: 4.3382 - acc: 0.9648 - val_loss: 4.5510 - val_acc: 0.9000\n",
      "Epoch 333/500\n",
      "1080/1080 [==============================] - 3s 2ms/step - loss: 4.3148 - acc: 0.9667 - val_loss: 4.5401 - val_acc: 0.9167\n",
      "Epoch 334/500\n",
      "1080/1080 [==============================] - 3s 2ms/step - loss: 4.3158 - acc: 0.9657 - val_loss: 4.5138 - val_acc: 0.9167\n",
      "Epoch 335/500\n",
      "1080/1080 [==============================] - 3s 2ms/step - loss: 4.3339 - acc: 0.9657 - val_loss: 4.6324 - val_acc: 0.8917\n",
      "Epoch 336/500\n",
      "1080/1080 [==============================] - 3s 2ms/step - loss: 4.2990 - acc: 0.9676 - val_loss: 4.5835 - val_acc: 0.9000\n",
      "Epoch 337/500\n",
      "1080/1080 [==============================] - 3s 2ms/step - loss: 4.3106 - acc: 0.9620 - val_loss: 4.4846 - val_acc: 0.9083\n",
      "Epoch 338/500\n",
      "1080/1080 [==============================] - 3s 2ms/step - loss: 4.3093 - acc: 0.9639 - val_loss: 4.5107 - val_acc: 0.9250\n",
      "Epoch 339/500\n",
      "1080/1080 [==============================] - 3s 2ms/step - loss: 4.2893 - acc: 0.9741 - val_loss: 4.4852 - val_acc: 0.9167\n",
      "Epoch 340/500\n",
      "1080/1080 [==============================] - 3s 2ms/step - loss: 4.3092 - acc: 0.9611 - val_loss: 4.5149 - val_acc: 0.9083\n",
      "Epoch 341/500\n",
      "1080/1080 [==============================] - 3s 2ms/step - loss: 4.2819 - acc: 0.9667 - val_loss: 4.4615 - val_acc: 0.9083\n",
      "Epoch 342/500\n",
      "1080/1080 [==============================] - 3s 2ms/step - loss: 4.2805 - acc: 0.9750 - val_loss: 4.4490 - val_acc: 0.9417\n",
      "Epoch 343/500\n",
      "1080/1080 [==============================] - 3s 2ms/step - loss: 4.2907 - acc: 0.9630 - val_loss: 4.4714 - val_acc: 0.9333\n",
      "Epoch 344/500\n",
      "1080/1080 [==============================] - 3s 2ms/step - loss: 4.2673 - acc: 0.9713 - val_loss: 4.4769 - val_acc: 0.9083\n",
      "Epoch 345/500\n",
      "1080/1080 [==============================] - 3s 2ms/step - loss: 4.2648 - acc: 0.9713 - val_loss: 4.4484 - val_acc: 0.9250\n",
      "Epoch 346/500\n",
      "1080/1080 [==============================] - 3s 2ms/step - loss: 4.2481 - acc: 0.9806 - val_loss: 4.4563 - val_acc: 0.9250\n",
      "Epoch 347/500\n",
      "1080/1080 [==============================] - 3s 2ms/step - loss: 4.2591 - acc: 0.9713 - val_loss: 4.4810 - val_acc: 0.9167\n",
      "Epoch 348/500\n",
      "1080/1080 [==============================] - 3s 2ms/step - loss: 4.2542 - acc: 0.9704 - val_loss: 4.4391 - val_acc: 0.9167\n",
      "Epoch 349/500\n",
      "1080/1080 [==============================] - 3s 2ms/step - loss: 4.2384 - acc: 0.9750 - val_loss: 4.4509 - val_acc: 0.9000\n",
      "Epoch 350/500\n",
      "1080/1080 [==============================] - 3s 2ms/step - loss: 4.2365 - acc: 0.9778 - val_loss: 4.4571 - val_acc: 0.9250\n",
      "Epoch 351/500\n",
      "1080/1080 [==============================] - 3s 2ms/step - loss: 4.2374 - acc: 0.9731 - val_loss: 4.4927 - val_acc: 0.8917\n",
      "Epoch 352/500\n",
      "1080/1080 [==============================] - 3s 2ms/step - loss: 4.2501 - acc: 0.9676 - val_loss: 4.4698 - val_acc: 0.8917\n",
      "Epoch 353/500\n",
      "1080/1080 [==============================] - 3s 2ms/step - loss: 4.2388 - acc: 0.9667 - val_loss: 4.4081 - val_acc: 0.9333\n",
      "Epoch 354/500\n",
      "1080/1080 [==============================] - 3s 2ms/step - loss: 4.2103 - acc: 0.9824 - val_loss: 4.4327 - val_acc: 0.9167\n",
      "Epoch 355/500\n",
      "1080/1080 [==============================] - 3s 2ms/step - loss: 4.2218 - acc: 0.9731 - val_loss: 4.4754 - val_acc: 0.9000\n",
      "Epoch 356/500\n",
      "1080/1080 [==============================] - 3s 2ms/step - loss: 4.2237 - acc: 0.9694 - val_loss: 4.4430 - val_acc: 0.8833\n",
      "Epoch 357/500\n",
      "1080/1080 [==============================] - 3s 2ms/step - loss: 4.2129 - acc: 0.9704 - val_loss: 4.4345 - val_acc: 0.8833\n",
      "Epoch 358/500\n",
      "1080/1080 [==============================] - 3s 2ms/step - loss: 4.1972 - acc: 0.9787 - val_loss: 4.4074 - val_acc: 0.9250\n",
      "Epoch 359/500\n",
      "1080/1080 [==============================] - 3s 2ms/step - loss: 4.1863 - acc: 0.9815 - val_loss: 4.3789 - val_acc: 0.9417\n",
      "Epoch 360/500\n",
      "1080/1080 [==============================] - 3s 2ms/step - loss: 4.2102 - acc: 0.9676 - val_loss: 4.4008 - val_acc: 0.9167\n"
     ]
    },
    {
     "name": "stdout",
     "output_type": "stream",
     "text": [
      "Epoch 361/500\n",
      "1080/1080 [==============================] - 3s 2ms/step - loss: 4.2224 - acc: 0.9685 - val_loss: 4.3970 - val_acc: 0.9167\n",
      "Epoch 362/500\n",
      "1080/1080 [==============================] - 3s 2ms/step - loss: 4.1746 - acc: 0.9806 - val_loss: 4.3717 - val_acc: 0.9167\n",
      "Epoch 363/500\n",
      "1080/1080 [==============================] - 3s 2ms/step - loss: 4.1891 - acc: 0.9722 - val_loss: 4.4100 - val_acc: 0.8917\n",
      "Epoch 364/500\n",
      "1080/1080 [==============================] - 3s 2ms/step - loss: 4.1729 - acc: 0.9759 - val_loss: 4.4918 - val_acc: 0.8750\n",
      "Epoch 365/500\n",
      "1080/1080 [==============================] - 3s 2ms/step - loss: 4.1853 - acc: 0.9741 - val_loss: 4.4033 - val_acc: 0.9083\n",
      "Epoch 366/500\n",
      "1080/1080 [==============================] - 3s 2ms/step - loss: 4.1649 - acc: 0.9778 - val_loss: 4.4450 - val_acc: 0.9000\n",
      "Epoch 367/500\n",
      "1080/1080 [==============================] - 3s 2ms/step - loss: 4.1650 - acc: 0.9750 - val_loss: 4.3907 - val_acc: 0.8917\n",
      "Epoch 368/500\n",
      "1080/1080 [==============================] - 3s 2ms/step - loss: 4.1435 - acc: 0.9861 - val_loss: 4.3492 - val_acc: 0.9167\n",
      "Epoch 369/500\n",
      "1080/1080 [==============================] - 3s 2ms/step - loss: 4.1409 - acc: 0.9824 - val_loss: 4.3525 - val_acc: 0.9250\n",
      "Epoch 370/500\n",
      "1080/1080 [==============================] - 3s 2ms/step - loss: 4.1512 - acc: 0.9722 - val_loss: 4.3422 - val_acc: 0.9167\n",
      "Epoch 371/500\n",
      "1080/1080 [==============================] - 3s 2ms/step - loss: 4.1487 - acc: 0.9769 - val_loss: 4.3382 - val_acc: 0.9250\n",
      "Epoch 372/500\n",
      "1080/1080 [==============================] - 3s 2ms/step - loss: 4.1254 - acc: 0.9852 - val_loss: 4.3596 - val_acc: 0.9000\n",
      "Epoch 373/500\n",
      "1080/1080 [==============================] - 3s 2ms/step - loss: 4.1328 - acc: 0.9796 - val_loss: 4.3983 - val_acc: 0.9000\n",
      "Epoch 374/500\n",
      "1080/1080 [==============================] - 3s 2ms/step - loss: 4.1404 - acc: 0.9759 - val_loss: 4.3599 - val_acc: 0.9000\n",
      "Epoch 375/500\n",
      "1080/1080 [==============================] - 3s 2ms/step - loss: 4.1169 - acc: 0.9861 - val_loss: 4.3315 - val_acc: 0.9250\n",
      "Epoch 376/500\n",
      "1080/1080 [==============================] - 3s 2ms/step - loss: 4.1237 - acc: 0.9787 - val_loss: 4.3856 - val_acc: 0.9167\n",
      "Epoch 377/500\n",
      "1080/1080 [==============================] - 3s 2ms/step - loss: 4.1184 - acc: 0.9796 - val_loss: 4.3594 - val_acc: 0.9083\n",
      "Epoch 378/500\n",
      "1080/1080 [==============================] - 3s 2ms/step - loss: 4.1084 - acc: 0.9843 - val_loss: 4.3407 - val_acc: 0.9250\n",
      "Epoch 379/500\n",
      "1080/1080 [==============================] - 3s 2ms/step - loss: 4.0986 - acc: 0.9824 - val_loss: 4.3463 - val_acc: 0.9250\n",
      "Epoch 380/500\n",
      "1080/1080 [==============================] - 3s 2ms/step - loss: 4.0947 - acc: 0.9861 - val_loss: 4.3698 - val_acc: 0.9167\n",
      "Epoch 381/500\n",
      "1080/1080 [==============================] - 2s 2ms/step - loss: 4.0851 - acc: 0.9889 - val_loss: 4.3264 - val_acc: 0.9250\n",
      "Epoch 382/500\n",
      "1080/1080 [==============================] - 2s 2ms/step - loss: 4.0864 - acc: 0.9852 - val_loss: 4.4982 - val_acc: 0.8917\n",
      "Epoch 383/500\n",
      "1080/1080 [==============================] - 3s 2ms/step - loss: 4.1152 - acc: 0.9704 - val_loss: 4.3846 - val_acc: 0.8917\n",
      "Epoch 384/500\n",
      "1080/1080 [==============================] - 3s 2ms/step - loss: 4.0843 - acc: 0.9815 - val_loss: 4.2782 - val_acc: 0.9167\n",
      "Epoch 385/500\n",
      "1080/1080 [==============================] - 3s 2ms/step - loss: 4.0768 - acc: 0.9824 - val_loss: 4.3031 - val_acc: 0.9167\n",
      "Epoch 386/500\n",
      "1080/1080 [==============================] - 2s 2ms/step - loss: 4.0708 - acc: 0.9880 - val_loss: 4.2743 - val_acc: 0.9417\n",
      "Epoch 387/500\n",
      "1080/1080 [==============================] - 2s 2ms/step - loss: 4.0819 - acc: 0.9787 - val_loss: 4.3601 - val_acc: 0.9167\n",
      "Epoch 388/500\n",
      "1080/1080 [==============================] - 2s 2ms/step - loss: 4.0784 - acc: 0.9759 - val_loss: 4.4580 - val_acc: 0.8917\n",
      "Epoch 389/500\n",
      "1080/1080 [==============================] - 3s 2ms/step - loss: 4.0595 - acc: 0.9880 - val_loss: 4.2521 - val_acc: 0.9333\n",
      "Epoch 390/500\n",
      "1080/1080 [==============================] - 3s 2ms/step - loss: 4.0668 - acc: 0.9861 - val_loss: 4.2772 - val_acc: 0.9167\n",
      "Epoch 391/500\n",
      "1080/1080 [==============================] - 3s 2ms/step - loss: 4.0579 - acc: 0.9796 - val_loss: 4.2985 - val_acc: 0.9250\n",
      "Epoch 392/500\n",
      "1080/1080 [==============================] - 2s 2ms/step - loss: 4.0563 - acc: 0.9815 - val_loss: 4.3039 - val_acc: 0.8833\n",
      "Epoch 393/500\n",
      "1080/1080 [==============================] - 3s 2ms/step - loss: 4.0529 - acc: 0.9824 - val_loss: 4.2871 - val_acc: 0.9333\n",
      "Epoch 394/500\n",
      "1080/1080 [==============================] - 3s 2ms/step - loss: 4.0450 - acc: 0.9815 - val_loss: 4.2419 - val_acc: 0.9250\n",
      "Epoch 395/500\n",
      "1080/1080 [==============================] - 3s 2ms/step - loss: 4.0309 - acc: 0.9861 - val_loss: 4.2864 - val_acc: 0.9083\n",
      "Epoch 396/500\n",
      "1080/1080 [==============================] - 2s 2ms/step - loss: 4.0179 - acc: 0.9944 - val_loss: 4.2916 - val_acc: 0.9167\n",
      "Epoch 397/500\n",
      "1080/1080 [==============================] - 3s 2ms/step - loss: 4.0539 - acc: 0.9704 - val_loss: 4.2642 - val_acc: 0.9250\n",
      "Epoch 398/500\n",
      "1080/1080 [==============================] - 3s 2ms/step - loss: 4.0178 - acc: 0.9870 - val_loss: 4.2922 - val_acc: 0.9000\n",
      "Epoch 399/500\n",
      "1080/1080 [==============================] - 3s 2ms/step - loss: 4.0327 - acc: 0.9824 - val_loss: 4.2584 - val_acc: 0.9083\n",
      "Epoch 400/500\n",
      "1080/1080 [==============================] - 2s 2ms/step - loss: 4.0420 - acc: 0.9694 - val_loss: 4.3336 - val_acc: 0.8750\n",
      "Epoch 401/500\n",
      "1080/1080 [==============================] - 2s 2ms/step - loss: 4.0202 - acc: 0.9824 - val_loss: 4.2875 - val_acc: 0.8750\n",
      "Epoch 402/500\n",
      "1080/1080 [==============================] - 2s 2ms/step - loss: 4.0158 - acc: 0.9843 - val_loss: 4.2587 - val_acc: 0.9083\n",
      "Epoch 403/500\n",
      "1080/1080 [==============================] - 3s 2ms/step - loss: 4.0042 - acc: 0.9870 - val_loss: 4.2306 - val_acc: 0.9083\n",
      "Epoch 404/500\n",
      "1080/1080 [==============================] - 2s 2ms/step - loss: 3.9920 - acc: 0.9907 - val_loss: 4.2483 - val_acc: 0.9083\n",
      "Epoch 405/500\n",
      "1080/1080 [==============================] - 2s 2ms/step - loss: 3.9943 - acc: 0.9852 - val_loss: 4.2381 - val_acc: 0.9250\n",
      "Epoch 406/500\n",
      "1080/1080 [==============================] - 3s 2ms/step - loss: 3.9824 - acc: 0.9889 - val_loss: 4.2321 - val_acc: 0.9250\n",
      "Epoch 407/500\n",
      "1080/1080 [==============================] - 2s 2ms/step - loss: 3.9826 - acc: 0.9880 - val_loss: 4.2240 - val_acc: 0.9083\n",
      "Epoch 408/500\n",
      "1080/1080 [==============================] - 2s 2ms/step - loss: 3.9683 - acc: 0.9917 - val_loss: 4.2162 - val_acc: 0.9417\n",
      "Epoch 409/500\n",
      "1080/1080 [==============================] - 3s 2ms/step - loss: 3.9706 - acc: 0.9870 - val_loss: 4.3197 - val_acc: 0.9083\n",
      "Epoch 410/500\n",
      "1080/1080 [==============================] - 2s 2ms/step - loss: 3.9760 - acc: 0.9852 - val_loss: 4.2811 - val_acc: 0.9083\n",
      "Epoch 411/500\n",
      "1080/1080 [==============================] - 2s 2ms/step - loss: 3.9663 - acc: 0.9917 - val_loss: 4.2022 - val_acc: 0.9167\n",
      "Epoch 412/500\n",
      "1080/1080 [==============================] - 2s 2ms/step - loss: 3.9635 - acc: 0.9889 - val_loss: 4.2435 - val_acc: 0.9167\n",
      "Epoch 413/500\n",
      "1080/1080 [==============================] - 2s 2ms/step - loss: 3.9658 - acc: 0.9861 - val_loss: 4.1975 - val_acc: 0.9250\n",
      "Epoch 414/500\n",
      "1080/1080 [==============================] - 2s 2ms/step - loss: 3.9585 - acc: 0.9889 - val_loss: 4.2102 - val_acc: 0.9250\n",
      "Epoch 415/500\n",
      "1080/1080 [==============================] - 3s 2ms/step - loss: 3.9499 - acc: 0.9880 - val_loss: 4.2407 - val_acc: 0.9250\n",
      "Epoch 416/500\n",
      "1080/1080 [==============================] - 2s 2ms/step - loss: 3.9533 - acc: 0.9852 - val_loss: 4.1995 - val_acc: 0.9250\n",
      "Epoch 417/500\n",
      "1080/1080 [==============================] - 3s 2ms/step - loss: 3.9488 - acc: 0.9852 - val_loss: 4.2137 - val_acc: 0.9167\n",
      "Epoch 418/500\n",
      "1080/1080 [==============================] - 2s 2ms/step - loss: 3.9510 - acc: 0.9806 - val_loss: 4.1689 - val_acc: 0.9250\n",
      "Epoch 419/500\n",
      "1080/1080 [==============================] - 3s 2ms/step - loss: 3.9452 - acc: 0.9824 - val_loss: 4.1903 - val_acc: 0.9167\n",
      "Epoch 420/500\n",
      "1080/1080 [==============================] - 2s 2ms/step - loss: 3.9426 - acc: 0.9870 - val_loss: 4.1617 - val_acc: 0.9167\n"
     ]
    },
    {
     "name": "stdout",
     "output_type": "stream",
     "text": [
      "Epoch 421/500\n",
      "1080/1080 [==============================] - 3s 2ms/step - loss: 3.9337 - acc: 0.9861 - val_loss: 4.1620 - val_acc: 0.9250\n",
      "Epoch 422/500\n",
      "1080/1080 [==============================] - 2s 2ms/step - loss: 3.9257 - acc: 0.9843 - val_loss: 4.1466 - val_acc: 0.9250\n",
      "Epoch 423/500\n",
      "1080/1080 [==============================] - 3s 2ms/step - loss: 3.9388 - acc: 0.9759 - val_loss: 4.1576 - val_acc: 0.9250\n",
      "Epoch 424/500\n",
      "1080/1080 [==============================] - 3s 2ms/step - loss: 3.9237 - acc: 0.9852 - val_loss: 4.2082 - val_acc: 0.8917\n",
      "Epoch 425/500\n",
      "1080/1080 [==============================] - 2s 2ms/step - loss: 3.9205 - acc: 0.9870 - val_loss: 4.2170 - val_acc: 0.9167\n",
      "Epoch 426/500\n",
      "1080/1080 [==============================] - 3s 2ms/step - loss: 3.9041 - acc: 0.9917 - val_loss: 4.2317 - val_acc: 0.8667\n",
      "Epoch 427/500\n",
      "1080/1080 [==============================] - 2s 2ms/step - loss: 3.9011 - acc: 0.9917 - val_loss: 4.1447 - val_acc: 0.9167\n",
      "Epoch 428/500\n",
      "1080/1080 [==============================] - 3s 2ms/step - loss: 3.8991 - acc: 0.9907 - val_loss: 4.1463 - val_acc: 0.9250\n",
      "Epoch 429/500\n",
      "1080/1080 [==============================] - 2s 2ms/step - loss: 3.8999 - acc: 0.9880 - val_loss: 4.1919 - val_acc: 0.9083\n",
      "Epoch 430/500\n",
      "1080/1080 [==============================] - 3s 2ms/step - loss: 3.8958 - acc: 0.9880 - val_loss: 4.1323 - val_acc: 0.9167\n",
      "Epoch 431/500\n",
      "1080/1080 [==============================] - 2s 2ms/step - loss: 3.8890 - acc: 0.9870 - val_loss: 4.1074 - val_acc: 0.9333\n",
      "Epoch 432/500\n",
      "1080/1080 [==============================] - 3s 2ms/step - loss: 3.8803 - acc: 0.9935 - val_loss: 4.1339 - val_acc: 0.9167\n",
      "Epoch 433/500\n",
      "1080/1080 [==============================] - 2s 2ms/step - loss: 3.8890 - acc: 0.9861 - val_loss: 4.1571 - val_acc: 0.9167\n",
      "Epoch 434/500\n",
      "1080/1080 [==============================] - 3s 2ms/step - loss: 3.8745 - acc: 0.9926 - val_loss: 4.1382 - val_acc: 0.9167\n",
      "Epoch 435/500\n",
      "1080/1080 [==============================] - 3s 2ms/step - loss: 3.8742 - acc: 0.9852 - val_loss: 4.1450 - val_acc: 0.9083\n",
      "Epoch 436/500\n",
      "1080/1080 [==============================] - 3s 2ms/step - loss: 3.8581 - acc: 0.9954 - val_loss: 4.1051 - val_acc: 0.9167\n",
      "Epoch 437/500\n",
      "1080/1080 [==============================] - 2s 2ms/step - loss: 3.8729 - acc: 0.9861 - val_loss: 4.1404 - val_acc: 0.9333\n",
      "Epoch 438/500\n",
      "1080/1080 [==============================] - 2s 2ms/step - loss: 3.8581 - acc: 0.9907 - val_loss: 4.1133 - val_acc: 0.9083\n",
      "Epoch 439/500\n",
      "1080/1080 [==============================] - 2s 2ms/step - loss: 3.8566 - acc: 0.9889 - val_loss: 4.0806 - val_acc: 0.9250\n",
      "Epoch 440/500\n",
      "1080/1080 [==============================] - 2s 2ms/step - loss: 3.8663 - acc: 0.9833 - val_loss: 4.0664 - val_acc: 0.9167\n",
      "Epoch 441/500\n",
      "1080/1080 [==============================] - 2s 2ms/step - loss: 3.8595 - acc: 0.9861 - val_loss: 4.0652 - val_acc: 0.9167\n",
      "Epoch 442/500\n",
      "1080/1080 [==============================] - 3s 2ms/step - loss: 3.8498 - acc: 0.9907 - val_loss: 4.1243 - val_acc: 0.9083\n",
      "Epoch 443/500\n",
      "1080/1080 [==============================] - 3s 2ms/step - loss: 3.8478 - acc: 0.9907 - val_loss: 4.0736 - val_acc: 0.9333\n",
      "Epoch 444/500\n",
      "1080/1080 [==============================] - 2s 2ms/step - loss: 3.8333 - acc: 0.9935 - val_loss: 4.0770 - val_acc: 0.9333\n",
      "Epoch 445/500\n",
      "1080/1080 [==============================] - 2s 2ms/step - loss: 3.8295 - acc: 0.9917 - val_loss: 4.0824 - val_acc: 0.9333\n",
      "Epoch 446/500\n",
      "1080/1080 [==============================] - 3s 2ms/step - loss: 3.8332 - acc: 0.9898 - val_loss: 4.0962 - val_acc: 0.9333\n",
      "Epoch 447/500\n",
      "1080/1080 [==============================] - 3s 2ms/step - loss: 3.8311 - acc: 0.9907 - val_loss: 4.0892 - val_acc: 0.9250\n",
      "Epoch 448/500\n",
      "1080/1080 [==============================] - 3s 2ms/step - loss: 3.8233 - acc: 0.9898 - val_loss: 4.0941 - val_acc: 0.9250\n",
      "Epoch 449/500\n",
      "1080/1080 [==============================] - 3s 2ms/step - loss: 3.8166 - acc: 0.9935 - val_loss: 4.0461 - val_acc: 0.9083\n",
      "Epoch 450/500\n",
      "1080/1080 [==============================] - 2s 2ms/step - loss: 3.8099 - acc: 0.9926 - val_loss: 4.0745 - val_acc: 0.9333\n",
      "Epoch 451/500\n",
      "1080/1080 [==============================] - 2s 2ms/step - loss: 3.8205 - acc: 0.9833 - val_loss: 4.0945 - val_acc: 0.9000\n",
      "Epoch 452/500\n",
      "1080/1080 [==============================] - 3s 2ms/step - loss: 3.8024 - acc: 0.9907 - val_loss: 4.0702 - val_acc: 0.9167\n",
      "Epoch 453/500\n",
      "1080/1080 [==============================] - 2s 2ms/step - loss: 3.7980 - acc: 0.9944 - val_loss: 4.0906 - val_acc: 0.9167\n",
      "Epoch 454/500\n",
      "1080/1080 [==============================] - 2s 2ms/step - loss: 3.8048 - acc: 0.9870 - val_loss: 4.0550 - val_acc: 0.9333\n",
      "Epoch 455/500\n",
      "1080/1080 [==============================] - 3s 2ms/step - loss: 3.7890 - acc: 0.9935 - val_loss: 4.0617 - val_acc: 0.9167\n",
      "Epoch 456/500\n",
      "1080/1080 [==============================] - 2s 2ms/step - loss: 3.8007 - acc: 0.9870 - val_loss: 4.0452 - val_acc: 0.9250\n",
      "Epoch 457/500\n",
      "1080/1080 [==============================] - 2s 2ms/step - loss: 3.7793 - acc: 0.9944 - val_loss: 4.0144 - val_acc: 0.9250\n",
      "Epoch 458/500\n",
      "1080/1080 [==============================] - 2s 2ms/step - loss: 3.7869 - acc: 0.9870 - val_loss: 4.1031 - val_acc: 0.9250\n",
      "Epoch 459/500\n",
      "1080/1080 [==============================] - 2s 2ms/step - loss: 3.7810 - acc: 0.9926 - val_loss: 4.0404 - val_acc: 0.9333\n",
      "Epoch 460/500\n",
      "1080/1080 [==============================] - 2s 2ms/step - loss: 3.7778 - acc: 0.9861 - val_loss: 4.0015 - val_acc: 0.9250\n",
      "Epoch 461/500\n",
      "1080/1080 [==============================] - 2s 2ms/step - loss: 3.7714 - acc: 0.9898 - val_loss: 3.9925 - val_acc: 0.9333\n",
      "Epoch 462/500\n",
      "1080/1080 [==============================] - 3s 2ms/step - loss: 3.7665 - acc: 0.9889 - val_loss: 3.9911 - val_acc: 0.9333\n",
      "Epoch 463/500\n",
      "1080/1080 [==============================] - 2s 2ms/step - loss: 3.7583 - acc: 0.9963 - val_loss: 4.0252 - val_acc: 0.9250\n",
      "Epoch 464/500\n",
      "1080/1080 [==============================] - 2s 2ms/step - loss: 3.7549 - acc: 0.9954 - val_loss: 4.0019 - val_acc: 0.9333\n",
      "Epoch 465/500\n",
      "1080/1080 [==============================] - 3s 2ms/step - loss: 3.7530 - acc: 0.9898 - val_loss: 3.9933 - val_acc: 0.9250\n",
      "Epoch 466/500\n",
      "1080/1080 [==============================] - 2s 2ms/step - loss: 3.7496 - acc: 0.9954 - val_loss: 4.0476 - val_acc: 0.9000\n",
      "Epoch 467/500\n",
      "1080/1080 [==============================] - 3s 2ms/step - loss: 3.7539 - acc: 0.9907 - val_loss: 3.9741 - val_acc: 0.9250\n",
      "Epoch 468/500\n",
      "1080/1080 [==============================] - 3s 2ms/step - loss: 3.7414 - acc: 0.9935 - val_loss: 3.9816 - val_acc: 0.9250\n",
      "Epoch 469/500\n",
      "1080/1080 [==============================] - 3s 2ms/step - loss: 3.7349 - acc: 0.9954 - val_loss: 3.9727 - val_acc: 0.9417\n",
      "Epoch 470/500\n",
      "1080/1080 [==============================] - 2s 2ms/step - loss: 3.7384 - acc: 0.9898 - val_loss: 3.9472 - val_acc: 0.9250\n",
      "Epoch 471/500\n",
      "1080/1080 [==============================] - 2s 2ms/step - loss: 3.7322 - acc: 0.9898 - val_loss: 3.9667 - val_acc: 0.9167\n",
      "Epoch 472/500\n",
      "1080/1080 [==============================] - 2s 2ms/step - loss: 3.7242 - acc: 0.9954 - val_loss: 3.9648 - val_acc: 0.9167\n",
      "Epoch 473/500\n",
      "1080/1080 [==============================] - 2s 2ms/step - loss: 3.7329 - acc: 0.9898 - val_loss: 3.9444 - val_acc: 0.9333\n",
      "Epoch 474/500\n",
      "1080/1080 [==============================] - 2s 2ms/step - loss: 3.7323 - acc: 0.9833 - val_loss: 3.9723 - val_acc: 0.9333\n",
      "Epoch 475/500\n",
      "1080/1080 [==============================] - 2s 2ms/step - loss: 3.7242 - acc: 0.9898 - val_loss: 4.0173 - val_acc: 0.9167\n",
      "Epoch 476/500\n",
      "1080/1080 [==============================] - 2s 2ms/step - loss: 3.7115 - acc: 0.9963 - val_loss: 3.9688 - val_acc: 0.9167\n",
      "Epoch 477/500\n",
      "1080/1080 [==============================] - 2s 2ms/step - loss: 3.7130 - acc: 0.9880 - val_loss: 4.0292 - val_acc: 0.9250\n",
      "Epoch 478/500\n",
      "1080/1080 [==============================] - 2s 2ms/step - loss: 3.7013 - acc: 0.9926 - val_loss: 3.9650 - val_acc: 0.9333\n",
      "Epoch 479/500\n",
      "1080/1080 [==============================] - 3s 2ms/step - loss: 3.7052 - acc: 0.9917 - val_loss: 4.0307 - val_acc: 0.9417\n",
      "Epoch 480/500\n",
      "1080/1080 [==============================] - 3s 2ms/step - loss: 3.6930 - acc: 0.9963 - val_loss: 3.9362 - val_acc: 0.9250\n"
     ]
    },
    {
     "name": "stdout",
     "output_type": "stream",
     "text": [
      "Epoch 481/500\n",
      "1080/1080 [==============================] - 3s 2ms/step - loss: 3.6972 - acc: 0.9917 - val_loss: 3.9345 - val_acc: 0.9250\n",
      "Epoch 482/500\n",
      "1080/1080 [==============================] - 2s 2ms/step - loss: 3.6860 - acc: 0.9963 - val_loss: 3.9741 - val_acc: 0.9250\n",
      "Epoch 483/500\n",
      "1080/1080 [==============================] - 2s 2ms/step - loss: 3.6889 - acc: 0.9926 - val_loss: 3.9625 - val_acc: 0.9250\n",
      "Epoch 484/500\n",
      "1080/1080 [==============================] - 2s 2ms/step - loss: 3.6800 - acc: 0.9954 - val_loss: 3.9323 - val_acc: 0.9167\n",
      "Epoch 485/500\n",
      "1080/1080 [==============================] - 2s 2ms/step - loss: 3.6739 - acc: 0.9963 - val_loss: 4.0151 - val_acc: 0.9250\n",
      "Epoch 486/500\n",
      "1080/1080 [==============================] - 2s 2ms/step - loss: 3.6859 - acc: 0.9880 - val_loss: 3.9324 - val_acc: 0.9167\n",
      "Epoch 487/500\n",
      "1080/1080 [==============================] - 3s 2ms/step - loss: 3.6762 - acc: 0.9917 - val_loss: 3.9356 - val_acc: 0.9167\n",
      "Epoch 488/500\n",
      "1080/1080 [==============================] - 2s 2ms/step - loss: 3.6695 - acc: 0.9889 - val_loss: 3.9448 - val_acc: 0.9417\n",
      "Epoch 489/500\n",
      "1080/1080 [==============================] - 2s 2ms/step - loss: 3.6654 - acc: 0.9917 - val_loss: 3.9812 - val_acc: 0.9167\n",
      "Epoch 490/500\n",
      "1080/1080 [==============================] - 3s 2ms/step - loss: 3.6593 - acc: 0.9935 - val_loss: 3.9307 - val_acc: 0.9167\n",
      "Epoch 491/500\n",
      "1080/1080 [==============================] - 2s 2ms/step - loss: 3.6631 - acc: 0.9889 - val_loss: 3.9902 - val_acc: 0.9333\n",
      "Epoch 492/500\n",
      "1080/1080 [==============================] - 3s 2ms/step - loss: 3.6636 - acc: 0.9880 - val_loss: 4.0097 - val_acc: 0.9000\n",
      "Epoch 493/500\n",
      "1080/1080 [==============================] - 2s 2ms/step - loss: 3.6625 - acc: 0.9889 - val_loss: 3.9835 - val_acc: 0.9417\n",
      "Epoch 494/500\n",
      "1080/1080 [==============================] - 3s 2ms/step - loss: 3.6504 - acc: 0.9926 - val_loss: 3.9214 - val_acc: 0.9167\n",
      "Epoch 495/500\n",
      "1080/1080 [==============================] - 2s 2ms/step - loss: 3.6485 - acc: 0.9889 - val_loss: 3.8896 - val_acc: 0.9333\n",
      "Epoch 496/500\n",
      "1080/1080 [==============================] - 2s 2ms/step - loss: 3.6424 - acc: 0.9935 - val_loss: 3.8950 - val_acc: 0.9167\n",
      "Epoch 497/500\n",
      "1080/1080 [==============================] - 2s 2ms/step - loss: 3.6307 - acc: 0.9954 - val_loss: 3.8959 - val_acc: 0.9000\n",
      "Epoch 498/500\n",
      "1080/1080 [==============================] - 2s 2ms/step - loss: 3.6271 - acc: 0.9954 - val_loss: 3.8998 - val_acc: 0.9250\n",
      "Epoch 499/500\n",
      "1080/1080 [==============================] - 2s 2ms/step - loss: 3.6188 - acc: 0.9972 - val_loss: 3.8945 - val_acc: 0.9250\n",
      "Epoch 500/500\n",
      "1080/1080 [==============================] - 3s 2ms/step - loss: 3.6230 - acc: 0.9944 - val_loss: 3.9174 - val_acc: 0.9250\n",
      "1080/1080 [==============================] - 1s 959us/step\n"
     ]
    },
    {
     "data": {
      "text/plain": [
       "[3.59634092119005, 1.0]"
      ]
     },
     "execution_count": 19,
     "metadata": {},
     "output_type": "execute_result"
    },
    {
     "name": "stdout",
     "output_type": "stream",
     "text": [
      "120/120 [==============================] - 0s 967us/step\n"
     ]
    },
    {
     "data": {
      "text/plain": [
       "[3.9173765500386555, 0.925000003973643]"
      ]
     },
     "execution_count": 19,
     "metadata": {},
     "output_type": "execute_result"
    },
    {
     "data": {
      "text/plain": [
       "array([[ 14,   0,  55, 111,   0,   0],\n",
       "       [ 43,   0,  32, 105,   0,   0],\n",
       "       [ 13,   0,  81,  86,   0,   0],\n",
       "       [  0,   0,   1, 179,   0,   0],\n",
       "       [  5,   0,  50, 125,   0,   0],\n",
       "       [  9,   0,  23, 148,   0,   0]], dtype=int64)"
      ]
     },
     "execution_count": 19,
     "metadata": {},
     "output_type": "execute_result"
    },
    {
     "data": {
      "text/plain": [
       "array([[ 0,  0,  4, 16,  0,  0],\n",
       "       [ 3,  0,  3, 14,  0,  0],\n",
       "       [ 2,  0,  9,  9,  0,  0],\n",
       "       [ 0,  0,  0, 20,  0,  0],\n",
       "       [ 0,  0,  5, 15,  0,  0],\n",
       "       [ 0,  0,  6, 14,  0,  0]], dtype=int64)"
      ]
     },
     "execution_count": 19,
     "metadata": {},
     "output_type": "execute_result"
    },
    {
     "data": {
      "text/plain": [
       "[<matplotlib.lines.Line2D at 0x1b154374cf8>]"
      ]
     },
     "execution_count": 19,
     "metadata": {},
     "output_type": "execute_result"
    },
    {
     "data": {
      "text/plain": [
       "[<matplotlib.lines.Line2D at 0x1b147312b00>]"
      ]
     },
     "execution_count": 19,
     "metadata": {},
     "output_type": "execute_result"
    },
    {
     "data": {
      "text/plain": [
       "Text(0.5, 1.0, 'Model accuracy')"
      ]
     },
     "execution_count": 19,
     "metadata": {},
     "output_type": "execute_result"
    },
    {
     "data": {
      "text/plain": [
       "Text(0, 0.5, 'Accuracy')"
      ]
     },
     "execution_count": 19,
     "metadata": {},
     "output_type": "execute_result"
    },
    {
     "data": {
      "text/plain": [
       "Text(0.5, 0, 'Epoch')"
      ]
     },
     "execution_count": 19,
     "metadata": {},
     "output_type": "execute_result"
    },
    {
     "data": {
      "text/plain": [
       "<matplotlib.legend.Legend at 0x1b154d4c7f0>"
      ]
     },
     "execution_count": 19,
     "metadata": {},
     "output_type": "execute_result"
    },
    {
     "data": {
      "image/png": "[encoded data removed]",
      "text/plain": [
       "<Figure size 432x288 with 1 Axes>"
      ]
     },
     "metadata": {
      "needs_background": "light"
     },
     "output_type": "display_data"
    },
    {
     "data": {
      "text/plain": [
       "[<matplotlib.lines.Line2D at 0x1b1543ccef0>]"
      ]
     },
     "execution_count": 19,
     "metadata": {},
     "output_type": "execute_result"
    },
    {
     "data": {
      "text/plain": [
       "[<matplotlib.lines.Line2D at 0x1b1543817b8>]"
      ]
     },
     "execution_count": 19,
     "metadata": {},
     "output_type": "execute_result"
    },
    {
     "data": {
      "text/plain": [
       "Text(0.5, 1.0, 'Model loss')"
      ]
     },
     "execution_count": 19,
     "metadata": {},
     "output_type": "execute_result"
    },
    {
     "data": {
      "text/plain": [
       "Text(0, 0.5, 'Loss')"
      ]
     },
     "execution_count": 19,
     "metadata": {},
     "output_type": "execute_result"
    },
    {
     "data": {
      "text/plain": [
       "Text(0.5, 0, 'Epoch')"
      ]
     },
     "execution_count": 19,
     "metadata": {},
     "output_type": "execute_result"
    },
    {
     "data": {
      "text/plain": [
       "<matplotlib.legend.Legend at 0x1b1543d6438>"
      ]
     },
     "execution_count": 19,
     "metadata": {},
     "output_type": "execute_result"
    },
    {
     "data": {
      "image/png": "[encoded data removed]",
      "text/plain": [
       "<Figure size 432x288 with 1 Axes>"
      ]
     },
     "metadata": {
      "needs_background": "light"
     },
     "output_type": "display_data"
    }
   ],
   "source": [
    "# model5 (below) reached 92.5% validation accuracy\n",
    "# PLEASE USE THIS FOR THE BONUS POINTS    \n",
    "from keras import regularizers, layers, activations\n",
    "\n",
    "model5 = Sequential()\n",
    "model5.add(Dense(700, kernel_regularizer=regularizers.l2(0.001), input_shape = (x_train_pix.shape[1],), activation='relu'))\n",
    "model5.add(layers.Dropout(0.2))\n",
    "model5.add(Dense(800, kernel_regularizer=regularizers.l2(0.001),activation='relu'))\n",
    "model5.add(layers.Dropout(0.2))\n",
    "model5.add(Dense(900, kernel_regularizer=regularizers.l2(0.001),activation='relu'))\n",
    "model5.add(layers.Dropout(0.2))\n",
    "model5.add(Dense(900, kernel_regularizer=regularizers.l2(0.001),activation='relu'))\n",
    "model5.add(layers.Dropout(0.2))\n",
    "model5.add(Dense(900, kernel_regularizer=regularizers.l2(0.001),activation='relu'))\n",
    "model5.add(layers.Dropout(0.2))\n",
    "model5.add(Dense(800, kernel_regularizer=regularizers.l2(0.001),activation='relu'))\n",
    "model5.add(layers.Dropout(0.2))\n",
    "model5.add(Dense(700, kernel_regularizer=regularizers.l2(0.001),activation='relu'))\n",
    "model5.add(layers.Dropout(0.2))\n",
    "model5.add(Dense(6, kernel_regularizer=regularizers.l2(0.001),activation='softmax'))\n",
    "\n",
    "# Compile model\n",
    "model5.compile(loss='categorical_crossentropy', optimizer=keras.optimizers.Nadam(lr=0.0000075), metrics=['accuracy'])\n",
    "history = model5.fit(x_train_pix, onehotlabels_train, epochs=500, batch_size=100, \\\n",
    "          validation_data=(x_test_pix, onehotlabels_test))\n",
    "\n",
    "# predict values, calculate accuracy, and create confusion matrix for train and test\n",
    "train_pred = model.predict_classes(x_train_pix)\n",
    "test_pred = model.predict_classes(x_test_pix)\n",
    "\n",
    "model5.evaluate(x_train_pix, onehotlabels_train)\n",
    "model5.evaluate(x_test_pix, onehotlabels_test)\n",
    "\n",
    "metrics.confusion_matrix(y_train,train_pred)\n",
    "metrics.confusion_matrix(y_test,test_pred)\n",
    "\n",
    "# Plot training & validation accuracy values\n",
    "plt.plot(history.history['acc'])\n",
    "plt.plot(history.history['val_acc'])\n",
    "plt.title('Model accuracy')\n",
    "plt.ylabel('Accuracy')\n",
    "plt.xlabel('Epoch')\n",
    "plt.legend(['Train', 'Test'], loc='upper left')\n",
    "plt.show()\n",
    "\n",
    "# Plot training & validation loss values\n",
    "plt.plot(history.history['loss'])\n",
    "plt.plot(history.history['val_loss'])\n",
    "plt.title('Model loss')\n",
    "plt.ylabel('Loss')\n",
    "plt.xlabel('Epoch')\n",
    "plt.legend(['Train', 'Test'], loc='upper right')\n",
    "plt.show()"
   ]
  },
  {
   "cell_type": "code",
   "execution_count": null,
   "metadata": {},
   "outputs": [],
   "source": []
  }
 ],
 "metadata": {
  "kernelspec": {
   "display_name": "Python 3",
   "language": "python",
   "name": "python3"
  },
  "language_info": {
   "codemirror_mode": {
    "name": "ipython",
    "version": 3
   },
   "file_extension": ".py",
   "mimetype": "text/x-python",
   "name": "python",
   "nbconvert_exporter": "python",
   "pygments_lexer": "ipython3",
   "version": "3.7.3"
  }
 },
 "nbformat": 4,
 "nbformat_minor": 2
}
