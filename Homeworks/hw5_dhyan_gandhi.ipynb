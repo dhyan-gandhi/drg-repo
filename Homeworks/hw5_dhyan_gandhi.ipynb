{
 "cells": [
  {
   "cell_type": "markdown",
   "metadata": {},
   "source": [
    "# HW5: Diabetes against all ML\n",
    "In this homework, we will test all what we studied about classifications in the ML class using the diabetes dataset."
   ]
  },
  {
   "cell_type": "code",
   "execution_count": 1,
   "metadata": {
    "scrolled": true
   },
   "outputs": [],
   "source": [
    "# import libraries\n",
    "from IPython.core.interactiveshell import InteractiveShell\n",
    "InteractiveShell.ast_node_interactivity = \"all\"\n",
    "import numpy as np\n",
    "import pandas as pd\n",
    "import matplotlib.pyplot as plt\n",
    "from sklearn import metrics\n",
    "%matplotlib inline\n",
    "\n",
    "# data file is named 'diabetes_.csv'\n",
    "df = pd.read_csv('diabetes.csv')\n",
    "\n",
    "# separate the features from the targets\n",
    "features = df.drop(columns=['Outcome'])\n",
    "target = df['Outcome']\n",
    "\n",
    "# df.shape -> (768, 9)\n",
    "# features.shape -> (768, 8)\n",
    "# target.shape -> (768,)"
   ]
  },
  {
   "cell_type": "code",
   "execution_count": 2,
   "metadata": {},
   "outputs": [],
   "source": [
    "# create a function that will print and format all the requested scores\n",
    "def all_scores(true_train, pred_train, true_test, pred_test):\n",
    "    \n",
    "    print('ACCURACY:')\n",
    "    # accuracy score for train and test\n",
    "    print('train acc:',metrics.accuracy_score(true_train, pred_train))\n",
    "    print('test acc:',metrics.accuracy_score(true_test, pred_test))\n",
    "    \n",
    "    print('\\nPRECISION:')\n",
    "    # precision score for train and test\n",
    "    print('train precision:',metrics.precision_score(true_train, pred_train))\n",
    "    print('test precision:',metrics.precision_score(true_test, pred_test))\n",
    "    \n",
    "    print('\\nRECALL:')\n",
    "    # recall score for train and test\n",
    "    print('train recall:',metrics.recall_score(true_train, pred_train))\n",
    "    print('test recall:',metrics.recall_score(true_test, pred_test))\n",
    "    \n",
    "    print('\\nF1:')\n",
    "    # f1 score for train and test\n",
    "    print('train f1:',metrics.f1_score(true_train, pred_train))\n",
    "    print('test f1:',metrics.f1_score(true_test, pred_test))\n",
    "\n",
    "# function that plots the precision and accuracy curves\n",
    "def pre_acc_curves(true_test, test_prob):\n",
    "    thresholds = np.linspace(0.1,1,10)\n",
    "    precision_list=[]\n",
    "    accuracy_list=[]\n",
    "\n",
    "    # create the lists of points to plot for precision and accuracy\n",
    "    for threshold in thresholds:\n",
    "        pred_test = test_prob>=threshold\n",
    "        precision_list.append(metrics.precision_score(true_test, pred_test))\n",
    "        accuracy_list.append(metrics.accuracy_score(true_test, pred_test))\n",
    "\n",
    "    plt.figure()\n",
    "    plt.plot(thresholds, precision_list)\n",
    "    plt.plot(thresholds, accuracy_list, c='r')\n",
    "    plt.legend(['Precision', 'Accuracy'], loc='lower left')\n",
    "    plt.xticks(np.arange(0.1, 1.1, step=0.1))"
   ]
  },
  {
   "cell_type": "markdown",
   "metadata": {},
   "source": [
    "### PCA\n",
    "First we start with PCA. Using PCA, show the importance of each of the PCA dimensions on a bar plot. What is a reasonable number of dimensions in your opinion to obtain at least 95% explained_var_ratio?"
   ]
  },
  {
   "cell_type": "code",
   "execution_count": 3,
   "metadata": {},
   "outputs": [
    {
     "name": "stderr",
     "output_type": "stream",
     "text": [
      "E:\\Users\\Dhyan Gandhi\\Anaconda3\\lib\\site-packages\\sklearn\\preprocessing\\data.py:645: DataConversionWarning: Data with input dtype int64, float64 were all converted to float64 by StandardScaler.\n",
      "  return self.partial_fit(X, y)\n",
      "E:\\Users\\Dhyan Gandhi\\Anaconda3\\lib\\site-packages\\sklearn\\base.py:464: DataConversionWarning: Data with input dtype int64, float64 were all converted to float64 by StandardScaler.\n",
      "  return self.fit(X, **fit_params).transform(X)\n"
     ]
    },
    {
     "data": {
      "text/plain": [
       "PCA(copy=True, iterated_power='auto', n_components=0.95, random_state=None,\n",
       "  svd_solver='auto', tol=0.0, whiten=False)"
      ]
     },
     "execution_count": 3,
     "metadata": {},
     "output_type": "execute_result"
    },
    {
     "data": {
      "text/plain": [
       "array([0.26179749, 0.21640127, 0.12870373, 0.10944113, 0.09529305,\n",
       "       0.08532855, 0.05247702, 0.05055776])"
      ]
     },
     "execution_count": 3,
     "metadata": {},
     "output_type": "execute_result"
    },
    {
     "data": {
      "text/plain": [
       "<BarContainer object of 8 artists>"
      ]
     },
     "execution_count": 3,
     "metadata": {},
     "output_type": "execute_result"
    },
    {
     "data": {
      "image/png": "[encoded data removed]",
      "text/plain": [
       "<Figure size 432x288 with 1 Axes>"
      ]
     },
     "metadata": {
      "needs_background": "light"
     },
     "output_type": "display_data"
    }
   ],
   "source": [
    "from sklearn.decomposition import PCA\n",
    "from sklearn.preprocessing import StandardScaler\n",
    "\n",
    "# standarize the feature and use them move forward\n",
    "x = StandardScaler().fit_transform(features)\n",
    "\n",
    "# princple component analysis, retrieve components that explain\n",
    "# at least 95% of the the variance in the data\n",
    "pca = PCA(n_components=0.95)\n",
    "pca.fit(x)\n",
    "\n",
    "# plot the components by importance\n",
    "pca.explained_variance_ratio_\n",
    "plt.bar(np.arange(1,9,step=1), pca.explained_variance_ratio_)\n",
    "\n",
    "# if we conduct pca without scaling then we find that 2 principle components\n",
    "# are enough to explain 95% of the variance in the data. however it is better\n",
    "# practice to scale/standardize the data first before feeding it to pca."
   ]
  },
  {
   "cell_type": "markdown",
   "metadata": {},
   "source": [
    "## KMeans\n",
    "Do clustering using KMeans on the original dataset (not the PCA) using K=2. Calculate Homogonity and Completeness score. Is that a good clustering?"
   ]
  },
  {
   "cell_type": "code",
   "execution_count": 4,
   "metadata": {},
   "outputs": [
    {
     "name": "stdout",
     "output_type": "stream",
     "text": [
      "homogeneity: 0.062009620308069786\n",
      "completeness: 0.061486590826321706\n"
     ]
    }
   ],
   "source": [
    "from sklearn.cluster import KMeans\n",
    "\n",
    "# build and fit model, then predict with it\n",
    "kmeans = KMeans(n_clusters=2).fit(x)\n",
    "y_pred = kmeans.predict(x)\n",
    "\n",
    "# calculate cluster scores to see if we have good clustering\n",
    "print('homogeneity:',metrics.homogeneity_score(labels_true=target, labels_pred=y_pred))\n",
    "print('completeness:',metrics.completeness_score(labels_true=target, labels_pred=y_pred))\n",
    "\n",
    "# this does not appear to be good cluster as homogeneity and completeness\n",
    "# are both below 10%. the scores signify better clustering at the high end \n",
    "# of the score spectrum, however that threshold is tbd by the analyst."
   ]
  },
  {
   "cell_type": "markdown",
   "metadata": {},
   "source": [
    "### Split the data\n",
    "Split the original dataset (not the PCA) to have 30% test data"
   ]
  },
  {
   "cell_type": "code",
   "execution_count": 5,
   "metadata": {},
   "outputs": [],
   "source": [
    "from sklearn.model_selection import train_test_split\n",
    "\n",
    "# splitting the data in to train and test\n",
    "# note we are splitting scaled features\n",
    "x_train, x_test, y_train, y_test = train_test_split(x, target, test_size=0.3)\n",
    "\n",
    "# x_train.shape -> (537, 8)\n",
    "# y_train.shape -> (537,)\n",
    "# x_test.shape -> (231, 8)\n",
    "# y_test.shape -> (231,)"
   ]
  },
  {
   "cell_type": "markdown",
   "metadata": {},
   "source": [
    "### Logistic Regression\n",
    "Using LR, what is the accuracy, precision and recall and F1 score for the training and the test data? Plot the ROC curve"
   ]
  },
  {
   "cell_type": "code",
   "execution_count": 6,
   "metadata": {
    "scrolled": false
   },
   "outputs": [
    {
     "name": "stdout",
     "output_type": "stream",
     "text": [
      "ACCURACY:\n",
      "train acc: 0.7746741154562383\n",
      "test acc: 0.7878787878787878\n",
      "\n",
      "PRECISION:\n",
      "train precision: 0.7375\n",
      "test precision: 0.6833333333333333\n",
      "\n",
      "RECALL:\n",
      "train recall: 0.5989847715736041\n",
      "test recall: 0.5774647887323944\n",
      "\n",
      "F1:\n",
      "train f1: 0.6610644257703081\n",
      "test f1: 0.6259541984732825\n"
     ]
    },
    {
     "name": "stderr",
     "output_type": "stream",
     "text": [
      "E:\\Users\\Dhyan Gandhi\\Anaconda3\\lib\\site-packages\\sklearn\\linear_model\\logistic.py:433: FutureWarning: Default solver will be changed to 'lbfgs' in 0.22. Specify a solver to silence this warning.\n",
      "  FutureWarning)\n"
     ]
    },
    {
     "data": {
      "text/plain": [
       "[<matplotlib.lines.Line2D at 0x2e6600b4b38>]"
      ]
     },
     "execution_count": 6,
     "metadata": {},
     "output_type": "execute_result"
    },
    {
     "data": {
      "text/plain": [
       "[<matplotlib.lines.Line2D at 0x2e6600c4160>]"
      ]
     },
     "execution_count": 6,
     "metadata": {},
     "output_type": "execute_result"
    },
    {
     "data": {
      "text/plain": [
       "Text(0.5, 1.0, 'ROC curve')"
      ]
     },
     "execution_count": 6,
     "metadata": {},
     "output_type": "execute_result"
    },
    {
     "data": {
      "text/plain": [
       "Text(0.5, 0, 'False positve rate')"
      ]
     },
     "execution_count": 6,
     "metadata": {},
     "output_type": "execute_result"
    },
    {
     "data": {
      "text/plain": [
       "Text(0, 0.5, 'True positve rate')"
      ]
     },
     "execution_count": 6,
     "metadata": {},
     "output_type": "execute_result"
    },
    {
     "data": {
      "image/png": "[encoded data removed]",
      "text/plain": [
       "<Figure size 432x288 with 1 Axes>"
      ]
     },
     "metadata": {
      "needs_background": "light"
     },
     "output_type": "display_data"
    }
   ],
   "source": [
    "from sklearn.linear_model import LogisticRegression\n",
    "\n",
    "# build and fit the logistic model\n",
    "logreg = LogisticRegression().fit(x_train, y_train)\n",
    "\n",
    "# predict for train, predict and obtain probabilities for test\n",
    "train_pred = logreg.predict(x_train)\n",
    "test_pred = logreg.predict(x_test)\n",
    "prob_test = logreg.predict_proba(x_test) \n",
    "\n",
    "# print all the scores requested\n",
    "all_scores(y_train, train_pred, y_test, test_pred)\n",
    "\n",
    "# roc curve\n",
    "fpr, tpr, thresholds = metrics.roc_curve(y_test, prob_test[:,1])\n",
    "plt.plot([0, 1], [0, 1], 'k--')\n",
    "plt.plot(fpr, tpr)\n",
    "plt.title('ROC curve')\n",
    "plt.xlabel('False positve rate')\n",
    "plt.ylabel('True positve rate')"
   ]
  },
  {
   "cell_type": "markdown",
   "metadata": {},
   "source": [
    "plot the test precision curve and accuracy curve for decision thresholds between 0.1 to 1 with a step of 0.1"
   ]
  },
  {
   "cell_type": "code",
   "execution_count": 7,
   "metadata": {},
   "outputs": [
    {
     "name": "stderr",
     "output_type": "stream",
     "text": [
      "E:\\Users\\Dhyan Gandhi\\Anaconda3\\lib\\site-packages\\sklearn\\metrics\\classification.py:1143: UndefinedMetricWarning: Precision is ill-defined and being set to 0.0 due to no predicted samples.\n",
      "  'precision', 'predicted', average, warn_for)\n"
     ]
    },
    {
     "data": {
      "image/png": "[encoded data removed]",
      "text/plain": [
       "<Figure size 432x288 with 1 Axes>"
      ]
     },
     "metadata": {
      "needs_background": "light"
     },
     "output_type": "display_data"
    }
   ],
   "source": [
    "# plots the precision and accuracy curves\n",
    "pre_acc_curves(y_test, prob_test[:,1])"
   ]
  },
  {
   "cell_type": "markdown",
   "metadata": {},
   "source": [
    "## Deep Neural Networks\n",
    "Using Keras, build a DNN that has better accuracy than LR. What is the accuracy, precision and recall and F1 score for the training and the test data? Plot the ROC curve?"
   ]
  },
  {
   "cell_type": "code",
   "execution_count": 8,
   "metadata": {
    "scrolled": true
   },
   "outputs": [
    {
     "name": "stderr",
     "output_type": "stream",
     "text": [
      "Using TensorFlow backend.\n"
     ]
    },
    {
     "name": "stdout",
     "output_type": "stream",
     "text": [
      "WARNING:tensorflow:From E:\\Users\\Dhyan Gandhi\\Anaconda3\\lib\\site-packages\\tensorflow\\python\\framework\\op_def_library.py:263: colocate_with (from tensorflow.python.framework.ops) is deprecated and will be removed in a future version.\n",
      "Instructions for updating:\n",
      "Colocations handled automatically by placer.\n",
      "WARNING:tensorflow:From E:\\Users\\Dhyan Gandhi\\Anaconda3\\lib\\site-packages\\tensorflow\\python\\ops\\math_ops.py:3066: to_int32 (from tensorflow.python.ops.math_ops) is deprecated and will be removed in a future version.\n",
      "Instructions for updating:\n",
      "Use tf.cast instead.\n",
      "Train on 537 samples, validate on 231 samples\n",
      "Epoch 1/300\n",
      "537/537 [==============================] - 1s 1ms/step - loss: 0.9599 - acc: 0.4432 - val_loss: 0.9610 - val_acc: 0.4329\n",
      "Epoch 2/300\n",
      "537/537 [==============================] - 0s 32us/step - loss: 0.9563 - acc: 0.4507 - val_loss: 0.9574 - val_acc: 0.4719\n",
      "Epoch 3/300\n",
      "537/537 [==============================] - 0s 32us/step - loss: 0.9531 - acc: 0.4600 - val_loss: 0.9540 - val_acc: 0.4719\n",
      "Epoch 4/300\n",
      "537/537 [==============================] - 0s 32us/step - loss: 0.9501 - acc: 0.4786 - val_loss: 0.9507 - val_acc: 0.4805\n",
      "Epoch 5/300\n",
      "537/537 [==============================] - 0s 28us/step - loss: 0.9471 - acc: 0.4991 - val_loss: 0.9477 - val_acc: 0.5152\n",
      "Epoch 6/300\n",
      "537/537 [==============================] - 0s 34us/step - loss: 0.9444 - acc: 0.5047 - val_loss: 0.9447 - val_acc: 0.5238\n",
      "Epoch 7/300\n",
      "537/537 [==============================] - 0s 35us/step - loss: 0.9418 - acc: 0.5251 - val_loss: 0.9418 - val_acc: 0.5325\n",
      "Epoch 8/300\n",
      "537/537 [==============================] - 0s 30us/step - loss: 0.9392 - acc: 0.5382 - val_loss: 0.9391 - val_acc: 0.5455\n",
      "Epoch 9/300\n",
      "537/537 [==============================] - 0s 32us/step - loss: 0.9368 - acc: 0.5531 - val_loss: 0.9364 - val_acc: 0.5498\n",
      "Epoch 10/300\n",
      "537/537 [==============================] - 0s 30us/step - loss: 0.9344 - acc: 0.5605 - val_loss: 0.9338 - val_acc: 0.5671\n",
      "Epoch 11/300\n",
      "537/537 [==============================] - 0s 28us/step - loss: 0.9322 - acc: 0.5624 - val_loss: 0.9312 - val_acc: 0.5801\n",
      "Epoch 12/300\n",
      "537/537 [==============================] - 0s 28us/step - loss: 0.9298 - acc: 0.5754 - val_loss: 0.9285 - val_acc: 0.5887\n",
      "Epoch 13/300\n",
      "537/537 [==============================] - 0s 28us/step - loss: 0.9275 - acc: 0.5866 - val_loss: 0.9258 - val_acc: 0.6017\n",
      "Epoch 14/300\n",
      "537/537 [==============================] - 0s 26us/step - loss: 0.9250 - acc: 0.6015 - val_loss: 0.9230 - val_acc: 0.6104\n",
      "Epoch 15/300\n",
      "537/537 [==============================] - 0s 28us/step - loss: 0.9225 - acc: 0.6108 - val_loss: 0.9201 - val_acc: 0.6147\n",
      "Epoch 16/300\n",
      "537/537 [==============================] - 0s 28us/step - loss: 0.9200 - acc: 0.6182 - val_loss: 0.9173 - val_acc: 0.6190\n",
      "Epoch 17/300\n",
      "537/537 [==============================] - 0s 26us/step - loss: 0.9175 - acc: 0.6350 - val_loss: 0.9144 - val_acc: 0.6147\n",
      "Epoch 18/300\n",
      "537/537 [==============================] - 0s 28us/step - loss: 0.9149 - acc: 0.6518 - val_loss: 0.9114 - val_acc: 0.6494\n",
      "Epoch 19/300\n",
      "537/537 [==============================] - 0s 26us/step - loss: 0.9121 - acc: 0.6629 - val_loss: 0.9083 - val_acc: 0.6623\n",
      "Epoch 20/300\n",
      "537/537 [==============================] - 0s 28us/step - loss: 0.9093 - acc: 0.6611 - val_loss: 0.9051 - val_acc: 0.6623\n",
      "Epoch 21/300\n",
      "537/537 [==============================] - 0s 30us/step - loss: 0.9065 - acc: 0.6648 - val_loss: 0.9019 - val_acc: 0.6710\n",
      "Epoch 22/300\n",
      "537/537 [==============================] - 0s 30us/step - loss: 0.9038 - acc: 0.6667 - val_loss: 0.8985 - val_acc: 0.6926\n",
      "Epoch 23/300\n",
      "537/537 [==============================] - 0s 28us/step - loss: 0.9010 - acc: 0.6667 - val_loss: 0.8953 - val_acc: 0.6926\n",
      "Epoch 24/300\n",
      "537/537 [==============================] - 0s 30us/step - loss: 0.8980 - acc: 0.6629 - val_loss: 0.8920 - val_acc: 0.6926\n",
      "Epoch 25/300\n",
      "537/537 [==============================] - 0s 28us/step - loss: 0.8952 - acc: 0.6685 - val_loss: 0.8886 - val_acc: 0.7056\n",
      "Epoch 26/300\n",
      "537/537 [==============================] - 0s 28us/step - loss: 0.8923 - acc: 0.6667 - val_loss: 0.8854 - val_acc: 0.7056\n",
      "Epoch 27/300\n",
      "537/537 [==============================] - 0s 30us/step - loss: 0.8894 - acc: 0.6704 - val_loss: 0.8822 - val_acc: 0.7056\n",
      "Epoch 28/300\n",
      "537/537 [==============================] - 0s 34us/step - loss: 0.8867 - acc: 0.6704 - val_loss: 0.8789 - val_acc: 0.7056\n",
      "Epoch 29/300\n",
      "537/537 [==============================] - 0s 30us/step - loss: 0.8838 - acc: 0.6778 - val_loss: 0.8758 - val_acc: 0.7056\n",
      "Epoch 30/300\n",
      "537/537 [==============================] - 0s 30us/step - loss: 0.8809 - acc: 0.6760 - val_loss: 0.8728 - val_acc: 0.7100\n",
      "Epoch 31/300\n",
      "537/537 [==============================] - 0s 30us/step - loss: 0.8781 - acc: 0.6760 - val_loss: 0.8697 - val_acc: 0.7143\n",
      "Epoch 32/300\n",
      "537/537 [==============================] - 0s 28us/step - loss: 0.8752 - acc: 0.6872 - val_loss: 0.8667 - val_acc: 0.7229\n",
      "Epoch 33/300\n",
      "537/537 [==============================] - 0s 28us/step - loss: 0.8723 - acc: 0.6909 - val_loss: 0.8637 - val_acc: 0.7273\n",
      "Epoch 34/300\n",
      "537/537 [==============================] - 0s 30us/step - loss: 0.8696 - acc: 0.6909 - val_loss: 0.8606 - val_acc: 0.7229\n",
      "Epoch 35/300\n",
      "537/537 [==============================] - 0s 28us/step - loss: 0.8666 - acc: 0.6983 - val_loss: 0.8575 - val_acc: 0.7186\n",
      "Epoch 36/300\n",
      "537/537 [==============================] - 0s 26us/step - loss: 0.8637 - acc: 0.7039 - val_loss: 0.8546 - val_acc: 0.7186\n",
      "Epoch 37/300\n",
      "537/537 [==============================] - 0s 26us/step - loss: 0.8611 - acc: 0.7002 - val_loss: 0.8516 - val_acc: 0.7143\n",
      "Epoch 38/300\n",
      "537/537 [==============================] - 0s 26us/step - loss: 0.8584 - acc: 0.7002 - val_loss: 0.8487 - val_acc: 0.7186\n",
      "Epoch 39/300\n",
      "537/537 [==============================] - 0s 28us/step - loss: 0.8556 - acc: 0.7002 - val_loss: 0.8458 - val_acc: 0.7229\n",
      "Epoch 40/300\n",
      "537/537 [==============================] - 0s 28us/step - loss: 0.8530 - acc: 0.7039 - val_loss: 0.8431 - val_acc: 0.7186\n",
      "Epoch 41/300\n",
      "537/537 [==============================] - 0s 30us/step - loss: 0.8505 - acc: 0.7058 - val_loss: 0.8405 - val_acc: 0.7229\n",
      "Epoch 42/300\n",
      "537/537 [==============================] - 0s 26us/step - loss: 0.8480 - acc: 0.7039 - val_loss: 0.8378 - val_acc: 0.7229\n",
      "Epoch 43/300\n",
      "537/537 [==============================] - 0s 30us/step - loss: 0.8455 - acc: 0.7020 - val_loss: 0.8350 - val_acc: 0.7273\n",
      "Epoch 44/300\n",
      "537/537 [==============================] - 0s 30us/step - loss: 0.8430 - acc: 0.7002 - val_loss: 0.8323 - val_acc: 0.7273\n",
      "Epoch 45/300\n",
      "537/537 [==============================] - 0s 30us/step - loss: 0.8406 - acc: 0.6983 - val_loss: 0.8296 - val_acc: 0.7186\n",
      "Epoch 46/300\n",
      "537/537 [==============================] - 0s 28us/step - loss: 0.8381 - acc: 0.7002 - val_loss: 0.8269 - val_acc: 0.7273\n",
      "Epoch 47/300\n",
      "537/537 [==============================] - 0s 28us/step - loss: 0.8359 - acc: 0.7020 - val_loss: 0.8242 - val_acc: 0.7273\n",
      "Epoch 48/300\n",
      "537/537 [==============================] - 0s 30us/step - loss: 0.8334 - acc: 0.7058 - val_loss: 0.8218 - val_acc: 0.7229\n",
      "Epoch 49/300\n",
      "537/537 [==============================] - 0s 28us/step - loss: 0.8313 - acc: 0.7039 - val_loss: 0.8192 - val_acc: 0.7229\n",
      "Epoch 50/300\n",
      "537/537 [==============================] - 0s 29us/step - loss: 0.8291 - acc: 0.7058 - val_loss: 0.8167 - val_acc: 0.7186\n",
      "Epoch 51/300\n",
      "537/537 [==============================] - 0s 26us/step - loss: 0.8269 - acc: 0.7076 - val_loss: 0.8143 - val_acc: 0.7229\n",
      "Epoch 52/300\n",
      "537/537 [==============================] - 0s 26us/step - loss: 0.8247 - acc: 0.7058 - val_loss: 0.8120 - val_acc: 0.7273\n",
      "Epoch 53/300\n",
      "537/537 [==============================] - 0s 26us/step - loss: 0.8226 - acc: 0.7076 - val_loss: 0.8096 - val_acc: 0.7273\n",
      "Epoch 54/300\n",
      "537/537 [==============================] - 0s 26us/step - loss: 0.8205 - acc: 0.7076 - val_loss: 0.8072 - val_acc: 0.7273\n",
      "Epoch 55/300\n",
      "537/537 [==============================] - 0s 26us/step - loss: 0.8184 - acc: 0.7058 - val_loss: 0.8049 - val_acc: 0.7273\n",
      "Epoch 56/300\n",
      "537/537 [==============================] - 0s 26us/step - loss: 0.8163 - acc: 0.7020 - val_loss: 0.8026 - val_acc: 0.7273\n",
      "Epoch 57/300\n",
      "537/537 [==============================] - 0s 24us/step - loss: 0.8143 - acc: 0.7039 - val_loss: 0.8002 - val_acc: 0.7273\n",
      "Epoch 58/300\n",
      "537/537 [==============================] - 0s 24us/step - loss: 0.8122 - acc: 0.7039 - val_loss: 0.7980 - val_acc: 0.7273\n",
      "Epoch 59/300\n",
      "537/537 [==============================] - 0s 28us/step - loss: 0.8102 - acc: 0.7020 - val_loss: 0.7958 - val_acc: 0.7316\n",
      "Epoch 60/300\n",
      "537/537 [==============================] - 0s 28us/step - loss: 0.8081 - acc: 0.7076 - val_loss: 0.7936 - val_acc: 0.7316\n",
      "Epoch 61/300\n",
      "537/537 [==============================] - 0s 28us/step - loss: 0.8061 - acc: 0.7058 - val_loss: 0.7913 - val_acc: 0.7403\n",
      "Epoch 62/300\n",
      "537/537 [==============================] - 0s 26us/step - loss: 0.8041 - acc: 0.7095 - val_loss: 0.7890 - val_acc: 0.7403\n",
      "Epoch 63/300\n",
      "537/537 [==============================] - 0s 26us/step - loss: 0.8021 - acc: 0.7095 - val_loss: 0.7868 - val_acc: 0.7403\n",
      "Epoch 64/300\n",
      "537/537 [==============================] - 0s 26us/step - loss: 0.8001 - acc: 0.7076 - val_loss: 0.7848 - val_acc: 0.7403\n",
      "Epoch 65/300\n",
      "537/537 [==============================] - 0s 24us/step - loss: 0.7982 - acc: 0.7095 - val_loss: 0.7828 - val_acc: 0.7403\n",
      "Epoch 66/300\n",
      "537/537 [==============================] - 0s 26us/step - loss: 0.7963 - acc: 0.7114 - val_loss: 0.7808 - val_acc: 0.7446\n",
      "Epoch 67/300\n",
      "537/537 [==============================] - 0s 24us/step - loss: 0.7944 - acc: 0.7132 - val_loss: 0.7787 - val_acc: 0.7446\n",
      "Epoch 68/300\n",
      "537/537 [==============================] - 0s 24us/step - loss: 0.7925 - acc: 0.7114 - val_loss: 0.7768 - val_acc: 0.7489\n",
      "Epoch 69/300\n",
      "537/537 [==============================] - 0s 24us/step - loss: 0.7907 - acc: 0.7132 - val_loss: 0.7750 - val_acc: 0.7489\n",
      "Epoch 70/300\n",
      "537/537 [==============================] - 0s 24us/step - loss: 0.7889 - acc: 0.7169 - val_loss: 0.7730 - val_acc: 0.7489\n",
      "Epoch 71/300\n",
      "537/537 [==============================] - 0s 24us/step - loss: 0.7871 - acc: 0.7169 - val_loss: 0.7712 - val_acc: 0.7489\n",
      "Epoch 72/300\n",
      "537/537 [==============================] - 0s 24us/step - loss: 0.7853 - acc: 0.7188 - val_loss: 0.7693 - val_acc: 0.7489\n",
      "Epoch 73/300\n",
      "537/537 [==============================] - 0s 24us/step - loss: 0.7836 - acc: 0.7188 - val_loss: 0.7673 - val_acc: 0.7532\n",
      "Epoch 74/300\n",
      "537/537 [==============================] - 0s 22us/step - loss: 0.7817 - acc: 0.7188 - val_loss: 0.7653 - val_acc: 0.7532\n",
      "Epoch 75/300\n",
      "537/537 [==============================] - 0s 24us/step - loss: 0.7801 - acc: 0.7169 - val_loss: 0.7633 - val_acc: 0.7576\n",
      "Epoch 76/300\n",
      "537/537 [==============================] - 0s 24us/step - loss: 0.7782 - acc: 0.7169 - val_loss: 0.7614 - val_acc: 0.7576\n",
      "Epoch 77/300\n",
      "537/537 [==============================] - 0s 24us/step - loss: 0.7764 - acc: 0.7151 - val_loss: 0.7595 - val_acc: 0.7576\n",
      "Epoch 78/300\n",
      "537/537 [==============================] - 0s 26us/step - loss: 0.7746 - acc: 0.7169 - val_loss: 0.7575 - val_acc: 0.7576\n",
      "Epoch 79/300\n",
      "537/537 [==============================] - 0s 24us/step - loss: 0.7729 - acc: 0.7169 - val_loss: 0.7555 - val_acc: 0.7576\n",
      "Epoch 80/300\n",
      "537/537 [==============================] - 0s 26us/step - loss: 0.7712 - acc: 0.7169 - val_loss: 0.7536 - val_acc: 0.7576\n",
      "Epoch 81/300\n",
      "537/537 [==============================] - 0s 26us/step - loss: 0.7695 - acc: 0.7169 - val_loss: 0.7518 - val_acc: 0.7576\n",
      "Epoch 82/300\n",
      "537/537 [==============================] - 0s 26us/step - loss: 0.7678 - acc: 0.7188 - val_loss: 0.7501 - val_acc: 0.7619\n",
      "Epoch 83/300\n",
      "537/537 [==============================] - 0s 24us/step - loss: 0.7661 - acc: 0.7207 - val_loss: 0.7483 - val_acc: 0.7619\n",
      "Epoch 84/300\n",
      "537/537 [==============================] - 0s 24us/step - loss: 0.7645 - acc: 0.7207 - val_loss: 0.7467 - val_acc: 0.7662\n",
      "Epoch 85/300\n",
      "537/537 [==============================] - 0s 26us/step - loss: 0.7629 - acc: 0.7225 - val_loss: 0.7450 - val_acc: 0.7662\n",
      "Epoch 86/300\n",
      "537/537 [==============================] - 0s 24us/step - loss: 0.7613 - acc: 0.7225 - val_loss: 0.7433 - val_acc: 0.7706\n",
      "Epoch 87/300\n",
      "537/537 [==============================] - 0s 24us/step - loss: 0.7597 - acc: 0.7244 - val_loss: 0.7417 - val_acc: 0.7749\n",
      "Epoch 88/300\n",
      "537/537 [==============================] - 0s 24us/step - loss: 0.7583 - acc: 0.7281 - val_loss: 0.7401 - val_acc: 0.7749\n",
      "Epoch 89/300\n",
      "537/537 [==============================] - 0s 24us/step - loss: 0.7567 - acc: 0.7281 - val_loss: 0.7385 - val_acc: 0.7749\n",
      "Epoch 90/300\n",
      "537/537 [==============================] - 0s 24us/step - loss: 0.7553 - acc: 0.7318 - val_loss: 0.7370 - val_acc: 0.7749\n",
      "Epoch 91/300\n",
      "537/537 [==============================] - 0s 24us/step - loss: 0.7538 - acc: 0.7318 - val_loss: 0.7355 - val_acc: 0.7749\n",
      "Epoch 92/300\n",
      "537/537 [==============================] - 0s 26us/step - loss: 0.7524 - acc: 0.7318 - val_loss: 0.7341 - val_acc: 0.7749\n",
      "Epoch 93/300\n",
      "537/537 [==============================] - 0s 26us/step - loss: 0.7509 - acc: 0.7356 - val_loss: 0.7326 - val_acc: 0.7749\n",
      "Epoch 94/300\n",
      "537/537 [==============================] - 0s 24us/step - loss: 0.7496 - acc: 0.7337 - val_loss: 0.7310 - val_acc: 0.7749\n",
      "Epoch 95/300\n",
      "537/537 [==============================] - 0s 24us/step - loss: 0.7480 - acc: 0.7337 - val_loss: 0.7296 - val_acc: 0.7749\n",
      "Epoch 96/300\n",
      "537/537 [==============================] - 0s 26us/step - loss: 0.7466 - acc: 0.7337 - val_loss: 0.7282 - val_acc: 0.7749\n",
      "Epoch 97/300\n",
      "537/537 [==============================] - 0s 24us/step - loss: 0.7453 - acc: 0.7356 - val_loss: 0.7269 - val_acc: 0.7749\n",
      "Epoch 98/300\n",
      "537/537 [==============================] - 0s 26us/step - loss: 0.7439 - acc: 0.7356 - val_loss: 0.7256 - val_acc: 0.7749\n",
      "Epoch 99/300\n",
      "537/537 [==============================] - 0s 26us/step - loss: 0.7426 - acc: 0.7356 - val_loss: 0.7243 - val_acc: 0.7749\n",
      "Epoch 100/300\n",
      "537/537 [==============================] - 0s 26us/step - loss: 0.7412 - acc: 0.7374 - val_loss: 0.7231 - val_acc: 0.7749\n",
      "Epoch 101/300\n",
      "537/537 [==============================] - 0s 28us/step - loss: 0.7399 - acc: 0.7374 - val_loss: 0.7218 - val_acc: 0.7749\n",
      "Epoch 102/300\n",
      "537/537 [==============================] - 0s 28us/step - loss: 0.7386 - acc: 0.7393 - val_loss: 0.7206 - val_acc: 0.7749\n",
      "Epoch 103/300\n",
      "537/537 [==============================] - 0s 26us/step - loss: 0.7373 - acc: 0.7412 - val_loss: 0.7193 - val_acc: 0.7706\n",
      "Epoch 104/300\n",
      "537/537 [==============================] - 0s 24us/step - loss: 0.7360 - acc: 0.7412 - val_loss: 0.7180 - val_acc: 0.7706\n",
      "Epoch 105/300\n",
      "537/537 [==============================] - 0s 24us/step - loss: 0.7347 - acc: 0.7412 - val_loss: 0.7167 - val_acc: 0.7792\n",
      "Epoch 106/300\n",
      "537/537 [==============================] - 0s 24us/step - loss: 0.7334 - acc: 0.7430 - val_loss: 0.7155 - val_acc: 0.7749\n",
      "Epoch 107/300\n",
      "537/537 [==============================] - 0s 24us/step - loss: 0.7322 - acc: 0.7430 - val_loss: 0.7142 - val_acc: 0.7792\n",
      "Epoch 108/300\n",
      "537/537 [==============================] - 0s 24us/step - loss: 0.7309 - acc: 0.7430 - val_loss: 0.7130 - val_acc: 0.7792\n",
      "Epoch 109/300\n",
      "537/537 [==============================] - 0s 22us/step - loss: 0.7297 - acc: 0.7449 - val_loss: 0.7117 - val_acc: 0.7792\n",
      "Epoch 110/300\n",
      "537/537 [==============================] - 0s 45us/step - loss: 0.7285 - acc: 0.7449 - val_loss: 0.7106 - val_acc: 0.7792\n",
      "Epoch 111/300\n",
      "537/537 [==============================] - 0s 30us/step - loss: 0.7273 - acc: 0.7467 - val_loss: 0.7094 - val_acc: 0.7792\n",
      "Epoch 112/300\n",
      "537/537 [==============================] - 0s 28us/step - loss: 0.7261 - acc: 0.7467 - val_loss: 0.7083 - val_acc: 0.7749\n",
      "Epoch 113/300\n",
      "537/537 [==============================] - 0s 24us/step - loss: 0.7248 - acc: 0.7467 - val_loss: 0.7072 - val_acc: 0.7706\n",
      "Epoch 114/300\n",
      "537/537 [==============================] - 0s 26us/step - loss: 0.7237 - acc: 0.7486 - val_loss: 0.7060 - val_acc: 0.7706\n",
      "Epoch 115/300\n",
      "537/537 [==============================] - 0s 22us/step - loss: 0.7226 - acc: 0.7486 - val_loss: 0.7049 - val_acc: 0.7706\n",
      "Epoch 116/300\n",
      "537/537 [==============================] - 0s 26us/step - loss: 0.7214 - acc: 0.7467 - val_loss: 0.7038 - val_acc: 0.7706\n",
      "Epoch 117/300\n"
     ]
    },
    {
     "name": "stdout",
     "output_type": "stream",
     "text": [
      "537/537 [==============================] - 0s 28us/step - loss: 0.7202 - acc: 0.7467 - val_loss: 0.7028 - val_acc: 0.7706\n",
      "Epoch 118/300\n",
      "537/537 [==============================] - 0s 26us/step - loss: 0.7192 - acc: 0.7505 - val_loss: 0.7017 - val_acc: 0.7706\n",
      "Epoch 119/300\n",
      "537/537 [==============================] - 0s 26us/step - loss: 0.7180 - acc: 0.7505 - val_loss: 0.7006 - val_acc: 0.7706\n",
      "Epoch 120/300\n",
      "537/537 [==============================] - 0s 24us/step - loss: 0.7169 - acc: 0.7523 - val_loss: 0.6995 - val_acc: 0.7706\n",
      "Epoch 121/300\n",
      "537/537 [==============================] - 0s 26us/step - loss: 0.7158 - acc: 0.7542 - val_loss: 0.6985 - val_acc: 0.7706\n",
      "Epoch 122/300\n",
      "537/537 [==============================] - 0s 24us/step - loss: 0.7147 - acc: 0.7542 - val_loss: 0.6974 - val_acc: 0.7749\n",
      "Epoch 123/300\n",
      "537/537 [==============================] - 0s 24us/step - loss: 0.7136 - acc: 0.7542 - val_loss: 0.6964 - val_acc: 0.7706\n",
      "Epoch 124/300\n",
      "537/537 [==============================] - 0s 24us/step - loss: 0.7125 - acc: 0.7542 - val_loss: 0.6954 - val_acc: 0.7749\n",
      "Epoch 125/300\n",
      "537/537 [==============================] - 0s 24us/step - loss: 0.7114 - acc: 0.7523 - val_loss: 0.6944 - val_acc: 0.7749\n",
      "Epoch 126/300\n",
      "537/537 [==============================] - 0s 26us/step - loss: 0.7104 - acc: 0.7523 - val_loss: 0.6934 - val_acc: 0.7749\n",
      "Epoch 127/300\n",
      "537/537 [==============================] - 0s 26us/step - loss: 0.7093 - acc: 0.7505 - val_loss: 0.6924 - val_acc: 0.7749\n",
      "Epoch 128/300\n",
      "537/537 [==============================] - 0s 24us/step - loss: 0.7082 - acc: 0.7523 - val_loss: 0.6914 - val_acc: 0.7749\n",
      "Epoch 129/300\n",
      "537/537 [==============================] - 0s 24us/step - loss: 0.7072 - acc: 0.7523 - val_loss: 0.6904 - val_acc: 0.7749\n",
      "Epoch 130/300\n",
      "537/537 [==============================] - 0s 24us/step - loss: 0.7061 - acc: 0.7542 - val_loss: 0.6894 - val_acc: 0.7749\n",
      "Epoch 131/300\n",
      "537/537 [==============================] - 0s 24us/step - loss: 0.7052 - acc: 0.7542 - val_loss: 0.6885 - val_acc: 0.7749\n",
      "Epoch 132/300\n",
      "537/537 [==============================] - 0s 24us/step - loss: 0.7041 - acc: 0.7561 - val_loss: 0.6876 - val_acc: 0.7749\n",
      "Epoch 133/300\n",
      "537/537 [==============================] - 0s 26us/step - loss: 0.7031 - acc: 0.7561 - val_loss: 0.6867 - val_acc: 0.7749\n",
      "Epoch 134/300\n",
      "537/537 [==============================] - 0s 24us/step - loss: 0.7021 - acc: 0.7561 - val_loss: 0.6858 - val_acc: 0.7706\n",
      "Epoch 135/300\n",
      "537/537 [==============================] - 0s 26us/step - loss: 0.7011 - acc: 0.7561 - val_loss: 0.6849 - val_acc: 0.7706\n",
      "Epoch 136/300\n",
      "537/537 [==============================] - 0s 24us/step - loss: 0.7001 - acc: 0.7542 - val_loss: 0.6840 - val_acc: 0.7706\n",
      "Epoch 137/300\n",
      "537/537 [==============================] - 0s 24us/step - loss: 0.6990 - acc: 0.7542 - val_loss: 0.6830 - val_acc: 0.7706\n",
      "Epoch 138/300\n",
      "537/537 [==============================] - 0s 24us/step - loss: 0.6981 - acc: 0.7542 - val_loss: 0.6821 - val_acc: 0.7706\n",
      "Epoch 139/300\n",
      "537/537 [==============================] - 0s 26us/step - loss: 0.6971 - acc: 0.7561 - val_loss: 0.6813 - val_acc: 0.7706\n",
      "Epoch 140/300\n",
      "537/537 [==============================] - 0s 24us/step - loss: 0.6962 - acc: 0.7561 - val_loss: 0.6804 - val_acc: 0.7706\n",
      "Epoch 141/300\n",
      "537/537 [==============================] - 0s 26us/step - loss: 0.6952 - acc: 0.7542 - val_loss: 0.6796 - val_acc: 0.7749\n",
      "Epoch 142/300\n",
      "537/537 [==============================] - 0s 24us/step - loss: 0.6942 - acc: 0.7542 - val_loss: 0.6788 - val_acc: 0.7706\n",
      "Epoch 143/300\n",
      "537/537 [==============================] - 0s 24us/step - loss: 0.6932 - acc: 0.7561 - val_loss: 0.6779 - val_acc: 0.7749\n",
      "Epoch 144/300\n",
      "537/537 [==============================] - 0s 22us/step - loss: 0.6923 - acc: 0.7561 - val_loss: 0.6771 - val_acc: 0.7792\n",
      "Epoch 145/300\n",
      "537/537 [==============================] - 0s 24us/step - loss: 0.6913 - acc: 0.7579 - val_loss: 0.6763 - val_acc: 0.7792\n",
      "Epoch 146/300\n",
      "537/537 [==============================] - 0s 24us/step - loss: 0.6904 - acc: 0.7579 - val_loss: 0.6755 - val_acc: 0.7749\n",
      "Epoch 147/300\n",
      "537/537 [==============================] - ETA: 0s - loss: 0.6842 - acc: 0.740 - 0s 24us/step - loss: 0.6894 - acc: 0.7579 - val_loss: 0.6747 - val_acc: 0.7749\n",
      "Epoch 148/300\n",
      "537/537 [==============================] - 0s 26us/step - loss: 0.6885 - acc: 0.7579 - val_loss: 0.6739 - val_acc: 0.7749\n",
      "Epoch 149/300\n",
      "537/537 [==============================] - 0s 24us/step - loss: 0.6876 - acc: 0.7598 - val_loss: 0.6730 - val_acc: 0.7749\n",
      "Epoch 150/300\n",
      "537/537 [==============================] - 0s 24us/step - loss: 0.6866 - acc: 0.7598 - val_loss: 0.6723 - val_acc: 0.7749\n",
      "Epoch 151/300\n",
      "537/537 [==============================] - 0s 24us/step - loss: 0.6857 - acc: 0.7598 - val_loss: 0.6715 - val_acc: 0.7792\n",
      "Epoch 152/300\n",
      "537/537 [==============================] - 0s 24us/step - loss: 0.6848 - acc: 0.7598 - val_loss: 0.6708 - val_acc: 0.7792\n",
      "Epoch 153/300\n",
      "537/537 [==============================] - 0s 24us/step - loss: 0.6840 - acc: 0.7616 - val_loss: 0.6701 - val_acc: 0.7749\n",
      "Epoch 154/300\n",
      "537/537 [==============================] - 0s 24us/step - loss: 0.6831 - acc: 0.7598 - val_loss: 0.6694 - val_acc: 0.7749\n",
      "Epoch 155/300\n",
      "537/537 [==============================] - 0s 24us/step - loss: 0.6823 - acc: 0.7598 - val_loss: 0.6686 - val_acc: 0.7749\n",
      "Epoch 156/300\n",
      "537/537 [==============================] - 0s 26us/step - loss: 0.6814 - acc: 0.7579 - val_loss: 0.6680 - val_acc: 0.7749\n",
      "Epoch 157/300\n",
      "537/537 [==============================] - 0s 26us/step - loss: 0.6805 - acc: 0.7598 - val_loss: 0.6672 - val_acc: 0.7749\n",
      "Epoch 158/300\n",
      "537/537 [==============================] - 0s 24us/step - loss: 0.6797 - acc: 0.7598 - val_loss: 0.6665 - val_acc: 0.7749\n",
      "Epoch 159/300\n",
      "537/537 [==============================] - 0s 24us/step - loss: 0.6788 - acc: 0.7598 - val_loss: 0.6658 - val_acc: 0.7749\n",
      "Epoch 160/300\n",
      "537/537 [==============================] - 0s 26us/step - loss: 0.6780 - acc: 0.7598 - val_loss: 0.6651 - val_acc: 0.7749\n",
      "Epoch 161/300\n",
      "537/537 [==============================] - 0s 24us/step - loss: 0.6772 - acc: 0.7598 - val_loss: 0.6644 - val_acc: 0.7749\n",
      "Epoch 162/300\n",
      "537/537 [==============================] - 0s 26us/step - loss: 0.6763 - acc: 0.7616 - val_loss: 0.6637 - val_acc: 0.7749\n",
      "Epoch 163/300\n",
      "537/537 [==============================] - 0s 26us/step - loss: 0.6755 - acc: 0.7654 - val_loss: 0.6630 - val_acc: 0.7749\n",
      "Epoch 164/300\n",
      "537/537 [==============================] - 0s 24us/step - loss: 0.6747 - acc: 0.7691 - val_loss: 0.6624 - val_acc: 0.7749\n",
      "Epoch 165/300\n",
      "537/537 [==============================] - 0s 24us/step - loss: 0.6739 - acc: 0.7709 - val_loss: 0.6617 - val_acc: 0.7792\n",
      "Epoch 166/300\n",
      "537/537 [==============================] - 0s 22us/step - loss: 0.6730 - acc: 0.7709 - val_loss: 0.6610 - val_acc: 0.7792\n",
      "Epoch 167/300\n",
      "537/537 [==============================] - 0s 24us/step - loss: 0.6722 - acc: 0.7747 - val_loss: 0.6603 - val_acc: 0.7792\n",
      "Epoch 168/300\n",
      "537/537 [==============================] - 0s 26us/step - loss: 0.6714 - acc: 0.7728 - val_loss: 0.6596 - val_acc: 0.7792\n",
      "Epoch 169/300\n",
      "537/537 [==============================] - 0s 26us/step - loss: 0.6706 - acc: 0.7728 - val_loss: 0.6588 - val_acc: 0.7835\n",
      "Epoch 170/300\n",
      "537/537 [==============================] - 0s 24us/step - loss: 0.6698 - acc: 0.7728 - val_loss: 0.6582 - val_acc: 0.7835\n",
      "Epoch 171/300\n",
      "537/537 [==============================] - 0s 26us/step - loss: 0.6690 - acc: 0.7728 - val_loss: 0.6575 - val_acc: 0.7835\n",
      "Epoch 172/300\n",
      "537/537 [==============================] - 0s 24us/step - loss: 0.6682 - acc: 0.7728 - val_loss: 0.6568 - val_acc: 0.7835\n",
      "Epoch 173/300\n",
      "537/537 [==============================] - ETA: 0s - loss: 0.6719 - acc: 0.810 - 0s 24us/step - loss: 0.6674 - acc: 0.7728 - val_loss: 0.6562 - val_acc: 0.7835\n",
      "Epoch 174/300\n",
      "537/537 [==============================] - 0s 24us/step - loss: 0.6666 - acc: 0.7747 - val_loss: 0.6556 - val_acc: 0.7835\n",
      "Epoch 175/300\n",
      "537/537 [==============================] - 0s 24us/step - loss: 0.6658 - acc: 0.7747 - val_loss: 0.6551 - val_acc: 0.7835\n",
      "Epoch 176/300\n",
      "537/537 [==============================] - 0s 24us/step - loss: 0.6650 - acc: 0.7747 - val_loss: 0.6545 - val_acc: 0.7835\n"
     ]
    },
    {
     "name": "stdout",
     "output_type": "stream",
     "text": [
      "Epoch 177/300\n",
      "537/537 [==============================] - 0s 26us/step - loss: 0.6642 - acc: 0.7747 - val_loss: 0.6539 - val_acc: 0.7792\n",
      "Epoch 178/300\n",
      "537/537 [==============================] - 0s 24us/step - loss: 0.6635 - acc: 0.7728 - val_loss: 0.6533 - val_acc: 0.7792\n",
      "Epoch 179/300\n",
      "537/537 [==============================] - 0s 24us/step - loss: 0.6627 - acc: 0.7728 - val_loss: 0.6527 - val_acc: 0.7792\n",
      "Epoch 180/300\n",
      "537/537 [==============================] - 0s 26us/step - loss: 0.6620 - acc: 0.7728 - val_loss: 0.6522 - val_acc: 0.7792\n",
      "Epoch 181/300\n",
      "537/537 [==============================] - 0s 24us/step - loss: 0.6612 - acc: 0.7709 - val_loss: 0.6515 - val_acc: 0.7792\n",
      "Epoch 182/300\n",
      "537/537 [==============================] - 0s 24us/step - loss: 0.6604 - acc: 0.7691 - val_loss: 0.6509 - val_acc: 0.7792\n",
      "Epoch 183/300\n",
      "537/537 [==============================] - 0s 24us/step - loss: 0.6597 - acc: 0.7691 - val_loss: 0.6502 - val_acc: 0.7792\n",
      "Epoch 184/300\n",
      "537/537 [==============================] - 0s 24us/step - loss: 0.6589 - acc: 0.7709 - val_loss: 0.6495 - val_acc: 0.7792\n",
      "Epoch 185/300\n",
      "537/537 [==============================] - 0s 24us/step - loss: 0.6581 - acc: 0.7728 - val_loss: 0.6488 - val_acc: 0.7792\n",
      "Epoch 186/300\n",
      "537/537 [==============================] - 0s 24us/step - loss: 0.6574 - acc: 0.7747 - val_loss: 0.6482 - val_acc: 0.7792\n",
      "Epoch 187/300\n",
      "537/537 [==============================] - 0s 24us/step - loss: 0.6566 - acc: 0.7728 - val_loss: 0.6475 - val_acc: 0.7792\n",
      "Epoch 188/300\n",
      "537/537 [==============================] - 0s 24us/step - loss: 0.6559 - acc: 0.7728 - val_loss: 0.6469 - val_acc: 0.7792\n",
      "Epoch 189/300\n",
      "537/537 [==============================] - 0s 24us/step - loss: 0.6552 - acc: 0.7747 - val_loss: 0.6464 - val_acc: 0.7792\n",
      "Epoch 190/300\n",
      "537/537 [==============================] - 0s 24us/step - loss: 0.6545 - acc: 0.7747 - val_loss: 0.6458 - val_acc: 0.7792\n",
      "Epoch 191/300\n",
      "537/537 [==============================] - 0s 24us/step - loss: 0.6538 - acc: 0.7765 - val_loss: 0.6452 - val_acc: 0.7792\n",
      "Epoch 192/300\n",
      "537/537 [==============================] - 0s 24us/step - loss: 0.6531 - acc: 0.7765 - val_loss: 0.6446 - val_acc: 0.7792\n",
      "Epoch 193/300\n",
      "537/537 [==============================] - 0s 24us/step - loss: 0.6524 - acc: 0.7765 - val_loss: 0.6440 - val_acc: 0.7792\n",
      "Epoch 194/300\n",
      "537/537 [==============================] - 0s 24us/step - loss: 0.6516 - acc: 0.7765 - val_loss: 0.6434 - val_acc: 0.7835\n",
      "Epoch 195/300\n",
      "537/537 [==============================] - 0s 24us/step - loss: 0.6509 - acc: 0.7765 - val_loss: 0.6427 - val_acc: 0.7835\n",
      "Epoch 196/300\n",
      "537/537 [==============================] - 0s 24us/step - loss: 0.6502 - acc: 0.7765 - val_loss: 0.6421 - val_acc: 0.7835\n",
      "Epoch 197/300\n",
      "537/537 [==============================] - 0s 24us/step - loss: 0.6495 - acc: 0.7747 - val_loss: 0.6415 - val_acc: 0.7835\n",
      "Epoch 198/300\n",
      "537/537 [==============================] - 0s 26us/step - loss: 0.6487 - acc: 0.7747 - val_loss: 0.6409 - val_acc: 0.7835\n",
      "Epoch 199/300\n",
      "537/537 [==============================] - ETA: 0s - loss: 0.5851 - acc: 0.800 - 0s 24us/step - loss: 0.6480 - acc: 0.7765 - val_loss: 0.6403 - val_acc: 0.7835\n",
      "Epoch 200/300\n",
      "537/537 [==============================] - 0s 24us/step - loss: 0.6473 - acc: 0.7784 - val_loss: 0.6397 - val_acc: 0.7835\n",
      "Epoch 201/300\n",
      "537/537 [==============================] - 0s 24us/step - loss: 0.6465 - acc: 0.7765 - val_loss: 0.6390 - val_acc: 0.7835\n",
      "Epoch 202/300\n",
      "537/537 [==============================] - 0s 24us/step - loss: 0.6458 - acc: 0.7784 - val_loss: 0.6385 - val_acc: 0.7835\n",
      "Epoch 203/300\n",
      "537/537 [==============================] - 0s 24us/step - loss: 0.6451 - acc: 0.7784 - val_loss: 0.6379 - val_acc: 0.7835\n",
      "Epoch 204/300\n",
      "537/537 [==============================] - 0s 24us/step - loss: 0.6444 - acc: 0.7784 - val_loss: 0.6374 - val_acc: 0.7835\n",
      "Epoch 205/300\n",
      "537/537 [==============================] - 0s 24us/step - loss: 0.6437 - acc: 0.7784 - val_loss: 0.6368 - val_acc: 0.7835\n",
      "Epoch 206/300\n",
      "537/537 [==============================] - 0s 26us/step - loss: 0.6429 - acc: 0.7803 - val_loss: 0.6364 - val_acc: 0.7835\n",
      "Epoch 207/300\n",
      "537/537 [==============================] - 0s 28us/step - loss: 0.6422 - acc: 0.7803 - val_loss: 0.6359 - val_acc: 0.7835\n",
      "Epoch 208/300\n",
      "537/537 [==============================] - 0s 26us/step - loss: 0.6416 - acc: 0.7821 - val_loss: 0.6354 - val_acc: 0.7835\n",
      "Epoch 209/300\n",
      "537/537 [==============================] - 0s 26us/step - loss: 0.6409 - acc: 0.7821 - val_loss: 0.6348 - val_acc: 0.7835\n",
      "Epoch 210/300\n",
      "537/537 [==============================] - 0s 24us/step - loss: 0.6402 - acc: 0.7821 - val_loss: 0.6343 - val_acc: 0.7879\n",
      "Epoch 211/300\n",
      "537/537 [==============================] - 0s 24us/step - loss: 0.6395 - acc: 0.7821 - val_loss: 0.6339 - val_acc: 0.7835\n",
      "Epoch 212/300\n",
      "537/537 [==============================] - 0s 28us/step - loss: 0.6389 - acc: 0.7821 - val_loss: 0.6334 - val_acc: 0.7835\n",
      "Epoch 213/300\n",
      "537/537 [==============================] - 0s 26us/step - loss: 0.6382 - acc: 0.7821 - val_loss: 0.6328 - val_acc: 0.7879\n",
      "Epoch 214/300\n",
      "537/537 [==============================] - 0s 26us/step - loss: 0.6376 - acc: 0.7821 - val_loss: 0.6323 - val_acc: 0.7879\n",
      "Epoch 215/300\n",
      "537/537 [==============================] - 0s 28us/step - loss: 0.6370 - acc: 0.7821 - val_loss: 0.6319 - val_acc: 0.7879\n",
      "Epoch 216/300\n",
      "537/537 [==============================] - 0s 26us/step - loss: 0.6363 - acc: 0.7821 - val_loss: 0.6315 - val_acc: 0.7879\n",
      "Epoch 217/300\n",
      "537/537 [==============================] - 0s 26us/step - loss: 0.6357 - acc: 0.7821 - val_loss: 0.6310 - val_acc: 0.7879\n",
      "Epoch 218/300\n",
      "537/537 [==============================] - 0s 26us/step - loss: 0.6351 - acc: 0.7821 - val_loss: 0.6305 - val_acc: 0.7879\n",
      "Epoch 219/300\n",
      "537/537 [==============================] - 0s 28us/step - loss: 0.6345 - acc: 0.7821 - val_loss: 0.6301 - val_acc: 0.7879\n",
      "Epoch 220/300\n",
      "537/537 [==============================] - 0s 26us/step - loss: 0.6338 - acc: 0.7821 - val_loss: 0.6297 - val_acc: 0.7879\n",
      "Epoch 221/300\n",
      "537/537 [==============================] - 0s 24us/step - loss: 0.6332 - acc: 0.7821 - val_loss: 0.6292 - val_acc: 0.7922\n",
      "Epoch 222/300\n",
      "537/537 [==============================] - 0s 26us/step - loss: 0.6325 - acc: 0.7803 - val_loss: 0.6287 - val_acc: 0.7922\n",
      "Epoch 223/300\n",
      "537/537 [==============================] - 0s 26us/step - loss: 0.6319 - acc: 0.7784 - val_loss: 0.6283 - val_acc: 0.7922\n",
      "Epoch 224/300\n",
      "537/537 [==============================] - ETA: 0s - loss: 0.6219 - acc: 0.780 - 0s 26us/step - loss: 0.6313 - acc: 0.7784 - val_loss: 0.6279 - val_acc: 0.7922\n",
      "Epoch 225/300\n",
      "537/537 [==============================] - 0s 26us/step - loss: 0.6307 - acc: 0.7784 - val_loss: 0.6275 - val_acc: 0.7879\n",
      "Epoch 226/300\n",
      "537/537 [==============================] - 0s 28us/step - loss: 0.6301 - acc: 0.7784 - val_loss: 0.6271 - val_acc: 0.7922\n",
      "Epoch 227/300\n",
      "537/537 [==============================] - 0s 24us/step - loss: 0.6294 - acc: 0.7784 - val_loss: 0.6267 - val_acc: 0.7879\n",
      "Epoch 228/300\n",
      "537/537 [==============================] - 0s 26us/step - loss: 0.6288 - acc: 0.7784 - val_loss: 0.6263 - val_acc: 0.7879\n",
      "Epoch 229/300\n",
      "537/537 [==============================] - 0s 24us/step - loss: 0.6282 - acc: 0.7765 - val_loss: 0.6259 - val_acc: 0.7922\n",
      "Epoch 230/300\n",
      "537/537 [==============================] - 0s 26us/step - loss: 0.6276 - acc: 0.7803 - val_loss: 0.6254 - val_acc: 0.7922\n",
      "Epoch 231/300\n",
      "537/537 [==============================] - 0s 26us/step - loss: 0.6270 - acc: 0.7803 - val_loss: 0.6250 - val_acc: 0.7922\n",
      "Epoch 232/300\n",
      "537/537 [==============================] - 0s 28us/step - loss: 0.6265 - acc: 0.7803 - val_loss: 0.6246 - val_acc: 0.7922\n",
      "Epoch 233/300\n",
      "537/537 [==============================] - 0s 26us/step - loss: 0.6258 - acc: 0.7803 - val_loss: 0.6242 - val_acc: 0.7922\n",
      "Epoch 234/300\n",
      "537/537 [==============================] - 0s 26us/step - loss: 0.6253 - acc: 0.7803 - val_loss: 0.6239 - val_acc: 0.7922\n",
      "Epoch 235/300\n",
      "537/537 [==============================] - 0s 26us/step - loss: 0.6246 - acc: 0.7803 - val_loss: 0.6234 - val_acc: 0.7922\n",
      "Epoch 236/300\n",
      "537/537 [==============================] - 0s 26us/step - loss: 0.6241 - acc: 0.7784 - val_loss: 0.6230 - val_acc: 0.7922\n",
      "Epoch 237/300\n",
      "537/537 [==============================] - 0s 24us/step - loss: 0.6235 - acc: 0.7803 - val_loss: 0.6227 - val_acc: 0.7922\n",
      "Epoch 238/300\n",
      "537/537 [==============================] - 0s 24us/step - loss: 0.6229 - acc: 0.7784 - val_loss: 0.6224 - val_acc: 0.7922\n",
      "Epoch 239/300\n",
      "537/537 [==============================] - 0s 26us/step - loss: 0.6223 - acc: 0.7784 - val_loss: 0.6221 - val_acc: 0.7879\n",
      "Epoch 240/300\n",
      "537/537 [==============================] - 0s 26us/step - loss: 0.6217 - acc: 0.7803 - val_loss: 0.6217 - val_acc: 0.7879\n",
      "Epoch 241/300\n",
      "537/537 [==============================] - 0s 28us/step - loss: 0.6212 - acc: 0.7784 - val_loss: 0.6213 - val_acc: 0.7879\n",
      "Epoch 242/300\n",
      "537/537 [==============================] - 0s 26us/step - loss: 0.6206 - acc: 0.7784 - val_loss: 0.6207 - val_acc: 0.7922\n",
      "Epoch 243/300\n",
      "537/537 [==============================] - 0s 26us/step - loss: 0.6201 - acc: 0.7803 - val_loss: 0.6202 - val_acc: 0.7965\n",
      "Epoch 244/300\n",
      "537/537 [==============================] - 0s 28us/step - loss: 0.6195 - acc: 0.7784 - val_loss: 0.6197 - val_acc: 0.7965\n",
      "Epoch 245/300\n",
      "537/537 [==============================] - 0s 26us/step - loss: 0.6189 - acc: 0.7803 - val_loss: 0.6192 - val_acc: 0.7965\n",
      "Epoch 246/300\n",
      "537/537 [==============================] - 0s 24us/step - loss: 0.6184 - acc: 0.7821 - val_loss: 0.6187 - val_acc: 0.7965\n",
      "Epoch 247/300\n",
      "537/537 [==============================] - 0s 24us/step - loss: 0.6178 - acc: 0.7821 - val_loss: 0.6183 - val_acc: 0.7965\n",
      "Epoch 248/300\n",
      "537/537 [==============================] - 0s 24us/step - loss: 0.6173 - acc: 0.7821 - val_loss: 0.6179 - val_acc: 0.7965\n",
      "Epoch 249/300\n",
      "537/537 [==============================] - 0s 24us/step - loss: 0.6168 - acc: 0.7803 - val_loss: 0.6174 - val_acc: 0.7965\n",
      "Epoch 250/300\n",
      "537/537 [==============================] - 0s 26us/step - loss: 0.6162 - acc: 0.7803 - val_loss: 0.6170 - val_acc: 0.7922\n",
      "Epoch 251/300\n",
      "537/537 [==============================] - 0s 24us/step - loss: 0.6157 - acc: 0.7765 - val_loss: 0.6166 - val_acc: 0.7965\n",
      "Epoch 252/300\n",
      "537/537 [==============================] - 0s 24us/step - loss: 0.6152 - acc: 0.7784 - val_loss: 0.6161 - val_acc: 0.7965\n",
      "Epoch 253/300\n",
      "537/537 [==============================] - 0s 24us/step - loss: 0.6147 - acc: 0.7821 - val_loss: 0.6157 - val_acc: 0.7965\n",
      "Epoch 254/300\n",
      "537/537 [==============================] - 0s 24us/step - loss: 0.6142 - acc: 0.7821 - val_loss: 0.6153 - val_acc: 0.7965\n",
      "Epoch 255/300\n",
      "537/537 [==============================] - 0s 24us/step - loss: 0.6137 - acc: 0.7803 - val_loss: 0.6150 - val_acc: 0.7965\n",
      "Epoch 256/300\n",
      "537/537 [==============================] - 0s 24us/step - loss: 0.6132 - acc: 0.7803 - val_loss: 0.6146 - val_acc: 0.7965\n",
      "Epoch 257/300\n",
      "537/537 [==============================] - 0s 26us/step - loss: 0.6127 - acc: 0.7803 - val_loss: 0.6142 - val_acc: 0.7965\n",
      "Epoch 258/300\n",
      "537/537 [==============================] - 0s 24us/step - loss: 0.6122 - acc: 0.7784 - val_loss: 0.6139 - val_acc: 0.7965\n",
      "Epoch 259/300\n",
      "537/537 [==============================] - 0s 24us/step - loss: 0.6117 - acc: 0.7784 - val_loss: 0.6136 - val_acc: 0.7965\n",
      "Epoch 260/300\n",
      "537/537 [==============================] - 0s 24us/step - loss: 0.6112 - acc: 0.7784 - val_loss: 0.6132 - val_acc: 0.7965\n",
      "Epoch 261/300\n",
      "537/537 [==============================] - 0s 24us/step - loss: 0.6107 - acc: 0.7784 - val_loss: 0.6128 - val_acc: 0.7965\n",
      "Epoch 262/300\n",
      "537/537 [==============================] - 0s 24us/step - loss: 0.6102 - acc: 0.7765 - val_loss: 0.6125 - val_acc: 0.7965\n",
      "Epoch 263/300\n",
      "537/537 [==============================] - 0s 24us/step - loss: 0.6097 - acc: 0.7765 - val_loss: 0.6120 - val_acc: 0.7965\n",
      "Epoch 264/300\n",
      "537/537 [==============================] - 0s 24us/step - loss: 0.6092 - acc: 0.7765 - val_loss: 0.6117 - val_acc: 0.7922\n",
      "Epoch 265/300\n",
      "537/537 [==============================] - 0s 26us/step - loss: 0.6087 - acc: 0.7765 - val_loss: 0.6113 - val_acc: 0.7922\n",
      "Epoch 266/300\n",
      "537/537 [==============================] - 0s 24us/step - loss: 0.6083 - acc: 0.7765 - val_loss: 0.6109 - val_acc: 0.7922\n",
      "Epoch 267/300\n",
      "537/537 [==============================] - 0s 24us/step - loss: 0.6078 - acc: 0.7747 - val_loss: 0.6105 - val_acc: 0.7922\n",
      "Epoch 268/300\n",
      "537/537 [==============================] - 0s 24us/step - loss: 0.6073 - acc: 0.7747 - val_loss: 0.6100 - val_acc: 0.7922\n",
      "Epoch 269/300\n",
      "537/537 [==============================] - 0s 24us/step - loss: 0.6069 - acc: 0.7747 - val_loss: 0.6095 - val_acc: 0.7965\n",
      "Epoch 270/300\n",
      "537/537 [==============================] - 0s 24us/step - loss: 0.6064 - acc: 0.7765 - val_loss: 0.6093 - val_acc: 0.7922\n",
      "Epoch 271/300\n",
      "537/537 [==============================] - 0s 24us/step - loss: 0.6058 - acc: 0.7765 - val_loss: 0.6089 - val_acc: 0.7965\n",
      "Epoch 272/300\n",
      "537/537 [==============================] - 0s 24us/step - loss: 0.6054 - acc: 0.7765 - val_loss: 0.6085 - val_acc: 0.7965\n",
      "Epoch 273/300\n",
      "537/537 [==============================] - 0s 24us/step - loss: 0.6049 - acc: 0.7765 - val_loss: 0.6082 - val_acc: 0.7965\n",
      "Epoch 274/300\n",
      "537/537 [==============================] - 0s 24us/step - loss: 0.6045 - acc: 0.7765 - val_loss: 0.6078 - val_acc: 0.7965\n",
      "Epoch 275/300\n",
      "537/537 [==============================] - 0s 24us/step - loss: 0.6040 - acc: 0.7765 - val_loss: 0.6075 - val_acc: 0.7965\n",
      "Epoch 276/300\n",
      "537/537 [==============================] - 0s 24us/step - loss: 0.6036 - acc: 0.7784 - val_loss: 0.6070 - val_acc: 0.7965\n",
      "Epoch 277/300\n",
      "537/537 [==============================] - 0s 24us/step - loss: 0.6031 - acc: 0.7784 - val_loss: 0.6067 - val_acc: 0.7965\n",
      "Epoch 278/300\n",
      "537/537 [==============================] - 0s 24us/step - loss: 0.6026 - acc: 0.7784 - val_loss: 0.6064 - val_acc: 0.7922\n",
      "Epoch 279/300\n",
      "537/537 [==============================] - 0s 26us/step - loss: 0.6021 - acc: 0.7784 - val_loss: 0.6061 - val_acc: 0.7922\n",
      "Epoch 280/300\n",
      "537/537 [==============================] - 0s 24us/step - loss: 0.6017 - acc: 0.7784 - val_loss: 0.6059 - val_acc: 0.7922\n",
      "Epoch 281/300\n",
      "537/537 [==============================] - 0s 24us/step - loss: 0.6012 - acc: 0.7765 - val_loss: 0.6057 - val_acc: 0.7965\n",
      "Epoch 282/300\n",
      "537/537 [==============================] - 0s 24us/step - loss: 0.6008 - acc: 0.7747 - val_loss: 0.6055 - val_acc: 0.7965\n",
      "Epoch 283/300\n",
      "537/537 [==============================] - 0s 24us/step - loss: 0.6004 - acc: 0.7747 - val_loss: 0.6053 - val_acc: 0.7965\n",
      "Epoch 284/300\n",
      "537/537 [==============================] - 0s 22us/step - loss: 0.5999 - acc: 0.7747 - val_loss: 0.6050 - val_acc: 0.7965\n",
      "Epoch 285/300\n",
      "537/537 [==============================] - 0s 24us/step - loss: 0.5995 - acc: 0.7747 - val_loss: 0.6046 - val_acc: 0.7965\n",
      "Epoch 286/300\n",
      "537/537 [==============================] - 0s 24us/step - loss: 0.5990 - acc: 0.7747 - val_loss: 0.6042 - val_acc: 0.7965\n",
      "Epoch 287/300\n",
      "537/537 [==============================] - 0s 24us/step - loss: 0.5986 - acc: 0.7747 - val_loss: 0.6039 - val_acc: 0.7965\n",
      "Epoch 288/300\n",
      "537/537 [==============================] - 0s 24us/step - loss: 0.5982 - acc: 0.7747 - val_loss: 0.6036 - val_acc: 0.7965\n",
      "Epoch 289/300\n",
      "537/537 [==============================] - 0s 24us/step - loss: 0.5977 - acc: 0.7747 - val_loss: 0.6033 - val_acc: 0.7965\n",
      "Epoch 290/300\n",
      "537/537 [==============================] - 0s 22us/step - loss: 0.5973 - acc: 0.7765 - val_loss: 0.6031 - val_acc: 0.7965\n",
      "Epoch 291/300\n",
      "537/537 [==============================] - 0s 22us/step - loss: 0.5968 - acc: 0.7728 - val_loss: 0.6028 - val_acc: 0.7965\n",
      "Epoch 292/300\n",
      "537/537 [==============================] - 0s 24us/step - loss: 0.5964 - acc: 0.7747 - val_loss: 0.6025 - val_acc: 0.7965\n",
      "Epoch 293/300\n",
      "537/537 [==============================] - 0s 26us/step - loss: 0.5960 - acc: 0.7747 - val_loss: 0.6022 - val_acc: 0.7965\n",
      "Epoch 294/300\n",
      "537/537 [==============================] - 0s 24us/step - loss: 0.5956 - acc: 0.7747 - val_loss: 0.6020 - val_acc: 0.7965\n",
      "Epoch 295/300\n",
      "537/537 [==============================] - 0s 24us/step - loss: 0.5952 - acc: 0.7747 - val_loss: 0.6018 - val_acc: 0.7965\n",
      "Epoch 296/300\n"
     ]
    },
    {
     "name": "stdout",
     "output_type": "stream",
     "text": [
      "537/537 [==============================] - 0s 24us/step - loss: 0.5947 - acc: 0.7747 - val_loss: 0.6016 - val_acc: 0.7965\n",
      "Epoch 297/300\n",
      "537/537 [==============================] - 0s 26us/step - loss: 0.5943 - acc: 0.7747 - val_loss: 0.6012 - val_acc: 0.7965\n",
      "Epoch 298/300\n",
      "537/537 [==============================] - 0s 22us/step - loss: 0.5939 - acc: 0.7747 - val_loss: 0.6008 - val_acc: 0.7965\n",
      "Epoch 299/300\n",
      "537/537 [==============================] - 0s 26us/step - loss: 0.5935 - acc: 0.7765 - val_loss: 0.6005 - val_acc: 0.7965\n",
      "Epoch 300/300\n",
      "537/537 [==============================] - 0s 24us/step - loss: 0.5931 - acc: 0.7765 - val_loss: 0.6002 - val_acc: 0.7965\n"
     ]
    }
   ],
   "source": [
    "import keras\n",
    "from keras import models, layers, activations, regularizers, optimizers\n",
    "\n",
    "# initialize the model\n",
    "dnn = models.Sequential()\n",
    "\n",
    "# create the input, hidden, and output layers\n",
    "dnn.add(layers.Dense(30, activation='relu', input_dim=8, kernel_regularizer=regularizers.l2(0.0075)))\n",
    "dnn.add(layers.Dense(15, activation='relu', kernel_regularizer=regularizers.l2(0.005)))\n",
    "dnn.add(layers.Dense(7, activation='relu', kernel_regularizer=regularizers.l2(0.005)))\n",
    "dnn.add(layers.Dense(1, activation='sigmoid', kernel_regularizer=regularizers.l2(0.0075)))\n",
    "\n",
    "# compile the model with a learning rate\n",
    "dnn.compile(optimizer=optimizers.Adam(lr=0.000125), loss='binary_crossentropy', metrics=['accuracy'])\n",
    "\n",
    "# fit the model and store returns in history\n",
    "history = dnn.fit(x_train, y_train, epochs=300, batch_size=100, validation_data=(x_test, y_test))"
   ]
  },
  {
   "cell_type": "code",
   "execution_count": 9,
   "metadata": {},
   "outputs": [
    {
     "name": "stdout",
     "output_type": "stream",
     "text": [
      "ACCURACY:\n",
      "train acc: 0.776536312849162\n",
      "test acc: 0.7965367965367965\n",
      "\n",
      "PRECISION:\n",
      "train precision: 0.7333333333333333\n",
      "test precision: 0.6935483870967742\n",
      "\n",
      "RECALL:\n",
      "train recall: 0.6142131979695431\n",
      "test recall: 0.6056338028169014\n",
      "\n",
      "F1:\n",
      "train f1: 0.6685082872928177\n",
      "test f1: 0.6466165413533835\n"
     ]
    },
    {
     "data": {
      "text/plain": [
       "[<matplotlib.lines.Line2D at 0x2e66b269828>]"
      ]
     },
     "execution_count": 9,
     "metadata": {},
     "output_type": "execute_result"
    },
    {
     "data": {
      "text/plain": [
       "[<matplotlib.lines.Line2D at 0x2e66018fe48>]"
      ]
     },
     "execution_count": 9,
     "metadata": {},
     "output_type": "execute_result"
    },
    {
     "data": {
      "text/plain": [
       "Text(0.5, 1.0, 'ROC curve')"
      ]
     },
     "execution_count": 9,
     "metadata": {},
     "output_type": "execute_result"
    },
    {
     "data": {
      "text/plain": [
       "Text(0.5, 0, 'False positve rate')"
      ]
     },
     "execution_count": 9,
     "metadata": {},
     "output_type": "execute_result"
    },
    {
     "data": {
      "text/plain": [
       "Text(0, 0.5, 'True positve rate')"
      ]
     },
     "execution_count": 9,
     "metadata": {},
     "output_type": "execute_result"
    },
    {
     "data": {
      "image/png": "[encoded data removed]",
      "text/plain": [
       "<Figure size 432x288 with 1 Axes>"
      ]
     },
     "metadata": {
      "needs_background": "light"
     },
     "output_type": "display_data"
    }
   ],
   "source": [
    "# predict for train, predict and obtain probabilities for test\n",
    "train_dnn_pred = dnn.predict_classes(x_train)\n",
    "test_dnn_pred = dnn.predict_classes(x_test)\n",
    "dnn_prob_test = dnn.predict_proba(x_test)\n",
    "\n",
    "# print all the scores requested\n",
    "all_scores(y_train, train_dnn_pred, y_test, test_dnn_pred)\n",
    "\n",
    "# roc curve\n",
    "fpr, tpr, thresholds = metrics.roc_curve(y_test, dnn_prob_test)\n",
    "plt.plot([0, 1], [0, 1], 'k--')\n",
    "plt.plot(fpr, tpr)\n",
    "plt.title('ROC curve')\n",
    "plt.xlabel('False positve rate')\n",
    "plt.ylabel('True positve rate')"
   ]
  },
  {
   "cell_type": "markdown",
   "metadata": {},
   "source": [
    "plot the test precision curve  and accuracy curve for decision thresholds between 0.1 to 1 with a step of 0.1"
   ]
  },
  {
   "cell_type": "code",
   "execution_count": 10,
   "metadata": {},
   "outputs": [
    {
     "name": "stderr",
     "output_type": "stream",
     "text": [
      "E:\\Users\\Dhyan Gandhi\\Anaconda3\\lib\\site-packages\\sklearn\\metrics\\classification.py:1143: UndefinedMetricWarning: Precision is ill-defined and being set to 0.0 due to no predicted samples.\n",
      "  'precision', 'predicted', average, warn_for)\n"
     ]
    },
    {
     "data": {
      "image/png": "[encoded data removed]",
      "text/plain": [
       "<Figure size 432x288 with 1 Axes>"
      ]
     },
     "metadata": {
      "needs_background": "light"
     },
     "output_type": "display_data"
    }
   ],
   "source": [
    "# plots the precision and accuracy curves\n",
    "pre_acc_curves(y_test, dnn_prob_test)"
   ]
  },
  {
   "cell_type": "code",
   "execution_count": 11,
   "metadata": {},
   "outputs": [
    {
     "data": {
      "text/plain": [
       "[<matplotlib.lines.Line2D at 0x2e66c3143c8>]"
      ]
     },
     "execution_count": 11,
     "metadata": {},
     "output_type": "execute_result"
    },
    {
     "data": {
      "text/plain": [
       "[<matplotlib.lines.Line2D at 0x2e66c314898>]"
      ]
     },
     "execution_count": 11,
     "metadata": {},
     "output_type": "execute_result"
    },
    {
     "data": {
      "text/plain": [
       "Text(0.5, 1.0, 'Model accuracy')"
      ]
     },
     "execution_count": 11,
     "metadata": {},
     "output_type": "execute_result"
    },
    {
     "data": {
      "text/plain": [
       "Text(0, 0.5, 'Accuracy')"
      ]
     },
     "execution_count": 11,
     "metadata": {},
     "output_type": "execute_result"
    },
    {
     "data": {
      "text/plain": [
       "Text(0.5, 0, 'Epoch')"
      ]
     },
     "execution_count": 11,
     "metadata": {},
     "output_type": "execute_result"
    },
    {
     "data": {
      "text/plain": [
       "<matplotlib.legend.Legend at 0x2e66c2f2eb8>"
      ]
     },
     "execution_count": 11,
     "metadata": {},
     "output_type": "execute_result"
    },
    {
     "data": {
      "image/png": "[encoded data removed]",
      "text/plain": [
       "<Figure size 432x288 with 1 Axes>"
      ]
     },
     "metadata": {
      "needs_background": "light"
     },
     "output_type": "display_data"
    },
    {
     "data": {
      "text/plain": [
       "[<matplotlib.lines.Line2D at 0x2e66c388080>]"
      ]
     },
     "execution_count": 11,
     "metadata": {},
     "output_type": "execute_result"
    },
    {
     "data": {
      "text/plain": [
       "[<matplotlib.lines.Line2D at 0x2e66c388518>]"
      ]
     },
     "execution_count": 11,
     "metadata": {},
     "output_type": "execute_result"
    },
    {
     "data": {
      "text/plain": [
       "Text(0.5, 1.0, 'Model loss')"
      ]
     },
     "execution_count": 11,
     "metadata": {},
     "output_type": "execute_result"
    },
    {
     "data": {
      "text/plain": [
       "Text(0, 0.5, 'Loss')"
      ]
     },
     "execution_count": 11,
     "metadata": {},
     "output_type": "execute_result"
    },
    {
     "data": {
      "text/plain": [
       "Text(0.5, 0, 'Epoch')"
      ]
     },
     "execution_count": 11,
     "metadata": {},
     "output_type": "execute_result"
    },
    {
     "data": {
      "text/plain": [
       "<matplotlib.legend.Legend at 0x2e66c36f9e8>"
      ]
     },
     "execution_count": 11,
     "metadata": {},
     "output_type": "execute_result"
    },
    {
     "data": {
      "image/png": "[encoded data removed]",
      "text/plain": [
       "<Figure size 432x288 with 1 Axes>"
      ]
     },
     "metadata": {
      "needs_background": "light"
     },
     "output_type": "display_data"
    }
   ],
   "source": [
    "# Plot training & validation accuracy values\n",
    "plt.plot(history.history['acc'])\n",
    "plt.plot(history.history['val_acc'])\n",
    "plt.title('Model accuracy')\n",
    "plt.ylabel('Accuracy')\n",
    "plt.xlabel('Epoch')\n",
    "plt.legend(['Train', 'Test'], loc='upper left')\n",
    "plt.show()\n",
    "\n",
    "# Plot training & validation loss values\n",
    "plt.plot(history.history['loss'])\n",
    "plt.plot(history.history['val_loss'])\n",
    "plt.title('Model loss')\n",
    "plt.ylabel('Loss')\n",
    "plt.xlabel('Epoch')\n",
    "plt.legend(['Train', 'Test'], loc='upper right')\n",
    "plt.show()"
   ]
  },
  {
   "cell_type": "markdown",
   "metadata": {},
   "source": [
    "## Random Forest\n",
    "Build a random forest with `n_estimators=100`. What is the accuracy, precision and recall and F1 score for the training and the test data? Plot the ROC curve? Is the model overfitting"
   ]
  },
  {
   "cell_type": "code",
   "execution_count": 12,
   "metadata": {
    "scrolled": false
   },
   "outputs": [
    {
     "data": {
      "text/plain": [
       "RandomForestClassifier(bootstrap=True, class_weight=None, criterion='gini',\n",
       "            max_depth=None, max_features='auto', max_leaf_nodes=None,\n",
       "            min_impurity_decrease=0.0, min_impurity_split=None,\n",
       "            min_samples_leaf=1, min_samples_split=2,\n",
       "            min_weight_fraction_leaf=0.0, n_estimators=100, n_jobs=None,\n",
       "            oob_score=False, random_state=None, verbose=0,\n",
       "            warm_start=False)"
      ]
     },
     "execution_count": 12,
     "metadata": {},
     "output_type": "execute_result"
    },
    {
     "name": "stdout",
     "output_type": "stream",
     "text": [
      "[[137  23]\n",
      " [ 27  44]]\n",
      "              precision    recall  f1-score   support\n",
      "\n",
      "           0       0.84      0.86      0.85       160\n",
      "           1       0.66      0.62      0.64        71\n",
      "\n",
      "   micro avg       0.78      0.78      0.78       231\n",
      "   macro avg       0.75      0.74      0.74       231\n",
      "weighted avg       0.78      0.78      0.78       231\n",
      "\n"
     ]
    },
    {
     "data": {
      "text/plain": [
       "array([0.0845639 , 0.27099242, 0.0881278 , 0.06229692, 0.07261699,\n",
       "       0.16706017, 0.130684  , 0.1236578 ])"
      ]
     },
     "execution_count": 12,
     "metadata": {},
     "output_type": "execute_result"
    },
    {
     "data": {
      "text/plain": [
       "<Figure size 1080x360 with 0 Axes>"
      ]
     },
     "execution_count": 12,
     "metadata": {},
     "output_type": "execute_result"
    },
    {
     "data": {
      "text/plain": [
       "<BarContainer object of 8 artists>"
      ]
     },
     "execution_count": 12,
     "metadata": {},
     "output_type": "execute_result"
    },
    {
     "data": {
      "image/png": "[encoded data removed]",
      "text/plain": [
       "<Figure size 1080x360 with 1 Axes>"
      ]
     },
     "metadata": {
      "needs_background": "light"
     },
     "output_type": "display_data"
    }
   ],
   "source": [
    "from sklearn.ensemble import RandomForestClassifier\n",
    "\n",
    "# build and fit the model\n",
    "rfc = RandomForestClassifier(n_estimators=100)\n",
    "rfc.fit(x_train, y_train)\n",
    "\n",
    "# predict for train, predict and obtain probabilities for test\n",
    "train_rfc_pred = rfc.predict(x_train)\n",
    "test_rfc_pred = rfc.predict(x_test)\n",
    "rfc_prob_test = rfc.predict_proba(x_test)\n",
    "\n",
    "# print the confusion mareix and classification report\n",
    "print(metrics.confusion_matrix(y_test,test_rfc_pred))\n",
    "print(metrics.classification_report(y_test,test_rfc_pred))\n",
    "\n",
    "# plot each features importance\n",
    "rfc.feature_importances_\n",
    "plt.figure(figsize=(15,5))\n",
    "plt.bar(features.columns, rfc.feature_importances_)\n",
    "\n",
    "# the model appears to be overfitting. the train scores are 1.0 whereas \n",
    "# the test scores seem relatively low. "
   ]
  },
  {
   "cell_type": "code",
   "execution_count": 13,
   "metadata": {},
   "outputs": [
    {
     "name": "stdout",
     "output_type": "stream",
     "text": [
      "ACCURACY:\n",
      "train acc: 1.0\n",
      "test acc: 0.7835497835497836\n",
      "\n",
      "PRECISION:\n",
      "train precision: 1.0\n",
      "test precision: 0.6567164179104478\n",
      "\n",
      "RECALL:\n",
      "train recall: 1.0\n",
      "test recall: 0.6197183098591549\n",
      "\n",
      "F1:\n",
      "train f1: 1.0\n",
      "test f1: 0.6376811594202898\n"
     ]
    },
    {
     "data": {
      "text/plain": [
       "[<matplotlib.lines.Line2D at 0x2e66c66ef28>]"
      ]
     },
     "execution_count": 13,
     "metadata": {},
     "output_type": "execute_result"
    },
    {
     "data": {
      "text/plain": [
       "[<matplotlib.lines.Line2D at 0x2e66c678470>]"
      ]
     },
     "execution_count": 13,
     "metadata": {},
     "output_type": "execute_result"
    },
    {
     "data": {
      "text/plain": [
       "Text(0.5, 1.0, 'ROC curve')"
      ]
     },
     "execution_count": 13,
     "metadata": {},
     "output_type": "execute_result"
    },
    {
     "data": {
      "text/plain": [
       "Text(0.5, 0, 'False positve rate')"
      ]
     },
     "execution_count": 13,
     "metadata": {},
     "output_type": "execute_result"
    },
    {
     "data": {
      "text/plain": [
       "Text(0, 0.5, 'True positve rate')"
      ]
     },
     "execution_count": 13,
     "metadata": {},
     "output_type": "execute_result"
    },
    {
     "data": {
      "image/png": "[encoded data removed]",
      "text/plain": [
       "<Figure size 432x288 with 1 Axes>"
      ]
     },
     "metadata": {
      "needs_background": "light"
     },
     "output_type": "display_data"
    }
   ],
   "source": [
    "# print all the scores requested\n",
    "all_scores(y_train, train_rfc_pred, y_test, test_rfc_pred)\n",
    "\n",
    "# roc curve\n",
    "fpr, tpr, thresholds = metrics.roc_curve(y_test, rfc_prob_test[:,1])\n",
    "plt.plot([0, 1], [0, 1], 'k--')\n",
    "plt.plot(fpr, tpr)\n",
    "plt.title('ROC curve')\n",
    "plt.xlabel('False positve rate')\n",
    "plt.ylabel('True positve rate')"
   ]
  },
  {
   "cell_type": "markdown",
   "metadata": {},
   "source": [
    "build another model to limit the overfitting problem by using `n_estimators=1000, max_depth=8` as your random forest parameters. Is the overfitting better now?"
   ]
  },
  {
   "cell_type": "code",
   "execution_count": 14,
   "metadata": {},
   "outputs": [
    {
     "data": {
      "text/plain": [
       "RandomForestClassifier(bootstrap=True, class_weight=None, criterion='gini',\n",
       "            max_depth=8, max_features='auto', max_leaf_nodes=None,\n",
       "            min_impurity_decrease=0.0, min_impurity_split=None,\n",
       "            min_samples_leaf=1, min_samples_split=2,\n",
       "            min_weight_fraction_leaf=0.0, n_estimators=1000, n_jobs=None,\n",
       "            oob_score=False, random_state=None, verbose=0,\n",
       "            warm_start=False)"
      ]
     },
     "execution_count": 14,
     "metadata": {},
     "output_type": "execute_result"
    },
    {
     "name": "stdout",
     "output_type": "stream",
     "text": [
      "[[140  20]\n",
      " [ 29  42]]\n",
      "              precision    recall  f1-score   support\n",
      "\n",
      "           0       0.83      0.88      0.85       160\n",
      "           1       0.68      0.59      0.63        71\n",
      "\n",
      "   micro avg       0.79      0.79      0.79       231\n",
      "   macro avg       0.75      0.73      0.74       231\n",
      "weighted avg       0.78      0.79      0.78       231\n",
      "\n"
     ]
    },
    {
     "data": {
      "text/plain": [
       "array([0.08291237, 0.28374425, 0.07463335, 0.05892509, 0.07591216,\n",
       "       0.16997314, 0.12562259, 0.12827705])"
      ]
     },
     "execution_count": 14,
     "metadata": {},
     "output_type": "execute_result"
    },
    {
     "data": {
      "text/plain": [
       "<Figure size 1080x360 with 0 Axes>"
      ]
     },
     "execution_count": 14,
     "metadata": {},
     "output_type": "execute_result"
    },
    {
     "data": {
      "text/plain": [
       "<BarContainer object of 8 artists>"
      ]
     },
     "execution_count": 14,
     "metadata": {},
     "output_type": "execute_result"
    },
    {
     "data": {
      "image/png": "[encoded data removed]",
      "text/plain": [
       "<Figure size 1080x360 with 1 Axes>"
      ]
     },
     "metadata": {
      "needs_background": "light"
     },
     "output_type": "display_data"
    }
   ],
   "source": [
    "# build and fit the model\n",
    "rfc2 = RandomForestClassifier(n_estimators=1000, max_depth=8)\n",
    "rfc2.fit(x_train, y_train)\n",
    "\n",
    "# predict for train, predict and obtain probabilities for test\n",
    "train_rfc2_pred = rfc2.predict(x_train)\n",
    "test_rfc2_pred = rfc2.predict(x_test)\n",
    "rfc2_prob_test = rfc2.predict_proba(x_test)\n",
    "\n",
    "# print the confusion mareix and classification report\n",
    "print(metrics.confusion_matrix(y_test,test_rfc2_pred))\n",
    "print(metrics.classification_report(y_test,test_rfc2_pred))\n",
    "\n",
    "# plot each features importance\n",
    "rfc2.feature_importances_\n",
    "plt.figure(figsize=(15,5))\n",
    "plt.bar(features.columns, rfc2.feature_importances_)\n",
    "\n",
    "# the overfitting situation is a little better now thanks to the adjustment\n",
    "# in max_depth. this make sense as max_depth is used as a regularizer in\n",
    "# random forest models as they are prone to overfitting. note that this model\n",
    "# can be much improved."
   ]
  },
  {
   "cell_type": "markdown",
   "metadata": {},
   "source": [
    "plot the test precision curve  and accuracy curve for decision thresholds between 0.1 to 1 with a step of 0.1"
   ]
  },
  {
   "cell_type": "code",
   "execution_count": 15,
   "metadata": {},
   "outputs": [
    {
     "name": "stdout",
     "output_type": "stream",
     "text": [
      "ACCURACY:\n",
      "train acc: 0.9813780260707635\n",
      "test acc: 0.7878787878787878\n",
      "\n",
      "PRECISION:\n",
      "train precision: 0.9947089947089947\n",
      "test precision: 0.6774193548387096\n",
      "\n",
      "RECALL:\n",
      "train recall: 0.9543147208121827\n",
      "test recall: 0.5915492957746479\n",
      "\n",
      "F1:\n",
      "train f1: 0.9740932642487046\n",
      "test f1: 0.631578947368421\n"
     ]
    },
    {
     "name": "stderr",
     "output_type": "stream",
     "text": [
      "E:\\Users\\Dhyan Gandhi\\Anaconda3\\lib\\site-packages\\sklearn\\metrics\\classification.py:1143: UndefinedMetricWarning: Precision is ill-defined and being set to 0.0 due to no predicted samples.\n",
      "  'precision', 'predicted', average, warn_for)\n"
     ]
    },
    {
     "data": {
      "image/png": "[encoded data removed]",
      "text/plain": [
       "<Figure size 432x288 with 1 Axes>"
      ]
     },
     "metadata": {
      "needs_background": "light"
     },
     "output_type": "display_data"
    }
   ],
   "source": [
    "# plots the precision and accuracy curves\n",
    "pre_acc_curves(y_test, rfc2_prob_test[:,1])\n",
    "\n",
    "# print all the scores requested\n",
    "all_scores(y_train, train_rfc2_pred, y_test, test_rfc2_pred)"
   ]
  },
  {
   "cell_type": "markdown",
   "metadata": {},
   "source": [
    "# Finally: \n",
    "- Write a few lines about each of the three models and if there is one superior model and why do you think so?"
   ]
  },
  {
   "cell_type": "code",
   "execution_count": 16,
   "metadata": {},
   "outputs": [],
   "source": [
    "# LOGISTIC REGRESSION\n",
    "# logistic regression is good benchmark model for clasification. it a simple\n",
    "# yet powerful model and can yield good initial results. this type of model is\n",
    "# more likely to underfit than overfit. \n",
    "\n",
    "# DEEP NEURAL NETWORK\n",
    "# neural networks are very powerful tools but are prone to some common pitfalls.\n",
    "# more neurons doesn't mean better performance. it has the ability to model very\n",
    "# complex data. to overcome this, analyst need to utilize regularizers, dropouts,\n",
    "# and learning rate adjustments.\n",
    "\n",
    "# RANDOM FOREST CLASSIFIER\n",
    "# random forest appeared to be the best for this particular problem. \n",
    "# i fel that way because it yeilded the best results once we addressed \n",
    "# the overfitting issue. it is very simple to use and works accross linear\n",
    "# and logistic problem types. however \"the best\" model is a case by case decision. in our assignment we see how \n",
    "# prone to overfitting random forest is. to negate this effect we utilize the\n",
    "# max_depth parameter. "
   ]
  },
  {
   "cell_type": "markdown",
   "metadata": {},
   "source": [
    "- **Also thanks for a great quarter :) .. I will miss you and wish you all the best**\n",
    "\n",
    "- **Do not forget to submit the survey about the class. Be specific about your problems. Class settings, instructor, material, .. etc. Your voice makes a difference**"
   ]
  },
  {
   "cell_type": "markdown",
   "metadata": {},
   "source": [
    "![](machine_learning.png)"
   ]
  }
 ],
 "metadata": {
  "kernelspec": {
   "display_name": "Python 3",
   "language": "python",
   "name": "python3"
  },
  "language_info": {
   "codemirror_mode": {
    "name": "ipython",
    "version": 3
   },
   "file_extension": ".py",
   "mimetype": "text/x-python",
   "name": "python",
   "nbconvert_exporter": "python",
   "pygments_lexer": "ipython3",
   "version": "3.7.3"
  }
 },
 "nbformat": 4,
 "nbformat_minor": 2
}
