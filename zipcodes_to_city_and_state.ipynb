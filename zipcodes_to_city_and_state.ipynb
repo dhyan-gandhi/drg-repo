{
 "cells": [
  {
   "cell_type": "code",
   "execution_count": 1,
   "metadata": {},
   "outputs": [],
   "source": [
    "# Dhyan Gandhi, MSBA\n",
    "# April 28, 2020"
   ]
  },
  {
   "cell_type": "code",
   "execution_count": null,
   "metadata": {},
   "outputs": [],
   "source": [
    "# downloaded this library online\n",
    "from pyzipcode import ZipCodeDatabase\n",
    "\n",
    "# standard data science libraries\n",
    "import numpy as np\n",
    "import pandas as pd"
   ]
  },
  {
   "cell_type": "code",
   "execution_count": 2,
   "metadata": {},
   "outputs": [],
   "source": [
    "# initalize the zipcode repository\n",
    "zcdb = ZipCodeDatabase()\n",
    "\n",
    "# read excel file into dataframe\n",
    "df1 = pd.read_csv('zipcode_to_city_and_state.csv')\n",
    "\n",
    "# pad zipcodes starting with a zero with the zero that excel removes\n",
    "df1['Postal Code'] = df1['Postal Code'].apply(lambda x: str(x).zfill(5))"
   ]
  },
  {
   "cell_type": "code",
   "execution_count": 3,
   "metadata": {},
   "outputs": [],
   "source": [
    "# this function handles errors by filling the appropriate cells with 'Not Available'\n",
    "# using a for loop because cannot apply lambda with a try/except\n",
    "def zipcode_to_city_state(df, db):\n",
    "    counter = 0\n",
    "    df['City'] = 0\n",
    "    df['State'] = 0\n",
    "    for counter in range(len(df)):\n",
    "        try:\n",
    "            df['City'][counter] = db[(df['Postal Code'][counter])].city\n",
    "            df['State'][counter] = db[(df['Postal Code'][counter])].state\n",
    "        except:\n",
    "            df['City'][counter] = \"Not Available\"\n",
    "            df['State'][counter] = \"Not Available\"\n",
    "    return df"
   ]
  },
  {
   "cell_type": "code",
   "execution_count": 4,
   "metadata": {},
   "outputs": [
    {
     "name": "stderr",
     "output_type": "stream",
     "text": [
      "C:\\Users\\drgandhi\\Anaconda3\\lib\\site-packages\\ipykernel_launcher.py:7: SettingWithCopyWarning: \n",
      "A value is trying to be set on a copy of a slice from a DataFrame\n",
      "\n",
      "See the caveats in the documentation: http://pandas.pydata.org/pandas-docs/stable/indexing.html#indexing-view-versus-copy\n",
      "  import sys\n",
      "C:\\Users\\drgandhi\\Anaconda3\\lib\\site-packages\\pandas\\core\\indexing.py:190: SettingWithCopyWarning: \n",
      "A value is trying to be set on a copy of a slice from a DataFrame\n",
      "\n",
      "See the caveats in the documentation: http://pandas.pydata.org/pandas-docs/stable/indexing.html#indexing-view-versus-copy\n",
      "  self._setitem_with_indexer(indexer, value)\n",
      "C:\\Users\\drgandhi\\Anaconda3\\lib\\site-packages\\ipykernel_launcher.py:8: SettingWithCopyWarning: \n",
      "A value is trying to be set on a copy of a slice from a DataFrame\n",
      "\n",
      "See the caveats in the documentation: http://pandas.pydata.org/pandas-docs/stable/indexing.html#indexing-view-versus-copy\n",
      "  \n"
     ]
    }
   ],
   "source": [
    "# store the dataframe appended with cities and states into a new dataframe\n",
    "df2 = zipcode_to_city_state(df1,zcdb)"
   ]
  },
  {
   "cell_type": "code",
   "execution_count": 5,
   "metadata": {},
   "outputs": [],
   "source": [
    "# write dataframe to a .csv file\n",
    "df2.to_csv('zipcode_city_state_mapping.csv')"
   ]
  },
  {
   "cell_type": "code",
   "execution_count": null,
   "metadata": {},
   "outputs": [],
   "source": []
  }
 ],
 "metadata": {
  "kernelspec": {
   "display_name": "Python 3",
   "language": "python",
   "name": "python3"
  },
  "language_info": {
   "codemirror_mode": {
    "name": "ipython",
    "version": 3
   },
   "file_extension": ".py",
   "mimetype": "text/x-python",
   "name": "python",
   "nbconvert_exporter": "python",
   "pygments_lexer": "ipython3",
   "version": "3.7.3"
  }
 },
 "nbformat": 4,
 "nbformat_minor": 4
}
