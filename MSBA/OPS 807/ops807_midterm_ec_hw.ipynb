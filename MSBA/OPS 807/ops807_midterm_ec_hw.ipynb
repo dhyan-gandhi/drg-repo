{
 "cells": [
  {
   "cell_type": "code",
   "execution_count": 2,
   "metadata": {},
   "outputs": [],
   "source": [
    "from pulp import *"
   ]
  },
  {
   "cell_type": "code",
   "execution_count": 3,
   "metadata": {},
   "outputs": [],
   "source": [
    "# problem 1 part 1\n",
    "\n",
    "# let c1 = current owners of a CMC luxury car invitee\n",
    "# let c2 = owner of CMC competitor luxury car invitee\n",
    "\n",
    "# c1 costs '$1' to invite\n",
    "# c2 costs '$1' to invite\n",
    "\n",
    "# d1_neg = underachievement on getting 10000 customer from group 1\n",
    "# d1_pos = overachievement on getting 10000 customer from group 1\n",
    "# d2_neg = underachievement on getting 5000 customer from group 2\n",
    "# d2_pos = overachievement on getting 5000 customer from group 2\n",
    "# d3_neg = underachievement on spending '$70000' on invitations\n",
    "# d3_pos = overachievement on spending '$70000' on invitations\n",
    "\n",
    "\n",
    "# objective\n",
    "# maximize customers = c1 + c2\n",
    "\n",
    "# priorities\n",
    "# p1 = 1\n",
    "# p2 = 2\n",
    "\n",
    "# constraints\n",
    "# c1*0.25     >= 10000\n",
    "# c2*0.1      >= 5000\n",
    "# c1*1 + c2*1 <= 70000"
   ]
  },
  {
   "cell_type": "code",
   "execution_count": 6,
   "metadata": {},
   "outputs": [
    {
     "name": "stdout",
     "output_type": "stream",
     "text": [
      "Optimal\n",
      "c1 : 40000.0 cmc customers invited\n",
      "c2 : 30000.0 non-cmc customers invited\n",
      "d1_pos : 0.0 cmc customers under 10000\n",
      "d2_pos : 2000.0 non-cmc customers under 5000\n",
      "d3_neg : $0.0 under $70000\n",
      "d3_pos : $0.0 over $70000\n"
     ]
    }
   ],
   "source": [
    "# problem 1 part 2\n",
    "\n",
    "model_1 = LpProblem(\"Minimize Deviation\", LpMinimize)\n",
    "\n",
    "# possible options for test drive invitees\n",
    "c1 = LpVariable('cmc', cat='Integer')\n",
    "c2 = LpVariable('non-cmc', cat='Integer')\n",
    "d1_neg = LpVariable('under c1 goal', lowBound=0, cat='Integer')\n",
    "d1_pos = LpVariable('over c1 goal', lowBound=0, cat='Integer')\n",
    "d2_neg = LpVariable('under c2 goal', lowBound=0, cat='Integer')\n",
    "d2_pos = LpVariable('over c2 goal', lowBound=0, cat='Integer')\n",
    "d3_neg = LpVariable('under spending goal', lowBound=0, cat='Integer')\n",
    "d3_pos = LpVariable('over spending goal', lowBound=0, cat='Integer')\n",
    "\n",
    "# priorities\n",
    "p1 = 1\n",
    "p2 = 2\n",
    "\n",
    "# objective function\n",
    "model_1 += p1*(d1_neg) + p1*(d2_neg) + p2*(d3_neg+d3_pos), \"Over_Under\"\n",
    "\n",
    "# constraints\n",
    "model_1 += c1 + c2 + d3_neg - d3_pos  == 70000\n",
    "model_1 += c1*0.25 + d1_neg           == 10000\n",
    "model_1 += c2*0.1 + d2_neg            == 5000\n",
    "\n",
    "# Solve our problem\n",
    "model_1.solve()\n",
    "print(LpStatus[model_1.status])\n",
    "\n",
    "print(f\"c1 : {c1.varValue} cmc customers invited\")\n",
    "print(f\"c2 : {c2.varValue} non-cmc customers invited\")\n",
    "print(f\"d1_pos : {d1_neg.varValue} cmc customers under 10000\")\n",
    "print(f\"d2_pos : {d2_neg.varValue} non-cmc customers under 5000\")\n",
    "print(f\"d3_neg : ${d3_neg.varValue} under $70000\")\n",
    "print(f\"d3_pos : ${d3_pos.varValue} over $70000\")"
   ]
  },
  {
   "cell_type": "code",
   "execution_count": 5,
   "metadata": {},
   "outputs": [
    {
     "name": "stdout",
     "output_type": "stream",
     "text": [
      "Optimal\n",
      "c1 : 40000.0 cmc customers invited\n",
      "c2 : 50000.0 non-cmc customers invited\n",
      "d1_pos : None cmc customers under 10000\n",
      "d2_pos : None non-cmc customers under 5000\n",
      "d3_neg : $0.0 under $70000\n",
      "d3_pos : $20000.0 over $70000\n"
     ]
    }
   ],
   "source": [
    "# problem 1 part 4\n",
    "\n",
    "# we need to include weight for this step, c2 deviation needs to be twice as \n",
    "# important as the c1 deivation, so we multiple the devations by their\n",
    "# respective weights\n",
    "\n",
    "model_1 = LpProblem(\"Minimize Deviation\", LpMinimize)\n",
    "\n",
    "# possible options for category are -> continuous, integer, or binary\n",
    "c1 = LpVariable('cmc', cat='Integer')\n",
    "c2 = LpVariable('non-cmc', cat='Integer')\n",
    "d1_neg = LpVariable('under c1 goal', lowBound=0, cat='Integer')\n",
    "d1_pos = LpVariable('over c1 goal', lowBound=0, cat='Integer')\n",
    "d2_neg = LpVariable('under c2 goal', lowBound=0, cat='Integer')\n",
    "d2_pos = LpVariable('over c2 goal', lowBound=0, cat='Integer')\n",
    "d3_neg = LpVariable('under spending goal', lowBound=0, cat='Integer')\n",
    "d3_pos = LpVariable('over spending goal', lowBound=0, cat='Integer')\n",
    "\n",
    "# priorities\n",
    "p1 = 1\n",
    "p2 = 2\n",
    "\n",
    "# weight\n",
    "w1 = 1\n",
    "w2 = 2\n",
    "\n",
    "# objective function\n",
    "model_1 += p1*(w1*d1_neg) + p1*(w2*d2_neg) + p2*(d3_neg+d3_pos), \"Over_Under\"\n",
    "\n",
    "# constraints\n",
    "model_1 += c1 + c2 + d3_neg - d3_pos   == 70000\n",
    "model_1 += c1*0.25 - d1_neg            == 10000\n",
    "model_1 += c2*0.1 - d2_neg             == 5000\n",
    "\n",
    "# solve our problem\n",
    "model_1.solve()\n",
    "print(LpStatus[model_1.status])\n",
    "\n",
    "print(f\"c1 : {c1.varValue} cmc customers invited\")\n",
    "print(f\"c2 : {c2.varValue} non-cmc customers invited\")\n",
    "print(f\"d1_pos : {d1_pos.varValue} cmc customers under 10000\")\n",
    "print(f\"d2_pos : {d2_pos.varValue} non-cmc customers under 5000\")\n",
    "print(f\"d3_neg : ${d3_neg.varValue} under $70000\")\n",
    "print(f\"d3_pos : ${d3_pos.varValue} over $70000\")"
   ]
  },
  {
   "cell_type": "code",
   "execution_count": 5,
   "metadata": {},
   "outputs": [],
   "source": [
    "# Problem #1 Explanation\n",
    "# When we solve the problem without the weights, we find that the optimal number of invitees are 40,000 \n",
    "# CMC customers and 50,000 non-CMC customers with 20000 over the budget of 70000. When we rerun \n",
    "# the problem with the weights, we get an optimal number of invitees are (again) 40,000 CMC customers and 50,000 non-CMC \n",
    "# customers with 20000 over the budget of 70000. Note that the invitee count remains the same, so the action should not change."
   ]
  }
 ],
 "metadata": {
  "kernelspec": {
   "display_name": "Python 3",
   "language": "python",
   "name": "python3"
  },
  "language_info": {
   "codemirror_mode": {
    "name": "ipython",
    "version": 3
   },
   "file_extension": ".py",
   "mimetype": "text/x-python",
   "name": "python",
   "nbconvert_exporter": "python",
   "pygments_lexer": "ipython3",
   "version": "3.6.8"
  }
 },
 "nbformat": 4,
 "nbformat_minor": 4
}
