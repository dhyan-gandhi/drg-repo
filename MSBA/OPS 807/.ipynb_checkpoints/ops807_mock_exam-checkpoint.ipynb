{
 "cells": [
  {
   "cell_type": "code",
   "execution_count": 4,
   "metadata": {},
   "outputs": [],
   "source": [
    "# PROBLEM 1\n",
    "\n",
    "# decision variables\n",
    "# let x1 = the 3x4 ft poster (large) sold per week\n",
    "# let x2 = the 2x3 ft poster (small) sold per week\n",
    "\n",
    "# x1 - large poster has a profit of '$3'\n",
    "# x2 - small poster has a profit of '$2'\n",
    "\n",
    "# objective\n",
    "# maximize profit = x1*3 + x2*2\n",
    "\n",
    "# constraints\n",
    "# x1          <= 3\n",
    "# x2          <= 5\n",
    "# x1*2 + x2*1 <= 10"
   ]
  },
  {
   "cell_type": "code",
   "execution_count": 5,
   "metadata": {},
   "outputs": [
    {
     "name": "stdout",
     "output_type": "stream",
     "text": [
      "Optimal\n",
      "x1 : 3.0 3x4 ft poster (large) sold per week\n",
      "x2 : 4.0 2x3 ft poster (small) sold per week\n"
     ]
    }
   ],
   "source": [
    "from pulp import *\n",
    "model_1 = LpProblem(\"Maximize Profit\", LpMaximize)\n",
    "\n",
    "# possible options for category are -> continuous, integer, or binary\n",
    "x1 = LpVariable('x1', lowBound=0, upBound=3, cat='Integer')\n",
    "x2 = LpVariable('x2', lowBound=0, upBound=5, cat='Integer')\n",
    "\n",
    "\n",
    "# Objective function\n",
    "model_1 += x1*3 + x2*2, \"Profit\"\n",
    "\n",
    "# Constraints\n",
    "model_1 += x1*2 + x2*1 <= 10\n",
    "\n",
    "# Solve our problem\n",
    "model_1.solve()\n",
    "print(LpStatus[model_1.status])\n",
    "\n",
    "print(f\"x1 : {x1.varValue} 3x4 ft poster (large) sold per week\")\n",
    "print(f\"x2 : {x2.varValue} 2x3 ft poster (small) sold per week\")"
   ]
  },
  {
   "cell_type": "code",
   "execution_count": 6,
   "metadata": {},
   "outputs": [],
   "source": [
    "# PROBLEM 2\n",
    "\n",
    "# decision variables\n",
    "# let x1 = y/n to build in clifton\n",
    "# let x2 = y/n to build in mt. auburn\n",
    "# let x3 = y/n to build in mt. adams\n",
    "# let x4 = y/n to build in amberly\n",
    "# let x5 = y/n to build in norwood\n",
    "# let x6 = y/n to build in covington\n",
    "# let x7 = y/n to build in roselawn\n",
    "# let x8 = y/n to build in eden park\n",
    "\n",
    "# objective\n",
    "# maximize profit = x1*5000 + x2*6000 + x3*10000 + x4*12000 \n",
    "#                 + x5*8000 + x6*3000 + x7*9000 + x8*10000\n",
    "    \n",
    "# constraints\n",
    "# x1*60000 + x2*50000 + x3*82000 + x4*103000 \n",
    "# + x5*50000 + x6*41000 + x7*80000 + x8*69000 <= 300000"
   ]
  },
  {
   "cell_type": "code",
   "execution_count": 11,
   "metadata": {},
   "outputs": [
    {
     "name": "stdout",
     "output_type": "stream",
     "text": [
      "Optimal\n",
      "l1 : 0.0 to build in clifton\n",
      "l2 : 1.0 to build in mt. auburn\n",
      "l3 : 1.0 to build in mt. adams\n",
      "l4 : 0.0 to build in amberly\n",
      "l5 : 1.0 to build in norwood\n",
      "l6 : 1.0 to build in covington\n",
      "l7 : 0.0 to build in roselawn\n",
      "l8 : 1.0 to build in eden park\n"
     ]
    }
   ],
   "source": [
    "model_2 = LpProblem(\"Maximize Profit\", LpMaximize)\n",
    "\n",
    "# possible options for category are -> continuous, integer, or binary\n",
    "l1 = LpVariable('clifton', cat='Binary')\n",
    "l2 = LpVariable('mt. auburn', cat='Binary')\n",
    "l3 = LpVariable('mt. adams', cat='Binary')\n",
    "l4 = LpVariable('amberly', cat='Binary')\n",
    "l5 = LpVariable('norwood', cat='Binary')\n",
    "l6 = LpVariable('covington', cat='Binary')\n",
    "l7 = LpVariable('roselawn', cat='Binary')\n",
    "l8 = LpVariable('eden park', cat='Binary')\n",
    "\n",
    "# Objective function\n",
    "model_2 += l1*5000 + l2*6000 + l3*10000 + l4*12000 \\\n",
    "           + l5*8000 + l6*3000 + l7*9000 + l8*10000, \"Profit\"\n",
    "\n",
    "# Constraints\n",
    "model_2 += l1*60000 + l2*50000 + l3*82000 + l4*103000 \\\n",
    "           + l5*50000 + l6*41000 + l7*80000 + l8*69000 <= 300000\n",
    "\n",
    "# Solve our problem\n",
    "model_2.solve()\n",
    "print(LpStatus[model_2.status])\n",
    "\n",
    "print(f\"l1 : {l1.varValue} to build in clifton\")\n",
    "print(f\"l2 : {l2.varValue} to build in mt. auburn\")\n",
    "print(f\"l3 : {l3.varValue} to build in mt. adams\")\n",
    "print(f\"l4 : {l4.varValue} to build in amberly\")\n",
    "print(f\"l5 : {l5.varValue} to build in norwood\")\n",
    "print(f\"l6 : {l6.varValue} to build in covington\")\n",
    "print(f\"l7 : {l7.varValue} to build in roselawn\")\n",
    "print(f\"l8 : {l8.varValue} to build in eden park\")"
   ]
  },
  {
   "cell_type": "code",
   "execution_count": 12,
   "metadata": {},
   "outputs": [],
   "source": [
    "# PROBLEM 3\n",
    "\n",
    "# decision variables\n",
    "# let c1 = number of two drawer metal cabinet \n",
    "# let c2 = number of three drawer metal cabinet\n",
    "\n",
    "# c1 - demand of up to 600 cabinets per week\n",
    "# c2 - demand of up to 400 cabinets per week\n",
    "\n",
    "# d1_neg - underachieving goal to reach '$11000' each week\n",
    "# d1_pos - overachieving goal to reach '$11000' each week\n",
    "# d2_neg - underachieving goal to use 1300 hours each week\n",
    "# d3_neg - underachieving goal to meet maximum demand each week two drawer\n",
    "# d4_neg - underachieving goal to meet maximum demand each week three drawer\n",
    "\n",
    "# objective\n",
    "# maximize profit = c1*10 + c2*15\n",
    "\n",
    "# constraints\n",
    "# c1          <= 600\n",
    "# c2          <= 400\n",
    "# c1*1 + c2*2 <= 1300"
   ]
  },
  {
   "cell_type": "code",
   "execution_count": 26,
   "metadata": {},
   "outputs": [
    {
     "name": "stdout",
     "output_type": "stream",
     "text": [
      "Optimal\n",
      "c1 : 599.0 two drawer cabinets sold per week\n",
      "c2 : 334.0 three drawer cabinets sold per week\n"
     ]
    }
   ],
   "source": [
    "model_3 = LpProblem(\"Minimize Deviation\", LpMinimize)\n",
    "\n",
    "# possible options for category are -> continuous, integer, or binary\n",
    "c1 = LpVariable('two drawer', lowBound=0, upBound=600, cat='Integer')\n",
    "c2 = LpVariable('three drawer', lowBound=0, upBound=400, cat='Integer')\n",
    "d1_neg = LpVariable('under profit', lowBound=0, cat='Integer')\n",
    "d1_pos = LpVariable('over profit drawer', lowBound=0, cat='Integer')\n",
    "d2_neg = LpVariable('under ultilized', lowBound=0, cat='Integer')\n",
    "d3_neg = LpVariable('under demand two drawer', lowBound=0, cat='Integer')\n",
    "d4_neg = LpVariable('under demand three drawer', lowBound=0, cat='Integer')\n",
    "\n",
    "# priorities\n",
    "p1 = 1\n",
    "p2 = 2\n",
    "p3 = 3\n",
    "\n",
    "# Objective function\n",
    "model_3 += p1*(d1_neg + d1_pos) + p2*d2_neg + p3*(d3_neg + d4_neg), \"Over_Under\"\n",
    "\n",
    "# Constraints\n",
    "model_3 += c1*10 + c2*15 + d1_neg - d1_pos == 11000\n",
    "model_3 += c1*1 + c2*2 + d2_neg            == 1300\n",
    "model_3 += c1 + d3_neg                     == 600\n",
    "model_3 += c2 + d4_neg                     == 400\n",
    "\n",
    "# Solve our problem\n",
    "model_3.solve()\n",
    "print(LpStatus[model_3.status])\n",
    "\n",
    "print(f\"c1 : {c1.varValue} two drawer cabinets sold per week\")\n",
    "print(f\"c2 : {c2.varValue} three drawer cabinets sold per week\")"
   ]
  },
  {
   "cell_type": "code",
   "execution_count": 28,
   "metadata": {},
   "outputs": [
    {
     "name": "stdout",
     "output_type": "stream",
     "text": [
      "under utilization of capacity - 33.0\n",
      "under demand for 2 drawer - 1.0\n",
      "under demand for 3 drawer - 66.0\n"
     ]
    }
   ],
   "source": [
    "print(f\"under utilization of capacity - {d2_neg.varValue}\")\n",
    "print(f\"under demand for 2 drawer - {d3_neg.varValue}\")\n",
    "print(f\"under demand for 3 drawer - {d4_neg.varValue}\")"
   ]
  },
  {
   "cell_type": "code",
   "execution_count": null,
   "metadata": {},
   "outputs": [],
   "source": [
    "# PROBLEM 4\n",
    "# multiple choice\n",
    "# true/false"
   ]
  },
  {
   "cell_type": "code",
   "execution_count": null,
   "metadata": {},
   "outputs": [],
   "source": []
  }
 ],
 "metadata": {
  "kernelspec": {
   "display_name": "Python 3",
   "language": "python",
   "name": "python3"
  },
  "language_info": {
   "codemirror_mode": {
    "name": "ipython",
    "version": 3
   },
   "file_extension": ".py",
   "mimetype": "text/x-python",
   "name": "python",
   "nbconvert_exporter": "python",
   "pygments_lexer": "ipython3",
   "version": "3.6.8"
  }
 },
 "nbformat": 4,
 "nbformat_minor": 2
}
