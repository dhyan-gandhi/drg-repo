{
 "cells": [
  {
   "cell_type": "code",
   "execution_count": 11,
   "metadata": {},
   "outputs": [],
   "source": [
    "# object oriented programming\n",
    "# example of the Circle class\n",
    "\n",
    "import math \n",
    "\n",
    "class Circle:\n",
    "    # construct a circle object (initializer/constructor)\n",
    "    # required as first method for all class definitions\n",
    "    \n",
    "    # circle with public radius    \n",
    "    def __init__(self, radius = 1):\n",
    "        self.radius = radius\n",
    "\n",
    "    # circle with private radius \n",
    "    # at that point can only retrieve this information with a get method\n",
    "#     def __init__(self, radius = 1):\n",
    "#         self.__radius = radius\n",
    "\n",
    "    def getPerimeter(self):\n",
    "        return 2 * self.radius * math.pi\n",
    "\n",
    "    def getArea(self):\n",
    "        return self.radius * self.radius * math.pi\n",
    "          \n",
    "    def setRadius(self, radius):\n",
    "        self.radius = radius\n",
    "    \n",
    "    # we added our own method to this class to return the radius\n",
    "    # this didn't exist in Circle.py but we could add and save it there\n",
    "    def getRadius(self):\n",
    "        return self.radius"
   ]
  },
  {
   "cell_type": "code",
   "execution_count": 12,
   "metadata": {},
   "outputs": [
    {
     "name": "stdout",
     "output_type": "stream",
     "text": [
      "The area of the circle of radius 1 is 3.141592653589793\n"
     ]
    }
   ],
   "source": [
    "def main():\n",
    "    # create a circle with a radius of 1\n",
    "    c1 = Circle()\n",
    "    print('The area of the circle of radius', c1.radius, 'is', c1.getArea())\n",
    "    \n",
    "# the steps above don't have to be in a function \n",
    "# and can be called separately like cells below\n",
    "main()"
   ]
  },
  {
   "cell_type": "code",
   "execution_count": 13,
   "metadata": {},
   "outputs": [
    {
     "name": "stdout",
     "output_type": "stream",
     "text": [
      "The area of the circle of radius 10 is 314.1592653589793\n"
     ]
    }
   ],
   "source": [
    "# circle with a radius of 10\n",
    "c2 = Circle(10)\n",
    "print(f\"The area of the circle of radius {c2.getRadius()} is {c2.getArea()}\")"
   ]
  },
  {
   "cell_type": "code",
   "execution_count": 14,
   "metadata": {},
   "outputs": [
    {
     "name": "stdout",
     "output_type": "stream",
     "text": [
      "The area of the circle of radius 20 is 1256.6370614359173\n"
     ]
    }
   ],
   "source": [
    "# circle with a radius of 20\n",
    "c3 = Circle(20)\n",
    "print(f\"The area of the circle of radius {c3.getRadius()} is {c3.getArea()}\")"
   ]
  },
  {
   "cell_type": "code",
   "execution_count": 16,
   "metadata": {},
   "outputs": [
    {
     "name": "stdout",
     "output_type": "stream",
     "text": [
      "[0, 1, 2, 3, 4]\n"
     ]
    }
   ],
   "source": [
    "# LIST COMPREHENSION\n",
    "list_ = [x for x in range(0,5)]\n",
    "print(list_)"
   ]
  },
  {
   "cell_type": "code",
   "execution_count": null,
   "metadata": {},
   "outputs": [],
   "source": [
    "# GENERAL OPTIMIZATION PROBLEMS\n",
    "# there are multiple ways to solve the problem\n",
    "# there is a criterion to pick best of those solutions\n",
    "# finding minimums and maximums are common asks\n",
    "# in a convex function, local and global minimums are the same\n",
    "# use the derivative function to find tangent line slope\n",
    "# take the derivative and set equal to zero to find min or max\n",
    "# the second derivative tells you if its a min or max\n",
    "# positive means minimum; negative means maximum; zero means inflection point\n",
    "# convert maximization problem to minimization problem by multiplying function by -1\n",
    "# gradient descent is a method of optimization to reach minimum value"
   ]
  }
 ],
 "metadata": {
  "kernelspec": {
   "display_name": "Python 3",
   "language": "python",
   "name": "python3"
  },
  "language_info": {
   "codemirror_mode": {
    "name": "ipython",
    "version": 3
   },
   "file_extension": ".py",
   "mimetype": "text/x-python",
   "name": "python",
   "nbconvert_exporter": "python",
   "pygments_lexer": "ipython3",
   "version": "3.6.8"
  }
 },
 "nbformat": 4,
 "nbformat_minor": 2
}
