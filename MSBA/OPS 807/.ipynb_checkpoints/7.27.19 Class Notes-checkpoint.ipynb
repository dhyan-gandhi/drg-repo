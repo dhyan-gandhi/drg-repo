{
 "cells": [
  {
   "cell_type": "code",
   "execution_count": 1,
   "metadata": {},
   "outputs": [],
   "source": [
    "# MATRIX OPERATIONS IN PYTHON"
   ]
  },
  {
   "cell_type": "code",
   "execution_count": 2,
   "metadata": {},
   "outputs": [],
   "source": [
    "# -*- coding: utf-8 -*-\n",
    "\"\"\"\n",
    "Created on Fri Jul 26 18:23:10 2019\n",
    "Linear algebra examples in Numpy\n",
    "@author: drg\n",
    "\"\"\"\n",
    "import numpy as np\n",
    "\n",
    "# matrix addition\n",
    "a = np.array([[6,1,1], [4, -2, 5], [2,8,7]])\n",
    "b = np.array([[1,5,7], [2,3.5,14], [-4, -5, 12]])"
   ]
  },
  {
   "cell_type": "code",
   "execution_count": 3,
   "metadata": {},
   "outputs": [
    {
     "name": "stdout",
     "output_type": "stream",
     "text": [
      "addition of matrix a =\n",
      " [[ 6  1  1]\n",
      " [ 4 -2  5]\n",
      " [ 2  8  7]] \n",
      "plus b =\n",
      " [[ 1.   5.   7. ]\n",
      " [ 2.   3.5 14. ]\n",
      " [-4.  -5.  12. ]] \n",
      "is equal to \n",
      " [[ 7.   6.   8. ]\n",
      " [ 6.   1.5 19. ]\n",
      " [-2.   3.  19. ]]\n"
     ]
    }
   ],
   "source": [
    "# array addition\n",
    "c = a + b\n",
    "print(f'addition of matrix a =\\n {a} \\nplus b =\\n {b} \\nis equal to \\n {c}' )"
   ]
  },
  {
   "cell_type": "code",
   "execution_count": 4,
   "metadata": {},
   "outputs": [
    {
     "name": "stdout",
     "output_type": "stream",
     "text": [
      "matrix a =\n",
      " [[ 6  1  1]\n",
      " [ 4 -2  5]\n",
      " [ 2  8  7]] \n",
      "minus b =\n",
      " [[ 1.   5.   7. ]\n",
      " [ 2.   3.5 14. ]\n",
      " [-4.  -5.  12. ]] \n",
      "is equal to \n",
      " [[ 5.  -4.  -6. ]\n",
      " [ 2.  -5.5 -9. ]\n",
      " [ 6.  13.  -5. ]]\n"
     ]
    }
   ],
   "source": [
    "# array subtraction\n",
    "d = a - b\n",
    "print(f'matrix a =\\n {a} \\nminus b =\\n {b} \\nis equal to \\n {d}' )"
   ]
  },
  {
   "cell_type": "code",
   "execution_count": 5,
   "metadata": {},
   "outputs": [
    {
     "name": "stdout",
     "output_type": "stream",
     "text": [
      "multiplication of matrix a =\n",
      " [[ 6  1  1]\n",
      " [ 4 -2  5]\n",
      " [ 2  8  7]] \n",
      "by b =\n",
      " [[ 1.   5.   7. ]\n",
      " [ 2.   3.5 14. ]\n",
      " [-4.  -5.  12. ]] \n",
      "is equal to \n",
      " [[  4.   28.5  68. ]\n",
      " [-20.  -12.   60. ]\n",
      " [-10.    3.  210. ]]\n"
     ]
    }
   ],
   "source": [
    "# array multiplication. Make sure that the inner dimension of two matrices are the same\n",
    "# remember that * corresponds to element-wise multiplication. You can also use the dot operator\n",
    "e = a @ b\n",
    "e1 = a.dot(b)\n",
    "np.allclose(e,e1)\n",
    "print(f'multiplication of matrix a =\\n {a} \\nby b =\\n {b} \\nis equal to \\n {e}' )"
   ]
  },
  {
   "cell_type": "code",
   "execution_count": 6,
   "metadata": {},
   "outputs": [
    {
     "name": "stdout",
     "output_type": "stream",
     "text": [
      "The transpose of matrix a =\n",
      " [[ 6  1  1]\n",
      " [ 4 -2  5]\n",
      " [ 2  8  7]] \n",
      "is \n",
      " [[ 6  4  2]\n",
      " [ 1 -2  8]\n",
      " [ 1  5  7]]\n"
     ]
    }
   ],
   "source": [
    "# transpose\n",
    "aT = a.T\n",
    "print(f'The transpose of matrix a =\\n {a} \\nis \\n {aT}' )"
   ]
  },
  {
   "cell_type": "code",
   "execution_count": 7,
   "metadata": {},
   "outputs": [
    {
     "name": "stdout",
     "output_type": "stream",
     "text": [
      "-2.0000000000000004\n",
      "[[ 1.   5.   7. ]\n",
      " [ 2.   3.5 14. ]\n",
      " [-4.  -5.  12. ]]\n",
      "-259.99999999999994\n",
      "-306\n"
     ]
    }
   ],
   "source": [
    "# determinant 2X2\n",
    "import numpy as np\n",
    "a = np.array([[1,2], [3,4]]) \n",
    "print(np.linalg.det(a))\n",
    "\n",
    "# determinant 3X3\n",
    "print(b) \n",
    "print(np.linalg.det(b)) \n",
    "print(6*(-2*7 - 5*8) - 1*(4*7 - 5*2) + 1*(4*8 - -2*2))"
   ]
  },
  {
   "cell_type": "code",
   "execution_count": 8,
   "metadata": {},
   "outputs": [
    {
     "data": {
      "text/latex": [
       "$\\displaystyle \\left[\\begin{matrix}-54 & -18 & 36\\\\1 & 40 & -46\\\\7 & -26 & -16\\end{matrix}\\right]$"
      ],
      "text/plain": [
       "Matrix([\n",
       "[-54, -18,  36],\n",
       "[  1,  40, -46],\n",
       "[  7, -26, -16]])"
      ]
     },
     "execution_count": 8,
     "metadata": {},
     "output_type": "execute_result"
    }
   ],
   "source": [
    "# cofactors using sympy\n",
    "from sympy import *\n",
    "A = Matrix([[6,1,1], [4, -2, 5], [2,8,7]])\n",
    "A.adjugate().T"
   ]
  },
  {
   "cell_type": "code",
   "execution_count": 9,
   "metadata": {},
   "outputs": [
    {
     "name": "stdout",
     "output_type": "stream",
     "text": [
      "[[ 4. -3.]\n",
      " [-2.  1.]]\n"
     ]
    }
   ],
   "source": [
    "# cofactors using numpy\n",
    "a_cofac = np.linalg.inv(a).T * np.linalg.det(a)\n",
    "print(a_cofac)"
   ]
  },
  {
   "cell_type": "code",
   "execution_count": 10,
   "metadata": {},
   "outputs": [
    {
     "name": "stdout",
     "output_type": "stream",
     "text": [
      "[[ 4. -2.]\n",
      " [-3.  1.]]\n"
     ]
    },
    {
     "data": {
      "text/latex": [
       "$\\displaystyle \\left[\\begin{matrix}-54 & 1 & 7\\\\-18 & 40 & -26\\\\36 & -46 & -16\\end{matrix}\\right]$"
      ],
      "text/plain": [
       "Matrix([\n",
       "[-54,   1,   7],\n",
       "[-18,  40, -26],\n",
       "[ 36, -46, -16]])"
      ]
     },
     "execution_count": 10,
     "metadata": {},
     "output_type": "execute_result"
    }
   ],
   "source": [
    "# adjugate\n",
    "a_adjugate = np.linalg.inv(a) * np.linalg.det(a)\n",
    "print(a_adjugate)\n",
    "\n",
    "# adjoint or adjugate using sympy\n",
    "A.adjoint() # just gives you the transpose\n",
    "A.adjugate() # this gives you transpose of cofactor matrix"
   ]
  },
  {
   "cell_type": "code",
   "execution_count": 11,
   "metadata": {},
   "outputs": [
    {
     "name": "stdout",
     "output_type": "stream",
     "text": [
      "[[-2.   1. ]\n",
      " [ 1.5 -0.5]]\n",
      "[[1 2]\n",
      " [3 4]]\n",
      "[[1.0000000e+00 4.4408921e-16]\n",
      " [0.0000000e+00 1.0000000e+00]]\n"
     ]
    },
    {
     "data": {
      "text/plain": [
       "True"
      ]
     },
     "execution_count": 11,
     "metadata": {},
     "output_type": "execute_result"
    }
   ],
   "source": [
    "# Matrix Inverse\n",
    "a_inv = np.linalg.inv(a)\n",
    "print(a_inv)\n",
    "print(a)\n",
    "np.allclose(np.dot(a, a_inv), np.eye(2))\n",
    "\n",
    "# check based on the definition of inverse\n",
    "idnty = a_inv @ a \n",
    "print(idnty)\n",
    "\n",
    "# solve a system of linear equation\n",
    "'''\n",
    "solve the following linear system\n",
    "A_mat X = B_mat\n",
    "\n",
    "2X1 + 3X2 = 24\n",
    "4X1 + 2X2 = 36\n",
    "\n",
    "A_mat = | 2  3|\n",
    "        | 4  2|\n",
    "        \n",
    "B_mat = |24|\n",
    "        |36|        \n",
    "'''\n",
    "A_mat = np.array([[2,3], [4,2]])\n",
    "B_mat = np.array([24,36])\n",
    "x = np.linalg.solve(A_mat, B_mat)\n",
    "x\n",
    "\n",
    "# check A_mat X = B_mat\n",
    "np.allclose(np.dot(A_mat, x), B_mat)"
   ]
  },
  {
   "cell_type": "code",
   "execution_count": 12,
   "metadata": {},
   "outputs": [],
   "source": [
    "import numpy as np\n",
    "from scipy.optimize import linprog"
   ]
  },
  {
   "cell_type": "code",
   "execution_count": 15,
   "metadata": {},
   "outputs": [],
   "source": [
    "\"\"\"\n",
    "1. Write the problem above using LP and give a solution\n",
    "\n",
    "\n",
    "Maximize profit for the flair furniture company\n",
    "maximize f(x)=70T + 50C\n",
    "4T + 3C ≤ 240\n",
    "2T + 1C ≤ 100\n",
    "T, C ≥ 0\n",
    "\"\"\"\n",
    "\n",
    "\"\"\"\n",
    "solving the problem using scipy.optimize.linprog\n",
    "\n",
    "\"\"\"\n",
    "\n",
    "\"\"\"\n",
    "answer from excel solver:\n",
    "    Tables = 30\n",
    "    chairs = 40\n",
    "    total profit = $4100.0\n",
    "\"\"\"\n",
    "\n",
    "A = np.array([[4, 3], [2,1]])\n",
    "b = np.array([240, 100])\n",
    "c = np.array([-70, -50])"
   ]
  },
  {
   "cell_type": "code",
   "execution_count": 16,
   "metadata": {},
   "outputs": [
    {
     "name": "stdout",
     "output_type": "stream",
     "text": [
      "Optimal value: 4099.999999758751, \n",
      "X: [30. 40.]\n"
     ]
    }
   ],
   "source": [
    "res = linprog(c, A_ub=A, b_ub=b, bounds=(0, None))\n",
    "print(f'Optimal value: {-res.fun}, \\nX: {res.x}')"
   ]
  },
  {
   "cell_type": "code",
   "execution_count": 18,
   "metadata": {},
   "outputs": [
    {
     "name": "stdout",
     "output_type": "stream",
     "text": [
      "Number of tables: 30.0 \n",
      "Number of chairs: 40.0\n",
      "Total profit is = 4100.0\n"
     ]
    }
   ],
   "source": [
    "from pulp import *\n",
    "\n",
    "\"\"\"\n",
    "Solving using pulp library with integer programming capability\n",
    "\n",
    "\"\"\"\n",
    "model = LpProblem(\"Profit maximising problem\", LpMaximize)\n",
    "\n",
    "x1 = LpVariable('x1', lowBound=0, cat='Continuous')\n",
    "x2 = LpVariable('x2', lowBound=0, cat='Continuous')\n",
    "\n",
    "# Objective function\n",
    "model += 70 * x1 + 50 * x2, \"Profit\"\n",
    "\n",
    "# Constraints\n",
    "model += 4 * x1 + 3 * x2 <= 240\n",
    "model += 2 * x1 + x2     <= 100\n",
    "\n",
    "# Solve our problem\n",
    "model.solve()\n",
    "LpStatus[model.status]\n",
    "\n",
    "\"\"\"\n",
    "answer from excel solver:\n",
    "    Tables = 30\n",
    "    chairs = 40\n",
    "    total profit = $4100.0\n",
    "\"\"\"\n",
    " \n",
    "print(f'Number of tables: {x1.varValue} \\nNumber of chairs: {x2.varValue}')\n",
    "print(f'Total profit is = {value(model.objective)}')"
   ]
  },
  {
   "cell_type": "code",
   "execution_count": 22,
   "metadata": {},
   "outputs": [
    {
     "name": "stdout",
     "output_type": "stream",
     "text": [
      "Brand #1 Feed: 8.4 \n",
      "Brand #2 Feed: 4.8\n",
      "Total cost is = 31.2\n"
     ]
    }
   ],
   "source": [
    "\"\"\"\n",
    "Solving using pulp library with integer programming capability\n",
    "\n",
    "\"\"\"\n",
    "model_min = LpProblem(\"Cost minimizing problem\", LpMinimize)\n",
    "\n",
    "x1 = LpVariable('x1', lowBound=0, cat='Continuous')\n",
    "x2 = LpVariable('x2', lowBound=0, cat='Continuous')\n",
    "\n",
    "# Objective function\n",
    "model_min += 2 * x1 + 3 * x2, \"Cost\"\n",
    "\n",
    "# Constraints\n",
    "model_min += 5 * x1 + 10 * x2 >= 90\n",
    "model_min += 4 * x1 + 3 * x2  >= 48\n",
    "model_min += 0.5 * x1         >= 1.5\n",
    "\n",
    "# not needed because we set lower bound above\n",
    "# model_min += x1               >= 0\n",
    "# model_min += x2               >= 0\n",
    "\n",
    "# Solve our problem\n",
    "model_min.solve()\n",
    "LpStatus[model_min.status]\n",
    "\n",
    "\"\"\"\n",
    "answer from excel solver:\n",
    "    feed1 = 8.4\n",
    "    feed2 = 4.8\n",
    "    minimum cost = 31.2\n",
    "\"\"\"\n",
    " \n",
    "print(f'Brand #1 Feed: {x1.varValue} \\nBrand #2 Feed: {x2.varValue}')\n",
    "print(f'Total cost is = {value(model_min.objective)}')"
   ]
  },
  {
   "cell_type": "code",
   "execution_count": null,
   "metadata": {},
   "outputs": [],
   "source": []
  }
 ],
 "metadata": {
  "kernelspec": {
   "display_name": "Python 3",
   "language": "python",
   "name": "python3"
  },
  "language_info": {
   "codemirror_mode": {
    "name": "ipython",
    "version": 3
   },
   "file_extension": ".py",
   "mimetype": "text/x-python",
   "name": "python",
   "nbconvert_exporter": "python",
   "pygments_lexer": "ipython3",
   "version": "3.6.8"
  }
 },
 "nbformat": 4,
 "nbformat_minor": 2
}
