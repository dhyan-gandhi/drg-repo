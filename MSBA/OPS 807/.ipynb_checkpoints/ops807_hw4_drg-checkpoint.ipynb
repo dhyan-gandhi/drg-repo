{
 "cells": [
  {
   "cell_type": "code",
   "execution_count": 11,
   "metadata": {},
   "outputs": [],
   "source": [
    "from pulp import *"
   ]
  },
  {
   "cell_type": "code",
   "execution_count": 12,
   "metadata": {},
   "outputs": [],
   "source": [
    "# Media selection, Win Big Gambling Club (pg: 292-293)"
   ]
  },
  {
   "cell_type": "code",
   "execution_count": 14,
   "metadata": {},
   "outputs": [
    {
     "name": "stdout",
     "output_type": "stream",
     "text": [
      "Optimal\n",
      "x1 : 1.96875 1-minute TV spots taken each week\n",
      "x2 : 5.0 full-page daily newspaper ads taken each week\n",
      "x3 : 6.2068966 30-second prime-time radio spots taken each week\n",
      "x4 : 0.0 1-minute afternoon radio spots taken each week\n"
     ]
    }
   ],
   "source": [
    "model_1 = LpProblem(\"Maximize number of people (audience) reached\", LpMaximize)\n",
    "\n",
    "# possible options for category are -> continuous, integer, or binary\n",
    "x1 = LpVariable('x1', lowBound=0, upBound=12, cat='Continuous')\n",
    "x2 = LpVariable('x2', lowBound=0, upBound=5, cat='Continuous')\n",
    "x3 = LpVariable('x3', lowBound=0, upBound=25, cat='Continuous')\n",
    "x4 = LpVariable('x4', lowBound=0, upBound=20, cat='Continuous')\n",
    "\n",
    "# Objective function\n",
    "model_1 += 5000*x1 + 8500*x2 + 2400*x3 + 2800*x4, \"Maximize Reach\"\n",
    "\n",
    "# Constraints\n",
    "model_1 += 800*x1 + 925*x2 + 290*x3 + 380*x4 <= 8000\n",
    "model_1 += x3 + x4                           >= 5\n",
    "model_1 += 290*x3 + 380*x4                   <= 1800\n",
    " \n",
    "# Solve our problem\n",
    "model_1.solve()\n",
    "print(LpStatus[model_1.status])\n",
    "\n",
    "print(f\"x1 : {x1.varValue} 1-minute TV spots taken each week\")\n",
    "print(f\"x2 : {x2.varValue} full-page daily newspaper ads taken each week\")\n",
    "print(f\"x3 : {x3.varValue} 30-second prime-time radio spots taken each week\")\n",
    "print(f\"x4 : {x4.varValue} 1-minute afternoon radio spots taken each week\")"
   ]
  },
  {
   "cell_type": "code",
   "execution_count": 3,
   "metadata": {},
   "outputs": [],
   "source": [
    "# Employee Scheduling Applications, Labor Planning, Hong Kong Bank of Commerce and Industry\n",
    "# (pg:301-302)"
   ]
  },
  {
   "cell_type": "code",
   "execution_count": 16,
   "metadata": {},
   "outputs": [
    {
     "name": "stdout",
     "output_type": "stream",
     "text": [
      "Optimal\n",
      "f : 10.0 full-time teller\n",
      "p1 : 0.0 part-timers starting at 9 a.m (leaving at 1 p.m.)\n",
      "p2 : 7.0 part-timers starting at 10 a.m (leaving at 2 p.m.)\n",
      "p3 : 2.0 part-timers starting at 11 a.m (leaving at 3 p.m.)\n",
      "p4 : 5.0 part-timers starting at noon (leaving at 4 p.m.)\n",
      "p5 : 0.0 part-timers starting at 1 p.m (leaving at 5 p.m.)\n"
     ]
    }
   ],
   "source": [
    "model_2 = LpProblem(\"Minimize total daily personnel cost\", LpMinimize)\n",
    "\n",
    "# possible options for category are -> continuous, integer, or binary\n",
    "f = LpVariable('f', lowBound=0, upBound=12, cat='Integer')\n",
    "p1 = LpVariable('p1', lowBound=0, cat='Integer')\n",
    "p2 = LpVariable('p2', lowBound=0, cat='Integer')\n",
    "p3 = LpVariable('p3', lowBound=0, cat='Integer')\n",
    "p4 = LpVariable('p4', lowBound=0, cat='Integer')\n",
    "p5 = LpVariable('p5', lowBound=0, cat='Integer')\n",
    "\n",
    "# Objective function\n",
    "model_2 += 100*f + 32*(p1 + p2 + p3 + p4 + p5), \"Miinimize Cost\"\n",
    "\n",
    "# Constraints\n",
    "model_2 += f + p1                               >= 10\n",
    "model_2 += f + p1 + p2                          >= 12\n",
    "model_2 += 0.5*f + p1 + p2 + p3                 >= 14\n",
    "model_2 += 0.5*f + p1 + p2 + p3 + p4            >= 16\n",
    "model_2 += f + p2 + p3 + p4 + p5                >= 18\n",
    "model_2 += f + p2 + p3 + p4 + p5                >= 18\n",
    "model_2 += f + p3 + p4 + p5                     >= 17\n",
    "model_2 += f + p4 + p5                          >= 15\n",
    "model_2 += f + p5                               >= 10\n",
    "model_2 += 4*(p1 + p2 + p3 + p4 + p5)           <= 56 \n",
    "\n",
    "# Solve our problem\n",
    "model_2.solve()\n",
    "print(LpStatus[model_2.status])\n",
    "\n",
    "print(f\"f : {f.varValue} full-time teller\")\n",
    "print(f\"p1 : {p1.varValue} part-timers starting at 9 a.m (leaving at 1 p.m.)\")\n",
    "print(f\"p2 : {p2.varValue} part-timers starting at 10 a.m (leaving at 2 p.m.)\")\n",
    "print(f\"p3 : {p3.varValue} part-timers starting at 11 a.m (leaving at 3 p.m.)\")\n",
    "print(f\"p4 : {p4.varValue} part-timers starting at noon (leaving at 4 p.m.)\")\n",
    "print(f\"p5 : {p5.varValue} part-timers starting at 1 p.m (leaving at 5 p.m.)\")"
   ]
  },
  {
   "cell_type": "code",
   "execution_count": 4,
   "metadata": {},
   "outputs": [],
   "source": [
    "# Problem 8-18 (hospital expansion problem) from the end of chapter 8\n",
    "# pdf 338"
   ]
  },
  {
   "cell_type": "code",
   "execution_count": null,
   "metadata": {},
   "outputs": [],
   "source": []
  },
  {
   "cell_type": "code",
   "execution_count": 5,
   "metadata": {},
   "outputs": [],
   "source": [
    "# 10.19 (Triangle Utilities)\n",
    "# pdf 408"
   ]
  },
  {
   "cell_type": "code",
   "execution_count": null,
   "metadata": {},
   "outputs": [],
   "source": [
    "model_4 = LpProblem(\"Minimize total daily personnel cost\", LpMinimize)\n",
    "\n",
    "# possible options for category are -> continuous, integer, or binary\n",
    "g_main = LpVariable('g_main', lowBound=0, upBound=12, cat='Integer')\n",
    "g1 = LpVariable('g1', lowBound=0, cat='Integer')\n",
    "g2 = LpVariable('g2', lowBound=0, cat='Integer')\n",
    "g3 = LpVariable('g3', lowBound=0, cat='Integer')\n",
    "\n",
    "\n",
    "# Objective function\n",
    "model_4 += 100*f + 32*(p1 + p2 + p3 + p4 + p5), \"Miinimize Cost\"\n",
    "\n",
    "# Constraints\n",
    "model_4 += f + p1                               >= 10\n",
    "model_4 += f + p1 + p2                          >= 12\n",
    "model_4 += 0.5*f + p1 + p2 + p3                 >= 14\n",
    "model_4 += 0.5*f + p1 + p2 + p3 + p4            >= 16\n",
    "model_4 += f + p2 + p3 + p4 + p5                >= 18\n",
    "model_4 += f + p2 + p3 + p4 + p5                >= 18\n",
    "model_4 += f + p3 + p4 + p5                     >= 17\n",
    "model_4 += f + p4 + p5                          >= 15\n",
    "model_4 += f + p5                               >= 10\n",
    "model_4 += 4*(p1 + p2 + p3 + p4 + p5)           <= 56 \n",
    "\n",
    "# Solve our problem\n",
    "model_4.solve()\n",
    "print(LpStatus[model_4.status])\n",
    "\n",
    "print(f\"g_main : {g_main.varValue} full-time teller\")\n",
    "print(f\"g1 : {g1.varValue} part-timers starting at 9 a.m (leaving at 1 p.m.)\")\n",
    "print(f\"g2 : {g2.varValue} part-timers starting at 10 a.m (leaving at 2 p.m.)\")\n",
    "print(f\"g3 : {g3.varValue} part-timers starting at 11 a.m (leaving at 3 p.m.)\")"
   ]
  },
  {
   "cell_type": "code",
   "execution_count": 6,
   "metadata": {},
   "outputs": [],
   "source": [
    "# 10.26 (goal programming)\n",
    "# pdf 409"
   ]
  },
  {
   "cell_type": "code",
   "execution_count": 19,
   "metadata": {},
   "outputs": [
    {
     "name": "stdout",
     "output_type": "stream",
     "text": [
      "Optimal\n",
      "stock : $150000.0 dollars to invest\n",
      "bonds : $100000.0 dollars to invest\n",
      "real-estate : $0.0 dollars to invest\n"
     ]
    }
   ],
   "source": [
    "model_5 = LpProblem(\"Minimize Deviation\", LpMinimize)\n",
    "\n",
    "# possible options for category are -> continuous, integer, or binary\n",
    "s = LpVariable('stocks', lowBound=0, upBound=150000, cat='Integer')\n",
    "b = LpVariable('bonds', lowBound=0, upBound=150000, cat='Integer')\n",
    "r = LpVariable('real-estate', lowBound=0, upBound=150000, cat='Integer')\n",
    "d1_neg = LpVariable('d1_neg', lowBound=0, cat='Integer')\n",
    "d1_pos = LpVariable('d1_pos', lowBound=0, cat='Integer')\n",
    "d2_neg = LpVariable('d2_neg', lowBound=0, cat='Integer')\n",
    "d2_pos = LpVariable('d2_pos', lowBound=0, cat='Integer')\n",
    "d3_neg = LpVariable('d3_neg', lowBound=0, cat='Integer')\n",
    "d3_pos = LpVariable('d3_pos', lowBound=0, cat='Integer')\n",
    "\n",
    "\n",
    "# Objective function\n",
    "model_5 += d1_neg + d2_neg + d3_pos, \"Under_Over\"\n",
    "\n",
    "# Constraints\n",
    "model_5 += b + d2_neg - d2_pos                       == 75000\n",
    "model_5 += r +d3_neg + d3_pos                        == 0.5*(s + b)\n",
    "model_5 += s + b + r                                 == 250000\n",
    "model_5 += 0.13*s + 0.08*b + 0.1*r + d1_neg - d1_pos >= 25000\n",
    "\n",
    "# Solve our problem\n",
    "model_5.solve()\n",
    "print(LpStatus[model_5.status])\n",
    "\n",
    "print(f\"stock : ${s.varValue} dollars to invest\")\n",
    "print(f\"bonds : ${b.varValue} dollars to invest\")\n",
    "print(f\"real-estate : ${r.varValue} dollars to invest\")"
   ]
  },
  {
   "cell_type": "code",
   "execution_count": null,
   "metadata": {},
   "outputs": [],
   "source": []
  }
 ],
 "metadata": {
  "kernelspec": {
   "display_name": "Python 3",
   "language": "python",
   "name": "python3"
  },
  "language_info": {
   "codemirror_mode": {
    "name": "ipython",
    "version": 3
   },
   "file_extension": ".py",
   "mimetype": "text/x-python",
   "name": "python",
   "nbconvert_exporter": "python",
   "pygments_lexer": "ipython3",
   "version": "3.6.8"
  }
 },
 "nbformat": 4,
 "nbformat_minor": 2
}
