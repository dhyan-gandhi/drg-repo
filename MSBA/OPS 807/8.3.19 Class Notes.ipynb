{
 "cells": [
  {
   "cell_type": "code",
   "execution_count": 1,
   "metadata": {},
   "outputs": [],
   "source": [
    "import gurobipy as gby"
   ]
  },
  {
   "cell_type": "code",
   "execution_count": 2,
   "metadata": {},
   "outputs": [
    {
     "ename": "GurobiError",
     "evalue": "No Gurobi license found (user dgandhi, host Dhyans-MacBook-Pro.local, hostid 5025e7d2, cores 2)",
     "output_type": "error",
     "traceback": [
      "\u001b[0;31m---------------------------------------------------------------------------\u001b[0m",
      "\u001b[0;31mGurobiError\u001b[0m                               Traceback (most recent call last)",
      "\u001b[0;32m<ipython-input-2-c9209923085a>\u001b[0m in \u001b[0;36m<module>\u001b[0;34m\u001b[0m\n\u001b[0;32m----> 1\u001b[0;31m \u001b[0mm\u001b[0m \u001b[0;34m=\u001b[0m \u001b[0mgby\u001b[0m\u001b[0;34m.\u001b[0m\u001b[0mModel\u001b[0m\u001b[0;34m(\u001b[0m\u001b[0;34m'drg1'\u001b[0m\u001b[0;34m)\u001b[0m\u001b[0;34m\u001b[0m\u001b[0;34m\u001b[0m\u001b[0m\n\u001b[0m",
      "\u001b[0;32mmodel.pxi\u001b[0m in \u001b[0;36mgurobipy.Model.__init__\u001b[0;34m()\u001b[0m\n",
      "\u001b[0;32mgurobi.pxi\u001b[0m in \u001b[0;36mgurobipy.gurobi._getdefaultenv\u001b[0;34m()\u001b[0m\n",
      "\u001b[0;32menv.pxi\u001b[0m in \u001b[0;36mgurobipy.Env.__init__\u001b[0;34m()\u001b[0m\n",
      "\u001b[0;31mGurobiError\u001b[0m: No Gurobi license found (user dgandhi, host Dhyans-MacBook-Pro.local, hostid 5025e7d2, cores 2)"
     ]
    }
   ],
   "source": [
    "m = gby.Model('drg1')"
   ]
  },
  {
   "cell_type": "code",
   "execution_count": 3,
   "metadata": {},
   "outputs": [],
   "source": [
    "# gurobi needs a license obtained from a vpn connection to a .edu domain with a .edu email address"
   ]
  },
  {
   "cell_type": "code",
   "execution_count": 4,
   "metadata": {},
   "outputs": [],
   "source": [
    "# integer programming is done very similarly to linear programming with libraries like pulp"
   ]
  },
  {
   "cell_type": "code",
   "execution_count": 5,
   "metadata": {},
   "outputs": [],
   "source": [
    "\"\"\"\n",
    "MSA is a marketing research firm\n",
    "Several requirements for a statistical validity\n",
    "Survey at least 2,300 U.S. households\n",
    "Survey at least 1,000 households whose heads are ≤ 30 years old\n",
    "Survey at least 600 households whose heads are between 31 and 50\n",
    "Ensure that at least 15% of those surveyed live in a state that borders Mexico\n",
    "Ensure that no more than 20% of those surveyed who are 51 years of age or over live in a state that borders Mexico\n",
    "\n",
    "MSA decides to conduct all surveys in person\n",
    "Estimates of the costs of reaching people in each age and region category\n",
    "Goal is to meet the sampling requirements at the least possible cost\n",
    "\n",
    "Decision variables\n",
    "\n",
    "X1 = number of 30 or younger and in a border state\n",
    "X2 = number of 31-50 and in a border state\n",
    "X3 = number 51 or older and in a border state\n",
    "X4 = number 30 or younger and not in a border state\n",
    "X5 = number of 31-50 and not in a border state\n",
    "X6 = number 51 or older and not in a border state\n",
    "\n",
    "Objective function\n",
    "\n",
    "Minimize total interview costs = $7.50X1 + $6.80X2 + $5.50X3\n",
    "                                 + $6.90X4 + $7.25X5 + $6.10X6\n",
    "\n",
    "subject to:\n",
    "    \n",
    "X1 +\tX2 +\tX3 +\tX4 +\tX5 +\tX6\t≥\t2,300\t(total households)\n",
    "\tX1 +\t\t\tX4\t\t\t≥\t1,000\t(households 30 or younger)\n",
    "\t\tX2 +\t\t\tX5\t\t≥\t600\t(households 31-50)\n",
    "\tX1 +\tX2 +\tX3 \t\t\t\t≥ 0.15(X1 + X2+ X3 + X4 + X5 + X6)   \n",
    "\t\t\t\t\t\t\t\t\t(border states)\n",
    "\t\t\tX3 \t\t\t\t≤ 0.20(X3 + X6)\t(limit on age group \n",
    "\t\t\t\t\t\t\t\t\t\t51+ who can live \n",
    "\t\t\t\t\t\t\t\t\t\tin border state)\n",
    "\t\t      X1, X2, X3, X4, X5, X6 \t≥ 0\n",
    "\n",
    "\n",
    "\"\"\"\n",
    "\n",
    "\"\"\"\n",
    "Solution using pulp\n",
    "\"\"\"\n",
    "\n",
    "from pulp import *\n",
    "\n",
    "model = LpProblem(\"Profit minimising problem\", LpMinimize)\n",
    "\n",
    "# possible options for category are -> continuous, integer, or binary\n",
    "x1 = LpVariable('x1', lowBound=0, cat='Integer')\n",
    "x2 = LpVariable('x2', lowBound=0, cat='Integer')\n",
    "x3 = LpVariable('x3', lowBound=0, cat='Integer')\n",
    "x4 = LpVariable('x4', lowBound=0, cat='Integer')\n",
    "x5 = LpVariable('x5', lowBound=0, cat='Integer')\n",
    "x6 = LpVariable('x6', lowBound=0, cat='Integer')"
   ]
  },
  {
   "cell_type": "code",
   "execution_count": 6,
   "metadata": {},
   "outputs": [],
   "source": [
    "# Objective function\n",
    "model += 7.50*x1+6.80*x2+5.50*x3+6.90*x4+7.25*x5+6.10*x6 , \"Cost\"\n",
    "\n",
    "# Constraints\n",
    "model += x1+x2+x3+x4+x5+x6 >= 2300\n",
    "model += x1 + x4           >= 1000\n",
    "model += x2 + x5           >= 600\n",
    "model += 0.85*x1+0.85*x2+0.85*x3-0.15*x4-0.15*x5-0.15*x6 >= 0 \n",
    "model += 0.8*x3-0.2*x6     <= 0"
   ]
  },
  {
   "cell_type": "code",
   "execution_count": 7,
   "metadata": {},
   "outputs": [
    {
     "name": "stdout",
     "output_type": "stream",
     "text": [
      "30 or younger: 0.0, 600.0 \n",
      "31-50: 600.0, 140.0 \n",
      "border states: 0.0, 600.0, 140.0 \n",
      "border > 51: 140.0, 560.0\n",
      "Total cost is = $15166.0\n"
     ]
    }
   ],
   "source": [
    "# Solve our problem\n",
    "model.solve()\n",
    "LpStatus[model.status]\n",
    "\n",
    "print(f'30 or younger: {x1.varValue}, {x2.varValue} \\n31-50: {x2.varValue}, {x3.varValue} \\nborder states: {x1.varValue}, {x2.varValue}, {x3.varValue} \\nborder > 51: {x3.varValue}, {x6.varValue}')\n",
    "print(f'Total cost is = ${value(model.objective)}')"
   ]
  },
  {
   "cell_type": "code",
   "execution_count": 10,
   "metadata": {},
   "outputs": [
    {
     "name": "stdout",
     "output_type": "stream",
     "text": [
      "Optimal\n",
      "x and y: 35.0, 16.666667\n",
      "over-achievement: 0.0, under-achievement: 0.0\n"
     ]
    }
   ],
   "source": [
    "model_ = LpProblem(\"Goal achieving problem/Minimize the deivation (over/under)\", LpMinimize)\n",
    "\n",
    "# possible options for category are -> continuous, integer, or binary\n",
    "x = LpVariable('x', lowBound=0, cat='Integer')\n",
    "y = LpVariable('y', lowBound=0, cat='Continuous')\n",
    "d1_neg = LpVariable(\"d1_neg\", lowBound=0, cat='Continuous')\n",
    "d1_plus = LpVariable(\"d1_plus\", lowBound=0, cat='Continuous')\n",
    "\n",
    "# Objective function\n",
    "model_ += d1_neg+d1_plus, \"Under_Over\"\n",
    "\n",
    "# Constraints\n",
    "model_ += 30*x+0.5*y                <= 2000\n",
    "model_ += 18*x+0.4*y                <= 800\n",
    "model_ += 2*x+0.1*y                 <= 200\n",
    "# old onjective function is a new constraint\n",
    "model_ += 85*x+1.5*y                == 3000-d1_neg+d1_plus\n",
    "\n",
    " \n",
    "# Solve our problem\n",
    "model_.solve()\n",
    "print(LpStatus[model.status])\n",
    "\n",
    "print(f\"x and y: {x.varValue}, {y.varValue}\")\n",
    "print(f\"over-achievement: {d1_plus.varValue}, under-achievement: {d1_neg.varValue}\")"
   ]
  },
  {
   "cell_type": "code",
   "execution_count": null,
   "metadata": {},
   "outputs": [],
   "source": []
  },
  {
   "cell_type": "code",
   "execution_count": null,
   "metadata": {},
   "outputs": [],
   "source": []
  }
 ],
 "metadata": {
  "kernelspec": {
   "display_name": "Python 3",
   "language": "python",
   "name": "python3"
  },
  "language_info": {
   "codemirror_mode": {
    "name": "ipython",
    "version": 3
   },
   "file_extension": ".py",
   "mimetype": "text/x-python",
   "name": "python",
   "nbconvert_exporter": "python",
   "pygments_lexer": "ipython3",
   "version": "3.6.8"
  }
 },
 "nbformat": 4,
 "nbformat_minor": 2
}
