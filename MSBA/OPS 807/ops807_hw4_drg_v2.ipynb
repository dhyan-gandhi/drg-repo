{
 "cells": [
  {
   "cell_type": "markdown",
   "metadata": {},
   "source": [
    "## Question 1: Media selection, Win Big Gambling Club\n",
    "Let  \n",
    "$X_1 =$ number of 1-minute TV spots taken each week  \n",
    "$X_2 =$ number of full-page daily newspaper ads taken each week  \n",
    "$X_3 =$ number of 30-second prime-time radio spots taken each week  \n",
    "$X_4 =$ number of 1-minute afternoon radio spots taken each week  \n",
    "**Maximize audience coverage** = $5,000X_1 + 8,500X_2 + 2,400X_3 + 2,800X_4$  \n",
    "**Constraints:**  \n",
    "$X_1 \\leq 12$  \n",
    "$X_2 \\leq 5$  \n",
    "$X_3 \\leq 25$  \n",
    "$X_4 \\leq 20$  \n",
    "$800X_1 + 925X_2 + 290X_3 + 380X_4 \\leq \\$8,000$  \n",
    "$X_3 + X_4 \\geq 5$  \n",
    "$290X_3 + 380X_4 \\leq \\$1,800$  \n",
    "$X_1, X_2, X_3, X_4 \\geq 0$  \n"
   ]
  },
  {
   "cell_type": "code",
   "execution_count": 1,
   "metadata": {},
   "outputs": [],
   "source": [
    "from pulp import *"
   ]
  },
  {
   "cell_type": "code",
   "execution_count": 2,
   "metadata": {},
   "outputs": [
    {
     "data": {
      "text/plain": [
       "'Optimal'"
      ]
     },
     "execution_count": 2,
     "metadata": {},
     "output_type": "execute_result"
    }
   ],
   "source": [
    "model=LpProblem('Audience maximizing problem', LpMaximize)\n",
    "x1=LpVariable('x1', lowBound=0, cat='Continuous')\n",
    "x2=LpVariable('x2', lowBound=0, cat='Continuous')\n",
    "x3=LpVariable('x3', lowBound=0, cat='Continuous')\n",
    "x4=LpVariable('x4', lowBound=0, cat='Continuous')\n",
    "\n",
    "# objective function\n",
    "model += 5000*x1+8500*x2+2400*x3+2800*x4, 'Audience'\n",
    "\n",
    "# constraints\n",
    "model+=x1 <= 12\n",
    "model+=x2 <= 5\n",
    "model+=x3 <= 25\n",
    "model+=x4 <= 20\n",
    "model+=800*x1+925*x2+290*x3+380*x4 <= 8000\n",
    "model+= x3+x4 >= 5\n",
    "model+=290*x3+380*x4 <= 1800\n",
    "\n",
    "# solve\n",
    "model.solve()\n",
    "LpStatus[model.status]"
   ]
  },
  {
   "cell_type": "code",
   "execution_count": 3,
   "metadata": {},
   "outputs": [
    {
     "name": "stdout",
     "output_type": "stream",
     "text": [
      "TV spots: 1.96875 \n",
      "newspaper ads: 5.0 \n",
      "30-second radio spots: 6.2068966\n",
      "one minute radio spots: 0.0\n",
      "Total audience coverage: 67240.30184\n"
     ]
    }
   ],
   "source": [
    "print(f'TV spots: {x1.varValue} \\nnewspaper ads: {x2.varValue} \\n30-second radio spots: {x3.varValue}'\n",
    "      f'\\none minute radio spots: {x4.varValue}')\n",
    "print(f'Total audience coverage: {value(model.objective)}')"
   ]
  },
  {
   "cell_type": "markdown",
   "metadata": {},
   "source": [
    "## Question 2: Employee Scheduling Applications, Labor Planning, Hong Kong Bank of Commerce and Industry \n",
    "Let  \n",
    "$F =$ full-time tellers  \n",
    "$P_1=$ part-timers starting at 9 A.M. (leaving at 1 P.M.)  \n",
    "$P_2=$ part-timers starting at 10 A.M. (leaving at 2 P.M.)  \n",
    "$P_3=$ part-timers starting at 11 A.M. (leaving at 3 P.M.)  \n",
    "$P_4=$ part-timers starting at noon (leaving at 4 P.M.)  \n",
    "$P_5=$ part-timers starting at 1 P.M. (leaving at 5 P.M.)  \n",
    "**Minimize total daily personnel cost** = $\\$100F + \\$32(P_1+P_2+P_3+P_4+P_5)$  \n",
    "**Constraints:**  \n",
    "$F+P_1 \\geq 10$  \n",
    "$F+P_1+P_2 \\geq 12$  \n",
    "$0.5F+P_1+P_2+P_3 \\geq 14$  \n",
    "$0.5F+P_1+P_2+P_3+P_4 \\geq 16$  \n",
    "$F+P_2+P_3+P_4+P_5 \\geq 18$  \n",
    "$F+P_3+P_4+P_5 \\geq 17$  \n",
    "$F+P_4+P_5 \\geq 15$  \n",
    "$F+P_5 \\geq 10$  \n",
    "$F \\leq 12$  \n",
    "$4P_1+4P_2+4P_3+4P_4+4P_5 \\leq 56$  \n",
    "$F, P_1, P_2, P_3, P_4, P_5 \\geq 0$"
   ]
  },
  {
   "cell_type": "code",
   "execution_count": 4,
   "metadata": {},
   "outputs": [
    {
     "data": {
      "text/plain": [
       "'Optimal'"
      ]
     },
     "execution_count": 4,
     "metadata": {},
     "output_type": "execute_result"
    }
   ],
   "source": [
    "model=LpProblem('Cost minimizing problem', LpMinimize)\n",
    "\n",
    "# variables\n",
    "F=LpVariable('F', lowBound=0, cat='Continuous') \n",
    "P1=LpVariable('P1', lowBound=0, cat='Continuous') \n",
    "P2=LpVariable('P2', lowBound=0, cat='Continuous') \n",
    "P3=LpVariable('P3', lowBound=0, cat='Continuous') \n",
    "P4=LpVariable('P4', lowBound=0, cat='Continuous') \n",
    "P5=LpVariable('P5', lowBound=0, cat='Continuous') \n",
    "\n",
    "# objective function\n",
    "model+=100*F+32*(P1+P2+P3+P4+P5), 'cost'\n",
    "\n",
    "# contraints\n",
    "model+=F+P1 >= 10\n",
    "model+=F+P1+P2 >= 12\n",
    "model+=0.5*F+P1+P2+P3 >= 14\n",
    "model+=0.5*F+P1+P2+P3+P4 >= 16\n",
    "model+=F+P2+P3+P4+P5 >= 18\n",
    "model+=F+P3+P4+P5 >= 17\n",
    "model+=F+P4+P5 >= 15\n",
    "model+=F+P5 >= 10\n",
    "model+=F <= 12\n",
    "model+=4*(P1+P2+P3+P4+P5) <= 56\n",
    "\n",
    "model.solve()\n",
    "LpStatus[model.status]"
   ]
  },
  {
   "cell_type": "code",
   "execution_count": 5,
   "metadata": {},
   "outputs": [
    {
     "name": "stdout",
     "output_type": "stream",
     "text": [
      "Total Cost: $1448.00\n",
      "F: 10.0\n",
      "P1: 0.0\n",
      "P2: 7.0\n",
      "P3: 2.0\n",
      "P4: 5.0\n",
      "P5: 0.0\n"
     ]
    }
   ],
   "source": [
    "print(f'Total Cost: ${value(model.objective):.2f}')\n",
    "print(f'F: {F.varValue}')\n",
    "print(f'P1: {P1.varValue}')\n",
    "print(f'P2: {P2.varValue}')\n",
    "print(f'P3: {P3.varValue}')\n",
    "print(f'P4: {P4.varValue}')\n",
    "print(f'P5: {P5.varValue}')"
   ]
  },
  {
   "cell_type": "markdown",
   "metadata": {},
   "source": [
    "## Question 3: Problem 8-18 (hospital expansion problem) from the end of chapter 8.\n",
    "Let  \n",
    "$X_1=$ number of medical beds   \n",
    "$X_2=$ number of surgical beds    \n",
    "**Maximize revenue** = $(365/8)2,280X_1 + (365/5)1,515X_2$  \n",
    "**Constraints:**  \n",
    "$(365/8)3.1X_1 + (365/5)2.6X_2 \\leq 15,000$ Lab Tests  \n",
    "$(365/8)X_1 + (365/5)2X_2 \\leq 7,000$ X-Rays  \n",
    "$(365/5)X_2 \\leq 2,800$ Surgeries  \n",
    "$X_1 + X_2 \\leq 90$ Beds   \n",
    "$X_1, X_2 \\geq 0$  "
   ]
  },
  {
   "cell_type": "code",
   "execution_count": 6,
   "metadata": {},
   "outputs": [
    {
     "data": {
      "text/plain": [
       "'Optimal'"
      ]
     },
     "execution_count": 6,
     "metadata": {},
     "output_type": "execute_result"
    }
   ],
   "source": [
    "model=LpProblem('Revenue maximizing problem', LpMaximize)\n",
    "\n",
    "# variables\n",
    "x1=LpVariable('x1', lowBound=0, cat='Continuous')\n",
    "x2=LpVariable('x2', lowBound=0, cat='Continuous')\n",
    "\n",
    "# objective function\n",
    "model += (365/8)*2280*x1+(365/5)*1515*x2, 'revenue'\n",
    "\n",
    "# constraints\n",
    "model += (365/8)*3.1*x1+(365/5)*2.6*x2 <= 15000\n",
    "model += (365/8)*x1+(365/5)*2*x2 <= 7000\n",
    "model += (365/5)*x2 <= 2800\n",
    "model += x1+x2 <= 90\n",
    "\n",
    "model.solve()\n",
    "LpStatus[model.status]"
   ]
  },
  {
   "cell_type": "code",
   "execution_count": 7,
   "metadata": {},
   "outputs": [
    {
     "name": "stdout",
     "output_type": "stream",
     "text": [
      "Number of beds for medical patients: 61.17061\n",
      "Number of beds for surgical patients: 28.82939\n",
      "Total Revenue: $9551659.09\n"
     ]
    }
   ],
   "source": [
    "print(f'Number of beds for medical patients: {x1.varValue}')\n",
    "print(f'Number of beds for surgical patients: {x2.varValue}')\n",
    "print(f'Total Revenue: ${value(model.objective):.2f}')"
   ]
  },
  {
   "cell_type": "markdown",
   "metadata": {},
   "source": [
    "## Question 4: 10.19 (Triangle Utilities)\n",
    "Let  \n",
    "$G1S1=\\begin{cases} 1, & \\text{if Generator 1 is started at 6 A.M. and runs for 8 hours} \\\\ 0, & \\text{otherwise }\\end{cases}$  \n",
    "$G1S2=\\begin{cases} 1, & \\text{if Generator 1 is started at 2 P.M. and runs for 8 hours} \\\\ 0, & \\text{otherwise }\\end{cases}$  \n",
    "$G1S3=\\begin{cases} 1, & \\text{if Generator 1 is started at 6 A.M. and runs for 16 hours} \\\\ 0, & \\text{otherwise }\\end{cases}$  \n",
    "$G2S1=\\begin{cases} 1, & \\text{if Generator 2 is started at 6 A.M. and runs for 8 hours} \\\\ 0, & \\text{otherwise }\\end{cases}$  \n",
    "$G2S2=\\begin{cases} 1, & \\text{if Generator 2 is started at 2 P.M. and runs for 8 hours} \\\\ 0, & \\text{otherwise }\\end{cases}$  \n",
    "$G2S3=\\begin{cases} 1, & \\text{if Generator 2 is started at 6 A.M. and runs for 16 hours} \\\\ 0, & \\text{otherwise }\\end{cases}$  \n",
    "$G3S1=\\begin{cases} 1, & \\text{if Generator 3 is started at 6 A.M. and runs for 8 hours} \\\\ 0, & \\text{otherwise }\\end{cases}$  \n",
    "$G3S2=\\begin{cases} 1, & \\text{if Generator 3 is started at 2 P.M. and runs for 8 hours} \\\\ 0, & \\text{otherwise }\\end{cases}$  \n",
    "$G3S3=\\begin{cases} 1, & \\text{if Generator 3 is started at 6 A.M. and runs for 16 hours} \\\\ 0, & \\text{otherwise }\\end{cases}$  \n",
    "$G1X1= \\text{number of megawatts used by Generator 1 running from 6 A.M. to 2 P.M.}$\n",
    "$G1X2= \\text{number of megawatts used by Generator 1 running from 2 P.M. to 10 P.M.}$\n",
    "$G2X1= \\text{number of megawatts used by Generator 2 running from 6 A.M. to 2 P.M.}$\n",
    "$G2X2= \\text{number of megawatts used by Generator 2 running from 2 P.M. to 10 P.M.}$\n",
    "$G3X1= \\text{number of megawatts used by Generator 3 running from 6 A.M. to 2 P.M.}$\n",
    "$G3X2= \\text{number of megawatts used by Generator 3 running from 2 P.M. to 10 P.M.}$\n",
    "\n",
    "**Minimize cost** = $6,000(G1S1+G1S2+G1S3) + 5,000(G2S1+G2S2+G2S3) + 4,000(G3S1+G3S2+G3S3) + \n",
    "8(G1X1+G1X2) + 9(G2X1+G2X2) + 7(G3X1+G3X2)$\n",
    "\n",
    "**Contraints**  \n",
    "$G1X1+G2X1+G3X1 \\geq 3,200$ Megawattage needed for 6 A.M. to 2 P.M.   \n",
    "$G1X2+G2X2+G3X2 \\geq 5,700$ Megawattage needed for 2 P.M. to 10 P.M.  \n",
    "$G1X1-2,400(G1S1+G1S3) \\leq 0$ Generator 1 max Megawattage for 6 A.M. to 2 P.M. (first 8-hour period)  \n",
    "$G1X2-2,400(G1S2+G1S3) \\leq 0$ Generator 1 max Megawattage for 2 P.M. to 10 P.M. (second 8-hour period)  \n",
    "$G2X1-2,100(G2S1+G2S3) \\leq 0$ Generator 2 max Megawattage for 6 A.M. to 2 P.M. (first 8-hour period)  \n",
    "$G2X2-2,100(G2S2+G2S3) \\leq 0$ Generator 2 max Megawattage for 2 P.M. to 10 P.M. (second 8-hour period)  \n",
    "$G3X1-3,300(G3S1+G3S3) \\leq 0$ Generator 3 max Megawattage for 6 A.M. to 2 P.M. (first 8-hour period)  \n",
    "$G3X2-3,300(G3S2+G3S3) \\leq 0$ Generator 3 max Megawattage for 2 P.M. to 10 P.M. (second 8-hour period)  \n",
    "$G1S1+G1S2+G1S3 \\leq 1$ Generator 1 can start at max one time  \n",
    "$G2S1+G2S2+G2S3 \\leq 1$ Generator 2 can start at max one time  \n",
    "$G3S1+G3S2+G3S3 \\leq 1$ Generator 3 can start at max one time  \n",
    "$G1S1, G1S2, G1S3, G2S1, G2S2, G2S3, G3S1, G3S2, G3S3 = 0 \\text{ or } 1$  \n",
    "$G1S1X, G1S2X, G1S3X, G2S1X, G2S2X, G2S3X, G3S1X, G3S2X, G3S3X \\geq 0 \\text{ and integer}$"
   ]
  },
  {
   "cell_type": "code",
   "execution_count": 8,
   "metadata": {},
   "outputs": [
    {
     "data": {
      "text/plain": [
       "'Optimal'"
      ]
     },
     "execution_count": 8,
     "metadata": {},
     "output_type": "execute_result"
    }
   ],
   "source": [
    "model=LpProblem('Cost minimizing problem', LpMinimize)\n",
    "\n",
    "# variables\n",
    "G1S1=LpVariable('G1S1', lowBound=0, cat='Binary')\n",
    "G1S2=LpVariable('G1S2', lowBound=0, cat='Binary')\n",
    "G1S3=LpVariable('G1S3', lowBound=0, cat='Binary')\n",
    "G2S1=LpVariable('G2S1', lowBound=0, cat='Binary')\n",
    "G2S2=LpVariable('G2S2', lowBound=0, cat='Binary')\n",
    "G2S3=LpVariable('G2S3', lowBound=0, cat='Binary')\n",
    "G3S1=LpVariable('G3S1', lowBound=0, cat='Binary')\n",
    "G3S2=LpVariable('G3S2', lowBound=0, cat='Binary')\n",
    "G3S3=LpVariable('G3S3', lowBound=0, cat='Binary')\n",
    "G1X1=LpVariable('G1X1', lowBound=0, cat='Integer')\n",
    "G1X2=LpVariable('G1X2', lowBound=0, cat='Integer')\n",
    "G2X1=LpVariable('G2X1', lowBound=0, cat='Integer')\n",
    "G2X2=LpVariable('G2X2', lowBound=0, cat='Integer')\n",
    "G3X1=LpVariable('G3X1', lowBound=0, cat='Integer')\n",
    "G3X2=LpVariable('G3X2', lowBound=0, cat='Integer')\n",
    "\n",
    "\n",
    "# objective function\n",
    "model += 6000*(G1S1+G1S2+G1S3) + 5000*(G2S1+G2S2+G2S3) + 4000*(G3S1+G3S2+G3S3) + 8*(G1X1+G1X2) + 9*(G2X1+G2X2) + 7*(G3X1+G3X2), 'cost'\n",
    "\n",
    "# constraints\n",
    "model += G1X1+G2X1+G3X1 >= 3200 \n",
    "model += G1X2+G2X2+G3X2 >= 5700\n",
    "model += G1X1-2400*(G1S1+G2S3) <= 0\n",
    "model += G1X2-2400*(G1S2+G1S3) <= 0\n",
    "model += G2X1-2100*(G2S1+G2S3) <= 0\n",
    "model += G2X2-2100*(G2S2+G2S3) <= 0\n",
    "model += G3X1-3300*(G3S1+G3S3) <= 0\n",
    "model += G3X2-3300*(G3S2+G3S3) <= 0\n",
    "model += G1S1+G1S2+G1S3 <= 1\n",
    "model += G2S1+G2S2+G2S3 <= 1\n",
    "model += G3S1+G3S2+G3S3 <= 1\n",
    "\n",
    "model.solve()\n",
    "LpStatus[model.status]"
   ]
  },
  {
   "cell_type": "code",
   "execution_count": 9,
   "metadata": {},
   "outputs": [
    {
     "name": "stdout",
     "output_type": "stream",
     "text": [
      "Generator 1 running from 6 A.M to 2 P.M: False\n",
      "Generator 1 running from 2 P.M to 10 P.M: True\n",
      "Generator 1 running from 6 A.M to 10 P.M: False\n",
      "Generator 2 running from 6 A.M to 2 P.M: False\n",
      "Generator 2 running from 2 P.M to 10 P.M: False\n",
      "Generator 2 running from 6 A.M to 10 P.M: False\n",
      "Generator 3 running from 6 A.M to 2 P.M: False\n",
      "Generator 3 running from 2 P.M to 10 P.M: False\n",
      "Generator 3 running from 6 A.M to 10 P.M: True\n",
      "Generator 1 megawattage from 6 A.M to 2 P.M: 0\n",
      "Generator 1 megawattage from 2 P.M to 10 P.M: 2400\n",
      "Generator 2 megawattage from 6 A.M to 2 P.M: 0\n",
      "Generator 2 megawattage from 2 P.M to 10 P.M: 0\n",
      "Generator 3 megawattage from 6 A.M to 2 P.M: 3200\n",
      "Generator 3 megawattage from 2 P.M to 10 P.M: 3300\n",
      "Total cost: $74700.00\n"
     ]
    }
   ],
   "source": [
    "print(f'Generator 1 running from 6 A.M to 2 P.M: {bool(G1S1.varValue)}')\n",
    "print(f'Generator 1 running from 2 P.M to 10 P.M: {bool(G1S2.varValue)}')\n",
    "print(f'Generator 1 running from 6 A.M to 10 P.M: {bool(G1S3.varValue)}')\n",
    "print(f'Generator 2 running from 6 A.M to 2 P.M: {bool(G2S1.varValue)}')\n",
    "print(f'Generator 2 running from 2 P.M to 10 P.M: {bool(G2S2.varValue)}')\n",
    "print(f'Generator 2 running from 6 A.M to 10 P.M: {bool(G2S3.varValue)}')\n",
    "print(f'Generator 3 running from 6 A.M to 2 P.M: {bool(G3S1.varValue)}')\n",
    "print(f'Generator 3 running from 2 P.M to 10 P.M: {bool(G3S2.varValue)}')\n",
    "print(f'Generator 3 running from 6 A.M to 10 P.M: {bool(G3S3.varValue)}')\n",
    "print(f'Generator 1 megawattage from 6 A.M to 2 P.M: {G1X1.varValue:.0f}')\n",
    "print(f'Generator 1 megawattage from 2 P.M to 10 P.M: {G1X2.varValue:.0f}')\n",
    "print(f'Generator 2 megawattage from 6 A.M to 2 P.M: {G2X1.varValue:.0f}')\n",
    "print(f'Generator 2 megawattage from 2 P.M to 10 P.M: {G2X2.varValue:.0f}')\n",
    "print(f'Generator 3 megawattage from 6 A.M to 2 P.M: {G3X1.varValue:.0f}')\n",
    "print(f'Generator 3 megawattage from 2 P.M to 10 P.M: {G3X2.varValue:.0f}')\n",
    "print(f'Total cost: ${value(model.objective):.2f}')"
   ]
  },
  {
   "cell_type": "markdown",
   "metadata": {},
   "source": [
    "## Question 5: 10.26 (goal programming)\n",
    "**Goals:**  \n",
    "- 10% return target\n",
    "- at least 30% invested in bonds\n",
    "- real estate not exceed 50% of the money invested in stocks and bonds combined\n",
    "\n",
    "Let  \n",
    "s = amount invested in stocks  \n",
    "b = amount invested in bonds  \n",
    "r = amount invested in real estate  \n",
    "d1- = underachievement of the return target  \n",
    "d1+ = overachievment of the return target  \n",
    "d2- = amount invested in bonds under 30% of the total  \n",
    "d2+ = amount invested in bond over 30% of the total  \n",
    "d3- = amount under 50% of the money invested in stocks and bonds combined  \n",
    "d3+ = amount over 50% of the money invested in stocks and bonds combined  \n",
    "\n",
    "**Objective minimize:** d1- + d2- + d3+  \n",
    "\n",
    "**Constraints:**  \n",
    "$0.13s + 0.08b + 0.1r + \\text{d1-} - \\text{d1+} = 0.1(250,000)$ return target  \n",
    "$b + \\text{d2-} - \\text{d2+} = 0.3(250,000)$ at least 30% invested in bonds  \n",
    "$r +\\text{d3-} - \\text{d3+} - 0.5(s+b) = 0$ real estate not exceed 50% of the money invested in stocks and bonds combined  \n",
    "$s+b+r = 250,000$ investment amount is 250,000  \n",
    "*No more than 150,000 be invested in any one area:*  \n",
    "$s \\leq 150,000$  \n",
    "$b \\leq 150,000$  \n",
    "$r \\leq 150,000$  \n",
    "$s, b, r \\geq 0$"
   ]
  },
  {
   "cell_type": "code",
   "execution_count": 10,
   "metadata": {},
   "outputs": [
    {
     "data": {
      "text/plain": [
       "'Optimal'"
      ]
     },
     "execution_count": 10,
     "metadata": {},
     "output_type": "execute_result"
    }
   ],
   "source": [
    "model = LpProblem('under/overachivement minimizing problem', LpMinimize)\n",
    "\n",
    "# variables\n",
    "s = LpVariable('s', lowBound=0, cat='Continuous')\n",
    "b = LpVariable('b', lowBound=0, cat='Continuous')\n",
    "r = LpVariable('r', lowBound=0, cat='Continuous')\n",
    "d1_neg = LpVariable('d1_neg', lowBound=0, cat='Continuous')\n",
    "d1_pos = LpVariable('d1_pos', lowBound=0, cat='Continuous')\n",
    "d2_neg = LpVariable('d2_neg', lowBound=0, cat='Continuous')\n",
    "d2_pos = LpVariable('d2_pos', lowBound=0, cat='Continuous')\n",
    "d3_neg = LpVariable('d3_neg', lowBound=0, cat='Continuous')\n",
    "d3_pos = LpVariable('d3_pos', lowBound=0, cat='Continuous')\n",
    "\n",
    "# objective\n",
    "model += d1_neg + d2_neg + d3_pos, 'under/over'\n",
    "\n",
    "# constraints\n",
    "model += 0.13*s + 0.08*b + 0.1*r + -d1_pos+ d1_neg == 0.1*250000\n",
    "model += b + d2_neg -d2_pos == 0.3*250000\n",
    "model += r +d3_neg - d3_pos -0.5*(s+b) == 0\n",
    "model += s+b+r == 250000\n",
    "model += s <= 150000\n",
    "model += b <= 150000\n",
    "model += r <= 150000\n",
    "\n",
    "model.solve()\n",
    "LpStatus[model.status]"
   ]
  },
  {
   "cell_type": "code",
   "execution_count": 11,
   "metadata": {},
   "outputs": [
    {
     "name": "stdout",
     "output_type": "stream",
     "text": [
      "Amount invested in stocks: $150000.00\n",
      "Amount invested in bonds: $100000.00\n",
      "Amount invested in real estate: $0.0\n",
      "Total return: $27500.00\n",
      "Amount invested in stocks under 30%: $0.00\n",
      "Amount invested in stocks over 30%: $25000.00\n",
      "Amount over 50% of the money invested in stocks and bonds combined: $0.00\n",
      "Amount under 50% of the money invested in stocks and bonds combined: $125000.00\n"
     ]
    }
   ],
   "source": [
    "print(f'Amount invested in stocks: ${s.varValue:.2f}')\n",
    "print(f'Amount invested in bonds: ${b.varValue:.2f}')\n",
    "print(f'Amount invested in real estate: ${r.varValue}')\n",
    "print(f'Total return: ${25000-d1_neg.varValue+d1_pos.varValue:.2f}')\n",
    "print(f'Amount invested in stocks under 30%: ${d2_neg.varValue:.2f}')\n",
    "print(f'Amount invested in stocks over 30%: ${d2_pos.varValue:.2f}')\n",
    "print(f'Amount over 50% of the money invested in stocks and bonds combined: ${d3_pos.varValue:.2f}')\n",
    "print(f'Amount under 50% of the money invested in stocks and bonds combined: ${d3_neg.varValue:.2f}')"
   ]
  },
  {
   "cell_type": "code",
   "execution_count": null,
   "metadata": {},
   "outputs": [],
   "source": []
  },
  {
   "cell_type": "code",
   "execution_count": null,
   "metadata": {},
   "outputs": [],
   "source": []
  }
 ],
 "metadata": {
  "kernelspec": {
   "display_name": "Python 3",
   "language": "python",
   "name": "python3"
  },
  "language_info": {
   "codemirror_mode": {
    "name": "ipython",
    "version": 3
   },
   "file_extension": ".py",
   "mimetype": "text/x-python",
   "name": "python",
   "nbconvert_exporter": "python",
   "pygments_lexer": "ipython3",
   "version": "3.6.8"
  }
 },
 "nbformat": 4,
 "nbformat_minor": 2
}
