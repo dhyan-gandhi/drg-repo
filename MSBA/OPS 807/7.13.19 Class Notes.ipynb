{
 "cells": [
  {
   "cell_type": "code",
   "execution_count": 1,
   "metadata": {},
   "outputs": [
    {
     "ename": "SyntaxError",
     "evalue": "invalid syntax (<ipython-input-1-73fc4ce1a15a>, line 1)",
     "output_type": "error",
     "traceback": [
      "\u001b[0;36m  File \u001b[0;32m\"<ipython-input-1-73fc4ce1a15a>\"\u001b[0;36m, line \u001b[0;32m1\u001b[0m\n\u001b[0;31m    class = 'Advanced Theoretical Zymurgy'\u001b[0m\n\u001b[0m          ^\u001b[0m\n\u001b[0;31mSyntaxError\u001b[0m\u001b[0;31m:\u001b[0m invalid syntax\n"
     ]
    }
   ],
   "source": [
    "# python review\n",
    "# note that python has reserved words that can't be used a variable names\n",
    "class = 'Advanced Theoretical Zymurgy'"
   ]
  },
  {
   "cell_type": "code",
   "execution_count": 2,
   "metadata": {},
   "outputs": [
    {
     "name": "stdout",
     "output_type": "stream",
     "text": [
      "What is your name?\n",
      "Dhyan Gandhi\n"
     ]
    }
   ],
   "source": [
    "# take an input and store in variable\n",
    "name = input(\"What is your name?\\n\")"
   ]
  },
  {
   "cell_type": "code",
   "execution_count": 3,
   "metadata": {},
   "outputs": [
    {
     "data": {
      "text/plain": [
       "'Dhyan Gandhi'"
      ]
     },
     "execution_count": 3,
     "metadata": {},
     "output_type": "execute_result"
    }
   ],
   "source": [
    "# output the variable\n",
    "name"
   ]
  },
  {
   "cell_type": "code",
   "execution_count": 6,
   "metadata": {},
   "outputs": [
    {
     "name": "stdout",
     "output_type": "stream",
     "text": [
      "How many hours have you worked?\n",
      "7\n"
     ]
    }
   ],
   "source": [
    "# eval works just like type casting but ignores non-numbers\n",
    "hrs = eval(input('How many hours have you worked?\\n'))"
   ]
  },
  {
   "cell_type": "code",
   "execution_count": 7,
   "metadata": {},
   "outputs": [
    {
     "data": {
      "text/plain": [
       "7"
      ]
     },
     "execution_count": 7,
     "metadata": {},
     "output_type": "execute_result"
    }
   ],
   "source": [
    "hrs"
   ]
  },
  {
   "cell_type": "code",
   "execution_count": 9,
   "metadata": {},
   "outputs": [
    {
     "name": "stdout",
     "output_type": "stream",
     "text": [
      "What is your name?\n",
      "Dhyan Gandhi\n",
      "Welcome to OPS807 Dhyan Gandhi!\n"
     ]
    }
   ],
   "source": [
    "# exercise 1\n",
    "# write a program that uses input to prompt a user for \n",
    "# their name and then welcomes them\n",
    "username = input('What is your name?\\n')\n",
    "print('Welcome to OPS807 {}!'.format(username))"
   ]
  },
  {
   "cell_type": "code",
   "execution_count": 16,
   "metadata": {},
   "outputs": [
    {
     "name": "stdout",
     "output_type": "stream",
     "text": [
      "Please enter a Celsius temperature you want to convert to Fahrenheit:\n",
      "20.5\n",
      "The Fahrenheit equivalent is: 68.9\n"
     ]
    }
   ],
   "source": [
    "# exercise 2\n",
    "# write a program which prompts the user for a celsius temperature and \n",
    "# converts it into a fahrenheit temperature\n",
    "temp = eval(input('Please enter a Celsius temperature you want to convert to Fahrenheit:\\n'))\n",
    "print('The Fahrenheit equivalent is: {}'.format((temp*9/5)+32))\n"
   ]
  },
  {
   "cell_type": "code",
   "execution_count": 17,
   "metadata": {},
   "outputs": [],
   "source": [
    "# conditional statements\n",
    "# nested if statements"
   ]
  },
  {
   "cell_type": "code",
   "execution_count": 30,
   "metadata": {},
   "outputs": [
    {
     "name": "stdout",
     "output_type": "stream",
     "text": [
      "Enter number of hours and hourly rate, separated by a comma:\n",
      "50, 20\n",
      "Earnings for 50 hours of work at $20 per hours is: $1100.0\n"
     ]
    }
   ],
   "source": [
    "# exercise 1\n",
    "# write a program to prompt the user for hours and rate per \n",
    "# hour to compute gross pay. if the number of hours is more than 40, \n",
    "# the number of hours in excess of 40 should be calculated as 1.5 the\n",
    "# normal rate.\n",
    "hours, rate = eval(input('Enter number of hours and hourly rate, separated by a comma:\\n'))\n",
    "\n",
    "if hours > 40:\n",
    "    pay = (40*rate)+(hours%40*rate*1.5)\n",
    "else:\n",
    "    pay = hours*rate\n",
    "    \n",
    "print('Earnings for {} hours of work at ${} per hours is: ${}'\\\n",
    "      .format(hours, rate, pay))"
   ]
  },
  {
   "cell_type": "code",
   "execution_count": 33,
   "metadata": {},
   "outputs": [
    {
     "name": "stdout",
     "output_type": "stream",
     "text": [
      "> hello\n",
      "hello\n",
      "> world\n",
      "world\n",
      "> #dgmp\n",
      "> #nofilter\n",
      "> done\n",
      "done! loop has ended\n"
     ]
    }
   ],
   "source": [
    "# iterations with breaks and continues\n",
    "while True:\n",
    "    line = input('> ')\n",
    "    if line[0] == '#':\n",
    "        continue\n",
    "    if line == 'done':\n",
    "        break\n",
    "    print(line)\n",
    "print('done! loop has ended')"
   ]
  },
  {
   "cell_type": "code",
   "execution_count": 34,
   "metadata": {},
   "outputs": [],
   "source": [
    "# for loops"
   ]
  },
  {
   "cell_type": "code",
   "execution_count": 39,
   "metadata": {},
   "outputs": [
    {
     "name": "stdout",
     "output_type": "stream",
     "text": [
      "Welcome to the MEAN finder, enter \"done\" when finished!\n",
      "\n",
      "Enter a number > 5\n",
      "Enter a number > 4\n",
      "Enter a number > 3\n",
      "Enter a number > 2\n",
      "Enter a number > 1\n",
      "Enter a number > done\n",
      "\n",
      "Done! total = 15.0, count = 5, avg = 3.0\n"
     ]
    }
   ],
   "source": [
    "# exercise 1\n",
    "# write a program which repeatedly reads numbers until the user enters\n",
    "# 'done'. once 'done' is entered, print out the out the total, count, and \n",
    "# average of the numbers.\n",
    "\n",
    "count = 0\n",
    "total = 0.0\n",
    "\n",
    "print('Welcome to the MEAN finder, enter \"done\" when finished!\\n')\n",
    "\n",
    "while True:\n",
    "    line = input('Enter a number > ')\n",
    "    if line == 'done':\n",
    "        break\n",
    "    total += eval(line)\n",
    "    count += 1\n",
    "    \n",
    "print('\\nDone! total = {}, count = {}, avg = {}'.format(total, count, total/count))"
   ]
  },
  {
   "cell_type": "code",
   "execution_count": 41,
   "metadata": {},
   "outputs": [],
   "source": [
    "# function definitions\n",
    "# function invocations"
   ]
  },
  {
   "cell_type": "code",
   "execution_count": 42,
   "metadata": {},
   "outputs": [
    {
     "name": "stdout",
     "output_type": "stream",
     "text": [
      "Enter number of hours and hourly rate, separated by a comma:\n",
      "50, 20\n",
      "Earnings for 50 hours of work at $20 per hours is: $1100.0\n"
     ]
    }
   ],
   "source": [
    "# exercise 1\n",
    "# rewrite the pay computation with time and a half for over time and create\n",
    "# a function called computepay which takes two parameters (hours and rate) and\n",
    "# returns the pay.\n",
    "\n",
    "def computepay(h, r):\n",
    "    if h > 40:\n",
    "        p = (40*r)+(h%40*r*1.5)\n",
    "    else:\n",
    "        p = h*r\n",
    "    return p\n",
    "\n",
    "hours, rate = eval(input('Enter number of hours and hourly rate, separated by a comma:\\n'))\n",
    "pay = computepay(hours, rate)\n",
    "\n",
    "print('Earnings for {} hours of work at ${} per hours is: ${}'\\\n",
    "      .format(hours, rate, pay))"
   ]
  },
  {
   "cell_type": "code",
   "execution_count": 43,
   "metadata": {},
   "outputs": [],
   "source": [
    "# exercise 2\n",
    "# write a function that takes a numerical gade that corresponds to the \n",
    "# numerical grade. run the program several times to observe the output.\n",
    "\n"
   ]
  },
  {
   "cell_type": "code",
   "execution_count": 44,
   "metadata": {},
   "outputs": [],
   "source": [
    "# strings"
   ]
  },
  {
   "cell_type": "code",
   "execution_count": 47,
   "metadata": {},
   "outputs": [
    {
     "data": {
      "text/plain": [
       "4599367048"
      ]
     },
     "execution_count": 47,
     "metadata": {},
     "output_type": "execute_result"
    }
   ],
   "source": [
    "# get address of variable with id(x); return hexi-decimal\n",
    "id(pay)"
   ]
  },
  {
   "cell_type": "code",
   "execution_count": 49,
   "metadata": {
    "scrolled": true
   },
   "outputs": [
    {
     "data": {
      "text/plain": [
       "['__abs__',\n",
       " '__add__',\n",
       " '__bool__',\n",
       " '__class__',\n",
       " '__delattr__',\n",
       " '__dir__',\n",
       " '__divmod__',\n",
       " '__doc__',\n",
       " '__eq__',\n",
       " '__float__',\n",
       " '__floordiv__',\n",
       " '__format__',\n",
       " '__ge__',\n",
       " '__getattribute__',\n",
       " '__getformat__',\n",
       " '__getnewargs__',\n",
       " '__gt__',\n",
       " '__hash__',\n",
       " '__init__',\n",
       " '__init_subclass__',\n",
       " '__int__',\n",
       " '__le__',\n",
       " '__lt__',\n",
       " '__mod__',\n",
       " '__mul__',\n",
       " '__ne__',\n",
       " '__neg__',\n",
       " '__new__',\n",
       " '__pos__',\n",
       " '__pow__',\n",
       " '__radd__',\n",
       " '__rdivmod__',\n",
       " '__reduce__',\n",
       " '__reduce_ex__',\n",
       " '__repr__',\n",
       " '__rfloordiv__',\n",
       " '__rmod__',\n",
       " '__rmul__',\n",
       " '__round__',\n",
       " '__rpow__',\n",
       " '__rsub__',\n",
       " '__rtruediv__',\n",
       " '__setattr__',\n",
       " '__setformat__',\n",
       " '__sizeof__',\n",
       " '__str__',\n",
       " '__sub__',\n",
       " '__subclasshook__',\n",
       " '__truediv__',\n",
       " '__trunc__',\n",
       " 'as_integer_ratio',\n",
       " 'conjugate',\n",
       " 'fromhex',\n",
       " 'hex',\n",
       " 'imag',\n",
       " 'is_integer',\n",
       " 'real']"
      ]
     },
     "execution_count": 49,
     "metadata": {},
     "output_type": "execute_result"
    }
   ],
   "source": [
    "# get the available methods for variables dir(x)\n",
    "dir(pay)"
   ]
  },
  {
   "cell_type": "code",
   "execution_count": 58,
   "metadata": {},
   "outputs": [
    {
     "name": "stdout",
     "output_type": "stream",
     "text": [
      "m\n",
      "a\n",
      "p\n",
      "s\n"
     ]
    }
   ],
   "source": [
    "# exercise 1\n",
    "# define a string variable called s1 and assign a value of 'spam' to it.\n",
    "# use a loop to print s1 backwards.\n",
    "\n",
    "s1 = 'spam'\n",
    "\n",
    "for i in range(len(s1)-1, -1, -1):\n",
    "    print(s1[i])"
   ]
  },
  {
   "cell_type": "code",
   "execution_count": 56,
   "metadata": {},
   "outputs": [],
   "source": [
    "# exercise 2\n",
    "# use the sum function from before and use it inside the f-string fornat\n",
    "# operator to change the sum by changing the input parameters. use 1, 2\n",
    "# first and then use 10, 20. you should see a different print out using\n",
    "# f-string format without changing the format statement.\n",
    "\n"
   ]
  },
  {
   "cell_type": "code",
   "execution_count": 57,
   "metadata": {},
   "outputs": [],
   "source": [
    "# data structures\n",
    "# list\n",
    "# dictionaries\n",
    "# tuples"
   ]
  },
  {
   "cell_type": "code",
   "execution_count": null,
   "metadata": {},
   "outputs": [],
   "source": [
    "# exercise 1\n"
   ]
  }
 ],
 "metadata": {
  "kernelspec": {
   "display_name": "Python 3.6 (tensorflow)",
   "language": "python",
   "name": "tensorflow"
  },
  "language_info": {
   "codemirror_mode": {
    "name": "ipython",
    "version": 3
   },
   "file_extension": ".py",
   "mimetype": "text/x-python",
   "name": "python",
   "nbconvert_exporter": "python",
   "pygments_lexer": "ipython3",
   "version": "3.6.8"
  }
 },
 "nbformat": 4,
 "nbformat_minor": 2
}
