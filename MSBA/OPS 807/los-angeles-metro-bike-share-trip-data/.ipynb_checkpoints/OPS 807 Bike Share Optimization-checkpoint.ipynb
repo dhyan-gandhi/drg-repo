{
 "cells": [
  {
   "cell_type": "code",
   "execution_count": 37,
   "metadata": {},
   "outputs": [],
   "source": [
    "# OPS 807 Optimization Final Project - Amber Yao, Melanie Parazo, Dhyan Gandhi, Alex Choy, Edith Cabrera\n",
    "\n",
    "import numpy as np\n",
    "import pandas as pd\n",
    "import matplotlib.pyplot as plt\n",
    "import datetime as dt\n",
    "\n",
    "# Read files into notebook\n",
    "df1=pd.read_csv('metro-bike-share-trips-2019-q2.csv')\n",
    "df2=pd.read_csv('metro-bike-share-trips-2019-q1.csv')\n",
    "frames=[df1,df2]"
   ]
  },
  {
   "cell_type": "code",
   "execution_count": 38,
   "metadata": {},
   "outputs": [
    {
     "data": {
      "text/html": [
       "<div>\n",
       "<style scoped>\n",
       "    .dataframe tbody tr th:only-of-type {\n",
       "        vertical-align: middle;\n",
       "    }\n",
       "\n",
       "    .dataframe tbody tr th {\n",
       "        vertical-align: top;\n",
       "    }\n",
       "\n",
       "    .dataframe thead th {\n",
       "        text-align: right;\n",
       "    }\n",
       "</style>\n",
       "<table border=\"1\" class=\"dataframe\">\n",
       "  <thead>\n",
       "    <tr style=\"text-align: right;\">\n",
       "      <th></th>\n",
       "      <th>trip_id</th>\n",
       "      <th>duration</th>\n",
       "      <th>start_time</th>\n",
       "      <th>end_time</th>\n",
       "      <th>start_station</th>\n",
       "      <th>start_lat</th>\n",
       "      <th>start_lon</th>\n",
       "      <th>end_station</th>\n",
       "      <th>end_lat</th>\n",
       "      <th>end_lon</th>\n",
       "      <th>bike_id</th>\n",
       "      <th>plan_duration</th>\n",
       "      <th>trip_route_category</th>\n",
       "      <th>passholder_type</th>\n",
       "      <th>bike_type</th>\n",
       "    </tr>\n",
       "  </thead>\n",
       "  <tbody>\n",
       "    <tr>\n",
       "      <th>0</th>\n",
       "      <td>118571839</td>\n",
       "      <td>7</td>\n",
       "      <td>2019-04-01 00:02:00</td>\n",
       "      <td>2019-04-01 00:09:00</td>\n",
       "      <td>3069</td>\n",
       "      <td>34.050880</td>\n",
       "      <td>-118.248253</td>\n",
       "      <td>3034</td>\n",
       "      <td>34.042061</td>\n",
       "      <td>-118.263382</td>\n",
       "      <td>6459</td>\n",
       "      <td>1</td>\n",
       "      <td>One Way</td>\n",
       "      <td>Walk-up</td>\n",
       "      <td>standard</td>\n",
       "    </tr>\n",
       "    <tr>\n",
       "      <th>1</th>\n",
       "      <td>118574695</td>\n",
       "      <td>12</td>\n",
       "      <td>2019-04-01 00:56:00</td>\n",
       "      <td>2019-04-01 01:08:00</td>\n",
       "      <td>3031</td>\n",
       "      <td>34.044701</td>\n",
       "      <td>-118.252441</td>\n",
       "      <td>4311</td>\n",
       "      <td>34.059689</td>\n",
       "      <td>-118.294662</td>\n",
       "      <td>12229</td>\n",
       "      <td>30</td>\n",
       "      <td>One Way</td>\n",
       "      <td>Monthly Pass</td>\n",
       "      <td>standard</td>\n",
       "    </tr>\n",
       "    <tr>\n",
       "      <th>2</th>\n",
       "      <td>118575167</td>\n",
       "      <td>12</td>\n",
       "      <td>2019-04-01 01:06:00</td>\n",
       "      <td>2019-04-01 01:18:00</td>\n",
       "      <td>3038</td>\n",
       "      <td>34.046822</td>\n",
       "      <td>-118.248352</td>\n",
       "      <td>3082</td>\n",
       "      <td>34.046520</td>\n",
       "      <td>-118.237411</td>\n",
       "      <td>6422</td>\n",
       "      <td>1</td>\n",
       "      <td>One Way</td>\n",
       "      <td>Walk-up</td>\n",
       "      <td>standard</td>\n",
       "    </tr>\n",
       "    <tr>\n",
       "      <th>3</th>\n",
       "      <td>118577060</td>\n",
       "      <td>48</td>\n",
       "      <td>2019-04-01 01:08:00</td>\n",
       "      <td>2019-04-01 01:56:00</td>\n",
       "      <td>3068</td>\n",
       "      <td>34.053200</td>\n",
       "      <td>-118.250954</td>\n",
       "      <td>3005</td>\n",
       "      <td>34.048500</td>\n",
       "      <td>-118.258537</td>\n",
       "      <td>12211</td>\n",
       "      <td>30</td>\n",
       "      <td>One Way</td>\n",
       "      <td>Monthly Pass</td>\n",
       "      <td>standard</td>\n",
       "    </tr>\n",
       "    <tr>\n",
       "      <th>4</th>\n",
       "      <td>118575166</td>\n",
       "      <td>9</td>\n",
       "      <td>2019-04-01 01:09:00</td>\n",
       "      <td>2019-04-01 01:18:00</td>\n",
       "      <td>3038</td>\n",
       "      <td>34.046822</td>\n",
       "      <td>-118.248352</td>\n",
       "      <td>3082</td>\n",
       "      <td>34.046520</td>\n",
       "      <td>-118.237411</td>\n",
       "      <td>12005</td>\n",
       "      <td>1</td>\n",
       "      <td>One Way</td>\n",
       "      <td>Walk-up</td>\n",
       "      <td>standard</td>\n",
       "    </tr>\n",
       "  </tbody>\n",
       "</table>\n",
       "</div>"
      ],
      "text/plain": [
       "     trip_id  duration           start_time             end_time  \\\n",
       "0  118571839         7  2019-04-01 00:02:00  2019-04-01 00:09:00   \n",
       "1  118574695        12  2019-04-01 00:56:00  2019-04-01 01:08:00   \n",
       "2  118575167        12  2019-04-01 01:06:00  2019-04-01 01:18:00   \n",
       "3  118577060        48  2019-04-01 01:08:00  2019-04-01 01:56:00   \n",
       "4  118575166         9  2019-04-01 01:09:00  2019-04-01 01:18:00   \n",
       "\n",
       "   start_station  start_lat   start_lon  end_station    end_lat     end_lon  \\\n",
       "0           3069  34.050880 -118.248253         3034  34.042061 -118.263382   \n",
       "1           3031  34.044701 -118.252441         4311  34.059689 -118.294662   \n",
       "2           3038  34.046822 -118.248352         3082  34.046520 -118.237411   \n",
       "3           3068  34.053200 -118.250954         3005  34.048500 -118.258537   \n",
       "4           3038  34.046822 -118.248352         3082  34.046520 -118.237411   \n",
       "\n",
       "  bike_id  plan_duration trip_route_category passholder_type bike_type  \n",
       "0    6459              1             One Way         Walk-up  standard  \n",
       "1   12229             30             One Way    Monthly Pass  standard  \n",
       "2    6422              1             One Way         Walk-up  standard  \n",
       "3   12211             30             One Way    Monthly Pass  standard  \n",
       "4   12005              1             One Way         Walk-up  standard  "
      ]
     },
     "execution_count": 38,
     "metadata": {},
     "output_type": "execute_result"
    }
   ],
   "source": [
    "# Concatenate dataframes together\n",
    "df=pd.concat(frames)\n",
    "df.reset_index(inplace=True,drop=True)\n",
    "df.head()"
   ]
  },
  {
   "cell_type": "code",
   "execution_count": null,
   "metadata": {},
   "outputs": [],
   "source": [
    "from geopy.distance import geodesic\n",
    "print(geodesic(newport_ri, cleveland_oh).mile"
   ]
  },
  {
   "cell_type": "code",
   "execution_count": 3,
   "metadata": {},
   "outputs": [],
   "source": [
    "df.to_csv('stuff.csv')"
   ]
  },
  {
   "cell_type": "code",
   "execution_count": 4,
   "metadata": {},
   "outputs": [],
   "source": [
    "# Add start_t and end_t columns to dataframe\n",
    "df['start_t'] = pd.to_datetime(df['start_time']).dt.time\n",
    "df['end_t'] = pd.to_datetime(df['end_time']).dt.time"
   ]
  },
  {
   "cell_type": "code",
   "execution_count": 5,
   "metadata": {},
   "outputs": [
    {
     "data": {
      "text/plain": [
       "trip_id                  int64\n",
       "duration                 int64\n",
       "start_time              object\n",
       "end_time                object\n",
       "start_station            int64\n",
       "start_lat              float64\n",
       "start_lon              float64\n",
       "end_station              int64\n",
       "end_lat                float64\n",
       "end_lon                float64\n",
       "bike_id                 object\n",
       "plan_duration            int64\n",
       "trip_route_category     object\n",
       "passholder_type         object\n",
       "bike_type               object\n",
       "start_t                 object\n",
       "end_t                   object\n",
       "dtype: object"
      ]
     },
     "execution_count": 5,
     "metadata": {},
     "output_type": "execute_result"
    }
   ],
   "source": [
    "df.dtypes"
   ]
  },
  {
   "cell_type": "code",
   "execution_count": 5,
   "metadata": {},
   "outputs": [],
   "source": [
    "# Station numbers from the Metro website\n",
    "# 4125\n",
    "# 4126\n",
    "# 4127\n",
    "# 4129\n",
    "# 4130\n",
    "# 4131\n",
    "# 4132\n",
    "# 4133\n",
    "# 4134\n",
    "# 4135\n",
    "# 4136"
   ]
  },
  {
   "cell_type": "code",
   "execution_count": 21,
   "metadata": {},
   "outputs": [
    {
     "name": "stderr",
     "output_type": "stream",
     "text": [
      "/Applications/anaconda3/envs/optimization/lib/python3.6/site-packages/ipykernel_launcher.py:2: FutureWarning: The signature of `Series.to_csv` was aligned to that of `DataFrame.to_csv`, and argument 'header' will change its default value from False to True: please pass an explicit value to suppress this warning.\n",
      "  \n"
     ]
    }
   ],
   "source": [
    "df['start_hours'] = df.start_t.apply(lambda x: x.hour)\n",
    "df.groupby('start_hours').size().to_csv('start_hours.csv')"
   ]
  },
  {
   "cell_type": "code",
   "execution_count": 20,
   "metadata": {},
   "outputs": [
    {
     "name": "stderr",
     "output_type": "stream",
     "text": [
      "/Applications/anaconda3/envs/optimization/lib/python3.6/site-packages/ipykernel_launcher.py:2: FutureWarning: The signature of `Series.to_csv` was aligned to that of `DataFrame.to_csv`, and argument 'header' will change its default value from False to True: please pass an explicit value to suppress this warning.\n",
      "  \n"
     ]
    }
   ],
   "source": [
    "df['end_hours'] = df.end_t.apply(lambda x: x.hour)\n",
    "df.groupby('end_hours').size().to_csv('end_hours.csv')"
   ]
  },
  {
   "cell_type": "code",
   "execution_count": 25,
   "metadata": {
    "scrolled": true
   },
   "outputs": [
    {
     "name": "stderr",
     "output_type": "stream",
     "text": [
      "/Applications/anaconda3/envs/optimization/lib/python3.6/site-packages/ipykernel_launcher.py:3: FutureWarning: The signature of `Series.to_csv` was aligned to that of `DataFrame.to_csv`, and argument 'header' will change its default value from False to True: please pass an explicit value to suppress this warning.\n",
      "  This is separate from the ipykernel package so we can avoid doing imports until\n"
     ]
    }
   ],
   "source": [
    "longbeach=df[df['end_station'].isin([4125, 4126, 4127, 4129, 4130, 4131, 4132, 4133, 4134, 4135, 4136]) & df['start_station'].isin([4125, 4126, 4127, 4129, 4130, 4131, 4132, 4133, 4134, 4135, 4136, 4435])]\n",
    "\n",
    "longbeach.groupby('start_station').size().to_csv('start_station.csv')"
   ]
  },
  {
   "cell_type": "code",
   "execution_count": 26,
   "metadata": {},
   "outputs": [
    {
     "name": "stderr",
     "output_type": "stream",
     "text": [
      "/Applications/anaconda3/envs/optimization/lib/python3.6/site-packages/ipykernel_launcher.py:1: FutureWarning: The signature of `Series.to_csv` was aligned to that of `DataFrame.to_csv`, and argument 'header' will change its default value from False to True: please pass an explicit value to suppress this warning.\n",
      "  \"\"\"Entry point for launching an IPython kernel.\n"
     ]
    }
   ],
   "source": [
    "longbeach.groupby('end_station').size().to_csv('end_station.csv')"
   ]
  },
  {
   "cell_type": "code",
   "execution_count": 7,
   "metadata": {},
   "outputs": [
    {
     "data": {
      "text/plain": [
       "datetime.time(23, 48)"
      ]
     },
     "execution_count": 7,
     "metadata": {},
     "output_type": "execute_result"
    }
   ],
   "source": [
    "longbeach.start_t.max()"
   ]
  },
  {
   "cell_type": "code",
   "execution_count": 8,
   "metadata": {},
   "outputs": [
    {
     "data": {
      "text/plain": [
       "datetime.time(0, 13)"
      ]
     },
     "execution_count": 8,
     "metadata": {},
     "output_type": "execute_result"
    }
   ],
   "source": [
    "longbeach.start_t.min()"
   ]
  },
  {
   "cell_type": "code",
   "execution_count": 27,
   "metadata": {},
   "outputs": [],
   "source": [
    "# Choose a time period 8 am - 9 am\n",
    "morningout=longbeach.loc[longbeach['start_t'].between(dt.time(8,0), dt.time(9,0))]"
   ]
  },
  {
   "cell_type": "code",
   "execution_count": 31,
   "metadata": {},
   "outputs": [
    {
     "name": "stderr",
     "output_type": "stream",
     "text": [
      "/Applications/anaconda3/envs/optimization/lib/python3.6/site-packages/ipykernel_launcher.py:3: FutureWarning: The signature of `Series.to_csv` was aligned to that of `DataFrame.to_csv`, and argument 'header' will change its default value from False to True: please pass an explicit value to suppress this warning.\n",
      "  This is separate from the ipykernel package so we can avoid doing imports until\n"
     ]
    }
   ],
   "source": [
    "# Count the number of trips that leave from each station \n",
    "m_out=morningout.groupby('start_station').count()['trip_id']\n",
    "m_out.to_csv('m_out.csv')"
   ]
  },
  {
   "cell_type": "code",
   "execution_count": 29,
   "metadata": {},
   "outputs": [],
   "source": [
    "# Choose a time period 8 am to 9 am \n",
    "morningin=longbeach.loc[longbeach['end_t'].between(dt.time(8,0), dt.time(9,0))]"
   ]
  },
  {
   "cell_type": "code",
   "execution_count": 32,
   "metadata": {},
   "outputs": [
    {
     "name": "stderr",
     "output_type": "stream",
     "text": [
      "/Applications/anaconda3/envs/optimization/lib/python3.6/site-packages/ipykernel_launcher.py:3: FutureWarning: The signature of `Series.to_csv` was aligned to that of `DataFrame.to_csv`, and argument 'header' will change its default value from False to True: please pass an explicit value to suppress this warning.\n",
      "  This is separate from the ipykernel package so we can avoid doing imports until\n"
     ]
    }
   ],
   "source": [
    "# Count the number of trips that come in at each station\n",
    "m_in=morningin.groupby('end_station').count()['trip_id']\n",
    "m_in.to_csv('m_in.csv')"
   ]
  },
  {
   "cell_type": "code",
   "execution_count": 13,
   "metadata": {},
   "outputs": [
    {
     "data": {
      "text/plain": [
       "4126    -2.0\n",
       "4127     NaN\n",
       "4129     4.0\n",
       "4130    15.0\n",
       "4131     4.0\n",
       "4132    -2.0\n",
       "4133     4.0\n",
       "4134     5.0\n",
       "4135     1.0\n",
       "Name: trip_id, dtype: float64"
      ]
     },
     "execution_count": 13,
     "metadata": {},
     "output_type": "execute_result"
    }
   ],
   "source": [
    "# Numnber of bikes leaving minus number of bikes coming in\n",
    "# If the result is negative, that means more bikes are coming in than leaving\n",
    "# We want to look at the positive numbers because that's the demand at the station\n",
    "\n",
    "demandmorn=m_out-m_in \n",
    "demandmorn "
   ]
  },
  {
   "cell_type": "code",
   "execution_count": 33,
   "metadata": {},
   "outputs": [],
   "source": [
    "# Choose a time period 7 pm to 8 pm\n",
    "nightin=longbeach.loc[longbeach['end_t'].between(dt.time(19,0), dt.time(20,0))]"
   ]
  },
  {
   "cell_type": "code",
   "execution_count": 34,
   "metadata": {},
   "outputs": [
    {
     "name": "stderr",
     "output_type": "stream",
     "text": [
      "/Applications/anaconda3/envs/optimization/lib/python3.6/site-packages/ipykernel_launcher.py:3: FutureWarning: The signature of `Series.to_csv` was aligned to that of `DataFrame.to_csv`, and argument 'header' will change its default value from False to True: please pass an explicit value to suppress this warning.\n",
      "  This is separate from the ipykernel package so we can avoid doing imports until\n"
     ]
    }
   ],
   "source": [
    "# Count the number of bikes that come in at each station\n",
    "n_in=nightin.groupby('end_station').count()['trip_id']\n",
    "n_in.to_csv('n_in.csv')"
   ]
  },
  {
   "cell_type": "code",
   "execution_count": 35,
   "metadata": {},
   "outputs": [],
   "source": [
    "# Choose a time period 7 pm to 8 pm\n",
    "nightout=longbeach.loc[longbeach['start_t'].between(dt.time(19,0), dt.time(20,0))]"
   ]
  },
  {
   "cell_type": "code",
   "execution_count": 36,
   "metadata": {},
   "outputs": [
    {
     "name": "stderr",
     "output_type": "stream",
     "text": [
      "/Applications/anaconda3/envs/optimization/lib/python3.6/site-packages/ipykernel_launcher.py:3: FutureWarning: The signature of `Series.to_csv` was aligned to that of `DataFrame.to_csv`, and argument 'header' will change its default value from False to True: please pass an explicit value to suppress this warning.\n",
      "  This is separate from the ipykernel package so we can avoid doing imports until\n"
     ]
    }
   ],
   "source": [
    "# Count the number of bikes that leave each station\n",
    "n_out=nightout.groupby('start_station').count()['trip_id']\n",
    "n_out.to_csv('n_out.csv')"
   ]
  },
  {
   "cell_type": "code",
   "execution_count": 18,
   "metadata": {},
   "outputs": [
    {
     "data": {
      "text/plain": [
       "start_station\n",
       "4125    -6\n",
       "4126     7\n",
       "4127     3\n",
       "4129   -10\n",
       "4130     1\n",
       "4131    -5\n",
       "4132    10\n",
       "4133   -11\n",
       "4134     0\n",
       "4135     1\n",
       "4136    -4\n",
       "Name: trip_id, dtype: int64"
      ]
     },
     "execution_count": 18,
     "metadata": {},
     "output_type": "execute_result"
    }
   ],
   "source": [
    "# Number of bikes leaving minus number of bikes coming in\n",
    "# If the result is negative, that means more bikes are coming in than leaving\n",
    "# We want to look at the negative numbers because that's the excess bikes where our supply will come from\n",
    "demandnight=n_out-n_in \n",
    "demandnight "
   ]
  },
  {
   "cell_type": "code",
   "execution_count": 19,
   "metadata": {},
   "outputs": [],
   "source": [
    "# Calculate distance between stations\n",
    "from geopy.distance import great_circle\n",
    "from geopy.distance import vincenty"
   ]
  },
  {
   "cell_type": "code",
   "execution_count": 20,
   "metadata": {},
   "outputs": [],
   "source": [
    "# Data is from JSON file from the Metro website\n",
    "data = {'station_id':[4125,4126,4127,4129,4130,4131,4132,4133,4134,4135,4136],\n",
    "        'lat':[33.76666,33.71098,33.74892,33.72582,33.71926,33.73898,33.74913,33.73352,33.74136,33.7723,33.77176], \n",
    "        'lon':[-118.26102,-118.28467, -118.27519,-118.28051,-118.28272,-118.27927,-118.28018,-118.27779,-118.27807,-118.26804,-118.27654]} \n",
    "  \n",
    "# Create DataFrame \n",
    "station = pd.DataFrame(data) "
   ]
  },
  {
   "cell_type": "code",
   "execution_count": 21,
   "metadata": {},
   "outputs": [],
   "source": [
    "# Join latitude and longitude into another column\n",
    "station['coords'] = tuple(zip(station.lat, station.lon))"
   ]
  },
  {
   "cell_type": "code",
   "execution_count": 22,
   "metadata": {},
   "outputs": [],
   "source": [
    "# Creates a \"square\" dataframe\n",
    "square = pd.DataFrame(\n",
    "    np.zeros(len(station) ** 2).reshape(len(station), len(station)),\n",
    "    index=station.index, columns=station.index)\n",
    "\n",
    "# Applies Geopy Vicenty function to each row, left to right\n",
    "def get_distance(col):\n",
    "    end = station.iloc[col.name]['coords']\n",
    "    return station['coords'].apply(vincenty, args=(end,), ellipsoid='WGS-84')"
   ]
  },
  {
   "cell_type": "code",
   "execution_count": 23,
   "metadata": {},
   "outputs": [
    {
     "data": {
      "text/html": [
       "<div>\n",
       "<style scoped>\n",
       "    .dataframe tbody tr th:only-of-type {\n",
       "        vertical-align: middle;\n",
       "    }\n",
       "\n",
       "    .dataframe tbody tr th {\n",
       "        vertical-align: top;\n",
       "    }\n",
       "\n",
       "    .dataframe thead th {\n",
       "        text-align: right;\n",
       "    }\n",
       "</style>\n",
       "<table border=\"1\" class=\"dataframe\">\n",
       "  <thead>\n",
       "    <tr style=\"text-align: right;\">\n",
       "      <th></th>\n",
       "      <th>0</th>\n",
       "      <th>1</th>\n",
       "      <th>2</th>\n",
       "      <th>3</th>\n",
       "      <th>4</th>\n",
       "      <th>5</th>\n",
       "      <th>6</th>\n",
       "      <th>7</th>\n",
       "      <th>8</th>\n",
       "      <th>9</th>\n",
       "      <th>10</th>\n",
       "    </tr>\n",
       "  </thead>\n",
       "  <tbody>\n",
       "    <tr>\n",
       "      <th>0</th>\n",
       "      <td>0.0 km</td>\n",
       "      <td>6.553216640514692 km</td>\n",
       "      <td>2.3654218773372397 km</td>\n",
       "      <td>4.876594676222695 km</td>\n",
       "      <td>5.628899416257218 km</td>\n",
       "      <td>3.505037546911986 km</td>\n",
       "      <td>2.63280042388434 km</td>\n",
       "      <td>3.9907371892369916 km</td>\n",
       "      <td>3.220295531572122 km</td>\n",
       "      <td>0.9023431060805943 km</td>\n",
       "      <td>1.5449643189172177 km</td>\n",
       "    </tr>\n",
       "    <tr>\n",
       "      <th>1</th>\n",
       "      <td>6.553216640514959 km</td>\n",
       "      <td>0.0 km</td>\n",
       "      <td>4.298944165210746 km</td>\n",
       "      <td>1.6905719764630582 km</td>\n",
       "      <td>0.9360125296102768 km</td>\n",
       "      <td>3.145755546335409 km</td>\n",
       "      <td>4.251914001394626 km</td>\n",
       "      <td>2.5801181782167366 km</td>\n",
       "      <td>3.4247414178832045 km</td>\n",
       "      <td>6.973860288764218 km</td>\n",
       "      <td>6.78354162233693 km</td>\n",
       "    </tr>\n",
       "    <tr>\n",
       "      <th>2</th>\n",
       "      <td>2.365421877337352 km</td>\n",
       "      <td>4.298944165210733 km</td>\n",
       "      <td>0.0 km</td>\n",
       "      <td>2.609195431398194 km</td>\n",
       "      <td>3.3630101455090258 km</td>\n",
       "      <td>1.1655399264255264 km</td>\n",
       "      <td>0.462937782315351 km</td>\n",
       "      <td>1.7250401470612797 km</td>\n",
       "      <td>0.8799779292548512 km</td>\n",
       "      <td>2.676526149496487 km</td>\n",
       "      <td>2.5364539439300353 km</td>\n",
       "    </tr>\n",
       "    <tr>\n",
       "      <th>3</th>\n",
       "      <td>4.876594676222524 km</td>\n",
       "      <td>1.6905719764628664 km</td>\n",
       "      <td>2.6091954313980565 km</td>\n",
       "      <td>0.0 km</td>\n",
       "      <td>0.7558995168183865 km</td>\n",
       "      <td>1.4641915586372174 km</td>\n",
       "      <td>2.5856713379239578 km</td>\n",
       "      <td>0.8904891932624012 km</td>\n",
       "      <td>1.738427885096244 km</td>\n",
       "      <td>5.283348731295185 km</td>\n",
       "      <td>5.108826218716422 km</td>\n",
       "    </tr>\n",
       "    <tr>\n",
       "      <th>4</th>\n",
       "      <td>5.628899416256943 km</td>\n",
       "      <td>0.9360125296105709 km</td>\n",
       "      <td>3.3630101455089196 km</td>\n",
       "      <td>0.7558995168184874 km</td>\n",
       "      <td>0.0 km</td>\n",
       "      <td>2.2105389005490994 km</td>\n",
       "      <td>3.3214597119072593 km</td>\n",
       "      <td>1.6463564010263316 km</td>\n",
       "      <td>2.4888695055773615 km</td>\n",
       "      <td>6.038283963975098 km</td>\n",
       "      <td>5.851272263385747 km</td>\n",
       "    </tr>\n",
       "    <tr>\n",
       "      <th>5</th>\n",
       "      <td>3.5050375469115758 km</td>\n",
       "      <td>3.145755546335022 km</td>\n",
       "      <td>1.1655399264253472 km</td>\n",
       "      <td>1.464191558637032 km</td>\n",
       "      <td>2.21053890054939 km</td>\n",
       "      <td>0.0 km</td>\n",
       "      <td>1.1289687247063969 km</td>\n",
       "      <td>0.6209461207122363 km</td>\n",
       "      <td>0.28644833322279234 km</td>\n",
       "      <td>3.839448223305313 km</td>\n",
       "      <td>3.64467820012752 km</td>\n",
       "    </tr>\n",
       "    <tr>\n",
       "      <th>6</th>\n",
       "      <td>2.632800423884295 km</td>\n",
       "      <td>4.251914001394641 km</td>\n",
       "      <td>0.46293778231535054 km</td>\n",
       "      <td>2.585671337924117 km</td>\n",
       "      <td>3.321459711906881 km</td>\n",
       "      <td>1.128968724706582 km</td>\n",
       "      <td>0.0 km</td>\n",
       "      <td>1.745532083901112 km</td>\n",
       "      <td>0.8837295984088368 km</td>\n",
       "      <td>2.805293888307772 km</td>\n",
       "      <td>2.5326269358089673 km</td>\n",
       "    </tr>\n",
       "    <tr>\n",
       "      <th>7</th>\n",
       "      <td>3.990737189236951 km</td>\n",
       "      <td>2.580118178217 km</td>\n",
       "      <td>1.7250401470612593 km</td>\n",
       "      <td>0.8904891932620734 km</td>\n",
       "      <td>1.6463564010264524 km</td>\n",
       "      <td>0.6209461207122545 km</td>\n",
       "      <td>1.7455320839008064 km</td>\n",
       "      <td>0.0 km</td>\n",
       "      <td>0.8699814154719752 km</td>\n",
       "      <td>4.39523182572274 km</td>\n",
       "      <td>4.243082364610316 km</td>\n",
       "    </tr>\n",
       "    <tr>\n",
       "      <th>8</th>\n",
       "      <td>3.220295531571789 km</td>\n",
       "      <td>3.4247414178831534 km</td>\n",
       "      <td>0.8799779292547572 km</td>\n",
       "      <td>1.7384278850961956 km</td>\n",
       "      <td>2.4888695055776022 km</td>\n",
       "      <td>0.28644833322300783 km</td>\n",
       "      <td>0.8837295984089575 km</td>\n",
       "      <td>0.8699814154719893 km</td>\n",
       "      <td>0.0 km</td>\n",
       "      <td>3.5553874273474793 km</td>\n",
       "      <td>3.374885290926732 km</td>\n",
       "    </tr>\n",
       "    <tr>\n",
       "      <th>9</th>\n",
       "      <td>0.9023431060806035 km</td>\n",
       "      <td>6.973860288763894 km</td>\n",
       "      <td>2.6765261494965875 km</td>\n",
       "      <td>5.283348731295197 km</td>\n",
       "      <td>6.03828396397519 km</td>\n",
       "      <td>3.8394482233054443 km</td>\n",
       "      <td>2.805293888307989 km</td>\n",
       "      <td>4.395231825722985 km</td>\n",
       "      <td>3.5553874273475152 km</td>\n",
       "      <td>0.0 km</td>\n",
       "      <td>0.7896370953911429 km</td>\n",
       "    </tr>\n",
       "    <tr>\n",
       "      <th>10</th>\n",
       "      <td>1.5449643189171969 km</td>\n",
       "      <td>6.783541622337038 km</td>\n",
       "      <td>2.536453943930383 km</td>\n",
       "      <td>5.108826218716319 km</td>\n",
       "      <td>5.851272263385825 km</td>\n",
       "      <td>3.6446782001275215 km</td>\n",
       "      <td>2.532626935808944 km</td>\n",
       "      <td>4.243082364610769 km</td>\n",
       "      <td>3.3748852909266347 km</td>\n",
       "      <td>0.7896370953911267 km</td>\n",
       "      <td>0.0 km</td>\n",
       "    </tr>\n",
       "  </tbody>\n",
       "</table>\n",
       "</div>"
      ],
      "text/plain": [
       "                       0                      1                       2   \\\n",
       "0                  0.0 km   6.553216640514692 km   2.3654218773372397 km   \n",
       "1    6.553216640514959 km                 0.0 km    4.298944165210746 km   \n",
       "2    2.365421877337352 km   4.298944165210733 km                  0.0 km   \n",
       "3    4.876594676222524 km  1.6905719764628664 km   2.6091954313980565 km   \n",
       "4    5.628899416256943 km  0.9360125296105709 km   3.3630101455089196 km   \n",
       "5   3.5050375469115758 km   3.145755546335022 km   1.1655399264253472 km   \n",
       "6    2.632800423884295 km   4.251914001394641 km  0.46293778231535054 km   \n",
       "7    3.990737189236951 km      2.580118178217 km   1.7250401470612593 km   \n",
       "8    3.220295531571789 km  3.4247414178831534 km   0.8799779292547572 km   \n",
       "9   0.9023431060806035 km   6.973860288763894 km   2.6765261494965875 km   \n",
       "10  1.5449643189171969 km   6.783541622337038 km    2.536453943930383 km   \n",
       "\n",
       "                       3                      4                       5   \\\n",
       "0    4.876594676222695 km   5.628899416257218 km    3.505037546911986 km   \n",
       "1   1.6905719764630582 km  0.9360125296102768 km    3.145755546335409 km   \n",
       "2    2.609195431398194 km  3.3630101455090258 km   1.1655399264255264 km   \n",
       "3                  0.0 km  0.7558995168183865 km   1.4641915586372174 km   \n",
       "4   0.7558995168184874 km                 0.0 km   2.2105389005490994 km   \n",
       "5    1.464191558637032 km    2.21053890054939 km                  0.0 km   \n",
       "6    2.585671337924117 km   3.321459711906881 km    1.128968724706582 km   \n",
       "7   0.8904891932620734 km  1.6463564010264524 km   0.6209461207122545 km   \n",
       "8   1.7384278850961956 km  2.4888695055776022 km  0.28644833322300783 km   \n",
       "9    5.283348731295197 km    6.03828396397519 km   3.8394482233054443 km   \n",
       "10   5.108826218716319 km   5.851272263385825 km   3.6446782001275215 km   \n",
       "\n",
       "                       6                      7                       8   \\\n",
       "0     2.63280042388434 km  3.9907371892369916 km    3.220295531572122 km   \n",
       "1    4.251914001394626 km  2.5801181782167366 km   3.4247414178832045 km   \n",
       "2    0.462937782315351 km  1.7250401470612797 km   0.8799779292548512 km   \n",
       "3   2.5856713379239578 km  0.8904891932624012 km    1.738427885096244 km   \n",
       "4   3.3214597119072593 km  1.6463564010263316 km   2.4888695055773615 km   \n",
       "5   1.1289687247063969 km  0.6209461207122363 km  0.28644833322279234 km   \n",
       "6                  0.0 km   1.745532083901112 km   0.8837295984088368 km   \n",
       "7   1.7455320839008064 km                 0.0 km   0.8699814154719752 km   \n",
       "8   0.8837295984089575 km  0.8699814154719893 km                  0.0 km   \n",
       "9    2.805293888307989 km   4.395231825722985 km   3.5553874273475152 km   \n",
       "10   2.532626935808944 km   4.243082364610769 km   3.3748852909266347 km   \n",
       "\n",
       "                       9                      10  \n",
       "0   0.9023431060805943 km  1.5449643189172177 km  \n",
       "1    6.973860288764218 km    6.78354162233693 km  \n",
       "2    2.676526149496487 km  2.5364539439300353 km  \n",
       "3    5.283348731295185 km   5.108826218716422 km  \n",
       "4    6.038283963975098 km   5.851272263385747 km  \n",
       "5    3.839448223305313 km    3.64467820012752 km  \n",
       "6    2.805293888307772 km  2.5326269358089673 km  \n",
       "7     4.39523182572274 km   4.243082364610316 km  \n",
       "8   3.5553874273474793 km   3.374885290926732 km  \n",
       "9                  0.0 km  0.7896370953911429 km  \n",
       "10  0.7896370953911267 km                 0.0 km  "
      ]
     },
     "execution_count": 23,
     "metadata": {},
     "output_type": "execute_result"
    }
   ],
   "source": [
    "distances = square.apply(get_distance, axis=1).T\n",
    "distances"
   ]
  },
  {
   "cell_type": "code",
   "execution_count": 24,
   "metadata": {},
   "outputs": [
    {
     "data": {
      "text/html": [
       "<div>\n",
       "<style scoped>\n",
       "    .dataframe tbody tr th:only-of-type {\n",
       "        vertical-align: middle;\n",
       "    }\n",
       "\n",
       "    .dataframe tbody tr th {\n",
       "        vertical-align: top;\n",
       "    }\n",
       "\n",
       "    .dataframe thead th {\n",
       "        text-align: right;\n",
       "    }\n",
       "</style>\n",
       "<table border=\"1\" class=\"dataframe\">\n",
       "  <thead>\n",
       "    <tr style=\"text-align: right;\">\n",
       "      <th></th>\n",
       "      <th>0</th>\n",
       "      <th>1</th>\n",
       "      <th>2</th>\n",
       "      <th>3</th>\n",
       "      <th>4</th>\n",
       "      <th>5</th>\n",
       "      <th>6</th>\n",
       "      <th>7</th>\n",
       "      <th>8</th>\n",
       "      <th>9</th>\n",
       "      <th>10</th>\n",
       "    </tr>\n",
       "  </thead>\n",
       "  <tbody>\n",
       "    <tr>\n",
       "      <th>0</th>\n",
       "      <td>0.000000</td>\n",
       "      <td>4.071980</td>\n",
       "      <td>1.469805</td>\n",
       "      <td>3.030175</td>\n",
       "      <td>3.497636</td>\n",
       "      <td>2.177929</td>\n",
       "      <td>1.635946</td>\n",
       "      <td>2.479729</td>\n",
       "      <td>2.000999</td>\n",
       "      <td>0.560690</td>\n",
       "      <td>0.959996</td>\n",
       "    </tr>\n",
       "    <tr>\n",
       "      <th>1</th>\n",
       "      <td>4.071980</td>\n",
       "      <td>0.000000</td>\n",
       "      <td>2.671240</td>\n",
       "      <td>1.050473</td>\n",
       "      <td>0.581611</td>\n",
       "      <td>1.954682</td>\n",
       "      <td>2.642017</td>\n",
       "      <td>1.603211</td>\n",
       "      <td>2.128036</td>\n",
       "      <td>4.333356</td>\n",
       "      <td>4.215097</td>\n",
       "    </tr>\n",
       "    <tr>\n",
       "      <th>2</th>\n",
       "      <td>1.469805</td>\n",
       "      <td>2.671240</td>\n",
       "      <td>0.000000</td>\n",
       "      <td>1.621279</td>\n",
       "      <td>2.089678</td>\n",
       "      <td>0.724233</td>\n",
       "      <td>0.287656</td>\n",
       "      <td>1.071890</td>\n",
       "      <td>0.546793</td>\n",
       "      <td>1.663116</td>\n",
       "      <td>1.576079</td>\n",
       "    </tr>\n",
       "    <tr>\n",
       "      <th>3</th>\n",
       "      <td>3.030175</td>\n",
       "      <td>1.050473</td>\n",
       "      <td>1.621279</td>\n",
       "      <td>0.000000</td>\n",
       "      <td>0.469694</td>\n",
       "      <td>0.909806</td>\n",
       "      <td>1.606662</td>\n",
       "      <td>0.553324</td>\n",
       "      <td>1.080209</td>\n",
       "      <td>3.282921</td>\n",
       "      <td>3.174477</td>\n",
       "    </tr>\n",
       "    <tr>\n",
       "      <th>4</th>\n",
       "      <td>3.497636</td>\n",
       "      <td>0.581611</td>\n",
       "      <td>2.089678</td>\n",
       "      <td>0.469694</td>\n",
       "      <td>0.000000</td>\n",
       "      <td>1.373565</td>\n",
       "      <td>2.063859</td>\n",
       "      <td>1.022998</td>\n",
       "      <td>1.546512</td>\n",
       "      <td>3.752016</td>\n",
       "      <td>3.635812</td>\n",
       "    </tr>\n",
       "    <tr>\n",
       "      <th>5</th>\n",
       "      <td>2.177929</td>\n",
       "      <td>1.954682</td>\n",
       "      <td>0.724233</td>\n",
       "      <td>0.909806</td>\n",
       "      <td>1.373565</td>\n",
       "      <td>0.000000</td>\n",
       "      <td>0.701509</td>\n",
       "      <td>0.385838</td>\n",
       "      <td>0.177991</td>\n",
       "      <td>2.385723</td>\n",
       "      <td>2.264698</td>\n",
       "    </tr>\n",
       "    <tr>\n",
       "      <th>6</th>\n",
       "      <td>1.635946</td>\n",
       "      <td>2.642017</td>\n",
       "      <td>0.287656</td>\n",
       "      <td>1.606662</td>\n",
       "      <td>2.063859</td>\n",
       "      <td>0.701509</td>\n",
       "      <td>0.000000</td>\n",
       "      <td>1.084623</td>\n",
       "      <td>0.549124</td>\n",
       "      <td>1.743129</td>\n",
       "      <td>1.573701</td>\n",
       "    </tr>\n",
       "    <tr>\n",
       "      <th>7</th>\n",
       "      <td>2.479729</td>\n",
       "      <td>1.603211</td>\n",
       "      <td>1.071890</td>\n",
       "      <td>0.553324</td>\n",
       "      <td>1.022998</td>\n",
       "      <td>0.385838</td>\n",
       "      <td>1.084623</td>\n",
       "      <td>0.000000</td>\n",
       "      <td>0.540581</td>\n",
       "      <td>2.731070</td>\n",
       "      <td>2.636529</td>\n",
       "    </tr>\n",
       "    <tr>\n",
       "      <th>8</th>\n",
       "      <td>2.000999</td>\n",
       "      <td>2.128036</td>\n",
       "      <td>0.546793</td>\n",
       "      <td>1.080209</td>\n",
       "      <td>1.546512</td>\n",
       "      <td>0.177991</td>\n",
       "      <td>0.549124</td>\n",
       "      <td>0.540581</td>\n",
       "      <td>0.000000</td>\n",
       "      <td>2.209215</td>\n",
       "      <td>2.097056</td>\n",
       "    </tr>\n",
       "    <tr>\n",
       "      <th>9</th>\n",
       "      <td>0.560690</td>\n",
       "      <td>4.333356</td>\n",
       "      <td>1.663116</td>\n",
       "      <td>3.282921</td>\n",
       "      <td>3.752016</td>\n",
       "      <td>2.385723</td>\n",
       "      <td>1.743129</td>\n",
       "      <td>2.731070</td>\n",
       "      <td>2.209215</td>\n",
       "      <td>0.000000</td>\n",
       "      <td>0.490658</td>\n",
       "    </tr>\n",
       "    <tr>\n",
       "      <th>10</th>\n",
       "      <td>0.959996</td>\n",
       "      <td>4.215097</td>\n",
       "      <td>1.576079</td>\n",
       "      <td>3.174477</td>\n",
       "      <td>3.635812</td>\n",
       "      <td>2.264698</td>\n",
       "      <td>1.573701</td>\n",
       "      <td>2.636529</td>\n",
       "      <td>2.097056</td>\n",
       "      <td>0.490658</td>\n",
       "      <td>0.000000</td>\n",
       "    </tr>\n",
       "  </tbody>\n",
       "</table>\n",
       "</div>"
      ],
      "text/plain": [
       "          0         1         2         3         4         5         6   \\\n",
       "0   0.000000  4.071980  1.469805  3.030175  3.497636  2.177929  1.635946   \n",
       "1   4.071980  0.000000  2.671240  1.050473  0.581611  1.954682  2.642017   \n",
       "2   1.469805  2.671240  0.000000  1.621279  2.089678  0.724233  0.287656   \n",
       "3   3.030175  1.050473  1.621279  0.000000  0.469694  0.909806  1.606662   \n",
       "4   3.497636  0.581611  2.089678  0.469694  0.000000  1.373565  2.063859   \n",
       "5   2.177929  1.954682  0.724233  0.909806  1.373565  0.000000  0.701509   \n",
       "6   1.635946  2.642017  0.287656  1.606662  2.063859  0.701509  0.000000   \n",
       "7   2.479729  1.603211  1.071890  0.553324  1.022998  0.385838  1.084623   \n",
       "8   2.000999  2.128036  0.546793  1.080209  1.546512  0.177991  0.549124   \n",
       "9   0.560690  4.333356  1.663116  3.282921  3.752016  2.385723  1.743129   \n",
       "10  0.959996  4.215097  1.576079  3.174477  3.635812  2.264698  1.573701   \n",
       "\n",
       "          7         8         9         10  \n",
       "0   2.479729  2.000999  0.560690  0.959996  \n",
       "1   1.603211  2.128036  4.333356  4.215097  \n",
       "2   1.071890  0.546793  1.663116  1.576079  \n",
       "3   0.553324  1.080209  3.282921  3.174477  \n",
       "4   1.022998  1.546512  3.752016  3.635812  \n",
       "5   0.385838  0.177991  2.385723  2.264698  \n",
       "6   1.084623  0.549124  1.743129  1.573701  \n",
       "7   0.000000  0.540581  2.731070  2.636529  \n",
       "8   0.540581  0.000000  2.209215  2.097056  \n",
       "9   2.731070  2.209215  0.000000  0.490658  \n",
       "10  2.636529  2.097056  0.490658  0.000000  "
      ]
     },
     "execution_count": 24,
     "metadata": {},
     "output_type": "execute_result"
    }
   ],
   "source": [
    "# Converts units to miles\n",
    "def units(input_instance):\n",
    "    return input_instance.miles\n",
    "\n",
    "station_miles = distances.applymap(units)\n",
    "station_miles"
   ]
  },
  {
   "cell_type": "code",
   "execution_count": 25,
   "metadata": {},
   "outputs": [
    {
     "data": {
      "text/plain": [
       "197.37727250939895"
      ]
     },
     "execution_count": 25,
     "metadata": {},
     "output_type": "execute_result"
    }
   ],
   "source": [
    "# Adds up the distances between each station to every other stations together\n",
    "station_miles.sum().sum()"
   ]
  },
  {
   "cell_type": "code",
   "execution_count": 26,
   "metadata": {},
   "outputs": [],
   "source": [
    "# Calculate the distances from each of our chosen supply and demand stations\n",
    "distance = {'start':[0,0,0,0,3,3,3,3,5,5,5,5,7,7,7,7,10,10,10,10],\n",
    "        'stop':[2,4,8,9,2,4,8,9,2,4,8,9,2,4,8,9,2,4,8,9]}\n",
    "distance = pd.DataFrame(distance) "
   ]
  },
  {
   "cell_type": "code",
   "execution_count": 27,
   "metadata": {},
   "outputs": [],
   "source": [
    "# Goes through the combinations to calculate distance bewteen chosen points\n",
    "dist=[]\n",
    "for i in range(len(distance)):\n",
    "    dist.append(station_miles.loc[distance['start'].iloc[i],distance['stop'].iloc[i]])"
   ]
  },
  {
   "cell_type": "code",
   "execution_count": 28,
   "metadata": {},
   "outputs": [
    {
     "data": {
      "text/html": [
       "<div>\n",
       "<style scoped>\n",
       "    .dataframe tbody tr th:only-of-type {\n",
       "        vertical-align: middle;\n",
       "    }\n",
       "\n",
       "    .dataframe tbody tr th {\n",
       "        vertical-align: top;\n",
       "    }\n",
       "\n",
       "    .dataframe thead th {\n",
       "        text-align: right;\n",
       "    }\n",
       "</style>\n",
       "<table border=\"1\" class=\"dataframe\">\n",
       "  <thead>\n",
       "    <tr style=\"text-align: right;\">\n",
       "      <th></th>\n",
       "      <th>start</th>\n",
       "      <th>stop</th>\n",
       "      <th>dist</th>\n",
       "    </tr>\n",
       "  </thead>\n",
       "  <tbody>\n",
       "    <tr>\n",
       "      <th>0</th>\n",
       "      <td>0</td>\n",
       "      <td>2</td>\n",
       "      <td>1.469805</td>\n",
       "    </tr>\n",
       "    <tr>\n",
       "      <th>1</th>\n",
       "      <td>0</td>\n",
       "      <td>4</td>\n",
       "      <td>3.497636</td>\n",
       "    </tr>\n",
       "    <tr>\n",
       "      <th>2</th>\n",
       "      <td>0</td>\n",
       "      <td>8</td>\n",
       "      <td>2.000999</td>\n",
       "    </tr>\n",
       "    <tr>\n",
       "      <th>3</th>\n",
       "      <td>0</td>\n",
       "      <td>9</td>\n",
       "      <td>0.560690</td>\n",
       "    </tr>\n",
       "    <tr>\n",
       "      <th>4</th>\n",
       "      <td>3</td>\n",
       "      <td>2</td>\n",
       "      <td>1.621279</td>\n",
       "    </tr>\n",
       "    <tr>\n",
       "      <th>5</th>\n",
       "      <td>3</td>\n",
       "      <td>4</td>\n",
       "      <td>0.469694</td>\n",
       "    </tr>\n",
       "    <tr>\n",
       "      <th>6</th>\n",
       "      <td>3</td>\n",
       "      <td>8</td>\n",
       "      <td>1.080209</td>\n",
       "    </tr>\n",
       "    <tr>\n",
       "      <th>7</th>\n",
       "      <td>3</td>\n",
       "      <td>9</td>\n",
       "      <td>3.282921</td>\n",
       "    </tr>\n",
       "    <tr>\n",
       "      <th>8</th>\n",
       "      <td>5</td>\n",
       "      <td>2</td>\n",
       "      <td>0.724233</td>\n",
       "    </tr>\n",
       "    <tr>\n",
       "      <th>9</th>\n",
       "      <td>5</td>\n",
       "      <td>4</td>\n",
       "      <td>1.373565</td>\n",
       "    </tr>\n",
       "    <tr>\n",
       "      <th>10</th>\n",
       "      <td>5</td>\n",
       "      <td>8</td>\n",
       "      <td>0.177991</td>\n",
       "    </tr>\n",
       "    <tr>\n",
       "      <th>11</th>\n",
       "      <td>5</td>\n",
       "      <td>9</td>\n",
       "      <td>2.385723</td>\n",
       "    </tr>\n",
       "    <tr>\n",
       "      <th>12</th>\n",
       "      <td>7</td>\n",
       "      <td>2</td>\n",
       "      <td>1.071890</td>\n",
       "    </tr>\n",
       "    <tr>\n",
       "      <th>13</th>\n",
       "      <td>7</td>\n",
       "      <td>4</td>\n",
       "      <td>1.022998</td>\n",
       "    </tr>\n",
       "    <tr>\n",
       "      <th>14</th>\n",
       "      <td>7</td>\n",
       "      <td>8</td>\n",
       "      <td>0.540581</td>\n",
       "    </tr>\n",
       "    <tr>\n",
       "      <th>15</th>\n",
       "      <td>7</td>\n",
       "      <td>9</td>\n",
       "      <td>2.731070</td>\n",
       "    </tr>\n",
       "    <tr>\n",
       "      <th>16</th>\n",
       "      <td>10</td>\n",
       "      <td>2</td>\n",
       "      <td>1.576079</td>\n",
       "    </tr>\n",
       "    <tr>\n",
       "      <th>17</th>\n",
       "      <td>10</td>\n",
       "      <td>4</td>\n",
       "      <td>3.635812</td>\n",
       "    </tr>\n",
       "    <tr>\n",
       "      <th>18</th>\n",
       "      <td>10</td>\n",
       "      <td>8</td>\n",
       "      <td>2.097056</td>\n",
       "    </tr>\n",
       "    <tr>\n",
       "      <th>19</th>\n",
       "      <td>10</td>\n",
       "      <td>9</td>\n",
       "      <td>0.490658</td>\n",
       "    </tr>\n",
       "  </tbody>\n",
       "</table>\n",
       "</div>"
      ],
      "text/plain": [
       "    start  stop      dist\n",
       "0       0     2  1.469805\n",
       "1       0     4  3.497636\n",
       "2       0     8  2.000999\n",
       "3       0     9  0.560690\n",
       "4       3     2  1.621279\n",
       "5       3     4  0.469694\n",
       "6       3     8  1.080209\n",
       "7       3     9  3.282921\n",
       "8       5     2  0.724233\n",
       "9       5     4  1.373565\n",
       "10      5     8  0.177991\n",
       "11      5     9  2.385723\n",
       "12      7     2  1.071890\n",
       "13      7     4  1.022998\n",
       "14      7     8  0.540581\n",
       "15      7     9  2.731070\n",
       "16     10     2  1.576079\n",
       "17     10     4  3.635812\n",
       "18     10     8  2.097056\n",
       "19     10     9  0.490658"
      ]
     },
     "execution_count": 28,
     "metadata": {},
     "output_type": "execute_result"
    }
   ],
   "source": [
    "# Adds a distance column to the start/stop dataframe \n",
    "distance['dist']=dist\n",
    "distance"
   ]
  },
  {
   "cell_type": "code",
   "execution_count": null,
   "metadata": {},
   "outputs": [],
   "source": []
  },
  {
   "cell_type": "markdown",
   "metadata": {},
   "source": [
    "Let $X_{ij}$ = number of bikes transported from i station to j station  \n",
    "where  \n",
    "$i = 1, 2, 3, 4, 5$, with 1 = 4125, 2 = 4129, 3 = 4131, 4 = 4133, 5 = 4136  \n",
    "$j = 1, 2, 3, 4$, with 1 = 4127, 2 = 4130, 3 = 4134, 4 = 4135  \n",
    "\n",
    "Minimize cost = $ \\$ 0.58(1.5X_{11} + 3.5X_{12} + 2X_{13} + .6X_{14} + 1.6X_{21} + .5X_{22} + 1.1X_{23} + 3.3X_{24} + .7X_{31} + 1.4X_{32} + .2X_{33} + 2.4X_{34} + 1.1X_{41} + 1X_{42} + .5X_{43} + 2.7X_{44} + 1.6X_{51} + 3.6X_{52} + 2.1X_{53} + .5X_{54})$\n",
    "\n",
    "Subject to:  \n",
    "$X_{11} + X_{12} + X_{13} + X_{14} \\leq 6$ (4125 supply)    \n",
    "$X_{21} + X_{22} + X_{23} + X_{24} \\leq 6$ (4129 supply)    \n",
    "$X_{31} + X_{32} + X_{33} + X_{34} \\leq 1$ (4131 supply)    \n",
    "$X_{41} + X_{42} + X_{43} + X_{44} \\leq 7$ (4133 supply)    \n",
    "$X_{51} + X_{52} + X_{53} + X_{54} \\leq 4$ (4136 supply)    \n",
    "$X_{11} + X_{21} + X_{31} + X_{41} + X_{51} = 2$ (4127 demand)  \n",
    "$X_{12} + X_{22} + X_{32} + X_{42} + X_{52} = 15$ (4130 demand)  \n",
    "$X_{13} + X_{23} + X_{33} + X_{43} + X_{53} = 5$ (4134 demand)  \n",
    "$X_{14} + X_{24} + X_{34} + X_{44} + X_{54} = 1$ (4135 demand)  \n",
    "$X_{ij} \\geq 0$, integer"
   ]
  },
  {
   "cell_type": "code",
   "execution_count": 33,
   "metadata": {},
   "outputs": [],
   "source": [
    "from pulp import *"
   ]
  },
  {
   "cell_type": "code",
   "execution_count": 34,
   "metadata": {},
   "outputs": [
    {
     "ename": "TypeError",
     "evalue": "Non-constant expressions cannot be multiplied",
     "output_type": "error",
     "traceback": [
      "\u001b[0;31m---------------------------------------------------------------------------\u001b[0m",
      "\u001b[0;31mTypeError\u001b[0m                                 Traceback (most recent call last)",
      "\u001b[0;32m<ipython-input-34-b6eb0a048234>\u001b[0m in \u001b[0;36m<module>\u001b[0;34m\u001b[0m\n\u001b[1;32m     51\u001b[0m \u001b[0;34m\u001b[0m\u001b[0m\n\u001b[1;32m     52\u001b[0m \u001b[0;31m# Constraints\u001b[0m\u001b[0;34m\u001b[0m\u001b[0;34m\u001b[0m\u001b[0;34m\u001b[0m\u001b[0m\n\u001b[0;32m---> 53\u001b[0;31m \u001b[0mmodel\u001b[0m \u001b[0;34m+=\u001b[0m \u001b[0my11\u001b[0m\u001b[0;34m*\u001b[0m\u001b[0mx11\u001b[0m \u001b[0;34m+\u001b[0m \u001b[0my12\u001b[0m\u001b[0;34m*\u001b[0m\u001b[0mx12\u001b[0m \u001b[0;34m+\u001b[0m \u001b[0my13\u001b[0m\u001b[0;34m*\u001b[0m\u001b[0mx13\u001b[0m \u001b[0;34m+\u001b[0m \u001b[0my14\u001b[0m\u001b[0;34m*\u001b[0m\u001b[0mx14\u001b[0m \u001b[0;34m<=\u001b[0m \u001b[0;36m6\u001b[0m \u001b[0;31m#(4125 supply)\u001b[0m\u001b[0;34m\u001b[0m\u001b[0;34m\u001b[0m\u001b[0m\n\u001b[0m\u001b[1;32m     54\u001b[0m \u001b[0mmodel\u001b[0m \u001b[0;34m+=\u001b[0m \u001b[0my21\u001b[0m\u001b[0;34m*\u001b[0m\u001b[0mx21\u001b[0m \u001b[0;34m+\u001b[0m \u001b[0my22\u001b[0m\u001b[0;34m*\u001b[0m\u001b[0mx22\u001b[0m \u001b[0;34m+\u001b[0m \u001b[0my23\u001b[0m\u001b[0;34m*\u001b[0m\u001b[0mx23\u001b[0m \u001b[0;34m+\u001b[0m \u001b[0my24\u001b[0m\u001b[0;34m*\u001b[0m\u001b[0mx24\u001b[0m \u001b[0;34m<=\u001b[0m \u001b[0;36m6\u001b[0m \u001b[0;31m#(4129 supply)\u001b[0m\u001b[0;34m\u001b[0m\u001b[0;34m\u001b[0m\u001b[0m\n\u001b[1;32m     55\u001b[0m \u001b[0mmodel\u001b[0m \u001b[0;34m+=\u001b[0m \u001b[0my31\u001b[0m\u001b[0;34m*\u001b[0m\u001b[0mx31\u001b[0m \u001b[0;34m+\u001b[0m \u001b[0my32\u001b[0m\u001b[0;34m*\u001b[0m\u001b[0mx32\u001b[0m \u001b[0;34m+\u001b[0m \u001b[0my33\u001b[0m\u001b[0;34m*\u001b[0m\u001b[0mx33\u001b[0m \u001b[0;34m+\u001b[0m \u001b[0my34\u001b[0m\u001b[0;34m*\u001b[0m\u001b[0mx34\u001b[0m \u001b[0;34m<=\u001b[0m \u001b[0;36m6\u001b[0m \u001b[0;31m#(4131 supply)\u001b[0m\u001b[0;34m\u001b[0m\u001b[0;34m\u001b[0m\u001b[0m\n",
      "\u001b[0;32m/Applications/anaconda3/envs/optimization/lib/python3.6/site-packages/pulp/pulp.py\u001b[0m in \u001b[0;36m__mul__\u001b[0;34m(self, other)\u001b[0m\n\u001b[1;32m    208\u001b[0m \u001b[0;34m\u001b[0m\u001b[0m\n\u001b[1;32m    209\u001b[0m     \u001b[0;32mdef\u001b[0m \u001b[0m__mul__\u001b[0m\u001b[0;34m(\u001b[0m\u001b[0mself\u001b[0m\u001b[0;34m,\u001b[0m \u001b[0mother\u001b[0m\u001b[0;34m)\u001b[0m\u001b[0;34m:\u001b[0m\u001b[0;34m\u001b[0m\u001b[0;34m\u001b[0m\u001b[0m\n\u001b[0;32m--> 210\u001b[0;31m         \u001b[0;32mreturn\u001b[0m \u001b[0mLpAffineExpression\u001b[0m\u001b[0;34m(\u001b[0m\u001b[0mself\u001b[0m\u001b[0;34m)\u001b[0m \u001b[0;34m*\u001b[0m \u001b[0mother\u001b[0m\u001b[0;34m\u001b[0m\u001b[0;34m\u001b[0m\u001b[0m\n\u001b[0m\u001b[1;32m    211\u001b[0m \u001b[0;34m\u001b[0m\u001b[0m\n\u001b[1;32m    212\u001b[0m     \u001b[0;32mdef\u001b[0m \u001b[0m__rmul__\u001b[0m\u001b[0;34m(\u001b[0m\u001b[0mself\u001b[0m\u001b[0;34m,\u001b[0m \u001b[0mother\u001b[0m\u001b[0;34m)\u001b[0m\u001b[0;34m:\u001b[0m\u001b[0;34m\u001b[0m\u001b[0;34m\u001b[0m\u001b[0m\n",
      "\u001b[0;32m/Applications/anaconda3/envs/optimization/lib/python3.6/site-packages/pulp/pulp.py\u001b[0m in \u001b[0;36m__mul__\u001b[0;34m(self, other)\u001b[0m\n\u001b[1;32m    785\u001b[0m                         \u001b[0me\u001b[0m\u001b[0;34m[\u001b[0m\u001b[0mv\u001b[0m\u001b[0;34m]\u001b[0m \u001b[0;34m=\u001b[0m \u001b[0mc\u001b[0m \u001b[0;34m*\u001b[0m \u001b[0mx\u001b[0m\u001b[0;34m\u001b[0m\u001b[0;34m\u001b[0m\u001b[0m\n\u001b[1;32m    786\u001b[0m         \u001b[0;32melif\u001b[0m \u001b[0misinstance\u001b[0m\u001b[0;34m(\u001b[0m\u001b[0mother\u001b[0m\u001b[0;34m,\u001b[0m\u001b[0mLpVariable\u001b[0m\u001b[0;34m)\u001b[0m\u001b[0;34m:\u001b[0m\u001b[0;34m\u001b[0m\u001b[0;34m\u001b[0m\u001b[0m\n\u001b[0;32m--> 787\u001b[0;31m             \u001b[0;32mreturn\u001b[0m \u001b[0mself\u001b[0m \u001b[0;34m*\u001b[0m \u001b[0mLpAffineExpression\u001b[0m\u001b[0;34m(\u001b[0m\u001b[0mother\u001b[0m\u001b[0;34m)\u001b[0m\u001b[0;34m\u001b[0m\u001b[0;34m\u001b[0m\u001b[0m\n\u001b[0m\u001b[1;32m    788\u001b[0m         \u001b[0;32melse\u001b[0m\u001b[0;34m:\u001b[0m\u001b[0;34m\u001b[0m\u001b[0;34m\u001b[0m\u001b[0m\n\u001b[1;32m    789\u001b[0m             \u001b[0;32mif\u001b[0m \u001b[0mother\u001b[0m \u001b[0;34m!=\u001b[0m \u001b[0;36m0\u001b[0m\u001b[0;34m:\u001b[0m\u001b[0;34m\u001b[0m\u001b[0;34m\u001b[0m\u001b[0m\n",
      "\u001b[0;32m/Applications/anaconda3/envs/optimization/lib/python3.6/site-packages/pulp/pulp.py\u001b[0m in \u001b[0;36m__mul__\u001b[0;34m(self, other)\u001b[0m\n\u001b[1;32m    773\u001b[0m             \u001b[0;32mif\u001b[0m \u001b[0mlen\u001b[0m\u001b[0;34m(\u001b[0m\u001b[0mother\u001b[0m\u001b[0;34m)\u001b[0m\u001b[0;34m:\u001b[0m\u001b[0;34m\u001b[0m\u001b[0;34m\u001b[0m\u001b[0m\n\u001b[1;32m    774\u001b[0m                 \u001b[0;32mif\u001b[0m \u001b[0mlen\u001b[0m\u001b[0;34m(\u001b[0m\u001b[0mself\u001b[0m\u001b[0;34m)\u001b[0m\u001b[0;34m:\u001b[0m\u001b[0;34m\u001b[0m\u001b[0;34m\u001b[0m\u001b[0m\n\u001b[0;32m--> 775\u001b[0;31m                     \u001b[0;32mraise\u001b[0m \u001b[0mTypeError\u001b[0m\u001b[0;34m(\u001b[0m\u001b[0;34m\"Non-constant expressions cannot be multiplied\"\u001b[0m\u001b[0;34m)\u001b[0m\u001b[0;34m\u001b[0m\u001b[0;34m\u001b[0m\u001b[0m\n\u001b[0m\u001b[1;32m    776\u001b[0m                 \u001b[0;32melse\u001b[0m\u001b[0;34m:\u001b[0m\u001b[0;34m\u001b[0m\u001b[0;34m\u001b[0m\u001b[0m\n\u001b[1;32m    777\u001b[0m                     \u001b[0mc\u001b[0m \u001b[0;34m=\u001b[0m \u001b[0mself\u001b[0m\u001b[0;34m.\u001b[0m\u001b[0mconstant\u001b[0m\u001b[0;34m\u001b[0m\u001b[0;34m\u001b[0m\u001b[0m\n",
      "\u001b[0;31mTypeError\u001b[0m: Non-constant expressions cannot be multiplied"
     ]
    }
   ],
   "source": [
    "# Create model\n",
    "model = LpProblem(\"Cost minimising problem\", LpMinimize)\n",
    "\n",
    "# Variables\n",
    "x11 = LpVariable('x11', lowBound=0, cat='Integer')\n",
    "x12 = LpVariable('x12', lowBound=0, cat='Integer')\n",
    "x13 = LpVariable('x13', lowBound=0, cat='Integer')\n",
    "x14 = LpVariable('x14', lowBound=0, cat='Integer')\n",
    "x21 = LpVariable('x21', lowBound=0, cat='Integer')\n",
    "x22 = LpVariable('x22', lowBound=0, cat='Integer')\n",
    "x23 = LpVariable('x23', lowBound=0, cat='Integer')\n",
    "x24 = LpVariable('x24', lowBound=0, cat='Integer')\n",
    "x31 = LpVariable('x31', lowBound=0, cat='Integer')\n",
    "x32 = LpVariable('x32', lowBound=0, cat='Integer')\n",
    "x33 = LpVariable('x33', lowBound=0, cat='Integer')\n",
    "x34 = LpVariable('x34', lowBound=0, cat='Integer')\n",
    "x41 = LpVariable('x41', lowBound=0, cat='Integer')\n",
    "x42 = LpVariable('x42', lowBound=0, cat='Integer')\n",
    "x43 = LpVariable('x43', lowBound=0, cat='Integer')\n",
    "x44 = LpVariable('x44', lowBound=0, cat='Integer')\n",
    "x51 = LpVariable('x51', lowBound=0, cat='Integer')\n",
    "x52 = LpVariable('x52', lowBound=0, cat='Integer')\n",
    "x53 = LpVariable('x53', lowBound=0, cat='Integer')\n",
    "x54 = LpVariable('x54', lowBound=0, cat='Integer')\n",
    "\n",
    "y11 = LpVariable('y11', lowBound=0, cat='Binary')\n",
    "y12 = LpVariable('y12', lowBound=0, cat='Binary')\n",
    "y13 = LpVariable('y13', lowBound=0, cat='Binary')\n",
    "y14 = LpVariable('y14', lowBound=0, cat='Binary')\n",
    "y21 = LpVariable('y21', lowBound=0, cat='Binary')\n",
    "y22 = LpVariable('y22', lowBound=0, cat='Binary')\n",
    "y23 = LpVariable('y23', lowBound=0, cat='Binary')\n",
    "y24 = LpVariable('y24', lowBound=0, cat='Binary')\n",
    "y31 = LpVariable('y31', lowBound=0, cat='Binary')\n",
    "y32 = LpVariable('y32', lowBound=0, cat='Binary')\n",
    "y33 = LpVariable('y33', lowBound=0, cat='Binary')\n",
    "y34 = LpVariable('y34', lowBound=0, cat='Binary')\n",
    "y41 = LpVariable('y41', lowBound=0, cat='Binary')\n",
    "y42 = LpVariable('y42', lowBound=0, cat='Binary')\n",
    "y43 = LpVariable('y43', lowBound=0, cat='Binary')\n",
    "y44 = LpVariable('y44', lowBound=0, cat='Binary')\n",
    "y51 = LpVariable('y51', lowBound=0, cat='Binary')\n",
    "y52 = LpVariable('y52', lowBound=0, cat='Binary')\n",
    "y53 = LpVariable('y53', lowBound=0, cat='Binary')\n",
    "y54 = LpVariable('y54', lowBound=0, cat='Binary')\n",
    "\n",
    "\n",
    "#objective function\n",
    "model += 0.58*(1.5*y11 + 3.5*y12 + 2*y13 + .6*y14 + 1.6*y21 + .5*y22 + 1.1*y23 + 3.3*y24 + .7*y31 + 1.4*y32 + .2*y33 + 2.4*y34 + 1.1*y41 + 1*y42 + .5*y43 + 2.7*y44 + 1.6*y51 + 3.6*y52 + 2.1*y53 + .5*y54), \"Cost\"\n",
    "\n",
    "\n",
    "# Constraints\n",
    "model += y11*x11 + y12*x12 + y13*x13 + y14*x14 <= 6 #(4125 supply)    \n",
    "model += y21*x21 + y22*x22 + y23*x23 + y24*x24 <= 6 #(4129 supply)    \n",
    "model += y31*x31 + y32*x32 + y33*x33 + y34*x34 <= 6 #(4131 supply)    \n",
    "model += y41*x41 + y42*x42 + y43*x43 + y44*x44 <= 6 #(4133 supply)    \n",
    "model += y51*x51 + y52*x52 + y53*x53 + y54*x54 <= 6 #(4136 supply)    \n",
    "model += y11*x11 + y21*x21 + y31*x31 + y41*x41 + y51*x51 == 2 #(4127 demand)  \n",
    "model += y12*x12 + y22*x22 + y32*x32 + y42*x42 + y52*x52 == 15 #(4130 demand)  \n",
    "model += y13*x13 + y23*x23 + y33*x33 + y43*x43 + y53*x53 == 5 #(4134 demand)  \n",
    "model += y14*x14 + y24*x24 + y34*x34 + y44*x44 + y54*x54 == 1 #(4135 demand)\n",
    "\n",
    "# Solve our problem\n",
    "model.solve()\n",
    "LpStatus[model.status]\n"
   ]
  },
  {
   "cell_type": "code",
   "execution_count": 31,
   "metadata": {},
   "outputs": [
    {
     "name": "stdout",
     "output_type": "stream",
     "text": [
      "Total cost is = $12.354\n"
     ]
    }
   ],
   "source": [
    "# Print least cost to move bikes around \n",
    "print(f'Total cost is = ${value(model.objective)}')"
   ]
  },
  {
   "cell_type": "code",
   "execution_count": 32,
   "metadata": {},
   "outputs": [
    {
     "name": "stdout",
     "output_type": "stream",
     "text": [
      "Number of bikes moved from 4125 to 4127: 2.0,\n",
      "Number of bikes moved from 4125 to 4130: 0.0, \n",
      "Number of bikes moved from 4125 to 4134: 2.0, \n",
      "Number of bikes moved from 4125 to 4135: 0.0,\n",
      "Number of bikes moved from 4129 to 4127: 0.0, \n",
      "Number of bikes moved from 4129 to 4130: 6.0, \n",
      "Number of bikes moved from 4129 to 4134: 0.0, \n",
      "Number of bikes moved from 4129 to 4135: 0.0, \n",
      "Number of bikes moved from 4131 to 4127: 0.0, \n",
      "Number of bikes moved from 4131 to 4130: 3.0, \n",
      "Number of bikes moved from 4131 to 4134: 3.0, \n",
      "Number of bikes moved from 4131 to 4135: 0.0, \n",
      "Number of bikes moved from 4133 to 4127: 0.0, \n",
      "Number of bikes moved from 4133 to 4130: 6.0, \n",
      "Number of bikes moved from 4133 to 4134: 0.0, \n",
      "Number of bikes moved from 4133 to 4135: 0.0, \n",
      "Number of bikes moved from 4136 to 4127: 0.0, \n",
      "Number of bikes moved from 4136 to 4130: 0.0, \n",
      "Number of bikes moved from 4136 to 4134: 0.0,\n",
      "Number of bikes moved from 4136 to 4135: 1.0\n"
     ]
    }
   ],
   "source": [
    "# Print the number of bikes that need to be moved from one station to the other\n",
    "print(f'Number of bikes moved from 4125 to 4127: {x11.varValue},\\nNumber of bikes moved from 4125 to 4130: {x12.varValue}, \\nNumber of bikes moved from 4125 to 4134: {x13.varValue}, \\nNumber of bikes moved from 4125 to 4135: {x14.varValue},\\nNumber of bikes moved from 4129 to 4127: {x21.varValue}, \\nNumber of bikes moved from 4129 to 4130: {x22.varValue}, \\nNumber of bikes moved from 4129 to 4134: {x23.varValue}, \\nNumber of bikes moved from 4129 to 4135: {x24.varValue}, \\nNumber of bikes moved from 4131 to 4127: {x31.varValue}, \\nNumber of bikes moved from 4131 to 4130: {x32.varValue}, \\nNumber of bikes moved from 4131 to 4134: {x33.varValue}, \\nNumber of bikes moved from 4131 to 4135: {x34.varValue}, \\nNumber of bikes moved from 4133 to 4127: {x41.varValue}, \\nNumber of bikes moved from 4133 to 4130: {x42.varValue}, \\nNumber of bikes moved from 4133 to 4134: {x43.varValue}, \\nNumber of bikes moved from 4133 to 4135: {x44.varValue}, \\nNumber of bikes moved from 4136 to 4127: {x51.varValue}, \\nNumber of bikes moved from 4136 to 4130: {x52.varValue}, \\nNumber of bikes moved from 4136 to 4134: {x53.varValue},\\nNumber of bikes moved from 4136 to 4135: {x54.varValue}')\n"
   ]
  },
  {
   "cell_type": "code",
   "execution_count": null,
   "metadata": {},
   "outputs": [],
   "source": []
  }
 ],
 "metadata": {
  "kernelspec": {
   "display_name": "Python 3",
   "language": "python",
   "name": "python3"
  },
  "language_info": {
   "codemirror_mode": {
    "name": "ipython",
    "version": 3
   },
   "file_extension": ".py",
   "mimetype": "text/x-python",
   "name": "python",
   "nbconvert_exporter": "python",
   "pygments_lexer": "ipython3",
   "version": "3.6.8"
  }
 },
 "nbformat": 4,
 "nbformat_minor": 4
}
