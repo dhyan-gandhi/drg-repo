{
 "cells": [
  {
   "cell_type": "markdown",
   "metadata": {},
   "source": [
    "## Exam 1: HR Data Analysis\n",
    "Load the core_dataset.csv file. The Excel workbook revolves around a fictitious company, called Dental Magic, and the core data set contains names, DOBs, age, gender, marital status, date of hire, reasons for termination, department, whether they are active or terminated, position title, pay rate, manager name, and performance score."
   ]
  },
  {
   "cell_type": "code",
   "execution_count": 5,
   "metadata": {},
   "outputs": [
    {
     "data": {
      "text/html": [
       "<div>\n",
       "<style scoped>\n",
       "    .dataframe tbody tr th:only-of-type {\n",
       "        vertical-align: middle;\n",
       "    }\n",
       "\n",
       "    .dataframe tbody tr th {\n",
       "        vertical-align: top;\n",
       "    }\n",
       "\n",
       "    .dataframe thead th {\n",
       "        text-align: right;\n",
       "    }\n",
       "</style>\n",
       "<table border=\"1\" class=\"dataframe\">\n",
       "  <thead>\n",
       "    <tr style=\"text-align: right;\">\n",
       "      <th></th>\n",
       "      <th>Employee Name</th>\n",
       "      <th>Employee Number</th>\n",
       "      <th>State</th>\n",
       "      <th>Zip</th>\n",
       "      <th>DOB</th>\n",
       "      <th>Age</th>\n",
       "      <th>Sex</th>\n",
       "      <th>MaritalDesc</th>\n",
       "      <th>CitizenDesc</th>\n",
       "      <th>Hispanic/Latino</th>\n",
       "      <th>...</th>\n",
       "      <th>Date of Hire</th>\n",
       "      <th>Date of Termination</th>\n",
       "      <th>Reason For Term</th>\n",
       "      <th>Employment Status</th>\n",
       "      <th>Department</th>\n",
       "      <th>Position</th>\n",
       "      <th>Pay Rate</th>\n",
       "      <th>Manager Name</th>\n",
       "      <th>Employee Source</th>\n",
       "      <th>Performance Score</th>\n",
       "    </tr>\n",
       "  </thead>\n",
       "  <tbody>\n",
       "    <tr>\n",
       "      <th>0</th>\n",
       "      <td>Brown, Mia</td>\n",
       "      <td>1.103024e+09</td>\n",
       "      <td>MA</td>\n",
       "      <td>1450.0</td>\n",
       "      <td>11/24/1985</td>\n",
       "      <td>32.0</td>\n",
       "      <td>Female</td>\n",
       "      <td>Married</td>\n",
       "      <td>US Citizen</td>\n",
       "      <td>No</td>\n",
       "      <td>...</td>\n",
       "      <td>10/27/2008</td>\n",
       "      <td>NaN</td>\n",
       "      <td>N/A - still employed</td>\n",
       "      <td>Active</td>\n",
       "      <td>Admin Offices</td>\n",
       "      <td>Accountant I</td>\n",
       "      <td>28.50</td>\n",
       "      <td>Brandon R. LeBlanc</td>\n",
       "      <td>Diversity Job Fair</td>\n",
       "      <td>Fully Meets</td>\n",
       "    </tr>\n",
       "    <tr>\n",
       "      <th>1</th>\n",
       "      <td>LaRotonda, William</td>\n",
       "      <td>1.106027e+09</td>\n",
       "      <td>MA</td>\n",
       "      <td>1460.0</td>\n",
       "      <td>4/26/1984</td>\n",
       "      <td>33.0</td>\n",
       "      <td>Male</td>\n",
       "      <td>Divorced</td>\n",
       "      <td>US Citizen</td>\n",
       "      <td>No</td>\n",
       "      <td>...</td>\n",
       "      <td>1/6/2014</td>\n",
       "      <td>NaN</td>\n",
       "      <td>N/A - still employed</td>\n",
       "      <td>Active</td>\n",
       "      <td>Admin Offices</td>\n",
       "      <td>Accountant I</td>\n",
       "      <td>23.00</td>\n",
       "      <td>Brandon R. LeBlanc</td>\n",
       "      <td>Website Banner Ads</td>\n",
       "      <td>Fully Meets</td>\n",
       "    </tr>\n",
       "    <tr>\n",
       "      <th>2</th>\n",
       "      <td>Steans, Tyrone</td>\n",
       "      <td>1.302053e+09</td>\n",
       "      <td>MA</td>\n",
       "      <td>2703.0</td>\n",
       "      <td>9/1/1986</td>\n",
       "      <td>31.0</td>\n",
       "      <td>Male</td>\n",
       "      <td>Single</td>\n",
       "      <td>US Citizen</td>\n",
       "      <td>No</td>\n",
       "      <td>...</td>\n",
       "      <td>9/29/2014</td>\n",
       "      <td>NaN</td>\n",
       "      <td>N/A - still employed</td>\n",
       "      <td>Active</td>\n",
       "      <td>Admin Offices</td>\n",
       "      <td>Accountant I</td>\n",
       "      <td>29.00</td>\n",
       "      <td>Brandon R. LeBlanc</td>\n",
       "      <td>Internet Search</td>\n",
       "      <td>Fully Meets</td>\n",
       "    </tr>\n",
       "    <tr>\n",
       "      <th>3</th>\n",
       "      <td>Howard, Estelle</td>\n",
       "      <td>1.211051e+09</td>\n",
       "      <td>MA</td>\n",
       "      <td>2170.0</td>\n",
       "      <td>9/16/1985</td>\n",
       "      <td>32.0</td>\n",
       "      <td>Female</td>\n",
       "      <td>Married</td>\n",
       "      <td>US Citizen</td>\n",
       "      <td>No</td>\n",
       "      <td>...</td>\n",
       "      <td>2/16/2015</td>\n",
       "      <td>4/15/2015</td>\n",
       "      <td>N/A - still employed</td>\n",
       "      <td>Active</td>\n",
       "      <td>Admin Offices</td>\n",
       "      <td>Administrative Assistant</td>\n",
       "      <td>21.50</td>\n",
       "      <td>Brandon R. LeBlanc</td>\n",
       "      <td>Pay Per Click - Google</td>\n",
       "      <td>N/A- too early to review</td>\n",
       "    </tr>\n",
       "    <tr>\n",
       "      <th>4</th>\n",
       "      <td>Singh, Nan</td>\n",
       "      <td>1.307060e+09</td>\n",
       "      <td>MA</td>\n",
       "      <td>2330.0</td>\n",
       "      <td>5/19/1988</td>\n",
       "      <td>29.0</td>\n",
       "      <td>Female</td>\n",
       "      <td>Single</td>\n",
       "      <td>US Citizen</td>\n",
       "      <td>No</td>\n",
       "      <td>...</td>\n",
       "      <td>5/1/2015</td>\n",
       "      <td>NaN</td>\n",
       "      <td>N/A - still employed</td>\n",
       "      <td>Active</td>\n",
       "      <td>Admin Offices</td>\n",
       "      <td>Administrative Assistant</td>\n",
       "      <td>16.56</td>\n",
       "      <td>Brandon R. LeBlanc</td>\n",
       "      <td>Website Banner Ads</td>\n",
       "      <td>N/A- too early to review</td>\n",
       "    </tr>\n",
       "  </tbody>\n",
       "</table>\n",
       "<p>5 rows × 21 columns</p>\n",
       "</div>"
      ],
      "text/plain": [
       "          Employee Name  Employee Number State     Zip         DOB   Age  \\\n",
       "0            Brown, Mia     1.103024e+09    MA  1450.0  11/24/1985  32.0   \n",
       "1  LaRotonda, William       1.106027e+09    MA  1460.0   4/26/1984  33.0   \n",
       "2      Steans, Tyrone       1.302053e+09    MA  2703.0    9/1/1986  31.0   \n",
       "3       Howard, Estelle     1.211051e+09    MA  2170.0   9/16/1985  32.0   \n",
       "4           Singh, Nan      1.307060e+09    MA  2330.0   5/19/1988  29.0   \n",
       "\n",
       "      Sex MaritalDesc CitizenDesc Hispanic/Latino  ... Date of Hire  \\\n",
       "0  Female     Married  US Citizen              No  ...   10/27/2008   \n",
       "1    Male    Divorced  US Citizen              No  ...     1/6/2014   \n",
       "2    Male      Single  US Citizen              No  ...    9/29/2014   \n",
       "3  Female     Married  US Citizen              No  ...    2/16/2015   \n",
       "4  Female      Single  US Citizen              No  ...     5/1/2015   \n",
       "\n",
       "  Date of Termination       Reason For Term Employment Status     Department  \\\n",
       "0                 NaN  N/A - still employed            Active  Admin Offices   \n",
       "1                 NaN  N/A - still employed            Active  Admin Offices   \n",
       "2                 NaN  N/A - still employed            Active  Admin Offices   \n",
       "3           4/15/2015  N/A - still employed            Active  Admin Offices   \n",
       "4                 NaN  N/A - still employed            Active  Admin Offices   \n",
       "\n",
       "                   Position Pay Rate        Manager Name  \\\n",
       "0              Accountant I    28.50  Brandon R. LeBlanc   \n",
       "1              Accountant I    23.00  Brandon R. LeBlanc   \n",
       "2              Accountant I    29.00  Brandon R. LeBlanc   \n",
       "3  Administrative Assistant    21.50  Brandon R. LeBlanc   \n",
       "4  Administrative Assistant    16.56  Brandon R. LeBlanc   \n",
       "\n",
       "          Employee Source         Performance Score  \n",
       "0      Diversity Job Fair               Fully Meets  \n",
       "1      Website Banner Ads               Fully Meets  \n",
       "2         Internet Search               Fully Meets  \n",
       "3  Pay Per Click - Google  N/A- too early to review  \n",
       "4      Website Banner Ads  N/A- too early to review  \n",
       "\n",
       "[5 rows x 21 columns]"
      ]
     },
     "execution_count": 5,
     "metadata": {},
     "output_type": "execute_result"
    }
   ],
   "source": [
    "import pandas as pd\n",
    "df = pd.read_csv('core_dataset.csv')\n",
    "df.head()"
   ]
  },
  {
   "cell_type": "markdown",
   "metadata": {},
   "source": [
    "Remove the following columns. They are not very important to our analysis. 'Employee Name', 'Employee Number', 'Date of Hire', 'Date of Termination', 'DOB'"
   ]
  },
  {
   "cell_type": "code",
   "execution_count": 6,
   "metadata": {},
   "outputs": [
    {
     "data": {
      "text/html": [
       "<div>\n",
       "<style scoped>\n",
       "    .dataframe tbody tr th:only-of-type {\n",
       "        vertical-align: middle;\n",
       "    }\n",
       "\n",
       "    .dataframe tbody tr th {\n",
       "        vertical-align: top;\n",
       "    }\n",
       "\n",
       "    .dataframe thead th {\n",
       "        text-align: right;\n",
       "    }\n",
       "</style>\n",
       "<table border=\"1\" class=\"dataframe\">\n",
       "  <thead>\n",
       "    <tr style=\"text-align: right;\">\n",
       "      <th></th>\n",
       "      <th>State</th>\n",
       "      <th>Zip</th>\n",
       "      <th>Age</th>\n",
       "      <th>Sex</th>\n",
       "      <th>MaritalDesc</th>\n",
       "      <th>CitizenDesc</th>\n",
       "      <th>Hispanic/Latino</th>\n",
       "      <th>RaceDesc</th>\n",
       "      <th>Reason For Term</th>\n",
       "      <th>Employment Status</th>\n",
       "      <th>Department</th>\n",
       "      <th>Position</th>\n",
       "      <th>Pay Rate</th>\n",
       "      <th>Manager Name</th>\n",
       "      <th>Employee Source</th>\n",
       "      <th>Performance Score</th>\n",
       "    </tr>\n",
       "  </thead>\n",
       "  <tbody>\n",
       "    <tr>\n",
       "      <th>0</th>\n",
       "      <td>MA</td>\n",
       "      <td>1450.0</td>\n",
       "      <td>32.0</td>\n",
       "      <td>Female</td>\n",
       "      <td>Married</td>\n",
       "      <td>US Citizen</td>\n",
       "      <td>No</td>\n",
       "      <td>Black or African American</td>\n",
       "      <td>N/A - still employed</td>\n",
       "      <td>Active</td>\n",
       "      <td>Admin Offices</td>\n",
       "      <td>Accountant I</td>\n",
       "      <td>28.50</td>\n",
       "      <td>Brandon R. LeBlanc</td>\n",
       "      <td>Diversity Job Fair</td>\n",
       "      <td>Fully Meets</td>\n",
       "    </tr>\n",
       "    <tr>\n",
       "      <th>1</th>\n",
       "      <td>MA</td>\n",
       "      <td>1460.0</td>\n",
       "      <td>33.0</td>\n",
       "      <td>Male</td>\n",
       "      <td>Divorced</td>\n",
       "      <td>US Citizen</td>\n",
       "      <td>No</td>\n",
       "      <td>Black or African American</td>\n",
       "      <td>N/A - still employed</td>\n",
       "      <td>Active</td>\n",
       "      <td>Admin Offices</td>\n",
       "      <td>Accountant I</td>\n",
       "      <td>23.00</td>\n",
       "      <td>Brandon R. LeBlanc</td>\n",
       "      <td>Website Banner Ads</td>\n",
       "      <td>Fully Meets</td>\n",
       "    </tr>\n",
       "    <tr>\n",
       "      <th>2</th>\n",
       "      <td>MA</td>\n",
       "      <td>2703.0</td>\n",
       "      <td>31.0</td>\n",
       "      <td>Male</td>\n",
       "      <td>Single</td>\n",
       "      <td>US Citizen</td>\n",
       "      <td>No</td>\n",
       "      <td>White</td>\n",
       "      <td>N/A - still employed</td>\n",
       "      <td>Active</td>\n",
       "      <td>Admin Offices</td>\n",
       "      <td>Accountant I</td>\n",
       "      <td>29.00</td>\n",
       "      <td>Brandon R. LeBlanc</td>\n",
       "      <td>Internet Search</td>\n",
       "      <td>Fully Meets</td>\n",
       "    </tr>\n",
       "    <tr>\n",
       "      <th>3</th>\n",
       "      <td>MA</td>\n",
       "      <td>2170.0</td>\n",
       "      <td>32.0</td>\n",
       "      <td>Female</td>\n",
       "      <td>Married</td>\n",
       "      <td>US Citizen</td>\n",
       "      <td>No</td>\n",
       "      <td>White</td>\n",
       "      <td>N/A - still employed</td>\n",
       "      <td>Active</td>\n",
       "      <td>Admin Offices</td>\n",
       "      <td>Administrative Assistant</td>\n",
       "      <td>21.50</td>\n",
       "      <td>Brandon R. LeBlanc</td>\n",
       "      <td>Pay Per Click - Google</td>\n",
       "      <td>N/A- too early to review</td>\n",
       "    </tr>\n",
       "    <tr>\n",
       "      <th>4</th>\n",
       "      <td>MA</td>\n",
       "      <td>2330.0</td>\n",
       "      <td>29.0</td>\n",
       "      <td>Female</td>\n",
       "      <td>Single</td>\n",
       "      <td>US Citizen</td>\n",
       "      <td>No</td>\n",
       "      <td>White</td>\n",
       "      <td>N/A - still employed</td>\n",
       "      <td>Active</td>\n",
       "      <td>Admin Offices</td>\n",
       "      <td>Administrative Assistant</td>\n",
       "      <td>16.56</td>\n",
       "      <td>Brandon R. LeBlanc</td>\n",
       "      <td>Website Banner Ads</td>\n",
       "      <td>N/A- too early to review</td>\n",
       "    </tr>\n",
       "  </tbody>\n",
       "</table>\n",
       "</div>"
      ],
      "text/plain": [
       "  State     Zip   Age     Sex MaritalDesc CitizenDesc Hispanic/Latino  \\\n",
       "0    MA  1450.0  32.0  Female     Married  US Citizen              No   \n",
       "1    MA  1460.0  33.0    Male    Divorced  US Citizen              No   \n",
       "2    MA  2703.0  31.0    Male      Single  US Citizen              No   \n",
       "3    MA  2170.0  32.0  Female     Married  US Citizen              No   \n",
       "4    MA  2330.0  29.0  Female      Single  US Citizen              No   \n",
       "\n",
       "                    RaceDesc       Reason For Term Employment Status  \\\n",
       "0  Black or African American  N/A - still employed            Active   \n",
       "1  Black or African American  N/A - still employed            Active   \n",
       "2                      White  N/A - still employed            Active   \n",
       "3                      White  N/A - still employed            Active   \n",
       "4                      White  N/A - still employed            Active   \n",
       "\n",
       "      Department                  Position  Pay Rate        Manager Name  \\\n",
       "0  Admin Offices              Accountant I     28.50  Brandon R. LeBlanc   \n",
       "1  Admin Offices              Accountant I     23.00  Brandon R. LeBlanc   \n",
       "2  Admin Offices              Accountant I     29.00  Brandon R. LeBlanc   \n",
       "3  Admin Offices  Administrative Assistant     21.50  Brandon R. LeBlanc   \n",
       "4  Admin Offices  Administrative Assistant     16.56  Brandon R. LeBlanc   \n",
       "\n",
       "          Employee Source         Performance Score  \n",
       "0      Diversity Job Fair               Fully Meets  \n",
       "1      Website Banner Ads               Fully Meets  \n",
       "2         Internet Search               Fully Meets  \n",
       "3  Pay Per Click - Google  N/A- too early to review  \n",
       "4      Website Banner Ads  N/A- too early to review  "
      ]
     },
     "execution_count": 6,
     "metadata": {},
     "output_type": "execute_result"
    }
   ],
   "source": [
    "df.drop(columns=['Employee Name', 'Employee Number', 'Date of Hire', 'Date of Termination', 'DOB'], inplace=True)\n",
    "df.head()"
   ]
  },
  {
   "cell_type": "markdown",
   "metadata": {},
   "source": [
    "## Does Race Affect Pay?\n",
    "Calculate the average pay rate grouped by the position and race"
   ]
  },
  {
   "cell_type": "code",
   "execution_count": 8,
   "metadata": {},
   "outputs": [
    {
     "data": {
      "text/plain": [
       "Position                      RaceDesc                        \n",
       "Accountant I                  Black or African American           25.750000\n",
       "                              White                               29.000000\n",
       "Administrative Assistant      Asian                               20.500000\n",
       "                              White                               19.030000\n",
       "Area Sales Manager            American Indian or Alaska Native    56.000000\n",
       "                              Asian                               56.000000\n",
       "                              Black or African American           55.000000\n",
       "                              Two or more races                   55.083333\n",
       "                              White                               55.318182\n",
       "CIO                           White                               65.000000\n",
       "Database Administrator        Asian                               41.375000\n",
       "                              Black or African American           40.200000\n",
       "                              White                               38.731250\n",
       "Director of Operations        Black or African American           60.000000\n",
       "Director of Sales             White                               60.000000\n",
       "IT Director                   Black or African American           65.000000\n",
       "IT Manager - DB               Two or more races                   21.000000\n",
       "                              White                               62.000000\n",
       "IT Manager - Infra            Hispanic                            63.000000\n",
       "IT Manager - Support          White                               64.000000\n",
       "IT Support                    Black or African American           27.490000\n",
       "                              Two or more races                   26.000000\n",
       "                              White                               30.195000\n",
       "Network Engineer              White                               39.677778\n",
       "President & CEO               White                               80.000000\n",
       "Production Manager            Asian                               46.250000\n",
       "                              Black or African American           44.250000\n",
       "                              Hispanic                            53.000000\n",
       "                              White                               51.277778\n",
       "Production Technician I       American Indian or Alaska Native    16.000000\n",
       "                              Asian                               19.262500\n",
       "                              Black or African American           19.950000\n",
       "                              Hispanic                            17.000000\n",
       "                              Two or more races                   17.157500\n",
       "                              White                               19.119444\n",
       "Production Technician II      American Indian or Alaska Native    24.750000\n",
       "                              Asian                               25.250000\n",
       "                              Black or African American           26.233333\n",
       "                              Hispanic                            26.000000\n",
       "                              Two or more races                   24.000000\n",
       "                              White                               25.324103\n",
       "Sales Manager                 Black or African American           56.000000\n",
       "                              White                               57.125000\n",
       "Shared Services Manager       Black or African American           55.000000\n",
       "                              White                               55.000000\n",
       "Software Engineer             Asian                               53.880000\n",
       "                              Black or African American           50.346667\n",
       "                              White                               50.212500\n",
       "Software Engineering Manager  White                               27.000000\n",
       "Sr. Accountant                Asian                               34.950000\n",
       "                              White                               34.950000\n",
       "Sr. DBA                       Black or African American           59.750000\n",
       "                              White                               60.250000\n",
       "Sr. Network Engineer          Asian                               54.500000\n",
       "                              White                               54.433333\n",
       "Name: Pay Rate, dtype: float64"
      ]
     },
     "execution_count": 8,
     "metadata": {},
     "output_type": "execute_result"
    }
   ],
   "source": [
    "z = df.groupby(['Position', 'RaceDesc'])['Pay Rate'].mean()\n",
    "z"
   ]
  },
  {
   "cell_type": "markdown",
   "metadata": {},
   "source": [
    "Make three plots that shows across all the positions\n",
    "- histogram for the races with max avg pay per position (example: if you have a total of 5 unique positions and race Hispanic was the max in 3 of them and asian was max in one and white was max in 1, then the histogram should show hispanic with count of 3, asian with count of 1 and white with count of 1)\n",
    "- histogram for the races with min avg pay per position\n",
    "- the difference  between the max avg pay and the min avag pay for each position on a bar plot\n",
    "\n",
    "\n",
    "Hint: There are many ways to solve this. one of them is using the grouped by frame you got earlier, form three lists, each answers one of the following questions\n",
    "- which race has the max avg pay corresponding to each position\n",
    "- which race has the max avg pay corresponding to each position\n",
    "- the difference between the max avg pay and min avg pay corresponding to each position"
   ]
  },
  {
   "cell_type": "code",
   "execution_count": 9,
   "metadata": {},
   "outputs": [],
   "source": [
    "z = z.reset_index()\n",
    "P = z.Position.unique()\n",
    "max_array = []\n",
    "min_array = []\n",
    "diff_array = []\n",
    "for p in P:\n",
    "    index_max_trip_time = z[z.Position==p]['Pay Rate'].values.argmax()\n",
    "    max_array.append(z[z.Position==p].iloc[index_max_trip_time]['RaceDesc'])\n",
    "    index_min_trip_time = z[z.Position==p]['Pay Rate'].values.argmin()\n",
    "    min_array.append(z[z.Position==p].iloc[index_min_trip_time]['RaceDesc'])\n",
    "    diff_array.append(z[z.Position==p].max()['Pay Rate']-z[z.Position==p].min()['Pay Rate'])"
   ]
  },
  {
   "cell_type": "code",
   "execution_count": 10,
   "metadata": {},
   "outputs": [
    {
     "data": {
      "image/png": "[encoded data removed]",
      "text/plain": [
       "<Figure size 576x576 with 1 Axes>"
      ]
     },
     "metadata": {
      "needs_background": "light"
     },
     "output_type": "display_data"
    },
    {
     "data": {
      "image/png": "[encoded data removed]",
      "text/plain": [
       "<Figure size 432x288 with 1 Axes>"
      ]
     },
     "metadata": {
      "needs_background": "light"
     },
     "output_type": "display_data"
    },
    {
     "data": {
      "image/png": "[encoded data removed]",
      "text/plain": [
       "<Figure size 432x288 with 1 Axes>"
      ]
     },
     "metadata": {
      "needs_background": "light"
     },
     "output_type": "display_data"
    }
   ],
   "source": [
    "import matplotlib.pyplot as plt\n",
    "%matplotlib inline\n",
    "plt.figure(figsize=[8,8])\n",
    "plt.bar(P, diff_array)\n",
    "plt.title('Rate Difference between Min and Max')\n",
    "ss=plt.xticks(rotation='vertical')\n",
    "plt.figure()\n",
    "plt.hist(max_array)\n",
    "plt.title('Histogram of Races with Max Salary')\n",
    "ss=plt.xticks(rotation='vertical')\n",
    "plt.figure()\n",
    "plt.hist(min_array)\n",
    "plt.title('Histogram of Races with Min Salary')\n",
    "ss=plt.xticks(rotation='vertical')"
   ]
  },
  {
   "cell_type": "markdown",
   "metadata": {},
   "source": [
    "## Does Gender Affect Pay?\n",
    "repeat the same analysis but with gender. i.e., replace race with gender."
   ]
  },
  {
   "cell_type": "code",
   "execution_count": 11,
   "metadata": {},
   "outputs": [
    {
     "data": {
      "image/png": "[encoded data removed]",
      "text/plain": [
       "<Figure size 576x576 with 1 Axes>"
      ]
     },
     "metadata": {
      "needs_background": "light"
     },
     "output_type": "display_data"
    },
    {
     "data": {
      "image/png": "[encoded data removed]",
      "text/plain": [
       "<Figure size 432x288 with 1 Axes>"
      ]
     },
     "metadata": {
      "needs_background": "light"
     },
     "output_type": "display_data"
    },
    {
     "data": {
      "image/png": "[encoded data removed]",
      "text/plain": [
       "<Figure size 432x288 with 1 Axes>"
      ]
     },
     "metadata": {
      "needs_background": "light"
     },
     "output_type": "display_data"
    }
   ],
   "source": [
    "z = df.groupby(['Position', 'Sex'])['Pay Rate'].mean()\n",
    "z = z.reset_index()\n",
    "P = z.Position.unique()\n",
    "max_array = []\n",
    "min_array = []\n",
    "diff_array = []\n",
    "for p in P:\n",
    "    index_max_trip_time = z[z.Position==p]['Pay Rate'].values.argmax()\n",
    "    max_array.append(z[z.Position==p].iloc[index_max_trip_time]['Sex'])\n",
    "    index_min_trip_time = z[z.Position==p]['Pay Rate'].values.argmin()\n",
    "    min_array.append(z[z.Position==p].iloc[index_min_trip_time]['Sex'])\n",
    "    diff_array.append(z[z.Position==p].max()['Pay Rate']-z[z.Position==p].min()['Pay Rate'])\n",
    "plt.figure(figsize=[8,8])\n",
    "plt.bar(P, diff_array)\n",
    "plt.title('Rate Difference between Min and Max')\n",
    "ss=plt.xticks(rotation='vertical')\n",
    "plt.figure()\n",
    "plt.hist(max_array)\n",
    "plt.title('Histogram of Gender with Max Salary')\n",
    "ss=plt.xticks(rotation='vertical')\n",
    "plt.figure()\n",
    "plt.hist(min_array)\n",
    "plt.title('Histogram of Gender with Min Salary')\n",
    "ss=plt.xticks(rotation='vertical')"
   ]
  },
  {
   "cell_type": "markdown",
   "metadata": {},
   "source": [
    "# Predict Pay Rate using Linear Regression"
   ]
  },
  {
   "cell_type": "markdown",
   "metadata": {},
   "source": [
    "convert needed features to categories and numbers instead of letters"
   ]
  },
  {
   "cell_type": "code",
   "execution_count": 35,
   "metadata": {},
   "outputs": [
    {
     "data": {
      "text/html": [
       "<div>\n",
       "<style scoped>\n",
       "    .dataframe tbody tr th:only-of-type {\n",
       "        vertical-align: middle;\n",
       "    }\n",
       "\n",
       "    .dataframe tbody tr th {\n",
       "        vertical-align: top;\n",
       "    }\n",
       "\n",
       "    .dataframe thead th {\n",
       "        text-align: right;\n",
       "    }\n",
       "</style>\n",
       "<table border=\"1\" class=\"dataframe\">\n",
       "  <thead>\n",
       "    <tr style=\"text-align: right;\">\n",
       "      <th></th>\n",
       "      <th>State</th>\n",
       "      <th>Zip</th>\n",
       "      <th>Age</th>\n",
       "      <th>Sex</th>\n",
       "      <th>MaritalDesc</th>\n",
       "      <th>CitizenDesc</th>\n",
       "      <th>Hispanic/Latino</th>\n",
       "      <th>RaceDesc</th>\n",
       "      <th>Reason For Term</th>\n",
       "      <th>Employment Status</th>\n",
       "      <th>Department</th>\n",
       "      <th>Position</th>\n",
       "      <th>Pay Rate</th>\n",
       "      <th>Manager Name</th>\n",
       "      <th>Employee Source</th>\n",
       "      <th>Performance Score</th>\n",
       "    </tr>\n",
       "  </thead>\n",
       "  <tbody>\n",
       "    <tr>\n",
       "      <th>0</th>\n",
       "      <td>11</td>\n",
       "      <td>4</td>\n",
       "      <td>32.0</td>\n",
       "      <td>1</td>\n",
       "      <td>2</td>\n",
       "      <td>3</td>\n",
       "      <td>1</td>\n",
       "      <td>3</td>\n",
       "      <td>3</td>\n",
       "      <td>1</td>\n",
       "      <td>1</td>\n",
       "      <td>1</td>\n",
       "      <td>28.50</td>\n",
       "      <td>4</td>\n",
       "      <td>4</td>\n",
       "      <td>4</td>\n",
       "    </tr>\n",
       "    <tr>\n",
       "      <th>1</th>\n",
       "      <td>11</td>\n",
       "      <td>5</td>\n",
       "      <td>33.0</td>\n",
       "      <td>2</td>\n",
       "      <td>1</td>\n",
       "      <td>3</td>\n",
       "      <td>1</td>\n",
       "      <td>3</td>\n",
       "      <td>3</td>\n",
       "      <td>1</td>\n",
       "      <td>1</td>\n",
       "      <td>1</td>\n",
       "      <td>23.00</td>\n",
       "      <td>4</td>\n",
       "      <td>21</td>\n",
       "      <td>4</td>\n",
       "    </tr>\n",
       "    <tr>\n",
       "      <th>2</th>\n",
       "      <td>11</td>\n",
       "      <td>120</td>\n",
       "      <td>31.0</td>\n",
       "      <td>2</td>\n",
       "      <td>4</td>\n",
       "      <td>3</td>\n",
       "      <td>1</td>\n",
       "      <td>6</td>\n",
       "      <td>3</td>\n",
       "      <td>1</td>\n",
       "      <td>1</td>\n",
       "      <td>1</td>\n",
       "      <td>29.00</td>\n",
       "      <td>4</td>\n",
       "      <td>8</td>\n",
       "      <td>4</td>\n",
       "    </tr>\n",
       "    <tr>\n",
       "      <th>3</th>\n",
       "      <td>11</td>\n",
       "      <td>87</td>\n",
       "      <td>32.0</td>\n",
       "      <td>1</td>\n",
       "      <td>2</td>\n",
       "      <td>3</td>\n",
       "      <td>1</td>\n",
       "      <td>6</td>\n",
       "      <td>3</td>\n",
       "      <td>1</td>\n",
       "      <td>1</td>\n",
       "      <td>2</td>\n",
       "      <td>21.50</td>\n",
       "      <td>4</td>\n",
       "      <td>16</td>\n",
       "      <td>5</td>\n",
       "    </tr>\n",
       "    <tr>\n",
       "      <th>4</th>\n",
       "      <td>11</td>\n",
       "      <td>99</td>\n",
       "      <td>29.0</td>\n",
       "      <td>1</td>\n",
       "      <td>4</td>\n",
       "      <td>3</td>\n",
       "      <td>1</td>\n",
       "      <td>6</td>\n",
       "      <td>3</td>\n",
       "      <td>1</td>\n",
       "      <td>1</td>\n",
       "      <td>2</td>\n",
       "      <td>16.56</td>\n",
       "      <td>4</td>\n",
       "      <td>21</td>\n",
       "      <td>5</td>\n",
       "    </tr>\n",
       "  </tbody>\n",
       "</table>\n",
       "</div>"
      ],
      "text/plain": [
       "   State  Zip   Age  Sex  MaritalDesc  CitizenDesc  Hispanic/Latino  RaceDesc  \\\n",
       "0     11    4  32.0    1            2            3                1         3   \n",
       "1     11    5  33.0    2            1            3                1         3   \n",
       "2     11  120  31.0    2            4            3                1         6   \n",
       "3     11   87  32.0    1            2            3                1         6   \n",
       "4     11   99  29.0    1            4            3                1         6   \n",
       "\n",
       "   Reason For Term  Employment Status  Department  Position  Pay Rate  \\\n",
       "0                3                  1           1         1     28.50   \n",
       "1                3                  1           1         1     23.00   \n",
       "2                3                  1           1         1     29.00   \n",
       "3                3                  1           1         2     21.50   \n",
       "4                3                  1           1         2     16.56   \n",
       "\n",
       "   Manager Name  Employee Source  Performance Score  \n",
       "0             4                4                  4  \n",
       "1             4               21                  4  \n",
       "2             4                8                  4  \n",
       "3             4               16                  5  \n",
       "4             4               21                  5  "
      ]
     },
     "execution_count": 35,
     "metadata": {},
     "output_type": "execute_result"
    }
   ],
   "source": [
    "col_to_convert = list(df.columns)\n",
    "col_to_convert.remove('Age')\n",
    "col_to_convert.remove('Pay Rate')\n",
    "col_to_convert\n",
    "for col in col_to_convert:\n",
    "    df[col]=df[col].astype('category').cat.codes\n",
    "df.head()"
   ]
  },
  {
   "cell_type": "markdown",
   "metadata": {},
   "source": [
    "Make sure your data does not have nans. You can drop any rows with nans"
   ]
  },
  {
   "cell_type": "code",
   "execution_count": 36,
   "metadata": {},
   "outputs": [
    {
     "name": "stdout",
     "output_type": "stream",
     "text": [
      "State                0\n",
      "Zip                  0\n",
      "Age                  1\n",
      "Sex                  0\n",
      "MaritalDesc          0\n",
      "CitizenDesc          0\n",
      "Hispanic/Latino      0\n",
      "RaceDesc             0\n",
      "Reason For Term      0\n",
      "Employment Status    0\n",
      "Department           0\n",
      "Position             0\n",
      "Pay Rate             1\n",
      "Manager Name         0\n",
      "Employee Source      0\n",
      "Performance Score    0\n",
      "dtype: int64\n"
     ]
    },
    {
     "data": {
      "text/plain": [
       "State                0\n",
       "Zip                  0\n",
       "Age                  0\n",
       "Sex                  0\n",
       "MaritalDesc          0\n",
       "CitizenDesc          0\n",
       "Hispanic/Latino      0\n",
       "RaceDesc             0\n",
       "Reason For Term      0\n",
       "Employment Status    0\n",
       "Department           0\n",
       "Position             0\n",
       "Pay Rate             0\n",
       "Manager Name         0\n",
       "Employee Source      0\n",
       "Performance Score    0\n",
       "dtype: int64"
      ]
     },
     "execution_count": 36,
     "metadata": {},
     "output_type": "execute_result"
    }
   ],
   "source": [
    "print(df.isna().sum())\n",
    "df = df.dropna(axis = 0) \n",
    "df.isna().sum()"
   ]
  },
  {
   "cell_type": "markdown",
   "metadata": {},
   "source": [
    "Split your data into 25% testing. Use random_state = 66. "
   ]
  },
  {
   "cell_type": "code",
   "execution_count": 38,
   "metadata": {},
   "outputs": [],
   "source": [
    "from sklearn.model_selection import train_test_split\n",
    "X= df.loc[:, df.columns!='Pay Rate'] #otherwise the features will include Pay Rate\n",
    "Y= df['Pay Rate']\n",
    "X_train, X_test, y_train, y_test = train_test_split(X, Y, random_state=66,test_size=.25)"
   ]
  },
  {
   "cell_type": "markdown",
   "metadata": {},
   "source": [
    "Do any data preporcessing needed"
   ]
  },
  {
   "cell_type": "code",
   "execution_count": 39,
   "metadata": {},
   "outputs": [
    {
     "name": "stderr",
     "output_type": "stream",
     "text": [
      "/anaconda3/lib/python3.6/site-packages/sklearn/preprocessing/data.py:625: DataConversionWarning: Data with input dtype int8, int16, float64 were all converted to float64 by StandardScaler.\n",
      "  return self.partial_fit(X, y)\n",
      "/anaconda3/lib/python3.6/site-packages/ipykernel_launcher.py:4: DataConversionWarning: Data with input dtype int8, int16, float64 were all converted to float64 by StandardScaler.\n",
      "  after removing the cwd from sys.path.\n"
     ]
    }
   ],
   "source": [
    "from sklearn.linear_model import LinearRegression\n",
    "from sklearn.preprocessing import StandardScaler\n",
    "scaler = StandardScaler().fit(X_train)\n",
    "x_train_scaled=scaler.transform(X_train)"
   ]
  },
  {
   "cell_type": "markdown",
   "metadata": {},
   "source": [
    "Fit your Linear regression model to predict the rates"
   ]
  },
  {
   "cell_type": "code",
   "execution_count": 40,
   "metadata": {},
   "outputs": [
    {
     "data": {
      "text/plain": [
       "LinearRegression(copy_X=True, fit_intercept=True, n_jobs=None,\n",
       "         normalize=False)"
      ]
     },
     "execution_count": 40,
     "metadata": {},
     "output_type": "execute_result"
    }
   ],
   "source": [
    "model_scaled=LinearRegression()\n",
    "model_scaled.fit(x_train_scaled,y_train)"
   ]
  },
  {
   "cell_type": "markdown",
   "metadata": {},
   "source": [
    "Calculate the training and test MSE"
   ]
  },
  {
   "cell_type": "code",
   "execution_count": 47,
   "metadata": {},
   "outputs": [
    {
     "name": "stdout",
     "output_type": "stream",
     "text": [
      "Training MSE = 157.10707650331594\n",
      "Test MSE = 260.69410505300675\n"
     ]
    },
    {
     "name": "stderr",
     "output_type": "stream",
     "text": [
      "/anaconda3/lib/python3.6/site-packages/ipykernel_launcher.py:3: DataConversionWarning: Data with input dtype int8, int16, float64 were all converted to float64 by StandardScaler.\n",
      "  This is separate from the ipykernel package so we can avoid doing imports until\n"
     ]
    },
    {
     "data": {
      "text/plain": [
       "[<matplotlib.lines.Line2D at 0x121022c88>]"
      ]
     },
     "execution_count": 47,
     "metadata": {},
     "output_type": "execute_result"
    },
    {
     "data": {
      "image/png": "[encoded data removed]",
      "text/plain": [
       "<Figure size 432x288 with 1 Axes>"
      ]
     },
     "metadata": {
      "needs_background": "light"
     },
     "output_type": "display_data"
    }
   ],
   "source": [
    "from sklearn.metrics import mean_squared_error\n",
    "y_train_pred = model_scaled.predict(x_train_scaled)\n",
    "y_test_pred = model_scaled.predict(scaler.transform(X_test))\n",
    "train_mse = mean_squared_error(y_train_pred, y_train)\n",
    "test_mse = mean_squared_error(y_test_pred, y_test)\n",
    "print('Training MSE =', train_mse)\n",
    "print('Test MSE =', test_mse)\n",
    "\n",
    "# plot is optional\n",
    "plt.scatter(y_test, y_test_pred)\n",
    "plt.xlabel('True Test Values [Pay Rate]')\n",
    "plt.ylabel('Test Predictions [Pay Rare]')\n",
    "plt.axis('equal')\n",
    "plt.axis('square')\n",
    "plt.xlim([0,plt.xlim()[1]])\n",
    "plt.ylim([0,plt.ylim()[1]])\n",
    "plt.plot([-100, 100], [-100, 100])"
   ]
  },
  {
   "cell_type": "markdown",
   "metadata": {},
   "source": [
    "Do a plot that shows the importance of each feature on predicting the rates"
   ]
  },
  {
   "cell_type": "code",
   "execution_count": 49,
   "metadata": {},
   "outputs": [
    {
     "data": {
      "text/plain": [
       "<BarContainer object of 15 artists>"
      ]
     },
     "execution_count": 49,
     "metadata": {},
     "output_type": "execute_result"
    },
    {
     "data": {
      "image/png": "[encoded data removed]",
      "text/plain": [
       "<Figure size 1800x720 with 1 Axes>"
      ]
     },
     "metadata": {
      "needs_background": "light"
     },
     "output_type": "display_data"
    }
   ],
   "source": [
    "plt.figure(figsize=(25,10))\n",
    "plt.bar(list(df.columns[df.columns != 'Pay Rate']),model_scaled.coef_)"
   ]
  },
  {
   "cell_type": "code",
   "execution_count": null,
   "metadata": {},
   "outputs": [],
   "source": []
  }
 ],
 "metadata": {
  "kernelspec": {
   "display_name": "Python 3",
   "language": "python",
   "name": "python3"
  },
  "language_info": {
   "codemirror_mode": {
    "name": "ipython",
    "version": 3
   },
   "file_extension": ".py",
   "mimetype": "text/x-python",
   "name": "python",
   "nbconvert_exporter": "python",
   "pygments_lexer": "ipython3",
   "version": "3.6.7"
  }
 },
 "nbformat": 4,
 "nbformat_minor": 2
}
