{
 "cells": [
  {
   "cell_type": "markdown",
   "metadata": {},
   "source": [
    "# HW4\n",
    "We will be working on a very cool problem which is classifying hand signs. In each image the hand is holding certain number of fingers up. The number of fingers held by the hand is the class number. The original dataset is in a format call h5 format. It is an efficient format to store and organize large amounts of data. [Click here to read more about it](https://en.wikipedia.org/wiki/Hierarchical_Data_Format). The following function `load_dataset()` is ready for you to use. It will return four variables in the following order: X_train, Y_train, X_test, Y_test. Hence, your data is already splitted and there is no need for you to split it.\n",
    "\n",
    "You can download the training datafile here https://drive.google.com/open?id=1vcbjJMj4RuuuqayUu40ScHJdSY4DZOrj\n",
    "\n",
    "You can download the test datafile here https://drive.google.com/open?id=1rQ1RCIBzw7ho_n6x0vbMzdZ8fAzi1hIQ\n",
    "\n",
    "Make sure you have both on the same directory as your notebook"
   ]
  },
  {
   "cell_type": "code",
   "execution_count": 1,
   "metadata": {},
   "outputs": [
    {
     "name": "stderr",
     "output_type": "stream",
     "text": [
      "Using TensorFlow backend.\n"
     ]
    }
   ],
   "source": [
    "# import libraries\n",
    "from IPython.core.interactiveshell import InteractiveShell\n",
    "InteractiveShell.ast_node_interactivity = \"all\"\n",
    "import numpy as np\n",
    "import pandas as pd\n",
    "from sklearn.linear_model import LogisticRegression, LinearRegression\n",
    "from sklearn.model_selection import train_test_split\n",
    "from sklearn.preprocessing import StandardScaler\n",
    "from sklearn import metrics\n",
    "import keras\n",
    "import matplotlib.pyplot as plt\n",
    "%matplotlib inline\n",
    "import h5py\n",
    "\n",
    "def load_dataset():\n",
    "    train_dataset = h5py.File('train_signs.h5', \"r\")\n",
    "    train_set_x_orig = np.array(train_dataset[\"train_set_x\"][:]) # your train set features\n",
    "    train_set_y_orig = np.array(train_dataset[\"train_set_y\"][:]) # your train set labels\n",
    "\n",
    "    test_dataset = h5py.File('test_signs.h5', \"r\")\n",
    "    test_set_x_orig = np.array(test_dataset[\"test_set_x\"][:]) # your test set features\n",
    "    test_set_y_orig = np.array(test_dataset[\"test_set_y\"][:]) # your test set labels\n",
    "\n",
    "    classes = np.array(test_dataset[\"list_classes\"][:]) # the list of classes\n",
    "    \n",
    "    train_set_y_orig = train_set_y_orig.reshape((train_set_y_orig.shape[0]),1)\n",
    "    test_set_y_orig = test_set_y_orig.reshape((test_set_y_orig.shape[0],1))\n",
    "    \n",
    "    return train_set_x_orig, train_set_y_orig, test_set_x_orig, test_set_y_orig"
   ]
  },
  {
   "cell_type": "markdown",
   "metadata": {},
   "source": [
    "load the dataset "
   ]
  },
  {
   "cell_type": "code",
   "execution_count": 2,
   "metadata": {},
   "outputs": [],
   "source": [
    "#load your dataset here\n",
    "\n",
    "# initialize train and test data with given function\n",
    "x_train, y_train, x_test, y_test = load_dataset()"
   ]
  },
  {
   "cell_type": "markdown",
   "metadata": {},
   "source": [
    "Generate 20 random numbers between 0 and the length of the training dataset. Plot 20 images from the dataset using these 20 random numbers as indicies to the training dataset. You will need to plot them on 5 rows and 4 columns. In addition, each image will have a title that says `this image belons to class number X`, replace X by the correct class number from the training labels."
   ]
  },
  {
   "cell_type": "code",
   "execution_count": 4,
   "metadata": {
    "scrolled": true
   },
   "outputs": [
    {
     "data": {
      "text/plain": [
       "<Figure size 3600x2880 with 0 Axes>"
      ]
     },
     "execution_count": 4,
     "metadata": {},
     "output_type": "execute_result"
    },
    {
     "data": {
      "text/plain": [
       "<matplotlib.axes._subplots.AxesSubplot at 0x1a37bc0208>"
      ]
     },
     "execution_count": 4,
     "metadata": {},
     "output_type": "execute_result"
    },
    {
     "data": {
      "text/plain": [
       "<matplotlib.image.AxesImage at 0x1a37dc0400>"
      ]
     },
     "execution_count": 4,
     "metadata": {},
     "output_type": "execute_result"
    },
    {
     "data": {
      "text/plain": [
       "Text(0.5, 1.0, 'This image belongs to class number [3]')"
      ]
     },
     "execution_count": 4,
     "metadata": {},
     "output_type": "execute_result"
    },
    {
     "data": {
      "text/plain": [
       "<matplotlib.axes._subplots.AxesSubplot at 0x1a37cd8b00>"
      ]
     },
     "execution_count": 4,
     "metadata": {},
     "output_type": "execute_result"
    },
    {
     "data": {
      "text/plain": [
       "<matplotlib.image.AxesImage at 0x1a37de4c88>"
      ]
     },
     "execution_count": 4,
     "metadata": {},
     "output_type": "execute_result"
    },
    {
     "data": {
      "text/plain": [
       "Text(0.5, 1.0, 'This image belongs to class number [5]')"
      ]
     },
     "execution_count": 4,
     "metadata": {},
     "output_type": "execute_result"
    },
    {
     "data": {
      "text/plain": [
       "<matplotlib.axes._subplots.AxesSubplot at 0x1a37dd46d8>"
      ]
     },
     "execution_count": 4,
     "metadata": {},
     "output_type": "execute_result"
    },
    {
     "data": {
      "text/plain": [
       "<matplotlib.image.AxesImage at 0x1101d7630>"
      ]
     },
     "execution_count": 4,
     "metadata": {},
     "output_type": "execute_result"
    },
    {
     "data": {
      "text/plain": [
       "Text(0.5, 1.0, 'This image belongs to class number [0]')"
      ]
     },
     "execution_count": 4,
     "metadata": {},
     "output_type": "execute_result"
    },
    {
     "data": {
      "text/plain": [
       "<matplotlib.axes._subplots.AxesSubplot at 0x1101baef0>"
      ]
     },
     "execution_count": 4,
     "metadata": {},
     "output_type": "execute_result"
    },
    {
     "data": {
      "text/plain": [
       "<matplotlib.image.AxesImage at 0x110211eb8>"
      ]
     },
     "execution_count": 4,
     "metadata": {},
     "output_type": "execute_result"
    },
    {
     "data": {
      "text/plain": [
       "Text(0.5, 1.0, 'This image belongs to class number [0]')"
      ]
     },
     "execution_count": 4,
     "metadata": {},
     "output_type": "execute_result"
    },
    {
     "data": {
      "text/plain": [
       "<matplotlib.axes._subplots.AxesSubplot at 0x1101ff7b8>"
      ]
     },
     "execution_count": 4,
     "metadata": {},
     "output_type": "execute_result"
    },
    {
     "data": {
      "text/plain": [
       "<matplotlib.image.AxesImage at 0x11024e6a0>"
      ]
     },
     "execution_count": 4,
     "metadata": {},
     "output_type": "execute_result"
    },
    {
     "data": {
      "text/plain": [
       "Text(0.5, 1.0, 'This image belongs to class number [3]')"
      ]
     },
     "execution_count": 4,
     "metadata": {},
     "output_type": "execute_result"
    },
    {
     "data": {
      "text/plain": [
       "<matplotlib.axes._subplots.AxesSubplot at 0x110233f60>"
      ]
     },
     "execution_count": 4,
     "metadata": {},
     "output_type": "execute_result"
    },
    {
     "data": {
      "text/plain": [
       "<matplotlib.image.AxesImage at 0x110281fd0>"
      ]
     },
     "execution_count": 4,
     "metadata": {},
     "output_type": "execute_result"
    },
    {
     "data": {
      "text/plain": [
       "Text(0.5, 1.0, 'This image belongs to class number [4]')"
      ]
     },
     "execution_count": 4,
     "metadata": {},
     "output_type": "execute_result"
    },
    {
     "data": {
      "text/plain": [
       "<matplotlib.axes._subplots.AxesSubplot at 0x11026e828>"
      ]
     },
     "execution_count": 4,
     "metadata": {},
     "output_type": "execute_result"
    },
    {
     "data": {
      "text/plain": [
       "<matplotlib.image.AxesImage at 0x1a39400908>"
      ]
     },
     "execution_count": 4,
     "metadata": {},
     "output_type": "execute_result"
    },
    {
     "data": {
      "text/plain": [
       "Text(0.5, 1.0, 'This image belongs to class number [4]')"
      ]
     },
     "execution_count": 4,
     "metadata": {},
     "output_type": "execute_result"
    },
    {
     "data": {
      "text/plain": [
       "<matplotlib.axes._subplots.AxesSubplot at 0x1102a90f0>"
      ]
     },
     "execution_count": 4,
     "metadata": {},
     "output_type": "execute_result"
    },
    {
     "data": {
      "text/plain": [
       "<matplotlib.image.AxesImage at 0x1a39448198>"
      ]
     },
     "execution_count": 4,
     "metadata": {},
     "output_type": "execute_result"
    },
    {
     "data": {
      "text/plain": [
       "Text(0.5, 1.0, 'This image belongs to class number [2]')"
      ]
     },
     "execution_count": 4,
     "metadata": {},
     "output_type": "execute_result"
    },
    {
     "data": {
      "text/plain": [
       "<matplotlib.axes._subplots.AxesSubplot at 0x1a39420a90>"
      ]
     },
     "execution_count": 4,
     "metadata": {},
     "output_type": "execute_result"
    },
    {
     "data": {
      "text/plain": [
       "<matplotlib.image.AxesImage at 0x1a39471a20>"
      ]
     },
     "execution_count": 4,
     "metadata": {},
     "output_type": "execute_result"
    },
    {
     "data": {
      "text/plain": [
       "Text(0.5, 1.0, 'This image belongs to class number [2]')"
      ]
     },
     "execution_count": 4,
     "metadata": {},
     "output_type": "execute_result"
    },
    {
     "data": {
      "text/plain": [
       "<matplotlib.axes._subplots.AxesSubplot at 0x1a3945e320>"
      ]
     },
     "execution_count": 4,
     "metadata": {},
     "output_type": "execute_result"
    },
    {
     "data": {
      "text/plain": [
       "<matplotlib.image.AxesImage at 0x1a394af278>"
      ]
     },
     "execution_count": 4,
     "metadata": {},
     "output_type": "execute_result"
    },
    {
     "data": {
      "text/plain": [
       "Text(0.5, 1.0, 'This image belongs to class number [4]')"
      ]
     },
     "execution_count": 4,
     "metadata": {},
     "output_type": "execute_result"
    },
    {
     "data": {
      "text/plain": [
       "<matplotlib.axes._subplots.AxesSubplot at 0x1a39483ac8>"
      ]
     },
     "execution_count": 4,
     "metadata": {},
     "output_type": "execute_result"
    },
    {
     "data": {
      "text/plain": [
       "<matplotlib.image.AxesImage at 0x1a394e0a90>"
      ]
     },
     "execution_count": 4,
     "metadata": {},
     "output_type": "execute_result"
    },
    {
     "data": {
      "text/plain": [
       "Text(0.5, 1.0, 'This image belongs to class number [1]')"
      ]
     },
     "execution_count": 4,
     "metadata": {},
     "output_type": "execute_result"
    },
    {
     "data": {
      "text/plain": [
       "<matplotlib.axes._subplots.AxesSubplot at 0x1a394cb470>"
      ]
     },
     "execution_count": 4,
     "metadata": {},
     "output_type": "execute_result"
    },
    {
     "data": {
      "text/plain": [
       "<matplotlib.image.AxesImage at 0x1a3951e438>"
      ]
     },
     "execution_count": 4,
     "metadata": {},
     "output_type": "execute_result"
    },
    {
     "data": {
      "text/plain": [
       "Text(0.5, 1.0, 'This image belongs to class number [4]')"
      ]
     },
     "execution_count": 4,
     "metadata": {},
     "output_type": "execute_result"
    },
    {
     "data": {
      "text/plain": [
       "<matplotlib.axes._subplots.AxesSubplot at 0x1a39501cf8>"
      ]
     },
     "execution_count": 4,
     "metadata": {},
     "output_type": "execute_result"
    },
    {
     "data": {
      "text/plain": [
       "<matplotlib.image.AxesImage at 0x1a3954fc50>"
      ]
     },
     "execution_count": 4,
     "metadata": {},
     "output_type": "execute_result"
    },
    {
     "data": {
      "text/plain": [
       "Text(0.5, 1.0, 'This image belongs to class number [1]')"
      ]
     },
     "execution_count": 4,
     "metadata": {},
     "output_type": "execute_result"
    },
    {
     "data": {
      "text/plain": [
       "<matplotlib.axes._subplots.AxesSubplot at 0x1a3953c4e0>"
      ]
     },
     "execution_count": 4,
     "metadata": {},
     "output_type": "execute_result"
    },
    {
     "data": {
      "text/plain": [
       "<matplotlib.image.AxesImage at 0x1a3958d4a8>"
      ]
     },
     "execution_count": 4,
     "metadata": {},
     "output_type": "execute_result"
    },
    {
     "data": {
      "text/plain": [
       "Text(0.5, 1.0, 'This image belongs to class number [0]')"
      ]
     },
     "execution_count": 4,
     "metadata": {},
     "output_type": "execute_result"
    },
    {
     "data": {
      "text/plain": [
       "<matplotlib.axes._subplots.AxesSubplot at 0x1a39570e48>"
      ]
     },
     "execution_count": 4,
     "metadata": {},
     "output_type": "execute_result"
    },
    {
     "data": {
      "text/plain": [
       "<matplotlib.image.AxesImage at 0x1a395bfd30>"
      ]
     },
     "execution_count": 4,
     "metadata": {},
     "output_type": "execute_result"
    },
    {
     "data": {
      "text/plain": [
       "Text(0.5, 1.0, 'This image belongs to class number [1]')"
      ]
     },
     "execution_count": 4,
     "metadata": {},
     "output_type": "execute_result"
    },
    {
     "data": {
      "text/plain": [
       "<matplotlib.axes._subplots.AxesSubplot at 0x1a395ab710>"
      ]
     },
     "execution_count": 4,
     "metadata": {},
     "output_type": "execute_result"
    },
    {
     "data": {
      "text/plain": [
       "<matplotlib.image.AxesImage at 0x1a395fb5f8>"
      ]
     },
     "execution_count": 4,
     "metadata": {},
     "output_type": "execute_result"
    },
    {
     "data": {
      "text/plain": [
       "Text(0.5, 1.0, 'This image belongs to class number [4]')"
      ]
     },
     "execution_count": 4,
     "metadata": {},
     "output_type": "execute_result"
    },
    {
     "data": {
      "text/plain": [
       "<matplotlib.axes._subplots.AxesSubplot at 0x1a395e0f98>"
      ]
     },
     "execution_count": 4,
     "metadata": {},
     "output_type": "execute_result"
    },
    {
     "data": {
      "text/plain": [
       "<matplotlib.image.AxesImage at 0x1a3962de80>"
      ]
     },
     "execution_count": 4,
     "metadata": {},
     "output_type": "execute_result"
    },
    {
     "data": {
      "text/plain": [
       "Text(0.5, 1.0, 'This image belongs to class number [1]')"
      ]
     },
     "execution_count": 4,
     "metadata": {},
     "output_type": "execute_result"
    },
    {
     "data": {
      "text/plain": [
       "<matplotlib.axes._subplots.AxesSubplot at 0x1a39618860>"
      ]
     },
     "execution_count": 4,
     "metadata": {},
     "output_type": "execute_result"
    },
    {
     "data": {
      "text/plain": [
       "<matplotlib.image.AxesImage at 0x1a3966a748>"
      ]
     },
     "execution_count": 4,
     "metadata": {},
     "output_type": "execute_result"
    },
    {
     "data": {
      "text/plain": [
       "Text(0.5, 1.0, 'This image belongs to class number [5]')"
      ]
     },
     "execution_count": 4,
     "metadata": {},
     "output_type": "execute_result"
    },
    {
     "data": {
      "text/plain": [
       "<matplotlib.axes._subplots.AxesSubplot at 0x1a39657128>"
      ]
     },
     "execution_count": 4,
     "metadata": {},
     "output_type": "execute_result"
    },
    {
     "data": {
      "text/plain": [
       "<matplotlib.image.AxesImage at 0x1a3969df98>"
      ]
     },
     "execution_count": 4,
     "metadata": {},
     "output_type": "execute_result"
    },
    {
     "data": {
      "text/plain": [
       "Text(0.5, 1.0, 'This image belongs to class number [2]')"
      ]
     },
     "execution_count": 4,
     "metadata": {},
     "output_type": "execute_result"
    },
    {
     "data": {
      "text/plain": [
       "<matplotlib.axes._subplots.AxesSubplot at 0x1a3968a9b0>"
      ]
     },
     "execution_count": 4,
     "metadata": {},
     "output_type": "execute_result"
    },
    {
     "data": {
      "text/plain": [
       "<matplotlib.image.AxesImage at 0x1a37a8c710>"
      ]
     },
     "execution_count": 4,
     "metadata": {},
     "output_type": "execute_result"
    },
    {
     "data": {
      "text/plain": [
       "Text(0.5, 1.0, 'This image belongs to class number [1]')"
      ]
     },
     "execution_count": 4,
     "metadata": {},
     "output_type": "execute_result"
    },
    {
     "data": {
      "image/png": "[encoded data removed]",
      "text/plain": [
       "<Figure size 3600x2880 with 20 Axes>"
      ]
     },
     "metadata": {
      "needs_background": "light"
     },
     "output_type": "display_data"
    }
   ],
   "source": [
    "# Plot here\n",
    "\n",
    "# generate 20 random integers for the plots\n",
    "rand = np.random.randint(low=0, high=len(x_train)-1, size=20).tolist()\n",
    "plt.figure(figsize=(50,40))\n",
    "\n",
    "# loop to iterate through the list and plot images\n",
    "for i in rand:\n",
    "    plt.subplot(5,4, rand.index(i)+1)\n",
    "    plt.imshow(x_train[i])\n",
    "    plt.title('This image belongs to class number {}'.format(y_train[i]))\n",
    "    \n",
    "# double click image plots to enlarge"
   ]
  },
  {
   "cell_type": "markdown",
   "metadata": {},
   "source": [
    "How many classes does the training and test dataset have?"
   ]
  },
  {
   "cell_type": "code",
   "execution_count": 5,
   "metadata": {},
   "outputs": [
    {
     "data": {
      "text/plain": [
       "array([0, 1, 2, 3, 4, 5])"
      ]
     },
     "execution_count": 5,
     "metadata": {},
     "output_type": "execute_result"
    },
    {
     "data": {
      "text/plain": [
       "6"
      ]
     },
     "execution_count": 5,
     "metadata": {},
     "output_type": "execute_result"
    },
    {
     "data": {
      "text/plain": [
       "array([0, 1, 2, 3, 4, 5])"
      ]
     },
     "execution_count": 5,
     "metadata": {},
     "output_type": "execute_result"
    },
    {
     "data": {
      "text/plain": [
       "6"
      ]
     },
     "execution_count": 5,
     "metadata": {},
     "output_type": "execute_result"
    }
   ],
   "source": [
    "# solve here\n",
    "\n",
    "# unique class values and count for training labels\n",
    "np.unique(y_train)\n",
    "len(np.unique(y_train))\n",
    "\n",
    "# unique class values and count for testing labels\n",
    "np.unique(y_test)\n",
    "len(np.unique(y_test))"
   ]
  },
  {
   "cell_type": "markdown",
   "metadata": {},
   "source": [
    "What is the dimension of the training dataset and test dataset?"
   ]
  },
  {
   "cell_type": "code",
   "execution_count": 6,
   "metadata": {},
   "outputs": [
    {
     "data": {
      "text/plain": [
       "(1080, 64, 64, 3)"
      ]
     },
     "execution_count": 6,
     "metadata": {},
     "output_type": "execute_result"
    },
    {
     "data": {
      "text/plain": [
       "(120, 64, 64, 3)"
      ]
     },
     "execution_count": 6,
     "metadata": {},
     "output_type": "execute_result"
    },
    {
     "data": {
      "text/plain": [
       "(1080, 1)"
      ]
     },
     "execution_count": 6,
     "metadata": {},
     "output_type": "execute_result"
    },
    {
     "data": {
      "text/plain": [
       "(120, 1)"
      ]
     },
     "execution_count": 6,
     "metadata": {},
     "output_type": "execute_result"
    }
   ],
   "source": [
    "# solve here\n",
    "\n",
    "# check the dimensions or the train and test set\n",
    "x_train_dim = x_train.shape\n",
    "x_test_dim = x_test.shape\n",
    "x_train_dim\n",
    "x_test_dim\n",
    "y_train.shape\n",
    "y_test.shape"
   ]
  },
  {
   "cell_type": "markdown",
   "metadata": {},
   "source": [
    "As you can see in the dimension (number_images X length X width X RGB), each image has 3 dimensions .. number of pixels in length and width as well as RGB contrast. We needed to flatten both the training and the test dataset so that we can feed to our ML models. To flatten an image, check the following link. https://stackoverflow.com/questions/36967920/numpy-flatten-rgb-image-array"
   ]
  },
  {
   "cell_type": "code",
   "execution_count": 7,
   "metadata": {},
   "outputs": [
    {
     "data": {
      "text/plain": [
       "(1080, 12288)"
      ]
     },
     "execution_count": 7,
     "metadata": {},
     "output_type": "execute_result"
    },
    {
     "data": {
      "text/plain": [
       "(120, 12288)"
      ]
     },
     "execution_count": 7,
     "metadata": {},
     "output_type": "execute_result"
    }
   ],
   "source": [
    "# solve here\n",
    "\n",
    "# caluclate the new width for train and test data\n",
    "x_train_dim_wid = x_train_dim[1]*x_train_dim[2]*x_train_dim[3]\n",
    "x_test_dim_wid = x_test_dim[1]*x_test_dim[2]*x_test_dim[3]\n",
    "\n",
    "# flatten and reshape train and test data\n",
    "x_train_pix = x_train.flatten().reshape(x_train_dim[0], x_train_dim_wid)\n",
    "x_test_pix = x_test.flatten().reshape(x_test_dim[0], x_test_dim_wid)\n",
    "\n",
    "# verify the reshaped dimensions\n",
    "x_train_pix.shape\n",
    "x_test_pix.shape"
   ]
  },
  {
   "cell_type": "markdown",
   "metadata": {},
   "source": [
    "Now we need to normalize the training and test dataset. The pixels are integers. We need them to be float between 0 and 1. You need to divide each of the two matrices by its max. That will produce a normalized image datasets"
   ]
  },
  {
   "cell_type": "code",
   "execution_count": 8,
   "metadata": {},
   "outputs": [
    {
     "data": {
      "text/plain": [
       "(1080, 12288)"
      ]
     },
     "execution_count": 8,
     "metadata": {},
     "output_type": "execute_result"
    },
    {
     "data": {
      "text/plain": [
       "(120, 12288)"
      ]
     },
     "execution_count": 8,
     "metadata": {},
     "output_type": "execute_result"
    },
    {
     "data": {
      "text/plain": [
       "(1080, 1)"
      ]
     },
     "execution_count": 8,
     "metadata": {},
     "output_type": "execute_result"
    },
    {
     "data": {
      "text/plain": [
       "(120, 1)"
      ]
     },
     "execution_count": 8,
     "metadata": {},
     "output_type": "execute_result"
    }
   ],
   "source": [
    "# Solve Here\n",
    "\n",
    "# divide matrices by respective max\n",
    "x_train_pix = x_train_pix/x_train_pix.max()\n",
    "x_test_pix = x_test_pix/x_test_pix.max()\n",
    "\n",
    "# verify the change to floats between 0 and 1\n",
    "x_train_pix.shape\n",
    "x_test_pix.shape\n",
    "y_train.shape\n",
    "y_test.shape"
   ]
  },
  {
   "cell_type": "markdown",
   "metadata": {},
   "source": [
    "Now you can apply ML. Start with a baseline model such as logistic regression. Fit the model, then evaluate the model by calculating the accuracy and the confusion matrix for the training data and test data. Note, fitting the model may take longer than a minute"
   ]
  },
  {
   "cell_type": "code",
   "execution_count": 9,
   "metadata": {},
   "outputs": [
    {
     "name": "stderr",
     "output_type": "stream",
     "text": [
      "/miniconda3/envs/tensorflow/lib/python3.6/site-packages/sklearn/linear_model/logistic.py:432: FutureWarning: Default solver will be changed to 'lbfgs' in 0.22. Specify a solver to silence this warning.\n",
      "  FutureWarning)\n",
      "/miniconda3/envs/tensorflow/lib/python3.6/site-packages/sklearn/utils/validation.py:724: DataConversionWarning: A column-vector y was passed when a 1d array was expected. Please change the shape of y to (n_samples, ), for example using ravel().\n",
      "  y = column_or_1d(y, warn=True)\n",
      "/miniconda3/envs/tensorflow/lib/python3.6/site-packages/sklearn/linear_model/logistic.py:469: FutureWarning: Default multi_class will be changed to 'auto' in 0.22. Specify the multi_class option to silence this warning.\n",
      "  \"this warning.\", FutureWarning)\n"
     ]
    },
    {
     "data": {
      "text/plain": [
       "1.0"
      ]
     },
     "execution_count": 9,
     "metadata": {},
     "output_type": "execute_result"
    },
    {
     "data": {
      "text/plain": [
       "0.8916666666666667"
      ]
     },
     "execution_count": 9,
     "metadata": {},
     "output_type": "execute_result"
    },
    {
     "data": {
      "text/plain": [
       "array([[180,   0,   0,   0,   0,   0],\n",
       "       [  0, 180,   0,   0,   0,   0],\n",
       "       [  0,   0, 180,   0,   0,   0],\n",
       "       [  0,   0,   0, 180,   0,   0],\n",
       "       [  0,   0,   0,   0, 180,   0],\n",
       "       [  0,   0,   0,   0,   0, 180]])"
      ]
     },
     "execution_count": 9,
     "metadata": {},
     "output_type": "execute_result"
    },
    {
     "data": {
      "text/plain": [
       "array([[20,  0,  0,  0,  0,  0],\n",
       "       [ 0, 20,  0,  0,  0,  0],\n",
       "       [ 0,  1, 18,  1,  0,  0],\n",
       "       [ 1,  0,  0, 18,  0,  1],\n",
       "       [ 0,  0,  2,  1, 14,  3],\n",
       "       [ 0,  0,  1,  1,  1, 17]])"
      ]
     },
     "execution_count": 9,
     "metadata": {},
     "output_type": "execute_result"
    }
   ],
   "source": [
    "# Solve here\n",
    "logreg = LogisticRegression().fit(x_train_pix, y_train)\n",
    "\n",
    "train_pred = logreg.predict(x_train_pix)\n",
    "test_pred = logreg.predict(x_test_pix)\n",
    "\n",
    "metrics.accuracy_score(y_train, train_pred)\n",
    "metrics.accuracy_score(y_test, test_pred)\n",
    "\n",
    "metrics.confusion_matrix(y_train, train_pred)\n",
    "metrics.confusion_matrix(y_test, test_pred)"
   ]
  },
  {
   "cell_type": "markdown",
   "metadata": {},
   "source": [
    "Use Keras to build a small neural network. Number of hidden layers is less than 5 and each layer should have between 5 and 10 neurons. The loss for a multiclass keras problem is called `categorical_crossentropy`\n",
    "\n",
    "**Note**: You will need to convert the labels using the one hot class encoder as we did in the lecture"
   ]
  },
  {
   "cell_type": "code",
   "execution_count": 10,
   "metadata": {},
   "outputs": [
    {
     "name": "stderr",
     "output_type": "stream",
     "text": [
      "/miniconda3/envs/tensorflow/lib/python3.6/site-packages/sklearn/preprocessing/_encoders.py:415: FutureWarning: The handling of integer data will change in version 0.22. Currently, the categories are determined based on the range [0, max(values)], while in the future they will be determined based on the unique values.\n",
      "If you want the future behaviour and silence this warning, you can specify \"categories='auto'\".\n",
      "In case you used a LabelEncoder before this OneHotEncoder to convert the categories to integers, then you can now use the OneHotEncoder directly.\n",
      "  warnings.warn(msg, FutureWarning)\n"
     ]
    },
    {
     "data": {
      "text/plain": [
       "OneHotEncoder(categorical_features=None, categories=None, drop=None,\n",
       "              dtype=<class 'numpy.float64'>, handle_unknown='error',\n",
       "              n_values=None, sparse=True)"
      ]
     },
     "execution_count": 10,
     "metadata": {},
     "output_type": "execute_result"
    },
    {
     "name": "stdout",
     "output_type": "stream",
     "text": [
      "Train on 1080 samples, validate on 120 samples\n",
      "Epoch 1/100\n",
      "1080/1080 [==============================] - 1s 993us/step - loss: 1.8086 - acc: 0.1426 - val_loss: 1.7918 - val_acc: 0.1667\n",
      "Epoch 2/100\n",
      "1080/1080 [==============================] - 1s 490us/step - loss: 1.7920 - acc: 0.1546 - val_loss: 1.7918 - val_acc: 0.1667\n",
      "Epoch 3/100\n",
      "1080/1080 [==============================] - 1s 520us/step - loss: 1.7921 - acc: 0.1389 - val_loss: 1.7918 - val_acc: 0.1667\n",
      "Epoch 4/100\n",
      "1080/1080 [==============================] - 0s 411us/step - loss: 1.7920 - acc: 0.1426 - val_loss: 1.7918 - val_acc: 0.1667\n",
      "Epoch 5/100\n",
      "1080/1080 [==============================] - 0s 423us/step - loss: 1.7921 - acc: 0.1556 - val_loss: 1.7918 - val_acc: 0.1667\n",
      "Epoch 6/100\n",
      "1080/1080 [==============================] - 0s 437us/step - loss: 1.7922 - acc: 0.1611 - val_loss: 1.7918 - val_acc: 0.1667\n",
      "Epoch 7/100\n",
      "1080/1080 [==============================] - 0s 393us/step - loss: 1.7921 - acc: 0.1537 - val_loss: 1.7918 - val_acc: 0.1667\n",
      "Epoch 8/100\n",
      "1080/1080 [==============================] - 0s 422us/step - loss: 1.7921 - acc: 0.1528 - val_loss: 1.7918 - val_acc: 0.1667\n",
      "Epoch 9/100\n",
      "1080/1080 [==============================] - 0s 355us/step - loss: 1.7921 - acc: 0.1269 - val_loss: 1.7918 - val_acc: 0.1667\n",
      "Epoch 10/100\n",
      "1080/1080 [==============================] - 1s 468us/step - loss: 1.7920 - acc: 0.1546 - val_loss: 1.7918 - val_acc: 0.1667\n",
      "Epoch 11/100\n",
      "1080/1080 [==============================] - 1s 478us/step - loss: 1.7920 - acc: 0.1389 - val_loss: 1.7918 - val_acc: 0.1667\n",
      "Epoch 12/100\n",
      "1080/1080 [==============================] - 0s 381us/step - loss: 1.7921 - acc: 0.1417 - val_loss: 1.7918 - val_acc: 0.1667\n",
      "Epoch 13/100\n",
      "1080/1080 [==============================] - 0s 392us/step - loss: 1.7922 - acc: 0.1648 - val_loss: 1.7918 - val_acc: 0.1667\n",
      "Epoch 14/100\n",
      "1080/1080 [==============================] - 1s 505us/step - loss: 1.7920 - acc: 0.1407 - val_loss: 1.7918 - val_acc: 0.1667\n",
      "Epoch 15/100\n",
      "1080/1080 [==============================] - 1s 481us/step - loss: 1.7920 - acc: 0.1565 - val_loss: 1.7918 - val_acc: 0.1667\n",
      "Epoch 16/100\n",
      "1080/1080 [==============================] - 0s 450us/step - loss: 1.7921 - acc: 0.1537 - val_loss: 1.7918 - val_acc: 0.1667\n",
      "Epoch 17/100\n",
      "1080/1080 [==============================] - 0s 451us/step - loss: 1.7921 - acc: 0.1519 - val_loss: 1.7918 - val_acc: 0.1667\n",
      "Epoch 18/100\n",
      "1080/1080 [==============================] - 1s 494us/step - loss: 1.7920 - acc: 0.1435 - val_loss: 1.7918 - val_acc: 0.1667\n",
      "Epoch 19/100\n",
      "1080/1080 [==============================] - 1s 484us/step - loss: 1.7920 - acc: 0.1426 - val_loss: 1.7918 - val_acc: 0.1667\n",
      "Epoch 20/100\n",
      "1080/1080 [==============================] - 0s 446us/step - loss: 1.7920 - acc: 0.1528 - val_loss: 1.7918 - val_acc: 0.1667\n",
      "Epoch 21/100\n",
      "1080/1080 [==============================] - 1s 474us/step - loss: 1.7920 - acc: 0.1602 - val_loss: 1.7918 - val_acc: 0.1667\n",
      "Epoch 22/100\n",
      "1080/1080 [==============================] - 1s 541us/step - loss: 1.7920 - acc: 0.1463 - val_loss: 1.7918 - val_acc: 0.1667\n",
      "Epoch 23/100\n",
      "1080/1080 [==============================] - 1s 496us/step - loss: 1.7921 - acc: 0.1333 - val_loss: 1.7918 - val_acc: 0.1667\n",
      "Epoch 24/100\n",
      "1080/1080 [==============================] - 0s 455us/step - loss: 1.7920 - acc: 0.1435 - val_loss: 1.7918 - val_acc: 0.1667\n",
      "Epoch 25/100\n",
      "1080/1080 [==============================] - 1s 491us/step - loss: 1.7920 - acc: 0.1463 - val_loss: 1.7918 - val_acc: 0.1667\n",
      "Epoch 26/100\n",
      "1080/1080 [==============================] - 1s 472us/step - loss: 1.7921 - acc: 0.1463 - val_loss: 1.7918 - val_acc: 0.1667\n",
      "Epoch 27/100\n",
      "1080/1080 [==============================] - 1s 474us/step - loss: 1.7920 - acc: 0.1454 - val_loss: 1.7918 - val_acc: 0.1667\n",
      "Epoch 28/100\n",
      "1080/1080 [==============================] - 1s 469us/step - loss: 1.7920 - acc: 0.1500 - val_loss: 1.7918 - val_acc: 0.1667\n",
      "Epoch 29/100\n",
      "1080/1080 [==============================] - 1s 524us/step - loss: 1.7920 - acc: 0.1481 - val_loss: 1.7918 - val_acc: 0.1667\n",
      "Epoch 30/100\n",
      "1080/1080 [==============================] - 0s 449us/step - loss: 1.7920 - acc: 0.1444 - val_loss: 1.7918 - val_acc: 0.1667\n",
      "Epoch 31/100\n",
      "1080/1080 [==============================] - 1s 474us/step - loss: 1.7920 - acc: 0.1417 - val_loss: 1.7918 - val_acc: 0.1667\n",
      "Epoch 32/100\n",
      "1080/1080 [==============================] - 0s 432us/step - loss: 1.7921 - acc: 0.1380 - val_loss: 1.7918 - val_acc: 0.1667\n",
      "Epoch 33/100\n",
      "1080/1080 [==============================] - 0s 375us/step - loss: 1.7921 - acc: 0.1491 - val_loss: 1.7918 - val_acc: 0.1667\n",
      "Epoch 34/100\n",
      "1080/1080 [==============================] - 0s 376us/step - loss: 1.7920 - acc: 0.1519 - val_loss: 1.7918 - val_acc: 0.1667\n",
      "Epoch 35/100\n",
      "1080/1080 [==============================] - 0s 370us/step - loss: 1.7920 - acc: 0.1426 - val_loss: 1.7918 - val_acc: 0.1667\n",
      "Epoch 36/100\n",
      "1080/1080 [==============================] - 0s 430us/step - loss: 1.7920 - acc: 0.1407 - val_loss: 1.7918 - val_acc: 0.1667\n",
      "Epoch 37/100\n",
      "1080/1080 [==============================] - 0s 359us/step - loss: 1.7921 - acc: 0.1389 - val_loss: 1.7918 - val_acc: 0.1667\n",
      "Epoch 38/100\n",
      "1080/1080 [==============================] - 0s 374us/step - loss: 1.7921 - acc: 0.1528 - val_loss: 1.7918 - val_acc: 0.1667\n",
      "Epoch 39/100\n",
      "1080/1080 [==============================] - 0s 348us/step - loss: 1.7921 - acc: 0.1333 - val_loss: 1.7918 - val_acc: 0.1667\n",
      "Epoch 40/100\n",
      "1080/1080 [==============================] - 0s 374us/step - loss: 1.7921 - acc: 0.1537 - val_loss: 1.7918 - val_acc: 0.1667\n",
      "Epoch 41/100\n",
      "1080/1080 [==============================] - 0s 368us/step - loss: 1.7920 - acc: 0.1454 - val_loss: 1.7918 - val_acc: 0.1667\n",
      "Epoch 42/100\n",
      "1080/1080 [==============================] - 0s 376us/step - loss: 1.7920 - acc: 0.1426 - val_loss: 1.7918 - val_acc: 0.1667\n",
      "Epoch 43/100\n",
      "1080/1080 [==============================] - 0s 397us/step - loss: 1.7921 - acc: 0.1574 - val_loss: 1.7918 - val_acc: 0.1667\n",
      "Epoch 44/100\n",
      "1080/1080 [==============================] - 0s 414us/step - loss: 1.7921 - acc: 0.1454 - val_loss: 1.7918 - val_acc: 0.1667\n",
      "Epoch 45/100\n",
      "1080/1080 [==============================] - 0s 437us/step - loss: 1.7920 - acc: 0.1454 - val_loss: 1.7918 - val_acc: 0.1667\n",
      "Epoch 46/100\n",
      "1080/1080 [==============================] - 1s 473us/step - loss: 1.7921 - acc: 0.1296 - val_loss: 1.7918 - val_acc: 0.1667\n",
      "Epoch 47/100\n",
      "1080/1080 [==============================] - 1s 491us/step - loss: 1.7920 - acc: 0.1574 - val_loss: 1.7918 - val_acc: 0.1667\n",
      "Epoch 48/100\n",
      "1080/1080 [==============================] - 1s 508us/step - loss: 1.7921 - acc: 0.1528 - val_loss: 1.7918 - val_acc: 0.1667\n",
      "Epoch 49/100\n",
      "1080/1080 [==============================] - 0s 461us/step - loss: 1.7921 - acc: 0.1546 - val_loss: 1.7918 - val_acc: 0.1667\n",
      "Epoch 50/100\n",
      "1080/1080 [==============================] - 1s 467us/step - loss: 1.7920 - acc: 0.1380 - val_loss: 1.7918 - val_acc: 0.1667\n",
      "Epoch 51/100\n",
      "1080/1080 [==============================] - 0s 406us/step - loss: 1.7921 - acc: 0.1546 - val_loss: 1.7918 - val_acc: 0.1667\n",
      "Epoch 52/100\n",
      "1080/1080 [==============================] - 0s 377us/step - loss: 1.7920 - acc: 0.1444 - val_loss: 1.7918 - val_acc: 0.1667\n",
      "Epoch 53/100\n",
      "1080/1080 [==============================] - 0s 352us/step - loss: 1.7921 - acc: 0.1519 - val_loss: 1.7918 - val_acc: 0.1667\n",
      "Epoch 54/100\n",
      "1080/1080 [==============================] - 0s 352us/step - loss: 1.7921 - acc: 0.1481 - val_loss: 1.7918 - val_acc: 0.1667\n",
      "Epoch 55/100\n",
      "1080/1080 [==============================] - 0s 380us/step - loss: 1.7920 - acc: 0.1519 - val_loss: 1.7918 - val_acc: 0.1667\n",
      "Epoch 56/100\n",
      "1080/1080 [==============================] - 0s 410us/step - loss: 1.7920 - acc: 0.1574 - val_loss: 1.7918 - val_acc: 0.1667\n",
      "Epoch 57/100\n",
      "1080/1080 [==============================] - 0s 365us/step - loss: 1.7920 - acc: 0.1398 - val_loss: 1.7918 - val_acc: 0.1667\n",
      "Epoch 58/100\n",
      "1080/1080 [==============================] - 0s 380us/step - loss: 1.7920 - acc: 0.1556 - val_loss: 1.7918 - val_acc: 0.1667\n",
      "Epoch 59/100\n",
      "1080/1080 [==============================] - 0s 413us/step - loss: 1.7922 - acc: 0.1481 - val_loss: 1.7918 - val_acc: 0.1667\n",
      "Epoch 60/100\n"
     ]
    },
    {
     "name": "stdout",
     "output_type": "stream",
     "text": [
      "1080/1080 [==============================] - 0s 440us/step - loss: 1.7920 - acc: 0.1500 - val_loss: 1.7918 - val_acc: 0.1667\n",
      "Epoch 61/100\n",
      "1080/1080 [==============================] - 0s 426us/step - loss: 1.7921 - acc: 0.1611 - val_loss: 1.7918 - val_acc: 0.1667\n",
      "Epoch 62/100\n",
      "1080/1080 [==============================] - 0s 423us/step - loss: 1.7920 - acc: 0.1583 - val_loss: 1.7918 - val_acc: 0.1667\n",
      "Epoch 63/100\n",
      "1080/1080 [==============================] - 0s 423us/step - loss: 1.7921 - acc: 0.1556 - val_loss: 1.7918 - val_acc: 0.1667\n",
      "Epoch 64/100\n",
      "1080/1080 [==============================] - 0s 405us/step - loss: 1.7920 - acc: 0.1389 - val_loss: 1.7918 - val_acc: 0.1667\n",
      "Epoch 65/100\n",
      "1080/1080 [==============================] - 0s 372us/step - loss: 1.7920 - acc: 0.1454 - val_loss: 1.7918 - val_acc: 0.1667\n",
      "Epoch 66/100\n",
      "1080/1080 [==============================] - 0s 378us/step - loss: 1.7919 - acc: 0.1361 - val_loss: 1.7918 - val_acc: 0.1667\n",
      "Epoch 67/100\n",
      "1080/1080 [==============================] - 0s 366us/step - loss: 1.7921 - acc: 0.1537 - val_loss: 1.7918 - val_acc: 0.1667\n",
      "Epoch 68/100\n",
      "1080/1080 [==============================] - 0s 350us/step - loss: 1.7921 - acc: 0.1491 - val_loss: 1.7918 - val_acc: 0.1667\n",
      "Epoch 69/100\n",
      "1080/1080 [==============================] - 0s 379us/step - loss: 1.7922 - acc: 0.1481 - val_loss: 1.7918 - val_acc: 0.1667\n",
      "Epoch 70/100\n",
      "1080/1080 [==============================] - 0s 354us/step - loss: 1.7920 - acc: 0.1620 - val_loss: 1.7918 - val_acc: 0.1667\n",
      "Epoch 71/100\n",
      "1080/1080 [==============================] - 0s 353us/step - loss: 1.7921 - acc: 0.1667 - val_loss: 1.7918 - val_acc: 0.1667\n",
      "Epoch 72/100\n",
      "1080/1080 [==============================] - 0s 394us/step - loss: 1.7920 - acc: 0.1444 - val_loss: 1.7918 - val_acc: 0.1667\n",
      "Epoch 73/100\n",
      "1080/1080 [==============================] - 0s 432us/step - loss: 1.7922 - acc: 0.1546 - val_loss: 1.7918 - val_acc: 0.1667\n",
      "Epoch 74/100\n",
      "1080/1080 [==============================] - 0s 391us/step - loss: 1.7921 - acc: 0.1546 - val_loss: 1.7918 - val_acc: 0.1667\n",
      "Epoch 75/100\n",
      "1080/1080 [==============================] - 0s 378us/step - loss: 1.7921 - acc: 0.1537 - val_loss: 1.7918 - val_acc: 0.1667\n",
      "Epoch 76/100\n",
      "1080/1080 [==============================] - 0s 367us/step - loss: 1.7920 - acc: 0.1565 - val_loss: 1.7918 - val_acc: 0.1667\n",
      "Epoch 77/100\n",
      "1080/1080 [==============================] - 0s 405us/step - loss: 1.7920 - acc: 0.1380 - val_loss: 1.7918 - val_acc: 0.1667\n",
      "Epoch 78/100\n",
      "1080/1080 [==============================] - 0s 364us/step - loss: 1.7921 - acc: 0.1528 - val_loss: 1.7918 - val_acc: 0.1667\n",
      "Epoch 79/100\n",
      "1080/1080 [==============================] - 0s 407us/step - loss: 1.7920 - acc: 0.1407 - val_loss: 1.7918 - val_acc: 0.1667\n",
      "Epoch 80/100\n",
      "1080/1080 [==============================] - 0s 373us/step - loss: 1.7920 - acc: 0.1519 - val_loss: 1.7918 - val_acc: 0.1667\n",
      "Epoch 81/100\n",
      "1080/1080 [==============================] - 0s 395us/step - loss: 1.7920 - acc: 0.1398 - val_loss: 1.7918 - val_acc: 0.1667\n",
      "Epoch 82/100\n",
      "1080/1080 [==============================] - 1s 635us/step - loss: 1.7921 - acc: 0.1463 - val_loss: 1.7918 - val_acc: 0.1667\n",
      "Epoch 83/100\n",
      "1080/1080 [==============================] - 0s 433us/step - loss: 1.7921 - acc: 0.1565 - val_loss: 1.7918 - val_acc: 0.1667\n",
      "Epoch 84/100\n",
      "1080/1080 [==============================] - 0s 455us/step - loss: 1.7919 - acc: 0.1574 - val_loss: 1.7918 - val_acc: 0.1667\n",
      "Epoch 85/100\n",
      "1080/1080 [==============================] - 1s 634us/step - loss: 1.7920 - acc: 0.1519 - val_loss: 1.7918 - val_acc: 0.1667\n",
      "Epoch 86/100\n",
      "1080/1080 [==============================] - 1s 608us/step - loss: 1.7920 - acc: 0.1481 - val_loss: 1.7918 - val_acc: 0.1667\n",
      "Epoch 87/100\n",
      "1080/1080 [==============================] - 1s 574us/step - loss: 1.7921 - acc: 0.1361 - val_loss: 1.7918 - val_acc: 0.1667\n",
      "Epoch 88/100\n",
      "1080/1080 [==============================] - 1s 534us/step - loss: 1.7921 - acc: 0.1519 - val_loss: 1.7918 - val_acc: 0.1667\n",
      "Epoch 89/100\n",
      "1080/1080 [==============================] - 0s 424us/step - loss: 1.7921 - acc: 0.1519 - val_loss: 1.7918 - val_acc: 0.1667\n",
      "Epoch 90/100\n",
      "1080/1080 [==============================] - 0s 395us/step - loss: 1.7921 - acc: 0.1519 - val_loss: 1.7918 - val_acc: 0.1667\n",
      "Epoch 91/100\n",
      "1080/1080 [==============================] - 0s 412us/step - loss: 1.7921 - acc: 0.1602 - val_loss: 1.7918 - val_acc: 0.1667\n",
      "Epoch 92/100\n",
      "1080/1080 [==============================] - 1s 506us/step - loss: 1.7921 - acc: 0.1370 - val_loss: 1.7918 - val_acc: 0.1667\n",
      "Epoch 93/100\n",
      "1080/1080 [==============================] - 1s 563us/step - loss: 1.7921 - acc: 0.1407 - val_loss: 1.7918 - val_acc: 0.1667\n",
      "Epoch 94/100\n",
      "1080/1080 [==============================] - 1s 520us/step - loss: 1.7920 - acc: 0.1556 - val_loss: 1.7918 - val_acc: 0.1667\n",
      "Epoch 95/100\n",
      "1080/1080 [==============================] - 0s 405us/step - loss: 1.7921 - acc: 0.1500 - val_loss: 1.7918 - val_acc: 0.1667\n",
      "Epoch 96/100\n",
      "1080/1080 [==============================] - 0s 410us/step - loss: 1.7920 - acc: 0.1481 - val_loss: 1.7918 - val_acc: 0.1667\n",
      "Epoch 97/100\n",
      "1080/1080 [==============================] - 0s 460us/step - loss: 1.7920 - acc: 0.1537 - val_loss: 1.7918 - val_acc: 0.1667\n",
      "Epoch 98/100\n",
      "1080/1080 [==============================] - 0s 439us/step - loss: 1.7920 - acc: 0.1546 - val_loss: 1.7918 - val_acc: 0.1667\n",
      "Epoch 99/100\n",
      "1080/1080 [==============================] - 0s 460us/step - loss: 1.7920 - acc: 0.1435 - val_loss: 1.7918 - val_acc: 0.1667\n",
      "Epoch 100/100\n",
      "1080/1080 [==============================] - 1s 529us/step - loss: 1.7921 - acc: 0.1481 - val_loss: 1.7918 - val_acc: 0.1667\n",
      "1080/1080 [==============================] - 0s 128us/step\n"
     ]
    },
    {
     "data": {
      "text/plain": [
       "[1.791761197867217, 0.1666666665562877]"
      ]
     },
     "execution_count": 10,
     "metadata": {},
     "output_type": "execute_result"
    },
    {
     "name": "stdout",
     "output_type": "stream",
     "text": [
      "120/120 [==============================] - 0s 96us/step\n"
     ]
    },
    {
     "data": {
      "text/plain": [
       "[1.7917612155278524, 0.16666666865348817]"
      ]
     },
     "execution_count": 10,
     "metadata": {},
     "output_type": "execute_result"
    }
   ],
   "source": [
    "# Solve Here\n",
    "# prepare data for tensorflow multi labels\n",
    "from sklearn import preprocessing\n",
    "enc = preprocessing.OneHotEncoder()\n",
    "\n",
    "# 2. FIT\n",
    "enc.fit(y_train)\n",
    "\n",
    "# 3. Transform\n",
    "onehotlabels_train = enc.transform(y_train).toarray()\n",
    "onehotlabels_test = enc.transform(y_test).toarray()\n",
    "\n",
    "from keras.models import Sequential\n",
    "from keras.layers import Dense\n",
    "# create model\n",
    "model = Sequential()\n",
    "model.add(Dense(6, input_shape = (x_train_pix.shape[1],), activation='relu'))\n",
    "model.add(Dense(7, activation='relu'))\n",
    "model.add(Dense(8, activation='relu'))\n",
    "model.add(Dense(8, activation='relu'))\n",
    "model.add(Dense(7, activation='relu'))\n",
    "model.add(Dense(6, activation='softmax'))\n",
    "\n",
    "# Compile model\n",
    "model.compile(loss='categorical_crossentropy', optimizer='adam', metrics=['accuracy'])\n",
    "history = model.fit(x_train_pix, onehotlabels_train, epochs=100, batch_size=10, \\\n",
    "          validation_data=(x_test_pix, onehotlabels_test))\n",
    "\n",
    "model.evaluate(x_train_pix, onehotlabels_train)\n",
    "model.evaluate(x_test_pix, onehotlabels_test)"
   ]
  },
  {
   "cell_type": "markdown",
   "metadata": {},
   "source": [
    "Did you notice that the learning is slow? As if it is not moving? That is because of the learning rate. Change the compiling line for the model to `model.compile(loss='categorical_crossentropy', optimizer = keras.optimizers.Adam(lr=0.0001), metrics=['accuracy'])` so that you can decrease the learning rate. Moreover, this is a good chance to read about the different optimizers type. Check this link.\n",
    "https://medium.com/datadriveninvestor/overview-of-different-optimizers-for-neural-networks-e0ed119440c3\n",
    "\n",
    "Run your network for at least 300 epochs and use batch_size=100\n",
    "\n",
    "What is the training and validation accuracy and confusion matrix for both?\n",
    "\n",
    "**Note this will take few minutes to finish**"
   ]
  },
  {
   "cell_type": "code",
   "execution_count": 12,
   "metadata": {
    "scrolled": true
   },
   "outputs": [
    {
     "name": "stdout",
     "output_type": "stream",
     "text": [
      "Train on 1080 samples, validate on 120 samples\n",
      "Epoch 1/300\n",
      "1080/1080 [==============================] - 1s 628us/step - loss: 1.7918 - acc: 0.1528 - val_loss: 1.7918 - val_acc: 0.1667\n",
      "Epoch 2/300\n",
      "1080/1080 [==============================] - 0s 192us/step - loss: 1.7918 - acc: 0.1611 - val_loss: 1.7918 - val_acc: 0.1667\n",
      "Epoch 3/300\n",
      "1080/1080 [==============================] - 0s 205us/step - loss: 1.7918 - acc: 0.1667 - val_loss: 1.7918 - val_acc: 0.1667\n",
      "Epoch 4/300\n",
      "1080/1080 [==============================] - 0s 184us/step - loss: 1.7918 - acc: 0.1667 - val_loss: 1.7918 - val_acc: 0.1667\n",
      "Epoch 5/300\n",
      "1080/1080 [==============================] - 0s 191us/step - loss: 1.7918 - acc: 0.1667 - val_loss: 1.7918 - val_acc: 0.1667\n",
      "Epoch 6/300\n",
      "1080/1080 [==============================] - 0s 187us/step - loss: 1.7918 - acc: 0.1528 - val_loss: 1.7918 - val_acc: 0.1667\n",
      "Epoch 7/300\n",
      "1080/1080 [==============================] - 0s 208us/step - loss: 1.7918 - acc: 0.1574 - val_loss: 1.7918 - val_acc: 0.1667\n",
      "Epoch 8/300\n",
      "1080/1080 [==============================] - 0s 157us/step - loss: 1.7918 - acc: 0.1676 - val_loss: 1.7918 - val_acc: 0.1667\n",
      "Epoch 9/300\n",
      "1080/1080 [==============================] - 0s 155us/step - loss: 1.7918 - acc: 0.1667 - val_loss: 1.7918 - val_acc: 0.1667\n",
      "Epoch 10/300\n",
      "1080/1080 [==============================] - 0s 175us/step - loss: 1.7918 - acc: 0.1667 - val_loss: 1.7918 - val_acc: 0.1667\n",
      "Epoch 11/300\n",
      "1080/1080 [==============================] - 0s 152us/step - loss: 1.7918 - acc: 0.1667 - val_loss: 1.7918 - val_acc: 0.1667\n",
      "Epoch 12/300\n",
      "1080/1080 [==============================] - 0s 169us/step - loss: 1.7918 - acc: 0.1667 - val_loss: 1.7918 - val_acc: 0.1667\n",
      "Epoch 13/300\n",
      "1080/1080 [==============================] - 0s 164us/step - loss: 1.7918 - acc: 0.1667 - val_loss: 1.7918 - val_acc: 0.1667\n",
      "Epoch 14/300\n",
      "1080/1080 [==============================] - 0s 158us/step - loss: 1.7918 - acc: 0.1509 - val_loss: 1.7918 - val_acc: 0.1667\n",
      "Epoch 15/300\n",
      "1080/1080 [==============================] - 0s 152us/step - loss: 1.7918 - acc: 0.1602 - val_loss: 1.7918 - val_acc: 0.1667\n",
      "Epoch 16/300\n",
      "1080/1080 [==============================] - 0s 181us/step - loss: 1.7918 - acc: 0.1667 - val_loss: 1.7918 - val_acc: 0.1667\n",
      "Epoch 17/300\n",
      "1080/1080 [==============================] - 0s 159us/step - loss: 1.7918 - acc: 0.1667 - val_loss: 1.7918 - val_acc: 0.1667\n",
      "Epoch 18/300\n",
      "1080/1080 [==============================] - 0s 144us/step - loss: 1.7918 - acc: 0.1667 - val_loss: 1.7918 - val_acc: 0.1667\n",
      "Epoch 19/300\n",
      "1080/1080 [==============================] - 0s 164us/step - loss: 1.7918 - acc: 0.1667 - val_loss: 1.7918 - val_acc: 0.1667\n",
      "Epoch 20/300\n",
      "1080/1080 [==============================] - 0s 164us/step - loss: 1.7918 - acc: 0.1667 - val_loss: 1.7918 - val_acc: 0.1667\n",
      "Epoch 21/300\n",
      "1080/1080 [==============================] - 0s 152us/step - loss: 1.7918 - acc: 0.1667 - val_loss: 1.7918 - val_acc: 0.1667\n",
      "Epoch 22/300\n",
      "1080/1080 [==============================] - 0s 146us/step - loss: 1.7918 - acc: 0.1667 - val_loss: 1.7918 - val_acc: 0.1667\n",
      "Epoch 23/300\n",
      "1080/1080 [==============================] - 0s 180us/step - loss: 1.7918 - acc: 0.1667 - val_loss: 1.7918 - val_acc: 0.1667\n",
      "Epoch 24/300\n",
      "1080/1080 [==============================] - 0s 182us/step - loss: 1.7918 - acc: 0.1546 - val_loss: 1.7918 - val_acc: 0.1667\n",
      "Epoch 25/300\n",
      "1080/1080 [==============================] - 0s 188us/step - loss: 1.7918 - acc: 0.1667 - val_loss: 1.7918 - val_acc: 0.1667\n",
      "Epoch 26/300\n",
      "1080/1080 [==============================] - 0s 180us/step - loss: 1.7918 - acc: 0.1667 - val_loss: 1.7918 - val_acc: 0.1667\n",
      "Epoch 27/300\n",
      "1080/1080 [==============================] - 0s 169us/step - loss: 1.7918 - acc: 0.1667 - val_loss: 1.7918 - val_acc: 0.1667\n",
      "Epoch 28/300\n",
      "1080/1080 [==============================] - 0s 167us/step - loss: 1.7918 - acc: 0.1491 - val_loss: 1.7918 - val_acc: 0.1667\n",
      "Epoch 29/300\n",
      "1080/1080 [==============================] - 0s 139us/step - loss: 1.7918 - acc: 0.1667 - val_loss: 1.7918 - val_acc: 0.1667\n",
      "Epoch 30/300\n",
      "1080/1080 [==============================] - 0s 157us/step - loss: 1.7918 - acc: 0.1667 - val_loss: 1.7918 - val_acc: 0.1667\n",
      "Epoch 31/300\n",
      "1080/1080 [==============================] - 0s 152us/step - loss: 1.7918 - acc: 0.1667 - val_loss: 1.7918 - val_acc: 0.1667\n",
      "Epoch 32/300\n",
      "1080/1080 [==============================] - 0s 175us/step - loss: 1.7918 - acc: 0.1667 - val_loss: 1.7918 - val_acc: 0.1667\n",
      "Epoch 33/300\n",
      "1080/1080 [==============================] - 0s 160us/step - loss: 1.7918 - acc: 0.1667 - val_loss: 1.7918 - val_acc: 0.1667\n",
      "Epoch 34/300\n",
      "1080/1080 [==============================] - 0s 151us/step - loss: 1.7918 - acc: 0.1667 - val_loss: 1.7918 - val_acc: 0.1667\n",
      "Epoch 35/300\n",
      "1080/1080 [==============================] - 0s 164us/step - loss: 1.7918 - acc: 0.1667 - val_loss: 1.7918 - val_acc: 0.1667\n",
      "Epoch 36/300\n",
      "1080/1080 [==============================] - 0s 162us/step - loss: 1.7918 - acc: 0.1667 - val_loss: 1.7918 - val_acc: 0.1667\n",
      "Epoch 37/300\n",
      "1080/1080 [==============================] - 0s 135us/step - loss: 1.7918 - acc: 0.1667 - val_loss: 1.7918 - val_acc: 0.1667\n",
      "Epoch 38/300\n",
      "1080/1080 [==============================] - 0s 169us/step - loss: 1.7918 - acc: 0.1667 - val_loss: 1.7918 - val_acc: 0.1667\n",
      "Epoch 39/300\n",
      "1080/1080 [==============================] - 0s 172us/step - loss: 1.7918 - acc: 0.1667 - val_loss: 1.7918 - val_acc: 0.1667\n",
      "Epoch 40/300\n",
      "1080/1080 [==============================] - 0s 179us/step - loss: 1.7918 - acc: 0.1667 - val_loss: 1.7918 - val_acc: 0.1667\n",
      "Epoch 41/300\n",
      "1080/1080 [==============================] - 0s 177us/step - loss: 1.7918 - acc: 0.1667 - val_loss: 1.7918 - val_acc: 0.1667\n",
      "Epoch 42/300\n",
      "1080/1080 [==============================] - 0s 163us/step - loss: 1.7918 - acc: 0.1667 - val_loss: 1.7918 - val_acc: 0.1667\n",
      "Epoch 43/300\n",
      "1080/1080 [==============================] - 0s 148us/step - loss: 1.7918 - acc: 0.1667 - val_loss: 1.7918 - val_acc: 0.1667\n",
      "Epoch 44/300\n",
      "1080/1080 [==============================] - 0s 193us/step - loss: 1.7918 - acc: 0.1667 - val_loss: 1.7918 - val_acc: 0.1667\n",
      "Epoch 45/300\n",
      "1080/1080 [==============================] - 0s 158us/step - loss: 1.7918 - acc: 0.1667 - val_loss: 1.7918 - val_acc: 0.1667\n",
      "Epoch 46/300\n",
      "1080/1080 [==============================] - 0s 168us/step - loss: 1.7918 - acc: 0.1667 - val_loss: 1.7918 - val_acc: 0.1667\n",
      "Epoch 47/300\n",
      "1080/1080 [==============================] - 0s 166us/step - loss: 1.7918 - acc: 0.1667 - val_loss: 1.7918 - val_acc: 0.1667\n",
      "Epoch 48/300\n",
      "1080/1080 [==============================] - 0s 170us/step - loss: 1.7918 - acc: 0.1667 - val_loss: 1.7918 - val_acc: 0.1667\n",
      "Epoch 49/300\n",
      "1080/1080 [==============================] - 0s 167us/step - loss: 1.7918 - acc: 0.1667 - val_loss: 1.7918 - val_acc: 0.1667\n",
      "Epoch 50/300\n",
      "1080/1080 [==============================] - 0s 145us/step - loss: 1.7918 - acc: 0.1667 - val_loss: 1.7918 - val_acc: 0.1667\n",
      "Epoch 51/300\n",
      "1080/1080 [==============================] - 0s 172us/step - loss: 1.7918 - acc: 0.1667 - val_loss: 1.7918 - val_acc: 0.1667\n",
      "Epoch 52/300\n",
      "1080/1080 [==============================] - 0s 162us/step - loss: 1.7918 - acc: 0.1667 - val_loss: 1.7918 - val_acc: 0.1667\n",
      "Epoch 53/300\n",
      "1080/1080 [==============================] - 0s 157us/step - loss: 1.7918 - acc: 0.1667 - val_loss: 1.7918 - val_acc: 0.1667\n",
      "Epoch 54/300\n",
      "1080/1080 [==============================] - 0s 158us/step - loss: 1.7918 - acc: 0.1667 - val_loss: 1.7918 - val_acc: 0.1667\n",
      "Epoch 55/300\n",
      "1080/1080 [==============================] - 0s 160us/step - loss: 1.7918 - acc: 0.1667 - val_loss: 1.7918 - val_acc: 0.1667\n",
      "Epoch 56/300\n",
      "1080/1080 [==============================] - 0s 147us/step - loss: 1.7918 - acc: 0.1667 - val_loss: 1.7918 - val_acc: 0.1667\n",
      "Epoch 57/300\n",
      "1080/1080 [==============================] - 0s 149us/step - loss: 1.7918 - acc: 0.1667 - val_loss: 1.7918 - val_acc: 0.1667\n",
      "Epoch 58/300\n",
      "1080/1080 [==============================] - 0s 157us/step - loss: 1.7918 - acc: 0.1667 - val_loss: 1.7918 - val_acc: 0.1667\n",
      "Epoch 59/300\n",
      "1080/1080 [==============================] - 0s 179us/step - loss: 1.7918 - acc: 0.1667 - val_loss: 1.7918 - val_acc: 0.1667\n",
      "Epoch 60/300\n"
     ]
    },
    {
     "name": "stdout",
     "output_type": "stream",
     "text": [
      "1080/1080 [==============================] - 0s 195us/step - loss: 1.7918 - acc: 0.1667 - val_loss: 1.7918 - val_acc: 0.1667\n",
      "Epoch 61/300\n",
      "1080/1080 [==============================] - 0s 215us/step - loss: 1.7918 - acc: 0.1667 - val_loss: 1.7918 - val_acc: 0.1667\n",
      "Epoch 62/300\n",
      "1080/1080 [==============================] - 0s 158us/step - loss: 1.7918 - acc: 0.1667 - val_loss: 1.7918 - val_acc: 0.1667\n",
      "Epoch 63/300\n",
      "1080/1080 [==============================] - 0s 154us/step - loss: 1.7918 - acc: 0.1667 - val_loss: 1.7918 - val_acc: 0.1667\n",
      "Epoch 64/300\n",
      "1080/1080 [==============================] - 0s 147us/step - loss: 1.7918 - acc: 0.1667 - val_loss: 1.7918 - val_acc: 0.1667\n",
      "Epoch 65/300\n",
      "1080/1080 [==============================] - 0s 157us/step - loss: 1.7918 - acc: 0.1667 - val_loss: 1.7918 - val_acc: 0.1667\n",
      "Epoch 66/300\n",
      "1080/1080 [==============================] - 0s 170us/step - loss: 1.7918 - acc: 0.1667 - val_loss: 1.7918 - val_acc: 0.1667\n",
      "Epoch 67/300\n",
      "1080/1080 [==============================] - 0s 155us/step - loss: 1.7918 - acc: 0.1667 - val_loss: 1.7918 - val_acc: 0.1667\n",
      "Epoch 68/300\n",
      "1080/1080 [==============================] - 0s 158us/step - loss: 1.7918 - acc: 0.1667 - val_loss: 1.7918 - val_acc: 0.1667\n",
      "Epoch 69/300\n",
      "1080/1080 [==============================] - 0s 155us/step - loss: 1.7918 - acc: 0.1667 - val_loss: 1.7918 - val_acc: 0.1667\n",
      "Epoch 70/300\n",
      "1080/1080 [==============================] - 0s 167us/step - loss: 1.7918 - acc: 0.1667 - val_loss: 1.7918 - val_acc: 0.1667\n",
      "Epoch 71/300\n",
      "1080/1080 [==============================] - 0s 151us/step - loss: 1.7918 - acc: 0.1667 - val_loss: 1.7918 - val_acc: 0.1667\n",
      "Epoch 72/300\n",
      "1080/1080 [==============================] - 0s 157us/step - loss: 1.7918 - acc: 0.1667 - val_loss: 1.7918 - val_acc: 0.1667\n",
      "Epoch 73/300\n",
      "1080/1080 [==============================] - 0s 134us/step - loss: 1.7918 - acc: 0.1667 - val_loss: 1.7918 - val_acc: 0.1667\n",
      "Epoch 74/300\n",
      "1080/1080 [==============================] - 0s 174us/step - loss: 1.7918 - acc: 0.1667 - val_loss: 1.7918 - val_acc: 0.1667\n",
      "Epoch 75/300\n",
      "1080/1080 [==============================] - 0s 147us/step - loss: 1.7918 - acc: 0.1667 - val_loss: 1.7918 - val_acc: 0.1667\n",
      "Epoch 76/300\n",
      "1080/1080 [==============================] - 0s 157us/step - loss: 1.7918 - acc: 0.1667 - val_loss: 1.7918 - val_acc: 0.1667\n",
      "Epoch 77/300\n",
      "1080/1080 [==============================] - 0s 163us/step - loss: 1.7918 - acc: 0.1667 - val_loss: 1.7918 - val_acc: 0.1667\n",
      "Epoch 78/300\n",
      "1080/1080 [==============================] - 0s 155us/step - loss: 1.7918 - acc: 0.1667 - val_loss: 1.7918 - val_acc: 0.1667\n",
      "Epoch 79/300\n",
      "1080/1080 [==============================] - 0s 153us/step - loss: 1.7918 - acc: 0.1667 - val_loss: 1.7918 - val_acc: 0.1667\n",
      "Epoch 80/300\n",
      "1080/1080 [==============================] - 0s 174us/step - loss: 1.7918 - acc: 0.1667 - val_loss: 1.7918 - val_acc: 0.1667\n",
      "Epoch 81/300\n",
      "1080/1080 [==============================] - 0s 184us/step - loss: 1.7918 - acc: 0.1667 - val_loss: 1.7918 - val_acc: 0.1667\n",
      "Epoch 82/300\n",
      "1080/1080 [==============================] - 0s 146us/step - loss: 1.7918 - acc: 0.1667 - val_loss: 1.7918 - val_acc: 0.1667\n",
      "Epoch 83/300\n",
      "1080/1080 [==============================] - 0s 164us/step - loss: 1.7918 - acc: 0.1667 - val_loss: 1.7918 - val_acc: 0.1667\n",
      "Epoch 84/300\n",
      "1080/1080 [==============================] - 0s 151us/step - loss: 1.7918 - acc: 0.1667 - val_loss: 1.7918 - val_acc: 0.1667\n",
      "Epoch 85/300\n",
      "1080/1080 [==============================] - 0s 181us/step - loss: 1.7918 - acc: 0.1667 - val_loss: 1.7918 - val_acc: 0.1667\n",
      "Epoch 86/300\n",
      "1080/1080 [==============================] - 0s 166us/step - loss: 1.7918 - acc: 0.1667 - val_loss: 1.7918 - val_acc: 0.1667\n",
      "Epoch 87/300\n",
      "1080/1080 [==============================] - 0s 134us/step - loss: 1.7918 - acc: 0.1667 - val_loss: 1.7918 - val_acc: 0.1667\n",
      "Epoch 88/300\n",
      "1080/1080 [==============================] - 0s 164us/step - loss: 1.7918 - acc: 0.1667 - val_loss: 1.7918 - val_acc: 0.1667\n",
      "Epoch 89/300\n",
      "1080/1080 [==============================] - 0s 151us/step - loss: 1.7918 - acc: 0.1667 - val_loss: 1.7918 - val_acc: 0.1667\n",
      "Epoch 90/300\n",
      "1080/1080 [==============================] - 0s 179us/step - loss: 1.7918 - acc: 0.1667 - val_loss: 1.7918 - val_acc: 0.1667\n",
      "Epoch 91/300\n",
      "1080/1080 [==============================] - 0s 148us/step - loss: 1.7918 - acc: 0.1667 - val_loss: 1.7918 - val_acc: 0.1667\n",
      "Epoch 92/300\n",
      "1080/1080 [==============================] - 0s 154us/step - loss: 1.7918 - acc: 0.1667 - val_loss: 1.7918 - val_acc: 0.1667\n",
      "Epoch 93/300\n",
      "1080/1080 [==============================] - 0s 171us/step - loss: 1.7918 - acc: 0.1667 - val_loss: 1.7918 - val_acc: 0.1667\n",
      "Epoch 94/300\n",
      "1080/1080 [==============================] - 0s 156us/step - loss: 1.7918 - acc: 0.1667 - val_loss: 1.7918 - val_acc: 0.1667\n",
      "Epoch 95/300\n",
      "1080/1080 [==============================] - 0s 157us/step - loss: 1.7918 - acc: 0.1667 - val_loss: 1.7918 - val_acc: 0.1667\n",
      "Epoch 96/300\n",
      "1080/1080 [==============================] - 0s 155us/step - loss: 1.7918 - acc: 0.1667 - val_loss: 1.7918 - val_acc: 0.1667\n",
      "Epoch 97/300\n",
      "1080/1080 [==============================] - 0s 167us/step - loss: 1.7918 - acc: 0.1667 - val_loss: 1.7918 - val_acc: 0.1667\n",
      "Epoch 98/300\n",
      "1080/1080 [==============================] - 0s 171us/step - loss: 1.7918 - acc: 0.1667 - val_loss: 1.7918 - val_acc: 0.1667\n",
      "Epoch 99/300\n",
      "1080/1080 [==============================] - 0s 152us/step - loss: 1.7918 - acc: 0.1667 - val_loss: 1.7918 - val_acc: 0.1667\n",
      "Epoch 100/300\n",
      "1080/1080 [==============================] - 0s 161us/step - loss: 1.7918 - acc: 0.1667 - val_loss: 1.7918 - val_acc: 0.1667\n",
      "Epoch 101/300\n",
      "1080/1080 [==============================] - 0s 172us/step - loss: 1.7918 - acc: 0.1667 - val_loss: 1.7918 - val_acc: 0.1667\n",
      "Epoch 102/300\n",
      "1080/1080 [==============================] - 0s 131us/step - loss: 1.7918 - acc: 0.1667 - val_loss: 1.7918 - val_acc: 0.1667\n",
      "Epoch 103/300\n",
      "1080/1080 [==============================] - 0s 161us/step - loss: 1.7918 - acc: 0.1667 - val_loss: 1.7918 - val_acc: 0.1667\n",
      "Epoch 104/300\n",
      "1080/1080 [==============================] - 0s 169us/step - loss: 1.7918 - acc: 0.1667 - val_loss: 1.7918 - val_acc: 0.1667\n",
      "Epoch 105/300\n",
      "1080/1080 [==============================] - 0s 171us/step - loss: 1.7918 - acc: 0.1667 - val_loss: 1.7918 - val_acc: 0.1667\n",
      "Epoch 106/300\n",
      "1080/1080 [==============================] - 0s 148us/step - loss: 1.7918 - acc: 0.1667 - val_loss: 1.7918 - val_acc: 0.1667\n",
      "Epoch 107/300\n",
      "1080/1080 [==============================] - 0s 154us/step - loss: 1.7918 - acc: 0.1667 - val_loss: 1.7918 - val_acc: 0.1667\n",
      "Epoch 108/300\n",
      "1080/1080 [==============================] - 0s 164us/step - loss: 1.7918 - acc: 0.1667 - val_loss: 1.7918 - val_acc: 0.1667\n",
      "Epoch 109/300\n",
      "1080/1080 [==============================] - 0s 159us/step - loss: 1.7918 - acc: 0.1667 - val_loss: 1.7918 - val_acc: 0.1667\n",
      "Epoch 110/300\n",
      "1080/1080 [==============================] - 0s 153us/step - loss: 1.7918 - acc: 0.1667 - val_loss: 1.7918 - val_acc: 0.1667\n",
      "Epoch 111/300\n",
      "1080/1080 [==============================] - 0s 164us/step - loss: 1.7918 - acc: 0.1667 - val_loss: 1.7918 - val_acc: 0.1667\n",
      "Epoch 112/300\n",
      "1080/1080 [==============================] - 0s 160us/step - loss: 1.7918 - acc: 0.1667 - val_loss: 1.7918 - val_acc: 0.1667\n",
      "Epoch 113/300\n",
      "1080/1080 [==============================] - 0s 184us/step - loss: 1.7918 - acc: 0.1667 - val_loss: 1.7918 - val_acc: 0.1667\n",
      "Epoch 114/300\n",
      "1080/1080 [==============================] - 0s 149us/step - loss: 1.7918 - acc: 0.1667 - val_loss: 1.7918 - val_acc: 0.1667\n",
      "Epoch 115/300\n",
      "1080/1080 [==============================] - 0s 193us/step - loss: 1.7918 - acc: 0.1667 - val_loss: 1.7918 - val_acc: 0.1667\n",
      "Epoch 116/300\n",
      "1080/1080 [==============================] - 0s 200us/step - loss: 1.7918 - acc: 0.1667 - val_loss: 1.7918 - val_acc: 0.1667\n",
      "Epoch 117/300\n",
      "1080/1080 [==============================] - 0s 200us/step - loss: 1.7918 - acc: 0.1667 - val_loss: 1.7918 - val_acc: 0.1667\n",
      "Epoch 118/300\n",
      "1080/1080 [==============================] - 0s 191us/step - loss: 1.7918 - acc: 0.1667 - val_loss: 1.7918 - val_acc: 0.1667\n",
      "Epoch 119/300\n"
     ]
    },
    {
     "name": "stdout",
     "output_type": "stream",
     "text": [
      "1080/1080 [==============================] - 0s 154us/step - loss: 1.7918 - acc: 0.1667 - val_loss: 1.7918 - val_acc: 0.1667\n",
      "Epoch 120/300\n",
      "1080/1080 [==============================] - 0s 149us/step - loss: 1.7918 - acc: 0.1667 - val_loss: 1.7918 - val_acc: 0.1667\n",
      "Epoch 121/300\n",
      "1080/1080 [==============================] - 0s 163us/step - loss: 1.7918 - acc: 0.1667 - val_loss: 1.7918 - val_acc: 0.1667\n",
      "Epoch 122/300\n",
      "1080/1080 [==============================] - 0s 165us/step - loss: 1.7918 - acc: 0.1667 - val_loss: 1.7918 - val_acc: 0.1667\n",
      "Epoch 123/300\n",
      "1080/1080 [==============================] - 0s 168us/step - loss: 1.7918 - acc: 0.1667 - val_loss: 1.7918 - val_acc: 0.1667\n",
      "Epoch 124/300\n",
      "1080/1080 [==============================] - 0s 163us/step - loss: 1.7918 - acc: 0.1667 - val_loss: 1.7918 - val_acc: 0.1667\n",
      "Epoch 125/300\n",
      "1080/1080 [==============================] - 0s 159us/step - loss: 1.7918 - acc: 0.1667 - val_loss: 1.7918 - val_acc: 0.1667\n",
      "Epoch 126/300\n",
      "1080/1080 [==============================] - 0s 150us/step - loss: 1.7918 - acc: 0.1667 - val_loss: 1.7918 - val_acc: 0.1667\n",
      "Epoch 127/300\n",
      "1080/1080 [==============================] - 0s 159us/step - loss: 1.7918 - acc: 0.1667 - val_loss: 1.7918 - val_acc: 0.1667\n",
      "Epoch 128/300\n",
      "1080/1080 [==============================] - 0s 145us/step - loss: 1.7918 - acc: 0.1667 - val_loss: 1.7918 - val_acc: 0.1667\n",
      "Epoch 129/300\n",
      "1080/1080 [==============================] - 0s 138us/step - loss: 1.7918 - acc: 0.1667 - val_loss: 1.7918 - val_acc: 0.1667\n",
      "Epoch 130/300\n",
      "1080/1080 [==============================] - 0s 180us/step - loss: 1.7918 - acc: 0.1667 - val_loss: 1.7918 - val_acc: 0.1667\n",
      "Epoch 131/300\n",
      "1080/1080 [==============================] - 0s 184us/step - loss: 1.7918 - acc: 0.1528 - val_loss: 1.7918 - val_acc: 0.1667\n",
      "Epoch 132/300\n",
      "1080/1080 [==============================] - 0s 146us/step - loss: 1.7918 - acc: 0.1546 - val_loss: 1.7918 - val_acc: 0.1667\n",
      "Epoch 133/300\n",
      "1080/1080 [==============================] - 0s 165us/step - loss: 1.7918 - acc: 0.1630 - val_loss: 1.7918 - val_acc: 0.1667\n",
      "Epoch 134/300\n",
      "1080/1080 [==============================] - 0s 150us/step - loss: 1.7918 - acc: 0.1491 - val_loss: 1.7918 - val_acc: 0.1667\n",
      "Epoch 135/300\n",
      "1080/1080 [==============================] - 0s 146us/step - loss: 1.7918 - acc: 0.1611 - val_loss: 1.7918 - val_acc: 0.1667\n",
      "Epoch 136/300\n",
      "1080/1080 [==============================] - 0s 169us/step - loss: 1.7918 - acc: 0.1537 - val_loss: 1.7918 - val_acc: 0.1667\n",
      "Epoch 137/300\n",
      "1080/1080 [==============================] - 0s 168us/step - loss: 1.7918 - acc: 0.1685 - val_loss: 1.7918 - val_acc: 0.1667\n",
      "Epoch 138/300\n",
      "1080/1080 [==============================] - 0s 160us/step - loss: 1.7918 - acc: 0.1519 - val_loss: 1.7918 - val_acc: 0.1667\n",
      "Epoch 139/300\n",
      "1080/1080 [==============================] - 0s 153us/step - loss: 1.7918 - acc: 0.1574 - val_loss: 1.7918 - val_acc: 0.1667\n",
      "Epoch 140/300\n",
      "1080/1080 [==============================] - 0s 147us/step - loss: 1.7918 - acc: 0.1667 - val_loss: 1.7918 - val_acc: 0.1667\n",
      "Epoch 141/300\n",
      "1080/1080 [==============================] - 0s 177us/step - loss: 1.7918 - acc: 0.1667 - val_loss: 1.7918 - val_acc: 0.1667\n",
      "Epoch 142/300\n",
      "1080/1080 [==============================] - 0s 149us/step - loss: 1.7918 - acc: 0.1537 - val_loss: 1.7918 - val_acc: 0.1667\n",
      "Epoch 143/300\n",
      "1080/1080 [==============================] - 0s 152us/step - loss: 1.7918 - acc: 0.1574 - val_loss: 1.7918 - val_acc: 0.1667\n",
      "Epoch 144/300\n",
      "1080/1080 [==============================] - 0s 165us/step - loss: 1.7918 - acc: 0.1602 - val_loss: 1.7918 - val_acc: 0.1667\n",
      "Epoch 145/300\n",
      "1080/1080 [==============================] - 0s 166us/step - loss: 1.7918 - acc: 0.1667 - val_loss: 1.7918 - val_acc: 0.1667\n",
      "Epoch 146/300\n",
      "1080/1080 [==============================] - 0s 153us/step - loss: 1.7918 - acc: 0.1667 - val_loss: 1.7918 - val_acc: 0.1667\n",
      "Epoch 147/300\n",
      "1080/1080 [==============================] - 0s 162us/step - loss: 1.7918 - acc: 0.1667 - val_loss: 1.7918 - val_acc: 0.1667\n",
      "Epoch 148/300\n",
      "1080/1080 [==============================] - 0s 151us/step - loss: 1.7918 - acc: 0.1667 - val_loss: 1.7918 - val_acc: 0.1667\n",
      "Epoch 149/300\n",
      "1080/1080 [==============================] - 0s 160us/step - loss: 1.7918 - acc: 0.1556 - val_loss: 1.7918 - val_acc: 0.1667\n",
      "Epoch 150/300\n",
      "1080/1080 [==============================] - 0s 161us/step - loss: 1.7918 - acc: 0.1667 - val_loss: 1.7918 - val_acc: 0.1667\n",
      "Epoch 151/300\n",
      "1080/1080 [==============================] - 0s 157us/step - loss: 1.7918 - acc: 0.1667 - val_loss: 1.7918 - val_acc: 0.1667\n",
      "Epoch 152/300\n",
      "1080/1080 [==============================] - 0s 162us/step - loss: 1.7918 - acc: 0.1546 - val_loss: 1.7918 - val_acc: 0.1667\n",
      "Epoch 153/300\n",
      "1080/1080 [==============================] - 0s 161us/step - loss: 1.7918 - acc: 0.1667 - val_loss: 1.7918 - val_acc: 0.1667\n",
      "Epoch 154/300\n",
      "1080/1080 [==============================] - 0s 171us/step - loss: 1.7918 - acc: 0.1444 - val_loss: 1.7918 - val_acc: 0.1667\n",
      "Epoch 155/300\n",
      "1080/1080 [==============================] - 0s 148us/step - loss: 1.7918 - acc: 0.1667 - val_loss: 1.7918 - val_acc: 0.1667\n",
      "Epoch 156/300\n",
      "1080/1080 [==============================] - 0s 173us/step - loss: 1.7918 - acc: 0.1667 - val_loss: 1.7918 - val_acc: 0.1667\n",
      "Epoch 157/300\n",
      "1080/1080 [==============================] - 0s 153us/step - loss: 1.7918 - acc: 0.1537 - val_loss: 1.7918 - val_acc: 0.1667\n",
      "Epoch 158/300\n",
      "1080/1080 [==============================] - 0s 162us/step - loss: 1.7918 - acc: 0.1639 - val_loss: 1.7918 - val_acc: 0.1667\n",
      "Epoch 159/300\n",
      "1080/1080 [==============================] - 0s 149us/step - loss: 1.7918 - acc: 0.1667 - val_loss: 1.7918 - val_acc: 0.1667\n",
      "Epoch 160/300\n",
      "1080/1080 [==============================] - 0s 169us/step - loss: 1.7918 - acc: 0.1667 - val_loss: 1.7918 - val_acc: 0.1667\n",
      "Epoch 161/300\n",
      "1080/1080 [==============================] - 0s 151us/step - loss: 1.7918 - acc: 0.1667 - val_loss: 1.7918 - val_acc: 0.1667\n",
      "Epoch 162/300\n",
      "1080/1080 [==============================] - 0s 160us/step - loss: 1.7918 - acc: 0.1667 - val_loss: 1.7918 - val_acc: 0.1667\n",
      "Epoch 163/300\n",
      "1080/1080 [==============================] - 0s 136us/step - loss: 1.7918 - acc: 0.1667 - val_loss: 1.7918 - val_acc: 0.1667\n",
      "Epoch 164/300\n",
      "1080/1080 [==============================] - 0s 181us/step - loss: 1.7918 - acc: 0.1667 - val_loss: 1.7918 - val_acc: 0.1667\n",
      "Epoch 165/300\n",
      "1080/1080 [==============================] - 0s 156us/step - loss: 1.7918 - acc: 0.1667 - val_loss: 1.7918 - val_acc: 0.1667\n",
      "Epoch 166/300\n",
      "1080/1080 [==============================] - 0s 162us/step - loss: 1.7918 - acc: 0.1667 - val_loss: 1.7918 - val_acc: 0.1667\n",
      "Epoch 167/300\n",
      "1080/1080 [==============================] - 0s 157us/step - loss: 1.7918 - acc: 0.1667 - val_loss: 1.7918 - val_acc: 0.1667\n",
      "Epoch 168/300\n",
      "1080/1080 [==============================] - 0s 168us/step - loss: 1.7918 - acc: 0.1667 - val_loss: 1.7918 - val_acc: 0.1667\n",
      "Epoch 169/300\n",
      "1080/1080 [==============================] - 0s 183us/step - loss: 1.7918 - acc: 0.1481 - val_loss: 1.7918 - val_acc: 0.1667\n",
      "Epoch 170/300\n",
      "1080/1080 [==============================] - 0s 191us/step - loss: 1.7918 - acc: 0.1593 - val_loss: 1.7918 - val_acc: 0.1667\n",
      "Epoch 171/300\n",
      "1080/1080 [==============================] - 0s 193us/step - loss: 1.7918 - acc: 0.1667 - val_loss: 1.7918 - val_acc: 0.1667\n",
      "Epoch 172/300\n",
      "1080/1080 [==============================] - 0s 201us/step - loss: 1.7918 - acc: 0.1667 - val_loss: 1.7918 - val_acc: 0.1667\n",
      "Epoch 173/300\n",
      "1080/1080 [==============================] - 0s 179us/step - loss: 1.7918 - acc: 0.1667 - val_loss: 1.7918 - val_acc: 0.1667\n",
      "Epoch 174/300\n",
      "1080/1080 [==============================] - 0s 195us/step - loss: 1.7918 - acc: 0.1667 - val_loss: 1.7918 - val_acc: 0.1667\n",
      "Epoch 175/300\n",
      "1080/1080 [==============================] - 0s 195us/step - loss: 1.7918 - acc: 0.1667 - val_loss: 1.7918 - val_acc: 0.1667\n",
      "Epoch 176/300\n",
      "1080/1080 [==============================] - 0s 197us/step - loss: 1.7918 - acc: 0.1667 - val_loss: 1.7918 - val_acc: 0.1667\n",
      "Epoch 177/300\n",
      "1080/1080 [==============================] - 0s 135us/step - loss: 1.7918 - acc: 0.1667 - val_loss: 1.7918 - val_acc: 0.1667\n",
      "Epoch 178/300\n"
     ]
    },
    {
     "name": "stdout",
     "output_type": "stream",
     "text": [
      "1080/1080 [==============================] - 0s 163us/step - loss: 1.7918 - acc: 0.1667 - val_loss: 1.7918 - val_acc: 0.1667\n",
      "Epoch 179/300\n",
      "1080/1080 [==============================] - 0s 149us/step - loss: 1.7918 - acc: 0.1667 - val_loss: 1.7918 - val_acc: 0.1667\n",
      "Epoch 180/300\n",
      "1080/1080 [==============================] - 0s 159us/step - loss: 1.7918 - acc: 0.1667 - val_loss: 1.7918 - val_acc: 0.1667\n",
      "Epoch 181/300\n",
      "1080/1080 [==============================] - 0s 162us/step - loss: 1.7918 - acc: 0.1463 - val_loss: 1.7918 - val_acc: 0.1667\n",
      "Epoch 182/300\n",
      "1080/1080 [==============================] - 0s 151us/step - loss: 1.7918 - acc: 0.1620 - val_loss: 1.7918 - val_acc: 0.1667\n",
      "Epoch 183/300\n",
      "1080/1080 [==============================] - 0s 133us/step - loss: 1.7918 - acc: 0.1667 - val_loss: 1.7918 - val_acc: 0.1667\n",
      "Epoch 184/300\n",
      "1080/1080 [==============================] - 0s 156us/step - loss: 1.7918 - acc: 0.1667 - val_loss: 1.7918 - val_acc: 0.1667\n",
      "Epoch 185/300\n",
      "1080/1080 [==============================] - 0s 160us/step - loss: 1.7918 - acc: 0.1519 - val_loss: 1.7918 - val_acc: 0.1667\n",
      "Epoch 186/300\n",
      "1080/1080 [==============================] - 0s 149us/step - loss: 1.7918 - acc: 0.1667 - val_loss: 1.7918 - val_acc: 0.1667\n",
      "Epoch 187/300\n",
      "1080/1080 [==============================] - 0s 160us/step - loss: 1.7918 - acc: 0.1667 - val_loss: 1.7918 - val_acc: 0.1667\n",
      "Epoch 188/300\n",
      "1080/1080 [==============================] - 0s 155us/step - loss: 1.7918 - acc: 0.1667 - val_loss: 1.7918 - val_acc: 0.1667\n",
      "Epoch 189/300\n",
      "1080/1080 [==============================] - 0s 158us/step - loss: 1.7918 - acc: 0.1667 - val_loss: 1.7918 - val_acc: 0.1667\n",
      "Epoch 190/300\n",
      "1080/1080 [==============================] - 0s 144us/step - loss: 1.7918 - acc: 0.1667 - val_loss: 1.7918 - val_acc: 0.1667\n",
      "Epoch 191/300\n",
      "1080/1080 [==============================] - 0s 157us/step - loss: 1.7918 - acc: 0.1667 - val_loss: 1.7918 - val_acc: 0.1667\n",
      "Epoch 192/300\n",
      "1080/1080 [==============================] - 0s 150us/step - loss: 1.7918 - acc: 0.1667 - val_loss: 1.7918 - val_acc: 0.1667\n",
      "Epoch 193/300\n",
      "1080/1080 [==============================] - 0s 181us/step - loss: 1.7918 - acc: 0.1630 - val_loss: 1.7918 - val_acc: 0.1667\n",
      "Epoch 194/300\n",
      "1080/1080 [==============================] - 0s 149us/step - loss: 1.7918 - acc: 0.1667 - val_loss: 1.7918 - val_acc: 0.1667\n",
      "Epoch 195/300\n",
      "1080/1080 [==============================] - 0s 161us/step - loss: 1.7918 - acc: 0.1630 - val_loss: 1.7918 - val_acc: 0.1667\n",
      "Epoch 196/300\n",
      "1080/1080 [==============================] - 0s 163us/step - loss: 1.7918 - acc: 0.1639 - val_loss: 1.7918 - val_acc: 0.1667\n",
      "Epoch 197/300\n",
      "1080/1080 [==============================] - 0s 153us/step - loss: 1.7918 - acc: 0.1574 - val_loss: 1.7918 - val_acc: 0.1667\n",
      "Epoch 198/300\n",
      "1080/1080 [==============================] - 0s 149us/step - loss: 1.7918 - acc: 0.1472 - val_loss: 1.7918 - val_acc: 0.1667\n",
      "Epoch 199/300\n",
      "1080/1080 [==============================] - 0s 145us/step - loss: 1.7918 - acc: 0.1481 - val_loss: 1.7918 - val_acc: 0.1667\n",
      "Epoch 200/300\n",
      "1080/1080 [==============================] - 0s 150us/step - loss: 1.7918 - acc: 0.1667 - val_loss: 1.7918 - val_acc: 0.1667\n",
      "Epoch 201/300\n",
      "1080/1080 [==============================] - 0s 165us/step - loss: 1.7918 - acc: 0.1611 - val_loss: 1.7918 - val_acc: 0.1667\n",
      "Epoch 202/300\n",
      "1080/1080 [==============================] - 0s 140us/step - loss: 1.7918 - acc: 0.1667 - val_loss: 1.7918 - val_acc: 0.1667\n",
      "Epoch 203/300\n",
      "1080/1080 [==============================] - 0s 168us/step - loss: 1.7918 - acc: 0.1667 - val_loss: 1.7918 - val_acc: 0.1667\n",
      "Epoch 204/300\n",
      "1080/1080 [==============================] - 0s 193us/step - loss: 1.7918 - acc: 0.1667 - val_loss: 1.7918 - val_acc: 0.1667\n",
      "Epoch 205/300\n",
      "1080/1080 [==============================] - 0s 145us/step - loss: 1.7918 - acc: 0.1667 - val_loss: 1.7918 - val_acc: 0.1667\n",
      "Epoch 206/300\n",
      "1080/1080 [==============================] - 0s 181us/step - loss: 1.7918 - acc: 0.1667 - val_loss: 1.7918 - val_acc: 0.1667\n",
      "Epoch 207/300\n",
      "1080/1080 [==============================] - 0s 160us/step - loss: 1.7918 - acc: 0.1667 - val_loss: 1.7918 - val_acc: 0.1667\n",
      "Epoch 208/300\n",
      "1080/1080 [==============================] - 0s 151us/step - loss: 1.7918 - acc: 0.1667 - val_loss: 1.7918 - val_acc: 0.1667\n",
      "Epoch 209/300\n",
      "1080/1080 [==============================] - 0s 173us/step - loss: 1.7918 - acc: 0.1602 - val_loss: 1.7918 - val_acc: 0.1667\n",
      "Epoch 210/300\n",
      "1080/1080 [==============================] - 0s 182us/step - loss: 1.7918 - acc: 0.1630 - val_loss: 1.7918 - val_acc: 0.1667\n",
      "Epoch 211/300\n",
      "1080/1080 [==============================] - ETA: 0s - loss: 1.7918 - acc: 0.169 - 0s 183us/step - loss: 1.7918 - acc: 0.1667 - val_loss: 1.7918 - val_acc: 0.1667\n",
      "Epoch 212/300\n",
      "1080/1080 [==============================] - 0s 163us/step - loss: 1.7918 - acc: 0.1667 - val_loss: 1.7918 - val_acc: 0.1667\n",
      "Epoch 213/300\n",
      "1080/1080 [==============================] - 0s 168us/step - loss: 1.7918 - acc: 0.1509 - val_loss: 1.7918 - val_acc: 0.1667\n",
      "Epoch 214/300\n",
      "1080/1080 [==============================] - 0s 160us/step - loss: 1.7918 - acc: 0.1667 - val_loss: 1.7918 - val_acc: 0.1667\n",
      "Epoch 215/300\n",
      "1080/1080 [==============================] - 0s 143us/step - loss: 1.7918 - acc: 0.1667 - val_loss: 1.7918 - val_acc: 0.1667\n",
      "Epoch 216/300\n",
      "1080/1080 [==============================] - 0s 167us/step - loss: 1.7918 - acc: 0.1667 - val_loss: 1.7918 - val_acc: 0.1667\n",
      "Epoch 217/300\n",
      "1080/1080 [==============================] - 0s 142us/step - loss: 1.7918 - acc: 0.1667 - val_loss: 1.7918 - val_acc: 0.1667\n",
      "Epoch 218/300\n",
      "1080/1080 [==============================] - 0s 170us/step - loss: 1.7918 - acc: 0.1667 - val_loss: 1.7918 - val_acc: 0.1667\n",
      "Epoch 219/300\n",
      "1080/1080 [==============================] - 0s 164us/step - loss: 1.7918 - acc: 0.1667 - val_loss: 1.7918 - val_acc: 0.1667\n",
      "Epoch 220/300\n",
      "1080/1080 [==============================] - 0s 156us/step - loss: 1.7918 - acc: 0.1667 - val_loss: 1.7918 - val_acc: 0.1667\n",
      "Epoch 221/300\n",
      "1080/1080 [==============================] - 0s 173us/step - loss: 1.7918 - acc: 0.1667 - val_loss: 1.7918 - val_acc: 0.1667\n",
      "Epoch 222/300\n",
      "1080/1080 [==============================] - 0s 143us/step - loss: 1.7918 - acc: 0.1667 - val_loss: 1.7918 - val_acc: 0.1667\n",
      "Epoch 223/300\n",
      "1080/1080 [==============================] - 0s 181us/step - loss: 1.7918 - acc: 0.1667 - val_loss: 1.7918 - val_acc: 0.1667\n",
      "Epoch 224/300\n",
      "1080/1080 [==============================] - 0s 184us/step - loss: 1.7918 - acc: 0.1667 - val_loss: 1.7918 - val_acc: 0.1667\n",
      "Epoch 225/300\n",
      "1080/1080 [==============================] - 0s 169us/step - loss: 1.7918 - acc: 0.1667 - val_loss: 1.7918 - val_acc: 0.1667\n",
      "Epoch 226/300\n",
      "1080/1080 [==============================] - 0s 176us/step - loss: 1.7918 - acc: 0.1667 - val_loss: 1.7918 - val_acc: 0.1667\n",
      "Epoch 227/300\n",
      "1080/1080 [==============================] - 0s 167us/step - loss: 1.7918 - acc: 0.1667 - val_loss: 1.7918 - val_acc: 0.1667\n",
      "Epoch 228/300\n",
      "1080/1080 [==============================] - 0s 170us/step - loss: 1.7918 - acc: 0.1667 - val_loss: 1.7918 - val_acc: 0.1667\n",
      "Epoch 229/300\n",
      "1080/1080 [==============================] - 0s 153us/step - loss: 1.7918 - acc: 0.1667 - val_loss: 1.7918 - val_acc: 0.1667\n",
      "Epoch 230/300\n",
      "1080/1080 [==============================] - 0s 172us/step - loss: 1.7918 - acc: 0.1667 - val_loss: 1.7918 - val_acc: 0.1667\n",
      "Epoch 231/300\n",
      "1080/1080 [==============================] - 0s 175us/step - loss: 1.7918 - acc: 0.1667 - val_loss: 1.7918 - val_acc: 0.1667\n",
      "Epoch 232/300\n",
      "1080/1080 [==============================] - 0s 354us/step - loss: 1.7918 - acc: 0.1667 - val_loss: 1.7918 - val_acc: 0.1667\n",
      "Epoch 233/300\n",
      "1080/1080 [==============================] - 0s 419us/step - loss: 1.7918 - acc: 0.1667 - val_loss: 1.7918 - val_acc: 0.1667\n",
      "Epoch 234/300\n",
      "1080/1080 [==============================] - 0s 397us/step - loss: 1.7918 - acc: 0.1667 - val_loss: 1.7918 - val_acc: 0.1667\n",
      "Epoch 235/300\n",
      "1080/1080 [==============================] - 0s 140us/step - loss: 1.7918 - acc: 0.1667 - val_loss: 1.7918 - val_acc: 0.1667\n",
      "Epoch 236/300\n",
      "1080/1080 [==============================] - 0s 173us/step - loss: 1.7918 - acc: 0.1667 - val_loss: 1.7918 - val_acc: 0.1667\n"
     ]
    },
    {
     "name": "stdout",
     "output_type": "stream",
     "text": [
      "Epoch 237/300\n",
      "1080/1080 [==============================] - 0s 153us/step - loss: 1.7918 - acc: 0.1667 - val_loss: 1.7918 - val_acc: 0.1667\n",
      "Epoch 238/300\n",
      "1080/1080 [==============================] - 0s 111us/step - loss: 1.7918 - acc: 0.1667 - val_loss: 1.7918 - val_acc: 0.1667\n",
      "Epoch 239/300\n",
      "1080/1080 [==============================] - 0s 113us/step - loss: 1.7918 - acc: 0.1667 - val_loss: 1.7918 - val_acc: 0.1667\n",
      "Epoch 240/300\n",
      "1080/1080 [==============================] - 0s 108us/step - loss: 1.7918 - acc: 0.1667 - val_loss: 1.7918 - val_acc: 0.1667\n",
      "Epoch 241/300\n",
      "1080/1080 [==============================] - 0s 120us/step - loss: 1.7918 - acc: 0.1667 - val_loss: 1.7918 - val_acc: 0.1667\n",
      "Epoch 242/300\n",
      "1080/1080 [==============================] - 0s 129us/step - loss: 1.7918 - acc: 0.1667 - val_loss: 1.7918 - val_acc: 0.1667\n",
      "Epoch 243/300\n",
      "1080/1080 [==============================] - 0s 128us/step - loss: 1.7918 - acc: 0.1667 - val_loss: 1.7918 - val_acc: 0.1667\n",
      "Epoch 244/300\n",
      "1080/1080 [==============================] - 0s 109us/step - loss: 1.7918 - acc: 0.1574 - val_loss: 1.7918 - val_acc: 0.1667\n",
      "Epoch 245/300\n",
      "1080/1080 [==============================] - 0s 111us/step - loss: 1.7918 - acc: 0.1611 - val_loss: 1.7918 - val_acc: 0.1667\n",
      "Epoch 246/300\n",
      "1080/1080 [==============================] - 0s 111us/step - loss: 1.7918 - acc: 0.1667 - val_loss: 1.7918 - val_acc: 0.1667\n",
      "Epoch 247/300\n",
      "1080/1080 [==============================] - 0s 113us/step - loss: 1.7918 - acc: 0.1583 - val_loss: 1.7918 - val_acc: 0.1667\n",
      "Epoch 248/300\n",
      "1080/1080 [==============================] - 0s 110us/step - loss: 1.7918 - acc: 0.1667 - val_loss: 1.7918 - val_acc: 0.1667\n",
      "Epoch 249/300\n",
      "1080/1080 [==============================] - 0s 121us/step - loss: 1.7918 - acc: 0.1667 - val_loss: 1.7918 - val_acc: 0.1667\n",
      "Epoch 250/300\n",
      "1080/1080 [==============================] - 0s 138us/step - loss: 1.7918 - acc: 0.1667 - val_loss: 1.7918 - val_acc: 0.1667\n",
      "Epoch 251/300\n",
      "1080/1080 [==============================] - 0s 108us/step - loss: 1.7918 - acc: 0.1667 - val_loss: 1.7918 - val_acc: 0.1667\n",
      "Epoch 252/300\n",
      "1080/1080 [==============================] - 0s 109us/step - loss: 1.7918 - acc: 0.1546 - val_loss: 1.7918 - val_acc: 0.1667\n",
      "Epoch 253/300\n",
      "1080/1080 [==============================] - 0s 108us/step - loss: 1.7918 - acc: 0.1657 - val_loss: 1.7918 - val_acc: 0.1667\n",
      "Epoch 254/300\n",
      "1080/1080 [==============================] - 0s 106us/step - loss: 1.7918 - acc: 0.1537 - val_loss: 1.7918 - val_acc: 0.1667\n",
      "Epoch 255/300\n",
      "1080/1080 [==============================] - 0s 115us/step - loss: 1.7918 - acc: 0.1667 - val_loss: 1.7918 - val_acc: 0.1667\n",
      "Epoch 256/300\n",
      "1080/1080 [==============================] - 0s 115us/step - loss: 1.7918 - acc: 0.1667 - val_loss: 1.7918 - val_acc: 0.1667\n",
      "Epoch 257/300\n",
      "1080/1080 [==============================] - 0s 108us/step - loss: 1.7918 - acc: 0.1667 - val_loss: 1.7918 - val_acc: 0.1667\n",
      "Epoch 258/300\n",
      "1080/1080 [==============================] - 0s 108us/step - loss: 1.7918 - acc: 0.1667 - val_loss: 1.7918 - val_acc: 0.1667\n",
      "Epoch 259/300\n",
      "1080/1080 [==============================] - 0s 118us/step - loss: 1.7918 - acc: 0.1667 - val_loss: 1.7918 - val_acc: 0.1667\n",
      "Epoch 260/300\n",
      "1080/1080 [==============================] - 0s 140us/step - loss: 1.7918 - acc: 0.1667 - val_loss: 1.7918 - val_acc: 0.1667\n",
      "Epoch 261/300\n",
      "1080/1080 [==============================] - 0s 178us/step - loss: 1.7918 - acc: 0.1667 - val_loss: 1.7918 - val_acc: 0.1667\n",
      "Epoch 262/300\n",
      "1080/1080 [==============================] - 0s 361us/step - loss: 1.7918 - acc: 0.1667 - val_loss: 1.7918 - val_acc: 0.1667\n",
      "Epoch 263/300\n",
      "1080/1080 [==============================] - 0s 157us/step - loss: 1.7918 - acc: 0.1667 - val_loss: 1.7918 - val_acc: 0.1667\n",
      "Epoch 264/300\n",
      "1080/1080 [==============================] - 0s 163us/step - loss: 1.7918 - acc: 0.1667 - val_loss: 1.7918 - val_acc: 0.1667\n",
      "Epoch 265/300\n",
      "1080/1080 [==============================] - 0s 119us/step - loss: 1.7918 - acc: 0.1472 - val_loss: 1.7918 - val_acc: 0.1667\n",
      "Epoch 266/300\n",
      "1080/1080 [==============================] - 0s 116us/step - loss: 1.7918 - acc: 0.1667 - val_loss: 1.7918 - val_acc: 0.1667\n",
      "Epoch 267/300\n",
      "1080/1080 [==============================] - 0s 109us/step - loss: 1.7918 - acc: 0.1435 - val_loss: 1.7918 - val_acc: 0.1667\n",
      "Epoch 268/300\n",
      "1080/1080 [==============================] - 0s 109us/step - loss: 1.7918 - acc: 0.1611 - val_loss: 1.7918 - val_acc: 0.1667\n",
      "Epoch 269/300\n",
      "1080/1080 [==============================] - 0s 108us/step - loss: 1.7918 - acc: 0.1500 - val_loss: 1.7918 - val_acc: 0.1667\n",
      "Epoch 270/300\n",
      "1080/1080 [==============================] - 0s 108us/step - loss: 1.7918 - acc: 0.1667 - val_loss: 1.7918 - val_acc: 0.1667\n",
      "Epoch 271/300\n",
      "1080/1080 [==============================] - 0s 107us/step - loss: 1.7918 - acc: 0.1491 - val_loss: 1.7918 - val_acc: 0.1667\n",
      "Epoch 272/300\n",
      "1080/1080 [==============================] - 0s 115us/step - loss: 1.7918 - acc: 0.1694 - val_loss: 1.7918 - val_acc: 0.1667\n",
      "Epoch 273/300\n",
      "1080/1080 [==============================] - 0s 108us/step - loss: 1.7918 - acc: 0.1667 - val_loss: 1.7918 - val_acc: 0.1667\n",
      "Epoch 274/300\n",
      "1080/1080 [==============================] - 0s 111us/step - loss: 1.7918 - acc: 0.1667 - val_loss: 1.7918 - val_acc: 0.1667\n",
      "Epoch 275/300\n",
      "1080/1080 [==============================] - 0s 106us/step - loss: 1.7918 - acc: 0.1667 - val_loss: 1.7918 - val_acc: 0.1667\n",
      "Epoch 276/300\n",
      "1080/1080 [==============================] - 0s 106us/step - loss: 1.7918 - acc: 0.1667 - val_loss: 1.7918 - val_acc: 0.1667\n",
      "Epoch 277/300\n",
      "1080/1080 [==============================] - 0s 116us/step - loss: 1.7918 - acc: 0.1667 - val_loss: 1.7918 - val_acc: 0.1667\n",
      "Epoch 278/300\n",
      "1080/1080 [==============================] - 0s 110us/step - loss: 1.7918 - acc: 0.1667 - val_loss: 1.7918 - val_acc: 0.1667\n",
      "Epoch 279/300\n",
      "1080/1080 [==============================] - 0s 116us/step - loss: 1.7918 - acc: 0.1667 - val_loss: 1.7918 - val_acc: 0.1667\n",
      "Epoch 280/300\n",
      "1080/1080 [==============================] - 0s 114us/step - loss: 1.7918 - acc: 0.1667 - val_loss: 1.7918 - val_acc: 0.1667\n",
      "Epoch 281/300\n",
      "1080/1080 [==============================] - 0s 111us/step - loss: 1.7918 - acc: 0.1667 - val_loss: 1.7918 - val_acc: 0.1667\n",
      "Epoch 282/300\n",
      "1080/1080 [==============================] - 0s 124us/step - loss: 1.7918 - acc: 0.1667 - val_loss: 1.7918 - val_acc: 0.1667\n",
      "Epoch 283/300\n",
      "1080/1080 [==============================] - 0s 120us/step - loss: 1.7918 - acc: 0.1667 - val_loss: 1.7918 - val_acc: 0.1667\n",
      "Epoch 284/300\n",
      "1080/1080 [==============================] - 0s 119us/step - loss: 1.7918 - acc: 0.1667 - val_loss: 1.7918 - val_acc: 0.1667\n",
      "Epoch 285/300\n",
      "1080/1080 [==============================] - 0s 112us/step - loss: 1.7918 - acc: 0.1667 - val_loss: 1.7918 - val_acc: 0.1667\n",
      "Epoch 286/300\n",
      "1080/1080 [==============================] - 0s 115us/step - loss: 1.7918 - acc: 0.1667 - val_loss: 1.7918 - val_acc: 0.1667\n",
      "Epoch 287/300\n",
      "1080/1080 [==============================] - 0s 145us/step - loss: 1.7918 - acc: 0.1667 - val_loss: 1.7918 - val_acc: 0.1667\n",
      "Epoch 288/300\n",
      "1080/1080 [==============================] - 0s 119us/step - loss: 1.7918 - acc: 0.1667 - val_loss: 1.7918 - val_acc: 0.1667\n",
      "Epoch 289/300\n",
      "1080/1080 [==============================] - 0s 112us/step - loss: 1.7918 - acc: 0.1667 - val_loss: 1.7918 - val_acc: 0.1667\n",
      "Epoch 290/300\n",
      "1080/1080 [==============================] - 0s 118us/step - loss: 1.7918 - acc: 0.1667 - val_loss: 1.7918 - val_acc: 0.1667\n",
      "Epoch 291/300\n",
      "1080/1080 [==============================] - 0s 117us/step - loss: 1.7918 - acc: 0.1667 - val_loss: 1.7918 - val_acc: 0.1667\n",
      "Epoch 292/300\n",
      "1080/1080 [==============================] - 0s 122us/step - loss: 1.7918 - acc: 0.1667 - val_loss: 1.7918 - val_acc: 0.1667\n",
      "Epoch 293/300\n",
      "1080/1080 [==============================] - 0s 115us/step - loss: 1.7918 - acc: 0.1667 - val_loss: 1.7918 - val_acc: 0.1667\n",
      "Epoch 294/300\n",
      "1080/1080 [==============================] - 0s 109us/step - loss: 1.7918 - acc: 0.1667 - val_loss: 1.7918 - val_acc: 0.1667\n",
      "Epoch 295/300\n",
      "1080/1080 [==============================] - 0s 120us/step - loss: 1.7918 - acc: 0.1500 - val_loss: 1.7918 - val_acc: 0.1667\n"
     ]
    },
    {
     "name": "stdout",
     "output_type": "stream",
     "text": [
      "Epoch 296/300\n",
      "1080/1080 [==============================] - 0s 120us/step - loss: 1.7918 - acc: 0.1463 - val_loss: 1.7918 - val_acc: 0.1667\n",
      "Epoch 297/300\n",
      "1080/1080 [==============================] - 0s 122us/step - loss: 1.7918 - acc: 0.1407 - val_loss: 1.7918 - val_acc: 0.1667\n",
      "Epoch 298/300\n",
      "1080/1080 [==============================] - 0s 136us/step - loss: 1.7918 - acc: 0.1583 - val_loss: 1.7918 - val_acc: 0.1667\n",
      "Epoch 299/300\n",
      "1080/1080 [==============================] - 0s 137us/step - loss: 1.7918 - acc: 0.1667 - val_loss: 1.7918 - val_acc: 0.1667\n",
      "Epoch 300/300\n",
      "1080/1080 [==============================] - 0s 128us/step - loss: 1.7918 - acc: 0.1667 - val_loss: 1.7918 - val_acc: 0.1667\n",
      "1080/1080 [==============================] - 0s 71us/step\n"
     ]
    },
    {
     "data": {
      "text/plain": [
       "[1.7917595165747184, 0.16666666672185615]"
      ]
     },
     "execution_count": 12,
     "metadata": {},
     "output_type": "execute_result"
    },
    {
     "name": "stdout",
     "output_type": "stream",
     "text": [
      "120/120 [==============================] - 0s 90us/step\n"
     ]
    },
    {
     "data": {
      "text/plain": [
       "[1.7917594989140828, 0.16666666666666666]"
      ]
     },
     "execution_count": 12,
     "metadata": {},
     "output_type": "execute_result"
    },
    {
     "ename": "ValueError",
     "evalue": "Classification metrics can't handle a mix of multilabel-indicator and continuous-multioutput targets",
     "output_type": "error",
     "traceback": [
      "\u001b[0;31m---------------------------------------------------------------------------\u001b[0m",
      "\u001b[0;31mValueError\u001b[0m                                Traceback (most recent call last)",
      "\u001b[0;32m<ipython-input-12-d069c571e19c>\u001b[0m in \u001b[0;36m<module>\u001b[0;34m\u001b[0m\n\u001b[1;32m     10\u001b[0m \u001b[0mmodel\u001b[0m\u001b[0;34m.\u001b[0m\u001b[0mevaluate\u001b[0m\u001b[0;34m(\u001b[0m\u001b[0mx_test_pix\u001b[0m\u001b[0;34m,\u001b[0m \u001b[0monehotlabels_test\u001b[0m\u001b[0;34m)\u001b[0m\u001b[0;34m\u001b[0m\u001b[0;34m\u001b[0m\u001b[0m\n\u001b[1;32m     11\u001b[0m \u001b[0;34m\u001b[0m\u001b[0m\n\u001b[0;32m---> 12\u001b[0;31m \u001b[0mmetrics\u001b[0m\u001b[0;34m.\u001b[0m\u001b[0mconfusion_matrix\u001b[0m\u001b[0;34m(\u001b[0m\u001b[0monehotlabels_train\u001b[0m\u001b[0;34m,\u001b[0m \u001b[0mtrain_pred\u001b[0m\u001b[0;34m)\u001b[0m\u001b[0;34m\u001b[0m\u001b[0;34m\u001b[0m\u001b[0m\n\u001b[0m\u001b[1;32m     13\u001b[0m \u001b[0mmetrics\u001b[0m\u001b[0;34m.\u001b[0m\u001b[0mconfusion_matrix\u001b[0m\u001b[0;34m(\u001b[0m\u001b[0monehotlabels_test\u001b[0m\u001b[0;34m,\u001b[0m \u001b[0mtest_pred\u001b[0m\u001b[0;34m)\u001b[0m\u001b[0;34m\u001b[0m\u001b[0;34m\u001b[0m\u001b[0m\n",
      "\u001b[0;32m/miniconda3/envs/tensorflow/lib/python3.6/site-packages/sklearn/metrics/classification.py\u001b[0m in \u001b[0;36mconfusion_matrix\u001b[0;34m(y_true, y_pred, labels, sample_weight)\u001b[0m\n\u001b[1;32m    251\u001b[0m \u001b[0;34m\u001b[0m\u001b[0m\n\u001b[1;32m    252\u001b[0m     \"\"\"\n\u001b[0;32m--> 253\u001b[0;31m     \u001b[0my_type\u001b[0m\u001b[0;34m,\u001b[0m \u001b[0my_true\u001b[0m\u001b[0;34m,\u001b[0m \u001b[0my_pred\u001b[0m \u001b[0;34m=\u001b[0m \u001b[0m_check_targets\u001b[0m\u001b[0;34m(\u001b[0m\u001b[0my_true\u001b[0m\u001b[0;34m,\u001b[0m \u001b[0my_pred\u001b[0m\u001b[0;34m)\u001b[0m\u001b[0;34m\u001b[0m\u001b[0;34m\u001b[0m\u001b[0m\n\u001b[0m\u001b[1;32m    254\u001b[0m     \u001b[0;32mif\u001b[0m \u001b[0my_type\u001b[0m \u001b[0;32mnot\u001b[0m \u001b[0;32min\u001b[0m \u001b[0;34m(\u001b[0m\u001b[0;34m\"binary\"\u001b[0m\u001b[0;34m,\u001b[0m \u001b[0;34m\"multiclass\"\u001b[0m\u001b[0;34m)\u001b[0m\u001b[0;34m:\u001b[0m\u001b[0;34m\u001b[0m\u001b[0;34m\u001b[0m\u001b[0m\n\u001b[1;32m    255\u001b[0m         \u001b[0;32mraise\u001b[0m \u001b[0mValueError\u001b[0m\u001b[0;34m(\u001b[0m\u001b[0;34m\"%s is not supported\"\u001b[0m \u001b[0;34m%\u001b[0m \u001b[0my_type\u001b[0m\u001b[0;34m)\u001b[0m\u001b[0;34m\u001b[0m\u001b[0;34m\u001b[0m\u001b[0m\n",
      "\u001b[0;32m/miniconda3/envs/tensorflow/lib/python3.6/site-packages/sklearn/metrics/classification.py\u001b[0m in \u001b[0;36m_check_targets\u001b[0;34m(y_true, y_pred)\u001b[0m\n\u001b[1;32m     79\u001b[0m     \u001b[0;32mif\u001b[0m \u001b[0mlen\u001b[0m\u001b[0;34m(\u001b[0m\u001b[0my_type\u001b[0m\u001b[0;34m)\u001b[0m \u001b[0;34m>\u001b[0m \u001b[0;36m1\u001b[0m\u001b[0;34m:\u001b[0m\u001b[0;34m\u001b[0m\u001b[0;34m\u001b[0m\u001b[0m\n\u001b[1;32m     80\u001b[0m         raise ValueError(\"Classification metrics can't handle a mix of {0} \"\n\u001b[0;32m---> 81\u001b[0;31m                          \"and {1} targets\".format(type_true, type_pred))\n\u001b[0m\u001b[1;32m     82\u001b[0m \u001b[0;34m\u001b[0m\u001b[0m\n\u001b[1;32m     83\u001b[0m     \u001b[0;31m# We can't have more than one value on y_type => The set is no more needed\u001b[0m\u001b[0;34m\u001b[0m\u001b[0;34m\u001b[0m\u001b[0;34m\u001b[0m\u001b[0m\n",
      "\u001b[0;31mValueError\u001b[0m: Classification metrics can't handle a mix of multilabel-indicator and continuous-multioutput targets"
     ]
    }
   ],
   "source": [
    "# Solve Here\n",
    "model.compile(loss='categorical_crossentropy', optimizer = keras.optimizers.Adam(lr=0.0001), metrics=['accuracy'])\n",
    "history = model.fit(x_train_pix, onehotlabels_train, epochs=300, batch_size=100, \\\n",
    "          validation_data=(x_test_pix, onehotlabels_test))\n",
    "\n",
    "train_pred = model.predict(x_train_pix)\n",
    "test_pred = model.predict(x_test_pix)\n",
    "\n",
    "model.evaluate(x_train_pix, onehotlabels_train)\n",
    "model.evaluate(x_test_pix, onehotlabels_test)\n",
    "\n",
    "metrics.confusion_matrix(onehotlabels_train, train_pred)\n",
    "metrics.confusion_matrix(onehotlabels_test, test_pred)"
   ]
  },
  {
   "cell_type": "code",
   "execution_count": 14,
   "metadata": {},
   "outputs": [
    {
     "data": {
      "text/plain": [
       "array([[0.16664983, 0.16673122, 0.16661283, 0.1666712 , 0.16664444,\n",
       "        0.16669054],\n",
       "       [0.16664983, 0.16673122, 0.16661283, 0.1666712 , 0.16664444,\n",
       "        0.16669054],\n",
       "       [0.16664983, 0.16673122, 0.16661283, 0.1666712 , 0.16664444,\n",
       "        0.16669054],\n",
       "       ...,\n",
       "       [0.16664983, 0.16673122, 0.16661283, 0.1666712 , 0.16664444,\n",
       "        0.16669054],\n",
       "       [0.16664983, 0.16673122, 0.16661283, 0.1666712 , 0.16664444,\n",
       "        0.16669054],\n",
       "       [0.16664983, 0.16673122, 0.16661283, 0.1666712 , 0.16664444,\n",
       "        0.16669054]], dtype=float32)"
      ]
     },
     "execution_count": 14,
     "metadata": {},
     "output_type": "execute_result"
    }
   ],
   "source": [
    "train_pred"
   ]
  },
  {
   "cell_type": "markdown",
   "metadata": {},
   "source": [
    "Build a new model and increase the number of layers and neurons .. maybe 7 or 8 layers with number of neurons between 200 and 1000. Do you see a difference in the accuracy?\n",
    "\n",
    "\n",
    "What is the training and validation accuracy and confusion matrix for both?"
   ]
  },
  {
   "cell_type": "code",
   "execution_count": 11,
   "metadata": {
    "scrolled": true
   },
   "outputs": [
    {
     "name": "stdout",
     "output_type": "stream",
     "text": [
      "Train on 1080 samples, validate on 120 samples\n",
      "Epoch 1/300\n",
      "1080/1080 [==============================] - 2s 2ms/step - loss: 1.8001 - acc: 0.1722 - val_loss: 1.7974 - val_acc: 0.1667\n",
      "Epoch 2/300\n",
      "1080/1080 [==============================] - 1s 1ms/step - loss: 1.7853 - acc: 0.2037 - val_loss: 1.7695 - val_acc: 0.1667\n",
      "Epoch 3/300\n",
      "1080/1080 [==============================] - 1s 1ms/step - loss: 1.7616 - acc: 0.2528 - val_loss: 1.7272 - val_acc: 0.2250\n",
      "Epoch 4/300\n",
      "1080/1080 [==============================] - 1s 1ms/step - loss: 1.7134 - acc: 0.2796 - val_loss: 1.6210 - val_acc: 0.3250\n",
      "Epoch 5/300\n",
      "1080/1080 [==============================] - 1s 1ms/step - loss: 1.6198 - acc: 0.3074 - val_loss: 1.5064 - val_acc: 0.3333\n",
      "Epoch 6/300\n",
      "1080/1080 [==============================] - 1s 1ms/step - loss: 1.5502 - acc: 0.3435 - val_loss: 1.4535 - val_acc: 0.4250\n",
      "Epoch 7/300\n",
      "1080/1080 [==============================] - 1s 1ms/step - loss: 1.4559 - acc: 0.4157 - val_loss: 1.3876 - val_acc: 0.3750\n",
      "Epoch 8/300\n",
      "1080/1080 [==============================] - 1s 1ms/step - loss: 1.3019 - acc: 0.4889 - val_loss: 1.2219 - val_acc: 0.4667\n",
      "Epoch 9/300\n",
      "1080/1080 [==============================] - 1s 1ms/step - loss: 1.2861 - acc: 0.4769 - val_loss: 1.1663 - val_acc: 0.5000\n",
      "Epoch 10/300\n",
      "1080/1080 [==============================] - 1s 1ms/step - loss: 1.1526 - acc: 0.5352 - val_loss: 1.1006 - val_acc: 0.5083\n",
      "Epoch 11/300\n",
      "1080/1080 [==============================] - 1s 1ms/step - loss: 1.0598 - acc: 0.5963 - val_loss: 1.1590 - val_acc: 0.4833\n",
      "Epoch 12/300\n",
      "1080/1080 [==============================] - 1s 1ms/step - loss: 1.0507 - acc: 0.5806 - val_loss: 1.0212 - val_acc: 0.5583\n",
      "Epoch 13/300\n",
      "1080/1080 [==============================] - 1s 1ms/step - loss: 1.0202 - acc: 0.5926 - val_loss: 1.1196 - val_acc: 0.5167\n",
      "Epoch 14/300\n",
      "1080/1080 [==============================] - 1s 1ms/step - loss: 0.9954 - acc: 0.5787 - val_loss: 0.9866 - val_acc: 0.5750\n",
      "Epoch 15/300\n",
      "1080/1080 [==============================] - 1s 1ms/step - loss: 0.9337 - acc: 0.6074 - val_loss: 0.9990 - val_acc: 0.5583\n",
      "Epoch 16/300\n",
      "1080/1080 [==============================] - 1s 1ms/step - loss: 0.8944 - acc: 0.6657 - val_loss: 0.9864 - val_acc: 0.6167\n",
      "Epoch 17/300\n",
      "1080/1080 [==============================] - 1s 1ms/step - loss: 0.8885 - acc: 0.6593 - val_loss: 0.9075 - val_acc: 0.5667\n",
      "Epoch 18/300\n",
      "1080/1080 [==============================] - 1s 1ms/step - loss: 0.9238 - acc: 0.6352 - val_loss: 0.9563 - val_acc: 0.6333\n",
      "Epoch 19/300\n",
      "1080/1080 [==============================] - 1s 1ms/step - loss: 0.8779 - acc: 0.6537 - val_loss: 0.9158 - val_acc: 0.6083\n",
      "Epoch 20/300\n",
      "1080/1080 [==============================] - 1s 1ms/step - loss: 0.8102 - acc: 0.6991 - val_loss: 0.9340 - val_acc: 0.6333\n",
      "Epoch 21/300\n",
      "1080/1080 [==============================] - 1s 1ms/step - loss: 0.7752 - acc: 0.7120 - val_loss: 0.8497 - val_acc: 0.6500\n",
      "Epoch 22/300\n",
      "1080/1080 [==============================] - 1s 1ms/step - loss: 0.7786 - acc: 0.7009 - val_loss: 0.8755 - val_acc: 0.6500\n",
      "Epoch 23/300\n",
      "1080/1080 [==============================] - 1s 1ms/step - loss: 0.7401 - acc: 0.7102 - val_loss: 0.8860 - val_acc: 0.6500\n",
      "Epoch 24/300\n",
      "1080/1080 [==============================] - 1s 1ms/step - loss: 0.7057 - acc: 0.7370 - val_loss: 0.7470 - val_acc: 0.6667\n",
      "Epoch 25/300\n",
      "1080/1080 [==============================] - 1s 1ms/step - loss: 0.6910 - acc: 0.7315 - val_loss: 0.9763 - val_acc: 0.6167\n",
      "Epoch 26/300\n",
      "1080/1080 [==============================] - 2s 1ms/step - loss: 0.7626 - acc: 0.6963 - val_loss: 0.9406 - val_acc: 0.6000\n",
      "Epoch 27/300\n",
      "1080/1080 [==============================] - 1s 1ms/step - loss: 0.7368 - acc: 0.7065 - val_loss: 0.7932 - val_acc: 0.6917\n",
      "Epoch 28/300\n",
      "1080/1080 [==============================] - 1s 1ms/step - loss: 0.6550 - acc: 0.7556 - val_loss: 0.7693 - val_acc: 0.6083\n",
      "Epoch 29/300\n",
      "1080/1080 [==============================] - 1s 1ms/step - loss: 0.6446 - acc: 0.7602 - val_loss: 0.7904 - val_acc: 0.6833\n",
      "Epoch 30/300\n",
      "1080/1080 [==============================] - 1s 1ms/step - loss: 0.5802 - acc: 0.8065 - val_loss: 0.6709 - val_acc: 0.7000\n",
      "Epoch 31/300\n",
      "1080/1080 [==============================] - 1s 1ms/step - loss: 0.5951 - acc: 0.7694 - val_loss: 0.7871 - val_acc: 0.7417\n",
      "Epoch 32/300\n",
      "1080/1080 [==============================] - 1s 1ms/step - loss: 0.6610 - acc: 0.7407 - val_loss: 0.7717 - val_acc: 0.6583\n",
      "Epoch 33/300\n",
      "1080/1080 [==============================] - 1s 1ms/step - loss: 0.6304 - acc: 0.7667 - val_loss: 0.7480 - val_acc: 0.7167\n",
      "Epoch 34/300\n",
      "1080/1080 [==============================] - 1s 1ms/step - loss: 0.5847 - acc: 0.7769 - val_loss: 0.8747 - val_acc: 0.6250\n",
      "Epoch 35/300\n",
      "1080/1080 [==============================] - 1s 1ms/step - loss: 0.5692 - acc: 0.7917 - val_loss: 0.7970 - val_acc: 0.6917\n",
      "Epoch 36/300\n",
      "1080/1080 [==============================] - 1s 1ms/step - loss: 0.5240 - acc: 0.8139 - val_loss: 0.6558 - val_acc: 0.7083\n",
      "Epoch 37/300\n",
      "1080/1080 [==============================] - 1s 1ms/step - loss: 0.5270 - acc: 0.8009 - val_loss: 0.9042 - val_acc: 0.6667\n",
      "Epoch 38/300\n",
      "1080/1080 [==============================] - 1s 1ms/step - loss: 0.5223 - acc: 0.7991 - val_loss: 0.6940 - val_acc: 0.7917\n",
      "Epoch 39/300\n",
      "1080/1080 [==============================] - 1s 1ms/step - loss: 0.5441 - acc: 0.7935 - val_loss: 0.7393 - val_acc: 0.7000\n",
      "Epoch 40/300\n",
      "1080/1080 [==============================] - 1s 1ms/step - loss: 0.5257 - acc: 0.8009 - val_loss: 0.6474 - val_acc: 0.8000\n",
      "Epoch 41/300\n",
      "1080/1080 [==============================] - 1s 1ms/step - loss: 0.4672 - acc: 0.8306 - val_loss: 0.7633 - val_acc: 0.7417\n",
      "Epoch 42/300\n",
      "1080/1080 [==============================] - 1s 1ms/step - loss: 0.4166 - acc: 0.8667 - val_loss: 0.5747 - val_acc: 0.7833\n",
      "Epoch 43/300\n",
      "1080/1080 [==============================] - 1s 1ms/step - loss: 0.4922 - acc: 0.8213 - val_loss: 0.6257 - val_acc: 0.7583\n",
      "Epoch 44/300\n",
      "1080/1080 [==============================] - 1s 1ms/step - loss: 0.4176 - acc: 0.8500 - val_loss: 0.5594 - val_acc: 0.7750\n",
      "Epoch 45/300\n",
      "1080/1080 [==============================] - 1s 1ms/step - loss: 0.3987 - acc: 0.8565 - val_loss: 0.5165 - val_acc: 0.8083\n",
      "Epoch 46/300\n",
      "1080/1080 [==============================] - 1s 1ms/step - loss: 0.3687 - acc: 0.8750 - val_loss: 0.5812 - val_acc: 0.7917\n",
      "Epoch 47/300\n",
      "1080/1080 [==============================] - 1s 1ms/step - loss: 0.3682 - acc: 0.8713 - val_loss: 0.5866 - val_acc: 0.8000\n",
      "Epoch 48/300\n",
      "1080/1080 [==============================] - 1s 1ms/step - loss: 0.3427 - acc: 0.8750 - val_loss: 0.5090 - val_acc: 0.8333\n",
      "Epoch 49/300\n",
      "1080/1080 [==============================] - 1s 1ms/step - loss: 0.3487 - acc: 0.8750 - val_loss: 0.5223 - val_acc: 0.7917\n",
      "Epoch 50/300\n",
      "1080/1080 [==============================] - 1s 1ms/step - loss: 0.2728 - acc: 0.9111 - val_loss: 0.4906 - val_acc: 0.8083\n",
      "Epoch 51/300\n",
      "1080/1080 [==============================] - 1s 1ms/step - loss: 0.2840 - acc: 0.9065 - val_loss: 0.4795 - val_acc: 0.8417\n",
      "Epoch 52/300\n",
      "1080/1080 [==============================] - 1s 1ms/step - loss: 0.2680 - acc: 0.9093 - val_loss: 0.5832 - val_acc: 0.7750\n",
      "Epoch 53/300\n",
      "1080/1080 [==============================] - 1s 1ms/step - loss: 0.3683 - acc: 0.8685 - val_loss: 0.7620 - val_acc: 0.7417\n",
      "Epoch 54/300\n",
      "1080/1080 [==============================] - 1s 1ms/step - loss: 0.3424 - acc: 0.8741 - val_loss: 0.6493 - val_acc: 0.7917\n",
      "Epoch 55/300\n",
      "1080/1080 [==============================] - 1s 1ms/step - loss: 0.4284 - acc: 0.8352 - val_loss: 0.7546 - val_acc: 0.7667\n",
      "Epoch 56/300\n",
      "1080/1080 [==============================] - 1s 1ms/step - loss: 0.3928 - acc: 0.8630 - val_loss: 0.6003 - val_acc: 0.8083\n",
      "Epoch 57/300\n",
      "1080/1080 [==============================] - 1s 1ms/step - loss: 0.2544 - acc: 0.9148 - val_loss: 0.5420 - val_acc: 0.7583\n",
      "Epoch 58/300\n",
      "1080/1080 [==============================] - 1s 1ms/step - loss: 0.3403 - acc: 0.8833 - val_loss: 0.6299 - val_acc: 0.7667\n",
      "Epoch 59/300\n",
      "1080/1080 [==============================] - 1s 1ms/step - loss: 0.4363 - acc: 0.8333 - val_loss: 0.5737 - val_acc: 0.7750\n",
      "Epoch 60/300\n",
      "1080/1080 [==============================] - 1s 1ms/step - loss: 0.3216 - acc: 0.8769 - val_loss: 0.4776 - val_acc: 0.8167\n"
     ]
    },
    {
     "name": "stdout",
     "output_type": "stream",
     "text": [
      "Epoch 61/300\n",
      "1080/1080 [==============================] - 1s 1ms/step - loss: 0.2783 - acc: 0.9028 - val_loss: 0.6648 - val_acc: 0.8000\n",
      "Epoch 62/300\n",
      "1080/1080 [==============================] - 1s 1ms/step - loss: 0.2506 - acc: 0.9111 - val_loss: 0.5885 - val_acc: 0.8417\n",
      "Epoch 63/300\n",
      "1080/1080 [==============================] - 1s 1ms/step - loss: 0.2094 - acc: 0.9315 - val_loss: 0.5703 - val_acc: 0.8417\n",
      "Epoch 64/300\n",
      "1080/1080 [==============================] - 1s 1ms/step - loss: 0.2068 - acc: 0.9361 - val_loss: 0.5518 - val_acc: 0.7917\n",
      "Epoch 65/300\n",
      "1080/1080 [==============================] - 1s 1ms/step - loss: 0.2568 - acc: 0.9056 - val_loss: 0.6202 - val_acc: 0.7583\n",
      "Epoch 66/300\n",
      "1080/1080 [==============================] - 1s 1ms/step - loss: 0.3701 - acc: 0.8602 - val_loss: 0.6992 - val_acc: 0.7500\n",
      "Epoch 67/300\n",
      "1080/1080 [==============================] - 1s 1ms/step - loss: 0.3572 - acc: 0.8667 - val_loss: 0.9401 - val_acc: 0.6583\n",
      "Epoch 68/300\n",
      "1080/1080 [==============================] - 1s 1ms/step - loss: 0.4300 - acc: 0.8315 - val_loss: 0.8071 - val_acc: 0.6833\n",
      "Epoch 69/300\n",
      "1080/1080 [==============================] - 1s 1ms/step - loss: 0.4585 - acc: 0.8352 - val_loss: 1.2108 - val_acc: 0.5750\n",
      "Epoch 70/300\n",
      "1080/1080 [==============================] - 1s 1ms/step - loss: 0.6768 - acc: 0.7343 - val_loss: 0.7911 - val_acc: 0.7083\n",
      "Epoch 71/300\n",
      "1080/1080 [==============================] - 1s 1ms/step - loss: 0.4967 - acc: 0.8093 - val_loss: 0.7173 - val_acc: 0.7667\n",
      "Epoch 72/300\n",
      "1080/1080 [==============================] - 1s 1ms/step - loss: 0.3562 - acc: 0.8787 - val_loss: 0.5570 - val_acc: 0.8250\n",
      "Epoch 73/300\n",
      "1080/1080 [==============================] - 1s 1ms/step - loss: 0.2424 - acc: 0.9269 - val_loss: 0.4304 - val_acc: 0.8833\n",
      "Epoch 74/300\n",
      "1080/1080 [==============================] - 1s 1ms/step - loss: 0.2189 - acc: 0.9324 - val_loss: 0.6822 - val_acc: 0.7917\n",
      "Epoch 75/300\n",
      "1080/1080 [==============================] - 1s 1ms/step - loss: 0.2405 - acc: 0.9176 - val_loss: 0.7121 - val_acc: 0.7500\n",
      "Epoch 76/300\n",
      "1080/1080 [==============================] - 1s 1ms/step - loss: 0.2588 - acc: 0.9037 - val_loss: 0.8169 - val_acc: 0.7500\n",
      "Epoch 77/300\n",
      "1080/1080 [==============================] - 1s 1ms/step - loss: 0.2491 - acc: 0.9037 - val_loss: 0.6515 - val_acc: 0.7750\n",
      "Epoch 78/300\n",
      "1080/1080 [==============================] - 1s 1ms/step - loss: 0.3154 - acc: 0.8861 - val_loss: 0.5195 - val_acc: 0.8500\n",
      "Epoch 79/300\n",
      "1080/1080 [==============================] - 1s 1ms/step - loss: 0.2416 - acc: 0.9083 - val_loss: 0.5448 - val_acc: 0.8000\n",
      "Epoch 80/300\n",
      "1080/1080 [==============================] - 1s 1ms/step - loss: 0.2023 - acc: 0.9333 - val_loss: 0.5941 - val_acc: 0.8333\n",
      "Epoch 81/300\n",
      "1080/1080 [==============================] - 1s 1ms/step - loss: 0.1782 - acc: 0.9398 - val_loss: 0.4793 - val_acc: 0.8250\n",
      "Epoch 82/300\n",
      "1080/1080 [==============================] - 1s 1ms/step - loss: 0.1332 - acc: 0.9611 - val_loss: 0.4563 - val_acc: 0.8500\n",
      "Epoch 83/300\n",
      "1080/1080 [==============================] - 1s 1ms/step - loss: 0.1182 - acc: 0.9713 - val_loss: 0.4645 - val_acc: 0.8500\n",
      "Epoch 84/300\n",
      "1080/1080 [==============================] - 1s 1ms/step - loss: 0.1327 - acc: 0.9546 - val_loss: 0.7184 - val_acc: 0.8417\n",
      "Epoch 85/300\n",
      "1080/1080 [==============================] - 1s 1ms/step - loss: 0.1460 - acc: 0.9491 - val_loss: 0.4560 - val_acc: 0.8583\n",
      "Epoch 86/300\n",
      "1080/1080 [==============================] - 1s 1ms/step - loss: 0.1038 - acc: 0.9713 - val_loss: 0.4283 - val_acc: 0.8417\n",
      "Epoch 87/300\n",
      "1080/1080 [==============================] - 1s 1ms/step - loss: 0.0992 - acc: 0.9713 - val_loss: 0.4038 - val_acc: 0.8583\n",
      "Epoch 88/300\n",
      "1080/1080 [==============================] - 1s 1ms/step - loss: 0.0875 - acc: 0.9778 - val_loss: 0.5101 - val_acc: 0.8833\n",
      "Epoch 89/300\n",
      "1080/1080 [==============================] - 1s 1ms/step - loss: 0.0874 - acc: 0.9806 - val_loss: 0.4687 - val_acc: 0.8750\n",
      "Epoch 90/300\n",
      "1080/1080 [==============================] - 1s 1ms/step - loss: 0.0846 - acc: 0.9750 - val_loss: 0.4385 - val_acc: 0.8583\n",
      "Epoch 91/300\n",
      "1080/1080 [==============================] - 1s 1ms/step - loss: 0.1288 - acc: 0.9528 - val_loss: 0.4770 - val_acc: 0.8333\n",
      "Epoch 92/300\n",
      "1080/1080 [==============================] - 1s 1ms/step - loss: 0.1180 - acc: 0.9648 - val_loss: 0.5012 - val_acc: 0.8250\n",
      "Epoch 93/300\n",
      "1080/1080 [==============================] - 1s 1ms/step - loss: 0.1086 - acc: 0.9620 - val_loss: 0.4752 - val_acc: 0.8417\n",
      "Epoch 94/300\n",
      "1080/1080 [==============================] - 1s 1ms/step - loss: 0.0985 - acc: 0.9713 - val_loss: 0.5509 - val_acc: 0.8417\n",
      "Epoch 95/300\n",
      "1080/1080 [==============================] - 1s 1ms/step - loss: 0.2089 - acc: 0.9278 - val_loss: 1.1625 - val_acc: 0.7333\n",
      "Epoch 96/300\n",
      "1080/1080 [==============================] - 1s 1ms/step - loss: 0.1653 - acc: 0.9472 - val_loss: 0.5588 - val_acc: 0.8333\n",
      "Epoch 97/300\n",
      "1080/1080 [==============================] - 1s 1ms/step - loss: 0.1084 - acc: 0.9667 - val_loss: 0.4438 - val_acc: 0.8833\n",
      "Epoch 98/300\n",
      "1080/1080 [==============================] - 1s 1ms/step - loss: 0.2108 - acc: 0.9278 - val_loss: 0.6728 - val_acc: 0.8000\n",
      "Epoch 99/300\n",
      "1080/1080 [==============================] - 1s 1ms/step - loss: 0.3921 - acc: 0.8639 - val_loss: 1.1755 - val_acc: 0.6750\n",
      "Epoch 100/300\n",
      "1080/1080 [==============================] - 1s 1ms/step - loss: 0.2811 - acc: 0.8972 - val_loss: 1.0389 - val_acc: 0.6917\n",
      "Epoch 101/300\n",
      "1080/1080 [==============================] - 1s 1ms/step - loss: 0.2637 - acc: 0.9056 - val_loss: 0.6820 - val_acc: 0.7667\n",
      "Epoch 102/300\n",
      "1080/1080 [==============================] - 1s 1ms/step - loss: 0.1451 - acc: 0.9519 - val_loss: 0.3824 - val_acc: 0.8500\n",
      "Epoch 103/300\n",
      "1080/1080 [==============================] - 1s 1ms/step - loss: 0.1042 - acc: 0.9685 - val_loss: 0.5999 - val_acc: 0.8583\n",
      "Epoch 104/300\n",
      "1080/1080 [==============================] - 1s 1ms/step - loss: 0.0997 - acc: 0.9685 - val_loss: 0.3835 - val_acc: 0.8667\n",
      "Epoch 105/300\n",
      "1080/1080 [==============================] - 1s 1ms/step - loss: 0.0782 - acc: 0.9750 - val_loss: 0.5782 - val_acc: 0.8417\n",
      "Epoch 106/300\n",
      "1080/1080 [==============================] - 1s 1ms/step - loss: 0.0798 - acc: 0.9815 - val_loss: 0.4028 - val_acc: 0.8583\n",
      "Epoch 107/300\n",
      "1080/1080 [==============================] - 1s 1ms/step - loss: 0.0758 - acc: 0.9750 - val_loss: 0.5846 - val_acc: 0.8333\n",
      "Epoch 108/300\n",
      "1080/1080 [==============================] - 1s 1ms/step - loss: 0.2388 - acc: 0.9130 - val_loss: 1.0284 - val_acc: 0.7417\n",
      "Epoch 109/300\n",
      "1080/1080 [==============================] - 1s 1ms/step - loss: 0.4778 - acc: 0.8296 - val_loss: 0.7601 - val_acc: 0.7833\n",
      "Epoch 110/300\n",
      "1080/1080 [==============================] - 1s 1ms/step - loss: 0.3541 - acc: 0.8639 - val_loss: 0.4542 - val_acc: 0.8667\n",
      "Epoch 111/300\n",
      "1080/1080 [==============================] - 1s 1ms/step - loss: 0.1565 - acc: 0.9435 - val_loss: 0.4479 - val_acc: 0.8333\n",
      "Epoch 112/300\n",
      "1080/1080 [==============================] - 1s 1ms/step - loss: 0.1194 - acc: 0.9620 - val_loss: 0.4738 - val_acc: 0.8083\n",
      "Epoch 113/300\n",
      "1080/1080 [==============================] - 1s 1ms/step - loss: 0.0947 - acc: 0.9750 - val_loss: 0.5102 - val_acc: 0.8333\n",
      "Epoch 114/300\n",
      "1080/1080 [==============================] - 1s 1ms/step - loss: 0.0784 - acc: 0.9731 - val_loss: 0.4144 - val_acc: 0.8583\n",
      "Epoch 115/300\n",
      "1080/1080 [==============================] - 1s 1ms/step - loss: 0.0549 - acc: 0.9833 - val_loss: 0.4969 - val_acc: 0.8750\n",
      "Epoch 116/300\n",
      "1080/1080 [==============================] - 1s 1ms/step - loss: 0.0412 - acc: 0.9944 - val_loss: 0.3984 - val_acc: 0.8833\n",
      "Epoch 117/300\n",
      "1080/1080 [==============================] - 1s 1ms/step - loss: 0.0371 - acc: 0.9935 - val_loss: 0.5169 - val_acc: 0.8833\n",
      "Epoch 118/300\n",
      "1080/1080 [==============================] - 1s 1ms/step - loss: 0.0349 - acc: 0.9935 - val_loss: 0.4348 - val_acc: 0.8583\n",
      "Epoch 119/300\n",
      "1080/1080 [==============================] - 1s 1ms/step - loss: 0.0393 - acc: 0.9926 - val_loss: 0.5499 - val_acc: 0.8417\n",
      "Epoch 120/300\n",
      "1080/1080 [==============================] - 1s 1ms/step - loss: 0.0358 - acc: 0.9907 - val_loss: 0.4369 - val_acc: 0.8750\n",
      "Epoch 121/300\n"
     ]
    },
    {
     "name": "stdout",
     "output_type": "stream",
     "text": [
      "1080/1080 [==============================] - 1s 1ms/step - loss: 0.0236 - acc: 0.9954 - val_loss: 0.5536 - val_acc: 0.8750\n",
      "Epoch 122/300\n",
      "1080/1080 [==============================] - 1s 1ms/step - loss: 0.0248 - acc: 0.9963 - val_loss: 0.3859 - val_acc: 0.8750\n",
      "Epoch 123/300\n",
      "1080/1080 [==============================] - 1s 1ms/step - loss: 0.0201 - acc: 0.9972 - val_loss: 0.4000 - val_acc: 0.8917\n",
      "Epoch 124/300\n",
      "1080/1080 [==============================] - 1s 1ms/step - loss: 0.0173 - acc: 0.9981 - val_loss: 0.4839 - val_acc: 0.9000\n",
      "Epoch 125/300\n",
      "1080/1080 [==============================] - 1s 1ms/step - loss: 0.0241 - acc: 0.9981 - val_loss: 0.5026 - val_acc: 0.8833\n",
      "Epoch 126/300\n",
      "1080/1080 [==============================] - 1s 1ms/step - loss: 0.0182 - acc: 0.9981 - val_loss: 0.4486 - val_acc: 0.9000\n",
      "Epoch 127/300\n",
      "1080/1080 [==============================] - 1s 1ms/step - loss: 0.0151 - acc: 0.9991 - val_loss: 0.4944 - val_acc: 0.8833\n",
      "Epoch 128/300\n",
      "1080/1080 [==============================] - 1s 1ms/step - loss: 0.0138 - acc: 0.9991 - val_loss: 0.4921 - val_acc: 0.8833\n",
      "Epoch 129/300\n",
      "1080/1080 [==============================] - 1s 1ms/step - loss: 0.0165 - acc: 0.9981 - val_loss: 0.4351 - val_acc: 0.8833\n",
      "Epoch 130/300\n",
      "1080/1080 [==============================] - 1s 1ms/step - loss: 0.0147 - acc: 0.9981 - val_loss: 0.5250 - val_acc: 0.8917\n",
      "Epoch 131/300\n",
      "1080/1080 [==============================] - 1s 1ms/step - loss: 0.0118 - acc: 0.9991 - val_loss: 0.5070 - val_acc: 0.9000\n",
      "Epoch 132/300\n",
      "1080/1080 [==============================] - 1s 1ms/step - loss: 0.0113 - acc: 0.9991 - val_loss: 0.5297 - val_acc: 0.8917\n",
      "Epoch 133/300\n",
      "1080/1080 [==============================] - 1s 1ms/step - loss: 0.0141 - acc: 0.9972 - val_loss: 0.5149 - val_acc: 0.8750\n",
      "Epoch 134/300\n",
      "1080/1080 [==============================] - 1s 1ms/step - loss: 0.0384 - acc: 0.9889 - val_loss: 0.5753 - val_acc: 0.8667\n",
      "Epoch 135/300\n",
      "1080/1080 [==============================] - 1s 1ms/step - loss: 0.0477 - acc: 0.9843 - val_loss: 0.5803 - val_acc: 0.8750\n",
      "Epoch 136/300\n",
      "1080/1080 [==============================] - 1s 1ms/step - loss: 0.0233 - acc: 0.9935 - val_loss: 0.4185 - val_acc: 0.8583\n",
      "Epoch 137/300\n",
      "1080/1080 [==============================] - 1s 1ms/step - loss: 0.0361 - acc: 0.9917 - val_loss: 0.5041 - val_acc: 0.9083\n",
      "Epoch 138/300\n",
      "1080/1080 [==============================] - 1s 1ms/step - loss: 0.0203 - acc: 0.9972 - val_loss: 0.4472 - val_acc: 0.8583\n",
      "Epoch 139/300\n",
      "1080/1080 [==============================] - 1s 1ms/step - loss: 0.0156 - acc: 0.9981 - val_loss: 0.4994 - val_acc: 0.8750\n",
      "Epoch 140/300\n",
      "1080/1080 [==============================] - 1s 1ms/step - loss: 0.0171 - acc: 0.9981 - val_loss: 0.5100 - val_acc: 0.8833\n",
      "Epoch 141/300\n",
      "1080/1080 [==============================] - 1s 1ms/step - loss: 0.0138 - acc: 0.9972 - val_loss: 0.4850 - val_acc: 0.9083\n",
      "Epoch 142/300\n",
      "1080/1080 [==============================] - 1s 1ms/step - loss: 0.0070 - acc: 1.0000 - val_loss: 0.4635 - val_acc: 0.8917\n",
      "Epoch 143/300\n",
      "1080/1080 [==============================] - 1s 1ms/step - loss: 0.0074 - acc: 0.9991 - val_loss: 0.3895 - val_acc: 0.8750\n",
      "Epoch 144/300\n",
      "1080/1080 [==============================] - 1s 1ms/step - loss: 0.0066 - acc: 1.0000 - val_loss: 0.4300 - val_acc: 0.8917\n",
      "Epoch 145/300\n",
      "1080/1080 [==============================] - 1s 1ms/step - loss: 0.0062 - acc: 1.0000 - val_loss: 0.4239 - val_acc: 0.8833\n",
      "Epoch 146/300\n",
      "1080/1080 [==============================] - 1s 1ms/step - loss: 0.0051 - acc: 1.0000 - val_loss: 0.5105 - val_acc: 0.9000\n",
      "Epoch 147/300\n",
      "1080/1080 [==============================] - 1s 1ms/step - loss: 0.0049 - acc: 0.9991 - val_loss: 0.5492 - val_acc: 0.9000\n",
      "Epoch 148/300\n",
      "1080/1080 [==============================] - 1s 1ms/step - loss: 0.0083 - acc: 1.0000 - val_loss: 0.6650 - val_acc: 0.8667\n",
      "Epoch 149/300\n",
      "1080/1080 [==============================] - 1s 1ms/step - loss: 0.0096 - acc: 0.9991 - val_loss: 0.4868 - val_acc: 0.8917\n",
      "Epoch 150/300\n",
      "1080/1080 [==============================] - 1s 1ms/step - loss: 0.0073 - acc: 0.9991 - val_loss: 0.4801 - val_acc: 0.9000\n",
      "Epoch 151/300\n",
      "1080/1080 [==============================] - 1s 1ms/step - loss: 0.0051 - acc: 1.0000 - val_loss: 0.4875 - val_acc: 0.8917\n",
      "Epoch 152/300\n",
      "1080/1080 [==============================] - 1s 1ms/step - loss: 0.0044 - acc: 1.0000 - val_loss: 0.4844 - val_acc: 0.8750\n",
      "Epoch 153/300\n",
      "1080/1080 [==============================] - 1s 1ms/step - loss: 0.0071 - acc: 0.9991 - val_loss: 0.5334 - val_acc: 0.8833\n",
      "Epoch 154/300\n",
      "1080/1080 [==============================] - 1s 1ms/step - loss: 0.0530 - acc: 0.9806 - val_loss: 0.7495 - val_acc: 0.8500\n",
      "Epoch 155/300\n",
      "1080/1080 [==============================] - 1s 1ms/step - loss: 1.6977 - acc: 0.7278 - val_loss: 3.1288 - val_acc: 0.3333\n",
      "Epoch 156/300\n",
      "1080/1080 [==============================] - 1s 1ms/step - loss: 0.9284 - acc: 0.6778 - val_loss: 0.6792 - val_acc: 0.7417\n",
      "Epoch 157/300\n",
      "1080/1080 [==============================] - 1s 1ms/step - loss: 0.4633 - acc: 0.8500 - val_loss: 0.6090 - val_acc: 0.7750\n",
      "Epoch 158/300\n",
      "1080/1080 [==============================] - 1s 1ms/step - loss: 0.2759 - acc: 0.9074 - val_loss: 0.5026 - val_acc: 0.7917\n",
      "Epoch 159/300\n",
      "1080/1080 [==============================] - 1s 1ms/step - loss: 0.1682 - acc: 0.9417 - val_loss: 0.4090 - val_acc: 0.8500\n",
      "Epoch 160/300\n",
      "1080/1080 [==============================] - 1s 1ms/step - loss: 0.1082 - acc: 0.9722 - val_loss: 0.6275 - val_acc: 0.7583\n",
      "Epoch 161/300\n",
      "1080/1080 [==============================] - 1s 1ms/step - loss: 0.0905 - acc: 0.9759 - val_loss: 0.4374 - val_acc: 0.8667\n",
      "Epoch 162/300\n",
      "1080/1080 [==============================] - 1s 1ms/step - loss: 0.0651 - acc: 0.9843 - val_loss: 0.4368 - val_acc: 0.8583\n",
      "Epoch 163/300\n",
      "1080/1080 [==============================] - 1s 1ms/step - loss: 0.0467 - acc: 0.9954 - val_loss: 0.5155 - val_acc: 0.8417\n",
      "Epoch 164/300\n",
      "1080/1080 [==============================] - 1s 1ms/step - loss: 0.0367 - acc: 0.9926 - val_loss: 0.4255 - val_acc: 0.8500\n",
      "Epoch 165/300\n",
      "1080/1080 [==============================] - 1s 1ms/step - loss: 0.0527 - acc: 0.9870 - val_loss: 0.5332 - val_acc: 0.8667\n",
      "Epoch 166/300\n",
      "1080/1080 [==============================] - 1s 1ms/step - loss: 0.0809 - acc: 0.9731 - val_loss: 0.5511 - val_acc: 0.8750\n",
      "Epoch 167/300\n",
      "1080/1080 [==============================] - 1s 1ms/step - loss: 0.0734 - acc: 0.9759 - val_loss: 0.4666 - val_acc: 0.8667\n",
      "Epoch 168/300\n",
      "1080/1080 [==============================] - 1s 1ms/step - loss: 0.1954 - acc: 0.9426 - val_loss: 0.4931 - val_acc: 0.8083\n",
      "Epoch 169/300\n",
      "1080/1080 [==============================] - 1s 1ms/step - loss: 0.4393 - acc: 0.8676 - val_loss: 2.0938 - val_acc: 0.5083\n",
      "Epoch 170/300\n",
      "1080/1080 [==============================] - 1s 1ms/step - loss: 1.2191 - acc: 0.6389 - val_loss: 1.2446 - val_acc: 0.5417\n",
      "Epoch 171/300\n",
      "1080/1080 [==============================] - 1s 1ms/step - loss: 0.7263 - acc: 0.7009 - val_loss: 0.6178 - val_acc: 0.7667\n",
      "Epoch 172/300\n",
      "1080/1080 [==============================] - 1s 1ms/step - loss: 0.3870 - acc: 0.8759 - val_loss: 0.5889 - val_acc: 0.7750\n",
      "Epoch 173/300\n",
      "1080/1080 [==============================] - 1s 1ms/step - loss: 0.1797 - acc: 0.9556 - val_loss: 0.4637 - val_acc: 0.8083\n",
      "Epoch 174/300\n",
      "1080/1080 [==============================] - 1s 1ms/step - loss: 0.1471 - acc: 0.9472 - val_loss: 0.5414 - val_acc: 0.8583\n",
      "Epoch 175/300\n",
      "1080/1080 [==============================] - 1s 1ms/step - loss: 0.0981 - acc: 0.9685 - val_loss: 0.5047 - val_acc: 0.8250\n",
      "Epoch 176/300\n",
      "1080/1080 [==============================] - 1s 1ms/step - loss: 0.0611 - acc: 0.9824 - val_loss: 0.4793 - val_acc: 0.8417\n",
      "Epoch 177/300\n",
      "1080/1080 [==============================] - 1s 1ms/step - loss: 0.0416 - acc: 0.9944 - val_loss: 0.4579 - val_acc: 0.8750\n",
      "Epoch 178/300\n",
      "1080/1080 [==============================] - 1s 1ms/step - loss: 0.0369 - acc: 0.9926 - val_loss: 0.4870 - val_acc: 0.8833\n",
      "Epoch 179/300\n",
      "1080/1080 [==============================] - 1s 1ms/step - loss: 0.0247 - acc: 1.0000 - val_loss: 0.4814 - val_acc: 0.8583\n",
      "Epoch 180/300\n",
      "1080/1080 [==============================] - 1s 1ms/step - loss: 0.0232 - acc: 0.9991 - val_loss: 0.5556 - val_acc: 0.8500\n"
     ]
    },
    {
     "name": "stdout",
     "output_type": "stream",
     "text": [
      "Epoch 181/300\n",
      "1080/1080 [==============================] - 1s 1ms/step - loss: 0.0174 - acc: 0.9981 - val_loss: 0.5371 - val_acc: 0.8667\n",
      "Epoch 182/300\n",
      "1080/1080 [==============================] - 1s 1ms/step - loss: 0.0149 - acc: 0.9991 - val_loss: 0.5329 - val_acc: 0.8750\n",
      "Epoch 183/300\n",
      "1080/1080 [==============================] - 1s 1ms/step - loss: 0.0112 - acc: 1.0000 - val_loss: 0.5377 - val_acc: 0.8833\n",
      "Epoch 184/300\n",
      "1080/1080 [==============================] - 1s 1ms/step - loss: 0.0096 - acc: 1.0000 - val_loss: 0.5379 - val_acc: 0.8583\n",
      "Epoch 185/300\n",
      "1080/1080 [==============================] - 1s 1ms/step - loss: 0.0094 - acc: 1.0000 - val_loss: 0.5782 - val_acc: 0.8667\n",
      "Epoch 186/300\n",
      "1080/1080 [==============================] - 1s 1ms/step - loss: 0.0103 - acc: 1.0000 - val_loss: 0.5982 - val_acc: 0.8500\n",
      "Epoch 187/300\n",
      "1080/1080 [==============================] - 1s 1ms/step - loss: 0.0073 - acc: 1.0000 - val_loss: 0.5230 - val_acc: 0.8833\n",
      "Epoch 188/300\n",
      "1080/1080 [==============================] - 1s 1ms/step - loss: 0.0061 - acc: 1.0000 - val_loss: 0.5210 - val_acc: 0.8833\n",
      "Epoch 189/300\n",
      "1080/1080 [==============================] - 1s 1ms/step - loss: 0.0055 - acc: 1.0000 - val_loss: 0.5507 - val_acc: 0.8750\n",
      "Epoch 190/300\n",
      "1080/1080 [==============================] - 1s 1ms/step - loss: 0.0051 - acc: 1.0000 - val_loss: 0.5456 - val_acc: 0.8667\n",
      "Epoch 191/300\n",
      "1080/1080 [==============================] - 1s 1ms/step - loss: 0.0056 - acc: 1.0000 - val_loss: 0.5333 - val_acc: 0.8583\n",
      "Epoch 192/300\n",
      "1080/1080 [==============================] - 1s 1ms/step - loss: 0.0057 - acc: 1.0000 - val_loss: 0.5360 - val_acc: 0.8750\n",
      "Epoch 193/300\n",
      "1080/1080 [==============================] - 1s 1ms/step - loss: 0.0066 - acc: 0.9991 - val_loss: 0.5378 - val_acc: 0.8667\n",
      "Epoch 194/300\n",
      "1080/1080 [==============================] - 1s 1ms/step - loss: 0.0042 - acc: 1.0000 - val_loss: 0.5771 - val_acc: 0.8667\n",
      "Epoch 195/300\n",
      "1080/1080 [==============================] - 1s 1ms/step - loss: 0.0039 - acc: 1.0000 - val_loss: 0.5433 - val_acc: 0.8750\n",
      "Epoch 196/300\n",
      "1080/1080 [==============================] - 1s 1ms/step - loss: 0.0032 - acc: 1.0000 - val_loss: 0.5837 - val_acc: 0.8917\n",
      "Epoch 197/300\n",
      "1080/1080 [==============================] - 1s 1ms/step - loss: 0.0031 - acc: 1.0000 - val_loss: 0.6166 - val_acc: 0.8583\n",
      "Epoch 198/300\n",
      "1080/1080 [==============================] - 1s 1ms/step - loss: 0.0036 - acc: 1.0000 - val_loss: 0.5570 - val_acc: 0.8833\n",
      "Epoch 199/300\n",
      "1080/1080 [==============================] - 1s 1ms/step - loss: 0.0029 - acc: 1.0000 - val_loss: 0.5717 - val_acc: 0.8917\n",
      "Epoch 200/300\n",
      "1080/1080 [==============================] - 1s 1ms/step - loss: 0.0029 - acc: 1.0000 - val_loss: 0.5633 - val_acc: 0.8750\n",
      "Epoch 201/300\n",
      "1080/1080 [==============================] - 1s 1ms/step - loss: 0.0025 - acc: 1.0000 - val_loss: 0.5826 - val_acc: 0.8833\n",
      "Epoch 202/300\n",
      "1080/1080 [==============================] - 1s 1ms/step - loss: 0.0024 - acc: 1.0000 - val_loss: 0.6161 - val_acc: 0.8917\n",
      "Epoch 203/300\n",
      "1080/1080 [==============================] - 1s 1ms/step - loss: 0.0026 - acc: 1.0000 - val_loss: 0.6013 - val_acc: 0.8833\n",
      "Epoch 204/300\n",
      "1080/1080 [==============================] - 1s 1ms/step - loss: 0.0029 - acc: 1.0000 - val_loss: 0.5908 - val_acc: 0.8583\n",
      "Epoch 205/300\n",
      "1080/1080 [==============================] - 1s 1ms/step - loss: 0.0022 - acc: 1.0000 - val_loss: 0.5728 - val_acc: 0.8833\n",
      "Epoch 206/300\n",
      "1080/1080 [==============================] - 1s 1ms/step - loss: 0.0019 - acc: 1.0000 - val_loss: 0.6066 - val_acc: 0.8667\n",
      "Epoch 207/300\n",
      "1080/1080 [==============================] - 1s 1ms/step - loss: 0.0017 - acc: 1.0000 - val_loss: 0.5816 - val_acc: 0.8750\n",
      "Epoch 208/300\n",
      "1080/1080 [==============================] - 1s 1ms/step - loss: 0.0018 - acc: 1.0000 - val_loss: 0.6316 - val_acc: 0.9000\n",
      "Epoch 209/300\n",
      "1080/1080 [==============================] - 1s 1ms/step - loss: 0.0018 - acc: 1.0000 - val_loss: 0.6044 - val_acc: 0.8833\n",
      "Epoch 210/300\n",
      "1080/1080 [==============================] - 1s 1ms/step - loss: 0.0016 - acc: 1.0000 - val_loss: 0.5885 - val_acc: 0.8750\n",
      "Epoch 211/300\n",
      "1080/1080 [==============================] - 1s 1ms/step - loss: 0.0016 - acc: 1.0000 - val_loss: 0.6300 - val_acc: 0.8917\n",
      "Epoch 212/300\n",
      "1080/1080 [==============================] - 1s 1ms/step - loss: 0.0016 - acc: 1.0000 - val_loss: 0.6010 - val_acc: 0.8833\n",
      "Epoch 213/300\n",
      "1080/1080 [==============================] - 1s 1ms/step - loss: 0.0015 - acc: 1.0000 - val_loss: 0.6333 - val_acc: 0.8583\n",
      "Epoch 214/300\n",
      "1080/1080 [==============================] - 1s 1ms/step - loss: 0.0014 - acc: 1.0000 - val_loss: 0.5963 - val_acc: 0.8917\n",
      "Epoch 215/300\n",
      "1080/1080 [==============================] - 1s 1ms/step - loss: 0.0013 - acc: 1.0000 - val_loss: 0.6316 - val_acc: 0.8750\n",
      "Epoch 216/300\n",
      "1080/1080 [==============================] - 1s 1ms/step - loss: 0.0013 - acc: 1.0000 - val_loss: 0.6073 - val_acc: 0.8750\n",
      "Epoch 217/300\n",
      "1080/1080 [==============================] - 1s 1ms/step - loss: 0.0012 - acc: 1.0000 - val_loss: 0.6239 - val_acc: 0.8917\n",
      "Epoch 218/300\n",
      "1080/1080 [==============================] - 1s 1ms/step - loss: 0.0011 - acc: 1.0000 - val_loss: 0.6322 - val_acc: 0.8917\n",
      "Epoch 219/300\n",
      "1080/1080 [==============================] - 1s 1ms/step - loss: 0.0011 - acc: 1.0000 - val_loss: 0.6084 - val_acc: 0.8750\n",
      "Epoch 220/300\n",
      "1080/1080 [==============================] - 1s 1ms/step - loss: 0.0011 - acc: 1.0000 - val_loss: 0.6391 - val_acc: 0.8917\n",
      "Epoch 221/300\n",
      "1080/1080 [==============================] - 1s 1ms/step - loss: 0.0010 - acc: 1.0000 - val_loss: 0.6163 - val_acc: 0.8750\n",
      "Epoch 222/300\n",
      "1080/1080 [==============================] - 1s 1ms/step - loss: 9.9335e-04 - acc: 1.0000 - val_loss: 0.6246 - val_acc: 0.8833\n",
      "Epoch 223/300\n",
      "1080/1080 [==============================] - 1s 1ms/step - loss: 9.5798e-04 - acc: 1.0000 - val_loss: 0.6370 - val_acc: 0.8833\n",
      "Epoch 224/300\n",
      "1080/1080 [==============================] - 1s 1ms/step - loss: 9.0787e-04 - acc: 1.0000 - val_loss: 0.6295 - val_acc: 0.8750\n",
      "Epoch 225/300\n",
      "1080/1080 [==============================] - 1s 1ms/step - loss: 8.9143e-04 - acc: 1.0000 - val_loss: 0.6419 - val_acc: 0.8833\n",
      "Epoch 226/300\n",
      "1080/1080 [==============================] - 1s 1ms/step - loss: 8.6738e-04 - acc: 1.0000 - val_loss: 0.6293 - val_acc: 0.8750\n",
      "Epoch 227/300\n",
      "1080/1080 [==============================] - 1s 1ms/step - loss: 8.5130e-04 - acc: 1.0000 - val_loss: 0.6552 - val_acc: 0.8917\n",
      "Epoch 228/300\n",
      "1080/1080 [==============================] - 1s 1ms/step - loss: 8.3953e-04 - acc: 1.0000 - val_loss: 0.6332 - val_acc: 0.8750\n",
      "Epoch 229/300\n",
      "1080/1080 [==============================] - 1s 1ms/step - loss: 8.3280e-04 - acc: 1.0000 - val_loss: 0.6352 - val_acc: 0.8833\n",
      "Epoch 230/300\n",
      "1080/1080 [==============================] - 1s 1ms/step - loss: 8.0832e-04 - acc: 1.0000 - val_loss: 0.6546 - val_acc: 0.8917\n",
      "Epoch 231/300\n",
      "1080/1080 [==============================] - 1s 1ms/step - loss: 7.7949e-04 - acc: 1.0000 - val_loss: 0.6272 - val_acc: 0.8750\n",
      "Epoch 232/300\n",
      "1080/1080 [==============================] - 1s 1ms/step - loss: 7.4870e-04 - acc: 1.0000 - val_loss: 0.6578 - val_acc: 0.8917\n",
      "Epoch 233/300\n",
      "1080/1080 [==============================] - 1s 1ms/step - loss: 7.3779e-04 - acc: 1.0000 - val_loss: 0.6311 - val_acc: 0.8750\n",
      "Epoch 234/300\n",
      "1080/1080 [==============================] - 1s 1ms/step - loss: 7.0209e-04 - acc: 1.0000 - val_loss: 0.6620 - val_acc: 0.8833\n",
      "Epoch 235/300\n",
      "1080/1080 [==============================] - 1s 1ms/step - loss: 6.7401e-04 - acc: 1.0000 - val_loss: 0.6466 - val_acc: 0.8833\n",
      "Epoch 236/300\n",
      "1080/1080 [==============================] - 1s 1ms/step - loss: 6.4415e-04 - acc: 1.0000 - val_loss: 0.6451 - val_acc: 0.8833\n",
      "Epoch 237/300\n",
      "1080/1080 [==============================] - 1s 1ms/step - loss: 6.2812e-04 - acc: 1.0000 - val_loss: 0.6626 - val_acc: 0.8833\n",
      "Epoch 238/300\n",
      "1080/1080 [==============================] - 1s 1ms/step - loss: 6.3695e-04 - acc: 1.0000 - val_loss: 0.6356 - val_acc: 0.8750\n",
      "Epoch 239/300\n",
      "1080/1080 [==============================] - 1s 1ms/step - loss: 6.4851e-04 - acc: 1.0000 - val_loss: 0.6797 - val_acc: 0.8917\n",
      "Epoch 240/300\n",
      "1080/1080 [==============================] - 1s 1ms/step - loss: 6.2720e-04 - acc: 1.0000 - val_loss: 0.6470 - val_acc: 0.8750\n",
      "Epoch 241/300\n",
      "1080/1080 [==============================] - 1s 1ms/step - loss: 6.0599e-04 - acc: 1.0000 - val_loss: 0.6507 - val_acc: 0.8750\n",
      "Epoch 242/300\n",
      "1080/1080 [==============================] - 2s 2ms/step - loss: 5.7775e-04 - acc: 1.0000 - val_loss: 0.6623 - val_acc: 0.8833\n",
      "Epoch 243/300\n",
      "1080/1080 [==============================] - 2s 2ms/step - loss: 5.4094e-04 - acc: 1.0000 - val_loss: 0.6610 - val_acc: 0.8750\n",
      "Epoch 244/300\n",
      "1080/1080 [==============================] - 1s 1ms/step - loss: 5.7240e-04 - acc: 1.0000 - val_loss: 0.6784 - val_acc: 0.8917\n",
      "Epoch 245/300\n",
      "1080/1080 [==============================] - 1s 1ms/step - loss: 5.4698e-04 - acc: 1.0000 - val_loss: 0.6597 - val_acc: 0.8833\n",
      "Epoch 246/300\n",
      "1080/1080 [==============================] - 1s 1ms/step - loss: 4.8820e-04 - acc: 1.0000 - val_loss: 0.6701 - val_acc: 0.8833\n",
      "Epoch 247/300\n",
      "1080/1080 [==============================] - 1s 1ms/step - loss: 4.9264e-04 - acc: 1.0000 - val_loss: 0.6618 - val_acc: 0.8833\n",
      "Epoch 248/300\n",
      "1080/1080 [==============================] - 1s 1ms/step - loss: 4.7692e-04 - acc: 1.0000 - val_loss: 0.6692 - val_acc: 0.8833\n",
      "Epoch 249/300\n",
      "1080/1080 [==============================] - 1s 1ms/step - loss: 4.6930e-04 - acc: 1.0000 - val_loss: 0.6708 - val_acc: 0.8833\n",
      "Epoch 250/300\n",
      "1080/1080 [==============================] - 2s 2ms/step - loss: 4.4991e-04 - acc: 1.0000 - val_loss: 0.6752 - val_acc: 0.8833\n",
      "Epoch 251/300\n",
      "1080/1080 [==============================] - 1s 1ms/step - loss: 4.4034e-04 - acc: 1.0000 - val_loss: 0.6732 - val_acc: 0.8833\n",
      "Epoch 252/300\n",
      "1080/1080 [==============================] - 1s 1ms/step - loss: 4.3516e-04 - acc: 1.0000 - val_loss: 0.6764 - val_acc: 0.8833\n",
      "Epoch 253/300\n",
      "1080/1080 [==============================] - 1s 1ms/step - loss: 4.2587e-04 - acc: 1.0000 - val_loss: 0.6842 - val_acc: 0.8833\n",
      "Epoch 254/300\n",
      "1080/1080 [==============================] - 1s 1ms/step - loss: 4.1251e-04 - acc: 1.0000 - val_loss: 0.6711 - val_acc: 0.8833\n",
      "Epoch 255/300\n",
      "1080/1080 [==============================] - 1s 1ms/step - loss: 4.1645e-04 - acc: 1.0000 - val_loss: 0.6852 - val_acc: 0.8833\n",
      "Epoch 256/300\n",
      "1080/1080 [==============================] - 1s 1ms/step - loss: 3.9775e-04 - acc: 1.0000 - val_loss: 0.6752 - val_acc: 0.8833\n",
      "Epoch 257/300\n",
      "1080/1080 [==============================] - 1s 1ms/step - loss: 3.9060e-04 - acc: 1.0000 - val_loss: 0.6908 - val_acc: 0.8833\n",
      "Epoch 258/300\n",
      "1080/1080 [==============================] - 2s 2ms/step - loss: 3.7729e-04 - acc: 1.0000 - val_loss: 0.6813 - val_acc: 0.8833\n",
      "Epoch 259/300\n",
      "1080/1080 [==============================] - 1s 1ms/step - loss: 3.7103e-04 - acc: 1.0000 - val_loss: 0.6874 - val_acc: 0.8833\n",
      "Epoch 260/300\n",
      "1080/1080 [==============================] - 1s 1ms/step - loss: 3.6099e-04 - acc: 1.0000 - val_loss: 0.6888 - val_acc: 0.8833\n",
      "Epoch 261/300\n",
      "1080/1080 [==============================] - 2s 2ms/step - loss: 3.5225e-04 - acc: 1.0000 - val_loss: 0.6848 - val_acc: 0.8833\n",
      "Epoch 262/300\n",
      "1080/1080 [==============================] - 1s 1ms/step - loss: 3.5217e-04 - acc: 1.0000 - val_loss: 0.6854 - val_acc: 0.8833\n",
      "Epoch 263/300\n",
      "1080/1080 [==============================] - 1s 1ms/step - loss: 3.3770e-04 - acc: 1.0000 - val_loss: 0.6920 - val_acc: 0.8833\n",
      "Epoch 264/300\n",
      "1080/1080 [==============================] - 1s 1ms/step - loss: 3.4368e-04 - acc: 1.0000 - val_loss: 0.6828 - val_acc: 0.8833\n",
      "Epoch 265/300\n",
      "1080/1080 [==============================] - 1s 1ms/step - loss: 3.3787e-04 - acc: 1.0000 - val_loss: 0.6951 - val_acc: 0.8833\n",
      "Epoch 266/300\n",
      "1080/1080 [==============================] - 1s 1ms/step - loss: 3.3768e-04 - acc: 1.0000 - val_loss: 0.6896 - val_acc: 0.8833\n",
      "Epoch 267/300\n",
      "1080/1080 [==============================] - 1s 1ms/step - loss: 3.1676e-04 - acc: 1.0000 - val_loss: 0.6950 - val_acc: 0.8833\n",
      "Epoch 268/300\n",
      "1080/1080 [==============================] - 1s 1ms/step - loss: 3.0469e-04 - acc: 1.0000 - val_loss: 0.6914 - val_acc: 0.8833\n",
      "Epoch 269/300\n",
      "1080/1080 [==============================] - 1s 1ms/step - loss: 3.0140e-04 - acc: 1.0000 - val_loss: 0.6991 - val_acc: 0.8833\n",
      "Epoch 270/300\n",
      "1080/1080 [==============================] - 1s 1ms/step - loss: 2.9560e-04 - acc: 1.0000 - val_loss: 0.6897 - val_acc: 0.8833\n",
      "Epoch 271/300\n",
      "1080/1080 [==============================] - 1s 1ms/step - loss: 2.9096e-04 - acc: 1.0000 - val_loss: 0.6990 - val_acc: 0.8833\n",
      "Epoch 272/300\n",
      "1080/1080 [==============================] - 1s 1ms/step - loss: 2.8407e-04 - acc: 1.0000 - val_loss: 0.6949 - val_acc: 0.8833\n",
      "Epoch 273/300\n",
      "1080/1080 [==============================] - 1s 1ms/step - loss: 2.7762e-04 - acc: 1.0000 - val_loss: 0.7008 - val_acc: 0.8833\n",
      "Epoch 274/300\n",
      "1080/1080 [==============================] - 1s 1ms/step - loss: 2.6549e-04 - acc: 1.0000 - val_loss: 0.6946 - val_acc: 0.8833\n",
      "Epoch 275/300\n",
      "1080/1080 [==============================] - 1s 1ms/step - loss: 2.6488e-04 - acc: 1.0000 - val_loss: 0.7039 - val_acc: 0.8833\n",
      "Epoch 276/300\n",
      "1080/1080 [==============================] - 1s 1ms/step - loss: 2.6146e-04 - acc: 1.0000 - val_loss: 0.6952 - val_acc: 0.8833\n",
      "Epoch 277/300\n",
      "1080/1080 [==============================] - 1s 1ms/step - loss: 2.6396e-04 - acc: 1.0000 - val_loss: 0.7036 - val_acc: 0.8833\n",
      "Epoch 278/300\n",
      "1080/1080 [==============================] - 1s 1ms/step - loss: 2.7133e-04 - acc: 1.0000 - val_loss: 0.6942 - val_acc: 0.8833\n",
      "Epoch 279/300\n",
      "1080/1080 [==============================] - 1s 1ms/step - loss: 2.5588e-04 - acc: 1.0000 - val_loss: 0.7159 - val_acc: 0.8833\n",
      "Epoch 280/300\n",
      "1080/1080 [==============================] - 1s 1ms/step - loss: 2.4035e-04 - acc: 1.0000 - val_loss: 0.6927 - val_acc: 0.8833\n",
      "Epoch 281/300\n",
      "1080/1080 [==============================] - 2s 2ms/step - loss: 2.5000e-04 - acc: 1.0000 - val_loss: 0.7078 - val_acc: 0.8833\n",
      "Epoch 282/300\n",
      "1080/1080 [==============================] - 1s 1ms/step - loss: 2.3168e-04 - acc: 1.0000 - val_loss: 0.7025 - val_acc: 0.8833\n",
      "Epoch 283/300\n",
      "1080/1080 [==============================] - 2s 2ms/step - loss: 2.2224e-04 - acc: 1.0000 - val_loss: 0.7073 - val_acc: 0.8833\n",
      "Epoch 284/300\n",
      "1080/1080 [==============================] - 1s 1ms/step - loss: 2.1935e-04 - acc: 1.0000 - val_loss: 0.7048 - val_acc: 0.8833\n",
      "Epoch 285/300\n",
      "1080/1080 [==============================] - 2s 2ms/step - loss: 2.1432e-04 - acc: 1.0000 - val_loss: 0.7070 - val_acc: 0.8833\n",
      "Epoch 286/300\n",
      "1080/1080 [==============================] - 1s 1ms/step - loss: 2.1421e-04 - acc: 1.0000 - val_loss: 0.7134 - val_acc: 0.8833\n",
      "Epoch 287/300\n",
      "1080/1080 [==============================] - 1s 1ms/step - loss: 2.1070e-04 - acc: 1.0000 - val_loss: 0.7049 - val_acc: 0.8833\n",
      "Epoch 288/300\n",
      "1080/1080 [==============================] - 2s 2ms/step - loss: 2.0381e-04 - acc: 1.0000 - val_loss: 0.7102 - val_acc: 0.8833\n",
      "Epoch 289/300\n",
      "1080/1080 [==============================] - 1s 1ms/step - loss: 2.0089e-04 - acc: 1.0000 - val_loss: 0.7106 - val_acc: 0.8917\n",
      "Epoch 290/300\n",
      "1080/1080 [==============================] - 1s 1ms/step - loss: 1.9786e-04 - acc: 1.0000 - val_loss: 0.7072 - val_acc: 0.8833\n",
      "Epoch 291/300\n",
      "1080/1080 [==============================] - 1s 1ms/step - loss: 1.9584e-04 - acc: 1.0000 - val_loss: 0.7117 - val_acc: 0.8833\n",
      "Epoch 292/300\n",
      "1080/1080 [==============================] - 1s 1ms/step - loss: 1.9917e-04 - acc: 1.0000 - val_loss: 0.7100 - val_acc: 0.8833\n",
      "Epoch 293/300\n",
      "1080/1080 [==============================] - 1s 1ms/step - loss: 1.9224e-04 - acc: 1.0000 - val_loss: 0.7141 - val_acc: 0.8833\n",
      "Epoch 294/300\n",
      "1080/1080 [==============================] - 1s 1ms/step - loss: 1.8362e-04 - acc: 1.0000 - val_loss: 0.7114 - val_acc: 0.8833\n",
      "Epoch 295/300\n",
      "1080/1080 [==============================] - 1s 1ms/step - loss: 1.8004e-04 - acc: 1.0000 - val_loss: 0.7159 - val_acc: 0.8833\n",
      "Epoch 296/300\n",
      "1080/1080 [==============================] - 1s 1ms/step - loss: 1.7507e-04 - acc: 1.0000 - val_loss: 0.7121 - val_acc: 0.8833\n",
      "Epoch 297/300\n",
      "1080/1080 [==============================] - 1s 1ms/step - loss: 1.7253e-04 - acc: 1.0000 - val_loss: 0.7166 - val_acc: 0.8833\n",
      "Epoch 298/300\n"
     ]
    },
    {
     "name": "stdout",
     "output_type": "stream",
     "text": [
      "1080/1080 [==============================] - 1s 1ms/step - loss: 1.6621e-04 - acc: 1.0000 - val_loss: 0.7131 - val_acc: 0.8833\n",
      "Epoch 299/300\n",
      "1080/1080 [==============================] - 1s 1ms/step - loss: 1.6391e-04 - acc: 1.0000 - val_loss: 0.7189 - val_acc: 0.8833\n",
      "Epoch 300/300\n",
      "1080/1080 [==============================] - 1s 1ms/step - loss: 1.6106e-04 - acc: 1.0000 - val_loss: 0.7175 - val_acc: 0.8833\n",
      "1080/1080 [==============================] - 0s 388us/step\n"
     ]
    },
    {
     "data": {
      "text/plain": [
       "[0.0001564506806365292, 1.0]"
      ]
     },
     "execution_count": 11,
     "metadata": {},
     "output_type": "execute_result"
    },
    {
     "name": "stdout",
     "output_type": "stream",
     "text": [
      "120/120 [==============================] - 0s 611us/step\n"
     ]
    },
    {
     "data": {
      "text/plain": [
       "[0.7174835066000621, 0.8833333293596903]"
      ]
     },
     "execution_count": 11,
     "metadata": {},
     "output_type": "execute_result"
    }
   ],
   "source": [
    "# Solve Here\n",
    "\n",
    "# model2 (below) reached 93.33% validation accuracy\n",
    "\n",
    "model2 = Sequential()\n",
    "model2.add(Dense(200, input_shape = (x_train_pix.shape[1],), activation='relu'))\n",
    "model2.add(Dense(400, activation='relu'))\n",
    "model2.add(Dense(600, activation='relu'))\n",
    "model2.add(Dense(800, activation='relu'))\n",
    "model2.add(Dense(800, activation='relu'))\n",
    "model2.add(Dense(600, activation='relu'))\n",
    "model2.add(Dense(400, activation='relu'))\n",
    "model2.add(Dense(6, activation='softmax'))\n",
    "\n",
    "# Compile model\n",
    "model2.compile(loss='categorical_crossentropy', optimizer=keras.optimizers.Adam(lr=0.0001), metrics=['accuracy'])\n",
    "history = model2.fit(x_train_pix, onehotlabels_train, epochs=300, batch_size=100, \\\n",
    "          validation_data=(x_test_pix, onehotlabels_test))\n",
    "\n",
    "model2.evaluate(x_train_pix, onehotlabels_train)\n",
    "model2.evaluate(x_test_pix, onehotlabels_test)"
   ]
  },
  {
   "cell_type": "markdown",
   "metadata": {},
   "source": [
    "**Bonus**\n",
    "\n",
    "See if you can change some of the parameters so that you can reach for a validation accuracy of at least 92%"
   ]
  },
  {
   "cell_type": "code",
   "execution_count": 12,
   "metadata": {
    "scrolled": true
   },
   "outputs": [
    {
     "name": "stdout",
     "output_type": "stream",
     "text": [
      "Train on 1080 samples, validate on 120 samples\n",
      "Epoch 1/300\n",
      "1080/1080 [==============================] - 2s 2ms/step - loss: 1.8444 - acc: 0.1491 - val_loss: 1.8153 - val_acc: 0.1667\n",
      "Epoch 2/300\n",
      "1080/1080 [==============================] - 1s 902us/step - loss: 1.8175 - acc: 0.1546 - val_loss: 1.8059 - val_acc: 0.1667\n",
      "Epoch 3/300\n",
      "1080/1080 [==============================] - 1s 972us/step - loss: 1.8113 - acc: 0.1648 - val_loss: 1.7838 - val_acc: 0.2167\n",
      "Epoch 4/300\n",
      "1080/1080 [==============================] - 1s 1ms/step - loss: 1.7809 - acc: 0.2287 - val_loss: 1.7481 - val_acc: 0.2833\n",
      "Epoch 5/300\n",
      "1080/1080 [==============================] - 1s 1ms/step - loss: 1.7499 - acc: 0.2583 - val_loss: 1.7085 - val_acc: 0.2333\n",
      "Epoch 6/300\n",
      "1080/1080 [==============================] - 1s 912us/step - loss: 1.7022 - acc: 0.3019 - val_loss: 1.6981 - val_acc: 0.2333\n",
      "Epoch 7/300\n",
      "1080/1080 [==============================] - 1s 977us/step - loss: 1.6696 - acc: 0.2880 - val_loss: 1.6500 - val_acc: 0.2250\n",
      "Epoch 8/300\n",
      "1080/1080 [==============================] - 1s 894us/step - loss: 1.6396 - acc: 0.2843 - val_loss: 1.5040 - val_acc: 0.4083\n",
      "Epoch 9/300\n",
      "1080/1080 [==============================] - 1s 900us/step - loss: 1.5431 - acc: 0.3574 - val_loss: 1.3985 - val_acc: 0.4083\n",
      "Epoch 10/300\n",
      "1080/1080 [==============================] - 1s 913us/step - loss: 1.5113 - acc: 0.3435 - val_loss: 1.3985 - val_acc: 0.4250\n",
      "Epoch 11/300\n",
      "1080/1080 [==============================] - 1s 893us/step - loss: 1.4499 - acc: 0.3926 - val_loss: 1.3143 - val_acc: 0.4583\n",
      "Epoch 12/300\n",
      "1080/1080 [==============================] - 1s 883us/step - loss: 1.4537 - acc: 0.3898 - val_loss: 1.3868 - val_acc: 0.4000\n",
      "Epoch 13/300\n",
      "1080/1080 [==============================] - 1s 877us/step - loss: 1.3343 - acc: 0.4556 - val_loss: 1.2486 - val_acc: 0.4917\n",
      "Epoch 14/300\n",
      "1080/1080 [==============================] - 1s 879us/step - loss: 1.2891 - acc: 0.4741 - val_loss: 1.1803 - val_acc: 0.5000\n",
      "Epoch 15/300\n",
      "1080/1080 [==============================] - 1s 874us/step - loss: 1.1363 - acc: 0.5824 - val_loss: 1.4216 - val_acc: 0.4083\n",
      "Epoch 16/300\n",
      "1080/1080 [==============================] - 1s 880us/step - loss: 1.3225 - acc: 0.4694 - val_loss: 1.3987 - val_acc: 0.5083\n",
      "Epoch 17/300\n",
      "1080/1080 [==============================] - 1s 895us/step - loss: 1.3123 - acc: 0.4583 - val_loss: 1.4581 - val_acc: 0.3917\n",
      "Epoch 18/300\n",
      "1080/1080 [==============================] - 1s 873us/step - loss: 1.2659 - acc: 0.4796 - val_loss: 1.1262 - val_acc: 0.5333\n",
      "Epoch 19/300\n",
      "1080/1080 [==============================] - 1s 880us/step - loss: 1.1202 - acc: 0.5398 - val_loss: 1.0022 - val_acc: 0.6083\n",
      "Epoch 20/300\n",
      "1080/1080 [==============================] - 1s 879us/step - loss: 0.9908 - acc: 0.6111 - val_loss: 0.9568 - val_acc: 0.5667\n",
      "Epoch 21/300\n",
      "1080/1080 [==============================] - 1s 897us/step - loss: 0.9435 - acc: 0.6093 - val_loss: 1.0520 - val_acc: 0.5250\n",
      "Epoch 22/300\n",
      "1080/1080 [==============================] - 1s 892us/step - loss: 0.9735 - acc: 0.5963 - val_loss: 1.3308 - val_acc: 0.4500\n",
      "Epoch 23/300\n",
      "1080/1080 [==============================] - 1s 897us/step - loss: 1.0517 - acc: 0.5694 - val_loss: 1.0582 - val_acc: 0.5917\n",
      "Epoch 24/300\n",
      "1080/1080 [==============================] - 1s 903us/step - loss: 0.9651 - acc: 0.6213 - val_loss: 1.2550 - val_acc: 0.4833\n",
      "Epoch 25/300\n",
      "1080/1080 [==============================] - 1s 878us/step - loss: 1.0078 - acc: 0.6019 - val_loss: 1.0312 - val_acc: 0.6083\n",
      "Epoch 26/300\n",
      "1080/1080 [==============================] - 1s 882us/step - loss: 0.9126 - acc: 0.6481 - val_loss: 0.9623 - val_acc: 0.6250\n",
      "Epoch 27/300\n",
      "1080/1080 [==============================] - 1s 872us/step - loss: 0.8373 - acc: 0.6861 - val_loss: 0.9177 - val_acc: 0.5917\n",
      "Epoch 28/300\n",
      "1080/1080 [==============================] - 1s 878us/step - loss: 0.8470 - acc: 0.6694 - val_loss: 1.1225 - val_acc: 0.5167\n",
      "Epoch 29/300\n",
      "1080/1080 [==============================] - 1s 891us/step - loss: 0.8601 - acc: 0.6389 - val_loss: 0.9305 - val_acc: 0.6083\n",
      "Epoch 30/300\n",
      "1080/1080 [==============================] - 1s 871us/step - loss: 0.8109 - acc: 0.6944 - val_loss: 0.8248 - val_acc: 0.6500\n",
      "Epoch 31/300\n",
      "1080/1080 [==============================] - 1s 878us/step - loss: 0.7486 - acc: 0.6954 - val_loss: 0.8127 - val_acc: 0.6833\n",
      "Epoch 32/300\n",
      "1080/1080 [==============================] - 1s 873us/step - loss: 0.8728 - acc: 0.6676 - val_loss: 0.9827 - val_acc: 0.6333\n",
      "Epoch 33/300\n",
      "1080/1080 [==============================] - 1s 882us/step - loss: 0.8214 - acc: 0.6796 - val_loss: 0.8620 - val_acc: 0.7000\n",
      "Epoch 34/300\n",
      "1080/1080 [==============================] - 1s 883us/step - loss: 0.6934 - acc: 0.7463 - val_loss: 0.7796 - val_acc: 0.6917\n",
      "Epoch 35/300\n",
      "1080/1080 [==============================] - 1s 890us/step - loss: 0.6564 - acc: 0.7602 - val_loss: 0.7359 - val_acc: 0.7167\n",
      "Epoch 36/300\n",
      "1080/1080 [==============================] - 1s 889us/step - loss: 0.7411 - acc: 0.7176 - val_loss: 1.0358 - val_acc: 0.6250\n",
      "Epoch 37/300\n",
      "1080/1080 [==============================] - 1s 876us/step - loss: 0.8460 - acc: 0.6611 - val_loss: 0.8410 - val_acc: 0.6917\n",
      "Epoch 38/300\n",
      "1080/1080 [==============================] - 1s 883us/step - loss: 0.7437 - acc: 0.7148 - val_loss: 1.1440 - val_acc: 0.5583\n",
      "Epoch 39/300\n",
      "1080/1080 [==============================] - 1s 898us/step - loss: 0.7577 - acc: 0.7102 - val_loss: 0.8566 - val_acc: 0.6500\n",
      "Epoch 40/300\n",
      "1080/1080 [==============================] - 1s 880us/step - loss: 0.7059 - acc: 0.7306 - val_loss: 0.7750 - val_acc: 0.6333\n",
      "Epoch 41/300\n",
      "1080/1080 [==============================] - 1s 878us/step - loss: 0.6192 - acc: 0.7639 - val_loss: 0.7641 - val_acc: 0.6667\n",
      "Epoch 42/300\n",
      "1080/1080 [==============================] - 1s 889us/step - loss: 0.5709 - acc: 0.7787 - val_loss: 0.6797 - val_acc: 0.7500\n",
      "Epoch 43/300\n",
      "1080/1080 [==============================] - 1s 876us/step - loss: 0.5759 - acc: 0.7769 - val_loss: 0.9624 - val_acc: 0.5833\n",
      "Epoch 44/300\n",
      "1080/1080 [==============================] - 1s 892us/step - loss: 0.7288 - acc: 0.7111 - val_loss: 1.1715 - val_acc: 0.6000\n",
      "Epoch 45/300\n",
      "1080/1080 [==============================] - 1s 890us/step - loss: 0.8508 - acc: 0.6889 - val_loss: 0.6950 - val_acc: 0.7333\n",
      "Epoch 46/300\n",
      "1080/1080 [==============================] - 1s 887us/step - loss: 0.6218 - acc: 0.7611 - val_loss: 0.7852 - val_acc: 0.7417\n",
      "Epoch 47/300\n",
      "1080/1080 [==============================] - 1s 884us/step - loss: 0.6024 - acc: 0.7778 - val_loss: 0.7264 - val_acc: 0.7000\n",
      "Epoch 48/300\n",
      "1080/1080 [==============================] - 1s 882us/step - loss: 0.5719 - acc: 0.7769 - val_loss: 0.6971 - val_acc: 0.7167\n",
      "Epoch 49/300\n",
      "1080/1080 [==============================] - 1s 923us/step - loss: 0.4785 - acc: 0.8352 - val_loss: 0.5740 - val_acc: 0.8000\n",
      "Epoch 50/300\n",
      "1080/1080 [==============================] - 1s 886us/step - loss: 0.4415 - acc: 0.8509 - val_loss: 0.6389 - val_acc: 0.8083\n",
      "Epoch 51/300\n",
      "1080/1080 [==============================] - 1s 891us/step - loss: 0.4389 - acc: 0.8370 - val_loss: 0.9828 - val_acc: 0.6917\n",
      "Epoch 52/300\n",
      "1080/1080 [==============================] - 1s 874us/step - loss: 0.5635 - acc: 0.7954 - val_loss: 0.7730 - val_acc: 0.6917\n",
      "Epoch 53/300\n",
      "1080/1080 [==============================] - 1s 886us/step - loss: 0.5484 - acc: 0.7880 - val_loss: 0.7233 - val_acc: 0.7500\n",
      "Epoch 54/300\n",
      "1080/1080 [==============================] - 1s 886us/step - loss: 0.4696 - acc: 0.8176 - val_loss: 0.6818 - val_acc: 0.6750\n",
      "Epoch 55/300\n",
      "1080/1080 [==============================] - 1s 886us/step - loss: 0.4343 - acc: 0.8444 - val_loss: 0.6337 - val_acc: 0.8250\n",
      "Epoch 56/300\n",
      "1080/1080 [==============================] - 1s 884us/step - loss: 0.4064 - acc: 0.8519 - val_loss: 0.6129 - val_acc: 0.7750\n",
      "Epoch 57/300\n",
      "1080/1080 [==============================] - 1s 890us/step - loss: 0.3691 - acc: 0.8713 - val_loss: 0.6265 - val_acc: 0.7917\n",
      "Epoch 58/300\n",
      "1080/1080 [==============================] - 1s 894us/step - loss: 0.3882 - acc: 0.8537 - val_loss: 0.6165 - val_acc: 0.7917\n",
      "Epoch 59/300\n",
      "1080/1080 [==============================] - 1s 886us/step - loss: 0.3571 - acc: 0.8796 - val_loss: 0.6769 - val_acc: 0.8000\n",
      "Epoch 60/300\n",
      "1080/1080 [==============================] - 1s 879us/step - loss: 0.4429 - acc: 0.8269 - val_loss: 0.5812 - val_acc: 0.7583\n",
      "Epoch 61/300\n",
      "1080/1080 [==============================] - 1s 877us/step - loss: 0.3611 - acc: 0.8676 - val_loss: 0.6395 - val_acc: 0.8333\n",
      "Epoch 62/300\n",
      "1080/1080 [==============================] - 1s 879us/step - loss: 0.3200 - acc: 0.8889 - val_loss: 0.6349 - val_acc: 0.7750\n",
      "Epoch 63/300\n",
      "1080/1080 [==============================] - 1s 881us/step - loss: 0.3770 - acc: 0.8694 - val_loss: 0.6601 - val_acc: 0.7917\n",
      "Epoch 64/300\n",
      "1080/1080 [==============================] - 1s 879us/step - loss: 0.3630 - acc: 0.8648 - val_loss: 1.4188 - val_acc: 0.5917\n",
      "Epoch 65/300\n",
      "1080/1080 [==============================] - 1s 878us/step - loss: 0.7974 - acc: 0.7194 - val_loss: 0.6490 - val_acc: 0.7417\n",
      "Epoch 66/300\n",
      "1080/1080 [==============================] - 1s 877us/step - loss: 0.5223 - acc: 0.8093 - val_loss: 1.2365 - val_acc: 0.6167\n",
      "Epoch 67/300\n",
      "1080/1080 [==============================] - 1s 879us/step - loss: 1.1083 - acc: 0.5833 - val_loss: 1.3322 - val_acc: 0.4500\n",
      "Epoch 68/300\n",
      "1080/1080 [==============================] - 1s 884us/step - loss: 0.8927 - acc: 0.6426 - val_loss: 0.9903 - val_acc: 0.5667\n",
      "Epoch 69/300\n",
      "1080/1080 [==============================] - 1s 868us/step - loss: 0.7710 - acc: 0.6852 - val_loss: 0.8243 - val_acc: 0.6833\n",
      "Epoch 70/300\n",
      "1080/1080 [==============================] - 1s 896us/step - loss: 0.6123 - acc: 0.7796 - val_loss: 0.6681 - val_acc: 0.7500\n",
      "Epoch 71/300\n",
      "1080/1080 [==============================] - 1s 885us/step - loss: 0.4884 - acc: 0.8259 - val_loss: 0.6367 - val_acc: 0.8083\n",
      "Epoch 72/300\n",
      "1080/1080 [==============================] - 1s 876us/step - loss: 0.4301 - acc: 0.8370 - val_loss: 0.5596 - val_acc: 0.8583\n",
      "Epoch 73/300\n",
      "1080/1080 [==============================] - 1s 941us/step - loss: 0.4021 - acc: 0.8556 - val_loss: 0.6192 - val_acc: 0.7833\n",
      "Epoch 74/300\n",
      "1080/1080 [==============================] - 1s 1ms/step - loss: 0.4191 - acc: 0.8417 - val_loss: 0.5582 - val_acc: 0.7750\n",
      "Epoch 75/300\n",
      "1080/1080 [==============================] - 1s 1ms/step - loss: 0.3418 - acc: 0.8713 - val_loss: 0.6955 - val_acc: 0.7750\n",
      "Epoch 76/300\n",
      "1080/1080 [==============================] - 2s 1ms/step - loss: 0.3571 - acc: 0.8759 - val_loss: 0.6573 - val_acc: 0.7500\n",
      "Epoch 77/300\n",
      "1080/1080 [==============================] - 1s 1ms/step - loss: 0.3303 - acc: 0.8861 - val_loss: 0.8504 - val_acc: 0.7167\n",
      "Epoch 78/300\n",
      "1080/1080 [==============================] - 1s 873us/step - loss: 0.3614 - acc: 0.8611 - val_loss: 0.8568 - val_acc: 0.7167\n",
      "Epoch 79/300\n",
      "1080/1080 [==============================] - 1s 855us/step - loss: 0.4357 - acc: 0.8398 - val_loss: 0.8934 - val_acc: 0.6833\n",
      "Epoch 80/300\n",
      "1080/1080 [==============================] - 1s 865us/step - loss: 0.5153 - acc: 0.8250 - val_loss: 0.9936 - val_acc: 0.6667\n",
      "Epoch 81/300\n",
      "1080/1080 [==============================] - 1s 871us/step - loss: 0.4870 - acc: 0.8380 - val_loss: 0.5391 - val_acc: 0.8083\n",
      "Epoch 82/300\n",
      "1080/1080 [==============================] - 1s 860us/step - loss: 0.3390 - acc: 0.8815 - val_loss: 0.7449 - val_acc: 0.7667\n",
      "Epoch 83/300\n",
      "1080/1080 [==============================] - 1s 904us/step - loss: 0.3335 - acc: 0.8843 - val_loss: 0.7698 - val_acc: 0.7333\n",
      "Epoch 84/300\n",
      "1080/1080 [==============================] - 1s 874us/step - loss: 0.4550 - acc: 0.8296 - val_loss: 0.7169 - val_acc: 0.7500\n",
      "Epoch 85/300\n",
      "1080/1080 [==============================] - 1s 865us/step - loss: 0.4646 - acc: 0.8250 - val_loss: 0.6891 - val_acc: 0.7583\n",
      "Epoch 86/300\n",
      "1080/1080 [==============================] - 1s 1ms/step - loss: 0.4172 - acc: 0.8537 - val_loss: 0.6623 - val_acc: 0.7667\n",
      "Epoch 87/300\n",
      "1080/1080 [==============================] - 1s 1ms/step - loss: 0.4116 - acc: 0.8528 - val_loss: 0.6774 - val_acc: 0.7667\n",
      "Epoch 88/300\n",
      "1080/1080 [==============================] - 1s 844us/step - loss: 0.4313 - acc: 0.8481 - val_loss: 0.6986 - val_acc: 0.7583\n",
      "Epoch 89/300\n",
      "1080/1080 [==============================] - 1s 1ms/step - loss: 0.4770 - acc: 0.8157 - val_loss: 0.6062 - val_acc: 0.8000\n",
      "Epoch 90/300\n",
      "1080/1080 [==============================] - 1s 1ms/step - loss: 0.3100 - acc: 0.8889 - val_loss: 0.6238 - val_acc: 0.8000\n",
      "Epoch 91/300\n",
      "1080/1080 [==============================] - 1s 870us/step - loss: 0.2605 - acc: 0.9139 - val_loss: 0.4461 - val_acc: 0.8667\n",
      "Epoch 92/300\n",
      "1080/1080 [==============================] - 1s 1ms/step - loss: 0.2204 - acc: 0.9194 - val_loss: 0.5812 - val_acc: 0.7833\n",
      "Epoch 93/300\n",
      "1080/1080 [==============================] - 1s 1ms/step - loss: 0.2164 - acc: 0.9259 - val_loss: 0.5958 - val_acc: 0.8083\n",
      "Epoch 94/300\n",
      "1080/1080 [==============================] - 1s 1ms/step - loss: 0.2244 - acc: 0.9222 - val_loss: 0.6538 - val_acc: 0.7917\n",
      "Epoch 95/300\n",
      "1080/1080 [==============================] - 1s 866us/step - loss: 0.2393 - acc: 0.9120 - val_loss: 0.7059 - val_acc: 0.8000\n",
      "Epoch 96/300\n",
      "1080/1080 [==============================] - 1s 898us/step - loss: 0.2198 - acc: 0.9231 - val_loss: 0.5803 - val_acc: 0.8083\n",
      "Epoch 97/300\n",
      "1080/1080 [==============================] - 1s 883us/step - loss: 0.2009 - acc: 0.9370 - val_loss: 0.4800 - val_acc: 0.8167\n",
      "Epoch 98/300\n",
      "1080/1080 [==============================] - 1s 877us/step - loss: 0.1651 - acc: 0.9519 - val_loss: 0.4698 - val_acc: 0.8583\n",
      "Epoch 99/300\n",
      "1080/1080 [==============================] - 1s 935us/step - loss: 0.1481 - acc: 0.9519 - val_loss: 0.6389 - val_acc: 0.7750\n",
      "Epoch 100/300\n",
      "1080/1080 [==============================] - 1s 866us/step - loss: 0.1757 - acc: 0.9380 - val_loss: 0.7931 - val_acc: 0.7750\n",
      "Epoch 101/300\n",
      "1080/1080 [==============================] - 1s 874us/step - loss: 0.2233 - acc: 0.9194 - val_loss: 1.7761 - val_acc: 0.6167\n",
      "Epoch 102/300\n",
      "1080/1080 [==============================] - 1s 906us/step - loss: 0.7586 - acc: 0.7694 - val_loss: 0.8372 - val_acc: 0.6833\n",
      "Epoch 103/300\n",
      "1080/1080 [==============================] - 1s 940us/step - loss: 0.5296 - acc: 0.7796 - val_loss: 0.6932 - val_acc: 0.7250\n",
      "Epoch 104/300\n",
      "1080/1080 [==============================] - 1s 907us/step - loss: 0.3109 - acc: 0.8861 - val_loss: 0.5436 - val_acc: 0.8250\n",
      "Epoch 105/300\n",
      "1080/1080 [==============================] - 1s 903us/step - loss: 0.2009 - acc: 0.9435 - val_loss: 0.5191 - val_acc: 0.8417\n",
      "Epoch 106/300\n",
      "1080/1080 [==============================] - 1s 1ms/step - loss: 0.1565 - acc: 0.9528 - val_loss: 0.5340 - val_acc: 0.8417\n",
      "Epoch 107/300\n",
      "1080/1080 [==============================] - 1s 1ms/step - loss: 0.1482 - acc: 0.9593 - val_loss: 0.5007 - val_acc: 0.8250\n",
      "Epoch 108/300\n",
      "1080/1080 [==============================] - 1s 941us/step - loss: 0.1460 - acc: 0.9528 - val_loss: 0.5840 - val_acc: 0.8167\n",
      "Epoch 109/300\n",
      "1080/1080 [==============================] - 1s 1ms/step - loss: 0.3659 - acc: 0.8796 - val_loss: 0.8225 - val_acc: 0.7917\n",
      "Epoch 110/300\n",
      "1080/1080 [==============================] - 1s 1ms/step - loss: 0.3211 - acc: 0.8907 - val_loss: 0.6932 - val_acc: 0.7917\n",
      "Epoch 111/300\n",
      "1080/1080 [==============================] - 1s 896us/step - loss: 0.4895 - acc: 0.8213 - val_loss: 0.7215 - val_acc: 0.7500\n",
      "Epoch 112/300\n",
      "1080/1080 [==============================] - 1s 932us/step - loss: 0.3797 - acc: 0.8602 - val_loss: 0.7743 - val_acc: 0.7583\n",
      "Epoch 113/300\n",
      "1080/1080 [==============================] - 1s 901us/step - loss: 0.3627 - acc: 0.8787 - val_loss: 0.7623 - val_acc: 0.7833\n",
      "Epoch 114/300\n",
      "1080/1080 [==============================] - 1s 992us/step - loss: 0.2490 - acc: 0.9148 - val_loss: 0.5167 - val_acc: 0.7917\n",
      "Epoch 115/300\n",
      "1080/1080 [==============================] - 1s 907us/step - loss: 0.2021 - acc: 0.9241 - val_loss: 0.5043 - val_acc: 0.8500\n",
      "Epoch 116/300\n",
      "1080/1080 [==============================] - 1s 899us/step - loss: 0.1822 - acc: 0.9306 - val_loss: 0.4536 - val_acc: 0.8417\n",
      "Epoch 117/300\n",
      "1080/1080 [==============================] - 1s 993us/step - loss: 0.1484 - acc: 0.9454 - val_loss: 0.4012 - val_acc: 0.8833\n",
      "Epoch 118/300\n",
      "1080/1080 [==============================] - 1s 982us/step - loss: 0.1206 - acc: 0.9620 - val_loss: 0.5058 - val_acc: 0.8500\n",
      "Epoch 119/300\n"
     ]
    },
    {
     "name": "stdout",
     "output_type": "stream",
     "text": [
      "1080/1080 [==============================] - 1s 969us/step - loss: 0.1283 - acc: 0.9565 - val_loss: 0.5115 - val_acc: 0.8500\n",
      "Epoch 120/300\n",
      "1080/1080 [==============================] - 1s 874us/step - loss: 0.1287 - acc: 0.9472 - val_loss: 0.6357 - val_acc: 0.7917\n",
      "Epoch 121/300\n",
      "1080/1080 [==============================] - 1s 876us/step - loss: 0.1118 - acc: 0.9639 - val_loss: 0.5896 - val_acc: 0.8583\n",
      "Epoch 122/300\n",
      "1080/1080 [==============================] - 1s 866us/step - loss: 0.1090 - acc: 0.9648 - val_loss: 0.7001 - val_acc: 0.8333\n",
      "Epoch 123/300\n",
      "1080/1080 [==============================] - 1s 973us/step - loss: 0.1373 - acc: 0.9481 - val_loss: 0.8818 - val_acc: 0.7833\n",
      "Epoch 124/300\n",
      "1080/1080 [==============================] - 1s 1ms/step - loss: 0.2823 - acc: 0.8870 - val_loss: 0.9210 - val_acc: 0.7333\n",
      "Epoch 125/300\n",
      "1080/1080 [==============================] - 1s 1ms/step - loss: 0.3592 - acc: 0.8648 - val_loss: 0.6868 - val_acc: 0.8167\n",
      "Epoch 126/300\n",
      "1080/1080 [==============================] - 1s 872us/step - loss: 0.3406 - acc: 0.8926 - val_loss: 0.7427 - val_acc: 0.8000\n",
      "Epoch 127/300\n",
      "1080/1080 [==============================] - 1s 877us/step - loss: 0.2610 - acc: 0.9074 - val_loss: 0.6208 - val_acc: 0.7917\n",
      "Epoch 128/300\n",
      "1080/1080 [==============================] - 1s 896us/step - loss: 0.1666 - acc: 0.9463 - val_loss: 0.4421 - val_acc: 0.8250\n",
      "Epoch 129/300\n",
      "1080/1080 [==============================] - 1s 875us/step - loss: 0.1465 - acc: 0.9407 - val_loss: 0.4489 - val_acc: 0.8333\n",
      "Epoch 130/300\n",
      "1080/1080 [==============================] - 1s 874us/step - loss: 0.0992 - acc: 0.9685 - val_loss: 0.4321 - val_acc: 0.9083\n",
      "Epoch 131/300\n",
      "1080/1080 [==============================] - 1s 880us/step - loss: 0.0804 - acc: 0.9750 - val_loss: 0.4370 - val_acc: 0.9000\n",
      "Epoch 132/300\n",
      "1080/1080 [==============================] - 1s 879us/step - loss: 0.0639 - acc: 0.9815 - val_loss: 0.4654 - val_acc: 0.8750\n",
      "Epoch 133/300\n",
      "1080/1080 [==============================] - 1s 874us/step - loss: 0.0496 - acc: 0.9861 - val_loss: 0.4535 - val_acc: 0.8750\n",
      "Epoch 134/300\n",
      "1080/1080 [==============================] - 1s 880us/step - loss: 0.0426 - acc: 0.9880 - val_loss: 0.4430 - val_acc: 0.8833\n",
      "Epoch 135/300\n",
      "1080/1080 [==============================] - 1s 882us/step - loss: 0.0415 - acc: 0.9907 - val_loss: 0.4646 - val_acc: 0.8917\n",
      "Epoch 136/300\n",
      "1080/1080 [==============================] - 1s 882us/step - loss: 0.0388 - acc: 0.9889 - val_loss: 0.5223 - val_acc: 0.8667\n",
      "Epoch 137/300\n",
      "1080/1080 [==============================] - 1s 918us/step - loss: 0.0444 - acc: 0.9880 - val_loss: 0.5658 - val_acc: 0.8583\n",
      "Epoch 138/300\n",
      "1080/1080 [==============================] - 1s 878us/step - loss: 0.0667 - acc: 0.9769 - val_loss: 0.7042 - val_acc: 0.8250\n",
      "Epoch 139/300\n",
      "1080/1080 [==============================] - 1s 894us/step - loss: 0.0974 - acc: 0.9620 - val_loss: 0.7233 - val_acc: 0.8417\n",
      "Epoch 140/300\n",
      "1080/1080 [==============================] - 1s 885us/step - loss: 0.1971 - acc: 0.9306 - val_loss: 1.2946 - val_acc: 0.7417\n",
      "Epoch 141/300\n",
      "1080/1080 [==============================] - 1s 877us/step - loss: 0.2517 - acc: 0.9056 - val_loss: 1.0726 - val_acc: 0.7250\n",
      "Epoch 142/300\n",
      "1080/1080 [==============================] - 1s 1ms/step - loss: 0.1918 - acc: 0.9370 - val_loss: 0.9006 - val_acc: 0.7250\n",
      "Epoch 143/300\n",
      "1080/1080 [==============================] - 1s 1ms/step - loss: 0.1941 - acc: 0.9333 - val_loss: 0.5180 - val_acc: 0.8583\n",
      "Epoch 144/300\n",
      "1080/1080 [==============================] - 1s 1ms/step - loss: 0.1016 - acc: 0.9657 - val_loss: 0.3585 - val_acc: 0.8833\n",
      "Epoch 145/300\n",
      "1080/1080 [==============================] - 1s 1ms/step - loss: 0.0812 - acc: 0.9741 - val_loss: 0.3754 - val_acc: 0.9000\n",
      "Epoch 146/300\n",
      "1080/1080 [==============================] - 1s 1ms/step - loss: 0.0636 - acc: 0.9852 - val_loss: 0.4754 - val_acc: 0.8833\n",
      "Epoch 147/300\n",
      "1080/1080 [==============================] - 1s 1ms/step - loss: 0.0527 - acc: 0.9833 - val_loss: 0.6228 - val_acc: 0.8667\n",
      "Epoch 148/300\n",
      "1080/1080 [==============================] - 1s 1ms/step - loss: 0.0479 - acc: 0.9852 - val_loss: 0.4342 - val_acc: 0.8750\n",
      "Epoch 149/300\n",
      "1080/1080 [==============================] - 1s 898us/step - loss: 0.0339 - acc: 0.9898 - val_loss: 0.4465 - val_acc: 0.8667\n",
      "Epoch 150/300\n",
      "1080/1080 [==============================] - 1s 888us/step - loss: 0.0272 - acc: 0.9944 - val_loss: 0.5262 - val_acc: 0.8917\n",
      "Epoch 151/300\n",
      "1080/1080 [==============================] - 1s 891us/step - loss: 0.0231 - acc: 0.9944 - val_loss: 0.4539 - val_acc: 0.8833\n",
      "Epoch 152/300\n",
      "1080/1080 [==============================] - 1s 890us/step - loss: 0.0183 - acc: 0.9944 - val_loss: 0.4965 - val_acc: 0.9000\n",
      "Epoch 153/300\n",
      "1080/1080 [==============================] - 1s 894us/step - loss: 0.0180 - acc: 0.9963 - val_loss: 0.5059 - val_acc: 0.8917\n",
      "Epoch 154/300\n",
      "1080/1080 [==============================] - 1s 973us/step - loss: 0.0166 - acc: 0.9972 - val_loss: 0.4602 - val_acc: 0.8750\n",
      "Epoch 155/300\n",
      "1080/1080 [==============================] - 1s 1ms/step - loss: 0.0161 - acc: 0.9972 - val_loss: 0.5047 - val_acc: 0.8917\n",
      "Epoch 156/300\n",
      "1080/1080 [==============================] - 1s 869us/step - loss: 0.0130 - acc: 0.9963 - val_loss: 0.4501 - val_acc: 0.9000\n",
      "Epoch 157/300\n",
      "1080/1080 [==============================] - 1s 957us/step - loss: 0.0119 - acc: 0.9981 - val_loss: 0.5048 - val_acc: 0.8917\n",
      "Epoch 158/300\n",
      "1080/1080 [==============================] - 1s 939us/step - loss: 0.0098 - acc: 0.9972 - val_loss: 0.4755 - val_acc: 0.9000\n",
      "Epoch 159/300\n",
      "1080/1080 [==============================] - 1s 905us/step - loss: 0.0092 - acc: 0.9981 - val_loss: 0.5078 - val_acc: 0.9000\n",
      "Epoch 160/300\n",
      "1080/1080 [==============================] - 1s 885us/step - loss: 0.0094 - acc: 0.9991 - val_loss: 0.4804 - val_acc: 0.8833\n",
      "Epoch 161/300\n",
      "1080/1080 [==============================] - 1s 896us/step - loss: 0.0112 - acc: 0.9981 - val_loss: 0.5109 - val_acc: 0.8833\n",
      "Epoch 162/300\n",
      "1080/1080 [==============================] - 1s 958us/step - loss: 0.0099 - acc: 0.9981 - val_loss: 0.5120 - val_acc: 0.8833\n",
      "Epoch 163/300\n",
      "1080/1080 [==============================] - 1s 901us/step - loss: 0.0095 - acc: 0.9981 - val_loss: 0.5371 - val_acc: 0.9000\n",
      "Epoch 164/300\n",
      "1080/1080 [==============================] - 1s 905us/step - loss: 0.0087 - acc: 0.9981 - val_loss: 0.5542 - val_acc: 0.8917\n",
      "Epoch 165/300\n",
      "1080/1080 [==============================] - 1s 899us/step - loss: 0.0068 - acc: 0.9991 - val_loss: 0.4877 - val_acc: 0.8917\n",
      "Epoch 166/300\n",
      "1080/1080 [==============================] - 1s 887us/step - loss: 0.0055 - acc: 0.9991 - val_loss: 0.5459 - val_acc: 0.9000\n",
      "Epoch 167/300\n",
      "1080/1080 [==============================] - 1s 892us/step - loss: 0.0060 - acc: 0.9981 - val_loss: 0.5986 - val_acc: 0.8917\n",
      "Epoch 168/300\n",
      "1080/1080 [==============================] - 1s 893us/step - loss: 0.0087 - acc: 0.9991 - val_loss: 0.4889 - val_acc: 0.8833\n",
      "Epoch 169/300\n",
      "1080/1080 [==============================] - 1s 897us/step - loss: 0.0076 - acc: 0.9991 - val_loss: 0.5282 - val_acc: 0.8917\n",
      "Epoch 170/300\n",
      "1080/1080 [==============================] - 1s 895us/step - loss: 0.0087 - acc: 0.9972 - val_loss: 0.7124 - val_acc: 0.8750\n",
      "Epoch 171/300\n",
      "1080/1080 [==============================] - 1s 889us/step - loss: 0.0079 - acc: 0.9972 - val_loss: 0.4761 - val_acc: 0.9083\n",
      "Epoch 172/300\n",
      "1080/1080 [==============================] - 1s 895us/step - loss: 0.0107 - acc: 0.9972 - val_loss: 0.6423 - val_acc: 0.8917\n",
      "Epoch 173/300\n",
      "1080/1080 [==============================] - 1s 888us/step - loss: 0.0165 - acc: 0.9935 - val_loss: 0.6929 - val_acc: 0.8583\n",
      "Epoch 174/300\n",
      "1080/1080 [==============================] - 1s 893us/step - loss: 0.0154 - acc: 0.9963 - val_loss: 0.7072 - val_acc: 0.8833\n",
      "Epoch 175/300\n",
      "1080/1080 [==============================] - 1s 900us/step - loss: 0.0562 - acc: 0.9815 - val_loss: 0.9623 - val_acc: 0.8000\n",
      "Epoch 176/300\n",
      "1080/1080 [==============================] - 1s 904us/step - loss: 0.0847 - acc: 0.9713 - val_loss: 0.7800 - val_acc: 0.8083\n",
      "Epoch 177/300\n",
      "1080/1080 [==============================] - 1s 900us/step - loss: 0.1141 - acc: 0.9611 - val_loss: 0.8379 - val_acc: 0.7667\n",
      "Epoch 178/300\n",
      "1080/1080 [==============================] - 1s 917us/step - loss: 0.4922 - acc: 0.8880 - val_loss: 2.5562 - val_acc: 0.6500\n",
      "Epoch 179/300\n",
      "1080/1080 [==============================] - 1s 892us/step - loss: 2.9468 - acc: 0.5370 - val_loss: 2.8277 - val_acc: 0.3333\n",
      "Epoch 180/300\n",
      "1080/1080 [==============================] - 1s 950us/step - loss: 1.7349 - acc: 0.3676 - val_loss: 1.5563 - val_acc: 0.4500\n",
      "Epoch 181/300\n",
      "1080/1080 [==============================] - 1s 902us/step - loss: 1.3015 - acc: 0.5213 - val_loss: 1.1728 - val_acc: 0.5500\n",
      "Epoch 182/300\n",
      "1080/1080 [==============================] - 1s 1ms/step - loss: 0.9859 - acc: 0.6333 - val_loss: 1.3854 - val_acc: 0.5500\n",
      "Epoch 183/300\n",
      "1080/1080 [==============================] - 1s 1ms/step - loss: 1.0654 - acc: 0.5889 - val_loss: 0.9596 - val_acc: 0.6583\n",
      "Epoch 184/300\n",
      "1080/1080 [==============================] - 1s 990us/step - loss: 0.7785 - acc: 0.7380 - val_loss: 0.8196 - val_acc: 0.7083\n",
      "Epoch 185/300\n",
      "1080/1080 [==============================] - 1s 929us/step - loss: 0.5826 - acc: 0.8000 - val_loss: 0.8514 - val_acc: 0.6750\n",
      "Epoch 186/300\n",
      "1080/1080 [==============================] - 1s 989us/step - loss: 0.5155 - acc: 0.8213 - val_loss: 0.7371 - val_acc: 0.7833\n",
      "Epoch 187/300\n",
      "1080/1080 [==============================] - 1s 956us/step - loss: 0.5127 - acc: 0.8148 - val_loss: 0.7600 - val_acc: 0.7583\n",
      "Epoch 188/300\n",
      "1080/1080 [==============================] - 1s 972us/step - loss: 0.6199 - acc: 0.7648 - val_loss: 0.6998 - val_acc: 0.7833\n",
      "Epoch 189/300\n",
      "1080/1080 [==============================] - 1s 953us/step - loss: 0.4947 - acc: 0.8176 - val_loss: 0.6630 - val_acc: 0.7417\n",
      "Epoch 190/300\n",
      "1080/1080 [==============================] - 1s 958us/step - loss: 0.4601 - acc: 0.8380 - val_loss: 0.5807 - val_acc: 0.7833\n",
      "Epoch 191/300\n",
      "1080/1080 [==============================] - 1s 945us/step - loss: 0.4480 - acc: 0.8250 - val_loss: 0.6770 - val_acc: 0.7500\n",
      "Epoch 192/300\n",
      "1080/1080 [==============================] - 1s 902us/step - loss: 0.4418 - acc: 0.8370 - val_loss: 0.6902 - val_acc: 0.7417\n",
      "Epoch 193/300\n",
      "1080/1080 [==============================] - 1s 898us/step - loss: 0.4284 - acc: 0.8361 - val_loss: 1.5163 - val_acc: 0.6250\n",
      "Epoch 194/300\n",
      "1080/1080 [==============================] - 1s 897us/step - loss: 0.9426 - acc: 0.6954 - val_loss: 0.6576 - val_acc: 0.7333\n",
      "Epoch 195/300\n",
      "1080/1080 [==============================] - 1s 896us/step - loss: 0.5964 - acc: 0.7630 - val_loss: 0.7699 - val_acc: 0.7167\n",
      "Epoch 196/300\n",
      "1080/1080 [==============================] - 1s 894us/step - loss: 0.5307 - acc: 0.8093 - val_loss: 0.8996 - val_acc: 0.6583\n",
      "Epoch 197/300\n",
      "1080/1080 [==============================] - 1s 903us/step - loss: 0.4994 - acc: 0.8056 - val_loss: 0.5931 - val_acc: 0.7750\n",
      "Epoch 198/300\n",
      "1080/1080 [==============================] - 1s 894us/step - loss: 0.3854 - acc: 0.8685 - val_loss: 0.4707 - val_acc: 0.8250\n",
      "Epoch 199/300\n",
      "1080/1080 [==============================] - 1s 893us/step - loss: 0.3029 - acc: 0.9083 - val_loss: 0.4725 - val_acc: 0.8083\n",
      "Epoch 200/300\n",
      "1080/1080 [==============================] - 1s 901us/step - loss: 0.2417 - acc: 0.9231 - val_loss: 0.4804 - val_acc: 0.8333\n",
      "Epoch 201/300\n",
      "1080/1080 [==============================] - 1s 904us/step - loss: 0.2055 - acc: 0.9315 - val_loss: 0.4289 - val_acc: 0.8667\n",
      "Epoch 202/300\n",
      "1080/1080 [==============================] - 1s 898us/step - loss: 0.1785 - acc: 0.9398 - val_loss: 0.4702 - val_acc: 0.8250\n",
      "Epoch 203/300\n",
      "1080/1080 [==============================] - 1s 913us/step - loss: 0.1649 - acc: 0.9454 - val_loss: 0.4419 - val_acc: 0.8500\n",
      "Epoch 204/300\n",
      "1080/1080 [==============================] - 1s 926us/step - loss: 0.1651 - acc: 0.9481 - val_loss: 0.4937 - val_acc: 0.8333\n",
      "Epoch 205/300\n",
      "1080/1080 [==============================] - 1s 904us/step - loss: 0.2919 - acc: 0.9019 - val_loss: 0.7459 - val_acc: 0.7667\n",
      "Epoch 206/300\n",
      "1080/1080 [==============================] - 1s 889us/step - loss: 0.4640 - acc: 0.8352 - val_loss: 1.0543 - val_acc: 0.6417\n",
      "Epoch 207/300\n",
      "1080/1080 [==============================] - 1s 907us/step - loss: 0.4865 - acc: 0.8176 - val_loss: 0.8649 - val_acc: 0.7167\n",
      "Epoch 208/300\n",
      "1080/1080 [==============================] - 1s 903us/step - loss: 0.4322 - acc: 0.8463 - val_loss: 0.5740 - val_acc: 0.8083\n",
      "Epoch 209/300\n",
      "1080/1080 [==============================] - 1s 890us/step - loss: 0.2514 - acc: 0.9167 - val_loss: 0.5888 - val_acc: 0.8417\n",
      "Epoch 210/300\n",
      "1080/1080 [==============================] - 1s 909us/step - loss: 0.2140 - acc: 0.9352 - val_loss: 0.6245 - val_acc: 0.8333\n",
      "Epoch 211/300\n",
      "1080/1080 [==============================] - 1s 903us/step - loss: 0.1963 - acc: 0.9398 - val_loss: 0.4677 - val_acc: 0.8500\n",
      "Epoch 212/300\n",
      "1080/1080 [==============================] - 1s 897us/step - loss: 0.1446 - acc: 0.9528 - val_loss: 0.3959 - val_acc: 0.8500\n",
      "Epoch 213/300\n",
      "1080/1080 [==============================] - 1s 904us/step - loss: 0.1106 - acc: 0.9722 - val_loss: 0.4999 - val_acc: 0.8083\n",
      "Epoch 214/300\n",
      "1080/1080 [==============================] - 1s 909us/step - loss: 0.1241 - acc: 0.9657 - val_loss: 0.6438 - val_acc: 0.8333\n",
      "Epoch 215/300\n",
      "1080/1080 [==============================] - 1s 903us/step - loss: 0.1603 - acc: 0.9435 - val_loss: 0.5343 - val_acc: 0.8083\n",
      "Epoch 216/300\n",
      "1080/1080 [==============================] - 1s 918us/step - loss: 0.1757 - acc: 0.9426 - val_loss: 0.5745 - val_acc: 0.8167\n",
      "Epoch 217/300\n",
      "1080/1080 [==============================] - 1s 901us/step - loss: 0.2169 - acc: 0.9231 - val_loss: 0.5350 - val_acc: 0.8083\n",
      "Epoch 218/300\n",
      "1080/1080 [==============================] - 1s 929us/step - loss: 0.1258 - acc: 0.9593 - val_loss: 0.4387 - val_acc: 0.8333\n",
      "Epoch 219/300\n",
      "1080/1080 [==============================] - 1s 907us/step - loss: 0.1351 - acc: 0.9444 - val_loss: 0.5290 - val_acc: 0.8333\n",
      "Epoch 220/300\n",
      "1080/1080 [==============================] - 1s 918us/step - loss: 0.1212 - acc: 0.9602 - val_loss: 0.4548 - val_acc: 0.8583\n",
      "Epoch 221/300\n",
      "1080/1080 [==============================] - 1s 900us/step - loss: 0.1932 - acc: 0.9287 - val_loss: 0.5913 - val_acc: 0.8500\n",
      "Epoch 222/300\n",
      "1080/1080 [==============================] - 1s 905us/step - loss: 0.2093 - acc: 0.9194 - val_loss: 0.6169 - val_acc: 0.8333\n",
      "Epoch 223/300\n",
      "1080/1080 [==============================] - 1s 908us/step - loss: 0.2087 - acc: 0.9250 - val_loss: 0.9620 - val_acc: 0.7333\n",
      "Epoch 224/300\n",
      "1080/1080 [==============================] - 1s 897us/step - loss: 0.2346 - acc: 0.9139 - val_loss: 0.8913 - val_acc: 0.7833\n",
      "Epoch 225/300\n",
      "1080/1080 [==============================] - 1s 907us/step - loss: 0.2251 - acc: 0.9130 - val_loss: 1.0901 - val_acc: 0.7250\n",
      "Epoch 226/300\n",
      "1080/1080 [==============================] - 1s 911us/step - loss: 0.6483 - acc: 0.8019 - val_loss: 1.2839 - val_acc: 0.6500\n",
      "Epoch 227/300\n",
      "1080/1080 [==============================] - 1s 903us/step - loss: 0.5144 - acc: 0.8148 - val_loss: 0.5572 - val_acc: 0.7833\n",
      "Epoch 228/300\n",
      "1080/1080 [==============================] - 1s 909us/step - loss: 0.4179 - acc: 0.8519 - val_loss: 0.8017 - val_acc: 0.6917\n",
      "Epoch 229/300\n",
      "1080/1080 [==============================] - 1s 907us/step - loss: 0.2923 - acc: 0.9083 - val_loss: 0.5160 - val_acc: 0.8250\n",
      "Epoch 230/300\n",
      "1080/1080 [==============================] - 1s 906us/step - loss: 0.1875 - acc: 0.9435 - val_loss: 0.4498 - val_acc: 0.8167\n",
      "Epoch 231/300\n",
      "1080/1080 [==============================] - 1s 911us/step - loss: 0.1501 - acc: 0.9546 - val_loss: 0.4330 - val_acc: 0.8417\n",
      "Epoch 232/300\n",
      "1080/1080 [==============================] - 1s 905us/step - loss: 0.1325 - acc: 0.9602 - val_loss: 0.3998 - val_acc: 0.8750\n",
      "Epoch 233/300\n",
      "1080/1080 [==============================] - 1s 910us/step - loss: 0.0919 - acc: 0.9759 - val_loss: 0.4511 - val_acc: 0.8750\n",
      "Epoch 234/300\n",
      "1080/1080 [==============================] - 1s 907us/step - loss: 0.0818 - acc: 0.9815 - val_loss: 0.4561 - val_acc: 0.8417\n",
      "Epoch 235/300\n",
      "1080/1080 [==============================] - 1s 906us/step - loss: 0.0744 - acc: 0.9806 - val_loss: 0.4894 - val_acc: 0.8333\n",
      "Epoch 236/300\n",
      "1080/1080 [==============================] - 1s 899us/step - loss: 0.0589 - acc: 0.9852 - val_loss: 0.5270 - val_acc: 0.8417\n",
      "Epoch 237/300\n"
     ]
    },
    {
     "name": "stdout",
     "output_type": "stream",
     "text": [
      "1080/1080 [==============================] - 1s 897us/step - loss: 0.0644 - acc: 0.9843 - val_loss: 0.6549 - val_acc: 0.8083\n",
      "Epoch 238/300\n",
      "1080/1080 [==============================] - 1s 888us/step - loss: 0.0644 - acc: 0.9806 - val_loss: 0.4936 - val_acc: 0.8417\n",
      "Epoch 239/300\n",
      "1080/1080 [==============================] - 1s 955us/step - loss: 0.0517 - acc: 0.9880 - val_loss: 0.5842 - val_acc: 0.8500\n",
      "Epoch 240/300\n",
      "1080/1080 [==============================] - 1s 884us/step - loss: 0.0349 - acc: 0.9944 - val_loss: 0.5057 - val_acc: 0.8500\n",
      "Epoch 241/300\n",
      "1080/1080 [==============================] - 1s 1ms/step - loss: 0.0418 - acc: 0.9935 - val_loss: 0.5694 - val_acc: 0.8333\n",
      "Epoch 242/300\n",
      "1080/1080 [==============================] - 1s 897us/step - loss: 0.0374 - acc: 0.9907 - val_loss: 0.5739 - val_acc: 0.8583\n",
      "Epoch 243/300\n",
      "1080/1080 [==============================] - 1s 894us/step - loss: 0.0404 - acc: 0.9907 - val_loss: 0.6094 - val_acc: 0.8500\n",
      "Epoch 244/300\n",
      "1080/1080 [==============================] - 1s 1ms/step - loss: 0.0458 - acc: 0.9852 - val_loss: 0.8158 - val_acc: 0.7667\n",
      "Epoch 245/300\n",
      "1080/1080 [==============================] - 1s 960us/step - loss: 0.1382 - acc: 0.9435 - val_loss: 1.0645 - val_acc: 0.8000\n",
      "Epoch 246/300\n",
      "1080/1080 [==============================] - 1s 1ms/step - loss: 0.1923 - acc: 0.9287 - val_loss: 0.6512 - val_acc: 0.8083\n",
      "Epoch 247/300\n",
      "1080/1080 [==============================] - 1s 897us/step - loss: 0.1988 - acc: 0.9204 - val_loss: 0.8649 - val_acc: 0.8000\n",
      "Epoch 248/300\n",
      "1080/1080 [==============================] - 1s 914us/step - loss: 0.1906 - acc: 0.9241 - val_loss: 0.7071 - val_acc: 0.8333\n",
      "Epoch 249/300\n",
      "1080/1080 [==============================] - 1s 903us/step - loss: 0.1546 - acc: 0.9324 - val_loss: 0.5492 - val_acc: 0.8583\n",
      "Epoch 250/300\n",
      "1080/1080 [==============================] - 1s 900us/step - loss: 0.0855 - acc: 0.9694 - val_loss: 0.7539 - val_acc: 0.8333\n",
      "Epoch 251/300\n",
      "1080/1080 [==============================] - 1s 902us/step - loss: 0.0839 - acc: 0.9704 - val_loss: 0.5597 - val_acc: 0.8667\n",
      "Epoch 252/300\n",
      "1080/1080 [==============================] - 1s 903us/step - loss: 0.0603 - acc: 0.9824 - val_loss: 0.4921 - val_acc: 0.8833\n",
      "Epoch 253/300\n",
      "1080/1080 [==============================] - 1s 893us/step - loss: 0.0427 - acc: 0.9907 - val_loss: 0.5809 - val_acc: 0.8583\n",
      "Epoch 254/300\n",
      "1080/1080 [==============================] - 1s 906us/step - loss: 0.0421 - acc: 0.9926 - val_loss: 0.5430 - val_acc: 0.8750\n",
      "Epoch 255/300\n",
      "1080/1080 [==============================] - 1s 901us/step - loss: 0.0490 - acc: 0.9870 - val_loss: 0.7187 - val_acc: 0.8500\n",
      "Epoch 256/300\n",
      "1080/1080 [==============================] - 1s 903us/step - loss: 0.0483 - acc: 0.9870 - val_loss: 0.8440 - val_acc: 0.8083\n",
      "Epoch 257/300\n",
      "1080/1080 [==============================] - 1s 906us/step - loss: 0.0591 - acc: 0.9796 - val_loss: 0.6443 - val_acc: 0.8750\n",
      "Epoch 258/300\n",
      "1080/1080 [==============================] - 1s 925us/step - loss: 0.0507 - acc: 0.9824 - val_loss: 0.5511 - val_acc: 0.8750\n",
      "Epoch 259/300\n",
      "1080/1080 [==============================] - 1s 1ms/step - loss: 0.0349 - acc: 0.9917 - val_loss: 0.5881 - val_acc: 0.8500\n",
      "Epoch 260/300\n",
      "1080/1080 [==============================] - 1s 984us/step - loss: 0.0493 - acc: 0.9796 - val_loss: 0.5173 - val_acc: 0.8667\n",
      "Epoch 261/300\n",
      "1080/1080 [==============================] - 1s 930us/step - loss: 0.1647 - acc: 0.9398 - val_loss: 0.6747 - val_acc: 0.8500\n",
      "Epoch 262/300\n",
      "1080/1080 [==============================] - 1s 942us/step - loss: 0.1590 - acc: 0.9417 - val_loss: 0.8468 - val_acc: 0.7833\n",
      "Epoch 263/300\n",
      "1080/1080 [==============================] - 1s 1ms/step - loss: 0.7616 - acc: 0.7778 - val_loss: 1.0139 - val_acc: 0.7250\n",
      "Epoch 264/300\n",
      "1080/1080 [==============================] - 1s 1ms/step - loss: 0.3987 - acc: 0.8583 - val_loss: 1.0319 - val_acc: 0.6833\n",
      "Epoch 265/300\n",
      "1080/1080 [==============================] - 1s 1ms/step - loss: 0.2756 - acc: 0.9028 - val_loss: 0.7355 - val_acc: 0.7583\n",
      "Epoch 266/300\n",
      "1080/1080 [==============================] - 1s 914us/step - loss: 0.2126 - acc: 0.9222 - val_loss: 0.7126 - val_acc: 0.7667\n",
      "Epoch 267/300\n",
      "1080/1080 [==============================] - 1s 896us/step - loss: 0.1617 - acc: 0.9454 - val_loss: 0.5803 - val_acc: 0.8417\n",
      "Epoch 268/300\n",
      "1080/1080 [==============================] - 1s 880us/step - loss: 0.1205 - acc: 0.9556 - val_loss: 0.5163 - val_acc: 0.8500\n",
      "Epoch 269/300\n",
      "1080/1080 [==============================] - 1s 893us/step - loss: 0.0929 - acc: 0.9787 - val_loss: 0.4446 - val_acc: 0.8583\n",
      "Epoch 270/300\n",
      "1080/1080 [==============================] - 1s 903us/step - loss: 0.0886 - acc: 0.9750 - val_loss: 0.5708 - val_acc: 0.8000\n",
      "Epoch 271/300\n",
      "1080/1080 [==============================] - 1s 1ms/step - loss: 0.2053 - acc: 0.9306 - val_loss: 0.6674 - val_acc: 0.8583\n",
      "Epoch 272/300\n",
      "1080/1080 [==============================] - 1s 890us/step - loss: 0.1104 - acc: 0.9583 - val_loss: 0.5241 - val_acc: 0.8750\n",
      "Epoch 273/300\n",
      "1080/1080 [==============================] - 1s 886us/step - loss: 0.0504 - acc: 0.9870 - val_loss: 0.5544 - val_acc: 0.8667\n",
      "Epoch 274/300\n",
      "1080/1080 [==============================] - 1s 913us/step - loss: 0.0537 - acc: 0.9843 - val_loss: 0.4591 - val_acc: 0.8500\n",
      "Epoch 275/300\n",
      "1080/1080 [==============================] - 1s 889us/step - loss: 0.0284 - acc: 0.9944 - val_loss: 0.4437 - val_acc: 0.8667\n",
      "Epoch 276/300\n",
      "1080/1080 [==============================] - 1s 888us/step - loss: 0.0240 - acc: 0.9963 - val_loss: 0.4113 - val_acc: 0.8750\n",
      "Epoch 277/300\n",
      "1080/1080 [==============================] - 1s 891us/step - loss: 0.0220 - acc: 0.9954 - val_loss: 0.4536 - val_acc: 0.8917\n",
      "Epoch 278/300\n",
      "1080/1080 [==============================] - 1s 898us/step - loss: 0.0171 - acc: 0.9972 - val_loss: 0.5157 - val_acc: 0.8583\n",
      "Epoch 279/300\n",
      "1080/1080 [==============================] - 1s 889us/step - loss: 0.0151 - acc: 0.9963 - val_loss: 0.5077 - val_acc: 0.8750\n",
      "Epoch 280/300\n",
      "1080/1080 [==============================] - 1s 893us/step - loss: 0.0158 - acc: 0.9972 - val_loss: 0.5213 - val_acc: 0.8667\n",
      "Epoch 281/300\n",
      "1080/1080 [==============================] - 1s 912us/step - loss: 0.0129 - acc: 0.9981 - val_loss: 0.4986 - val_acc: 0.8667\n",
      "Epoch 282/300\n",
      "1080/1080 [==============================] - 1s 891us/step - loss: 0.0143 - acc: 0.9972 - val_loss: 0.5411 - val_acc: 0.8667\n",
      "Epoch 283/300\n",
      "1080/1080 [==============================] - 1s 892us/step - loss: 0.0171 - acc: 0.9944 - val_loss: 0.7942 - val_acc: 0.8417\n",
      "Epoch 284/300\n",
      "1080/1080 [==============================] - 1s 895us/step - loss: 0.0598 - acc: 0.9787 - val_loss: 0.7044 - val_acc: 0.8500\n",
      "Epoch 285/300\n",
      "1080/1080 [==============================] - 1s 887us/step - loss: 0.1398 - acc: 0.9435 - val_loss: 1.3199 - val_acc: 0.7667\n",
      "Epoch 286/300\n",
      "1080/1080 [==============================] - 1s 897us/step - loss: 0.3587 - acc: 0.8926 - val_loss: 0.9548 - val_acc: 0.7833\n",
      "Epoch 287/300\n",
      "1080/1080 [==============================] - 1s 890us/step - loss: 0.2520 - acc: 0.9120 - val_loss: 0.5929 - val_acc: 0.8167\n",
      "Epoch 288/300\n",
      "1080/1080 [==============================] - 1s 890us/step - loss: 0.1430 - acc: 0.9509 - val_loss: 0.6148 - val_acc: 0.8417\n",
      "Epoch 289/300\n",
      "1080/1080 [==============================] - 1s 879us/step - loss: 0.1199 - acc: 0.9583 - val_loss: 0.5129 - val_acc: 0.8667\n",
      "Epoch 290/300\n",
      "1080/1080 [==============================] - 1s 877us/step - loss: 0.0896 - acc: 0.9704 - val_loss: 0.5264 - val_acc: 0.8500\n",
      "Epoch 291/300\n",
      "1080/1080 [==============================] - 1s 887us/step - loss: 0.0770 - acc: 0.9685 - val_loss: 0.5220 - val_acc: 0.8333\n",
      "Epoch 292/300\n",
      "1080/1080 [==============================] - 1s 877us/step - loss: 0.0462 - acc: 0.9889 - val_loss: 0.4428 - val_acc: 0.8667\n",
      "Epoch 293/300\n",
      "1080/1080 [==============================] - 1s 888us/step - loss: 0.0380 - acc: 0.9917 - val_loss: 0.4488 - val_acc: 0.8667\n",
      "Epoch 294/300\n",
      "1080/1080 [==============================] - 1s 891us/step - loss: 0.0251 - acc: 0.9944 - val_loss: 0.4455 - val_acc: 0.8917\n",
      "Epoch 295/300\n",
      "1080/1080 [==============================] - 1s 886us/step - loss: 0.0267 - acc: 0.9954 - val_loss: 0.4578 - val_acc: 0.8833\n",
      "Epoch 296/300\n",
      "1080/1080 [==============================] - 1s 885us/step - loss: 0.0295 - acc: 0.9898 - val_loss: 0.5323 - val_acc: 0.8417\n",
      "Epoch 297/300\n",
      "1080/1080 [==============================] - 1s 876us/step - loss: 0.0316 - acc: 0.9907 - val_loss: 0.4465 - val_acc: 0.8750\n",
      "Epoch 298/300\n",
      "1080/1080 [==============================] - 1s 883us/step - loss: 0.0345 - acc: 0.9870 - val_loss: 0.4430 - val_acc: 0.8750\n",
      "Epoch 299/300\n",
      "1080/1080 [==============================] - 1s 893us/step - loss: 0.0209 - acc: 0.9935 - val_loss: 0.5496 - val_acc: 0.8750\n",
      "Epoch 300/300\n",
      "1080/1080 [==============================] - 1s 889us/step - loss: 0.0187 - acc: 0.9944 - val_loss: 0.6197 - val_acc: 0.8667\n",
      "1080/1080 [==============================] - 0s 418us/step\n"
     ]
    },
    {
     "data": {
      "text/plain": [
       "[0.02485875892970297, 0.9962962962962963]"
      ]
     },
     "execution_count": 12,
     "metadata": {},
     "output_type": "execute_result"
    },
    {
     "name": "stdout",
     "output_type": "stream",
     "text": [
      "120/120 [==============================] - 0s 766us/step\n"
     ]
    },
    {
     "data": {
      "text/plain": [
       "[0.6196936080853145, 0.8666666626930237]"
      ]
     },
     "execution_count": 12,
     "metadata": {},
     "output_type": "execute_result"
    }
   ],
   "source": [
    "# Solve Bonus Here\n",
    "\n",
    "# model3 (below) reached 94.17% validation accuracy\n",
    "model3 = Sequential()\n",
    "model3.add(Dense(200, input_shape = (x_train_pix.shape[1],), activation='relu'))\n",
    "model3.add(Dense(400, activation='relu'))\n",
    "model3.add(Dense(600, activation='relu'))\n",
    "model3.add(Dense(800, activation='relu'))\n",
    "model3.add(Dense(800, activation='relu'))\n",
    "model3.add(Dense(600, activation='relu'))\n",
    "model3.add(Dense(400, activation='relu'))\n",
    "model3.add(Dense(6, activation='softmax'))\n",
    "\n",
    "# Compile model\n",
    "model3.compile(loss='categorical_crossentropy', optimizer=keras.optimizers.Adam(lr = 0.0003), metrics=['accuracy'])\n",
    "history = model3.fit(x_train_pix, onehotlabels_train, epochs=300, batch_size=200, \\\n",
    "          validation_data=(x_test_pix, onehotlabels_test))\n",
    "\n",
    "model3.evaluate(x_train_pix, onehotlabels_train)\n",
    "model3.evaluate(x_test_pix, onehotlabels_test)"
   ]
  },
  {
   "cell_type": "code",
   "execution_count": null,
   "metadata": {
    "scrolled": true
   },
   "outputs": [
    {
     "name": "stdout",
     "output_type": "stream",
     "text": [
      "Train on 1080 samples, validate on 120 samples\n",
      "Epoch 1/150\n",
      "1080/1080 [==============================] - 7s 6ms/step - loss: 1.8007 - acc: 0.1694 - val_loss: 1.7801 - val_acc: 0.1917\n",
      "Epoch 2/150\n",
      "1080/1080 [==============================] - 5s 5ms/step - loss: 1.7826 - acc: 0.2009 - val_loss: 1.7335 - val_acc: 0.4500\n",
      "Epoch 3/150\n",
      "1080/1080 [==============================] - 6s 5ms/step - loss: 1.7228 - acc: 0.2593 - val_loss: 1.6171 - val_acc: 0.3583\n",
      "Epoch 4/150\n",
      "1080/1080 [==============================] - 6s 5ms/step - loss: 1.5200 - acc: 0.3843 - val_loss: 1.3727 - val_acc: 0.4250\n",
      "Epoch 5/150\n",
      "1080/1080 [==============================] - 5s 5ms/step - loss: 1.3040 - acc: 0.4759 - val_loss: 1.3328 - val_acc: 0.4167\n",
      "Epoch 6/150\n",
      "1080/1080 [==============================] - 5s 4ms/step - loss: 1.2383 - acc: 0.5000 - val_loss: 1.0429 - val_acc: 0.6083\n",
      "Epoch 7/150\n",
      "1080/1080 [==============================] - 4s 4ms/step - loss: 1.1323 - acc: 0.5278 - val_loss: 0.9905 - val_acc: 0.5917\n",
      "Epoch 8/150\n",
      "1080/1080 [==============================] - 4s 4ms/step - loss: 1.0157 - acc: 0.5694 - val_loss: 1.1131 - val_acc: 0.5917\n",
      "Epoch 9/150\n",
      "1080/1080 [==============================] - 5s 4ms/step - loss: 1.0571 - acc: 0.5556 - val_loss: 1.0822 - val_acc: 0.5417\n",
      "Epoch 10/150\n",
      "1080/1080 [==============================] - 5s 4ms/step - loss: 0.9681 - acc: 0.6176 - val_loss: 1.0250 - val_acc: 0.5583\n",
      "Epoch 11/150\n",
      "1080/1080 [==============================] - 5s 4ms/step - loss: 0.9833 - acc: 0.5759 - val_loss: 0.8414 - val_acc: 0.6833\n",
      "Epoch 12/150\n",
      "1080/1080 [==============================] - 5s 4ms/step - loss: 0.8846 - acc: 0.6528 - val_loss: 0.8769 - val_acc: 0.5833\n",
      "Epoch 13/150\n",
      "1080/1080 [==============================] - 6s 5ms/step - loss: 0.8500 - acc: 0.6583 - val_loss: 1.3458 - val_acc: 0.5167\n",
      "Epoch 14/150\n",
      "1080/1080 [==============================] - 5s 5ms/step - loss: 0.9235 - acc: 0.6259 - val_loss: 0.8544 - val_acc: 0.6000\n",
      "Epoch 15/150\n",
      "1080/1080 [==============================] - 5s 4ms/step - loss: 0.7315 - acc: 0.7009 - val_loss: 1.1090 - val_acc: 0.5833\n",
      "Epoch 16/150\n",
      "1080/1080 [==============================] - 5s 5ms/step - loss: 0.9029 - acc: 0.6389 - val_loss: 0.7782 - val_acc: 0.6667\n",
      "Epoch 17/150\n",
      "1080/1080 [==============================] - 5s 5ms/step - loss: 0.7536 - acc: 0.6898 - val_loss: 0.7861 - val_acc: 0.6417\n",
      "Epoch 18/150\n",
      "1080/1080 [==============================] - 5s 5ms/step - loss: 0.8309 - acc: 0.6713 - val_loss: 0.9775 - val_acc: 0.5917\n",
      "Epoch 19/150\n",
      "1080/1080 [==============================] - 5s 5ms/step - loss: 0.6945 - acc: 0.7287 - val_loss: 0.7994 - val_acc: 0.6750\n",
      "Epoch 20/150\n",
      "1080/1080 [==============================] - 5s 5ms/step - loss: 0.7129 - acc: 0.7370 - val_loss: 0.7624 - val_acc: 0.6833\n",
      "Epoch 21/150\n",
      "1080/1080 [==============================] - 5s 5ms/step - loss: 0.6541 - acc: 0.7407 - val_loss: 0.9564 - val_acc: 0.6167\n",
      "Epoch 22/150\n",
      "1080/1080 [==============================] - 6s 6ms/step - loss: 0.6828 - acc: 0.7481 - val_loss: 0.7615 - val_acc: 0.6750\n",
      "Epoch 23/150\n",
      "1080/1080 [==============================] - 5s 5ms/step - loss: 0.5750 - acc: 0.7870 - val_loss: 0.6832 - val_acc: 0.7750\n",
      "Epoch 24/150\n",
      "1080/1080 [==============================] - 6s 6ms/step - loss: 0.6337 - acc: 0.7491 - val_loss: 0.7291 - val_acc: 0.7333\n",
      "Epoch 25/150\n",
      "1080/1080 [==============================] - 10s 9ms/step - loss: 0.5792 - acc: 0.7944 - val_loss: 0.6565 - val_acc: 0.7250\n",
      "Epoch 26/150\n",
      "1080/1080 [==============================] - 5s 5ms/step - loss: 0.6151 - acc: 0.7676 - val_loss: 0.7135 - val_acc: 0.7000\n",
      "Epoch 27/150\n",
      "1080/1080 [==============================] - 5s 4ms/step - loss: 0.5476 - acc: 0.7917 - val_loss: 0.9418 - val_acc: 0.6500\n",
      "Epoch 28/150\n",
      "1080/1080 [==============================] - 5s 4ms/step - loss: 0.6044 - acc: 0.7759 - val_loss: 0.6012 - val_acc: 0.7917\n",
      "Epoch 29/150\n",
      "1080/1080 [==============================] - 6s 5ms/step - loss: 0.4420 - acc: 0.8380 - val_loss: 0.9275 - val_acc: 0.6333\n",
      "Epoch 30/150\n",
      "1080/1080 [==============================] - 5s 5ms/step - loss: 0.4876 - acc: 0.8259 - val_loss: 0.9490 - val_acc: 0.6833\n",
      "Epoch 31/150\n",
      "1080/1080 [==============================] - 5s 5ms/step - loss: 0.5578 - acc: 0.7898 - val_loss: 0.5896 - val_acc: 0.8000\n",
      "Epoch 32/150\n",
      "1080/1080 [==============================] - 6s 5ms/step - loss: 0.3427 - acc: 0.8741 - val_loss: 0.5897 - val_acc: 0.7833\n",
      "Epoch 33/150\n",
      "1080/1080 [==============================] - 6s 5ms/step - loss: 0.4108 - acc: 0.8528 - val_loss: 0.7361 - val_acc: 0.7417\n",
      "Epoch 34/150\n",
      "1080/1080 [==============================] - 5s 5ms/step - loss: 0.5256 - acc: 0.8065 - val_loss: 0.6524 - val_acc: 0.7833\n",
      "Epoch 35/150\n",
      "1080/1080 [==============================] - 6s 5ms/step - loss: 0.4138 - acc: 0.8565 - val_loss: 0.5328 - val_acc: 0.7917\n",
      "Epoch 36/150\n",
      "1080/1080 [==============================] - 5s 5ms/step - loss: 0.4105 - acc: 0.8454 - val_loss: 0.6679 - val_acc: 0.7167\n",
      "Epoch 37/150\n",
      "1080/1080 [==============================] - 5s 5ms/step - loss: 0.3073 - acc: 0.8843 - val_loss: 0.5865 - val_acc: 0.7583\n",
      "Epoch 38/150\n",
      "1080/1080 [==============================] - 5s 5ms/step - loss: 0.4125 - acc: 0.8454 - val_loss: 2.2061 - val_acc: 0.5000\n",
      "Epoch 39/150\n",
      "1080/1080 [==============================] - 5s 4ms/step - loss: 0.6257 - acc: 0.7787 - val_loss: 0.9026 - val_acc: 0.6667\n",
      "Epoch 40/150\n",
      "1080/1080 [==============================] - 4s 4ms/step - loss: 0.3599 - acc: 0.8694 - val_loss: 0.6467 - val_acc: 0.7083\n",
      "Epoch 41/150\n",
      "1080/1080 [==============================] - 5s 4ms/step - loss: 0.3737 - acc: 0.8648 - val_loss: 0.6742 - val_acc: 0.7667\n",
      "Epoch 42/150\n",
      "1080/1080 [==============================] - 5s 4ms/step - loss: 0.4467 - acc: 0.8194 - val_loss: 0.5572 - val_acc: 0.8083\n",
      "Epoch 43/150\n",
      "1080/1080 [==============================] - 4s 4ms/step - loss: 0.2589 - acc: 0.9065 - val_loss: 0.4912 - val_acc: 0.8250\n",
      "Epoch 44/150\n",
      "1080/1080 [==============================] - 4s 4ms/step - loss: 0.2906 - acc: 0.8991 - val_loss: 0.5572 - val_acc: 0.8250\n",
      "Epoch 45/150\n",
      "1080/1080 [==============================] - 4s 4ms/step - loss: 0.3065 - acc: 0.8898 - val_loss: 0.8572 - val_acc: 0.7000\n",
      "Epoch 46/150\n",
      "1080/1080 [==============================] - 4s 4ms/step - loss: 0.3895 - acc: 0.8611 - val_loss: 0.4160 - val_acc: 0.8250\n",
      "Epoch 47/150\n",
      "1080/1080 [==============================] - 4s 4ms/step - loss: 0.2329 - acc: 0.9130 - val_loss: 0.5413 - val_acc: 0.7917\n",
      "Epoch 48/150\n",
      "1080/1080 [==============================] - 4s 4ms/step - loss: 0.2354 - acc: 0.9102 - val_loss: 0.5286 - val_acc: 0.8000\n",
      "Epoch 49/150\n",
      "1080/1080 [==============================] - 4s 4ms/step - loss: 0.5382 - acc: 0.7926 - val_loss: 0.4810 - val_acc: 0.8000\n",
      "Epoch 50/150\n",
      "1080/1080 [==============================] - 4s 4ms/step - loss: 0.2460 - acc: 0.9148 - val_loss: 0.3986 - val_acc: 0.8667\n",
      "Epoch 51/150\n",
      "1080/1080 [==============================] - 6s 6ms/step - loss: 0.1819 - acc: 0.9361 - val_loss: 0.4330 - val_acc: 0.8583\n",
      "Epoch 52/150\n",
      "1080/1080 [==============================] - 5s 4ms/step - loss: 0.2802 - acc: 0.9046 - val_loss: 0.5891 - val_acc: 0.7917\n",
      "Epoch 53/150\n",
      "1080/1080 [==============================] - 4s 4ms/step - loss: 0.2010 - acc: 0.9287 - val_loss: 0.5686 - val_acc: 0.7750\n",
      "Epoch 54/150\n",
      "1080/1080 [==============================] - 5s 5ms/step - loss: 0.1477 - acc: 0.9509 - val_loss: 0.4879 - val_acc: 0.8333\n",
      "Epoch 55/150\n",
      "1080/1080 [==============================] - 5s 4ms/step - loss: 0.2632 - acc: 0.9046 - val_loss: 0.5491 - val_acc: 0.8083\n",
      "Epoch 56/150\n",
      "1080/1080 [==============================] - 5s 4ms/step - loss: 0.1825 - acc: 0.9389 - val_loss: 0.4128 - val_acc: 0.8583\n",
      "Epoch 57/150\n",
      "1080/1080 [==============================] - 6s 5ms/step - loss: 0.1741 - acc: 0.9380 - val_loss: 0.6990 - val_acc: 0.7833\n",
      "Epoch 58/150\n",
      "1080/1080 [==============================] - 6s 5ms/step - loss: 0.1842 - acc: 0.9343 - val_loss: 0.4228 - val_acc: 0.8667\n",
      "Epoch 59/150\n",
      "1080/1080 [==============================] - 5s 5ms/step - loss: 0.2560 - acc: 0.9093 - val_loss: 0.3929 - val_acc: 0.8667\n",
      "Epoch 60/150\n",
      "1080/1080 [==============================] - 5s 4ms/step - loss: 0.1370 - acc: 0.9519 - val_loss: 0.3911 - val_acc: 0.8583\n"
     ]
    },
    {
     "name": "stdout",
     "output_type": "stream",
     "text": [
      "Epoch 61/150\n",
      "1080/1080 [==============================] - 4s 4ms/step - loss: 0.1928 - acc: 0.9287 - val_loss: 0.4960 - val_acc: 0.8750\n",
      "Epoch 62/150\n",
      "1080/1080 [==============================] - 5s 4ms/step - loss: 0.1445 - acc: 0.9444 - val_loss: 1.0649 - val_acc: 0.7000\n",
      "Epoch 63/150\n",
      "1080/1080 [==============================] - 4s 4ms/step - loss: 0.7569 - acc: 0.7556 - val_loss: 0.5339 - val_acc: 0.8250\n",
      "Epoch 64/150\n",
      "1080/1080 [==============================] - 4s 4ms/step - loss: 0.2269 - acc: 0.9250 - val_loss: 0.7603 - val_acc: 0.7833\n",
      "Epoch 65/150\n",
      "1080/1080 [==============================] - 4s 4ms/step - loss: 0.2385 - acc: 0.9037 - val_loss: 0.5198 - val_acc: 0.8250\n",
      "Epoch 66/150\n",
      "1080/1080 [==============================] - 5s 4ms/step - loss: 0.1887 - acc: 0.9343 - val_loss: 0.6100 - val_acc: 0.8333\n",
      "Epoch 67/150\n",
      "1080/1080 [==============================] - 4s 4ms/step - loss: 0.1328 - acc: 0.9546 - val_loss: 0.4287 - val_acc: 0.8583\n",
      "Epoch 68/150\n",
      "1080/1080 [==============================] - 4s 4ms/step - loss: 0.2045 - acc: 0.9185 - val_loss: 0.4910 - val_acc: 0.8167\n",
      "Epoch 69/150\n",
      "1080/1080 [==============================] - 4s 4ms/step - loss: 0.1857 - acc: 0.9380 - val_loss: 0.8334 - val_acc: 0.7667\n",
      "Epoch 70/150\n",
      "1080/1080 [==============================] - 5s 4ms/step - loss: 0.1581 - acc: 0.9444 - val_loss: 0.4016 - val_acc: 0.8750\n",
      "Epoch 71/150\n",
      "1080/1080 [==============================] - 5s 4ms/step - loss: 0.1112 - acc: 0.9620 - val_loss: 0.4783 - val_acc: 0.8417\n",
      "Epoch 72/150\n",
      "1080/1080 [==============================] - 5s 4ms/step - loss: 0.0907 - acc: 0.9694 - val_loss: 1.4766 - val_acc: 0.6333\n",
      "Epoch 73/150\n",
      "1080/1080 [==============================] - 4s 4ms/step - loss: 0.4696 - acc: 0.8370 - val_loss: 0.6333 - val_acc: 0.7917\n",
      "Epoch 74/150\n",
      "1080/1080 [==============================] - 4s 4ms/step - loss: 0.1637 - acc: 0.9444 - val_loss: 0.4453 - val_acc: 0.8417\n",
      "Epoch 75/150\n",
      "1080/1080 [==============================] - 4s 4ms/step - loss: 0.0970 - acc: 0.9713 - val_loss: 0.6767 - val_acc: 0.8167\n",
      "Epoch 76/150\n",
      "1080/1080 [==============================] - 4s 4ms/step - loss: 0.1017 - acc: 0.9611 - val_loss: 0.4964 - val_acc: 0.8250\n",
      "Epoch 77/150\n",
      "1080/1080 [==============================] - 4s 4ms/step - loss: 0.0691 - acc: 0.9787 - val_loss: 0.4640 - val_acc: 0.8333\n",
      "Epoch 78/150\n",
      "1080/1080 [==============================] - 5s 4ms/step - loss: 0.1695 - acc: 0.9417 - val_loss: 0.7067 - val_acc: 0.8333\n",
      "Epoch 79/150\n",
      "1080/1080 [==============================] - 4s 3ms/step - loss: 0.0923 - acc: 0.9704 - val_loss: 0.6591 - val_acc: 0.8000\n",
      "Epoch 80/150\n",
      "1080/1080 [==============================] - 4s 4ms/step - loss: 0.1498 - acc: 0.9463 - val_loss: 0.4711 - val_acc: 0.8667\n",
      "Epoch 81/150\n",
      "1080/1080 [==============================] - 5s 4ms/step - loss: 0.1289 - acc: 0.9546 - val_loss: 0.4642 - val_acc: 0.9000\n",
      "Epoch 82/150\n",
      "1080/1080 [==============================] - 4s 4ms/step - loss: 0.0639 - acc: 0.9769 - val_loss: 0.4301 - val_acc: 0.8917\n",
      "Epoch 83/150\n",
      "1080/1080 [==============================] - 4s 4ms/step - loss: 0.1117 - acc: 0.9639 - val_loss: 0.4425 - val_acc: 0.8500\n",
      "Epoch 84/150\n",
      "1080/1080 [==============================] - 4s 4ms/step - loss: 0.1461 - acc: 0.9444 - val_loss: 0.6018 - val_acc: 0.8333\n",
      "Epoch 85/150\n",
      "1080/1080 [==============================] - 5s 5ms/step - loss: 0.1073 - acc: 0.9648 - val_loss: 0.7353 - val_acc: 0.7750\n",
      "Epoch 86/150\n",
      "1080/1080 [==============================] - 4s 4ms/step - loss: 0.3943 - acc: 0.8546 - val_loss: 0.4905 - val_acc: 0.8417\n",
      "Epoch 87/150\n",
      "1080/1080 [==============================] - 4s 4ms/step - loss: 0.1512 - acc: 0.9509 - val_loss: 0.6378 - val_acc: 0.8083\n",
      "Epoch 88/150\n",
      "1080/1080 [==============================] - 4s 4ms/step - loss: 0.1205 - acc: 0.9620 - val_loss: 0.4350 - val_acc: 0.8833\n",
      "Epoch 89/150\n",
      "1080/1080 [==============================] - 4s 4ms/step - loss: 0.0648 - acc: 0.9759 - val_loss: 0.3700 - val_acc: 0.9083\n",
      "Epoch 90/150\n",
      "1080/1080 [==============================] - 4s 4ms/step - loss: 0.1031 - acc: 0.9648 - val_loss: 0.4929 - val_acc: 0.8583\n",
      "Epoch 91/150\n",
      " 325/1080 [========>.....................] - ETA: 2s - loss: 0.1304 - acc: 0.9538"
     ]
    }
   ],
   "source": [
    "# model4 (below) reached 94.17% validation accuracy\n",
    "model4 = Sequential()\n",
    "model4.add(Dense(200, input_shape = (x_train_pix.shape[1],), activation='relu'))\n",
    "model4.add(Dense(400, activation='relu'))\n",
    "model4.add(Dense(600, activation='relu'))\n",
    "model4.add(Dense(800, activation='relu'))\n",
    "model4.add(Dense(800, activation='relu'))\n",
    "model4.add(Dense(600, activation='relu'))\n",
    "model4.add(Dense(400, activation='relu'))\n",
    "model4.add(Dense(6, activation='softmax'))\n",
    "\n",
    "# Compile model\n",
    "model4.compile(loss='categorical_crossentropy', optimizer=keras.optimizers.Adam(lr = 0.00009), metrics=['accuracy'])\n",
    "history = model4.fit(x_train_pix, onehotlabels_train, epochs=150, batch_size=25, \\\n",
    "          validation_data=(x_test_pix, onehotlabels_test))\n",
    "\n",
    "model4.evaluate(x_train_pix, onehotlabels_train)\n",
    "model4.evaluate(x_test_pix, onehotlabels_test)"
   ]
  },
  {
   "cell_type": "code",
   "execution_count": null,
   "metadata": {},
   "outputs": [],
   "source": []
  }
 ],
 "metadata": {
  "kernelspec": {
   "display_name": "Python 3.6 (tensorflow)",
   "language": "python",
   "name": "tensorflow"
  },
  "language_info": {
   "codemirror_mode": {
    "name": "ipython",
    "version": 3
   },
   "file_extension": ".py",
   "mimetype": "text/x-python",
   "name": "python",
   "nbconvert_exporter": "python",
   "pygments_lexer": "ipython3",
   "version": "3.6.8"
  }
 },
 "nbformat": 4,
 "nbformat_minor": 2
}
