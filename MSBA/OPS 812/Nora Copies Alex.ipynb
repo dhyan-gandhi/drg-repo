{
 "cells": [
  {
   "cell_type": "code",
   "execution_count": 1,
   "metadata": {},
   "outputs": [],
   "source": [
    "import glob\n",
    "import pandas as pd\n",
    "import numpy as np\n",
    "import ast"
   ]
  },
  {
   "cell_type": "code",
   "execution_count": 2,
   "metadata": {},
   "outputs": [],
   "source": [
    "annotations=glob.glob('/Users/dgandhi/Desktop/MSBA/OPS 812/data/OPP-115/annotations/*')"
   ]
  },
  {
   "cell_type": "code",
   "execution_count": 3,
   "metadata": {},
   "outputs": [],
   "source": [
    "annotations_list=[]\n",
    "for file in annotations:\n",
    "    annotations_list.append(pd.read_csv(file, header=None))"
   ]
  },
  {
   "cell_type": "code",
   "execution_count": 4,
   "metadata": {},
   "outputs": [],
   "source": [
    "annot=pd.concat(annotations_list, ignore_index=True)"
   ]
  },
  {
   "cell_type": "code",
   "execution_count": 5,
   "metadata": {},
   "outputs": [],
   "source": [
    "annot.columns=['annotation_ID', 'batch_ID', 'annotator_ID', 'policy_ID', 'segment_ID','category_name',\n",
    "            'attribute_value_pairs','date','policy_URL']"
   ]
  },
  {
   "cell_type": "code",
   "execution_count": 6,
   "metadata": {},
   "outputs": [],
   "source": [
    "annot=annot.loc[annot['category_name']!= 'Other']"
   ]
  },
  {
   "cell_type": "code",
   "execution_count": 7,
   "metadata": {},
   "outputs": [],
   "source": [
    "import ast"
   ]
  },
  {
   "cell_type": "code",
   "execution_count": 8,
   "metadata": {},
   "outputs": [],
   "source": [
    "annot['dict']=annot.attribute_value_pairs.apply(lambda x: ast.literal_eval(x))"
   ]
  },
  {
   "cell_type": "code",
   "execution_count": 9,
   "metadata": {},
   "outputs": [],
   "source": [
    "text1=[]\n",
    "labels=[]\n",
    "for item in annot['dict']:\n",
    "    for x,y in item.items():\n",
    "        if y.get('selectedText')==None:\n",
    "            pass\n",
    "        else:\n",
    "            for key, value in y.items():\n",
    "                if key=='selectedText':\n",
    "                    text1.append(value)\n",
    "                if key=='value':\n",
    "                    labels.append(x+' '+value)"
   ]
  },
  {
   "cell_type": "code",
   "execution_count": 10,
   "metadata": {},
   "outputs": [],
   "source": [
    "data=pd.DataFrame(text1,columns=['text'])"
   ]
  },
  {
   "cell_type": "code",
   "execution_count": 11,
   "metadata": {},
   "outputs": [],
   "source": [
    "data['labels']=labels"
   ]
  },
  {
   "cell_type": "code",
   "execution_count": 12,
   "metadata": {},
   "outputs": [],
   "source": [
    "data['labels']=data.labels.apply(lambda x: x.lower())"
   ]
  },
  {
   "cell_type": "code",
   "execution_count": 13,
   "metadata": {},
   "outputs": [],
   "source": [
    "data.drop_duplicates(inplace=True)\n",
    "data.reset_index(inplace=True)"
   ]
  },
  {
   "cell_type": "code",
   "execution_count": 14,
   "metadata": {},
   "outputs": [
    {
     "data": {
      "text/plain": [
       "(34459, 3)"
      ]
     },
     "execution_count": 14,
     "metadata": {},
     "output_type": "execute_result"
    }
   ],
   "source": [
    "data.shape"
   ]
  },
  {
   "cell_type": "code",
   "execution_count": 15,
   "metadata": {},
   "outputs": [],
   "source": [
    "classes=set(data['labels'])"
   ]
  },
  {
   "cell_type": "code",
   "execution_count": 16,
   "metadata": {},
   "outputs": [],
   "source": [
    "data=data.loc[~data['labels'].str.startswith('access')]\n",
    "data=data.loc[~data['labels'].str.startswith('audience')]\n",
    "data=data.loc[~data['labels'].str.startswith('choice')]\n",
    "data=data.loc[~data['labels'].str.startswith('notification')]\n",
    "data=data.loc[~data['labels'].str.contains('change type')]\n",
    "data=data.loc[~data['labels'].str.contains('does/does')]\n",
    "data=data.loc[~data['labels'].str.contains('user choice')]\n",
    "data=data.loc[~data['labels'].str.contains('user type')]\n",
    "data=data.loc[~data['labels'].str.contains('do not track')]\n",
    "data=data.loc[~data['labels'].str.endswith('other')]\n",
    "data=data.loc[~data['labels'].str.endswith('not-selected')]\n",
    "data=data.loc[~data['labels'].str.contains('collection mode')]\n",
    "data=data.loc[data['text']!='']\n",
    "data=data.loc[data['text']!='null']"
   ]
  },
  {
   "cell_type": "code",
   "execution_count": 17,
   "metadata": {},
   "outputs": [
    {
     "data": {
      "text/plain": [
       "(20750, 3)"
      ]
     },
     "execution_count": 17,
     "metadata": {},
     "output_type": "execute_result"
    }
   ],
   "source": [
    "data.shape"
   ]
  },
  {
   "cell_type": "code",
   "execution_count": 18,
   "metadata": {},
   "outputs": [
    {
     "data": {
      "text/plain": [
       "68"
      ]
     },
     "execution_count": 18,
     "metadata": {},
     "output_type": "execute_result"
    }
   ],
   "source": [
    "classes=set(data['labels'])\n",
    "len(classes)"
   ]
  },
  {
   "cell_type": "code",
   "execution_count": 19,
   "metadata": {},
   "outputs": [],
   "source": [
    "class_dict=dict(list (enumerate(classes)))"
   ]
  },
  {
   "cell_type": "code",
   "execution_count": 20,
   "metadata": {},
   "outputs": [],
   "source": [
    "class_numberdict = {}\n",
    "\n",
    "for key, value in zip(class_dict.keys(), class_dict.values()):\n",
    "    # Operations on key/value can also be performed.\n",
    "    class_numberdict[value] = key"
   ]
  },
  {
   "cell_type": "code",
   "execution_count": 21,
   "metadata": {},
   "outputs": [
    {
     "data": {
      "text/html": [
       "<div>\n",
       "<style scoped>\n",
       "    .dataframe tbody tr th:only-of-type {\n",
       "        vertical-align: middle;\n",
       "    }\n",
       "\n",
       "    .dataframe tbody tr th {\n",
       "        vertical-align: top;\n",
       "    }\n",
       "\n",
       "    .dataframe thead th {\n",
       "        text-align: right;\n",
       "    }\n",
       "</style>\n",
       "<table border=\"1\" class=\"dataframe\">\n",
       "  <thead>\n",
       "    <tr style=\"text-align: right;\">\n",
       "      <th></th>\n",
       "      <th>index</th>\n",
       "      <th>text</th>\n",
       "      <th>labels</th>\n",
       "      <th>classes</th>\n",
       "    </tr>\n",
       "  </thead>\n",
       "  <tbody>\n",
       "    <tr>\n",
       "      <th>1</th>\n",
       "      <td>1</td>\n",
       "      <td>register on our website or participate in our ...</td>\n",
       "      <td>action first-party collect on website</td>\n",
       "      <td>40</td>\n",
       "    </tr>\n",
       "    <tr>\n",
       "      <th>2</th>\n",
       "      <td>2</td>\n",
       "      <td>personally-identifiable information, such as</td>\n",
       "      <td>personal information type generic personal inf...</td>\n",
       "      <td>13</td>\n",
       "    </tr>\n",
       "    <tr>\n",
       "      <th>5</th>\n",
       "      <td>5</td>\n",
       "      <td>certain additional features that allow you to ...</td>\n",
       "      <td>purpose additional service/feature</td>\n",
       "      <td>18</td>\n",
       "    </tr>\n",
       "    <tr>\n",
       "      <th>6</th>\n",
       "      <td>11</td>\n",
       "      <td>Sharing this additional information with us al...</td>\n",
       "      <td>purpose personalization/customization</td>\n",
       "      <td>29</td>\n",
       "    </tr>\n",
       "    <tr>\n",
       "      <th>7</th>\n",
       "      <td>17</td>\n",
       "      <td>In addition, we may use the information you pr...</td>\n",
       "      <td>purpose marketing</td>\n",
       "      <td>31</td>\n",
       "    </tr>\n",
       "  </tbody>\n",
       "</table>\n",
       "</div>"
      ],
      "text/plain": [
       "   index                                               text  \\\n",
       "1      1  register on our website or participate in our ...   \n",
       "2      2       personally-identifiable information, such as   \n",
       "5      5  certain additional features that allow you to ...   \n",
       "6     11  Sharing this additional information with us al...   \n",
       "7     17  In addition, we may use the information you pr...   \n",
       "\n",
       "                                              labels  classes  \n",
       "1              action first-party collect on website       40  \n",
       "2  personal information type generic personal inf...       13  \n",
       "5                 purpose additional service/feature       18  \n",
       "6              purpose personalization/customization       29  \n",
       "7                                  purpose marketing       31  "
      ]
     },
     "execution_count": 21,
     "metadata": {},
     "output_type": "execute_result"
    }
   ],
   "source": [
    "data['classes']=data['labels'].apply(lambda x: class_numberdict[x])\n",
    "data.head()"
   ]
  },
  {
   "cell_type": "code",
   "execution_count": 22,
   "metadata": {},
   "outputs": [],
   "source": [
    "hi=data.groupby('labels').count().sort_values('classes')"
   ]
  },
  {
   "cell_type": "code",
   "execution_count": 23,
   "metadata": {},
   "outputs": [
    {
     "data": {
      "text/html": [
       "<div>\n",
       "<style scoped>\n",
       "    .dataframe tbody tr th:only-of-type {\n",
       "        vertical-align: middle;\n",
       "    }\n",
       "\n",
       "    .dataframe tbody tr th {\n",
       "        vertical-align: top;\n",
       "    }\n",
       "\n",
       "    .dataframe thead th {\n",
       "        text-align: right;\n",
       "    }\n",
       "</style>\n",
       "<table border=\"1\" class=\"dataframe\">\n",
       "  <thead>\n",
       "    <tr style=\"text-align: right;\">\n",
       "      <th></th>\n",
       "      <th>index</th>\n",
       "      <th>text</th>\n",
       "      <th>classes</th>\n",
       "    </tr>\n",
       "    <tr>\n",
       "      <th>labels</th>\n",
       "      <th></th>\n",
       "      <th></th>\n",
       "      <th></th>\n",
       "    </tr>\n",
       "  </thead>\n",
       "  <tbody>\n",
       "    <tr>\n",
       "      <th>retention period indefinitely</th>\n",
       "      <td>25</td>\n",
       "      <td>25</td>\n",
       "      <td>25</td>\n",
       "    </tr>\n",
       "    <tr>\n",
       "      <th>retention period stated period</th>\n",
       "      <td>30</td>\n",
       "      <td>30</td>\n",
       "      <td>30</td>\n",
       "    </tr>\n",
       "    <tr>\n",
       "      <th>retention period limited</th>\n",
       "      <td>77</td>\n",
       "      <td>77</td>\n",
       "      <td>77</td>\n",
       "    </tr>\n",
       "    <tr>\n",
       "      <th>retention period unspecified</th>\n",
       "      <td>92</td>\n",
       "      <td>92</td>\n",
       "      <td>92</td>\n",
       "    </tr>\n",
       "  </tbody>\n",
       "</table>\n",
       "</div>"
      ],
      "text/plain": [
       "                                index  text  classes\n",
       "labels                                              \n",
       "retention period indefinitely      25    25       25\n",
       "retention period stated period     30    30       30\n",
       "retention period limited           77    77       77\n",
       "retention period unspecified       92    92       92"
      ]
     },
     "execution_count": 23,
     "metadata": {},
     "output_type": "execute_result"
    }
   ],
   "source": [
    "hi[hi.index.str.startswith('retention period')]"
   ]
  },
  {
   "cell_type": "code",
   "execution_count": 24,
   "metadata": {},
   "outputs": [],
   "source": [
    "#take the first label assume correct\n",
    "NoraData=data.groupby('text').first()"
   ]
  },
  {
   "cell_type": "code",
   "execution_count": 25,
   "metadata": {},
   "outputs": [],
   "source": [
    "NoraData=NoraData.reset_index()"
   ]
  },
  {
   "cell_type": "code",
   "execution_count": 26,
   "metadata": {},
   "outputs": [],
   "source": [
    "from sklearn.feature_extraction.text import CountVectorizer, TfidfVectorizer"
   ]
  },
  {
   "cell_type": "code",
   "execution_count": 27,
   "metadata": {},
   "outputs": [
    {
     "data": {
      "text/plain": [
       "array([[0., 0., 0., ..., 0., 0., 0.],\n",
       "       [0., 0., 0., ..., 0., 0., 0.],\n",
       "       [0., 0., 0., ..., 0., 0., 0.],\n",
       "       ...,\n",
       "       [0., 0., 0., ..., 0., 0., 0.],\n",
       "       [0., 0., 0., ..., 0., 0., 0.],\n",
       "       [0., 0., 0., ..., 0., 0., 0.]])"
      ]
     },
     "execution_count": 27,
     "metadata": {},
     "output_type": "execute_result"
    }
   ],
   "source": [
    "vectorizer = TfidfVectorizer(ngram_range=(1,2)) # You can still specify n-grams here.\n",
    "X = vectorizer.fit_transform(NoraData['text'])\n",
    "X.toarray()"
   ]
  },
  {
   "cell_type": "code",
   "execution_count": 28,
   "metadata": {},
   "outputs": [
    {
     "data": {
      "text/plain": [
       "{'action first-party collect from user on other websites',\n",
       " 'action first-party collect in mobile app',\n",
       " 'action first-party collect on mobile website',\n",
       " 'action first-party collect on website',\n",
       " 'action first-party receive from other parts of company/affiliates',\n",
       " 'action first-party receive from other service/third-party (named)',\n",
       " 'action first-party receive from other service/third-party (unnamed)',\n",
       " 'action first-party track user on other websites',\n",
       " 'action first-party unspecified',\n",
       " 'action third party collect on first party website/app',\n",
       " 'action third party receive/shared with',\n",
       " 'action third party see',\n",
       " 'action third party track on first party website/app',\n",
       " 'action third party unspecified',\n",
       " 'identifiability aggregated or anonymized',\n",
       " 'identifiability identifiable',\n",
       " 'identifiability unspecified',\n",
       " 'personal information type computer information',\n",
       " 'personal information type contact',\n",
       " 'personal information type cookies and tracking elements',\n",
       " 'personal information type demographic',\n",
       " 'personal information type financial',\n",
       " 'personal information type generic personal information',\n",
       " 'personal information type health',\n",
       " 'personal information type ip address and device ids',\n",
       " 'personal information type location',\n",
       " 'personal information type personal identifier',\n",
       " 'personal information type social media data',\n",
       " 'personal information type survey data',\n",
       " 'personal information type unspecified',\n",
       " 'personal information type user online activities',\n",
       " 'personal information type user profile',\n",
       " 'purpose additional service/feature',\n",
       " 'purpose advertising',\n",
       " 'purpose analytics/research',\n",
       " 'purpose basic service/feature',\n",
       " 'purpose legal requirement',\n",
       " 'purpose marketing',\n",
       " 'purpose merger/acquisition',\n",
       " 'purpose personalization/customization',\n",
       " 'purpose service operation and security',\n",
       " 'purpose unspecified',\n",
       " 'retention period indefinitely',\n",
       " 'retention period limited',\n",
       " 'retention period stated period',\n",
       " 'retention period unspecified',\n",
       " 'retention purpose advertising',\n",
       " 'retention purpose analytics/research',\n",
       " 'retention purpose legal requirement',\n",
       " 'retention purpose marketing',\n",
       " 'retention purpose perform service',\n",
       " 'retention purpose service operation and security',\n",
       " 'retention purpose unspecified',\n",
       " 'security measure data access limitation',\n",
       " 'security measure generic',\n",
       " 'security measure privacy review/audit',\n",
       " 'security measure privacy training',\n",
       " 'security measure privacy/security program',\n",
       " 'security measure secure data storage',\n",
       " 'security measure secure data transfer',\n",
       " 'security measure secure user authentication',\n",
       " 'security measure unspecified',\n",
       " 'third party entity named third party',\n",
       " 'third party entity other part of company/affiliate',\n",
       " 'third party entity other users',\n",
       " 'third party entity public',\n",
       " 'third party entity unnamed third party',\n",
       " 'third party entity unspecified'}"
      ]
     },
     "execution_count": 28,
     "metadata": {},
     "output_type": "execute_result"
    }
   ],
   "source": [
    "set(NoraData.labels)"
   ]
  },
  {
   "cell_type": "code",
   "execution_count": 29,
   "metadata": {},
   "outputs": [
    {
     "name": "stderr",
     "output_type": "stream",
     "text": [
      "Using TensorFlow backend.\n"
     ]
    }
   ],
   "source": [
    "from sklearn.model_selection import train_test_split\n",
    "from IPython.core.interactiveshell import InteractiveShell\n",
    "InteractiveShell.ast_node_interactivity = \"all\"\n",
    "import numpy as np\n",
    "import pandas as pd\n",
    "from sklearn.cluster import KMeans\n",
    "from sklearn.decomposition import PCA\n",
    "from sklearn.linear_model import LogisticRegression\n",
    "from sklearn.model_selection import train_test_split\n",
    "from sklearn.preprocessing import StandardScaler\n",
    "from sklearn import metrics\n",
    "import keras\n",
    "import matplotlib.pyplot as plt\n",
    "%matplotlib inline"
   ]
  },
  {
   "cell_type": "code",
   "execution_count": 30,
   "metadata": {},
   "outputs": [],
   "source": [
    "features = X\n",
    "targets = np.array(NoraData.classes)\n",
    "x_train, x_test, y_train, y_test = train_test_split(features, targets.reshape(-1,1), test_size = 0.25, random_state=7)"
   ]
  },
  {
   "cell_type": "code",
   "execution_count": 31,
   "metadata": {},
   "outputs": [
    {
     "name": "stderr",
     "output_type": "stream",
     "text": [
      "[Parallel(n_jobs=-1)]: Using backend ThreadingBackend with 4 concurrent workers.\n",
      "[Parallel(n_jobs=-1)]: Done  42 tasks      | elapsed:   22.9s\n",
      "[Parallel(n_jobs=-1)]: Done 100 out of 100 | elapsed:  1.1min finished\n"
     ]
    },
    {
     "data": {
      "text/plain": [
       "RandomForestClassifier(bootstrap=True, class_weight=None, criterion='gini',\n",
       "                       max_depth=None, max_features='auto', max_leaf_nodes=None,\n",
       "                       min_impurity_decrease=0.0, min_impurity_split=None,\n",
       "                       min_samples_leaf=1, min_samples_split=2,\n",
       "                       min_weight_fraction_leaf=0.0, n_estimators=100,\n",
       "                       n_jobs=-1, oob_score=False, random_state=0, verbose=True,\n",
       "                       warm_start=False)"
      ]
     },
     "execution_count": 31,
     "metadata": {},
     "output_type": "execute_result"
    }
   ],
   "source": [
    "from sklearn.ensemble import RandomForestClassifier\n",
    "rfc=RandomForestClassifier(n_estimators=100, n_jobs=-1, random_state=0, verbose=True)\n",
    "rfc.fit(x_train, np.ravel(y_train))"
   ]
  },
  {
   "cell_type": "code",
   "execution_count": 32,
   "metadata": {},
   "outputs": [
    {
     "name": "stderr",
     "output_type": "stream",
     "text": [
      "[Parallel(n_jobs=4)]: Using backend ThreadingBackend with 4 concurrent workers.\n",
      "[Parallel(n_jobs=4)]: Done  42 tasks      | elapsed:    0.6s\n",
      "[Parallel(n_jobs=4)]: Done 100 out of 100 | elapsed:    1.3s finished\n"
     ]
    },
    {
     "data": {
      "text/plain": [
       "0.9803645576747132"
      ]
     },
     "execution_count": 32,
     "metadata": {},
     "output_type": "execute_result"
    }
   ],
   "source": [
    "rfc.score(x_train, np.ravel(y_train))"
   ]
  },
  {
   "cell_type": "code",
   "execution_count": 33,
   "metadata": {},
   "outputs": [
    {
     "name": "stderr",
     "output_type": "stream",
     "text": [
      "[Parallel(n_jobs=4)]: Using backend ThreadingBackend with 4 concurrent workers.\n",
      "[Parallel(n_jobs=4)]: Done  42 tasks      | elapsed:    0.8s\n",
      "[Parallel(n_jobs=4)]: Done 100 out of 100 | elapsed:    1.8s finished\n"
     ]
    },
    {
     "data": {
      "text/plain": [
       "0.5613257335866583"
      ]
     },
     "execution_count": 33,
     "metadata": {},
     "output_type": "execute_result"
    }
   ],
   "source": [
    "rfc.score(x_test, np.ravel(y_test))"
   ]
  },
  {
   "cell_type": "code",
   "execution_count": 34,
   "metadata": {},
   "outputs": [
    {
     "data": {
      "text/plain": [
       "68"
      ]
     },
     "execution_count": 34,
     "metadata": {},
     "output_type": "execute_result"
    }
   ],
   "source": [
    "NoraData.classes.nunique()"
   ]
  },
  {
   "cell_type": "code",
   "execution_count": 35,
   "metadata": {},
   "outputs": [],
   "source": [
    "bye=NoraData.groupby(\"labels\").count().sort_values('text')"
   ]
  },
  {
   "cell_type": "code",
   "execution_count": 36,
   "metadata": {},
   "outputs": [
    {
     "data": {
      "text/html": [
       "<div>\n",
       "<style scoped>\n",
       "    .dataframe tbody tr th:only-of-type {\n",
       "        vertical-align: middle;\n",
       "    }\n",
       "\n",
       "    .dataframe tbody tr th {\n",
       "        vertical-align: top;\n",
       "    }\n",
       "\n",
       "    .dataframe thead th {\n",
       "        text-align: right;\n",
       "    }\n",
       "</style>\n",
       "<table border=\"1\" class=\"dataframe\">\n",
       "  <thead>\n",
       "    <tr style=\"text-align: right;\">\n",
       "      <th></th>\n",
       "      <th>text</th>\n",
       "      <th>index</th>\n",
       "      <th>classes</th>\n",
       "    </tr>\n",
       "    <tr>\n",
       "      <th>labels</th>\n",
       "      <th></th>\n",
       "      <th></th>\n",
       "      <th></th>\n",
       "    </tr>\n",
       "  </thead>\n",
       "  <tbody>\n",
       "    <tr>\n",
       "      <th>third party entity other users</th>\n",
       "      <td>50</td>\n",
       "      <td>50</td>\n",
       "      <td>50</td>\n",
       "    </tr>\n",
       "    <tr>\n",
       "      <th>third party entity public</th>\n",
       "      <td>59</td>\n",
       "      <td>59</td>\n",
       "      <td>59</td>\n",
       "    </tr>\n",
       "    <tr>\n",
       "      <th>third party entity unspecified</th>\n",
       "      <td>70</td>\n",
       "      <td>70</td>\n",
       "      <td>70</td>\n",
       "    </tr>\n",
       "    <tr>\n",
       "      <th>third party entity other part of company/affiliate</th>\n",
       "      <td>203</td>\n",
       "      <td>203</td>\n",
       "      <td>203</td>\n",
       "    </tr>\n",
       "    <tr>\n",
       "      <th>third party entity named third party</th>\n",
       "      <td>715</td>\n",
       "      <td>715</td>\n",
       "      <td>715</td>\n",
       "    </tr>\n",
       "    <tr>\n",
       "      <th>third party entity unnamed third party</th>\n",
       "      <td>859</td>\n",
       "      <td>859</td>\n",
       "      <td>859</td>\n",
       "    </tr>\n",
       "  </tbody>\n",
       "</table>\n",
       "</div>"
      ],
      "text/plain": [
       "                                                    text  index  classes\n",
       "labels                                                                  \n",
       "third party entity other users                        50     50       50\n",
       "third party entity public                             59     59       59\n",
       "third party entity unspecified                        70     70       70\n",
       "third party entity other part of company/affiliate   203    203      203\n",
       "third party entity named third party                 715    715      715\n",
       "third party entity unnamed third party               859    859      859"
      ]
     },
     "execution_count": 36,
     "metadata": {},
     "output_type": "execute_result"
    }
   ],
   "source": [
    "bye[bye.index.str.startswith('third party entity')]"
   ]
  },
  {
   "cell_type": "code",
   "execution_count": 37,
   "metadata": {},
   "outputs": [],
   "source": [
    "NoraData1=NoraData[NoraData['labels'].isin(bye)]"
   ]
  },
  {
   "cell_type": "code",
   "execution_count": 38,
   "metadata": {},
   "outputs": [
    {
     "data": {
      "text/plain": [
       "(0, 3)"
      ]
     },
     "execution_count": 38,
     "metadata": {},
     "output_type": "execute_result"
    }
   ],
   "source": [
    "NoraData1.groupby(\"labels\").count().sort_values('text').shape"
   ]
  },
  {
   "cell_type": "code",
   "execution_count": 39,
   "metadata": {},
   "outputs": [
    {
     "ename": "ValueError",
     "evalue": "empty vocabulary; perhaps the documents only contain stop words",
     "output_type": "error",
     "traceback": [
      "\u001b[0;31m---------------------------------------------------------------------------\u001b[0m",
      "\u001b[0;31mValueError\u001b[0m                                Traceback (most recent call last)",
      "\u001b[0;32m<ipython-input-39-2c38fbb896df>\u001b[0m in \u001b[0;36m<module>\u001b[0;34m\u001b[0m\n\u001b[1;32m      1\u001b[0m \u001b[0mvectorizer\u001b[0m \u001b[0;34m=\u001b[0m \u001b[0mTfidfVectorizer\u001b[0m\u001b[0;34m(\u001b[0m\u001b[0mngram_range\u001b[0m\u001b[0;34m=\u001b[0m\u001b[0;34m(\u001b[0m\u001b[0;36m1\u001b[0m\u001b[0;34m,\u001b[0m\u001b[0;36m2\u001b[0m\u001b[0;34m)\u001b[0m\u001b[0;34m)\u001b[0m \u001b[0;31m# You can still specify n-grams here.\u001b[0m\u001b[0;34m\u001b[0m\u001b[0;34m\u001b[0m\u001b[0m\n\u001b[0;32m----> 2\u001b[0;31m \u001b[0mX\u001b[0m \u001b[0;34m=\u001b[0m \u001b[0mvectorizer\u001b[0m\u001b[0;34m.\u001b[0m\u001b[0mfit_transform\u001b[0m\u001b[0;34m(\u001b[0m\u001b[0mNoraData1\u001b[0m\u001b[0;34m[\u001b[0m\u001b[0;34m'text'\u001b[0m\u001b[0;34m]\u001b[0m\u001b[0;34m)\u001b[0m\u001b[0;34m\u001b[0m\u001b[0;34m\u001b[0m\u001b[0m\n\u001b[0m\u001b[1;32m      3\u001b[0m \u001b[0mX\u001b[0m\u001b[0;34m.\u001b[0m\u001b[0mtoarray\u001b[0m\u001b[0;34m(\u001b[0m\u001b[0;34m)\u001b[0m\u001b[0;34m\u001b[0m\u001b[0;34m\u001b[0m\u001b[0m\n",
      "\u001b[0;32m/miniconda3/envs/tensorflow/lib/python3.6/site-packages/sklearn/feature_extraction/text.py\u001b[0m in \u001b[0;36mfit_transform\u001b[0;34m(self, raw_documents, y)\u001b[0m\n\u001b[1;32m   1650\u001b[0m         \"\"\"\n\u001b[1;32m   1651\u001b[0m         \u001b[0mself\u001b[0m\u001b[0;34m.\u001b[0m\u001b[0m_check_params\u001b[0m\u001b[0;34m(\u001b[0m\u001b[0;34m)\u001b[0m\u001b[0;34m\u001b[0m\u001b[0;34m\u001b[0m\u001b[0m\n\u001b[0;32m-> 1652\u001b[0;31m         \u001b[0mX\u001b[0m \u001b[0;34m=\u001b[0m \u001b[0msuper\u001b[0m\u001b[0;34m(\u001b[0m\u001b[0;34m)\u001b[0m\u001b[0;34m.\u001b[0m\u001b[0mfit_transform\u001b[0m\u001b[0;34m(\u001b[0m\u001b[0mraw_documents\u001b[0m\u001b[0;34m)\u001b[0m\u001b[0;34m\u001b[0m\u001b[0;34m\u001b[0m\u001b[0m\n\u001b[0m\u001b[1;32m   1653\u001b[0m         \u001b[0mself\u001b[0m\u001b[0;34m.\u001b[0m\u001b[0m_tfidf\u001b[0m\u001b[0;34m.\u001b[0m\u001b[0mfit\u001b[0m\u001b[0;34m(\u001b[0m\u001b[0mX\u001b[0m\u001b[0;34m)\u001b[0m\u001b[0;34m\u001b[0m\u001b[0;34m\u001b[0m\u001b[0m\n\u001b[1;32m   1654\u001b[0m         \u001b[0;31m# X is already a transformed view of raw_documents so\u001b[0m\u001b[0;34m\u001b[0m\u001b[0;34m\u001b[0m\u001b[0;34m\u001b[0m\u001b[0m\n",
      "\u001b[0;32m/miniconda3/envs/tensorflow/lib/python3.6/site-packages/sklearn/feature_extraction/text.py\u001b[0m in \u001b[0;36mfit_transform\u001b[0;34m(self, raw_documents, y)\u001b[0m\n\u001b[1;32m   1056\u001b[0m \u001b[0;34m\u001b[0m\u001b[0m\n\u001b[1;32m   1057\u001b[0m         vocabulary, X = self._count_vocab(raw_documents,\n\u001b[0;32m-> 1058\u001b[0;31m                                           self.fixed_vocabulary_)\n\u001b[0m\u001b[1;32m   1059\u001b[0m \u001b[0;34m\u001b[0m\u001b[0m\n\u001b[1;32m   1060\u001b[0m         \u001b[0;32mif\u001b[0m \u001b[0mself\u001b[0m\u001b[0;34m.\u001b[0m\u001b[0mbinary\u001b[0m\u001b[0;34m:\u001b[0m\u001b[0;34m\u001b[0m\u001b[0;34m\u001b[0m\u001b[0m\n",
      "\u001b[0;32m/miniconda3/envs/tensorflow/lib/python3.6/site-packages/sklearn/feature_extraction/text.py\u001b[0m in \u001b[0;36m_count_vocab\u001b[0;34m(self, raw_documents, fixed_vocab)\u001b[0m\n\u001b[1;32m    987\u001b[0m             \u001b[0mvocabulary\u001b[0m \u001b[0;34m=\u001b[0m \u001b[0mdict\u001b[0m\u001b[0;34m(\u001b[0m\u001b[0mvocabulary\u001b[0m\u001b[0;34m)\u001b[0m\u001b[0;34m\u001b[0m\u001b[0;34m\u001b[0m\u001b[0m\n\u001b[1;32m    988\u001b[0m             \u001b[0;32mif\u001b[0m \u001b[0;32mnot\u001b[0m \u001b[0mvocabulary\u001b[0m\u001b[0;34m:\u001b[0m\u001b[0;34m\u001b[0m\u001b[0;34m\u001b[0m\u001b[0m\n\u001b[0;32m--> 989\u001b[0;31m                 raise ValueError(\"empty vocabulary; perhaps the documents only\"\n\u001b[0m\u001b[1;32m    990\u001b[0m                                  \" contain stop words\")\n\u001b[1;32m    991\u001b[0m \u001b[0;34m\u001b[0m\u001b[0m\n",
      "\u001b[0;31mValueError\u001b[0m: empty vocabulary; perhaps the documents only contain stop words"
     ]
    }
   ],
   "source": [
    "vectorizer = TfidfVectorizer(ngram_range=(1,2)) # You can still specify n-grams here.\n",
    "X = vectorizer.fit_transform(NoraData1['text'])\n",
    "X.toarray()"
   ]
  },
  {
   "cell_type": "code",
   "execution_count": null,
   "metadata": {},
   "outputs": [],
   "source": [
    "features = X\n",
    "targets = np.array(NoraData1.classes)\n",
    "x_train, x_test, y_train, y_test = train_test_split(features, targets.reshape(-1,1), test_size = 0.25, random_state=7)"
   ]
  },
  {
   "cell_type": "code",
   "execution_count": null,
   "metadata": {},
   "outputs": [],
   "source": [
    "from sklearn.ensemble import RandomForestClassifier\n",
    "rfc=RandomForestClassifier(n_estimators=100, n_jobs=-1, random_state=0, verbose=True)\n",
    "rfc.fit(x_train, np.ravel(y_train))"
   ]
  },
  {
   "cell_type": "code",
   "execution_count": null,
   "metadata": {},
   "outputs": [],
   "source": [
    "rfc.score(x_train, np.ravel(y_train))"
   ]
  },
  {
   "cell_type": "code",
   "execution_count": null,
   "metadata": {},
   "outputs": [],
   "source": [
    "rfc.score(x_test, np.ravel(y_test))"
   ]
  },
  {
   "cell_type": "code",
   "execution_count": 52,
   "metadata": {},
   "outputs": [
    {
     "data": {
      "text/html": [
       "<div>\n",
       "<style scoped>\n",
       "    .dataframe tbody tr th:only-of-type {\n",
       "        vertical-align: middle;\n",
       "    }\n",
       "\n",
       "    .dataframe tbody tr th {\n",
       "        vertical-align: top;\n",
       "    }\n",
       "\n",
       "    .dataframe thead th {\n",
       "        text-align: right;\n",
       "    }\n",
       "</style>\n",
       "<table border=\"1\" class=\"dataframe\">\n",
       "  <thead>\n",
       "    <tr style=\"text-align: right;\">\n",
       "      <th></th>\n",
       "      <th>Collect/receive/track from other websites</th>\n",
       "      <th>Collect/receive from mobile/website/internal collection</th>\n",
       "      <th>Information acquisition unspecified</th>\n",
       "      <th>Share/collection method with third party stated</th>\n",
       "      <th>Share/collection method with third party not stated</th>\n",
       "      <th>Personal information type - other</th>\n",
       "      <th>Retention purpose stated</th>\n",
       "      <th>Retention period stated</th>\n",
       "      <th>Retention period unspecified</th>\n",
       "      <th>Security measures access and edit stated</th>\n",
       "      <th>Security measure generic</th>\n",
       "      <th>Third party entity named company</th>\n",
       "      <th>Third party entity - public</th>\n",
       "      <th>Third party entity unspecified</th>\n",
       "    </tr>\n",
       "  </thead>\n",
       "  <tbody>\n",
       "    <tr>\n",
       "      <th>0</th>\n",
       "      <td>action first-party collect from user on other ...</td>\n",
       "      <td>action first-party collect in mobile app</td>\n",
       "      <td>action first-party unspecified</td>\n",
       "      <td>action third party collect on first party webs...</td>\n",
       "      <td>action third party unspecified</td>\n",
       "      <td>personal information type health</td>\n",
       "      <td>retention purpose advertising</td>\n",
       "      <td>retention period stated period</td>\n",
       "      <td>retention period indefinitely</td>\n",
       "      <td>security measure privacy training</td>\n",
       "      <td>retention purpose unspecified</td>\n",
       "      <td>third party entity named third party</td>\n",
       "      <td>third party entity other users</td>\n",
       "      <td>third party entity unspecified</td>\n",
       "    </tr>\n",
       "    <tr>\n",
       "      <th>1</th>\n",
       "      <td>action first-party receive from other service/...</td>\n",
       "      <td>action first-party collect on mobile website</td>\n",
       "      <td>NaN</td>\n",
       "      <td>action third party receive/shared with</td>\n",
       "      <td>NaN</td>\n",
       "      <td>personal information type survey data</td>\n",
       "      <td>retention purpose marketing</td>\n",
       "      <td>retention period limited</td>\n",
       "      <td>retention period unspecified</td>\n",
       "      <td>security measure secure user authentication</td>\n",
       "      <td>security measure generic</td>\n",
       "      <td>third party entity other part of company/affil...</td>\n",
       "      <td>third party entity public</td>\n",
       "      <td>third party entity unnamed third party</td>\n",
       "    </tr>\n",
       "    <tr>\n",
       "      <th>2</th>\n",
       "      <td>action first-party receive from other service/...</td>\n",
       "      <td>action first-party receive from other parts of...</td>\n",
       "      <td>NaN</td>\n",
       "      <td>action third party see</td>\n",
       "      <td>NaN</td>\n",
       "      <td>personal information type personal identifier</td>\n",
       "      <td>retention purpose analytics/research</td>\n",
       "      <td>NaN</td>\n",
       "      <td>NaN</td>\n",
       "      <td>security measure privacy review/audit</td>\n",
       "      <td>NaN</td>\n",
       "      <td>NaN</td>\n",
       "      <td>NaN</td>\n",
       "      <td>NaN</td>\n",
       "    </tr>\n",
       "    <tr>\n",
       "      <th>3</th>\n",
       "      <td>NaN</td>\n",
       "      <td>NaN</td>\n",
       "      <td>NaN</td>\n",
       "      <td>action third party track on first party websit...</td>\n",
       "      <td>NaN</td>\n",
       "      <td>personal information type social media data</td>\n",
       "      <td>retention purpose service operation and security</td>\n",
       "      <td>NaN</td>\n",
       "      <td>NaN</td>\n",
       "      <td>security measure secure data storage</td>\n",
       "      <td>NaN</td>\n",
       "      <td>NaN</td>\n",
       "      <td>NaN</td>\n",
       "      <td>NaN</td>\n",
       "    </tr>\n",
       "    <tr>\n",
       "      <th>4</th>\n",
       "      <td>NaN</td>\n",
       "      <td>NaN</td>\n",
       "      <td>NaN</td>\n",
       "      <td>NaN</td>\n",
       "      <td>NaN</td>\n",
       "      <td>personal information type demographic</td>\n",
       "      <td>retention purpose legal requirement</td>\n",
       "      <td>NaN</td>\n",
       "      <td>NaN</td>\n",
       "      <td>security measure privacy/security program</td>\n",
       "      <td>NaN</td>\n",
       "      <td>NaN</td>\n",
       "      <td>NaN</td>\n",
       "      <td>NaN</td>\n",
       "    </tr>\n",
       "    <tr>\n",
       "      <th>5</th>\n",
       "      <td>NaN</td>\n",
       "      <td>NaN</td>\n",
       "      <td>NaN</td>\n",
       "      <td>NaN</td>\n",
       "      <td>NaN</td>\n",
       "      <td>NaN</td>\n",
       "      <td>retention purpose perform service</td>\n",
       "      <td>NaN</td>\n",
       "      <td>NaN</td>\n",
       "      <td>security measure secure data transfer</td>\n",
       "      <td>NaN</td>\n",
       "      <td>NaN</td>\n",
       "      <td>NaN</td>\n",
       "      <td>NaN</td>\n",
       "    </tr>\n",
       "    <tr>\n",
       "      <th>6</th>\n",
       "      <td>NaN</td>\n",
       "      <td>NaN</td>\n",
       "      <td>NaN</td>\n",
       "      <td>NaN</td>\n",
       "      <td>NaN</td>\n",
       "      <td>NaN</td>\n",
       "      <td>NaN</td>\n",
       "      <td>NaN</td>\n",
       "      <td>NaN</td>\n",
       "      <td>security measure data access limitation</td>\n",
       "      <td>NaN</td>\n",
       "      <td>NaN</td>\n",
       "      <td>NaN</td>\n",
       "      <td>NaN</td>\n",
       "    </tr>\n",
       "  </tbody>\n",
       "</table>\n",
       "</div>"
      ],
      "text/plain": [
       "           Collect/receive/track from other websites  \\\n",
       "0  action first-party collect from user on other ...   \n",
       "1  action first-party receive from other service/...   \n",
       "2  action first-party receive from other service/...   \n",
       "3                                                NaN   \n",
       "4                                                NaN   \n",
       "5                                                NaN   \n",
       "6                                                NaN   \n",
       "\n",
       "  Collect/receive from mobile/website/internal collection  \\\n",
       "0           action first-party collect in mobile app        \n",
       "1       action first-party collect on mobile website        \n",
       "2  action first-party receive from other parts of...        \n",
       "3                                                NaN        \n",
       "4                                                NaN        \n",
       "5                                                NaN        \n",
       "6                                                NaN        \n",
       "\n",
       "  Information acquisition unspecified  \\\n",
       "0      action first-party unspecified   \n",
       "1                                 NaN   \n",
       "2                                 NaN   \n",
       "3                                 NaN   \n",
       "4                                 NaN   \n",
       "5                                 NaN   \n",
       "6                                 NaN   \n",
       "\n",
       "     Share/collection method with third party stated  \\\n",
       "0  action third party collect on first party webs...   \n",
       "1             action third party receive/shared with   \n",
       "2                             action third party see   \n",
       "3  action third party track on first party websit...   \n",
       "4                                                NaN   \n",
       "5                                                NaN   \n",
       "6                                                NaN   \n",
       "\n",
       "  Share/collection method with third party not stated  \\\n",
       "0                     action third party unspecified    \n",
       "1                                                NaN    \n",
       "2                                                NaN    \n",
       "3                                                NaN    \n",
       "4                                                NaN    \n",
       "5                                                NaN    \n",
       "6                                                NaN    \n",
       "\n",
       "               Personal information type - other  \\\n",
       "0               personal information type health   \n",
       "1          personal information type survey data   \n",
       "2  personal information type personal identifier   \n",
       "3    personal information type social media data   \n",
       "4          personal information type demographic   \n",
       "5                                            NaN   \n",
       "6                                            NaN   \n",
       "\n",
       "                           Retention purpose stated  \\\n",
       "0                     retention purpose advertising   \n",
       "1                       retention purpose marketing   \n",
       "2              retention purpose analytics/research   \n",
       "3  retention purpose service operation and security   \n",
       "4               retention purpose legal requirement   \n",
       "5                 retention purpose perform service   \n",
       "6                                               NaN   \n",
       "\n",
       "          Retention period stated   Retention period unspecified  \\\n",
       "0  retention period stated period  retention period indefinitely   \n",
       "1        retention period limited   retention period unspecified   \n",
       "2                             NaN                            NaN   \n",
       "3                             NaN                            NaN   \n",
       "4                             NaN                            NaN   \n",
       "5                             NaN                            NaN   \n",
       "6                             NaN                            NaN   \n",
       "\n",
       "      Security measures access and edit stated       Security measure generic  \\\n",
       "0            security measure privacy training  retention purpose unspecified   \n",
       "1  security measure secure user authentication       security measure generic   \n",
       "2        security measure privacy review/audit                            NaN   \n",
       "3         security measure secure data storage                            NaN   \n",
       "4    security measure privacy/security program                            NaN   \n",
       "5        security measure secure data transfer                            NaN   \n",
       "6      security measure data access limitation                            NaN   \n",
       "\n",
       "                    Third party entity named company  \\\n",
       "0               third party entity named third party   \n",
       "1  third party entity other part of company/affil...   \n",
       "2                                                NaN   \n",
       "3                                                NaN   \n",
       "4                                                NaN   \n",
       "5                                                NaN   \n",
       "6                                                NaN   \n",
       "\n",
       "      Third party entity - public          Third party entity unspecified  \n",
       "0  third party entity other users          third party entity unspecified  \n",
       "1       third party entity public  third party entity unnamed third party  \n",
       "2                             NaN                                     NaN  \n",
       "3                             NaN                                     NaN  \n",
       "4                             NaN                                     NaN  \n",
       "5                             NaN                                     NaN  \n",
       "6                             NaN                                     NaN  "
      ]
     },
     "execution_count": 52,
     "metadata": {},
     "output_type": "execute_result"
    }
   ],
   "source": [
    "lkp = pd.read_csv('/Users/dgandhi/Documents/GitHub/ops812-practicum/class_lookup_tbl.csv')\n",
    "lkp"
   ]
  },
  {
   "cell_type": "code",
   "execution_count": 69,
   "metadata": {},
   "outputs": [
    {
     "data": {
      "text/plain": [
       "dict_values([['action first-party collect from user on other websites', 'action first-party receive from other service/third-party (named)', 'action first-party receive from other service/third-party (unnamed)', nan, nan, nan, nan], ['action first-party collect in mobile app', 'action first-party collect on mobile website', 'action first-party receive from other parts of company/affiliates', nan, nan, nan, nan], ['action first-party unspecified', nan, nan, nan, nan, nan, nan], ['action third party collect on first party website/app', 'action third party receive/shared with', 'action third party see', 'action third party track on first party website/app', nan, nan, nan], ['action third party unspecified', nan, nan, nan, nan, nan, nan], ['personal information type health', 'personal information type survey data', 'personal information type personal identifier', 'personal information type social media data', 'personal information type demographic', nan, nan], ['retention purpose advertising', 'retention purpose marketing', 'retention purpose analytics/research', 'retention purpose service operation and security', 'retention purpose legal requirement', 'retention purpose perform service', nan], ['retention period stated period', 'retention period limited', nan, nan, nan, nan, nan], ['retention period indefinitely', 'retention period unspecified', nan, nan, nan, nan, nan], ['security measure privacy training', 'security measure secure user authentication', 'security measure privacy review/audit', 'security measure secure data storage', 'security measure privacy/security program', 'security measure secure data transfer', 'security measure data access limitation'], ['retention purpose unspecified', 'security measure generic', nan, nan, nan, nan, nan], ['third party entity named third party', 'third party entity other part of company/affiliate', nan, nan, nan, nan, nan], ['third party entity other users', 'third party entity public', nan, nan, nan, nan, nan], ['third party entity unspecified', 'third party entity unnamed third party', nan, nan, nan, nan, nan]])"
      ]
     },
     "execution_count": 69,
     "metadata": {},
     "output_type": "execute_result"
    }
   ],
   "source": [
    "# labels_dict = lkp.dropna(axis=0)\n",
    "from math import isnan\n",
    "ldict = lkp.to_dict(orient='list')\n",
    "ldict.values()"
   ]
  },
  {
   "cell_type": "code",
   "execution_count": 71,
   "metadata": {},
   "outputs": [
    {
     "name": "stdout",
     "output_type": "stream",
     "text": [
      "{'Collect/receive/track from other websites': ['action first-party collect from user on other websites', 'action first-party receive from other service/third-party (named)', 'action first-party receive from other service/third-party (unnamed)'], 'Collect/receive from mobile/website/internal collection': ['action first-party collect in mobile app', 'action first-party collect on mobile website', 'action first-party receive from other parts of company/affiliates'], 'Information acquisition unspecified': ['action first-party unspecified'], 'Share/collection method with third party stated': ['action third party collect on first party website/app', 'action third party receive/shared with', 'action third party see', 'action third party track on first party website/app'], 'Share/collection method with third party not stated': ['action third party unspecified'], 'Personal information type - other': ['personal information type health', 'personal information type survey data', 'personal information type personal identifier', 'personal information type social media data', 'personal information type demographic'], 'Retention purpose stated': ['retention purpose advertising', 'retention purpose marketing', 'retention purpose analytics/research', 'retention purpose service operation and security', 'retention purpose legal requirement', 'retention purpose perform service'], 'Retention period stated': ['retention period stated period', 'retention period limited'], 'Retention period unspecified': ['retention period indefinitely', 'retention period unspecified'], 'Security measures access and edit stated': ['security measure privacy training', 'security measure secure user authentication', 'security measure privacy review/audit', 'security measure secure data storage', 'security measure privacy/security program', 'security measure secure data transfer', 'security measure data access limitation'], 'Security measure generic': ['retention purpose unspecified', 'security measure generic'], 'Third party entity named company': ['third party entity named third party', 'third party entity other part of company/affiliate'], 'Third party entity - public': ['third party entity other users', 'third party entity public'], 'Third party entity unspecified': ['third party entity unspecified', 'third party entity unnamed third party']}\n"
     ]
    }
   ],
   "source": [
    "res={k: [elem for elem in v if elem is not np.nan] for k,v in ldict.items()}\n",
    "print(res)"
   ]
  },
  {
   "cell_type": "code",
   "execution_count": 82,
   "metadata": {},
   "outputs": [
    {
     "data": {
      "text/plain": [
       "['Collect/receive/track from other websites',\n",
       " 'Collect/receive from mobile/website/internal collection',\n",
       " 'Information acquisition unspecified',\n",
       " 'Share/collection method with third party stated',\n",
       " 'Share/collection method with third party not stated',\n",
       " 'Personal information type - other',\n",
       " 'Retention purpose stated',\n",
       " 'Retention period stated',\n",
       " 'Retention period unspecified',\n",
       " 'Security measures access and edit stated',\n",
       " 'Security measure generic',\n",
       " 'Third party entity named company',\n",
       " 'Third party entity - public',\n",
       " 'Third party entity unspecified']"
      ]
     },
     "execution_count": 82,
     "metadata": {},
     "output_type": "execute_result"
    }
   ],
   "source": [
    "list(res.keys())"
   ]
  },
  {
   "cell_type": "code",
   "execution_count": 93,
   "metadata": {},
   "outputs": [
    {
     "data": {
      "text/html": [
       "<div>\n",
       "<style scoped>\n",
       "    .dataframe tbody tr th:only-of-type {\n",
       "        vertical-align: middle;\n",
       "    }\n",
       "\n",
       "    .dataframe tbody tr th {\n",
       "        vertical-align: top;\n",
       "    }\n",
       "\n",
       "    .dataframe thead th {\n",
       "        text-align: right;\n",
       "    }\n",
       "</style>\n",
       "<table border=\"1\" class=\"dataframe\">\n",
       "  <thead>\n",
       "    <tr style=\"text-align: right;\">\n",
       "      <th></th>\n",
       "      <th>0</th>\n",
       "    </tr>\n",
       "  </thead>\n",
       "  <tbody>\n",
       "    <tr>\n",
       "      <th>[action first-party collect from user on other websites, action first-party receive from other service/third-party (named), action first-party receive from other service/third-party (unnamed)]</th>\n",
       "      <td>Collect/receive/track from other websites</td>\n",
       "    </tr>\n",
       "    <tr>\n",
       "      <th>[action first-party collect in mobile app, action first-party collect on mobile website, action first-party receive from other parts of company/affiliates]</th>\n",
       "      <td>Collect/receive from mobile/website/internal c...</td>\n",
       "    </tr>\n",
       "    <tr>\n",
       "      <th>[action first-party unspecified]</th>\n",
       "      <td>Information acquisition unspecified</td>\n",
       "    </tr>\n",
       "    <tr>\n",
       "      <th>[action third party collect on first party website/app, action third party receive/shared with, action third party see, action third party track on first party website/app]</th>\n",
       "      <td>Share/collection method with third party stated</td>\n",
       "    </tr>\n",
       "    <tr>\n",
       "      <th>[action third party unspecified]</th>\n",
       "      <td>Share/collection method with third party not s...</td>\n",
       "    </tr>\n",
       "    <tr>\n",
       "      <th>[personal information type health, personal information type survey data, personal information type personal identifier, personal information type social media data, personal information type demographic]</th>\n",
       "      <td>Personal information type - other</td>\n",
       "    </tr>\n",
       "    <tr>\n",
       "      <th>[retention purpose advertising, retention purpose marketing, retention purpose analytics/research, retention purpose service operation and security, retention purpose legal requirement, retention purpose perform service]</th>\n",
       "      <td>Retention purpose stated</td>\n",
       "    </tr>\n",
       "    <tr>\n",
       "      <th>[retention period stated period, retention period limited]</th>\n",
       "      <td>Retention period stated</td>\n",
       "    </tr>\n",
       "    <tr>\n",
       "      <th>[retention period indefinitely, retention period unspecified]</th>\n",
       "      <td>Retention period unspecified</td>\n",
       "    </tr>\n",
       "    <tr>\n",
       "      <th>[security measure privacy training, security measure secure user authentication, security measure privacy review/audit, security measure secure data storage, security measure privacy/security program, security measure secure data transfer, security measure data access limitation]</th>\n",
       "      <td>Security measures access and edit stated</td>\n",
       "    </tr>\n",
       "    <tr>\n",
       "      <th>[retention purpose unspecified, security measure generic]</th>\n",
       "      <td>Security measure generic</td>\n",
       "    </tr>\n",
       "    <tr>\n",
       "      <th>[third party entity named third party, third party entity other part of company/affiliate]</th>\n",
       "      <td>Third party entity named company</td>\n",
       "    </tr>\n",
       "    <tr>\n",
       "      <th>[third party entity other users, third party entity public]</th>\n",
       "      <td>Third party entity - public</td>\n",
       "    </tr>\n",
       "    <tr>\n",
       "      <th>[third party entity unspecified, third party entity unnamed third party]</th>\n",
       "      <td>Third party entity unspecified</td>\n",
       "    </tr>\n",
       "  </tbody>\n",
       "</table>\n",
       "</div>"
      ],
      "text/plain": [
       "                                                                                                    0\n",
       "[action first-party collect from user on other ...          Collect/receive/track from other websites\n",
       "[action first-party collect in mobile app, acti...  Collect/receive from mobile/website/internal c...\n",
       "[action first-party unspecified]                                  Information acquisition unspecified\n",
       "[action third party collect on first party webs...    Share/collection method with third party stated\n",
       "[action third party unspecified]                    Share/collection method with third party not s...\n",
       "[personal information type health, personal inf...                  Personal information type - other\n",
       "[retention purpose advertising, retention purpo...                           Retention purpose stated\n",
       "[retention period stated period, retention peri...                            Retention period stated\n",
       "[retention period indefinitely, retention perio...                       Retention period unspecified\n",
       "[security measure privacy training, security me...           Security measures access and edit stated\n",
       "[retention purpose unspecified, security measur...                           Security measure generic\n",
       "[third party entity named third party, third pa...                   Third party entity named company\n",
       "[third party entity other users, third party en...                        Third party entity - public\n",
       "[third party entity unspecified, third party en...                     Third party entity unspecified"
      ]
     },
     "execution_count": 93,
     "metadata": {},
     "output_type": "execute_result"
    }
   ],
   "source": [
    "t = pd.DataFrame(res.keys(),res.values())\n",
    "t"
   ]
  },
  {
   "cell_type": "code",
   "execution_count": 113,
   "metadata": {},
   "outputs": [],
   "source": [
    "t.reset_index(inplace=True)"
   ]
  },
  {
   "cell_type": "code",
   "execution_count": 115,
   "metadata": {},
   "outputs": [],
   "source": [
    "t.columns = ['v','k']"
   ]
  },
  {
   "cell_type": "code",
   "execution_count": 120,
   "metadata": {},
   "outputs": [
    {
     "data": {
      "text/html": [
       "<div>\n",
       "<style scoped>\n",
       "    .dataframe tbody tr th:only-of-type {\n",
       "        vertical-align: middle;\n",
       "    }\n",
       "\n",
       "    .dataframe tbody tr th {\n",
       "        vertical-align: top;\n",
       "    }\n",
       "\n",
       "    .dataframe thead th {\n",
       "        text-align: right;\n",
       "    }\n",
       "</style>\n",
       "<table border=\"1\" class=\"dataframe\">\n",
       "  <thead>\n",
       "    <tr style=\"text-align: right;\">\n",
       "      <th></th>\n",
       "      <th>0</th>\n",
       "      <th>1</th>\n",
       "      <th>2</th>\n",
       "      <th>3</th>\n",
       "      <th>4</th>\n",
       "      <th>5</th>\n",
       "      <th>6</th>\n",
       "      <th>v</th>\n",
       "      <th>k</th>\n",
       "    </tr>\n",
       "  </thead>\n",
       "  <tbody>\n",
       "    <tr>\n",
       "      <th>0</th>\n",
       "      <td>action first-party collect from user on other ...</td>\n",
       "      <td>action first-party receive from other service/...</td>\n",
       "      <td>action first-party receive from other service/...</td>\n",
       "      <td>NaN</td>\n",
       "      <td>NaN</td>\n",
       "      <td>NaN</td>\n",
       "      <td>NaN</td>\n",
       "      <td>[action first-party collect from user on other...</td>\n",
       "      <td>Collect/receive/track from other websites</td>\n",
       "    </tr>\n",
       "    <tr>\n",
       "      <th>1</th>\n",
       "      <td>action first-party collect in mobile app</td>\n",
       "      <td>action first-party collect on mobile website</td>\n",
       "      <td>action first-party receive from other parts of...</td>\n",
       "      <td>NaN</td>\n",
       "      <td>NaN</td>\n",
       "      <td>NaN</td>\n",
       "      <td>NaN</td>\n",
       "      <td>[action first-party collect in mobile app, act...</td>\n",
       "      <td>Collect/receive from mobile/website/internal c...</td>\n",
       "    </tr>\n",
       "    <tr>\n",
       "      <th>2</th>\n",
       "      <td>action first-party unspecified</td>\n",
       "      <td>NaN</td>\n",
       "      <td>NaN</td>\n",
       "      <td>NaN</td>\n",
       "      <td>NaN</td>\n",
       "      <td>NaN</td>\n",
       "      <td>NaN</td>\n",
       "      <td>[action first-party unspecified]</td>\n",
       "      <td>Information acquisition unspecified</td>\n",
       "    </tr>\n",
       "    <tr>\n",
       "      <th>3</th>\n",
       "      <td>action third party collect on first party webs...</td>\n",
       "      <td>action third party receive/shared with</td>\n",
       "      <td>action third party see</td>\n",
       "      <td>action third party track on first party websit...</td>\n",
       "      <td>NaN</td>\n",
       "      <td>NaN</td>\n",
       "      <td>NaN</td>\n",
       "      <td>[action third party collect on first party web...</td>\n",
       "      <td>Share/collection method with third party stated</td>\n",
       "    </tr>\n",
       "    <tr>\n",
       "      <th>4</th>\n",
       "      <td>action third party unspecified</td>\n",
       "      <td>NaN</td>\n",
       "      <td>NaN</td>\n",
       "      <td>NaN</td>\n",
       "      <td>NaN</td>\n",
       "      <td>NaN</td>\n",
       "      <td>NaN</td>\n",
       "      <td>[action third party unspecified]</td>\n",
       "      <td>Share/collection method with third party not s...</td>\n",
       "    </tr>\n",
       "    <tr>\n",
       "      <th>5</th>\n",
       "      <td>personal information type health</td>\n",
       "      <td>personal information type survey data</td>\n",
       "      <td>personal information type personal identifier</td>\n",
       "      <td>personal information type social media data</td>\n",
       "      <td>personal information type demographic</td>\n",
       "      <td>NaN</td>\n",
       "      <td>NaN</td>\n",
       "      <td>[personal information type health, personal in...</td>\n",
       "      <td>Personal information type - other</td>\n",
       "    </tr>\n",
       "    <tr>\n",
       "      <th>6</th>\n",
       "      <td>retention purpose advertising</td>\n",
       "      <td>retention purpose marketing</td>\n",
       "      <td>retention purpose analytics/research</td>\n",
       "      <td>retention purpose service operation and security</td>\n",
       "      <td>retention purpose legal requirement</td>\n",
       "      <td>retention purpose perform service</td>\n",
       "      <td>NaN</td>\n",
       "      <td>[retention purpose advertising, retention purp...</td>\n",
       "      <td>Retention purpose stated</td>\n",
       "    </tr>\n",
       "    <tr>\n",
       "      <th>7</th>\n",
       "      <td>retention period stated period</td>\n",
       "      <td>retention period limited</td>\n",
       "      <td>NaN</td>\n",
       "      <td>NaN</td>\n",
       "      <td>NaN</td>\n",
       "      <td>NaN</td>\n",
       "      <td>NaN</td>\n",
       "      <td>[retention period stated period, retention per...</td>\n",
       "      <td>Retention period stated</td>\n",
       "    </tr>\n",
       "    <tr>\n",
       "      <th>8</th>\n",
       "      <td>retention period indefinitely</td>\n",
       "      <td>retention period unspecified</td>\n",
       "      <td>NaN</td>\n",
       "      <td>NaN</td>\n",
       "      <td>NaN</td>\n",
       "      <td>NaN</td>\n",
       "      <td>NaN</td>\n",
       "      <td>[retention period indefinitely, retention peri...</td>\n",
       "      <td>Retention period unspecified</td>\n",
       "    </tr>\n",
       "    <tr>\n",
       "      <th>9</th>\n",
       "      <td>security measure privacy training</td>\n",
       "      <td>security measure secure user authentication</td>\n",
       "      <td>security measure privacy review/audit</td>\n",
       "      <td>security measure secure data storage</td>\n",
       "      <td>security measure privacy/security program</td>\n",
       "      <td>security measure secure data transfer</td>\n",
       "      <td>security measure data access limitation</td>\n",
       "      <td>[security measure privacy training, security m...</td>\n",
       "      <td>Security measures access and edit stated</td>\n",
       "    </tr>\n",
       "    <tr>\n",
       "      <th>10</th>\n",
       "      <td>retention purpose unspecified</td>\n",
       "      <td>security measure generic</td>\n",
       "      <td>NaN</td>\n",
       "      <td>NaN</td>\n",
       "      <td>NaN</td>\n",
       "      <td>NaN</td>\n",
       "      <td>NaN</td>\n",
       "      <td>[retention purpose unspecified, security measu...</td>\n",
       "      <td>Security measure generic</td>\n",
       "    </tr>\n",
       "    <tr>\n",
       "      <th>11</th>\n",
       "      <td>third party entity named third party</td>\n",
       "      <td>third party entity other part of company/affil...</td>\n",
       "      <td>NaN</td>\n",
       "      <td>NaN</td>\n",
       "      <td>NaN</td>\n",
       "      <td>NaN</td>\n",
       "      <td>NaN</td>\n",
       "      <td>[third party entity named third party, third p...</td>\n",
       "      <td>Third party entity named company</td>\n",
       "    </tr>\n",
       "    <tr>\n",
       "      <th>12</th>\n",
       "      <td>third party entity other users</td>\n",
       "      <td>third party entity public</td>\n",
       "      <td>NaN</td>\n",
       "      <td>NaN</td>\n",
       "      <td>NaN</td>\n",
       "      <td>NaN</td>\n",
       "      <td>NaN</td>\n",
       "      <td>[third party entity other users, third party e...</td>\n",
       "      <td>Third party entity - public</td>\n",
       "    </tr>\n",
       "    <tr>\n",
       "      <th>13</th>\n",
       "      <td>third party entity unspecified</td>\n",
       "      <td>third party entity unnamed third party</td>\n",
       "      <td>NaN</td>\n",
       "      <td>NaN</td>\n",
       "      <td>NaN</td>\n",
       "      <td>NaN</td>\n",
       "      <td>NaN</td>\n",
       "      <td>[third party entity unspecified, third party e...</td>\n",
       "      <td>Third party entity unspecified</td>\n",
       "    </tr>\n",
       "  </tbody>\n",
       "</table>\n",
       "</div>"
      ],
      "text/plain": [
       "                                                    0  \\\n",
       "0   action first-party collect from user on other ...   \n",
       "1            action first-party collect in mobile app   \n",
       "2                      action first-party unspecified   \n",
       "3   action third party collect on first party webs...   \n",
       "4                      action third party unspecified   \n",
       "5                    personal information type health   \n",
       "6                       retention purpose advertising   \n",
       "7                      retention period stated period   \n",
       "8                       retention period indefinitely   \n",
       "9                   security measure privacy training   \n",
       "10                      retention purpose unspecified   \n",
       "11               third party entity named third party   \n",
       "12                     third party entity other users   \n",
       "13                     third party entity unspecified   \n",
       "\n",
       "                                                    1  \\\n",
       "0   action first-party receive from other service/...   \n",
       "1        action first-party collect on mobile website   \n",
       "2                                                 NaN   \n",
       "3              action third party receive/shared with   \n",
       "4                                                 NaN   \n",
       "5               personal information type survey data   \n",
       "6                         retention purpose marketing   \n",
       "7                            retention period limited   \n",
       "8                        retention period unspecified   \n",
       "9         security measure secure user authentication   \n",
       "10                           security measure generic   \n",
       "11  third party entity other part of company/affil...   \n",
       "12                          third party entity public   \n",
       "13             third party entity unnamed third party   \n",
       "\n",
       "                                                    2  \\\n",
       "0   action first-party receive from other service/...   \n",
       "1   action first-party receive from other parts of...   \n",
       "2                                                 NaN   \n",
       "3                              action third party see   \n",
       "4                                                 NaN   \n",
       "5       personal information type personal identifier   \n",
       "6                retention purpose analytics/research   \n",
       "7                                                 NaN   \n",
       "8                                                 NaN   \n",
       "9               security measure privacy review/audit   \n",
       "10                                                NaN   \n",
       "11                                                NaN   \n",
       "12                                                NaN   \n",
       "13                                                NaN   \n",
       "\n",
       "                                                    3  \\\n",
       "0                                                 NaN   \n",
       "1                                                 NaN   \n",
       "2                                                 NaN   \n",
       "3   action third party track on first party websit...   \n",
       "4                                                 NaN   \n",
       "5         personal information type social media data   \n",
       "6    retention purpose service operation and security   \n",
       "7                                                 NaN   \n",
       "8                                                 NaN   \n",
       "9                security measure secure data storage   \n",
       "10                                                NaN   \n",
       "11                                                NaN   \n",
       "12                                                NaN   \n",
       "13                                                NaN   \n",
       "\n",
       "                                            4  \\\n",
       "0                                         NaN   \n",
       "1                                         NaN   \n",
       "2                                         NaN   \n",
       "3                                         NaN   \n",
       "4                                         NaN   \n",
       "5       personal information type demographic   \n",
       "6         retention purpose legal requirement   \n",
       "7                                         NaN   \n",
       "8                                         NaN   \n",
       "9   security measure privacy/security program   \n",
       "10                                        NaN   \n",
       "11                                        NaN   \n",
       "12                                        NaN   \n",
       "13                                        NaN   \n",
       "\n",
       "                                        5  \\\n",
       "0                                     NaN   \n",
       "1                                     NaN   \n",
       "2                                     NaN   \n",
       "3                                     NaN   \n",
       "4                                     NaN   \n",
       "5                                     NaN   \n",
       "6       retention purpose perform service   \n",
       "7                                     NaN   \n",
       "8                                     NaN   \n",
       "9   security measure secure data transfer   \n",
       "10                                    NaN   \n",
       "11                                    NaN   \n",
       "12                                    NaN   \n",
       "13                                    NaN   \n",
       "\n",
       "                                          6  \\\n",
       "0                                       NaN   \n",
       "1                                       NaN   \n",
       "2                                       NaN   \n",
       "3                                       NaN   \n",
       "4                                       NaN   \n",
       "5                                       NaN   \n",
       "6                                       NaN   \n",
       "7                                       NaN   \n",
       "8                                       NaN   \n",
       "9   security measure data access limitation   \n",
       "10                                      NaN   \n",
       "11                                      NaN   \n",
       "12                                      NaN   \n",
       "13                                      NaN   \n",
       "\n",
       "                                                    v  \\\n",
       "0   [action first-party collect from user on other...   \n",
       "1   [action first-party collect in mobile app, act...   \n",
       "2                    [action first-party unspecified]   \n",
       "3   [action third party collect on first party web...   \n",
       "4                    [action third party unspecified]   \n",
       "5   [personal information type health, personal in...   \n",
       "6   [retention purpose advertising, retention purp...   \n",
       "7   [retention period stated period, retention per...   \n",
       "8   [retention period indefinitely, retention peri...   \n",
       "9   [security measure privacy training, security m...   \n",
       "10  [retention purpose unspecified, security measu...   \n",
       "11  [third party entity named third party, third p...   \n",
       "12  [third party entity other users, third party e...   \n",
       "13  [third party entity unspecified, third party e...   \n",
       "\n",
       "                                                    k  \n",
       "0           Collect/receive/track from other websites  \n",
       "1   Collect/receive from mobile/website/internal c...  \n",
       "2                 Information acquisition unspecified  \n",
       "3     Share/collection method with third party stated  \n",
       "4   Share/collection method with third party not s...  \n",
       "5                   Personal information type - other  \n",
       "6                            Retention purpose stated  \n",
       "7                             Retention period stated  \n",
       "8                        Retention period unspecified  \n",
       "9            Security measures access and edit stated  \n",
       "10                           Security measure generic  \n",
       "11                   Third party entity named company  \n",
       "12                        Third party entity - public  \n",
       "13                     Third party entity unspecified  "
      ]
     },
     "execution_count": 120,
     "metadata": {},
     "output_type": "execute_result"
    }
   ],
   "source": [
    "#t.v.apply(pd.Series).merge(t, left_index=True, right_index=True).melt(id_vars='k', value_name='blah')\n",
    "t.v.apply(pd.Series).merge(t, left_index=True, right_index=True)"
   ]
  },
  {
   "cell_type": "code",
   "execution_count": null,
   "metadata": {},
   "outputs": [],
   "source": []
  }
 ],
 "metadata": {
  "kernelspec": {
   "display_name": "Python 3",
   "language": "python",
   "name": "python3"
  },
  "language_info": {
   "codemirror_mode": {
    "name": "ipython",
    "version": 3
   },
   "file_extension": ".py",
   "mimetype": "text/x-python",
   "name": "python",
   "nbconvert_exporter": "python",
   "pygments_lexer": "ipython3",
   "version": "3.7.3"
  }
 },
 "nbformat": 4,
 "nbformat_minor": 4
}
