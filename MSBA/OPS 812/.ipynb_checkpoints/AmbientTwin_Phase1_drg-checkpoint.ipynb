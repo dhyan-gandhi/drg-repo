{
 "cells": [
  {
   "cell_type": "code",
   "execution_count": 1,
   "metadata": {},
   "outputs": [],
   "source": [
    "# import the libraries\n",
    "from IPython.core.interactiveshell import InteractiveShell\n",
    "InteractiveShell.ast_node_interactivity = \"all\"\n",
    "from sklearn.feature_extraction.text import CountVectorizer, TfidfVectorizer\n",
    "import pandas as pd\n",
    "import numpy as np\n",
    "from sklearn.metrics import confusion_matrix\n"
   ]
  },
  {
   "cell_type": "code",
   "execution_count": 2,
   "metadata": {},
   "outputs": [
    {
     "data": {
      "text/plain": [
       "array([[0., 0., 0., ..., 0., 0., 0.],\n",
       "       [0., 0., 0., ..., 0., 0., 0.],\n",
       "       [0., 0., 0., ..., 0., 0., 0.],\n",
       "       ...,\n",
       "       [0., 0., 0., ..., 0., 0., 0.],\n",
       "       [0., 0., 0., ..., 0., 0., 0.],\n",
       "       [0., 0., 0., ..., 0., 0., 0.]])"
      ]
     },
     "execution_count": 2,
     "metadata": {},
     "output_type": "execute_result"
    }
   ],
   "source": [
    "df = pd.read_csv('clean_data')\n",
    "df = df[['category_name','plain_text','pretty_class']].dropna()\n",
    "\n",
    "vectorizer = TfidfVectorizer(ngram_range=(2,2)) # You can still specify n-grams here.\n",
    "X = vectorizer.fit_transform(df['plain_text'])\n",
    "X.toarray()"
   ]
  },
  {
   "cell_type": "code",
   "execution_count": 3,
   "metadata": {},
   "outputs": [],
   "source": [
    "features = X\n",
    "targets = np.array(df.category_name)\n",
    "\n",
    "from sklearn.model_selection import train_test_split\n",
    "\n",
    "x_train, x_test, y_train, y_test = train_test_split(features, targets.reshape(-1,1), test_size = 0.25)"
   ]
  },
  {
   "cell_type": "code",
   "execution_count": 4,
   "metadata": {},
   "outputs": [
    {
     "name": "stderr",
     "output_type": "stream",
     "text": [
      "Using TensorFlow backend.\n"
     ]
    }
   ],
   "source": [
    "import numpy as np\n",
    "import pandas as pd\n",
    "from sklearn.cluster import KMeans\n",
    "from sklearn.decomposition import PCA\n",
    "from sklearn.linear_model import LogisticRegression\n",
    "from sklearn.model_selection import train_test_split\n",
    "from sklearn.preprocessing import StandardScaler\n",
    "from sklearn import metrics\n",
    "import keras\n",
    "import matplotlib.pyplot as plt\n",
    "%matplotlib inline"
   ]
  },
  {
   "cell_type": "code",
   "execution_count": 5,
   "metadata": {
    "scrolled": false
   },
   "outputs": [
    {
     "name": "stderr",
     "output_type": "stream",
     "text": [
      "[Parallel(n_jobs=-1)]: Using backend ThreadingBackend with 4 concurrent workers.\n",
      "[Parallel(n_jobs=-1)]: Done  42 tasks      | elapsed:   13.1s\n",
      "[Parallel(n_jobs=-1)]: Done 100 out of 100 | elapsed:   29.7s finished\n"
     ]
    },
    {
     "data": {
      "text/plain": [
       "RandomForestClassifier(bootstrap=True, class_weight=None, criterion='gini',\n",
       "                       max_depth=None, max_features='auto', max_leaf_nodes=None,\n",
       "                       min_impurity_decrease=0.0, min_impurity_split=None,\n",
       "                       min_samples_leaf=1, min_samples_split=2,\n",
       "                       min_weight_fraction_leaf=0.0, n_estimators=100,\n",
       "                       n_jobs=-1, oob_score=False, random_state=0, verbose=True,\n",
       "                       warm_start=False)"
      ]
     },
     "execution_count": 5,
     "metadata": {},
     "output_type": "execute_result"
    }
   ],
   "source": [
    "from sklearn.ensemble import RandomForestClassifier\n",
    "from sklearn.model_selection import train_test_split\n",
    "from sklearn.metrics import precision_recall_fscore_support as score\n",
    "\n",
    "rf = RandomForestClassifier(n_estimators=100, max_depth=None, n_jobs=-1, random_state=0,verbose=True)\n",
    "rf.fit(x_train,np.ravel(y_train))"
   ]
  },
  {
   "cell_type": "code",
   "execution_count": 6,
   "metadata": {},
   "outputs": [
    {
     "name": "stderr",
     "output_type": "stream",
     "text": [
      "[Parallel(n_jobs=4)]: Using backend ThreadingBackend with 4 concurrent workers.\n",
      "[Parallel(n_jobs=4)]: Done  42 tasks      | elapsed:    0.4s\n",
      "[Parallel(n_jobs=4)]: Done 100 out of 100 | elapsed:    0.8s finished\n"
     ]
    },
    {
     "data": {
      "text/plain": [
       "0.9957334850316433"
      ]
     },
     "execution_count": 6,
     "metadata": {},
     "output_type": "execute_result"
    }
   ],
   "source": [
    "rf.score(x_train,np.ravel(y_train))"
   ]
  },
  {
   "cell_type": "code",
   "execution_count": 7,
   "metadata": {},
   "outputs": [
    {
     "name": "stderr",
     "output_type": "stream",
     "text": [
      "[Parallel(n_jobs=4)]: Using backend ThreadingBackend with 4 concurrent workers.\n",
      "[Parallel(n_jobs=4)]: Done  42 tasks      | elapsed:    0.2s\n",
      "[Parallel(n_jobs=4)]: Done 100 out of 100 | elapsed:    0.4s finished\n"
     ]
    },
    {
     "data": {
      "text/plain": [
       "0.840443686006826"
      ]
     },
     "execution_count": 7,
     "metadata": {},
     "output_type": "execute_result"
    }
   ],
   "source": [
    "rf.score(x_test,np.ravel(y_test))"
   ]
  },
  {
   "cell_type": "code",
   "execution_count": 31,
   "metadata": {
    "scrolled": true
   },
   "outputs": [
    {
     "data": {
      "text/plain": [
       "OneHotEncoder(categorical_features=None, categories=None, drop=None,\n",
       "              dtype=<class 'numpy.float64'>, handle_unknown='error',\n",
       "              n_values=None, sparse=True)"
      ]
     },
     "execution_count": 31,
     "metadata": {},
     "output_type": "execute_result"
    },
    {
     "name": "stdout",
     "output_type": "stream",
     "text": [
      "(14063, 9)\n",
      "(4688, 9)\n",
      "Train on 14063 samples, validate on 4688 samples\n",
      "Epoch 1/50\n",
      "14063/14063 [==============================] - 8s 558us/step - loss: 1.9448 - acc: 0.4622 - val_loss: 1.5877 - val_acc: 0.4731\n",
      "Epoch 2/50\n",
      "14063/14063 [==============================] - 7s 522us/step - loss: 1.3867 - acc: 0.4696 - val_loss: 1.2842 - val_acc: 0.4731\n",
      "Epoch 3/50\n",
      "14063/14063 [==============================] - 7s 518us/step - loss: 1.1720 - acc: 0.4830 - val_loss: 1.1494 - val_acc: 0.4964\n",
      "Epoch 4/50\n",
      "14063/14063 [==============================] - 7s 517us/step - loss: 1.0400 - acc: 0.5038 - val_loss: 1.0675 - val_acc: 0.5028\n",
      "Epoch 5/50\n",
      "14063/14063 [==============================] - 8s 588us/step - loss: 0.9315 - acc: 0.5085 - val_loss: 0.9909 - val_acc: 0.5066\n",
      "Epoch 6/50\n",
      "14063/14063 [==============================] - 8s 589us/step - loss: 0.8024 - acc: 0.5547 - val_loss: 0.8985 - val_acc: 0.6246\n",
      "Epoch 7/50\n",
      "14063/14063 [==============================] - 8s 584us/step - loss: 0.6406 - acc: 0.7328 - val_loss: 0.8191 - val_acc: 0.6856\n",
      "Epoch 8/50\n",
      "14063/14063 [==============================] - 8s 583us/step - loss: 0.4919 - acc: 0.8288 - val_loss: 0.7673 - val_acc: 0.7581\n",
      "Epoch 9/50\n",
      "14063/14063 [==============================] - 8s 587us/step - loss: 0.3657 - acc: 0.9039 - val_loss: 0.7370 - val_acc: 0.7871\n",
      "Epoch 10/50\n",
      "14063/14063 [==============================] - 8s 588us/step - loss: 0.2593 - acc: 0.9414 - val_loss: 0.7208 - val_acc: 0.8031\n",
      "Epoch 11/50\n",
      "14063/14063 [==============================] - 8s 585us/step - loss: 0.1870 - acc: 0.9630 - val_loss: 0.7409 - val_acc: 0.8074\n",
      "Epoch 12/50\n",
      "14063/14063 [==============================] - 8s 585us/step - loss: 0.1453 - acc: 0.9706 - val_loss: 0.7640 - val_acc: 0.8108\n",
      "Epoch 13/50\n",
      "14063/14063 [==============================] - 8s 594us/step - loss: 0.1190 - acc: 0.9766 - val_loss: 0.7869 - val_acc: 0.8146\n",
      "Epoch 14/50\n",
      "14063/14063 [==============================] - 8s 591us/step - loss: 0.1009 - acc: 0.9799 - val_loss: 0.8118 - val_acc: 0.8161\n",
      "Epoch 15/50\n",
      "14063/14063 [==============================] - 8s 584us/step - loss: 0.0878 - acc: 0.9809 - val_loss: 0.8372 - val_acc: 0.8153\n",
      "Epoch 16/50\n",
      "14063/14063 [==============================] - 8s 588us/step - loss: 0.0784 - acc: 0.9825 - val_loss: 0.8500 - val_acc: 0.8180\n",
      "Epoch 17/50\n",
      "14063/14063 [==============================] - 8s 592us/step - loss: 0.0701 - acc: 0.9843 - val_loss: 0.8754 - val_acc: 0.8166\n",
      "Epoch 18/50\n",
      "14063/14063 [==============================] - 8s 589us/step - loss: 0.0644 - acc: 0.9844 - val_loss: 0.8836 - val_acc: 0.8170\n",
      "Epoch 19/50\n",
      "14063/14063 [==============================] - 8s 602us/step - loss: 0.0593 - acc: 0.9854 - val_loss: 0.9047 - val_acc: 0.8166\n",
      "Epoch 20/50\n",
      "14063/14063 [==============================] - 8s 601us/step - loss: 0.0547 - acc: 0.9856 - val_loss: 0.9140 - val_acc: 0.8170\n",
      "Epoch 21/50\n",
      "14063/14063 [==============================] - 8s 585us/step - loss: 0.0510 - acc: 0.9864 - val_loss: 0.9321 - val_acc: 0.8183\n",
      "Epoch 22/50\n",
      "14063/14063 [==============================] - 8s 593us/step - loss: 0.0483 - acc: 0.9866 - val_loss: 0.9377 - val_acc: 0.8148\n",
      "Epoch 23/50\n",
      "14063/14063 [==============================] - 8s 583us/step - loss: 0.0452 - acc: 0.9871 - val_loss: 0.9533 - val_acc: 0.8151\n",
      "Epoch 24/50\n",
      "14063/14063 [==============================] - 8s 589us/step - loss: 0.0433 - acc: 0.9868 - val_loss: 0.9582 - val_acc: 0.8174\n",
      "Epoch 25/50\n",
      "14063/14063 [==============================] - 7s 494us/step - loss: 0.0403 - acc: 0.9879 - val_loss: 0.9777 - val_acc: 0.8172\n",
      "Epoch 26/50\n",
      "14063/14063 [==============================] - 7s 499us/step - loss: 0.0384 - acc: 0.9889 - val_loss: 0.9886 - val_acc: 0.8178\n",
      "Epoch 27/50\n",
      "14063/14063 [==============================] - 255s 18ms/step - loss: 0.0367 - acc: 0.9901 - val_loss: 0.9913 - val_acc: 0.8161\n",
      "Epoch 28/50\n",
      "14063/14063 [==============================] - 12s 864us/step - loss: 0.0347 - acc: 0.9908 - val_loss: 1.0072 - val_acc: 0.8151\n",
      "Epoch 29/50\n",
      "14063/14063 [==============================] - 9s 651us/step - loss: 0.0333 - acc: 0.9906 - val_loss: 1.0056 - val_acc: 0.8148\n",
      "Epoch 30/50\n",
      "14063/14063 [==============================] - 9s 624us/step - loss: 0.0317 - acc: 0.9913 - val_loss: 1.0207 - val_acc: 0.8168\n",
      "Epoch 31/50\n",
      "14063/14063 [==============================] - 9s 618us/step - loss: 0.0301 - acc: 0.9910 - val_loss: 1.0208 - val_acc: 0.8144\n",
      "Epoch 32/50\n",
      "14063/14063 [==============================] - 9s 615us/step - loss: 0.0294 - acc: 0.9918 - val_loss: 1.0364 - val_acc: 0.8157\n",
      "Epoch 33/50\n",
      "14063/14063 [==============================] - 9s 651us/step - loss: 0.0282 - acc: 0.9915 - val_loss: 1.0375 - val_acc: 0.8168\n",
      "Epoch 34/50\n",
      "14063/14063 [==============================] - 9s 626us/step - loss: 0.0271 - acc: 0.9921 - val_loss: 1.0485 - val_acc: 0.8153\n",
      "Epoch 35/50\n",
      "14063/14063 [==============================] - 9s 627us/step - loss: 0.0260 - acc: 0.9925 - val_loss: 1.0519 - val_acc: 0.8153\n",
      "Epoch 36/50\n",
      "14063/14063 [==============================] - 10s 729us/step - loss: 0.0251 - acc: 0.9920 - val_loss: 1.0742 - val_acc: 0.8148\n",
      "Epoch 37/50\n",
      "14063/14063 [==============================] - 10s 721us/step - loss: 0.0245 - acc: 0.9924 - val_loss: 1.0708 - val_acc: 0.8153\n",
      "Epoch 38/50\n",
      "14063/14063 [==============================] - 9s 605us/step - loss: 0.0240 - acc: 0.9922 - val_loss: 1.0853 - val_acc: 0.8168\n",
      "Epoch 39/50\n",
      "14063/14063 [==============================] - 9s 615us/step - loss: 0.0233 - acc: 0.9927 - val_loss: 1.0838 - val_acc: 0.8159\n",
      "Epoch 40/50\n",
      "14063/14063 [==============================] - 9s 614us/step - loss: 0.0226 - acc: 0.9921 - val_loss: 1.0864 - val_acc: 0.8153\n",
      "Epoch 41/50\n",
      "14063/14063 [==============================] - 9s 611us/step - loss: 0.0222 - acc: 0.9930 - val_loss: 1.0960 - val_acc: 0.8172\n",
      "Epoch 42/50\n",
      "14063/14063 [==============================] - 9s 610us/step - loss: 0.0214 - acc: 0.9926 - val_loss: 1.1173 - val_acc: 0.8163\n",
      "Epoch 43/50\n",
      "14063/14063 [==============================] - 9s 617us/step - loss: 0.0213 - acc: 0.9927 - val_loss: 1.1173 - val_acc: 0.8161\n",
      "Epoch 44/50\n",
      "14063/14063 [==============================] - 9s 620us/step - loss: 0.0202 - acc: 0.9933 - val_loss: 1.1147 - val_acc: 0.8159\n",
      "Epoch 45/50\n",
      "14063/14063 [==============================] - 9s 623us/step - loss: 0.0200 - acc: 0.9933 - val_loss: 1.1304 - val_acc: 0.8187\n",
      "Epoch 46/50\n",
      "14063/14063 [==============================] - 9s 625us/step - loss: 0.0198 - acc: 0.9931 - val_loss: 1.1242 - val_acc: 0.8172\n",
      "Epoch 47/50\n",
      "14063/14063 [==============================] - 10s 701us/step - loss: 0.0194 - acc: 0.9932 - val_loss: 1.1391 - val_acc: 0.8174\n",
      "Epoch 48/50\n",
      "14063/14063 [==============================] - 10s 696us/step - loss: 0.0190 - acc: 0.9932 - val_loss: 1.1299 - val_acc: 0.8168\n",
      "Epoch 49/50\n",
      "14063/14063 [==============================] - 9s 634us/step - loss: 0.0193 - acc: 0.9934 - val_loss: 1.1420 - val_acc: 0.8174\n",
      "Epoch 50/50\n",
      "14063/14063 [==============================] - 9s 673us/step - loss: 0.0187 - acc: 0.9932 - val_loss: 1.1494 - val_acc: 0.8198\n",
      "14063/14063 [==============================] - 6s 450us/step\n"
     ]
    },
    {
     "data": {
      "text/plain": [
       "[0.015990939652399557, 0.9946668562937926]"
      ]
     },
     "execution_count": 31,
     "metadata": {},
     "output_type": "execute_result"
    },
    {
     "name": "stdout",
     "output_type": "stream",
     "text": [
      "4688/4688 [==============================] - 2s 478us/step\n"
     ]
    },
    {
     "data": {
      "text/plain": [
       "[1.1494187650369296, 0.8197525597269625]"
      ]
     },
     "execution_count": 31,
     "metadata": {},
     "output_type": "execute_result"
    }
   ],
   "source": [
    "# prepare data for tensorflow multi labels\n",
    "from sklearn import preprocessing\n",
    "\n",
    "enc = preprocessing.OneHotEncoder()\n",
    "\n",
    "# 2. FIT\n",
    "enc.fit(y_train)\n",
    "\n",
    "# 3. Transform\n",
    "onehotlabels_train = enc.transform(y_train)\n",
    "onehotlabels_test = enc.transform(y_test)\n",
    "print(onehotlabels_train.shape)\n",
    "print(onehotlabels_test.shape)\n",
    "\n",
    "from keras.models import Sequential\n",
    "from keras.layers import Dense\n",
    "\n",
    "# create model\n",
    "model = Sequential()\n",
    "model.add(Dense(4, input_shape = (x_train.shape[1],), activation='relu'))\n",
    "model.add(Dense(6, activation='relu'))\n",
    "model.add(Dense(8, activation='relu'))\n",
    "model.add(Dense(onehotlabels_train.shape[1], activation='softmax'))\n",
    "\n",
    "# Compile model\n",
    "model.compile(loss='categorical_crossentropy', optimizer=keras.optimizers.Adam(lr=0.0008), metrics=['accuracy'])\n",
    "history = model.fit(x_train, onehotlabels_train, epochs=50, batch_size=100, \\\n",
    "         validation_data=(x_test, onehotlabels_test))\n",
    "\n",
    "model.evaluate(x_train, onehotlabels_train)\n",
    "model.evaluate(x_test, onehotlabels_test)\n"
   ]
  },
  {
   "cell_type": "code",
   "execution_count": 33,
   "metadata": {},
   "outputs": [],
   "source": [
    "from keras.models import load_model\n",
    "\n",
    "# Creates a HDF5 file 'my_model.h5'\n",
    "#model.save('nlp_dnn.h5')\n",
    "\n",
    "# Deletes the existing model\n",
    "#del model  \n",
    "\n",
    "# Returns a compiled model identical to the previous one\n",
    "#model = load_model('nlp_dnn.h5')"
   ]
  },
  {
   "cell_type": "code",
   "execution_count": 34,
   "metadata": {
    "scrolled": true
   },
   "outputs": [
    {
     "name": "stdout",
     "output_type": "stream",
     "text": [
      "[[  49    6    0   18   10    1    0    3    4]\n",
      " [   3  138    0   15   24    4    6    3    4]\n",
      " [   0    0   12    0    0    0    0    8    1]\n",
      " [   6    3    0 1988   23    1  162   11   24]\n",
      " [   2    5    0   12  112    0    3    3    3]\n",
      " [   6    9    0    6    5  106    0    4    0]\n",
      " [   3    3    0  158   11    0 1023    1   71]\n",
      " [   4    0    2   14   11    0   10  117   30]\n",
      " [   1    1    0   30    5    2   83    7  298]]\n"
     ]
    }
   ],
   "source": [
    "pred = model.predict_classes(x_test)\n",
    "matrix = metrics.confusion_matrix(onehotlabels_test.argmax(axis=1), pred)\n",
    "print(matrix)"
   ]
  },
  {
   "cell_type": "code",
   "execution_count": 35,
   "metadata": {},
   "outputs": [
    {
     "data": {
      "text/plain": [
       "[<matplotlib.lines.Line2D at 0x1c75e330b8>]"
      ]
     },
     "execution_count": 35,
     "metadata": {},
     "output_type": "execute_result"
    },
    {
     "data": {
      "text/plain": [
       "[<matplotlib.lines.Line2D at 0x1c7390a630>]"
      ]
     },
     "execution_count": 35,
     "metadata": {},
     "output_type": "execute_result"
    },
    {
     "data": {
      "text/plain": [
       "Text(0.5, 1.0, 'Model accuracy')"
      ]
     },
     "execution_count": 35,
     "metadata": {},
     "output_type": "execute_result"
    },
    {
     "data": {
      "text/plain": [
       "Text(0, 0.5, 'Accuracy')"
      ]
     },
     "execution_count": 35,
     "metadata": {},
     "output_type": "execute_result"
    },
    {
     "data": {
      "text/plain": [
       "Text(0.5, 0, 'Epoch')"
      ]
     },
     "execution_count": 35,
     "metadata": {},
     "output_type": "execute_result"
    },
    {
     "data": {
      "text/plain": [
       "<matplotlib.legend.Legend at 0x1c75e1abe0>"
      ]
     },
     "execution_count": 35,
     "metadata": {},
     "output_type": "execute_result"
    },
    {
     "data": {
      "image/png": "[encoded data removed]",
      "text/plain": [
       "<Figure size 432x288 with 1 Axes>"
      ]
     },
     "metadata": {
      "needs_background": "light"
     },
     "output_type": "display_data"
    }
   ],
   "source": [
    "# plotting training and validation accuracy\n",
    "plt.plot(history.history['acc'])\n",
    "plt.plot(history.history['val_acc'])\n",
    "plt.title('Model accuracy')\n",
    "plt.ylabel('Accuracy')\n",
    "plt.xlabel('Epoch')\n",
    "plt.legend(['Train','Test'])"
   ]
  },
  {
   "cell_type": "code",
   "execution_count": 30,
   "metadata": {},
   "outputs": [],
   "source": [
    "# from keras import Sequential\n",
    "# from keras.layers import LSTM\n",
    "\n",
    "# model = Sequential()\n",
    "# model.add(LSTM(units=6, input_shape = x_train.shape[1:], return_sequences = True))\n",
    "# model.add(LSTM(units=6, return_sequences=True))\n",
    "# model.add(LSTM(units=6, return_sequences=True))\n",
    "# model.add(LSTM(units=1, return_sequences=True, name='output'))\n",
    "# model.compile(loss='cosine_proximity', optimizer='sgd', metrics = ['accuracy'])\n",
    "\n",
    "# print(model.summary())\n",
    "\n",
    "# model.fit(x_train, y_train, epochs=1, verbose=1)"
   ]
  },
  {
   "cell_type": "code",
   "execution_count": null,
   "metadata": {},
   "outputs": [],
   "source": []
  }
 ],
 "metadata": {
  "kernelspec": {
   "display_name": "Python 3",
   "language": "python",
   "name": "python3"
  },
  "language_info": {
   "codemirror_mode": {
    "name": "ipython",
    "version": 3
   },
   "file_extension": ".py",
   "mimetype": "text/x-python",
   "name": "python",
   "nbconvert_exporter": "python",
   "pygments_lexer": "ipython3",
   "version": "3.6.8"
  }
 },
 "nbformat": 4,
 "nbformat_minor": 2
}
